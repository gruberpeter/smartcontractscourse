{
 "cells": [
  {
   "cell_type": "markdown",
   "metadata": {},
   "source": [
    "# Python Exercises – solutions\n",
    "#### 02.3 Writing Smart Contracts\n",
    "##### Peter Gruber (peter.gruber@usi.ch)\n",
    "2022-01-22\n",
    "* Exercises for basic Python operations"
   ]
  },
  {
   "cell_type": "markdown",
   "metadata": {},
   "source": [
    "### Exercise 1\n",
    "Perform the follwoing calculations, where $\\ln()$ stands for the natural logarithm and $e$ is the Euler number.\n",
    "\n",
    "$(a)\\; \\sqrt[3]{17} \\qquad (b)\\; 12^{2\\cdot3} \\qquad (c)\\; \\frac{16\\cdot\\ln(2)}{8-\\sqrt{2}}$"
   ]
  },
  {
   "cell_type": "code",
   "execution_count": 1,
   "metadata": {},
   "outputs": [
    {
     "name": "stdout",
     "output_type": "stream",
     "text": [
      "2.571281590658235\n",
      "2985984\n",
      "1.683983377534996\n"
     ]
    }
   ],
   "source": [
    "# Python code goes here\n",
    "import math\n",
    "print(17**(1/3))\n",
    "print(12**(2*3))\n",
    "print( (16*math.log(2))/(8-math.sqrt(2)) )"
   ]
  },
  {
   "cell_type": "markdown",
   "metadata": {},
   "source": [
    "### Exercise 2\n",
    "Formulate the following conditions in Python\n",
    "* `a` is smaller than 2 and `b` is larger than 5\n",
    "* `a` is between (including) -2 and (including) 5\n",
    "* either `a` is positive or `b` is between (excluding) -1 and (excluding) 1\n",
    "* the sum of `a`, `b` and `c` is smaller than the product of `a`, `b` and `c`"
   ]
  },
  {
   "cell_type": "code",
   "execution_count": 2,
   "metadata": {},
   "outputs": [],
   "source": [
    "# define a,b,c to avoid errors\n",
    "a = 2\n",
    "b = 5\n",
    "c = 3"
   ]
  },
  {
   "cell_type": "code",
   "execution_count": 3,
   "metadata": {},
   "outputs": [
    {
     "data": {
      "text/plain": [
       "True"
      ]
     },
     "execution_count": 3,
     "metadata": {},
     "output_type": "execute_result"
    }
   ],
   "source": [
    "# Python code goes here\n",
    "a<5 and b>5\n",
    "-2 <= a and a<=5\n",
    "-2 <= a <= 5        # alternative\n",
    "a>0 or abs(b)<1\n",
    "a+b+c < a*b*c"
   ]
  },
  {
   "cell_type": "markdown",
   "metadata": {},
   "source": [
    "### Exercise 3\n",
    "Create a new list `mysquares` that contains the squared of every element of the list `mynumbers`"
   ]
  },
  {
   "cell_type": "code",
   "execution_count": 4,
   "metadata": {},
   "outputs": [
    {
     "name": "stdout",
     "output_type": "stream",
     "text": [
      "[1, 6.25, 49, 324, 100000000000000.0]\n"
     ]
    }
   ],
   "source": [
    "mynumbers = [1, 2.5, 7, 18, 1E7]\n",
    "# Python code goes here\n",
    "mysquares = [mynumber**2 for mynumber in mynumbers]\n",
    "print(mysquares)"
   ]
  },
  {
   "cell_type": "markdown",
   "metadata": {},
   "source": [
    "### Exercise 4\n",
    "You want to split 16 Dollars like this: 1/2 for Alice, 1/4 for Bob and 1/8 each for Charlie and Dina.\n",
    "\n",
    "* Store the results in a dictionary that express *entire* Dollars.\n",
    "* Store the results in a dictionary that expresses Cents."
   ]
  },
  {
   "cell_type": "code",
   "execution_count": 5,
   "metadata": {},
   "outputs": [
    {
     "name": "stdout",
     "output_type": "stream",
     "text": [
      "{'Alice': 7, 'Bob': 3, 'Charlie': 1, 'Dina': 1}\n",
      "{'Alice': 750, 'Bob': 375, 'Charlie': 187, 'Dina': 187}\n"
     ]
    }
   ],
   "source": [
    "# Python code goes here\n",
    "total = 15\n",
    "totalCents = total * 1e2\n",
    "dollars = { 'Alice' : int(total/2), 'Bob' : int(total/4), \n",
    "            'Charlie' : int(total/8), 'Dina':  int(total /8) }\n",
    "cents = { 'Alice' : int(totalCents/2), 'Bob' : int(totalCents/4), \n",
    "            'Charlie' : int(totalCents/8), 'Dina':  int(totalCents /8) }\n",
    "print(dollars)\n",
    "print(cents)"
   ]
  },
  {
   "cell_type": "markdown",
   "metadata": {},
   "source": [
    "### Exercise 5\n",
    "Answer the following questions using (clever) iteger arithmetic. If you change the unit of measurement, add it as a comment.\n",
    "* Two kilos of oranges are split among 5 people. How much does everyone get?\n",
    "* Seven people pay CHF 265 for dinner. How much does everyone have to pay? "
   ]
  },
  {
   "cell_type": "code",
   "execution_count": 6,
   "metadata": {},
   "outputs": [
    {
     "name": "stdout",
     "output_type": "stream",
     "text": [
      "400\n",
      "3786\n"
     ]
    }
   ],
   "source": [
    "# Python code goes here\n",
    "# (a) express in grams\n",
    "per_person = int(2*1000/5)\n",
    "print(per_person)\n",
    "# (b) express in cents\n",
    "import math\n",
    "per_person = math.ceil(265*100/7)\n",
    "print(per_person)"
   ]
  },
  {
   "cell_type": "markdown",
   "metadata": {},
   "source": [
    "### Exercise 6\n",
    "Express 1 Million as integer number. Do not use the `0`"
   ]
  },
  {
   "cell_type": "code",
   "execution_count": 7,
   "metadata": {},
   "outputs": [
    {
     "data": {
      "text/plain": [
       "1000000"
      ]
     },
     "execution_count": 7,
     "metadata": {},
     "output_type": "execute_result"
    }
   ],
   "source": [
    "# Python code goes here\n",
    "int(1e6)"
   ]
  },
  {
   "cell_type": "markdown",
   "metadata": {},
   "source": [
    "### Exercise 7\n",
    "The list `mywords` contains several words. Create a new list `shortwords` that contains only the first four letters of each word in `mywords`.\n",
    "\n",
    "**Hint** getting the \"first four letters\" of a word is similar to the \"first four elements of a list\". Maybe try this part without a list first."
   ]
  },
  {
   "cell_type": "code",
   "execution_count": 8,
   "metadata": {},
   "outputs": [
    {
     "data": {
      "text/plain": [
       "['appl', 'oran', 'bana', 'toma', 'sala']"
      ]
     },
     "execution_count": 8,
     "metadata": {},
     "output_type": "execute_result"
    }
   ],
   "source": [
    "mywords = ['apple','orange','banana','tomatoe','salad']\n",
    "# Python code goes here\n",
    "shortwords = [word[0:4] for word in mywords]\n",
    "shortwords"
   ]
  }
 ],
 "metadata": {
  "kernelspec": {
   "display_name": "Python 3 (ipykernel)",
   "language": "python",
   "name": "python3"
  },
  "language_info": {
   "codemirror_mode": {
    "name": "ipython",
    "version": 3
   },
   "file_extension": ".py",
   "mimetype": "text/x-python",
   "name": "python",
   "nbconvert_exporter": "python",
   "pygments_lexer": "ipython3",
   "version": "3.10.13"
  }
 },
 "nbformat": 4,
 "nbformat_minor": 4
}
