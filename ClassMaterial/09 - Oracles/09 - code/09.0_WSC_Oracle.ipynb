{
 "cells": [
  {
   "cell_type": "markdown",
   "metadata": {
    "tags": []
   },
   "source": [
    "## A stateless oracle: introduction\n",
    "#### 09.0 Winter School on Smart Contracts\n",
    "##### Peter Gruber (peter.gruber@usi.ch)\n",
    "2022-03-24\n",
    "\n",
    "* Part 0: Theoretical introduction\n",
    "* Parts 1-4 are only relevant if you want to **create** an Oracle\n",
    "* Parts 5-6 are needed to **use** the oracle."
   ]
  },
  {
   "cell_type": "markdown",
   "metadata": {},
   "source": [
    "## Introduction\n",
    "The distincion between \"stateless\" and \"stateful\" smart contracts is often defined in such a way that\n",
    "* Stateless Smart Contracts only evaluate the merits of a proposed transaction (without interacting with the blockchain), while\n",
    "* Stateful Smart Contracts fully interact with the blockchain\n",
    "\n",
    "Strictly speaking, however, **there are no stateless payment transactions**. Every payment transaction must be checked against the blockchain against a possible overspend, which requires a look-up on the blockchain.\n",
    "\n",
    "In the following, we will show how this fact can be used to create an oracle that is based entirely on \"stateless\" smart contracts."
   ]
  },
  {
   "cell_type": "markdown",
   "metadata": {},
   "source": [
    "## Goal\n",
    "The goal of this chapter is to create an oracle that is completely on chain and does not use stateful smart contracts. The principle will be illustrated with an oracle for the ALGO-USD exchange rate, but the principle is not limited to exchange rate or trading assets."
   ]
  },
  {
   "cell_type": "markdown",
   "metadata": {},
   "source": [
    "## In a nutshell\n",
    "1. We create an Oracle coin and two accounts called `Price` and `Reserve`. \n",
    "1. The (external) oracle will rebalance the holdings of the account such that **the holdings of `Price` will reflect the USD/ALGO exchange rate**.\n",
    "2. We then create one Smart Signature for each `Price` and `Reserve` such that these accounts can transfer some or all of their coins exclusively to *themselves*.\n",
    "3. We  then create a Smart Signature for an exchange that uses the oracle to authorize atomic swaps that correctly reflect the exchange rate."
   ]
  },
  {
   "cell_type": "markdown",
   "metadata": {},
   "source": [
    "## Framework\n",
    "\n",
    "While a stateless contract (or transaction group of stateless contracts) has no access to the holdings of an address, all individual transaction amounts are available to all transactions in the transaction group. **The goal is hence to find a way to encode the holdings of an address in the form of a transaction amount.**\n",
    "\n",
    "Capital letters denote holdings and lower case letters denote amounts in asset transfer transactions.\n",
    "\n",
    "1. The supply of an ASA is fixed and known without referring to the blockchain, formally $$T = const$$\n",
    "2. If the creator of the ASA transfers all coins exclusively to two trusted accounts $P$ (\"price\") and $R$ (\"reserve\"), which are governed by smart contracts that only allow (a) transfers to oneself or (b) transfers to the other holding account, then their holdings add up to the total, fomally $$P + R = T$$\n",
    "3. Any payment amount must be smaller or equal to the total holding of the payer, formally $$p \\leq P$$ and $$r \\leq R$$\n",
    "4. The total amount transferred in one transaction group is hence $$p +r \\leq P + R = T$$\n",
    "5. If we now require (remembering $T=const$) $$p +r  = T,$$ then the inequalities become equalities and we have $$p =P$$ and $$r=R$$\n",
    "6. Hence the transaction amount $p$ reflects the holdings $P$. $\\square$\n",
    "\n",
    "**Remark:** Condition (5.) also ensures against a potential malicious actor $S$ obtaining some orscle coins."
   ]
  },
  {
   "cell_type": "markdown",
   "metadata": {},
   "source": [
    "#### The Smart Signature for the oracle\n",
    "The third line of the oracle_condition ensures that $p+r = T$"
   ]
  },
  {
   "cell_type": "code",
   "execution_count": null,
   "metadata": {},
   "outputs": [],
   "source": [
    "oracle_condition = And (\n",
    "    Gtxn[0].sender() == Addr(price_sig['public_addr']),                             # p \n",
    "    Gtxn[1].sender() == Addr(reserve_sig['public_addr']),                           # r\n",
    "    Gtxn[0].asset_amount() + Gtxn[1].asset_amount() == Int(int( 1e3 * 1e6 ))        # p + r = T (small units)\n",
    "    ) \n",
    "# safety conditions omitted for simplicity, see 09.6 for entire smart signature"
   ]
  },
  {
   "cell_type": "markdown",
   "metadata": {},
   "source": [
    "#### Using the oracle\n",
    "To use the oracle in an atomic swap, we need a transaction group of 4 transactions:\n",
    "* `Txn[0]` a transaction of the *Price* account with itself to obtain the price\n",
    "* `Txn[1]` a transaction of the *Reserve* account to verify the price\n",
    "    * Criterion: the amounts of `Txn[0]` and `Txn[1]` must add up exactly to the total supply of Oracle Coins\n",
    "* `Txn[2]` the ALGO transaction\n",
    "* `Txn[3]` the USDC transaction\n",
    "    * Criterion: the amounts of `Txn[2]` and `Txn[3]` must correctly reflect the exchange rate\n",
    "    * The exchange rate is obtained from `Txn[0]` \n",
    "\n",
    "**Note** transactions 0 and 1 are the oracle part, transactions 2 and 3 are the actual atomic swap\n",
    "\n",
    "\n"
   ]
  },
  {
   "cell_type": "code",
   "execution_count": null,
   "metadata": {},
   "outputs": [],
   "source": [
    "oracle_condition = And (\n",
    "    Gtxn[0].sender() == Addr(price_sig['public_addr']),                             # p \n",
    "    Gtxn[1].sender() == Addr(reserve_sig['public_addr']),                           # r\n",
    "    Gtxn[0].asset_amount() + Gtxn[1].asset_amount() == Int(int( 1e3 * 1e6 ))        # p + r = T (small units)\n",
    "    ) \n",
    "\n",
    "exchange_condition = And (\n",
    "    Gtxn[2].xfer_asset() == Int(0),                    # Txn2 is in ALGOs\n",
    "    Gtxn[3].xfer_asset() == Int(USDC_id),              # Txn3 is in USDC\n",
    "    # Exchange rate in small units (note: Algo, Oracle and USDC *all* have 6 decimals)\n",
    "    # Exchange rate is taken from Gtxn[0].asset_amount()\n",
    "    # ALGO_amount * USD_per_ALGO == USD_amount\n",
    "    Gtxn[2].amount() * Gtxn[0].asset_amount() / Int(int(1e6)) == Gtxn[3].asset_amount(),\n",
    ")\n",
    "\n",
    "# safety conditions omitted for simplicity, see 09.6 for entire smart signature\n",
    "exchange_pyteal = And(\n",
    "    exchange_condition,\n",
    "    oracle_condition,\n",
    "    safety_condition\n",
    "    )"
   ]
  },
  {
   "cell_type": "markdown",
   "metadata": {},
   "source": [
    "## Example\n",
    "A working example of the Oracle Coin, reflecting the USD/ALGO exchange rate can be found on the testnet:\n",
    "https://testnet.algoexplorer.io/asset/77534697"
   ]
  }
 ],
 "metadata": {
  "kernelspec": {
   "display_name": "Python 3",
   "language": "python",
   "name": "python3"
  },
  "language_info": {
   "codemirror_mode": {
    "name": "ipython",
    "version": 3
   },
   "file_extension": ".py",
   "mimetype": "text/x-python",
   "name": "python",
   "nbconvert_exporter": "python",
   "pygments_lexer": "ipython3",
   "version": "3.7.6"
  }
 },
 "nbformat": 4,
 "nbformat_minor": 5
}
