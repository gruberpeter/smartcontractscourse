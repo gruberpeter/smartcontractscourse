{
 "cells": [
  {
   "cell_type": "markdown",
   "id": "85368628",
   "metadata": {},
   "source": [
    "## Empirics\n",
    "#### 11.0 Winter School on Smart Contracts\n",
    "##### Peter Gruber (peter.gruber@usi.ch)\n",
    "2022-02-18"
   ]
  },
  {
   "cell_type": "markdown",
   "id": "f941947c",
   "metadata": {
    "pycharm": {
     "name": "#%% md\n"
    }
   },
   "source": [
    "## Setup"
   ]
  },
  {
   "cell_type": "code",
   "execution_count": null,
   "id": "a1bc659b",
   "metadata": {},
   "outputs": [],
   "source": [
    "from algosdk.v2client import algod\n",
    "from algosdk import mnemonic\n",
    "from algosdk import transaction\n",
    "from algosdk.v2client import indexer\n",
    "import json\n",
    "import requests\n",
    "import pandas as pd"
   ]
  },
  {
   "cell_type": "code",
   "execution_count": null,
   "id": "b10e317f",
   "metadata": {
    "tags": []
   },
   "outputs": [],
   "source": [
    "from pyteal import *"
   ]
  },
  {
   "cell_type": "code",
   "execution_count": null,
   "id": "f9a271d3",
   "metadata": {
    "tags": []
   },
   "outputs": [],
   "source": [
    "# Loading shared code and credentials\n",
    "import sys, os\n",
    "codepath = '..'+os.path.sep+'..'+os.path.sep+'sharedCode'\n",
    "sys.path.append(codepath)\n",
    "from algo_util import *\n",
    "cred = load_credentials()"
   ]
  },
  {
   "cell_type": "code",
   "execution_count": null,
   "id": "ef4f2637",
   "metadata": {
    "tags": []
   },
   "outputs": [],
   "source": [
    "# Initialize the algod client (Testnet or Mainnet)\n",
    "algod_client = algod.AlgodClient(algod_token='', algod_address=cred['algod_test'], headers=cred['purestake_token'])"
   ]
  },
  {
   "cell_type": "markdown",
   "id": "79dfc128",
   "metadata": {},
   "source": [
    "## Transaction types\n",
    "There are six types of transaction (only the first three are relevant):\n",
    "\n",
    "| Name                | json resp |\n",
    "|---------------------|-----------|\n",
    "| Payment             | \"pay\"     |\n",
    "| Asset Transfer      | \"axfer\"   |\n",
    "| Asset Configuration | \"acfg\"    |\n",
    "| Asset Freeze        | \"afrz\"    |\n",
    "| Application Call    | \"appl\"    |\n",
    "| Key Registration    | \"keyreg\"  |\n",
    "\n",
    "Ref: https://developer.algorand.org/docs/get-details/transactions/\n"
   ]
  },
  {
   "cell_type": "markdown",
   "id": "f8b21c1e",
   "metadata": {},
   "source": [
    "### Example step-by-step"
   ]
  },
  {
   "cell_type": "code",
   "execution_count": null,
   "id": "d12f36da",
   "metadata": {},
   "outputs": [],
   "source": [
    "url = 'https://mainnet-algorand.api.purestake.io/idx2/v2/blocks/18946778'"
   ]
  },
  {
   "cell_type": "code",
   "execution_count": null,
   "id": "f5d71a13",
   "metadata": {},
   "outputs": [],
   "source": [
    "# typical structure if dict used to make request\n",
    "# we can use cred['purestake_token'] that returns a dictionary itself\n",
    "\n",
    "r = requests.get(url = url, headers = cred['purestake_token'])\n",
    "data = r.json()"
   ]
  },
  {
   "cell_type": "code",
   "execution_count": null,
   "id": "42f52465",
   "metadata": {
    "tags": []
   },
   "outputs": [],
   "source": [
    "# If you are curious, uncomment this line\n",
    "data"
   ]
  },
  {
   "cell_type": "code",
   "execution_count": null,
   "id": "dbe362a0",
   "metadata": {},
   "outputs": [],
   "source": [
    "len(data['transactions']) # this is the number of all transaction in a block "
   ]
  },
  {
   "cell_type": "code",
   "execution_count": null,
   "id": "14ecb6da",
   "metadata": {},
   "outputs": [],
   "source": [
    "tx_type = {\n",
    "    'names' : ['Payment', 'Key Registration', 'Asset Configuration', 'Asset Freeze', 'Asset Transfer', 'Application Call'],\n",
    "    'json_resp' : ['pay', 'keyreg', 'acfg', 'afrz', 'axfer', 'appl']\n",
    "}"
   ]
  },
  {
   "cell_type": "code",
   "execution_count": null,
   "id": "9cb16522",
   "metadata": {},
   "outputs": [],
   "source": [
    "app = [x for x in data['transactions'] if x['tx-type'] == 'appl']\n",
    "payments = [x for x in data['transactions'] if x['tx-type'] == 'pay']"
   ]
  },
  {
   "cell_type": "code",
   "execution_count": null,
   "id": "3c19beb6",
   "metadata": {},
   "outputs": [],
   "source": [
    "print(len(app))\n",
    "print(len(payments))"
   ]
  },
  {
   "cell_type": "code",
   "execution_count": null,
   "id": "c359f854",
   "metadata": {},
   "outputs": [],
   "source": [
    "for k in tx_type['json_resp']:\n",
    "    list_ = [x for x in data['transactions'] if x['tx-type'] == k]\n",
    "    print('In this block there are {} {} transactions.'.format(len(list_), tx_type['names'][tx_type['json_resp'].index(k)]))"
   ]
  },
  {
   "cell_type": "markdown",
   "id": "2762e131",
   "metadata": {},
   "source": [
    "### Utility function for analyzing one block\n",
    "* Reads a block\n",
    "* Returns a dataframe"
   ]
  },
  {
   "cell_type": "code",
   "execution_count": null,
   "id": "27362134",
   "metadata": {},
   "outputs": [],
   "source": [
    "def tx_given_block(block_num, purestake_token):\n",
    "    \n",
    "    '''returns a DF containing the number of all 6 txs types given a block number.\n",
    "     a private key must be passed as argument'''\n",
    "    \n",
    "    df_block = pd.DataFrame()\n",
    "    df_block['Block_number'] = [block_num]\n",
    "    url = 'https://mainnet-algorand.api.purestake.io/idx2/v2/blocks/{}'.format(int(block_num))\n",
    "    r = requests.get(url = url, headers = purestake_token)\n",
    "    data = r.json()\n",
    "    \n",
    "    tx_type = {\n",
    "    'names' :     ['Payment', 'Key Registration', 'Asset Configuration', 'Asset Freeze', 'Asset Transfer', 'Application Call'],\n",
    "    'json_resp' : ['pay', 'keyreg', 'acfg', 'afrz', 'axfer', 'appl'] }\n",
    "    \n",
    "    for k in tx_type['json_resp']:\n",
    "        \n",
    "        list_ = [x for x in data['transactions'] if x['tx-type'] == k]\n",
    "        tx_name = tx_type['names'][tx_type['json_resp'].index(k)]\n",
    "        df_block[str(tx_name)] = [len(list_)]\n",
    "        \n",
    "    df_block['Total_txs'] = len(data['transactions'])\n",
    "    \n",
    "    return df_block"
   ]
  },
  {
   "cell_type": "code",
   "execution_count": null,
   "id": "bb35fb55",
   "metadata": {},
   "outputs": [],
   "source": [
    "tx_given_block(18946779, cred['purestake_token'])"
   ]
  },
  {
   "cell_type": "markdown",
   "id": "5cc44a9c",
   "metadata": {},
   "source": [
    "### Read 50 blocks starting from last block\n",
    "* Takes approx 25sec"
   ]
  },
  {
   "cell_type": "code",
   "execution_count": null,
   "id": "58a5faec",
   "metadata": {},
   "outputs": [],
   "source": [
    "result = pd.DataFrame()\n",
    "\n",
    "last_block = algod_client.status()[\"last-round\"]\n",
    "print(f\"Last committed block is: {last_block}\")\n",
    "\n",
    "starting_block = last_block\n",
    "ending_block = last_block-50\n",
    "\n",
    "for k in range(starting_block, ending_block):\n",
    "    result = result.append(tx_given_block(k, cred['purestake_token']))"
   ]
  },
  {
   "cell_type": "code",
   "execution_count": null,
   "id": "2a97bc08",
   "metadata": {
    "tags": []
   },
   "outputs": [],
   "source": [
    "# Drop the block number from dataframe\n",
    "result.drop('Block_number', axis= 1).mean()"
   ]
  },
  {
   "cell_type": "code",
   "execution_count": null,
   "id": "c473d8c5",
   "metadata": {},
   "outputs": [],
   "source": [
    "# Simplified plot from Pandas\n",
    "result.drop('Block_number', axis = 1).mean().plot.bar()"
   ]
  },
  {
   "cell_type": "markdown",
   "id": "57fa3477",
   "metadata": {},
   "source": [
    "## Assets in blocks\n",
    "\n",
    "- get all the transaction in a given block \n",
    "- divide them by asset\n",
    "- plot the shares of assets ( highlight USDT e ALGO ) "
   ]
  },
  {
   "cell_type": "markdown",
   "id": "b6fde977",
   "metadata": {},
   "source": [
    "### Example step-by-step"
   ]
  },
  {
   "cell_type": "code",
   "execution_count": null,
   "id": "121d0382",
   "metadata": {},
   "outputs": [],
   "source": [
    "url = 'https://mainnet-algorand.api.purestake.io/idx2/v2/blocks/18946778'"
   ]
  },
  {
   "cell_type": "code",
   "execution_count": null,
   "id": "291582cd",
   "metadata": {},
   "outputs": [],
   "source": [
    "r = requests.get(url = url, headers = cred['purestake_token'])\n",
    "data = r.json()"
   ]
  },
  {
   "cell_type": "code",
   "execution_count": null,
   "id": "248746aa",
   "metadata": {},
   "outputs": [],
   "source": [
    "all_txs_list = [x for x in data['transactions'] if x['tx-type'] == 'axfer']"
   ]
  },
  {
   "cell_type": "code",
   "execution_count": null,
   "id": "86e82e7d",
   "metadata": {},
   "outputs": [],
   "source": [
    "# to understand the structure of the obkect data['transactions']\n",
    "all_txs_list[0]['asset-transfer-transaction']['asset-id']"
   ]
  },
  {
   "cell_type": "code",
   "execution_count": null,
   "id": "5042b9b4",
   "metadata": {},
   "outputs": [],
   "source": [
    "asset_IDs = [all_txs_list[k]['asset-transfer-transaction']['asset-id'] for k in range(0,len(all_txs_list)) ]"
   ]
  },
  {
   "cell_type": "code",
   "execution_count": null,
   "id": "e3720d4e",
   "metadata": {
    "tags": []
   },
   "outputs": [],
   "source": [
    "# A lot of different assets. most of them with only 1 transaction (address that later)\n",
    "len(asset_IDs)"
   ]
  },
  {
   "cell_type": "markdown",
   "id": "8e789a21",
   "metadata": {},
   "source": [
    "### Utility function for analzing assets in a block\n",
    "- The function creates a dataframe usable along the code (e.g., loop)"
   ]
  },
  {
   "cell_type": "code",
   "execution_count": null,
   "id": "ae909a11",
   "metadata": {
    "tags": []
   },
   "outputs": [],
   "source": [
    "def assets_given_block(block_num, purestake_token):\n",
    "    \n",
    "    '''returns a DF containing the shares of assets given a block number.\n",
    "     a private key must be passed as argument'''\n",
    "    \n",
    "    df_block = pd.DataFrame()\n",
    "    df_block['Block_number'] = [block_num]\n",
    "    url = 'https://mainnet-algorand.api.purestake.io/idx2/v2/blocks/{}'.format(int(block_num))\n",
    "    r = requests.get(url = url, headers = purestake_token)\n",
    "    data = r.json()\n",
    "    \n",
    "    # ALGOs\n",
    "    all_txs_list = [x for x in data['transactions'] if x['tx-type'] == 'pay']\n",
    "    df_block['ALGO'] = len(all_txs_list)\n",
    "    \n",
    "    ## ASA \n",
    "    #create a list with all transaction \"asset transfer\" axfer\n",
    "    all_txs_list = [x for x in data['transactions'] if x['tx-type'] == 'axfer']\n",
    "    # Create a list with all assets ID\n",
    "    asset_IDs = [all_txs_list[k]['asset-transfer-transaction']['asset-id'] for k in range(0,len(all_txs_list)) ]\n",
    "    for k in set(asset_IDs):\n",
    "        df_block[str(k)] = asset_IDs.count(k)\n",
    "    \n",
    "\n",
    "    return df_block\n",
    "    "
   ]
  },
  {
   "cell_type": "code",
   "execution_count": null,
   "id": "4f5a189e",
   "metadata": {},
   "outputs": [],
   "source": [
    "assets_given_block(18946778, cred['purestake_token'])"
   ]
  },
  {
   "cell_type": "code",
   "execution_count": null,
   "id": "ff3e4f27",
   "metadata": {},
   "outputs": [],
   "source": [
    "result = pd.DataFrame()\n",
    "\n",
    "starting_block = 18946778\n",
    "ending_block = starting_block+10\n",
    "\n",
    "for k in range(starting_block, ending_block):\n",
    "    \n",
    "    result = result.append(assets_given_block(k, cred['purestake_token']))"
   ]
  },
  {
   "cell_type": "code",
   "execution_count": null,
   "id": "9bfa3559",
   "metadata": {
    "tags": []
   },
   "outputs": [],
   "source": [
    "# Drop the block number since there is no sense in computing the mean of these datapoints\n",
    "small_df = result.drop('Block_number', axis = 1).mean()\n",
    "#I want to plot all the asset id that are used more than once in the whole interval. \n",
    "small_df = small_df[small_df > 1]\n",
    "print(len(small_df))\n",
    "small_df.plot.bar()"
   ]
  },
  {
   "cell_type": "markdown",
   "id": "edb0f731",
   "metadata": {},
   "source": [
    "### Improvements\n",
    "- get a list of asset-id vs asset name -> ask\n",
    "- can I use matplotlib to change the x-label with the names of assets? or we just say that if someone want to know the name of the asset can use the function?"
   ]
  },
  {
   "cell_type": "markdown",
   "id": "50233cc7",
   "metadata": {},
   "source": [
    "#### List of assets from ID"
   ]
  },
  {
   "cell_type": "code",
   "execution_count": null,
   "id": "1f32a2e3",
   "metadata": {},
   "outputs": [],
   "source": [
    "url = 'https://mainnet-algorand.api.purestake.io/idx2/v2/assets/27165954'"
   ]
  },
  {
   "cell_type": "code",
   "execution_count": null,
   "id": "440fc93a",
   "metadata": {},
   "outputs": [],
   "source": [
    "r = requests.get(url = url, headers = cred['purestake_token'])\n",
    "data = r.json()"
   ]
  },
  {
   "cell_type": "markdown",
   "id": "b49450e9",
   "metadata": {},
   "source": [
    "### Util function to obtain asset names\n",
    "- Inputs one asset ID and purestake API key\n",
    "- Returns dict with asset info"
   ]
  },
  {
   "cell_type": "code",
   "execution_count": null,
   "id": "bb8399ca",
   "metadata": {},
   "outputs": [],
   "source": [
    "def name_asset_id(asset_id, purestake_token):\n",
    "    \n",
    "    '''returns a dictionary containing the name and the unit-name of assets given asset-id.\n",
    "     a private key must be passed as argument'''\n",
    "    \n",
    "    url = 'https://mainnet-algorand.api.purestake.io/idx2/v2/assets/{}'.format(int(asset_id))\n",
    "    \n",
    "   \n",
    "    r = requests.get(url = url, headers = purestake_token)\n",
    "    data = r.json()\n",
    "    \n",
    "    my_dict = {\n",
    "            'asset_id': asset_id,\n",
    "            'name': data['asset']['params']['name'],\n",
    "            'unit-name': data['asset']['params']['unit-name']\n",
    "            }\n",
    "    return my_dict"
   ]
  },
  {
   "cell_type": "code",
   "execution_count": null,
   "id": "2e50ebd8",
   "metadata": {
    "tags": []
   },
   "outputs": [],
   "source": [
    "name_asset_id(27165954,cred['purestake_token'])"
   ]
  },
  {
   "cell_type": "code",
   "execution_count": null,
   "id": "3d7388e9",
   "metadata": {},
   "outputs": [],
   "source": [
    "# Get the names of the assets in the DF\n",
    "# Starts from 2 because we know the first is always ALGO and then there is the block number\n",
    "\n",
    "# This takes 10/12 seconds\n",
    "names = []\n",
    "for k in result.columns[2:]:\n",
    "    names.append(name_asset_id(k,cred['purestake_token'])['unit-name'])"
   ]
  },
  {
   "cell_type": "code",
   "execution_count": null,
   "id": "e8261d26",
   "metadata": {},
   "outputs": [],
   "source": [
    "# If you are interested uncomment to see every name.\n",
    "# Names"
   ]
  },
  {
   "cell_type": "code",
   "execution_count": null,
   "id": "88f73b55",
   "metadata": {},
   "outputs": [],
   "source": [
    "plot_df = pd.DataFrame()"
   ]
  },
  {
   "cell_type": "code",
   "execution_count": null,
   "id": "0f195746",
   "metadata": {},
   "outputs": [],
   "source": [
    "plot_df['names'] = ['ALGO'] + names"
   ]
  },
  {
   "cell_type": "code",
   "execution_count": null,
   "id": "73072334",
   "metadata": {
    "tags": []
   },
   "outputs": [],
   "source": [
    "plot_df['average'] = list(result.drop('Block_number', axis = 1).mean())"
   ]
  },
  {
   "cell_type": "code",
   "execution_count": null,
   "id": "d9af1102",
   "metadata": {},
   "outputs": [],
   "source": [
    "plot_df[plot_df['average'] >1].plot.bar(x = 'names', y = 'average')"
   ]
  },
  {
   "cell_type": "code",
   "execution_count": null,
   "id": "59f2df6f",
   "metadata": {},
   "outputs": [],
   "source": []
  },
  {
   "cell_type": "code",
   "execution_count": null,
   "id": "9a930827",
   "metadata": {},
   "outputs": [],
   "source": []
  }
 ],
 "metadata": {
  "kernelspec": {
   "display_name": "Python 3",
   "language": "python",
   "name": "python3"
  },
  "language_info": {
   "codemirror_mode": {
    "name": "ipython",
    "version": 3
   },
   "file_extension": ".py",
   "mimetype": "text/x-python",
   "name": "python",
   "nbconvert_exporter": "python",
   "pygments_lexer": "ipython3",
   "version": "3.8.8"
  }
 },
 "nbformat": 4,
 "nbformat_minor": 5
}
