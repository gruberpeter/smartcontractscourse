{
 "cells": [
  {
   "cell_type": "markdown",
   "id": "86dc8df7",
   "metadata": {
    "tags": []
   },
   "source": [
    "## A stateless oracle: introduction\n",
    "#### 09.0 Winter School on Smart Contracts\n",
    "##### Peter Gruber (peter.gruber@usi.ch)\n",
    "2022-03-24\n",
    "\n",
    "* Part 0: Theoretical introduction\n",
    "* Parts 1-4 are only relevant if you want to **create** an Oracle\n",
    "* Parts 5-6 are needed to **use** the oracle."
   ]
  },
  {
   "cell_type": "markdown",
   "id": "b2f6648b-73bc-4907-9103-1b4d1dab2075",
   "metadata": {},
   "source": [
    "## Introduction\n",
    "The distincion between \"stateless\" and \"stateful\" smart contracts is often defined in such a way that\n",
    "* Stateless Smart Contracts only evaluate the merits of a proposed transaction (without interacting with the blockchain), while\n",
    "* Stateful Smart Contracts fully interact with the blockchain\n",
    "\n",
    "Strictly speaking, however, **there are no stateless payment transactions**. Every payment transaction must be checked against the blockchain against a possible overspend, which requires a look-up on the blockchain.\n",
    "\n",
    "In the following, we will show how this fact can be used to create an oracle that is based entirely on \"stateless\" smart contracts."
   ]
  },
  {
   "cell_type": "markdown",
   "id": "61ed5ec2-37e9-4d7a-b801-3634b66abde1",
   "metadata": {},
   "source": [
    "## Goal\n",
    "The goal of this chapter is to create an oracle that is completely on chain and does not use stateful smart contracts. The principle will be illustrated with an oracle for the ALGO-USD exchange rate, but the principle is not limited to exchange rate or trading assets."
   ]
  },
  {
   "cell_type": "markdown",
   "id": "a8023f95-8c92-4106-b16a-6394bbf2129f",
   "metadata": {},
   "source": [
    "## In a nutshell\n",
    "1. We create an Oracle coin and two accounts called `Price` and `Reserve`. \n",
    "1. The (external) oracle will rebalance the holdings of the account such that **the holdings of `Price` will reflect the USD/ALGO exchange rate**.\n",
    "2. We then create one Smart Signature for each `Price` and `Reserve` such that these accounts can transfer some or all of their coins exclusively to *themselves*.\n",
    "3. We  then create a Smart Signature for an exchange that uses the oracle to authorize atomic swaps that correctly reflect the exchange rate."
   ]
  },
  {
   "cell_type": "markdown",
   "id": "3b1fad8b-b134-4e3a-91a6-1547277b4686",
   "metadata": {},
   "source": [
    "## Framework\n",
    "\n",
    "While a stateless contract (or transaction group of stateless contracts) has no access to the holdings of an address, all individual transaction amounts are available to all transactions in the transaction group. **The goal is hence to find a way to encode the holdings of an address in the form of a transaction amount.**\n",
    "\n",
    "Capital letters denote holdings and lower case letters denote amounts in asset transfer transactions.\n",
    "\n",
    "1. The supply of an ASA is fixed and known without referring to the blockchain, formally $$T = const$$\n",
    "2. If the creator of the ASA transfers all coins exclusively to two trusted accounts $P$ (\"price\") and $R$ (\"reserve\"), which are governed by smart contracts that only allow (a) transfers to oneself or (b) transfers to the other holding account, then their holdings add up to the total, fomally $$P + R = T$$\n",
    "3. Any payment amount must be smaller or equal to the total holding of the payer, formally $$p \\leq P$$ and $$r \\leq R$$\n",
    "4. The total amount transferred in one transaction group is hence $$p +r \\leq P + R = T$$\n",
    "5. If we now require (remembering $T=const$) $$p +r  = T,$$ then the inequalities become equalities and we have $$p =P$$ and $$r=R$$\n",
    "6. Hence the transaction amount $p$ reflects the holdings $P$. $\\square$\n",
    "\n",
    "**Remark:** Condition (5.) also ensures against a potential malicious actor $S$ obtaining some orscle coins."
   ]
  }
 ],
 "metadata": {
  "kernelspec": {
   "display_name": "Python 3",
   "language": "python",
   "name": "python3"
  },
  "language_info": {
   "codemirror_mode": {
    "name": "ipython",
    "version": 3
   },
   "file_extension": ".py",
   "mimetype": "text/x-python",
   "name": "python",
   "nbconvert_exporter": "python",
   "pygments_lexer": "ipython3",
   "version": "3.8.8"
  }
 },
 "nbformat": 4,
 "nbformat_minor": 5
}
