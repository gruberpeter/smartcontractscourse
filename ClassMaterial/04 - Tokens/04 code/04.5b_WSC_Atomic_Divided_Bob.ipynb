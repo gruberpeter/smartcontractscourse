{
 "cells": [
  {
   "cell_type": "markdown",
   "metadata": {},
   "source": [
    "## *The Remote Atomic Swap - Bob's code\n",
    "#### 04.5 Winter School on Smart Contracts\n",
    "##### Peter Gruber (peter.gruber@usi.ch)\n",
    "2022-02-04"
   ]
  },
  {
   "cell_type": "markdown",
   "metadata": {
    "tags": []
   },
   "source": [
    "### Setup $\\rightarrow$ note the differences\n",
    "See notebook 04.1, the lines below will always automatically load functions in `algo_util.py`, the five accounts and the Purestake credentials"
   ]
  },
  {
   "cell_type": "code",
   "execution_count": 1,
   "metadata": {},
   "outputs": [],
   "source": [
    "# Loading shared code and credentials\n",
    "import sys, os\n",
    "codepath = '..'+os.path.sep+'..'+os.path.sep+'sharedCode'\n",
    "sys.path.append(codepath)\n",
    "from algo_util import *\n",
    "cred = load_credentials()\n",
    "\n",
    "# >> HERE Only Bob is needed\n",
    "Bob    = cred['Bob']"
   ]
  },
  {
   "cell_type": "code",
   "execution_count": 2,
   "metadata": {},
   "outputs": [],
   "source": [
    "from algosdk import account, mnemonic\n",
    "from algosdk.v2client import algod\n",
    "from algosdk.future import transaction\n",
    "from algosdk.future.transaction import PaymentTxn\n",
    "import algosdk.error\n",
    "\n",
    "import json\n",
    "import base64"
   ]
  },
  {
   "cell_type": "markdown",
   "metadata": {},
   "source": [
    "##### No need for the algod_client\n",
    "* No direct communication with the blockchain!\n"
   ]
  },
  {
   "cell_type": "markdown",
   "metadata": {},
   "source": [
    "#### Step 1: Load the unsigned transaction\n",
    "* Need to undictify it using `PaymentTxn.undictify()`"
   ]
  },
  {
   "cell_type": "code",
   "execution_count": 3,
   "metadata": {},
   "outputs": [],
   "source": [
    "import pickle\n",
    "file = open(\"Bob_txn.txt\", 'rb')\n",
    "txn_2_data = pickle.load(file)\n",
    "\n",
    "txn_2 = PaymentTxn.undictify(txn_2_data)"
   ]
  },
  {
   "cell_type": "markdown",
   "metadata": {},
   "source": [
    "#### Step 2: Sign the transaction"
   ]
  },
  {
   "cell_type": "code",
   "execution_count": 4,
   "metadata": {},
   "outputs": [],
   "source": [
    "stxn_2 = txn_2.sign(Bob['private'])"
   ]
  },
  {
   "cell_type": "markdown",
   "metadata": {},
   "source": [
    "#### Step 3: Save the signed transaction in a differnt file\n",
    "* This file will be sent back to Alice"
   ]
  },
  {
   "cell_type": "code",
   "execution_count": 5,
   "metadata": {},
   "outputs": [],
   "source": [
    "stxn_2_data = stxn_2.dictify()\n",
    "file = open(\"Bob_signed.txt\", 'wb')  \n",
    "pickle.dump(stxn_2_data, file)\n",
    "file.close()"
   ]
  },
  {
   "cell_type": "markdown",
   "metadata": {},
   "source": [
    "## Appendix\n",
    "* What are we actually sending to Alice?\n",
    "* Is it safe?"
   ]
  },
  {
   "cell_type": "code",
   "execution_count": null,
   "metadata": {},
   "outputs": [],
   "source": [
    "stxn_2_data"
   ]
  },
  {
   "cell_type": "code",
   "execution_count": null,
   "metadata": {},
   "outputs": [],
   "source": [
    "# Compare the 'sig' field\n",
    "base64.b64encode(stxn_2_data['sig'])"
   ]
  },
  {
   "cell_type": "code",
   "execution_count": null,
   "metadata": {},
   "outputs": [],
   "source": [
    "# To Bob's private key\n",
    "Bob['private']"
   ]
  }
 ],
 "metadata": {
  "kernelspec": {
   "display_name": "Python 3",
   "language": "python",
   "name": "python3"
  },
  "language_info": {
   "codemirror_mode": {
    "name": "ipython",
    "version": 3
   },
   "file_extension": ".py",
   "mimetype": "text/x-python",
   "name": "python",
   "nbconvert_exporter": "python",
   "pygments_lexer": "ipython3",
   "version": "3.7.6"
  }
 },
 "nbformat": 4,
 "nbformat_minor": 5
}
