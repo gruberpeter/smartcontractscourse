{
 "cells": [
  {
   "cell_type": "markdown",
   "id": "8460b8e4",
   "metadata": {},
   "source": [
    "## Credentials\n",
    "#### 03.3Winter School on Smart Contracts\n",
    "##### Peter Gruber (peter.gruber@usi.ch)\n",
    "2022-01-20\n",
    "\n",
    "* Manage credentials in a Python Dict and save to local drive\n",
    "* Credentials will be used throghout the course, do not skip this part!"
   ]
  },
  {
   "cell_type": "markdown",
   "id": "b42826a9",
   "metadata": {},
   "source": [
    "## Set up Python dict with credentials as JSON\n",
    "**CAREFUL** it is suggested you ....\n",
    "* Run this code only once!"
   ]
  },
  {
   "cell_type": "code",
   "execution_count": 1,
   "id": "5137e317",
   "metadata": {},
   "outputs": [],
   "source": [
    "import os, json, algosdk\n",
    "from algosdk import account, mnemonic"
   ]
  },
  {
   "cell_type": "markdown",
   "id": "c6b6d1dd",
   "metadata": {},
   "source": [
    "### Create four accounts for future use\n",
    "The idea is to have four accounts ...\n",
    "* Alice is using Python and the mobile phone\n",
    "* Bob is mostly using Python\n",
    "* Charlie is making mistakes\n",
    "* Dina is the fourth agent, if we need one"
   ]
  },
  {
   "cell_type": "code",
   "execution_count": 2,
   "id": "641b8b55",
   "metadata": {},
   "outputs": [],
   "source": [
    "# from 03.1_WSC\n",
    "def generate_account_dict():\n",
    "    private_key = account.generate_account()[0]    # need [0], because generate_account() returns a list\n",
    "    acc = {}\n",
    "    acc['public'] = account.address_from_private_key(private_key)\n",
    "    acc['private'] = private_key\n",
    "    acc['mnemonic'] = mnemonic.from_private_key(private_key)\n",
    "    return acc"
   ]
  },
  {
   "cell_type": "code",
   "execution_count": 3,
   "id": "5369b8e4",
   "metadata": {},
   "outputs": [],
   "source": [
    "Alice = generate_account_dict()\n",
    "Bob   = generate_account_dict()\n",
    "Charlie = generate_account_dict()\n",
    "Dina   = generate_account_dict()"
   ]
  },
  {
   "cell_type": "code",
   "execution_count": 4,
   "id": "e197389e-02ef-4bbe-b430-c0ad9b904a2e",
   "metadata": {},
   "outputs": [
    {
     "data": {
      "text/plain": [
       "'silly try dad distance stock grab excuse clown antique volume trophy issue twist shuffle across genre comic athlete benefit amateur banana fiction artwork ability naive'"
      ]
     },
     "execution_count": 4,
     "metadata": {},
     "output_type": "execute_result"
    }
   ],
   "source": [
    "Alice['mnemonic']"
   ]
  },
  {
   "cell_type": "markdown",
   "id": "7ce5a7a0",
   "metadata": {},
   "source": [
    "### Add some additional credentials\n",
    "* Let us not only store private keys, but also API credentials"
   ]
  },
  {
   "cell_type": "code",
   "execution_count": 5,
   "id": "a26f50bb",
   "metadata": {},
   "outputs": [
    {
     "data": {
      "text/plain": [
       "{'algod_test': 'https://testnet-algorand.api.purestake.io/ps2',\n",
       " 'algod_main': 'https://mainnet-algorand.api.purestake.io/ps2',\n",
       " 'index_test': 'https://testnet-algorand.api.purestake.io/idx2',\n",
       " 'index_main': 'https://mainnet-algorand.api.purestake.io/idx2',\n",
       " 'purestake_token': {'X-Api-key': 'your_prurestake_token'},\n",
       " 'MyAlgo': {'public': 'your_public_address',\n",
       "  'private': 'your_private_key',\n",
       "  'passphrase': 'your_mnemonic'},\n",
       " 'Alice': {'public': 'OVDO2RM5LH4QQ5A5LDSBMQDY43ORYHS2S7WYBNIHCUYWZIHB6AU464QGHI',\n",
       "  'private': 'RX76bfoDa5XhCSxPcP3Ra8f1HUsAYXKJQyp6EAlXpSF1Ru1FnVn5CHQdWOQWQHjm3RweWpftgLUHFTFsoOHwKQ==',\n",
       "  'mnemonic': 'silly try dad distance stock grab excuse clown antique volume trophy issue twist shuffle across genre comic athlete benefit amateur banana fiction artwork ability naive'},\n",
       " 'Bob': {'public': 'GAEWCFJX3YC5GMBYT6HV7UMAOI6KEAOB6AJCDVSAGX5ZVGJCQBOC6XGZAA',\n",
       "  'private': 'eRJAR7NToGMbooQGIPZbBn+n+FRRRMg1WIn4VgkN6FgwCWEVN94F0zA4n49f0YByPKIBwfASIdZANfuamSKAXA==',\n",
       "  'mnemonic': 'execute able photo depth doll suggest awkward lucky absorb sudden combine vacant exclude dilemma melt dust ribbon general dwarf hurdle bargain addict shrug able artefact'},\n",
       " 'Charlie': {'public': '5NYXG7DVDASLI4QSRBYB6FPMQTX6MZOLLAMYL5TGVMMDLV34TZRG7VFMHM',\n",
       "  'private': 'gtfCf4c22+2W4nTQFicWR9TnxEyapCbHK80YY+KYIYnrcXN8dRgktHISiHAfFeyE7+Zly1gZhfZmqxg113yeYg==',\n",
       "  'mnemonic': 'utility area say half reopen rocket believe insane sure ordinary mention dutch soul couple sponsor pig tooth pyramid grief cover shadow great empower above gallery'},\n",
       " 'Dina': {'public': '3BMDDGUVRVGQ5TNPWASFCHHYZA34M2NCFQBEH2BBWYSRETT3NYK75QNCNE',\n",
       "  'private': 'Wa76ODxkel1mBI7VZAsv/mx1WEGBxcQvETngfOxwF8jYWDGalY1NDs2vsCRRHPjIN8ZpoiwCQ+ghtiUSTntuFQ==',\n",
       "  'mnemonic': 'sleep turkey broccoli duck visit nuclear case mix one collect bleak soup turn figure anxiety sheriff weasel dwarf broken sock suggest switch doll absorb rug'}}"
      ]
     },
     "execution_count": 5,
     "metadata": {},
     "output_type": "execute_result"
    }
   ],
   "source": [
    "cred = {'algod_test' : 'https://testnet-algorand.api.purestake.io/ps2',\n",
    "        'algod_main' : 'https://mainnet-algorand.api.purestake.io/ps2',\n",
    "        'index_test' : 'https://testnet-algorand.api.purestake.io/idx2',\n",
    "        'index_main' : 'https://mainnet-algorand.api.purestake.io/idx2',\n",
    "        'purestake_token' : {'X-Api-key': 'your_prurestake_token'},\n",
    "        'MyAlgo' : {'public' : 'your_public_address', 'private' : 'your_private_key', 'passphrase' : 'your_mnemonic'}\n",
    "        }\n",
    "cred[\"Alice\"] = Alice\n",
    "cred[\"Bob\"] = Bob\n",
    "cred[\"Charlie\"] = Charlie\n",
    "cred[\"Dina\"] = Dina\n",
    "cred"
   ]
  },
  {
   "cell_type": "markdown",
   "id": "77baaf44",
   "metadata": {},
   "source": [
    "### Convert to a nice JSON"
   ]
  },
  {
   "cell_type": "code",
   "execution_count": 6,
   "id": "e3861e00",
   "metadata": {},
   "outputs": [
    {
     "name": "stdout",
     "output_type": "stream",
     "text": [
      "{\n",
      "    \"algod_test\": \"https://testnet-algorand.api.purestake.io/ps2\",\n",
      "    \"algod_main\": \"https://mainnet-algorand.api.purestake.io/ps2\",\n",
      "    \"index_test\": \"https://testnet-algorand.api.purestake.io/idx2\",\n",
      "    \"index_main\": \"https://mainnet-algorand.api.purestake.io/idx2\",\n",
      "    \"purestake_token\": {\n",
      "        \"X-Api-key\": \"your_prurestake_token\"\n",
      "    },\n",
      "    \"MyAlgo\": {\n",
      "        \"public\": \"your_public_address\",\n",
      "        \"private\": \"your_private_key\",\n",
      "        \"passphrase\": \"your_mnemonic\"\n",
      "    },\n",
      "    \"Alice\": {\n",
      "        \"public\": \"OVDO2RM5LH4QQ5A5LDSBMQDY43ORYHS2S7WYBNIHCUYWZIHB6AU464QGHI\",\n",
      "        \"private\": \"RX76bfoDa5XhCSxPcP3Ra8f1HUsAYXKJQyp6EAlXpSF1Ru1FnVn5CHQdWOQWQHjm3RweWpftgLUHFTFsoOHwKQ==\",\n",
      "        \"mnemonic\": \"silly try dad distance stock grab excuse clown antique volume trophy issue twist shuffle across genre comic athlete benefit amateur banana fiction artwork ability naive\"\n",
      "    },\n",
      "    \"Bob\": {\n",
      "        \"public\": \"GAEWCFJX3YC5GMBYT6HV7UMAOI6KEAOB6AJCDVSAGX5ZVGJCQBOC6XGZAA\",\n",
      "        \"private\": \"eRJAR7NToGMbooQGIPZbBn+n+FRRRMg1WIn4VgkN6FgwCWEVN94F0zA4n49f0YByPKIBwfASIdZANfuamSKAXA==\",\n",
      "        \"mnemonic\": \"execute able photo depth doll suggest awkward lucky absorb sudden combine vacant exclude dilemma melt dust ribbon general dwarf hurdle bargain addict shrug able artefact\"\n",
      "    },\n",
      "    \"Charlie\": {\n",
      "        \"public\": \"5NYXG7DVDASLI4QSRBYB6FPMQTX6MZOLLAMYL5TGVMMDLV34TZRG7VFMHM\",\n",
      "        \"private\": \"gtfCf4c22+2W4nTQFicWR9TnxEyapCbHK80YY+KYIYnrcXN8dRgktHISiHAfFeyE7+Zly1gZhfZmqxg113yeYg==\",\n",
      "        \"mnemonic\": \"utility area say half reopen rocket believe insane sure ordinary mention dutch soul couple sponsor pig tooth pyramid grief cover shadow great empower above gallery\"\n",
      "    },\n",
      "    \"Dina\": {\n",
      "        \"public\": \"3BMDDGUVRVGQ5TNPWASFCHHYZA34M2NCFQBEH2BBWYSRETT3NYK75QNCNE\",\n",
      "        \"private\": \"Wa76ODxkel1mBI7VZAsv/mx1WEGBxcQvETngfOxwF8jYWDGalY1NDs2vsCRRHPjIN8ZpoiwCQ+ghtiUSTntuFQ==\",\n",
      "        \"mnemonic\": \"sleep turkey broccoli duck visit nuclear case mix one collect bleak soup turn figure anxiety sheriff weasel dwarf broken sock suggest switch doll absorb rug\"\n",
      "    }\n",
      "}\n"
     ]
    }
   ],
   "source": [
    "cred_json = json.dumps(cred,indent=4)\n",
    "print(cred_json)"
   ]
  },
  {
   "cell_type": "code",
   "execution_count": 7,
   "id": "a28bcf40",
   "metadata": {},
   "outputs": [],
   "source": [
    "filename = '..'+os.path.sep+'..'+os.path.sep+'credentials_temp'          # op.path is needed to run on Win,Mac and Linux\n",
    "with open(filename, 'w') as outfile:                                     # option 'w' ensures overwriting of existing file\n",
    "    outfile.write(cred_json)"
   ]
  },
  {
   "cell_type": "markdown",
   "id": "53a76f33",
   "metadata": {},
   "source": [
    "**NOW ...** \n",
    "* Find the `credentials_tmp` file (two folders up)\n",
    "* Open the file in Jupyter\n",
    "* Rename it to `credentials`\n",
    "* Manually add `purestake_token` credentials to the JSON\n",
    "* Add the credentials to the `MyAlgo` account. This is going to be your main account"
   ]
  },
  {
   "cell_type": "code",
   "execution_count": null,
   "id": "c69a2a83-79b8-49c0-8aba-d7a461e0ae32",
   "metadata": {},
   "outputs": [],
   "source": []
  }
 ],
 "metadata": {
  "kernelspec": {
   "display_name": "Python 3",
   "language": "python",
   "name": "python3"
  },
  "language_info": {
   "codemirror_mode": {
    "name": "ipython",
    "version": 3
   },
   "file_extension": ".py",
   "mimetype": "text/x-python",
   "name": "python",
   "nbconvert_exporter": "python",
   "pygments_lexer": "ipython3",
   "version": "3.8.8"
  }
 },
 "nbformat": 4,
 "nbformat_minor": 5
}
