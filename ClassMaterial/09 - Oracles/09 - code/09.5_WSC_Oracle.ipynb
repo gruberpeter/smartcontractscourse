{
 "cells": [
  {
   "cell_type": "markdown",
   "id": "86dc8df7",
   "metadata": {
    "tags": []
   },
   "source": [
    "## A stateless oracle (5): setting up an exchange that uses the oracle\n",
    "#### 09.5 Winter School on Smart Contracts\n",
    "##### Peter Gruber (peter.gruber@usi.ch)\n",
    "2022-02-15\n",
    "* Part 5: Using the Oracle (I): Setting up an exchange\n",
    "* Parts 1-4 are only relevant if you want to **create** an Oracle\n",
    "* This example shows how Bob can start a business (an exchange) that uses the oracle"
   ]
  },
  {
   "cell_type": "markdown",
   "id": "3eb1e151-d994-4412-99b7-4bcee961ca94",
   "metadata": {
    "tags": []
   },
   "source": [
    "## Setup\n",
    "See notebook 04.1, the lines below will always automatically load functions in `algo_util.py`, the five accounts and the Purestake credentials"
   ]
  },
  {
   "cell_type": "code",
   "execution_count": 100,
   "id": "3a5a2af1-deda-4e50-abbb-687083d7125e",
   "metadata": {},
   "outputs": [],
   "source": [
    "# Loading shared code and credentials\n",
    "import sys, os\n",
    "\n",
    "codepath = '..'+os.path.sep+'..'+os.path.sep+'sharedCode'\n",
    "sys.path.append(codepath)\n",
    "from algo_util import *\n",
    "cred = load_credentials()\n",
    "\n",
    "# Shortcuts to directly access the 3 main accounts\n",
    "Alice   = cred['Alice']\n",
    "Bob     = cred['Bob']\n",
    "Charlie = cred['Charlie']\n",
    "Dina    = cred['Dina']"
   ]
  },
  {
   "cell_type": "code",
   "execution_count": 120,
   "id": "c5a85d13-5a6e-4a8f-b4cf-9e479a10f640",
   "metadata": {},
   "outputs": [],
   "source": [
    "from algosdk import account, mnemonic\n",
    "from algosdk.v2client import algod\n",
    "from algosdk.future import transaction\n",
    "from algosdk.future.transaction import Multisig\n",
    "from algosdk.future.transaction import PaymentTxn, MultisigTransaction\n",
    "from algosdk.future.transaction import AssetConfigTxn, AssetTransferTxn, AssetFreezeTxn\n",
    "from algosdk.future.transaction import LogicSig, LogicSigTransaction, LogicSigAccount\n",
    "\n",
    "import algosdk.error\n",
    "import json\n",
    "import base64\n",
    "import hashlib"
   ]
  },
  {
   "cell_type": "code",
   "execution_count": 102,
   "id": "1de8647d-4567-4b7e-a78d-624f4bacb9d8",
   "metadata": {},
   "outputs": [],
   "source": [
    "from pyteal import *"
   ]
  },
  {
   "cell_type": "code",
   "execution_count": 103,
   "id": "63a37b3d-28d1-440b-8287-a01957180489",
   "metadata": {},
   "outputs": [],
   "source": [
    "# Initialize the algod client (Testnet or Mainnet)\n",
    "algod_client = algod.AlgodClient(algod_token='', algod_address=cred['algod_test'], headers=cred['purestake_token'])"
   ]
  },
  {
   "cell_type": "code",
   "execution_count": 104,
   "id": "d7995374-fdcd-43f1-96b4-3a15c6566fa7",
   "metadata": {},
   "outputs": [
    {
     "name": "stdout",
     "output_type": "stream",
     "text": [
      "VK6CCXY4IFHIJAVMRVS543LJQEQKOJO6YQ4DZNV3D2XJI4ETYBN5354EQU\n",
      "CPUT3Z5CI3XOIZ4ARSGUFQD7V4YGYJW5BFAZMXX5YOV4KJCKI6MBCDY5XM\n",
      "BY5K2AYO7R3G66ICY6SJ2JFVLRMIX677EAEEKDBTJZGP6Q4JVNZRDXDBKA\n"
     ]
    }
   ],
   "source": [
    "print(Alice['public'])\n",
    "print(Bob['public'])\n",
    "print(Charlie['public'])"
   ]
  },
  {
   "cell_type": "code",
   "execution_count": 105,
   "id": "d21f1c8b",
   "metadata": {},
   "outputs": [],
   "source": [
    "import json\n",
    "import requests\n",
    "import pandas as pd\n",
    "import numpy as np\n",
    "import time"
   ]
  },
  {
   "cell_type": "code",
   "execution_count": 106,
   "id": "a6b2d613-0567-4289-a721-4ef89e1f321b",
   "metadata": {},
   "outputs": [],
   "source": [
    "from pycoingecko import CoinGeckoAPI\n",
    "cg = CoinGeckoAPI()"
   ]
  },
  {
   "cell_type": "markdown",
   "id": "5cc2defb-ab71-4dde-bca9-5454d45a3dc5",
   "metadata": {},
   "source": [
    "## Set up specific addresses\n",
    "\n",
    "Two options\n",
    "1. Use your own oracle --> update the addresses and the oracle_id\n",
    "2. Use the course oracle --> keep the addresses and the oracle_id"
   ]
  },
  {
   "cell_type": "code",
   "execution_count": 1,
   "id": "cfb3360b-7b93-4eec-949b-a3540df0d20a",
   "metadata": {
    "tags": []
   },
   "outputs": [],
   "source": [
    "USDC_id   = 10458941           # USDC on Algorand Testnet\n",
    "\n",
    "# Update the following, if you want to use your own oracle\n",
    "oracle_id = 77534697 \n",
    "\n",
    "# from WSC 09.4\n",
    "price_sig = {'program': b'AyAD6av8JOgHBCYBIAbye8Ew9QvLSn3Bp51f1ZBM7rIIanCZErjePwlGFTDFMQAoEjEUKBIQMREiEhAxASMOEDEQJBIxCTIDEhAxIDIDEhAQQw==', \n",
    "             'sig': 'l87eZLMhhdkpPHos+B/eZJC/f01NoHBy2jW4B3ofYMalN9e/lyszBGdLt7h0XH0tECqTegG1wJasZGGQa2LCCg==', \n",
    "             'public': b'A3ZHXQJQ6UF4WST5YGTZ2X6VSBGO5MQINJYJSEVY3Y7QSRQVGDCQ====', \n",
    "             'public_addr': 'A3ZHXQJQ6UF4WST5YGTZ2X6VSBGO5MQINJYJSEVY3Y7QSRQVGDCSQSRQOE'}\n",
    "\n",
    "reserve_sig = {'program': b'AyAD6av8JOgHBCYBIEqOKk1XaR/CRfnNvSFE+b0Gj7cb4Lnb1L9qynBTYu9fMQAoEjEUKBIQMREiEhAxASMOEDEQJBIxCTIDEhAxIDIDEhAQQw==', \n",
    "               'sig': 'KezTvw0s0Y9JTePlFfCgeKWVdcH6OAuzX4Bg/D1cjW0ikrbAcG3q+kSbpuOKTetK9tZNXJufxHG8DCxXXJ7+CQ==', \n",
    "               'public': b'JKHCUTKXNEP4ERPZZW6SCRHZXUDI7NY34C45XVF7NLFHAU3C55PQ====', \n",
    "               'public_addr': 'JKHCUTKXNEP4ERPZZW6SCRHZXUDI7NY34C45XVF7NLFHAU3C55P7Q6YPZU'}"
   ]
  },
  {
   "cell_type": "markdown",
   "id": "191250d0-5f1f-4ecd-99e2-b1e0b9420dae",
   "metadata": {},
   "source": [
    "## Get information about the oracle coin"
   ]
  },
  {
   "cell_type": "code",
   "execution_count": 108,
   "id": "44cb2ef8-4708-4f67-887b-e04dc212bbb2",
   "metadata": {},
   "outputs": [
    {
     "name": "stdout",
     "output_type": "stream",
     "text": [
      "https://testnet.algoexplorer.io/asset/77534697\n"
     ]
    }
   ],
   "source": [
    "print('https://testnet.algoexplorer.io/asset/{}'.format(oracle_id))"
   ]
  },
  {
   "cell_type": "markdown",
   "id": "1656dfca-a27e-4a29-af45-7d01a8b87cde",
   "metadata": {},
   "source": [
    "## How to use the Oracle\n",
    "* Bob creates an exchange that uses the Oracle\n",
    "* The exchange is an Atomic Swap, where the exchange rate obtains from the oracle\n",
    "* Bob creates a smart signature that uses transaction groups"
   ]
  },
  {
   "cell_type": "markdown",
   "id": "0c3cf7d1-ebd0-4a89-8e92-a7485fc13b65",
   "metadata": {},
   "source": [
    "## The structure of Bobs's smart signature\n",
    "* `Txn[0]` a transaction of the *Price* account with itself to obtain the price\n",
    "* `Txn[1]` a transaction of the *Reserve* account to verify the price\n",
    "    * Criterion: the amounts of `Txn[0]` and `Txn[1]` must add up exactly to the total supply of Oracle Coins\n",
    "* `Txn[2]` the ALGO transaction\n",
    "* `Txn[3]` the USDC transaction\n",
    "    * Criterion: the amounts of `Txn[2]` and `Txn[3]` must correctly reflect the exchange rate\n",
    "    * The exchange rate is obtained from `Txn[0]` \n",
    "\n",
    "**Note** transactions 0 and 1 are the oracle part, transactions 2 and 3 are the actual atomic swap\n",
    "\n"
   ]
  },
  {
   "cell_type": "markdown",
   "id": "e3d4f49a-ca6b-495c-8209-95361f26f42e",
   "metadata": {},
   "source": [
    "#### Step 1: Create Smart Signature"
   ]
  },
  {
   "cell_type": "code",
   "execution_count": 354,
   "id": "8a05493c-4268-4b14-8134-e53c876d5765",
   "metadata": {},
   "outputs": [],
   "source": [
    "### Based on Atomic Swap of 06.4_WSC\n",
    "\n",
    "oracle_condition = And (\n",
    "    Gtxn[0].type_enum() == TxnType.AssetTransfer,         # Oracle = ASA transfer ...\n",
    "    Gtxn[1].type_enum() == TxnType.AssetTransfer,\n",
    "    Gtxn[0].xfer_asset() == Int(oracle_id),               # ... of oracle coin\n",
    "    Gtxn[1].xfer_asset() == Int(oracle_id),           \n",
    "    Gtxn[0].sender() == Addr(price_sig['public_addr']),      # Ensure correct order \n",
    "    Gtxn[1].sender() == Addr(reserve_sig['public_addr']),\n",
    "    # Verification condition: must move ALL coins ... total = 1000 coins in small units\n",
    "    Gtxn[0].asset_amount() + Gtxn[1].asset_amount() == Int(int( 1e3 * 1e6 ))   \n",
    "    )    \n",
    "\n",
    "exchange_condition = And (\n",
    "    Gtxn[2].type_enum() == TxnType.Payment,            # Txn2 is in ALGOs\n",
    "    Gtxn[2].xfer_asset() == Int(0),\n",
    "    Gtxn[3].type_enum() == TxnType.AssetTransfer,      # Txn3 is in USDC\n",
    "    Gtxn[3].xfer_asset() == Int(USDC_id),\n",
    "    # Exchange rate in small units (note: Algo, Oracle and USDC *all* have 6 decimals)\n",
    "    # Exchange rate is taken from Gtxn[0].asset_amount()\n",
    "    # ALGO_amount * USD_per_ALGO == USD_amount\n",
    "    Gtxn[2].amount() * Gtxn[0].asset_amount() / Int(int(1e6)) == Gtxn[3].asset_amount(),\n",
    "    Gtxn[2].amount() >= Int(int(1e5)),                 # Min tx size to make it impossible to profit from rounding errors\n",
    "    Gtxn[3].asset_amount() >= Int(int(1e5)),           # Min tx size to make it impossible to profit from rounding errors\n",
    ")\n",
    "\n",
    "safety_condition = And(\n",
    "    # safety conditions ONLY for veding, opt-in must handle its own safety!\n",
    "    Global.group_size() == Int(4),                     # 0 and 1 for oracle, 2 and 3 for atomic swap\n",
    "    Gtxn[2].rekey_to() == Global.zero_address(),\n",
    "    Gtxn[2].close_remainder_to() == Global.zero_address(),\n",
    "    Gtxn[3].rekey_to() == Global.zero_address(),\n",
    "    Gtxn[3].close_remainder_to() == Global.zero_address(), \n",
    ")\n",
    "    \n",
    "optin_condition = And(\n",
    "        Global.group_size() == Int(1),                # Opt-in is single transaction\n",
    "        Txn.type_enum() ==TxnType.AssetTransfer,      # Opt-in is ASA transfer\n",
    "        Txn.asset_amount() == Int(0),                 # Payout impossible, opt-in is OK\n",
    "        Txn.xfer_asset() == Int(USDC_id),             # Only opt into USDc\n",
    "        Txn.rekey_to() == Global.zero_address(),\n",
    "        Txn.close_remainder_to() == Global.zero_address(),\n",
    "    )\n",
    "\n",
    "import random\n",
    "a = Int( random.randrange(2**32-1) )\n",
    "random_cond = ( a == a )\n",
    "\n",
    "fee_cond = Txn.fee() <= Int(1000)\n",
    "\n",
    "payout_cond = Or(\n",
    "    And(Txn.asset_receiver() == Addr(Bob['public']),          # Payout to Bob in USDC \n",
    "        Txn.type_enum() ==TxnType.AssetTransfer,\n",
    "        Txn.xfer_asset() == Int(USDC_id)),\n",
    "    And(Txn.receiver() == Addr(Bob['public']),                # ... or ALGO\n",
    "        Txn.type_enum() == TxnType.Payment)\n",
    ")\n",
    "    \n",
    "exchange_pyteal = And(\n",
    "    random_cond, \n",
    "    fee_cond, \n",
    "    If(\n",
    "        Global.group_size() == Int(1),             # condition\n",
    "        Or(optin_condition,                        # then-expression\n",
    "           payout_cond),\n",
    "        And(exchange_condition,                    # else-expression\n",
    "            oracle_condition,\n",
    "            safety_condition\n",
    "           )\n",
    "        )\n",
    "    )"
   ]
  },
  {
   "cell_type": "code",
   "execution_count": 355,
   "id": "75b6c410-22b5-4673-8496-18cac7d6c892",
   "metadata": {},
   "outputs": [],
   "source": [
    "exchange_teal = compileTeal(exchange_pyteal, Mode.Signature, version=3)\n",
    "#print(Exchange_teal)"
   ]
  },
  {
   "cell_type": "code",
   "execution_count": 356,
   "id": "1c0d8aad-6b88-420a-97e2-615efdd3aab6",
   "metadata": {},
   "outputs": [
    {
     "data": {
      "text/plain": [
       "{'hash': 'TXUUALJEISZ6YJFW7SNCBWFAQVJLVRSVAP6I4NP5CW4NME63HTEKDHM3AY',\n",
       " 'result': 'AyAK3ajsR+gHAQAEva7+BMCEPaCNBumr/CSAlOvcAyYDIAbye8Ew9QvLSn3Bp51f1ZBM7rIIanCZErjePwlGFTDFIEqOKk1XaR/CRfnNvSFE+b0Gj7cb4Lnb1L9qynBTYu9fIBPpPeeiRu7kZ4CMjULAf68wbCbdCUGWXv3Dq8UkSkeYIiISMQEjDhAyBCQSQACOMwIQJBIzAhElEhAzAxAhBBIQMwMRIQUSEDMCCDMAEgshBgozAxISEDMCCCEHDxAzAxIhBw8QMwAQIQQSMwEQIQQSEDMAESEIEhAzAREhCBIQMwAAKBIQMwEAKRIQMwASMwESCCEJEhAQMgQhBBIzAiAyAxIQMwIJMgMSEDMDIDIDEhAzAwkyAxIQEEIAPDIEJBIxECEEEhAxEiUSEDERIQUSEDEgMgMSEDEJMgMSEDEUKhIxECEEEhAxESEFEhAxByoSMRAkEhARERBD'}"
      ]
     },
     "execution_count": 356,
     "metadata": {},
     "output_type": "execute_result"
    }
   ],
   "source": [
    "Exchange = algod_client.compile(exchange_teal)\n",
    "Exchange"
   ]
  },
  {
   "cell_type": "markdown",
   "id": "0cdae27e-146e-4fc2-b038-2831a684bed3",
   "metadata": {},
   "source": [
    "#### Step 2: Exchange must opt-In and must be funded"
   ]
  },
  {
   "cell_type": "markdown",
   "id": "0f03fc38-485f-4f52-af4f-28a307c447e4",
   "metadata": {},
   "source": [
    "##### Step 2a: Funding in ALGO"
   ]
  },
  {
   "cell_type": "code",
   "execution_count": 357,
   "id": "2deb7ace-32d7-479b-826f-caac67de82ed",
   "metadata": {},
   "outputs": [
    {
     "name": "stdout",
     "output_type": "stream",
     "text": [
      "Current round is  20490357.\n",
      "Waiting for round 20490357 to finish.\n",
      "Waiting for round 20490358 to finish.\n",
      "Transaction IBWRKLIGPJWAENYEWW6HNGGZFXRHEVUJB3AMN7DYZ5TZ4OZISDHQ confirmed in round 20490359.\n"
     ]
    }
   ],
   "source": [
    "# Prepare, sign, send, wait\n",
    "sp = algod_client.suggested_params()\n",
    "\n",
    "# Minimum is 0.201 ALGO for 2 x min_holdings + TX_fee for opt_in\n",
    "# However, we want to do an exchange and therefore have to fund more\n",
    "amt = int(2 * 1e6)\n",
    "txn = transaction.PaymentTxn(sender=Bob['public'], sp=sp, receiver=Exchange['hash'], amt=amt)\n",
    "stxn = txn.sign(Bob['private'])\n",
    "txid = algod_client.send_transaction(stxn)\n",
    "txinfo = wait_for_confirmation(algod_client, txid)"
   ]
  },
  {
   "cell_type": "markdown",
   "id": "31e0ce3b-774a-4afd-93bb-96953c3300f5",
   "metadata": {},
   "source": [
    "##### Step 2b: Opt-In USDC"
   ]
  },
  {
   "cell_type": "code",
   "execution_count": 358,
   "id": "23b46b25-8991-414b-a866-6727fb90ab91",
   "metadata": {},
   "outputs": [
    {
     "name": "stdout",
     "output_type": "stream",
     "text": [
      "Current round is  20490359.\n",
      "Waiting for round 20490359 to finish.\n",
      "Waiting for round 20490360 to finish.\n",
      "Transaction X7F2JEDAHGKHCY2U5EMTPVZ7EW7CXPHGMVLX5VJSGCAZIKFT724Q confirmed in round 20490361.\n"
     ]
    }
   ],
   "source": [
    "# Prepare, sign, send, wait\n",
    "sp = algod_client.suggested_params()\n",
    "txn = AssetTransferTxn(Exchange['hash'], sp, Exchange['hash'], 0, USDC_id)\n",
    "encodedProg = Exchange['result'].encode()\n",
    "program = base64.decodebytes(encodedProg)\n",
    "lsig = LogicSig(program)\n",
    "stxn = LogicSigTransaction(txn, lsig)\n",
    "txid = algod_client.send_transaction(stxn)\n",
    "txinfo = wait_for_confirmation(algod_client, txid)"
   ]
  },
  {
   "cell_type": "markdown",
   "id": "deb22f57-1140-41b4-a190-d7cf6fb9dfe9",
   "metadata": {},
   "source": [
    "#### Step 2c: Funding in USDC\n",
    "* Get USDC here: https://dispenser.testnet.aws.algodev.network\n",
    "* Bob can get USDC here: https://usdcfaucet.com (select \"ALGO\" and run five times)"
   ]
  },
  {
   "cell_type": "code",
   "execution_count": 359,
   "id": "9cc97d3f-1540-4bdd-9148-2200692d7c3f",
   "metadata": {},
   "outputs": [
    {
     "name": "stdout",
     "output_type": "stream",
     "text": [
      "Current round is  20490361.\n",
      "Waiting for round 20490361 to finish.\n",
      "Waiting for round 20490362 to finish.\n",
      "Transaction ZXJHKT7LMC4EGY6Y4K7KDSUCSOX27SUCRB7DGVT7ZNMYABDWFX6A confirmed in round 20490363.\n"
     ]
    }
   ],
   "source": [
    "# Prepare, sign, send, wait\n",
    "amt = int(2*1e6)\n",
    "sp = algod_client.suggested_params()\n",
    "txn = AssetTransferTxn(\n",
    "    sender=Bob['public'],\n",
    "    sp=sp,\n",
    "    receiver=Exchange['hash'],               \n",
    "    amt=amt,\n",
    "    index=USDC_id)\n",
    "stxn = txn.sign(Bob['private'])\n",
    "txid = algod_client.send_transaction(stxn)\n",
    "txinfo = wait_for_confirmation(algod_client, txid)"
   ]
  },
  {
   "cell_type": "markdown",
   "id": "8af3ef1f-a18e-4d1f-b9c6-0b700be806d5",
   "metadata": {},
   "source": [
    "## Test the Smart Sig"
   ]
  },
  {
   "cell_type": "code",
   "execution_count": 360,
   "id": "37395f30-b635-4d0e-a605-1130539fa5e3",
   "metadata": {},
   "outputs": [],
   "source": [
    "# Customer Information\n",
    "Customer = Charlie\n",
    "amt_ALGO = -int(1.5 * 1e6)    # positive --> buyALGOs\n",
    "                             # negative --> sellALGOs"
   ]
  },
  {
   "cell_type": "code",
   "execution_count": 361,
   "id": "85995bb0-e4b6-421d-9349-a38c89cd3476",
   "metadata": {},
   "outputs": [
    {
     "data": {
      "text/plain": [
       "[{'amount': 7.183,\n",
       "  'unit': 'ALGO',\n",
       "  'asset-id': 0,\n",
       "  'name': 'Algorand',\n",
       "  'decimals': 6},\n",
       " {'amount': 304.845024,\n",
       "  'unit': 'USDC',\n",
       "  'asset-id': 10458941,\n",
       "  'name': 'USDC',\n",
       "  'decimals': 6}]"
      ]
     },
     "execution_count": 361,
     "metadata": {},
     "output_type": "execute_result"
    }
   ],
   "source": [
    "asset_holdings(algod_client, Charlie['public'])"
   ]
  },
  {
   "cell_type": "code",
   "execution_count": 362,
   "id": "160b8a67-0b04-47d8-ace0-aabf8376bd0f",
   "metadata": {},
   "outputs": [
    {
     "name": "stdout",
     "output_type": "stream",
     "text": [
      "805969\n",
      "999194031\n"
     ]
    }
   ],
   "source": [
    "# get current holdings\n",
    "holdings_Price = asset_holdings(algod_client, price_sig['public_addr'])\n",
    "price_oracle = [holding['amount'] for holding in holdings_Price if holding['unit']=='USDALGO'][0]\n",
    "price_oracle = int(1e6*price_oracle)\n",
    "holdings_Reserve = asset_holdings(algod_client, reserve_sig['public_addr'])\n",
    "reserve_oracle = [holding['amount'] for holding in holdings_Reserve if holding['unit']=='USDALGO'][0]\n",
    "reserve_oracle = int(1e6*reserve_oracle)\n",
    "\n",
    "print(price_oracle)\n",
    "print(reserve_oracle)"
   ]
  },
  {
   "cell_type": "markdown",
   "id": "86a55a8a-73e3-4a19-a2a3-37ca32c0ccc5",
   "metadata": {
    "tags": []
   },
   "source": [
    "#### Transaction 0: Price sends to itself"
   ]
  },
  {
   "cell_type": "code",
   "execution_count": 363,
   "id": "24e16616-c918-4add-ad8f-c23ff64a7650",
   "metadata": {},
   "outputs": [],
   "source": [
    "my_sig = price_sig\n",
    "amt = price_oracle       # \"everything\"\n",
    "\n",
    "# Step 0: Recreate Smart Signature --> see WSC 06.6\n",
    "lsigPrice = LogicSigAccount(base64.decodebytes(my_sig['program']))\n",
    "lsigPrice.lsig.sig = my_sig['sig']\n",
    "lsigPrice.sigkey = base64.b32decode(my_sig['public'])\n",
    "\n",
    "# Step 1: prepare Txn\n",
    "sp = algod_client.suggested_params()          \n",
    "txn_0 = AssetTransferTxn(sender = my_sig['public_addr'], sp=sp, receiver=my_sig['public_addr'], amt=amt, index=oracle_id)"
   ]
  },
  {
   "cell_type": "markdown",
   "id": "acee586d-5062-4b84-a235-8d224a67aa6b",
   "metadata": {
    "tags": []
   },
   "source": [
    "#### Transaction 1: Reserve sends to itself"
   ]
  },
  {
   "cell_type": "code",
   "execution_count": 364,
   "id": "88ed9111-a619-45bd-87f4-2fd78af63c4d",
   "metadata": {},
   "outputs": [],
   "source": [
    "my_sig = reserve_sig\n",
    "amt = reserve_oracle       # \"everything\"\n",
    "\n",
    "# Step 0: Recreate Smart Signature --> see WSC 06.6\n",
    "lsigReserve = LogicSigAccount(base64.decodebytes(my_sig['program']))\n",
    "lsigReserve.lsig.sig = my_sig['sig']\n",
    "lsigReserve.sigkey = base64.b32decode(my_sig['public'])\n",
    "\n",
    "# Step 1: prepare Txn\n",
    "sp = algod_client.suggested_params()          \n",
    "txn_1 = AssetTransferTxn(sender = my_sig['public_addr'], sp=sp, receiver=my_sig['public_addr'], amt=amt, index=oracle_id)"
   ]
  },
  {
   "cell_type": "markdown",
   "id": "e932f066-7d87-47ac-a21e-27a87a18e025",
   "metadata": {
    "tags": []
   },
   "source": [
    "#### Transaction 2: Algo transaction"
   ]
  },
  {
   "cell_type": "code",
   "execution_count": 365,
   "id": "bb1626de-e400-430d-9b38-1049936600a2",
   "metadata": {},
   "outputs": [],
   "source": [
    "sp = algod_client.suggested_params()          \n",
    "\n",
    "if amt_ALGO > 0:                \n",
    "    # Customer buys ALGO from Exchange\n",
    "    txn_2 = PaymentTxn(sender = Exchange['hash'], sp=sp, receiver=Customer['public'], amt=abs(amt_ALGO))\n",
    "else:\n",
    "    txn_2 = PaymentTxn(sender = Customer['public'], sp=sp, receiver=Exchange['hash'], amt=abs(amt_ALGO))\n"
   ]
  },
  {
   "cell_type": "markdown",
   "id": "3a80226d-f1b6-4d34-a565-0a5191c90670",
   "metadata": {
    "tags": []
   },
   "source": [
    "#### Transaction 3: USDC transaction"
   ]
  },
  {
   "cell_type": "code",
   "execution_count": 366,
   "id": "a0849421-0d62-4774-967d-5fc516c2f1b5",
   "metadata": {},
   "outputs": [
    {
     "name": "stdout",
     "output_type": "stream",
     "text": [
      "-1208953\n",
      "condition\n",
      "-1208953\n",
      "-1208953\n"
     ]
    }
   ],
   "source": [
    "sp = algod_client.suggested_params()\n",
    "amt_USDC = int(amt_ALGO * price_oracle / 1e6)\n",
    "print(amt_USDC)\n",
    "print(\"condition\")\n",
    "print(int(amt_ALGO  * price_oracle / 1e6))\n",
    "print(int(amt_USDC))"
   ]
  },
  {
   "cell_type": "code",
   "execution_count": 367,
   "id": "24ff6f2c-8b1e-4bce-886d-273cec5c33ea",
   "metadata": {},
   "outputs": [],
   "source": [
    "if amt_ALGO > 0:                \n",
    "    # Customer sends USDC to Exchange\n",
    "    txn_3 = AssetTransferTxn(sender = Customer['public'], sp=sp, receiver=Exchange['hash'], amt=abs(amt_USDC), index=USDC_id)\n",
    "else:\n",
    "    txn_3 = AssetTransferTxn(sender = Exchange['hash'], sp=sp, receiver=Customer['public'], amt=abs(amt_USDC), index=USDC_id)"
   ]
  },
  {
   "cell_type": "markdown",
   "id": "6d3e442c-349a-45f1-846d-50148bb7e9b1",
   "metadata": {
    "tags": []
   },
   "source": [
    "#### Create Transaction group\n",
    "See WSC 06.4, step 5.1c"
   ]
  },
  {
   "cell_type": "code",
   "execution_count": 368,
   "id": "5a9a7b21-0255-4fbc-9e5e-ebba418e6d23",
   "metadata": {},
   "outputs": [],
   "source": [
    "gid = transaction.calculate_group_id([txn_0, txn_1, txn_2, txn_3])\n",
    "txn_0.group = gid\n",
    "txn_1.group = gid\n",
    "txn_2.group = gid\n",
    "txn_3.group = gid"
   ]
  },
  {
   "cell_type": "markdown",
   "id": "3627bce2-5894-4bc0-9827-fe8784b8be7c",
   "metadata": {
    "tags": []
   },
   "source": [
    "#### Sign Individual transactions\n",
    "See WSC 06.4, step 5.2"
   ]
  },
  {
   "cell_type": "code",
   "execution_count": 369,
   "id": "56c88509-ddfb-4aa6-82a3-d6d0f6237f87",
   "metadata": {},
   "outputs": [],
   "source": [
    "# txn_0 and txn_1 are signed by their smart signatures\n",
    "# encodedProg = Vending['result'].encode()              \n",
    "# program = base64.decodebytes(encodedProg)\n",
    "# lsig = LogicSig(program)\n",
    "# stxn_2 = LogicSigTransaction(txn_2, lsig)\n",
    "\n",
    "stxn_0 = transaction.LogicSigTransaction(txn_0, lsigPrice)\n",
    "stxn_1 = transaction.LogicSigTransaction(txn_1, lsigReserve)\n",
    "\n",
    "encodedProg = Exchange['result'].encode()              \n",
    "program = base64.decodebytes(encodedProg)\n",
    "Exchange_lsig = LogicSig(program)\n",
    "#stxn_2 = LogicSigTransaction(txn_2, lsig)\n",
    "\n",
    "if amt_ALGO > 0:                \n",
    "    # Customer buys ALGO from Exchange\n",
    "    stxn_3 = txn_3.sign(Customer['private'])\n",
    "    stxn_2 = transaction.LogicSigTransaction(txn_2, Exchange_lsig)\n",
    "else:\n",
    "    stxn_2 = txn_2.sign(Customer['private'])\n",
    "    stxn_3 = transaction.LogicSigTransaction(txn_3, Exchange_lsig)"
   ]
  },
  {
   "cell_type": "code",
   "execution_count": 370,
   "id": "43cb665b-efb8-4863-ae9f-70ee3cae1f45",
   "metadata": {},
   "outputs": [],
   "source": [
    "# Step 5.3: assemble transaction group and send\n",
    "signed_group =  [stxn_0, stxn_1, stxn_2, stxn_3]\n",
    "txid = algod_client.send_transactions(signed_group)"
   ]
  },
  {
   "cell_type": "code",
   "execution_count": 371,
   "id": "ab97fa4c-5d70-4761-a5c0-ee7465a6070c",
   "metadata": {},
   "outputs": [
    {
     "name": "stdout",
     "output_type": "stream",
     "text": [
      "Current round is  20490365.\n",
      "Waiting for round 20490365 to finish.\n",
      "Transaction LHZ3TU7OVYTDEYYDN5SAPIAX7LIGAIUTUO332UZHDCCBB4UJMADQ confirmed in round 20490366.\n"
     ]
    }
   ],
   "source": [
    "# Step 5d: wait for confirmation\n",
    "txinfo = wait_for_confirmation(algod_client, txid)"
   ]
  },
  {
   "cell_type": "code",
   "execution_count": null,
   "id": "3797ee26-6afc-4cfc-9222-63bd0762ca9d",
   "metadata": {},
   "outputs": [],
   "source": []
  }
 ],
 "metadata": {
  "kernelspec": {
   "display_name": "Python 3",
   "language": "python",
   "name": "python3"
  },
  "language_info": {
   "codemirror_mode": {
    "name": "ipython",
    "version": 3
   },
   "file_extension": ".py",
   "mimetype": "text/x-python",
   "name": "python",
   "nbconvert_exporter": "python",
   "pygments_lexer": "ipython3",
   "version": "3.8.8"
  }
 },
 "nbformat": 4,
 "nbformat_minor": 5
}
