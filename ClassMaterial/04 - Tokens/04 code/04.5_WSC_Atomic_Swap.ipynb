{
 "cells": [
  {
   "cell_type": "markdown",
   "metadata": {},
   "source": [
    "## Atomic Swaps\n",
    "#### 04.5 Winter School on Smart Contracts\n",
    "##### Peter Gruber (peter.gruber@usi.ch)\n",
    "2021-11-28\n",
    "\n",
    "* Transaction groups\n",
    "* Atomic swap"
   ]
  },
  {
   "cell_type": "markdown",
   "metadata": {
    "tags": []
   },
   "source": [
    "### Setup\n",
    "See notebook 04.1, the lines below will always automatically load functions in `algo_util.py`, the five accounts and the Purestake credentials"
   ]
  },
  {
   "cell_type": "code",
   "execution_count": null,
   "metadata": {},
   "outputs": [],
   "source": [
    "# Loading shared code and credentials\n",
    "import sys, os\n",
    "codepath = '..'+os.path.sep+'..'+os.path.sep+'sharedCode'\n",
    "sys.path.append(codepath)\n",
    "from algo_util import *\n",
    "cred = load_credentials()\n",
    "\n",
    "# Shortcuts to directly access the 3 main accounts\n",
    "MyAlgo = cred['MyAlgo']\n",
    "Alice  = cred['Alice']\n",
    "Bob    = cred['Bob']\n",
    "Charlie = cred['Charlie']"
   ]
  },
  {
   "cell_type": "code",
   "execution_count": null,
   "metadata": {},
   "outputs": [],
   "source": [
    "from algosdk import account, mnemonic\n",
    "from algosdk.v2client import algod\n",
    "from algosdk.future import transaction\n",
    "from algosdk.future.transaction import PaymentTxn\n",
    "from algosdk.future.transaction import AssetConfigTxn, AssetTransferTxn, AssetFreezeTxn\n",
    "import algosdk.error\n",
    "\n",
    "import json\n",
    "import pandas as pd\n",
    "import base64"
   ]
  },
  {
   "cell_type": "code",
   "execution_count": null,
   "metadata": {},
   "outputs": [],
   "source": [
    "# Initialize the algod client (Testnet or Mainnet)\n",
    "algod_client = algod.AlgodClient(algod_token='', algod_address=cred['algod_test'], headers=cred['purestake_token'])"
   ]
  },
  {
   "cell_type": "markdown",
   "metadata": {},
   "source": [
    "## Atomic Swap\n",
    "\n",
    "* One of the most import and common operations on a blockchain\n",
    "* Traditional finance: need trusted intermediary to exchange assets\n",
    "* On the Algorand blockchain, this type of trade is implemented within the protocol as an Atomic Transfer. \n",
    "* Idea: transactions that are part of the transfer either all succeed or all fail.\n",
    "* Transactions can contain ALOGs or ASA\n",
    "* Transactions with more than 2 parties are also possible"
   ]
  },
  {
   "cell_type": "markdown",
   "metadata": {},
   "source": [
    "### A concrete Atomic Swap\n",
    "\"Alice buys 2.5 WSC from Bob for 3.75 Algos\"\n",
    "* Transaction 1: Alice sends Bob 3.75 Algos\n",
    "* Transaction 2: Bob sends Alice 2.5 WSC"
   ]
  },
  {
   "cell_type": "markdown",
   "metadata": {},
   "source": [
    "#### Step 0: Get the status before the swap"
   ]
  },
  {
   "cell_type": "code",
   "execution_count": null,
   "metadata": {},
   "outputs": [],
   "source": [
    "# Get the holdings of Alice and Bob separately\n",
    "alice_holding=asset_holdings_df(algod_client, Alice['public'])\n",
    "bob_holding=asset_holdings_df(algod_client, Bob['public'])\n",
    "# Merge in one data.frame using pandas merge\n",
    "pd.merge(alice_holding, bob_holding,  how=\"outer\", on=[\"asset-id\", \"unit\", \"name\", \"decimals\"], suffixes=['Alice','Bob'])"
   ]
  },
  {
   "cell_type": "code",
   "execution_count": null,
   "metadata": {},
   "outputs": [],
   "source": [
    "# Store the correct ID for the WSC coin\n",
    "WSC_id=66709453              # <---------- Update!!"
   ]
  },
  {
   "cell_type": "markdown",
   "metadata": {},
   "source": [
    "#### Step 1a: Prepare transaction 1\n",
    "This is a simple ALGO payment. Alice sends Bob 3.75 ALGOs"
   ]
  },
  {
   "cell_type": "code",
   "execution_count": null,
   "metadata": {},
   "outputs": [],
   "source": [
    "sp = algod_client.suggested_params()\n",
    "amt_1 = int( 3.75*1E6 )                     # microalgos!!! \n",
    "\n",
    "txn_1 = PaymentTxn(Alice[\"public\"], sp, Bob[\"public\"],amt_1)"
   ]
  },
  {
   "cell_type": "markdown",
   "metadata": {},
   "source": [
    "#### Step 1b: Prepare transaction 2\n",
    "This is an ASA transfer. Bob transfers 2.5 WSC coungs to Alice.<br>\n",
    "Alice has to opt into the WSC coin (In our case, she did so in notebook 04.1!)"
   ]
  },
  {
   "cell_type": "code",
   "execution_count": null,
   "metadata": {},
   "outputs": [],
   "source": [
    "amt_2 = int(2.5 * 1E2)                      # WSC coin is 1/100 divisible !!\n",
    "\n",
    "txn_2 = AssetTransferTxn(Bob[\"public\"], sp, Alice[\"public\"], amt_2, WSC_id)"
   ]
  },
  {
   "cell_type": "markdown",
   "metadata": {},
   "source": [
    "#### Step 2: create a TX group"
   ]
  },
  {
   "cell_type": "code",
   "execution_count": null,
   "metadata": {},
   "outputs": [],
   "source": [
    "# group_id calculated from transactions\n",
    "gid = transaction.calculate_group_id([txn_1, txn_2])\n",
    "\n",
    "# add group_id to each transactions\n",
    "txn_1.group = gid\n",
    "txn_2.group = gid\n",
    "\n",
    "# This is the gid\n",
    "print( base64.b32encode(gid).decode() )"
   ]
  },
  {
   "cell_type": "markdown",
   "metadata": {},
   "source": [
    "#### Step 3: Sign\n",
    "Everyone has to sign his/her transaction"
   ]
  },
  {
   "cell_type": "code",
   "execution_count": null,
   "metadata": {},
   "outputs": [],
   "source": [
    "# sign transactions\n",
    "stxn_1 = txn_1.sign(Alice[\"private\"])    \n",
    "stxn_2 = txn_2.sign(Bob[\"private\"])"
   ]
  },
  {
   "cell_type": "markdown",
   "metadata": {},
   "source": [
    "#### Step 4: Assemble and submit"
   ]
  },
  {
   "cell_type": "code",
   "execution_count": null,
   "metadata": {},
   "outputs": [],
   "source": [
    "# assemble transaction group\n",
    "signed_group =  [stxn_1, stxn_2]\n",
    "\n",
    "txid = algod_client.send_transactions(signed_group)"
   ]
  },
  {
   "cell_type": "markdown",
   "metadata": {},
   "source": [
    "#### Step 5: Wait for confirmation"
   ]
  },
  {
   "cell_type": "code",
   "execution_count": null,
   "metadata": {},
   "outputs": [],
   "source": [
    "# wait for confirmation\n",
    "txinfo = wait_for_confirmation(algod_client, txid) "
   ]
  },
  {
   "cell_type": "code",
   "execution_count": null,
   "metadata": {},
   "outputs": [],
   "source": [
    "algod_client.asset_info(WSC_id)"
   ]
  },
  {
   "cell_type": "markdown",
   "metadata": {},
   "source": [
    "#### Step 6: Check state after swap"
   ]
  },
  {
   "cell_type": "code",
   "execution_count": null,
   "metadata": {},
   "outputs": [],
   "source": [
    "alice_holding=asset_holdings_df(algod_client, Alice['public'])\n",
    "bob_holding=asset_holdings_df(algod_client, Bob['public'])\n",
    "pd.merge(alice_holding, bob_holding,  how=\"outer\", on=[\"asset-id\"], suffixes=['Alice','Bob'])"
   ]
  },
  {
   "cell_type": "markdown",
   "metadata": {},
   "source": [
    "## Appendix: how to merge dataframes\n",
    "* The Python library for working with dataframes is called Pandas\n",
    "* Most people abbreviate it to `pd` using `import pandas as pd`\n",
    "* The `pd.merge()` command merges two dataframes ... but how exactly?"
   ]
  },
  {
   "cell_type": "code",
   "execution_count": null,
   "metadata": {},
   "outputs": [],
   "source": [
    "alice_holding"
   ]
  },
  {
   "cell_type": "code",
   "execution_count": null,
   "metadata": {},
   "outputs": [],
   "source": [
    "bob_holding"
   ]
  },
  {
   "cell_type": "code",
   "execution_count": null,
   "metadata": {},
   "outputs": [],
   "source": [
    "bob_holding=asset_holdings_df(algod_client, Bob['public'])"
   ]
  }
 ],
 "metadata": {
  "kernelspec": {
   "display_name": "Python 3",
   "language": "python",
   "name": "python3"
  },
  "language_info": {
   "codemirror_mode": {
    "name": "ipython",
    "version": 3
   },
   "file_extension": ".py",
   "mimetype": "text/x-python",
   "name": "python",
   "nbconvert_exporter": "python",
   "pygments_lexer": "ipython3",
   "version": "3.7.6"
  }
 },
 "nbformat": 4,
 "nbformat_minor": 4
}
