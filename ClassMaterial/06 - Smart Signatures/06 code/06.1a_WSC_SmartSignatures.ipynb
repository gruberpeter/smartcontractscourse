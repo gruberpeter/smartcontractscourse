{
 "cells": [
  {
   "cell_type": "markdown",
   "metadata": {},
   "source": [
    "# Smart signatures\n",
    "#### 06.1 Writing Smart Contracts\n",
    "##### Peter Gruber (peter.gruber@usi.ch)\n",
    "2022-01-12\n",
    "\n",
    "* Install PyTEAL\n",
    "* Learn PyTEAL logic\n",
    "* Write and deploy smart Signatures"
   ]
  },
  {
   "cell_type": "markdown",
   "metadata": {},
   "source": [
    "### Install Pyteal"
   ]
  },
  {
   "cell_type": "code",
   "execution_count": 1,
   "metadata": {},
   "outputs": [
    {
     "name": "stdout",
     "output_type": "stream",
     "text": [
      "Requirement already satisfied: pyteal in /Users/pgruber/opt/anaconda3/lib/python3.8/site-packages (0.7.0)\n"
     ]
    }
   ],
   "source": [
    "!pip install pyteal"
   ]
  },
  {
   "cell_type": "markdown",
   "metadata": {
    "tags": []
   },
   "source": [
    "## Setup\n",
    "See notebook 04.1, the lines below will always automatically load ...\n",
    "* The functions in `algo_util.py`\n",
    "* The accounts MyAlgo, Alice and Bob\n",
    "* The Purestake credentials"
   ]
  },
  {
   "cell_type": "code",
   "execution_count": 2,
   "metadata": {},
   "outputs": [],
   "source": [
    "# Loading shared code and credentials\n",
    "import sys, os\n",
    "\n",
    "codepath = '..'+os.path.sep+'..'+os.path.sep+'sharedCode'\n",
    "sys.path.append(codepath)\n",
    "from algo_util import *\n",
    "cred = load_credentials()\n",
    "\n",
    "# Shortcuts to directly access the 3 main accounts\n",
    "MyAlgo  = cred['MyAlgo']\n",
    "Alice   = cred['Alice']\n",
    "Bob     = cred['Bob']\n",
    "Charlie = cred['Charlie']\n",
    "Dina    = cred['Dina']"
   ]
  },
  {
   "cell_type": "code",
   "execution_count": 3,
   "metadata": {},
   "outputs": [],
   "source": [
    "from algosdk import account, mnemonic\n",
    "from algosdk.v2client import algod\n",
    "from algosdk.future import transaction\n",
    "from algosdk.future.transaction import PaymentTxn\n",
    "from algosdk.future.transaction import AssetConfigTxn, AssetTransferTxn, AssetFreezeTxn\n",
    "from algosdk.future.transaction import LogicSig, LogicSigTransaction\n",
    "\n",
    "import algosdk.error\n",
    "import json\n",
    "import base64\n",
    "import hashlib"
   ]
  },
  {
   "cell_type": "code",
   "execution_count": 4,
   "metadata": {},
   "outputs": [],
   "source": [
    "from pyteal import *"
   ]
  },
  {
   "cell_type": "code",
   "execution_count": 5,
   "metadata": {},
   "outputs": [],
   "source": [
    "# Initialize the algod client (Testnet or Mainnet)\n",
    "algod_client = algod.AlgodClient(algod_token='', algod_address=cred['algod_test'], headers=cred['purestake_token'])"
   ]
  },
  {
   "cell_type": "code",
   "execution_count": 6,
   "metadata": {},
   "outputs": [],
   "source": [
    "from pyteal import *"
   ]
  },
  {
   "cell_type": "code",
   "execution_count": 7,
   "metadata": {},
   "outputs": [
    {
     "name": "stdout",
     "output_type": "stream",
     "text": [
      "ADLR27NB3V62INPRGCK63YMRWQCU4J2OE6PTIGZSZSXZNO5KSLAU7TPSFU\n",
      "FEJNBD5DI3TC53AZNGSUAXAR6HAELQF4PLAHSVDUG3EP5WXEKRVULIWOJE\n",
      "AH3NJBIMCZZLXY7NR2NENBWUS4P63JOJFUYM2O3DTW4J5E2ENQL5ISFGKU\n"
     ]
    }
   ],
   "source": [
    "print(Alice['public'])\n",
    "print(Bob['public'])\n",
    "print(Charlie['public'])"
   ]
  },
  {
   "cell_type": "markdown",
   "metadata": {},
   "source": [
    "#### Quick check of asset holdings, otherwise go to ...\n",
    "- https://bank.testnet.algorand.network\n",
    "- https://testnet.algoexplorer.io/dispenser"
   ]
  },
  {
   "cell_type": "code",
   "execution_count": 8,
   "metadata": {},
   "outputs": [
    {
     "data": {
      "text/html": [
       "<div>\n",
       "<style scoped>\n",
       "    .dataframe tbody tr th:only-of-type {\n",
       "        vertical-align: middle;\n",
       "    }\n",
       "\n",
       "    .dataframe tbody tr th {\n",
       "        vertical-align: top;\n",
       "    }\n",
       "\n",
       "    .dataframe thead th {\n",
       "        text-align: right;\n",
       "    }\n",
       "</style>\n",
       "<table border=\"1\" class=\"dataframe\">\n",
       "  <thead>\n",
       "    <tr style=\"text-align: right;\">\n",
       "      <th></th>\n",
       "      <th>amount</th>\n",
       "      <th>unit</th>\n",
       "      <th>asset-id</th>\n",
       "      <th>name</th>\n",
       "      <th>decimals</th>\n",
       "    </tr>\n",
       "  </thead>\n",
       "  <tbody>\n",
       "    <tr>\n",
       "      <th>0</th>\n",
       "      <td>25.837</td>\n",
       "      <td>ALGO</td>\n",
       "      <td>0</td>\n",
       "      <td>Algorand</td>\n",
       "      <td>6</td>\n",
       "    </tr>\n",
       "    <tr>\n",
       "      <th>1</th>\n",
       "      <td>2.500</td>\n",
       "      <td>WSC</td>\n",
       "      <td>71140107</td>\n",
       "      <td>Peters WSC coin</td>\n",
       "      <td>2</td>\n",
       "    </tr>\n",
       "  </tbody>\n",
       "</table>\n",
       "</div>"
      ],
      "text/plain": [
       "   amount  unit  asset-id             name  decimals\n",
       "0  25.837  ALGO         0         Algorand         6\n",
       "1   2.500   WSC  71140107  Peters WSC coin         2"
      ]
     },
     "execution_count": 8,
     "metadata": {},
     "output_type": "execute_result"
    }
   ],
   "source": [
    "asset_holdings_df(algod_client,Alice['public'])"
   ]
  },
  {
   "cell_type": "markdown",
   "metadata": {},
   "source": [
    "#### Check Purestake API"
   ]
  },
  {
   "cell_type": "code",
   "execution_count": 18,
   "metadata": {},
   "outputs": [
    {
     "name": "stdout",
     "output_type": "stream",
     "text": [
      "Last committed block is: 19795386\n"
     ]
    }
   ],
   "source": [
    "last_block = algod_client.status()[\"last-round\"]\n",
    "print(f\"Last committed block is: {last_block}\")"
   ]
  },
  {
   "cell_type": "markdown",
   "metadata": {},
   "source": [
    "## Smart Signatures\n",
    "* A Smart Signature is a function that has two possible results `True` or `False`\n",
    "* A Smart Signature can only evaluate properties of a transaction that is proposed to it.\n",
    "* A Smart Signature cannot read or write from/to the blockchain"
   ]
  },
  {
   "cell_type": "markdown",
   "metadata": {},
   "source": [
    "## The Dispenser\n",
    "* The simplest smart signature is always `TRUE`\n",
    "* It accepts **all** transactions that are proposed"
   ]
  },
  {
   "cell_type": "markdown",
   "metadata": {},
   "source": [
    "#### Step 1: The programmer writes down the conditions as a PyTeal program\n",
    "* This is the logic of the smart signature. \n",
    "* Usually written inside `( ... )`\n",
    "* This one is always `True`"
   ]
  },
  {
   "cell_type": "code",
   "execution_count": 27,
   "metadata": {},
   "outputs": [],
   "source": [
    "import random\n",
    "from random import randrange\n",
    "a = Int( randrange(2**32-1) )   \n",
    "\n",
    "dispenser_pyteal = (\n",
    "    a == a\n",
    ")"
   ]
  },
  {
   "cell_type": "markdown",
   "metadata": {},
   "source": [
    "#### Step 2: Compile PyTeal -> Teal\n",
    "* Necessary intermediate step\n",
    "* No need to print and inspect the TEAL program"
   ]
  },
  {
   "cell_type": "code",
   "execution_count": 28,
   "metadata": {},
   "outputs": [
    {
     "name": "stdout",
     "output_type": "stream",
     "text": [
      "#pragma version 3\n",
      "int 235811646\n",
      "int 235811646\n",
      "==\n"
     ]
    }
   ],
   "source": [
    "dispenser_teal = compileTeal(dispenser_pyteal, \n",
    "                             Mode.Signature,          # <----- Here we say it is a Smart Signature (and not a Smart Contract)\n",
    "                             version=3)\n",
    "print(dispenser_teal)"
   ]
  },
  {
   "cell_type": "markdown",
   "metadata": {},
   "source": [
    "#### Step 3: Compile Teal -> Bytecode for AVM\n",
    "AVM = Algorand Virtual Machine\n",
    "\n",
    "`algod_client.compile` creates a dict with two entries:\n",
    "* `hash` contains the address $\\longleftarrow$ corresponds to the `[public]`\n",
    "* `result` contains the compiled code $\\longleftarrow$ corresponds to the `[private]`"
   ]
  },
  {
   "cell_type": "code",
   "execution_count": 29,
   "metadata": {},
   "outputs": [
    {
     "data": {
      "text/plain": [
       "{'hash': 'FMJIAKUOKXQWCMRDY3FNLIWOQ5OX7SPEVJIOTEUMKTVYY4AOWTM5N77DVQ',\n",
       " 'result': 'AyABvua4cCIiEg=='}"
      ]
     },
     "execution_count": 29,
     "metadata": {},
     "output_type": "execute_result"
    }
   ],
   "source": [
    "Dispenser = algod_client.compile(dispenser_teal)\n",
    "Dispenser"
   ]
  },
  {
   "cell_type": "code",
   "execution_count": 30,
   "metadata": {},
   "outputs": [
    {
     "name": "stdout",
     "output_type": "stream",
     "text": [
      "http://testnet.algoexplorer.io/address/FMJIAKUOKXQWCMRDY3FNLIWOQ5OX7SPEVJIOTEUMKTVYY4AOWTM5N77DVQ\n"
     ]
    }
   ],
   "source": [
    "# Look on Algoexplorer at the address of the smart signature. \n",
    "# (There is not yet something to see)\n",
    "print('http://testnet.algoexplorer.io/address/'+Dispenser['hash'])"
   ]
  },
  {
   "cell_type": "markdown",
   "metadata": {},
   "source": [
    "#### Step 4: Alice funds and deploys the smart signature\n",
    "* Only *at this step* we decide who is funding the smart signature.\n",
    "* This means we can write the Smart Signature without knowing who will fund it.\n",
    "* It is even possible that multiple people fund a Smart Signature.\n",
    "* Notice that the recipient is the **Dispenser**"
   ]
  },
  {
   "cell_type": "code",
   "execution_count": 31,
   "metadata": {},
   "outputs": [
    {
     "name": "stdout",
     "output_type": "stream",
     "text": [
      "Current round is  19803525.\n",
      "Waiting for round 19803525 to finish.\n",
      "Waiting for round 19803526 to finish.\n",
      "Transaction DNF4BOEPZFBQ5MNOXPHA2FXMOD2733OC5ONGKMSNMT7GRGCFHGMQ confirmed in round 19803527.\n"
     ]
    }
   ],
   "source": [
    "# Step 1: prepare transaction\n",
    "sp = algod_client.suggested_params()\n",
    "amt = int(2.1*1e6)\n",
    "txn = transaction.PaymentTxn(sender=Alice['public'], sp=sp, receiver=Dispenser['hash'], amt=amt)\n",
    "\n",
    "# Step 2+3: sign and sen\n",
    "stxn = txn.sign(Alice['private'])\n",
    "txid = algod_client.send_transaction(stxn)\n",
    "\n",
    "# Step 4: wait for confirmation\n",
    "txinfo = wait_for_confirmation(algod_client, txid)"
   ]
  },
  {
   "cell_type": "code",
   "execution_count": 32,
   "metadata": {},
   "outputs": [
    {
     "name": "stdout",
     "output_type": "stream",
     "text": [
      "http://testnet.algoexplorer.io/address/FMJIAKUOKXQWCMRDY3FNLIWOQ5OX7SPEVJIOTEUMKTVYY4AOWTM5N77DVQ\n"
     ]
    }
   ],
   "source": [
    "# Look at Algoexplorer. (The smart signature is funded.)\n",
    "print('http://testnet.algoexplorer.io/address/'+Dispenser['hash'])"
   ]
  },
  {
   "cell_type": "markdown",
   "metadata": {},
   "source": [
    "#### Step 5: Alice informs Bob\n",
    "*  Bob can only interact with the Smart signature, if he has the following information:"
   ]
  },
  {
   "cell_type": "code",
   "execution_count": 33,
   "metadata": {},
   "outputs": [
    {
     "name": "stdout",
     "output_type": "stream",
     "text": [
      "Alice communicates to Bob the following\n",
      "Compiled smart signature: AyABvua4cCIiEg==\n",
      "Address of smart signature:  FMJIAKUOKXQWCMRDY3FNLIWOQ5OX7SPEVJIOTEUMKTVYY4AOWTM5N77DVQ\n"
     ]
    }
   ],
   "source": [
    "print(\"Alice communicates to Bob the following\")\n",
    "print(\"Compiled smart signature:\", Dispenser['result'])\n",
    "print(\"Address of smart signature: \", Dispenser['hash'])"
   ]
  },
  {
   "cell_type": "markdown",
   "metadata": {},
   "source": [
    "#### Step 6: Bob proposes a transaction to the smart signature\n",
    "* Using the information obtained in step 5\n",
    "* He proposes a payment from the dispenser to himself\n",
    "* The payment transaction is signed by the smart signature, **if the conditions are fullfilled** (easy in this case)"
   ]
  },
  {
   "cell_type": "code",
   "execution_count": 34,
   "metadata": {},
   "outputs": [
    {
     "name": "stdout",
     "output_type": "stream",
     "text": [
      "Current round is  19803984.\n",
      "Waiting for round 19803984 to finish.\n",
      "Waiting for round 19803985 to finish.\n",
      "Transaction 4MVVZ4FWFTERI7FY45INOHZ7GISRRSZOJ7GYTI4SRIS4HPSNFNIA confirmed in round 19803986.\n"
     ]
    }
   ],
   "source": [
    "# Step 1: prepare TX\n",
    "sp = algod_client.suggested_params()\n",
    "withdrawal_amt = int(0.2*1e6)\n",
    "txn = PaymentTxn(sender=Dispenser['hash'], sp=sp, receiver=Bob['public'], amt=withdrawal_amt)\n",
    "\n",
    "# Step 2: sign TX <---- This step is different!\n",
    "encodedProg = Dispenser['result'].encode()\n",
    "program = base64.decodebytes(encodedProg)\n",
    "lsig = LogicSig(program)\n",
    "stxn = LogicSigTransaction(txn, lsig)\n",
    "\n",
    "# Step 3: send\n",
    "txid = algod_client.send_transaction(stxn)\n",
    "\n",
    "# Step 4: wait for confirmation\n",
    "txinfo = wait_for_confirmation(algod_client, txid)"
   ]
  },
  {
   "cell_type": "code",
   "execution_count": 35,
   "metadata": {},
   "outputs": [
    {
     "name": "stdout",
     "output_type": "stream",
     "text": [
      "http://testnet.algoexplorer.io/address/FMJIAKUOKXQWCMRDY3FNLIWOQ5OX7SPEVJIOTEUMKTVYY4AOWTM5N77DVQ\n",
      "http://testnet.algoexplorer.io/address/FEJNBD5DI3TC53AZNGSUAXAR6HAELQF4PLAHSVDUG3EP5WXEKRVULIWOJE\n"
     ]
    }
   ],
   "source": [
    "# Look again at Algoexplorer. \n",
    "# - The smart signature has fewer ALGOs.\n",
    "# - Bob has more ALGOs.\n",
    "print('http://testnet.algoexplorer.io/address/'+Dispenser['hash'])\n",
    "print('http://testnet.algoexplorer.io/address/'+Bob['public'])"
   ]
  },
  {
   "cell_type": "markdown",
   "metadata": {},
   "source": [
    "##### Check holdings"
   ]
  },
  {
   "cell_type": "markdown",
   "metadata": {},
   "source": [
    "### Exercise\n",
    "* Run step 6 again and check again holdings"
   ]
  },
  {
   "cell_type": "markdown",
   "metadata": {},
   "source": [
    "### Exercise\n",
    "* Charlie wants to get **all** the money in the Smart Signature.\n",
    "* How much can he withdraw?\n",
    "* Do not forget the ..."
   ]
  },
  {
   "cell_type": "code",
   "execution_count": 28,
   "metadata": {},
   "outputs": [
    {
     "data": {
      "text/plain": [
       "17798000"
      ]
     },
     "execution_count": 28,
     "metadata": {},
     "output_type": "execute_result"
    }
   ],
   "source": [
    "# Hint: this is the amount of micro-Algos currently in the Smart Signaure\n",
    "algod_client.account_info(Dispenser['hash'])['amount']"
   ]
  },
  {
   "cell_type": "code",
   "execution_count": null,
   "metadata": {},
   "outputs": [],
   "source": [
    "# Python code goes here"
   ]
  }
 ],
 "metadata": {
  "kernelspec": {
   "display_name": "Python 3",
   "language": "python",
   "name": "python3"
  },
  "language_info": {
   "codemirror_mode": {
    "name": "ipython",
    "version": 3
   },
   "file_extension": ".py",
   "mimetype": "text/x-python",
   "name": "python",
   "nbconvert_exporter": "python",
   "pygments_lexer": "ipython3",
   "version": "3.8.8"
  }
 },
 "nbformat": 4,
 "nbformat_minor": 4
}
