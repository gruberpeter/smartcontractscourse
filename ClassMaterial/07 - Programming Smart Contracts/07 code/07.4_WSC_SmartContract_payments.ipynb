{
 "cells": [
  {
   "cell_type": "markdown",
   "id": "6926f89b",
   "metadata": {
    "tags": []
   },
   "source": [
    "## Smart Contracts and Payments in Algos\n",
    "#### 07.4 Winter School on Smart Contracts\n",
    "##### Peter Gruber (peter.gruber@usi.ch)\n",
    "2022-01-09\n"
   ]
  },
  {
   "cell_type": "markdown",
   "id": "fe13923c",
   "metadata": {
    "tags": []
   },
   "source": [
    "## Setup\n",
    "See notebook 04.1, loading `algo_util.py`, the five accounts and the Purestake credentials\n",
    "* Consider hiding this code"
   ]
  },
  {
   "cell_type": "code",
   "execution_count": null,
   "id": "ec6c5ced",
   "metadata": {
    "tags": []
   },
   "outputs": [],
   "source": [
    "# Loading shared code and credentials\n",
    "import sys, os\n",
    "codepath = '..'+os.path.sep+'..'+os.path.sep+'sharedCode'\n",
    "sys.path.append(codepath)\n",
    "from algo_util import *\n",
    "cred = load_credentials()\n",
    "MyAlgo  = cred['MyAlgo']\n",
    "Alice   = cred['Alice']\n",
    "Bob     = cred['Bob']\n",
    "Charlie = cred['Charlie']\n",
    "Dina    = cred['Dina']"
   ]
  },
  {
   "cell_type": "code",
   "execution_count": null,
   "id": "73fc6c13",
   "metadata": {
    "tags": []
   },
   "outputs": [],
   "source": [
    "from algosdk import account, mnemonic\n",
    "from algosdk.v2client import algod\n",
    "from algosdk.future import transaction\n",
    "from algosdk.future.transaction import PaymentTxn\n",
    "from algosdk.future.transaction import AssetConfigTxn, AssetTransferTxn, AssetFreezeTxn\n",
    "import algosdk.error\n",
    "import json\n",
    "import base64\n",
    "import datetime"
   ]
  },
  {
   "cell_type": "code",
   "execution_count": null,
   "id": "7d3448eb",
   "metadata": {
    "tags": []
   },
   "outputs": [],
   "source": [
    "from pyteal import *"
   ]
  },
  {
   "cell_type": "code",
   "execution_count": null,
   "id": "fdaeaf84",
   "metadata": {
    "tags": []
   },
   "outputs": [],
   "source": [
    "# Initialize the algod client (Testnet or Mainnet)\n",
    "algod_client = algod.AlgodClient(algod_token='', algod_address=cred['algod_test'], headers=cred['purestake_token'])\n",
    "last_block = algod_client.status()[\"last-round\"]\n",
    "print(f\"Last committed block is: {last_block}\")"
   ]
  },
  {
   "cell_type": "code",
   "execution_count": null,
   "id": "c0f85744",
   "metadata": {
    "tags": []
   },
   "outputs": [],
   "source": [
    "print(Alice['public'])\n",
    "print(Bob['public'])\n",
    "print(Charlie['public'])"
   ]
  },
  {
   "cell_type": "markdown",
   "id": "b9d44f09",
   "metadata": {},
   "source": [
    "## Social security: a stateful smart contract with blockchain lookup\n",
    "* Idea: check account holdings and give money to the \"poor\"\n",
    "* The limit for \"poor\" is stored in `PoorLimit`\n",
    "* The payout is stored in `Payout`\n",
    "\n",
    "#### Now you do ...\n",
    "* Check the holdings of Bob and Charlie\n",
    "* Set the `PoorLimit` so that it is approx. 1 ALGO more than the poorest of the three"
   ]
  },
  {
   "cell_type": "code",
   "execution_count": null,
   "id": "f185c14b-320a-4191-98b0-985fbd926a48",
   "metadata": {},
   "outputs": [],
   "source": [
    "asset_holdings_df(algod_client,Bob['public'])"
   ]
  },
  {
   "cell_type": "code",
   "execution_count": null,
   "id": "5b5cc7a4-625b-4a15-a9f3-da095be0eb05",
   "metadata": {},
   "outputs": [],
   "source": [
    "asset_holdings_df(algod_client,Charlie['public'])"
   ]
  },
  {
   "cell_type": "markdown",
   "id": "3912eceb",
   "metadata": {},
   "source": [
    "#### Step 1: Define Approval program"
   ]
  },
  {
   "cell_type": "code",
   "execution_count": null,
   "id": "161993e2-8d00-4c9a-af77-d5b0f687773f",
   "metadata": {
    "tags": []
   },
   "outputs": [],
   "source": [
    "PoorLimit = Int(int( 18*1E6 ))    # <------ UPDATE!!!!!! Below XX Algos, you are \"poor\"\n",
    "Payout   = Int(int( 0.5*1E6 ))    "
   ]
  },
  {
   "cell_type": "code",
   "execution_count": null,
   "id": "73a5367b-fe1b-4d87-b632-54c0990774ba",
   "metadata": {
    "tags": []
   },
   "outputs": [],
   "source": [
    "handle_creation = Seq(\n",
    "    [\n",
    "        # Initialize GLOBAL variables\n",
    "        App.globalPut(Bytes(\"Info\"),       Bytes(\"www.usi.ch\")),\n",
    "        App.globalPut(Bytes(\"Funds\"),      Balance(Global.current_application_address())),            \n",
    "        App.globalPut(Bytes(\"Fans\"),       Int(0)),              # so far, 0 fans\n",
    "        App.globalPut(Bytes(\"All_visits\"), Int(0)),              # so far, 0 visits\n",
    "        Return(Int(1)),                                          # Return \"OK\"\n",
    "    ]\n",
    ")\n",
    "\n",
    "# Optin\n",
    "fans = App.globalGet(Bytes(\"Fans\"))\n",
    "visits = App.globalGet(Bytes(\"All_visits\"))\n",
    "handle_optin = Seq (\n",
    "    [\n",
    "        App.globalPut(Bytes(\"Fans\"), fans + Int(1)),                         # Add 1 to number of fans (global)\n",
    "        App.localPut(Int(0), Bytes(\"Visits\"), Int(0)),                       # Add 1 to number of visits (local)\n",
    "        App.localPut(Int(0), Bytes(\"YourHolding\"), Balance(Txn.sender())),\n",
    "        Return(Int(1))\n",
    "    ]\n",
    ")\n",
    "\n",
    "\n",
    "visits_loc  = App.localGet(Int(0), Bytes(\"Visits\"))\n",
    "handle_closeout = Seq(\n",
    "    [\n",
    "        App.globalPut(Bytes(\"Fans\"), fans - Int(1)),\n",
    "        App.globalPut(Bytes(\"All_visits\"), visits - visits_loc),\n",
    "        Return(Int(1)),\n",
    "    ]\n",
    ")\n",
    "\n",
    "handle_updateapp = Return( \n",
    "    Txn.sender() == Global.creator_address()    # only TRUE if delete request is made by creator\n",
    ")\n",
    "\n",
    "handle_deleteapp = Return(\n",
    "    Txn.sender() == Global.creator_address()    # only TRUE if delete request is made by creator\n",
    ")\n",
    "\n",
    "# handle interaction\n",
    "visits_loc  = App.localGet(Int(0), Bytes(\"Visits\"))\n",
    "holdings_loc  = App.localGet(Int(0), Bytes(\"YourHolding\"))\n",
    "handle_noop = Seq(\n",
    "    [\n",
    "        App.globalPut(Bytes(\"All_visits\"), visits+Int(1)),\n",
    "        App.localPut(Int(0), Bytes(\"Visits\"), visits_loc+Int(1)),\n",
    "        App.localPut(Int(0), Bytes(\"LastHolding\"), holdings_loc),\n",
    "        If(Balance(Txn.sender()) < PoorLimit,\n",
    "           # if-part\n",
    "            Seq([\n",
    "                InnerTxnBuilder.Begin(),\n",
    "                InnerTxnBuilder.SetFields({\n",
    "                    TxnField.type_enum: TxnType.Payment,\n",
    "                    TxnField.sender: Global.current_application_address(),\n",
    "                    TxnField.amount: Payout,\n",
    "                    TxnField.receiver: Txn.sender()\n",
    "                    }),\n",
    "                InnerTxnBuilder.Submit(),\n",
    "                App.localPut(Int(0), Bytes(\"Message\"), Bytes(\"You are welcome\"))   \n",
    "                ]),  \n",
    "            # end if-part\n",
    "            # else\n",
    "            App.localPut(Int(0), Bytes(\"Message\"), Bytes(\"You have enough\"))   \n",
    "            ),\n",
    "            # end else-part\n",
    "        App.globalPut(Bytes(\"Funds\"),     Balance(Global.current_application_address())),                    \n",
    "        App.localPut(Int(0), Bytes(\"YourHolding\"), Balance(Txn.sender())),\n",
    "        Return(Int(1))\n",
    "    ]\n",
    ")"
   ]
  },
  {
   "cell_type": "code",
   "execution_count": null,
   "id": "9a85d600",
   "metadata": {
    "tags": []
   },
   "outputs": [],
   "source": [
    "social_approval_pyteal = Cond(\n",
    "    [Txn.application_id() == Int(0),              handle_creation],\n",
    "    [Txn.on_completion()  == OnComplete.OptIn,    handle_optin],\n",
    "    [Txn.on_completion()  == OnComplete.CloseOut, handle_closeout],\n",
    "    [Txn.on_completion()  == OnComplete.UpdateApplication, handle_updateapp],\n",
    "    [Txn.on_completion()  == OnComplete.DeleteApplication, handle_deleteapp],\n",
    "    [Txn.on_completion()  == OnComplete.NoOp, handle_noop],\n",
    ")"
   ]
  },
  {
   "cell_type": "markdown",
   "id": "adcede92",
   "metadata": {},
   "source": [
    "#### Compile PyTEAL -> TEAL\n",
    "* Notice the `Mode.Application` (was `Mode.Signature`)"
   ]
  },
  {
   "cell_type": "code",
   "execution_count": null,
   "id": "88b0b086",
   "metadata": {
    "tags": []
   },
   "outputs": [],
   "source": [
    "social_approval_teal = compileTeal(social_approval_pyteal,mode=Mode.Application, version=5)\n",
    "#print(social_approval_teal)"
   ]
  },
  {
   "cell_type": "markdown",
   "id": "362246d0",
   "metadata": {
    "tags": []
   },
   "source": [
    "#### Step 1b: Define Clear State program\n",
    "* This program handles forced opt-outs"
   ]
  },
  {
   "cell_type": "code",
   "execution_count": null,
   "id": "dce22ba0",
   "metadata": {
    "tags": []
   },
   "outputs": [],
   "source": [
    "visits = App.globalGet(Bytes(\"All_visits\"))\n",
    "visits_loc  = App.localGet(Int(0), Bytes(\"Visits\"))\n",
    "\n",
    "social_clear_pyteal = Seq(\n",
    "    [\n",
    "        App.globalPut(Bytes(\"All_visits\"), visits - visits_loc),\n",
    "        Return(Int(1)),\n",
    "    ]\n",
    ")"
   ]
  },
  {
   "cell_type": "code",
   "execution_count": null,
   "id": "e942aeef",
   "metadata": {},
   "outputs": [],
   "source": [
    "social_clear_teal = compileTeal(social_clear_pyteal,mode=Mode.Application, version=3)\n",
    "print(social_clear_teal)"
   ]
  },
  {
   "cell_type": "markdown",
   "id": "4d8a6cd8",
   "metadata": {},
   "source": [
    "#### Compile TEAL -> Bytecode\n",
    "This is slightly different ... we need one additional step for Byte-encoding"
   ]
  },
  {
   "cell_type": "code",
   "execution_count": null,
   "id": "8de9f7a9",
   "metadata": {},
   "outputs": [],
   "source": [
    "social_approval_b64 = algod_client.compile(social_approval_teal)\n",
    "Social_Approval =  base64.b64decode(social_approval_b64['result'])\n",
    "\n",
    "social_clear_b64 = algod_client.compile(social_clear_teal)\n",
    "Social_Clear =  base64.b64decode(social_clear_b64['result'])"
   ]
  },
  {
   "cell_type": "markdown",
   "id": "58229711",
   "metadata": {},
   "source": [
    "## Deploy Smart Contract\n",
    "\n",
    "##### Alice deploys the smart contract\n",
    "* Reserve (global/local) storage with `StateSchema`"
   ]
  },
  {
   "cell_type": "code",
   "execution_count": null,
   "id": "ae16b4ff",
   "metadata": {},
   "outputs": [],
   "source": [
    "# Step 1: Prepare the transaction\n",
    "sp = algod_client.suggested_params()\n",
    "creator = Alice\n",
    "\n",
    "# How much space do we need?\n",
    "global_ints = 3    # for Fans, All_Visits, Funds\n",
    "global_bytes = 1   # for Info\n",
    "social_global_schema = transaction.StateSchema(global_ints, global_bytes)\n",
    "\n",
    "local_ints = 3     # For Visits, YourHolding, LastHolding\n",
    "local_bytes = 1    # For Message\n",
    "social_local_schema = transaction.StateSchema(local_ints, local_bytes)\n",
    "\n",
    "txn = transaction.ApplicationCreateTxn(\n",
    "      sender = creator['public'],           # <-- sender public\n",
    "      sp = sp,                              # <-- sp\n",
    "      on_complete = 0,                      # <- what to do when finished (nothing)\n",
    "      approval_program = Social_Approval,   # <-- approval program \n",
    "      clear_program = Social_Clear,         # <-- clear program \n",
    "      global_schema = social_global_schema, # <-- reserve global space \n",
    "      local_schema = social_local_schema    # <-- reserve local space\n",
    "    )"
   ]
  },
  {
   "cell_type": "code",
   "execution_count": null,
   "id": "0591f445",
   "metadata": {},
   "outputs": [],
   "source": [
    "# Step 2-4: sign, send, wait\n",
    "stxn = txn.sign(creator['private'])\n",
    "txid=algod_client.send_transactions([stxn])\n",
    "txinfo = wait_for_confirmation(algod_client, txid)"
   ]
  },
  {
   "cell_type": "code",
   "execution_count": null,
   "id": "295d84ce",
   "metadata": {},
   "outputs": [],
   "source": [
    "app_id = txinfo[\"application-index\"]\n",
    "print(\"Created new app-id:\", app_id)"
   ]
  },
  {
   "cell_type": "markdown",
   "id": "4bd26b2b",
   "metadata": {},
   "source": [
    "## The Smart Contract is now deployed\n",
    "* And there is alreasdy something to see"
   ]
  },
  {
   "cell_type": "code",
   "execution_count": null,
   "id": "30b99508",
   "metadata": {},
   "outputs": [],
   "source": [
    "format_state(read_global_state(algod_client,app_id))"
   ]
  },
  {
   "cell_type": "code",
   "execution_count": null,
   "id": "e9acdbe7",
   "metadata": {},
   "outputs": [],
   "source": [
    "# Program code immediately visible on the web\n",
    "print('https://testnet.algoexplorer.io/application/{}'.format(app_id))"
   ]
  },
  {
   "cell_type": "markdown",
   "id": "8b8349c7-7d84-440d-9b7c-14ef6101d578",
   "metadata": {},
   "source": [
    "## To fund the Smart Contract, we need its address\n",
    "There is a difference\n",
    "\n",
    "* `app_id` is the ID number of the Smart Contract, it is needed to call it via `ApplicationNoOpTxn()`\n",
    "* `app_addr` is the public address of the Smart contract, it is needed to fund it via a `PaymentTxn()`\n"
   ]
  },
  {
   "cell_type": "code",
   "execution_count": null,
   "id": "8873daf2-f2bc-402c-8c3e-235ff6d1a903",
   "metadata": {},
   "outputs": [],
   "source": [
    "import algosdk.logic\n",
    "app_addr = algosdk.logic.get_application_address(app_id)\n",
    "print(app_addr)"
   ]
  },
  {
   "cell_type": "code",
   "execution_count": null,
   "id": "886e319a-b28b-4bc6-b8bb-b4c51d978a9e",
   "metadata": {},
   "outputs": [],
   "source": [
    "# Fund the smart contact via the Algorand Dispenser\n",
    "print('https://dispenser.testnet.aws.algodev.network/?account='+app_addr)"
   ]
  },
  {
   "cell_type": "code",
   "execution_count": null,
   "id": "9df39fa8-1283-43a1-a9a1-ad5b5be2086d",
   "metadata": {},
   "outputs": [],
   "source": [
    "# Check holdings of Smart Contract\n",
    "asset_holdings_df(algod_client,app_addr)"
   ]
  },
  {
   "cell_type": "markdown",
   "id": "3e37fc6c",
   "metadata": {},
   "source": [
    "## Using the Smart Contract (1): Users opt-in\n",
    "* No money is dispensed here"
   ]
  },
  {
   "cell_type": "code",
   "execution_count": null,
   "id": "a22a1576",
   "metadata": {},
   "outputs": [],
   "source": [
    "user = Bob\n",
    "\n",
    "# Step 1: prepare transaction\n",
    "sp = algod_client.suggested_params()\n",
    "txn = transaction.ApplicationOptInTxn(user['public'], sp, app_id)\n",
    "\n",
    "# Step 2: sign transaction\n",
    "stxn = txn.sign(user['private'])\n",
    "\n",
    "# Step 3: send\n",
    "txid = algod_client.send_transactions([stxn])\n",
    "\n",
    "# Step 4: await confirmation\n",
    "txinfo = wait_for_confirmation(algod_client, txid)"
   ]
  },
  {
   "cell_type": "markdown",
   "id": "193262de",
   "metadata": {},
   "source": [
    "#### Watch the state of the contract evolve"
   ]
  },
  {
   "cell_type": "code",
   "execution_count": null,
   "id": "1da9cced",
   "metadata": {},
   "outputs": [],
   "source": [
    "format_state(read_global_state(algod_client,app_id))"
   ]
  },
  {
   "cell_type": "code",
   "execution_count": null,
   "id": "8a2aa307",
   "metadata": {},
   "outputs": [],
   "source": [
    "read_local_state(algod_client,user['public'],app_id)"
   ]
  },
  {
   "cell_type": "markdown",
   "id": "c799fc67",
   "metadata": {},
   "source": [
    "#### Now try\n",
    "* For Charlie to opt in"
   ]
  },
  {
   "cell_type": "markdown",
   "id": "4bf296b7",
   "metadata": {},
   "source": [
    "## Using the Smart Contract (2): Call Smart Contract\n",
    "\n",
    "* Smart Contract checks holdings\n",
    "* Disperses 1/2 Algo, if caller is below limit"
   ]
  },
  {
   "cell_type": "code",
   "execution_count": null,
   "id": "c06345f7",
   "metadata": {},
   "outputs": [],
   "source": [
    "user = Bob\n",
    "\n",
    "# Step 1: prepare\n",
    "sp = algod_client.suggested_params()\n",
    "txn = transaction.ApplicationNoOpTxn(user['public'], sp, app_id)\n",
    "\n",
    "# Step 2+3: sign and send\n",
    "stxn = txn.sign(user['private'])\n",
    "txid = algod_client.send_transactions([stxn])\n",
    "\n",
    "# Step 4: wait for condfirmation\n",
    "txinfo = wait_for_confirmation(algod_client, txid)"
   ]
  },
  {
   "cell_type": "markdown",
   "id": "beeff56a",
   "metadata": {},
   "source": [
    "#### Watch the state of the contract evolve"
   ]
  },
  {
   "cell_type": "code",
   "execution_count": null,
   "id": "0dc1e9a7",
   "metadata": {},
   "outputs": [],
   "source": [
    "format_state(read_global_state(algod_client,app_id))"
   ]
  },
  {
   "cell_type": "code",
   "execution_count": null,
   "id": "a23cfbdc",
   "metadata": {},
   "outputs": [],
   "source": [
    "read_local_state(algod_client,user['public'],app_id)"
   ]
  },
  {
   "cell_type": "markdown",
   "id": "daa24c8c-0dae-4f96-9bd5-e621835ec51e",
   "metadata": {},
   "source": [
    "#### Now try\n",
    "* Repeatedly call the Smart Contract from an account that is below the limit\n",
    "* Call the Smart Contract from an account that is above the limit"
   ]
  },
  {
   "cell_type": "markdown",
   "id": "29decefe",
   "metadata": {},
   "source": [
    "## Users close out (leave) App\n",
    "* With a `ApplicationCloseOutTxn`\n",
    "* See [here](https://py-algorand-sdk.readthedocs.io/en/latest/algosdk/future/transaction.html#algosdk.future.transaction.ApplicationCloseOutTxn)"
   ]
  },
  {
   "cell_type": "code",
   "execution_count": null,
   "id": "1e3ebbd8",
   "metadata": {},
   "outputs": [],
   "source": [
    "user = Bob\n",
    "\n",
    "# Step 1-4\n",
    "sp = algod_client.suggested_params()\n",
    "txn = transaction.ApplicationCloseOutTxn(user['public'], sp, app_id)\n",
    "stxn = txn.sign(user['private'])\n",
    "txid = algod_client.send_transactions([stxn])\n",
    "txinfo = wait_for_confirmation(algod_client, txid)"
   ]
  },
  {
   "cell_type": "markdown",
   "id": "b51ac840",
   "metadata": {},
   "source": [
    "#### Watch the state of the contract evolve"
   ]
  },
  {
   "cell_type": "code",
   "execution_count": null,
   "id": "27cf8f56",
   "metadata": {},
   "outputs": [],
   "source": [
    "format_state(read_global_state(algod_client,app_id))"
   ]
  },
  {
   "cell_type": "code",
   "execution_count": null,
   "id": "5d2c6c74",
   "metadata": {},
   "outputs": [],
   "source": [
    "read_local_state(algod_client,user['public'],app_id)"
   ]
  },
  {
   "cell_type": "markdown",
   "id": "9897da97-ddfb-4993-854d-6ca2ae0b1ee6",
   "metadata": {},
   "source": [
    "#### Now try\n",
    "* Charlie should also close out"
   ]
  },
  {
   "cell_type": "markdown",
   "id": "409111b2",
   "metadata": {},
   "source": [
    "## Deleting the app\n",
    "* Rather important, because an address can only create **10 apps**\n",
    "* App can be deleted by creator"
   ]
  },
  {
   "cell_type": "code",
   "execution_count": null,
   "id": "1297904d",
   "metadata": {},
   "outputs": [],
   "source": [
    "creator = Alice\n",
    "\n",
    "# Step 1: Prepare transaction\n",
    "sp = algod_client.suggested_params()\n",
    "txn = transaction.ApplicationDeleteTxn(creator['public'], sp, app_id)\n",
    "\n",
    "# Step 2: sign\n",
    "stxn = txn.sign(creator['private'])\n",
    "\n",
    "# Step 3: send\n",
    "txid = algod_client.send_transactions([stxn])\n",
    "\n",
    "# Step4 : wait for confirmation\n",
    "txinfo = wait_for_confirmation(algod_client, txid)\n",
    "\n",
    "# display results\n",
    "print(\"Deleted app-id:\", txinfo[\"txn\"][\"txn\"][\"apid\"])"
   ]
  }
 ],
 "metadata": {
  "kernelspec": {
   "display_name": "Python 3",
   "language": "python",
   "name": "python3"
  },
  "language_info": {
   "codemirror_mode": {
    "name": "ipython",
    "version": 3
   },
   "file_extension": ".py",
   "mimetype": "text/x-python",
   "name": "python",
   "nbconvert_exporter": "python",
   "pygments_lexer": "ipython3",
   "version": "3.8.8"
  }
 },
 "nbformat": 4,
 "nbformat_minor": 5
}
