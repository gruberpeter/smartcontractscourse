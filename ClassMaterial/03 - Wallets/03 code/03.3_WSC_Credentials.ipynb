{
 "cells": [
  {
   "cell_type": "markdown",
   "id": "8460b8e4",
   "metadata": {},
   "source": [
    "## Credentials\n",
    "#### 03.3Winter School on Smart Contracts\n",
    "##### Peter Gruber (peter.gruber@usi.ch)\n",
    "2022-01-20\n",
    "\n",
    "* Manage credentials in a Python Dict and save to local drive\n",
    "* Credentials will be used throghout the course, do not skip this part!"
   ]
  },
  {
   "cell_type": "markdown",
   "id": "b42826a9",
   "metadata": {},
   "source": [
    "## Set up Python dict with credentials as JSON\n",
    "**CAREFUL** it is suggested you ....\n",
    "* Run this code only once!"
   ]
  },
  {
   "cell_type": "code",
   "execution_count": null,
   "id": "5137e317",
   "metadata": {},
   "outputs": [],
   "source": [
    "import os, json, algosdk\n",
    "from algosdk import account, mnemonic"
   ]
  },
  {
   "cell_type": "markdown",
   "id": "c6b6d1dd",
   "metadata": {},
   "source": [
    "### Create four accounts for future use\n",
    "The idea is to have four accounts ...\n",
    "* Alice is using Python and the mobile phone\n",
    "* Bob is mostly using Python\n",
    "* Charlie is making mistakes\n",
    "* Dina is the fourth agent, if we need one"
   ]
  },
  {
   "cell_type": "code",
   "execution_count": null,
   "id": "641b8b55",
   "metadata": {},
   "outputs": [],
   "source": [
    "# from 03.1_WSC\n",
    "def generate_account_dict():\n",
    "    private_key = account.generate_account()[0]    # need [0], because generate_account() returns a list\n",
    "    acc = {}\n",
    "    acc['public'] = account.address_from_private_key(private_key)\n",
    "    acc['private'] = private_key\n",
    "    acc['mnemonic'] = mnemonic.from_private_key(private_key)\n",
    "    return acc"
   ]
  },
  {
   "cell_type": "code",
   "execution_count": null,
   "id": "5369b8e4",
   "metadata": {},
   "outputs": [],
   "source": [
    "Alice = generate_account_dict()\n",
    "Bob   = generate_account_dict()\n",
    "Charlie = generate_account_dict()\n",
    "Dina   = generate_account_dict()"
   ]
  },
  {
   "cell_type": "markdown",
   "id": "7ce5a7a0",
   "metadata": {},
   "source": [
    "### Add some additional credentials\n",
    "* Let us not only store private keys, but also API credentials"
   ]
  },
  {
   "cell_type": "code",
   "execution_count": null,
   "id": "a26f50bb",
   "metadata": {},
   "outputs": [],
   "source": [
    "cred = {'algod_test' : 'https://testnet-algorand.api.purestake.io/ps2',\n",
    "        'algod_main' : 'https://mainnet-algorand.api.purestake.io/ps2',\n",
    "        'index_test' : 'https://testnet-algorand.api.purestake.io/idx2',\n",
    "        'index_main' : 'https://mainnet-algorand.api.purestake.io/idx2',\n",
    "        'purestake_token' : {'X-Api-key': 'your_prurestake_token'},\n",
    "        'MyAlgo' : {'public' : 'your_public_address', 'private' : 'your_private_key', 'passphrase' : 'your_mnemonic'}\n",
    "        }\n",
    "cred[\"Alice\"] = Alice\n",
    "cred[\"Bob\"] = Bob\n",
    "cred[\"Charlie\"] = Charlie\n",
    "cred[\"Dina\"] = Dina\n",
    "cred"
   ]
  },
  {
   "cell_type": "markdown",
   "id": "77baaf44",
   "metadata": {},
   "source": [
    "### Convert to a nice JSON"
   ]
  },
  {
   "cell_type": "code",
   "execution_count": null,
   "id": "e3861e00",
   "metadata": {},
   "outputs": [],
   "source": [
    "cred_json = json.dumps(cred,indent=4)\n",
    "print(cred_json)"
   ]
  },
  {
   "cell_type": "code",
   "execution_count": null,
   "id": "a28bcf40",
   "metadata": {},
   "outputs": [],
   "source": [
    "filename = '..'+os.path.sep+'..'+os.path.sep+'credentials_temp'          # op.path is needed to run on Win,Mac and Linux\n",
    "with open(filename, 'w') as outfile:                                     # option 'w' ensures overwriting of existing file\n",
    "    outfile.write(cred_json)"
   ]
  },
  {
   "cell_type": "markdown",
   "id": "53a76f33",
   "metadata": {},
   "source": [
    "**NOW ...** \n",
    "* Find the `credentials_tmp` file (two folders up)\n",
    "* Open the file in Jupyter\n",
    "* Rename it to `credentials`\n",
    "* Manually add `purestake_token` credentials to the JSON\n",
    "* Add the credentials to the `MyAlgo` account. This is going to be your main account"
   ]
  },
  {
   "cell_type": "code",
   "execution_count": null,
   "id": "ea7c6328",
   "metadata": {},
   "outputs": [],
   "source": [
    "# For the last step, you may need this:\n",
    "passphrase = \"xxx\"   # from your mobile phone\n",
    "print(algosdk.mnemonic.to_private_key(passphrase))\n",
    "print(algosdk.mnemonic.to_private_key(passphrase))"
   ]
  },
  {
   "cell_type": "markdown",
   "id": "31ef6159",
   "metadata": {},
   "source": [
    "**PRO TIPS** \n",
    "* Do not share your credentials file\n",
    "* Careful with backups!\n",
    "* Do not store it in the dropbox / onedrive / google drive\n",
    "* Immediately add it to `gitignore`"
   ]
  },
  {
   "cell_type": "markdown",
   "id": "df1abe76",
   "metadata": {},
   "source": [
    "# Appendix"
   ]
  },
  {
   "cell_type": "markdown",
   "id": "19bf6377",
   "metadata": {},
   "source": [
    "## Code for reading the credentials file\n",
    "A version of this code as a function is part of the `algo_util.py` in `sharedCode`"
   ]
  },
  {
   "cell_type": "code",
   "execution_count": null,
   "id": "593eff1a",
   "metadata": {},
   "outputs": [],
   "source": [
    "# Reading credentials -- if this does not work, you forgot to rename credentials_tmp\n",
    "import os, json\n",
    "filename = '..'+os.path.sep+'..'+os.path.sep+'credentials'\n",
    "with open(filename) as json_file:\n",
    "    cred = json.load(json_file)"
   ]
  },
  {
   "cell_type": "code",
   "execution_count": null,
   "id": "00ea5d44",
   "metadata": {},
   "outputs": [],
   "source": [
    "# Uncomment if you want to print everything on the screen\n",
    "# print(cred)\n",
    "print(cred['algod_test'])\n",
    "# print(cred['purestake_token'])\n",
    "print(cred['Alice']['public'])\n",
    "print(cred['Bob']['public'])"
   ]
  },
  {
   "cell_type": "markdown",
   "id": "f8dd1bd3",
   "metadata": {},
   "source": [
    "## A quick tutorial on the path"
   ]
  },
  {
   "cell_type": "code",
   "execution_count": null,
   "id": "fbfbec79",
   "metadata": {},
   "outputs": [],
   "source": [
    "# This is the folder in which we are currently working\n",
    "import os, json\n",
    "print(os.getcwd())"
   ]
  },
  {
   "cell_type": "markdown",
   "id": "0ea4935d",
   "metadata": {},
   "source": [
    "#### Different pathes on different operating systems\n",
    "* On Macos and Linux, the path will look like this<br>\n",
    "/Users/pgruber/Documents/WSC/ClassMaterial/03 - Wallets/03 code\n",
    "* On Windows, the path will look like this<br>\n",
    "C:\\Users\\vitto\\Documents\\WSC\\ClassMaterial\\03 - Wallets/03 code"
   ]
  },
  {
   "cell_type": "markdown",
   "id": "e2d279fb",
   "metadata": {},
   "source": [
    "#### Get the path separator"
   ]
  },
  {
   "cell_type": "code",
   "execution_count": null,
   "id": "1943390c",
   "metadata": {},
   "outputs": [],
   "source": [
    "os.path.sep"
   ]
  },
  {
   "cell_type": "markdown",
   "id": "4ca277ab",
   "metadata": {},
   "source": [
    "#### How to say \"the folder right next to this one\"\n",
    "* Cool trick: `..` in the path means \"one level up\"\n",
    "* To get into the file `credentials` that is inside the ClassMaterial folder, we have to go twice \"up\""
   ]
  },
  {
   "cell_type": "code",
   "execution_count": null,
   "id": "342f4fcd",
   "metadata": {},
   "outputs": [],
   "source": [
    "filename = '..'+os.path.sep+'..'+os.path.sep+'credentials'\n",
    "filename"
   ]
  }
 ],
 "metadata": {
  "kernelspec": {
   "display_name": "Python 3",
   "language": "python",
   "name": "python3"
  },
  "language_info": {
   "codemirror_mode": {
    "name": "ipython",
    "version": 3
   },
   "file_extension": ".py",
   "mimetype": "text/x-python",
   "name": "python",
   "nbconvert_exporter": "python",
   "pygments_lexer": "ipython3",
   "version": "3.8.8"
  }
 },
 "nbformat": 4,
 "nbformat_minor": 5
}
