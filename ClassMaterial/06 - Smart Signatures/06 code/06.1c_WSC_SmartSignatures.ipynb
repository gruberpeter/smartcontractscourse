{
 "cells": [
  {
   "cell_type": "markdown",
   "metadata": {},
   "source": [
    "# Smart signatures\n",
    "#### 06.1 Writing Smart Contracts\n",
    "##### Peter Gruber (peter.gruber@usi.ch)\n",
    "2022-01-12\n",
    "\n",
    "* Write and deploy smart Signatures"
   ]
  },
  {
   "cell_type": "markdown",
   "metadata": {
    "tags": []
   },
   "source": [
    "## Setup\n",
    "See notebook 04.1, the lines below will always automatically load functions in `algo_util.py`, the five accounts and the Purestake credentials"
   ]
  },
  {
   "cell_type": "code",
   "execution_count": 19,
   "metadata": {},
   "outputs": [],
   "source": [
    "# Loading shared code and credentials\n",
    "import sys, os\n",
    "\n",
    "codepath = '..'+os.path.sep+'..'+os.path.sep+'sharedCode'\n",
    "sys.path.append(codepath)\n",
    "from algo_util import *\n",
    "cred = load_credentials()\n",
    "\n",
    "# Shortcuts to directly access the 3 main accounts\n",
    "MyAlgo  = cred['MyAlgo']\n",
    "Alice   = cred['Alice']\n",
    "Bob     = cred['Bob']\n",
    "Charlie = cred['Charlie']\n",
    "Dina    = cred['Dina']"
   ]
  },
  {
   "cell_type": "code",
   "execution_count": 20,
   "metadata": {},
   "outputs": [],
   "source": [
    "from algosdk import account, mnemonic\n",
    "from algosdk.v2client import algod\n",
    "from algosdk.future import transaction\n",
    "from algosdk.future.transaction import PaymentTxn\n",
    "from algosdk.future.transaction import AssetConfigTxn, AssetTransferTxn, AssetFreezeTxn\n",
    "from algosdk.future.transaction import LogicSig, LogicSigTransaction\n",
    "\n",
    "import algosdk.error\n",
    "import json\n",
    "import base64\n",
    "import hashlib"
   ]
  },
  {
   "cell_type": "code",
   "execution_count": 21,
   "metadata": {},
   "outputs": [],
   "source": [
    "from pyteal import *"
   ]
  },
  {
   "cell_type": "code",
   "execution_count": 22,
   "metadata": {},
   "outputs": [],
   "source": [
    "# Initialize the algod client (Testnet or Mainnet)\n",
    "algod_client = algod.AlgodClient(algod_token='', algod_address=cred['algod_test'], headers=cred['purestake_token'])"
   ]
  },
  {
   "cell_type": "code",
   "execution_count": 23,
   "metadata": {},
   "outputs": [
    {
     "name": "stdout",
     "output_type": "stream",
     "text": [
      "HITPAAJ4HKANMP6EUYASXDUTCL653T7QMNHJL5NODL6XEGBM4KBLDJ2D2E\n",
      "O2SLRPK4I4SWUOCYGGKHHUCFJJF5ORHFL76YO43FYTB7HUO7AHDDNNR5YA\n",
      "5GIOBOLZSQEHTNNXWRJ6RGNPGCKWYJYUZZKY6YXHJVKFZXRB2YLDFDVH64\n"
     ]
    }
   ],
   "source": [
    "print(Alice['public'])\n",
    "print(Bob['public'])\n",
    "print(Charlie['public'])"
   ]
  },
  {
   "cell_type": "markdown",
   "metadata": {},
   "source": [
    "#### Check Purestake API"
   ]
  },
  {
   "cell_type": "code",
   "execution_count": 24,
   "metadata": {},
   "outputs": [
    {
     "name": "stdout",
     "output_type": "stream",
     "text": [
      "Last committed block is: 19804243\n"
     ]
    }
   ],
   "source": [
    "last_block = algod_client.status()[\"last-round\"]\n",
    "print(f\"Last committed block is: {last_block}\")"
   ]
  },
  {
   "cell_type": "markdown",
   "metadata": {},
   "source": [
    "## The Donation Escrow\n",
    "A classical smart contact. **Alice** donates to **Bob** (and only to **Bob**).\n",
    "\n",
    "**Bob** can decide when to ask for the money."
   ]
  },
  {
   "cell_type": "markdown",
   "metadata": {},
   "source": [
    "##### Step 1: The programmer writes down the conditions as a PyTeal program"
   ]
  },
  {
   "cell_type": "code",
   "execution_count": 25,
   "metadata": {},
   "outputs": [],
   "source": [
    "escrow_pyteal =  (\n",
    "    Txn.receiver() == Addr(Bob[\"public\"])            # Receipient must be Bob\n",
    ")                                                    # Encode addresses using Addr()\n",
    "\n",
    "# Security missing ... do not copy-paste"
   ]
  },
  {
   "cell_type": "markdown",
   "metadata": {},
   "source": [
    "##### Step 2: Compile PyTeal -> Teal"
   ]
  },
  {
   "cell_type": "code",
   "execution_count": 27,
   "metadata": {},
   "outputs": [
    {
     "name": "stdout",
     "output_type": "stream",
     "text": [
      "#pragma version 3\n",
      "txn Receiver\n",
      "addr O2SLRPK4I4SWUOCYGGKHHUCFJJF5ORHFL76YO43FYTB7HUO7AHDDNNR5YA\n",
      "==\n"
     ]
    }
   ],
   "source": [
    "escrow_teal = compileTeal(escrow_pyteal, Mode.Signature, version=3)\n",
    "print(escrow_teal)"
   ]
  },
  {
   "cell_type": "markdown",
   "metadata": {},
   "source": [
    "##### Step 3: Compile Teal -> Bytecode for AVM"
   ]
  },
  {
   "cell_type": "code",
   "execution_count": 28,
   "metadata": {},
   "outputs": [
    {
     "data": {
      "text/plain": [
       "{'hash': 'BPNROCCNRBLPUUY7RBKXQPYE34UHVW5LAFE3T2NRQ537IHKX5ORUOQKE5Q',\n",
       " 'result': 'AyYBIHakuL1cRyVqOFgxlHPQRUpL10TlX/2Hc2XEw/PR3wHGMQcoEg=='}"
      ]
     },
     "execution_count": 28,
     "metadata": {},
     "output_type": "execute_result"
    }
   ],
   "source": [
    "# compile Teal -> Bytecode\n",
    "Escrow = algod_client.compile(escrow_teal)\n",
    "Escrow"
   ]
  },
  {
   "cell_type": "markdown",
   "metadata": {},
   "source": [
    "##### Step 4: Alice funds and deploys the smart signature"
   ]
  },
  {
   "cell_type": "code",
   "execution_count": 29,
   "metadata": {},
   "outputs": [
    {
     "name": "stdout",
     "output_type": "stream",
     "text": [
      "Current round is  19804295.\n",
      "Waiting for round 19804295 to finish.\n",
      "Waiting for round 19804296 to finish.\n",
      "Transaction 4QS2XITDQYLSWI3YDIFMTQY5X3VJ7M7A6FPPA7BS7URZ5BZNXS2Q confirmed in round 19804297.\n"
     ]
    }
   ],
   "source": [
    "# Step 1: prepare transaction\n",
    "sp = algod_client.suggested_params()\n",
    "amt = int(1.5*1e6)\n",
    "txn = transaction.PaymentTxn(sender=Alice['public'], sp=sp, receiver=Escrow['hash'], amt=amt)\n",
    "\n",
    "# Step 2+3: sign and sen\n",
    "stxn = txn.sign(Alice['private'])\n",
    "txid = algod_client.send_transaction(stxn)\n",
    "\n",
    "# Step 4: wait for confirmation\n",
    "txinfo = wait_for_confirmation(algod_client, txid)"
   ]
  },
  {
   "cell_type": "code",
   "execution_count": 30,
   "metadata": {},
   "outputs": [
    {
     "name": "stdout",
     "output_type": "stream",
     "text": [
      "https://testnet.algoexplorer.io/address/BPNROCCNRBLPUUY7RBKXQPYE34UHVW5LAFE3T2NRQ537IHKX5ORUOQKE5Q\n"
     ]
    }
   ],
   "source": [
    "# Smart Signature is now funded\n",
    "print('https://testnet.algoexplorer.io/address/'+ Escrow['hash'])"
   ]
  },
  {
   "cell_type": "markdown",
   "metadata": {},
   "source": [
    "##### Step 5: Alice informs Bob"
   ]
  },
  {
   "cell_type": "code",
   "execution_count": 32,
   "metadata": {},
   "outputs": [
    {
     "name": "stdout",
     "output_type": "stream",
     "text": [
      "Alice communicates to Bob the following\n",
      "Compiled smart signature: AyYBIHakuL1cRyVqOFgxlHPQRUpL10TlX/2Hc2XEw/PR3wHGMQcoEg==\n",
      "Address of smart signature:  BPNROCCNRBLPUUY7RBKXQPYE34UHVW5LAFE3T2NRQ537IHKX5ORUOQKE5Q\n"
     ]
    }
   ],
   "source": [
    "print(\"Alice communicates to Bob the following\")\n",
    "print(\"Compiled smart signature:\", Escrow['result'])\n",
    "print(\"Address of smart signature: \", Escrow['hash'])"
   ]
  },
  {
   "cell_type": "markdown",
   "metadata": {},
   "source": [
    "#### Step 6: Bob proposes a transaction to the smart signature\n",
    "* Again he proposes a payment from the cashmachine to **himself**\n",
    "* The payment transaction is signed by the smart signature, **if the conditions are fullfilled** (correct recipient)"
   ]
  },
  {
   "cell_type": "code",
   "execution_count": 38,
   "metadata": {},
   "outputs": [
    {
     "name": "stdout",
     "output_type": "stream",
     "text": [
      "Current round is  19804451.\n",
      "Waiting for round 19804451 to finish.\n",
      "Waiting for round 19804452 to finish.\n",
      "Waiting for round 19804453 to finish.\n",
      "Transaction P6GI5Z7I43CECGX54FIRNREMD6B2ZYEB7LTYW6RO2456MPNKQ5QA confirmed in round 19804453.\n"
     ]
    }
   ],
   "source": [
    "# Step 1: prepare TX\n",
    "sp = algod_client.suggested_params()\n",
    "withdrawal_amt = int(1.298*1e6) -  int(0.001*1e6)  -  int(0.1*1e6)\n",
    "txn = PaymentTxn(sender=Escrow['hash'], sp=sp, \n",
    "                 receiver=Bob['public'], amt=withdrawal_amt)\n",
    "\n",
    "# Step 2: sign TX <---- This step is different!\n",
    "encodedProg = Escrow['result'].encode()\n",
    "program = base64.decodebytes(encodedProg)\n",
    "lsig = LogicSig(program)\n",
    "stxn = LogicSigTransaction(txn, lsig)\n",
    "\n",
    "# Step 3: send\n",
    "txid = algod_client.send_transaction(stxn)\n",
    "\n",
    "# Step 4: wait for confirmation\n",
    "txinfo = wait_for_confirmation(algod_client, txid)"
   ]
  },
  {
   "cell_type": "markdown",
   "metadata": {},
   "source": [
    "### Exercise\n",
    "* Repeat Step 6. Can Bob withdraw several times?\n",
    "* Write the transaction(s) for Charlie to try to withdraw from the Escrow"
   ]
  },
  {
   "cell_type": "code",
   "execution_count": null,
   "metadata": {},
   "outputs": [],
   "source": [
    "# Python code goes here"
   ]
  }
 ],
 "metadata": {
  "kernelspec": {
   "display_name": "Python 3",
   "language": "python",
   "name": "python3"
  },
  "language_info": {
   "codemirror_mode": {
    "name": "ipython",
    "version": 3
   },
   "file_extension": ".py",
   "mimetype": "text/x-python",
   "name": "python",
   "nbconvert_exporter": "python",
   "pygments_lexer": "ipython3",
   "version": "3.8.8"
  }
 },
 "nbformat": 4,
 "nbformat_minor": 4
}
