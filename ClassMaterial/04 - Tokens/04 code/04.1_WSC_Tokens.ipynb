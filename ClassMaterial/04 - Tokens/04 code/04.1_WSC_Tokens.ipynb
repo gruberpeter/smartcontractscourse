{
 "cells": [
  {
   "cell_type": "markdown",
   "metadata": {},
   "source": [
    "## Tokens on the Algorand Blockchain\n",
    "#### 04.1 Winter School on Smart Contracts\n",
    "##### Peter Gruber (peter.gruber@usi.ch)\n",
    "2024-02-09 (started 2021-11-28)\n",
    "\n",
    "* Opt-in and payments with tokens"
   ]
  },
  {
   "cell_type": "markdown",
   "metadata": {
    "tags": []
   },
   "source": [
    "## Setup\n",
    "Starting with chapter 3.5, the lines below will always automatically load ...\n",
    "* The functions in `algo_util.py`\n",
    "* The accounts MyAlgo, Alice and Bob\n",
    "* The credentials"
   ]
  },
  {
   "cell_type": "code",
   "execution_count": 1,
   "metadata": {},
   "outputs": [],
   "source": [
    "# Loading shared code and credentials\n",
    "import sys, os\n",
    "codepath = '..'+os.path.sep+'..'+os.path.sep+'sharedCode'\n",
    "sys.path.append(codepath)\n",
    "from algo_util import *\n",
    "cred = load_credentials()\n",
    "\n",
    "# Shortcuts to directly access the main accounts\n",
    "MyAlgo  = cred['MyAlgo']\n",
    "Alice   = cred['Alice']\n",
    "Bob     = cred['Bob']\n",
    "Charlie = cred['Charlie']\n",
    "Dina    = cred['Dina']"
   ]
  },
  {
   "cell_type": "code",
   "execution_count": 2,
   "metadata": {},
   "outputs": [],
   "source": [
    "from algosdk import account, mnemonic\n",
    "from algosdk.v2client import algod\n",
    "from algosdk.transaction import PaymentTxn\n",
    "from algosdk.transaction import AssetConfigTxn, AssetTransferTxn, AssetFreezeTxn\n",
    "import algosdk.error\n",
    "import json"
   ]
  },
  {
   "cell_type": "code",
   "execution_count": 3,
   "metadata": {},
   "outputs": [
    {
     "data": {
      "text/plain": [
       "38993296"
      ]
     },
     "execution_count": 3,
     "metadata": {},
     "output_type": "execute_result"
    }
   ],
   "source": [
    "# Initialize the algod client (Testnet or Mainnet)\n",
    "algod_client = algod.AlgodClient(algod_token='', algod_address=cred['algod_test'], headers=cred['api_token'])\n",
    "algod_client.status()['last-round']"
   ]
  },
  {
   "cell_type": "markdown",
   "metadata": {},
   "source": [
    "# ASA = Algorand Standard Assets\n",
    "* All tokens (except the native ALGOs) on the Algorand blockchain are ASAs\n",
    "* Every ASA has a unique index number.\n",
    "\n",
    "### Example: USDC\n",
    "* USDC is the second largest USD stablecoin\n",
    "* See https://coinmarketcap.com/view/stablecoin/\n",
    "* Unlike the largest one (Tether), USDC is US-regulated and audited\n",
    "* USDC on the Testnet: https://testnet.explorer.perawallet.app/asset/10458941\n",
    "* USDC on the Mainnet: https://explorer.perawallet.app/asset/31566704"
   ]
  },
  {
   "cell_type": "markdown",
   "metadata": {},
   "source": [
    "## The opt-in requirement\n",
    "* Every account needs to opt into *each* ASA it wants to hold.\n",
    "* Same for Smart Contracts.\n",
    "\n",
    "##### Why the opt-in requirement?\n",
    "* Avoid spam transactions\n",
    "* Ensure minimum balance"
   ]
  },
  {
   "cell_type": "markdown",
   "metadata": {},
   "source": [
    "### Opt-in with the Pera Algo Wallet\n",
    "* If you have not yet done so, opt into USDC on your MyAlgo account\n",
    "    * Tap on `MyAlgo` > Tap on green `+` next to \"Assets\" > Find name or asset ID on list > Tap on `+` >  Approve transaction\n",
    "    * Obtain free (test) USDC by following the link below"
   ]
  },
  {
   "cell_type": "code",
   "execution_count": 4,
   "metadata": {},
   "outputs": [
    {
     "name": "stdout",
     "output_type": "stream",
     "text": [
      "https://dispenser.testnet.aws.algodev.network/?account=WSC24MVUSQ32IZYD7FNN54Z44IXWL4X7BOJD6AGFOCHOG4PDFESLZUGLTI\n"
     ]
    }
   ],
   "source": [
    "print('https://dispenser.testnet.aws.algodev.network/?account='+MyAlgo['public'])"
   ]
  },
  {
   "cell_type": "markdown",
   "metadata": {},
   "source": [
    "### Manual transfer in Pera Algo Wallet\n",
    "* Send 10 USDC via QR code to your neighbour"
   ]
  },
  {
   "cell_type": "markdown",
   "metadata": {},
   "source": [
    "##  Opt-in with Python\n",
    "* `Alice` opts into USDC\n",
    "    * She needs the index of the ASA – for USDC **on the TestNet** this is 10458941\n",
    "    * She sends 0 units of the ASA to yourself\n",
    "    * New transaction type `AssetTransferTxn` "
   ]
  },
  {
   "cell_type": "code",
   "execution_count": 5,
   "metadata": {},
   "outputs": [],
   "source": [
    "# Alice opts into USDC. \n",
    "\n",
    "# Step 1: prepare AssetTransferTxn\n",
    "\n",
    "sp = algod_client.suggested_params()             # suggested params\n",
    "usdc_index = 10458941                            # <-- get from the issuer of the coin\n",
    "amt = int(0)                                     # <-- send 0 coins\n",
    "\n",
    "txn = AssetTransferTxn(\n",
    "    sender = Alice['public'],                    # <-- Alice sends ...\n",
    "    sp=sp,\n",
    "    receiver=Alice['public'],                    # <-- ... to herself\n",
    "    amt=amt,\n",
    "    index=usdc_index                             # <-- specify ASA\n",
    "    )                               "
   ]
  },
  {
   "cell_type": "code",
   "execution_count": 6,
   "metadata": {},
   "outputs": [
    {
     "name": "stdout",
     "output_type": "stream",
     "text": [
      "LSQOEHQLFNELM3HIS7GXN5DYWWMLFJQRLKG2WOHBF3TYDPUAA6BQ\n"
     ]
    }
   ],
   "source": [
    "# Step 2+3: sign and send\n",
    "stxn = txn.sign(Alice['private'])               # Sign\n",
    "txid = algod_client.send_transaction(stxn)      # Send\n",
    "print(txid)"
   ]
  },
  {
   "cell_type": "code",
   "execution_count": 7,
   "metadata": {},
   "outputs": [
    {
     "name": "stdout",
     "output_type": "stream",
     "text": [
      "Current round is  38993300.\n",
      "Waiting for round 38993300 to finish.\n",
      "Transaction LSQOEHQLFNELM3HIS7GXN5DYWWMLFJQRLKG2WOHBF3TYDPUAA6BQ confirmed in round 38993301.\n"
     ]
    }
   ],
   "source": [
    "# Step 4: Wait for confirmation\n",
    "txinfo = wait_for_confirmation(algod_client,txid)"
   ]
  },
  {
   "cell_type": "markdown",
   "metadata": {},
   "source": [
    "#### Alice gets some USDC\n",
    "* Now that Alice has opted in, she can ask for some USDC\n",
    "* Alternative address https://usdcfaucet.com"
   ]
  },
  {
   "cell_type": "code",
   "execution_count": 8,
   "metadata": {},
   "outputs": [
    {
     "name": "stdout",
     "output_type": "stream",
     "text": [
      "https://dispenser.testnet.aws.algodev.network/?account=ALICEXOA4Q2OD5CKBYND4UX75K3TAODEC3XCVNQ3URMKUMZKUOTOSAQLIU\n"
     ]
    }
   ],
   "source": [
    "print('https://dispenser.testnet.aws.algodev.network/?account='+Alice['public'])"
   ]
  },
  {
   "cell_type": "markdown",
   "metadata": {},
   "source": [
    "#### Check balance on the web\n",
    "* **Hint:** Scroll down to *Assets*"
   ]
  },
  {
   "cell_type": "code",
   "execution_count": 9,
   "metadata": {
    "tags": []
   },
   "outputs": [
    {
     "name": "stdout",
     "output_type": "stream",
     "text": [
      "https://testnet.explorer.perawallet.app/address/ALICEXOA4Q2OD5CKBYND4UX75K3TAODEC3XCVNQ3URMKUMZKUOTOSAQLIU\n"
     ]
    }
   ],
   "source": [
    "print(cred['explore_test']+'address/'+Alice['public'])"
   ]
  },
  {
   "cell_type": "markdown",
   "metadata": {},
   "source": [
    "#### Get the balance in Python"
   ]
  },
  {
   "cell_type": "code",
   "execution_count": null,
   "metadata": {
    "tags": []
   },
   "outputs": [],
   "source": [
    "algod_client.account_info(Alice['public'])"
   ]
  },
  {
   "cell_type": "code",
   "execution_count": 14,
   "metadata": {},
   "outputs": [
    {
     "data": {
      "text/plain": [
       "[{'amount': 279440275, 'asset-id': 10458941, 'is-frozen': False},\n",
       " {'amount': 250, 'asset-id': 592359981, 'is-frozen': False},\n",
       " {'amount': 0, 'asset-id': 592647685, 'is-frozen': False}]"
      ]
     },
     "execution_count": 14,
     "metadata": {},
     "output_type": "execute_result"
    }
   ],
   "source": [
    "# Just the assets\n",
    "algod_client.account_info(Alice['public'])['assets']"
   ]
  },
  {
   "cell_type": "code",
   "execution_count": 15,
   "metadata": {},
   "outputs": [
    {
     "data": {
      "text/plain": [
       "[{'amount': 279440275, 'asset-id': 10458941, 'is-frozen': False}]"
      ]
     },
     "execution_count": 15,
     "metadata": {},
     "output_type": "execute_result"
    }
   ],
   "source": [
    "# Potentially a very long list ... filter entry of interest\n",
    "[asset for asset in algod_client.account_info(Alice['public'])['assets'] if asset['asset-id']==usdc_index]"
   ]
  },
  {
   "cell_type": "markdown",
   "metadata": {},
   "source": [
    "## ASA bookkeeping\n",
    "Have a close look at Alice's holdings ...\n",
    "* ASA are divisible\n",
    "* The creator can decide the number of decimals\n",
    "* Example: USDC has 6 decimals, see https://testnet.explorer.perawallet.app/asset/10458941\n",
    "\n",
    "##### All amounts are specified in the *small unit*\n",
    "* Holdings\n",
    "* Transactions\n",
    "* Smart contracts\n",
    "\n",
    "##### ❗️ Different ASA can have a different number of decimals"
   ]
  },
  {
   "cell_type": "markdown",
   "metadata": {},
   "source": [
    "#### Denoting 1 USDC\n",
    "* USDC has 6 decimals\n",
    "* Hence 1 USDC must be denoted as   $1 \\cdot 10^6$   micro-USDC"
   ]
  },
  {
   "cell_type": "code",
   "execution_count": 16,
   "metadata": {},
   "outputs": [],
   "source": [
    "# Three ways to write \"1 Million\" in Python\n",
    "amt_1 = 1000000\n",
    "amt_2 = 1_000_000       # Python ignores the underscore in numbers\n",
    "amt_3 = int(1E6)        # Need int(), because 1E6 produces a float number"
   ]
  },
  {
   "cell_type": "markdown",
   "metadata": {},
   "source": [
    "## Transfer coins"
   ]
  },
  {
   "cell_type": "markdown",
   "metadata": {},
   "source": [
    "### Exercise: Python transfer to Bob \n",
    "* Transfer 10 USDC from `Alice` to `Bob`\n",
    "* We already have all the elemens to do this\n",
    "* Just do not forget to ... "
   ]
  },
  {
   "cell_type": "code",
   "execution_count": null,
   "metadata": {},
   "outputs": [],
   "source": [
    "# Your Python code goes here ...\n",
    "\n",
    "\n"
   ]
  },
  {
   "cell_type": "code",
   "execution_count": null,
   "metadata": {},
   "outputs": [],
   "source": [
    "# More Python code may go here ...\n",
    "\n",
    "\n"
   ]
  },
  {
   "cell_type": "markdown",
   "metadata": {},
   "source": [
    "#### Then check Bob's balance on the Web"
   ]
  },
  {
   "cell_type": "code",
   "execution_count": 17,
   "metadata": {
    "tags": []
   },
   "outputs": [
    {
     "name": "stdout",
     "output_type": "stream",
     "text": [
      "https://testnet.explorer.perawallet.app/address/BOB23JBQLW3AJREEG3KD7ULMAGYGVZ2LVF2OMZ2XBJIR64NO5P24XN7WEU\n"
     ]
    }
   ],
   "source": [
    "print(cred['explore_test']+'address/'+Bob['public'])"
   ]
  }
 ],
 "metadata": {
  "kernelspec": {
   "display_name": "Python 3 (ipykernel)",
   "language": "python",
   "name": "python3"
  },
  "language_info": {
   "codemirror_mode": {
    "name": "ipython",
    "version": 3
   },
   "file_extension": ".py",
   "mimetype": "text/x-python",
   "name": "python",
   "nbconvert_exporter": "python",
   "pygments_lexer": "ipython3",
   "version": "3.11.5"
  }
 },
 "nbformat": 4,
 "nbformat_minor": 4
}
