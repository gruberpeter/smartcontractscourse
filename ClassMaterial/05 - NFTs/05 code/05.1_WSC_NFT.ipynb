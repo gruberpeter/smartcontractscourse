{
 "cells": [
  {
   "cell_type": "markdown",
   "metadata": {},
   "source": [
    "## 05.1 Creating an NFT\n",
    "##### Peter Gruber, Mattia Biancaterra (mattia.biancaterra@usi.ch, peter.gruber@usi.ch)\n",
    "2023-01-19\n",
    "\n",
    "* Simplified NFT"
   ]
  },
  {
   "cell_type": "markdown",
   "metadata": {
    "tags": []
   },
   "source": [
    "### Setup\n",
    "See notebook 04.1, the lines below will always automatically load functions in `algo_util.py`, the five accounts and the Purestake credentials"
   ]
  },
  {
   "cell_type": "code",
   "execution_count": 1,
   "metadata": {},
   "outputs": [],
   "source": [
    "# Loading shared code and credentials\n",
    "import sys, os\n",
    "codepath = '..'+os.path.sep+'..'+os.path.sep+'sharedCode'\n",
    "sys.path.append(codepath)\n",
    "from algo_util import *\n",
    "cred = load_credentials()\n",
    "\n",
    "# Shortcuts to directly access the 5 main accounts\n",
    "MyAlgo  = cred['MyAlgo']\n",
    "Alice   = cred['Alice']\n",
    "Bob     = cred['Bob']\n",
    "Charlie = cred['Charlie']\n",
    "Dina    = cred['Dina']"
   ]
  },
  {
   "cell_type": "code",
   "execution_count": 2,
   "metadata": {},
   "outputs": [],
   "source": [
    "from algosdk import account, mnemonic\n",
    "from algosdk.v2client import algod\n",
    "from algosdk.transaction import PaymentTxn\n",
    "from algosdk.transaction import AssetConfigTxn, AssetTransferTxn, AssetFreezeTxn\n",
    "import algosdk.error\n",
    "import json"
   ]
  },
  {
   "cell_type": "code",
   "execution_count": 3,
   "metadata": {},
   "outputs": [],
   "source": [
    "import base64\n",
    "import IPython.display\n",
    "import hashlib, requests"
   ]
  },
  {
   "cell_type": "code",
   "execution_count": 4,
   "metadata": {},
   "outputs": [
    {
     "data": {
      "text/plain": [
       "39064362"
      ]
     },
     "execution_count": 4,
     "metadata": {},
     "output_type": "execute_result"
    }
   ],
   "source": [
    "# Initialize the algod client (Testnet or Mainnet)\n",
    "algod_client = algod.AlgodClient(algod_token='', algod_address=cred['algod_test'], headers=cred['api_token'])\n",
    "algod_client.status()['last-round']"
   ]
  },
  {
   "cell_type": "code",
   "execution_count": 5,
   "metadata": {},
   "outputs": [
    {
     "name": "stdout",
     "output_type": "stream",
     "text": [
      "WSC24MVUSQ32IZYD7FNN54Z44IXWL4X7BOJD6AGFOCHOG4PDFESLZUGLTI\n"
     ]
    }
   ],
   "source": [
    "print(MyAlgo['public'])"
   ]
  },
  {
   "cell_type": "markdown",
   "metadata": {},
   "source": [
    "## Showcase\n",
    "\n",
    "this is an example of NFT and how it looks like on Algorand block explorers\n",
    "\n",
    "- https://explorer.perawallet.app/assets/1038214068/"
   ]
  },
  {
   "cell_type": "markdown",
   "metadata": {
    "tags": []
   },
   "source": [
    "## Create a simplified NFT\n",
    "* In theory, NFTs require extensive metadata and hash information for integrity\n",
    "* A simplified NFT with only an image link *currently* works with the Pera Algo Wallet\n",
    "    * A first step for learning\n",
    "    * **Not recommended**"
   ]
  },
  {
   "cell_type": "markdown",
   "metadata": {},
   "source": [
    "#### Step 1: the link to the image\n",
    "* Link is on the Pinata gateway to IPFS\n",
    "* Instead of filename, use `cid` = *content identifier*\n",
    "* Test the link (*very slow*)"
   ]
  },
  {
   "cell_type": "code",
   "execution_count": 6,
   "metadata": {},
   "outputs": [
    {
     "name": "stdout",
     "output_type": "stream",
     "text": [
      "https://gateway.pinata.cloud/ipfs/QmXEKbYJHKVbZ9ZAVMJKrX12koZ3bvMSzXuVLyrfULoV89\n"
     ]
    }
   ],
   "source": [
    "cid = \"QmXEKbYJHKVbZ9ZAVMJKrX12koZ3bvMSzXuVLyrfULoV89\"\n",
    "url = 'https://gateway.pinata.cloud/ipfs/'+cid\n",
    "print(url)"
   ]
  },
  {
   "cell_type": "markdown",
   "metadata": {},
   "source": [
    "#### Step 2: the NFT transaction\n",
    "* NFT is based on an ASA\n",
    "    * `total` (supply) = 1\n",
    "    * Additional field `url`"
   ]
  },
  {
   "cell_type": "markdown",
   "metadata": {},
   "source": [
    "##### Step 2.1a: Setup"
   ]
  },
  {
   "cell_type": "code",
   "execution_count": 7,
   "metadata": {},
   "outputs": [],
   "source": [
    "NFT_name = \"Lugano NFT\"\n",
    "NFT_unit = \"LUG1\"\n",
    "NFT_supply = 1\n",
    "NFT_decimals = 0\n",
    "# plus the URL from above"
   ]
  },
  {
   "cell_type": "markdown",
   "metadata": {},
   "source": [
    "##### Step 2.1b: Same `AssetConfigTxn` as for creating a token\n",
    "* `MyAlgo` creates mints the NFT"
   ]
  },
  {
   "cell_type": "code",
   "execution_count": 8,
   "metadata": {
    "tags": []
   },
   "outputs": [],
   "source": [
    "sp=algod_client.suggested_params()\n",
    "\n",
    "txn = AssetConfigTxn(\n",
    "    sender=MyAlgo['public'],\n",
    "    sp=sp,\n",
    "    total=NFT_supply,\n",
    "    decimals=NFT_decimals,\n",
    "    asset_name=NFT_name,\n",
    "    unit_name=NFT_unit,\n",
    "    manager=MyAlgo['public'],\n",
    "    reserve=MyAlgo['public'],\n",
    "    freeze=MyAlgo['public'],\n",
    "    clawback=MyAlgo['public'],\n",
    "    url=url                            # Direct link to file, no metadata\n",
    ")"
   ]
  },
  {
   "cell_type": "markdown",
   "metadata": {},
   "source": [
    "#### Step 3: Sign and send"
   ]
  },
  {
   "cell_type": "code",
   "execution_count": 9,
   "metadata": {},
   "outputs": [
    {
     "name": "stdout",
     "output_type": "stream",
     "text": [
      "3CRIJQTFEKQRFXGJRMQMX3GLUV22COKA3TEIRRB3EU6ILN4I3HKA\n"
     ]
    }
   ],
   "source": [
    "stxn = txn.sign(MyAlgo['private'])             # Sign\n",
    "txid = algod_client.send_transaction(stxn)     # Send\n",
    "print(txid)"
   ]
  },
  {
   "cell_type": "markdown",
   "metadata": {},
   "source": [
    "#### Step 4: Wait for confirmation"
   ]
  },
  {
   "cell_type": "code",
   "execution_count": 10,
   "metadata": {},
   "outputs": [
    {
     "name": "stdout",
     "output_type": "stream",
     "text": [
      "Current round is  39064368.\n",
      "Waiting for round 39064368 to finish.\n",
      "Waiting for round 39064369 to finish.\n",
      "Transaction 3CRIJQTFEKQRFXGJRMQMX3GLUV22COKA3TEIRRB3EU6ILN4I3HKA confirmed in round 39064370.\n"
     ]
    }
   ],
   "source": [
    "txinfo = wait_for_confirmation(algod_client,txid)"
   ]
  },
  {
   "cell_type": "markdown",
   "metadata": {},
   "source": [
    "#### Step 5: Verification\n",
    "##### Step 5.1: NFT index\n",
    "* The NFT `index` is automatically created"
   ]
  },
  {
   "cell_type": "code",
   "execution_count": 11,
   "metadata": {},
   "outputs": [
    {
     "name": "stdout",
     "output_type": "stream",
     "text": [
      "642547439\n"
     ]
    }
   ],
   "source": [
    "NFT_id = txinfo['asset-index']\n",
    "print(NFT_id)"
   ]
  },
  {
   "cell_type": "markdown",
   "metadata": {},
   "source": [
    "##### Step 5.2: Inspect on Pera Explorer and in Pera Wallet\n",
    "* Inspect on Pera Explorer\n",
    "* Also inspect in the Pera Wallet (TestNet mode)"
   ]
  },
  {
   "cell_type": "code",
   "execution_count": 14,
   "metadata": {},
   "outputs": [
    {
     "name": "stdout",
     "output_type": "stream",
     "text": [
      "https://testnet.explorer.perawallet.app/asset/642547439\n"
     ]
    }
   ],
   "source": [
    "print(cred['explore_test']+'asset/{}'.format(NFT_id))"
   ]
  },
  {
   "cell_type": "markdown",
   "metadata": {
    "tags": []
   },
   "source": [
    "##### Step 6: Check on Blockchain\n",
    "* NFT is an asset that we hold (like USDC)\n",
    "* But also an Asset that we have created"
   ]
  },
  {
   "cell_type": "code",
   "execution_count": 15,
   "metadata": {},
   "outputs": [
    {
     "data": {
      "text/html": [
       "<div>\n",
       "<style scoped>\n",
       "    .dataframe tbody tr th:only-of-type {\n",
       "        vertical-align: middle;\n",
       "    }\n",
       "\n",
       "    .dataframe tbody tr th {\n",
       "        vertical-align: top;\n",
       "    }\n",
       "\n",
       "    .dataframe thead th {\n",
       "        text-align: right;\n",
       "    }\n",
       "</style>\n",
       "<table border=\"1\" class=\"dataframe\">\n",
       "  <thead>\n",
       "    <tr style=\"text-align: right;\">\n",
       "      <th></th>\n",
       "      <th>amount</th>\n",
       "      <th>unit</th>\n",
       "      <th>asset-id</th>\n",
       "      <th>name</th>\n",
       "      <th>decimals</th>\n",
       "    </tr>\n",
       "  </thead>\n",
       "  <tbody>\n",
       "    <tr>\n",
       "      <th>0</th>\n",
       "      <td>37.938357</td>\n",
       "      <td>ALGO</td>\n",
       "      <td>0</td>\n",
       "      <td>Algorand</td>\n",
       "      <td>6</td>\n",
       "    </tr>\n",
       "    <tr>\n",
       "      <th>1</th>\n",
       "      <td>967.000000</td>\n",
       "      <td>PWSC</td>\n",
       "      <td>592359981</td>\n",
       "      <td>Peters WSC coin</td>\n",
       "      <td>2</td>\n",
       "    </tr>\n",
       "    <tr>\n",
       "      <th>2</th>\n",
       "      <td>1.000000</td>\n",
       "      <td>LUG1</td>\n",
       "      <td>592373389</td>\n",
       "      <td>Lugano NFT</td>\n",
       "      <td>0</td>\n",
       "    </tr>\n",
       "    <tr>\n",
       "      <th>3</th>\n",
       "      <td>1000.000000</td>\n",
       "      <td>WSC</td>\n",
       "      <td>640596559</td>\n",
       "      <td>Peters WSC coin</td>\n",
       "      <td>2</td>\n",
       "    </tr>\n",
       "    <tr>\n",
       "      <th>4</th>\n",
       "      <td>1000.000000</td>\n",
       "      <td>WSC</td>\n",
       "      <td>641958950</td>\n",
       "      <td>Peters WSC coin</td>\n",
       "      <td>2</td>\n",
       "    </tr>\n",
       "    <tr>\n",
       "      <th>5</th>\n",
       "      <td>1000.000000</td>\n",
       "      <td>WSC</td>\n",
       "      <td>641960001</td>\n",
       "      <td>Peters WSC coin</td>\n",
       "      <td>2</td>\n",
       "    </tr>\n",
       "    <tr>\n",
       "      <th>6</th>\n",
       "      <td>75.000000</td>\n",
       "      <td>TEMP</td>\n",
       "      <td>641963975</td>\n",
       "      <td>Peters Tempcoin</td>\n",
       "      <td>1</td>\n",
       "    </tr>\n",
       "    <tr>\n",
       "      <th>7</th>\n",
       "      <td>980.000000</td>\n",
       "      <td>WSC</td>\n",
       "      <td>642000039</td>\n",
       "      <td>Peters WSC coin</td>\n",
       "      <td>2</td>\n",
       "    </tr>\n",
       "    <tr>\n",
       "      <th>8</th>\n",
       "      <td>1.000000</td>\n",
       "      <td>LUG1</td>\n",
       "      <td>642547439</td>\n",
       "      <td>Lugano NFT</td>\n",
       "      <td>0</td>\n",
       "    </tr>\n",
       "  </tbody>\n",
       "</table>\n",
       "</div>"
      ],
      "text/plain": [
       "        amount  unit   asset-id             name  decimals\n",
       "0    37.938357  ALGO          0         Algorand         6\n",
       "1   967.000000  PWSC  592359981  Peters WSC coin         2\n",
       "2     1.000000  LUG1  592373389       Lugano NFT         0\n",
       "3  1000.000000   WSC  640596559  Peters WSC coin         2\n",
       "4  1000.000000   WSC  641958950  Peters WSC coin         2\n",
       "5  1000.000000   WSC  641960001  Peters WSC coin         2\n",
       "6    75.000000  TEMP  641963975  Peters Tempcoin         1\n",
       "7   980.000000   WSC  642000039  Peters WSC coin         2\n",
       "8     1.000000  LUG1  642547439       Lugano NFT         0"
      ]
     },
     "execution_count": 15,
     "metadata": {},
     "output_type": "execute_result"
    }
   ],
   "source": [
    "asset_holdings_df(algod_client,MyAlgo['public'])"
   ]
  },
  {
   "cell_type": "code",
   "execution_count": 16,
   "metadata": {},
   "outputs": [
    {
     "data": {
      "text/plain": [
       "[{'amount': 1, 'asset-id': 642547439, 'is-frozen': False}]"
      ]
     },
     "execution_count": 16,
     "metadata": {},
     "output_type": "execute_result"
    }
   ],
   "source": [
    "# Looking for assets that we hold\n",
    "[asset for asset in algod_client.account_info(MyAlgo['public'])['assets'] if asset['asset-id']==NFT_id]"
   ]
  },
  {
   "cell_type": "code",
   "execution_count": 17,
   "metadata": {},
   "outputs": [
    {
     "data": {
      "text/plain": [
       "[{'index': 642547439,\n",
       "  'params': {'clawback': 'WSC24MVUSQ32IZYD7FNN54Z44IXWL4X7BOJD6AGFOCHOG4PDFESLZUGLTI',\n",
       "   'creator': 'WSC24MVUSQ32IZYD7FNN54Z44IXWL4X7BOJD6AGFOCHOG4PDFESLZUGLTI',\n",
       "   'decimals': 0,\n",
       "   'default-frozen': False,\n",
       "   'freeze': 'WSC24MVUSQ32IZYD7FNN54Z44IXWL4X7BOJD6AGFOCHOG4PDFESLZUGLTI',\n",
       "   'manager': 'WSC24MVUSQ32IZYD7FNN54Z44IXWL4X7BOJD6AGFOCHOG4PDFESLZUGLTI',\n",
       "   'name': 'Lugano NFT',\n",
       "   'name-b64': 'THVnYW5vIE5GVA==',\n",
       "   'reserve': 'WSC24MVUSQ32IZYD7FNN54Z44IXWL4X7BOJD6AGFOCHOG4PDFESLZUGLTI',\n",
       "   'total': 1,\n",
       "   'unit-name': 'LUG1',\n",
       "   'unit-name-b64': 'TFVHMQ==',\n",
       "   'url': 'https://gateway.pinata.cloud/ipfs/QmXEKbYJHKVbZ9ZAVMJKrX12koZ3bvMSzXuVLyrfULoV89',\n",
       "   'url-b64': 'aHR0cHM6Ly9nYXRld2F5LnBpbmF0YS5jbG91ZC9pcGZzL1FtWEVLYllKSEtWYlo5WkFWTUpLclgxMmtvWjNidk1Telh1Vkx5cmZVTG9WODk='}}]"
      ]
     },
     "execution_count": 17,
     "metadata": {},
     "output_type": "execute_result"
    }
   ],
   "source": [
    "# Looking for asset that we have created\n",
    "# NOTE: slightly different naming!!\n",
    "[asset for asset in algod_client.account_info(MyAlgo['public'])['created-assets'] if asset['index']==NFT_id]"
   ]
  },
  {
   "cell_type": "markdown",
   "metadata": {},
   "source": [
    "## Exercise\n",
    "* Repeat the entire notebook with a different file format, e.g. `png` or `pdf`\n"
   ]
  }
 ],
 "metadata": {
  "kernelspec": {
   "display_name": "Python 3 (ipykernel)",
   "language": "python",
   "name": "python3"
  },
  "language_info": {
   "codemirror_mode": {
    "name": "ipython",
    "version": 3
   },
   "file_extension": ".py",
   "mimetype": "text/x-python",
   "name": "python",
   "nbconvert_exporter": "python",
   "pygments_lexer": "ipython3",
   "version": "3.11.5"
  },
  "vscode": {
   "interpreter": {
    "hash": "40d3a090f54c6569ab1632332b64b2c03c39dcf918b08424e98f38b5ae0af88f"
   }
  }
 },
 "nbformat": 4,
 "nbformat_minor": 4
}
