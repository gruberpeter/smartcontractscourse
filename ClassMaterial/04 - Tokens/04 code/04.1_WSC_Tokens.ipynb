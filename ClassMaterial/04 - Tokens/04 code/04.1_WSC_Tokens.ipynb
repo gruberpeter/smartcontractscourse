{
 "cells": [
  {
   "cell_type": "markdown",
   "metadata": {},
   "source": [
    "## Tokens on the Algorand Blockchain\n",
    "#### 04.1 Winter School on Smart Contracts\n",
    "##### Peter Gruber (peter.gruber@usi.ch)\n",
    "2021-11-28\n"
   ]
  },
  {
   "cell_type": "markdown",
   "metadata": {
    "tags": []
   },
   "source": [
    "## Setup\n",
    "Starting with chapter 3.5, the lines below will always automatically load ...\n",
    "* The functions in `algo_util.py`\n",
    "* The accounts MyAlgo, Alice and Bob\n",
    "* The Purestake credentials"
   ]
  },
  {
   "cell_type": "code",
   "execution_count": null,
   "metadata": {},
   "outputs": [],
   "source": [
    "# Loading shared code and credentials\n",
    "import sys, os\n",
    "codepath = '..'+os.path.sep+'..'+os.path.sep+'sharedCode'\n",
    "sys.path.append(codepath)\n",
    "from algo_util import *\n",
    "cred = load_credentials()\n",
    "\n",
    "# Shortcuts to directly access the main accounts\n",
    "MyAlgo  = cred['MyAlgo']\n",
    "Alice   = cred['Alice']\n",
    "Bob     = cred['Bob']\n",
    "Charlie = cred['Charlie']\n",
    "Dina    = cred['Dina']"
   ]
  },
  {
   "cell_type": "code",
   "execution_count": null,
   "metadata": {},
   "outputs": [],
   "source": [
    "from algosdk import account, mnemonic\n",
    "from algosdk.v2client import algod\n",
    "from algosdk.future.transaction import PaymentTxn\n",
    "from algosdk.future.transaction import AssetConfigTxn, AssetTransferTxn, AssetFreezeTxn\n",
    "import algosdk.error\n",
    "import json"
   ]
  },
  {
   "cell_type": "code",
   "execution_count": null,
   "metadata": {},
   "outputs": [],
   "source": [
    "# Initialize the algod client (Testnet or Mainnet)\n",
    "algod_client = algod.AlgodClient(algod_token='', algod_address=cred['algod_test'], headers=cred['purestake_token'])"
   ]
  },
  {
   "cell_type": "markdown",
   "metadata": {},
   "source": [
    "# ASA = Algorand Standard Assets\n",
    "* All tokens (except the native ALGOs) on the Algorand blockchain are ASAs\n",
    "* Every ASA has a unique index number.\n",
    "\n",
    "### Example: USDC\n",
    "* USDC is the second largest USD stablecoin\n",
    "* See https://coinmarketcap.com/view/stablecoin/\n",
    "* Unlike the largest one (Tether), it is US-regulated and audited\n",
    "* USD on the Testnet: https://testnet.algoexplorer.io/asset/10458941\n",
    "* USDC on the Mainnet: https://algoexplorer.io/asset/31566704"
   ]
  },
  {
   "cell_type": "markdown",
   "metadata": {},
   "source": [
    "### Step 0: Try to obtain free (test) USDC\n",
    "Try got some free (test) USDC for your main account `MyAlgo`\n"
   ]
  },
  {
   "cell_type": "code",
   "execution_count": null,
   "metadata": {},
   "outputs": [],
   "source": [
    "print('https://dispenser.testnet.aws.algodev.network/?account='+MyAlgo['public'])"
   ]
  },
  {
   "cell_type": "markdown",
   "metadata": {},
   "source": [
    "**>>This does not work** at the moment, because MyAlgo did not *opt-in*"
   ]
  },
  {
   "cell_type": "markdown",
   "metadata": {},
   "source": [
    "### Step 1: Opt-in\n",
    "##### Why do we need an opt-in?\n",
    "* To avoid Spam on the blockchain, every account needs to *opt into* each ASA it wants to hold.\n",
    "* Same valid for Smart Contracts.\n",
    "\n",
    "##### The opt-in transaction\n",
    "* Send 0 units of the ASA to yourself\n",
    "* Need to specify index of the ASA – for (test) USDc this is 10458941\n",
    "\n",
    "**New** transaction type `AssetTransferTxn` "
   ]
  },
  {
   "cell_type": "code",
   "execution_count": null,
   "metadata": {},
   "outputs": [],
   "source": [
    "# Step 1a: MyAlgo opts into USDC. \n",
    "#          He sends 0 USD to himself using an AssetTransferTxn\n",
    "\n",
    "sp = algod_client.suggested_params()             # Suggested params\n",
    "usdc_index = 10458941                            # <-- get this from the issuer of the coin\n",
    "amt = int(0)                                     # <-- Send 0 coins\n",
    "\n",
    "txn = AssetTransferTxn(\n",
    "    sender = MyAlgo['public'],                   # <-- MyAlgo sends ...\n",
    "    sp=sp,\n",
    "    receiver=MyAlgo['public'],                   # <-- ... to himself\n",
    "    amt=amt,                                     # <-- Zero coins\n",
    "    index=usdc_index                             # <-- Specify which ASA ... here it is USDC\n",
    "    )                               "
   ]
  },
  {
   "cell_type": "code",
   "execution_count": null,
   "metadata": {},
   "outputs": [],
   "source": [
    "# Step 1b+c: sign and send\n",
    "stxn = txn.sign(MyAlgo['private'])             # Sign\n",
    "txid = algod_client.send_transaction(stxn)     # Send\n",
    "print(txid)"
   ]
  },
  {
   "cell_type": "code",
   "execution_count": null,
   "metadata": {},
   "outputs": [],
   "source": [
    "# Step 1d: Wait for confirmation\n",
    "txinfo = wait_for_confirmation(algod_client,txid)"
   ]
  },
  {
   "cell_type": "markdown",
   "metadata": {},
   "source": [
    "#### Step 2: Get some USDc\n",
    "Now that MyAlgo has opted in, he can ask for some USDC"
   ]
  },
  {
   "cell_type": "code",
   "execution_count": null,
   "metadata": {},
   "outputs": [],
   "source": [
    "print('https://dispenser.testnet.aws.algodev.network/?account='+MyAlgo['public'])"
   ]
  },
  {
   "cell_type": "markdown",
   "metadata": {},
   "source": [
    "#### Step 3: Check Balance on the Web\n",
    "Click into the triangle next to *Balances*"
   ]
  },
  {
   "cell_type": "code",
   "execution_count": null,
   "metadata": {
    "tags": []
   },
   "outputs": [],
   "source": [
    "print('https://testnet.algoexplorer.io/address/'+MyAlgo['public'])"
   ]
  },
  {
   "cell_type": "markdown",
   "metadata": {},
   "source": [
    "#### Step 3b: Get the balance in Python"
   ]
  },
  {
   "cell_type": "code",
   "execution_count": null,
   "metadata": {
    "tags": []
   },
   "outputs": [],
   "source": [
    "algod_client.account_info(MyAlgo['public'])"
   ]
  },
  {
   "cell_type": "code",
   "execution_count": null,
   "metadata": {},
   "outputs": [],
   "source": [
    "# Just the assets\n",
    "algod_client.account_info(MyAlgo['public'])['assets']"
   ]
  },
  {
   "cell_type": "markdown",
   "metadata": {},
   "source": [
    "## ASA bookkeeping\n",
    "* Have a close look at MyAlgo's holdings ...\n",
    "* ASA are divisible\n",
    "* The creator can decide the number of decimals\n",
    "* Example: USDC has 6 decimals, see https://testnet.algoexplorer.io/asset/10458941\n",
    "\n",
    "##### All amounts are specified in the *small unit*\n",
    "* Holdings\n",
    "* Transactions\n",
    "* Smart contracts\n",
    "\n",
    "##### >> Different ASA can have different numbers of decimals"
   ]
  },
  {
   "cell_type": "markdown",
   "metadata": {},
   "source": [
    "#### Denoting 1 USDC\n",
    "* USDC has 6 Decimals\n",
    "* Hence 1 USDC must be denoted as   $1 \\cdot 10^6$   micro-USDC"
   ]
  },
  {
   "cell_type": "code",
   "execution_count": null,
   "metadata": {},
   "outputs": [],
   "source": [
    "# Three ways to write \"1 Million\" in Python\n",
    "amt_1 = 1000000\n",
    "amt_2 = 1_000_000       # Python ignores the underscore in numbers\n",
    "amt_3 = int(1E6)        # Need int(), because 1E6 produces a float number"
   ]
  },
  {
   "cell_type": "markdown",
   "metadata": {},
   "source": [
    "## Transfer coins\n",
    "In this section we will transfer coins ...\n",
    "* To Alice using the Wallet app\n",
    "* Using Python to Charlie"
   ]
  },
  {
   "cell_type": "markdown",
   "metadata": {},
   "source": [
    "### Manual transfer to Alice\n",
    "\n",
    "* Open the Algorand Wallet app\n",
    "* Alice has to opt-in\n",
    "  * Tap `+ Add new asset`, then `All` (not \"Only verified\")\n",
    "  * Search for name or asset ID\n",
    "* Now you can send 10 USDC via copy-paste or via QR code to your neighbour"
   ]
  },
  {
   "cell_type": "markdown",
   "metadata": {},
   "source": [
    "### Exercise: Python transfer to Bob \n",
    "* Transfer 10 USDC from `MyAlgo` to `Bob`\n",
    "* We already have all the elemens to do this\n",
    "* Just do not forget to ... "
   ]
  },
  {
   "cell_type": "code",
   "execution_count": null,
   "metadata": {},
   "outputs": [],
   "source": [
    "# Your Python code goes here ...\n",
    "\n",
    "\n"
   ]
  },
  {
   "cell_type": "code",
   "execution_count": null,
   "metadata": {},
   "outputs": [],
   "source": [
    "# More Python code may go here ...\n",
    "\n",
    "\n"
   ]
  },
  {
   "cell_type": "markdown",
   "metadata": {},
   "source": [
    "#### Then check Bob's balance on the Web"
   ]
  },
  {
   "cell_type": "code",
   "execution_count": null,
   "metadata": {
    "tags": []
   },
   "outputs": [],
   "source": [
    "print('https://testnet.algoexplorer.io/address/'+Bob['public'])"
   ]
  }
 ],
 "metadata": {
  "kernelspec": {
   "display_name": "Python 3",
   "language": "python",
   "name": "python3"
  },
  "language_info": {
   "codemirror_mode": {
    "name": "ipython",
    "version": 3
   },
   "file_extension": ".py",
   "mimetype": "text/x-python",
   "name": "python",
   "nbconvert_exporter": "python",
   "pygments_lexer": "ipython3",
   "version": "3.8.8"
  }
 },
 "nbformat": 4,
 "nbformat_minor": 4
}
