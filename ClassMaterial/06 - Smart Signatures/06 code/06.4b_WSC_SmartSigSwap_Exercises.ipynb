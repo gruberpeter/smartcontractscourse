{
 "cells": [
  {
   "cell_type": "markdown",
   "metadata": {},
   "source": [
    "## Smart Signatures with Atomic Swaps\n",
    "## Exercises\n",
    "#### 06.4 Winter School on Smart Contracts\n",
    "##### Peter Gruber (peter.gruber@usi.ch)\n",
    "2022-01-22\n",
    "\n",
    "* Sell ASA for a fixed price\n",
    "* Combine Atomic Swap and Smart Signature\n",
    "* Learn to use the If statement"
   ]
  },
  {
   "cell_type": "markdown",
   "metadata": {
    "tags": []
   },
   "source": [
    "## Setup\n",
    "See notebook 04.1, the lines below will always automatically load functions in `algo_util.py`, the 5 accounts and the Purestake credentials"
   ]
  },
  {
   "cell_type": "code",
   "execution_count": 2,
   "metadata": {},
   "outputs": [],
   "source": [
    "# Loading shared code and credentials\n",
    "import sys, os\n",
    "\n",
    "codepath = '..'+os.path.sep+'..'+os.path.sep+'sharedCode'\n",
    "sys.path.append(codepath)\n",
    "from algo_util import *\n",
    "cred = load_credentials()\n",
    "\n",
    "# Shortcuts to directly access the 3 main accounts\n",
    "MyAlgo  = cred['MyAlgo']\n",
    "Alice   = cred['Alice']\n",
    "Bob     = cred['Bob']\n",
    "Charlie = cred['Charlie']\n",
    "Dina    = cred['Dina']"
   ]
  },
  {
   "cell_type": "code",
   "execution_count": 3,
   "metadata": {},
   "outputs": [],
   "source": [
    "from algosdk import account, mnemonic\n",
    "from algosdk.v2client import algod\n",
    "from algosdk.future import transaction\n",
    "from algosdk.future.transaction import PaymentTxn\n",
    "from algosdk.future.transaction import AssetConfigTxn, AssetTransferTxn, AssetFreezeTxn\n",
    "from algosdk.future.transaction import LogicSig, LogicSigTransaction\n",
    "\n",
    "import algosdk.error\n",
    "import json\n",
    "import base64\n",
    "import pandas as pd"
   ]
  },
  {
   "cell_type": "code",
   "execution_count": 4,
   "metadata": {},
   "outputs": [],
   "source": [
    "from pyteal import *"
   ]
  },
  {
   "cell_type": "code",
   "execution_count": 5,
   "metadata": {},
   "outputs": [],
   "source": [
    "# Initialize the algod client (Testnet or Mainnet)\n",
    "algod_client = algod.AlgodClient(algod_token='', algod_address=cred['algod_test'], headers=cred['purestake_token'])"
   ]
  },
  {
   "cell_type": "code",
   "execution_count": 6,
   "metadata": {},
   "outputs": [
    {
     "name": "stdout",
     "output_type": "stream",
     "text": [
      "HITPAAJ4HKANMP6EUYASXDUTCL653T7QMNHJL5NODL6XEGBM4KBLDJ2D2E\n",
      "O2SLRPK4I4SWUOCYGGKHHUCFJJF5ORHFL76YO43FYTB7HUO7AHDDNNR5YA\n",
      "5GIOBOLZSQEHTNNXWRJ6RGNPGCKWYJYUZZKY6YXHJVKFZXRB2YLDFDVH64\n"
     ]
    }
   ],
   "source": [
    "print(Alice['public'])\n",
    "print(Bob['public'])\n",
    "print(Charlie['public'])"
   ]
  },
  {
   "cell_type": "markdown",
   "metadata": {},
   "source": [
    "## The Vending Machine – Exercises"
   ]
  },
  {
   "cell_type": "markdown",
   "metadata": {},
   "source": [
    "#### Exercise 1: exchange rate (price)\n",
    "* Change the smart contract so that 2 ALGOs are exchanged for 1 WSC coin. *Hint:* keep the decimals in mind!\n",
    "* Test the smart contract. *Hint:* do not forget to adjust the amounts to reflect the new exchange rate."
   ]
  },
  {
   "cell_type": "markdown",
   "metadata": {},
   "source": [
    "#### Exercise 2: allow overpayment\n",
    "* Change the smart contract so that it is OK if Bob pays too many ALGOs for a certain amount of WSC coins"
   ]
  },
  {
   "cell_type": "markdown",
   "metadata": {},
   "source": [
    "#### Exercise 3: Anti money loundering\n",
    "* Add an anti money-loundering condition\n",
    "* Currently it is possible that Bob pays, but Charlie receives the coins\n",
    "* We want to avoid that with a condition that whoever pays the ALGOs must the the one to receive the coins"
   ]
  },
  {
   "cell_type": "markdown",
   "metadata": {},
   "source": [
    "#### Step 0: Get the status before the swap\n",
    "* Also fund accounts if need be\n",
    "* https://bank.testnet.algorand.network\n",
    "* https://testnet.algoexplorer.io/dispenser"
   ]
  },
  {
   "cell_type": "code",
   "execution_count": 7,
   "metadata": {},
   "outputs": [
    {
     "data": {
      "text/html": [
       "<div>\n",
       "<style scoped>\n",
       "    .dataframe tbody tr th:only-of-type {\n",
       "        vertical-align: middle;\n",
       "    }\n",
       "\n",
       "    .dataframe tbody tr th {\n",
       "        vertical-align: top;\n",
       "    }\n",
       "\n",
       "    .dataframe thead th {\n",
       "        text-align: right;\n",
       "    }\n",
       "</style>\n",
       "<table border=\"1\" class=\"dataframe\">\n",
       "  <thead>\n",
       "    <tr style=\"text-align: right;\">\n",
       "      <th></th>\n",
       "      <th>amountMyAlgo</th>\n",
       "      <th>unit</th>\n",
       "      <th>asset-id</th>\n",
       "      <th>name</th>\n",
       "      <th>decimals</th>\n",
       "      <th>amountBob</th>\n",
       "    </tr>\n",
       "  </thead>\n",
       "  <tbody>\n",
       "    <tr>\n",
       "      <th>0</th>\n",
       "      <td>2.477700e+01</td>\n",
       "      <td>ALGO</td>\n",
       "      <td>0</td>\n",
       "      <td>Algorand</td>\n",
       "      <td>6</td>\n",
       "      <td>66.226083</td>\n",
       "    </tr>\n",
       "    <tr>\n",
       "      <th>1</th>\n",
       "      <td>1.900000e+02</td>\n",
       "      <td>USDC</td>\n",
       "      <td>10458941</td>\n",
       "      <td>USDC</td>\n",
       "      <td>6</td>\n",
       "      <td>100.000000</td>\n",
       "    </tr>\n",
       "    <tr>\n",
       "      <th>2</th>\n",
       "      <td>5.030000e-01</td>\n",
       "      <td>CO2</td>\n",
       "      <td>62583103</td>\n",
       "      <td>COtoken</td>\n",
       "      <td>3</td>\n",
       "      <td>NaN</td>\n",
       "    </tr>\n",
       "    <tr>\n",
       "      <th>3</th>\n",
       "      <td>1.323348e+09</td>\n",
       "      <td>FOO</td>\n",
       "      <td>66272884</td>\n",
       "      <td>FOOcoin</td>\n",
       "      <td>2</td>\n",
       "      <td>NaN</td>\n",
       "    </tr>\n",
       "    <tr>\n",
       "      <th>4</th>\n",
       "      <td>9.992000e+01</td>\n",
       "      <td>WSC</td>\n",
       "      <td>66504861</td>\n",
       "      <td>WSC coin</td>\n",
       "      <td>2</td>\n",
       "      <td>NaN</td>\n",
       "    </tr>\n",
       "    <tr>\n",
       "      <th>5</th>\n",
       "      <td>8.972000e+01</td>\n",
       "      <td>WSC</td>\n",
       "      <td>66505040</td>\n",
       "      <td>WSC coin</td>\n",
       "      <td>2</td>\n",
       "      <td>0.770000</td>\n",
       "    </tr>\n",
       "    <tr>\n",
       "      <th>6</th>\n",
       "      <td>9.900000e+02</td>\n",
       "      <td>WSC</td>\n",
       "      <td>66709453</td>\n",
       "      <td>Peters WSC coin</td>\n",
       "      <td>2</td>\n",
       "      <td>10.000000</td>\n",
       "    </tr>\n",
       "    <tr>\n",
       "      <th>7</th>\n",
       "      <td>7.500000e+01</td>\n",
       "      <td>TEMP</td>\n",
       "      <td>66711321</td>\n",
       "      <td>Peters Tempcoin</td>\n",
       "      <td>1</td>\n",
       "      <td>25.000000</td>\n",
       "    </tr>\n",
       "    <tr>\n",
       "      <th>8</th>\n",
       "      <td>6.971000e-02</td>\n",
       "      <td>TMPOOL11</td>\n",
       "      <td>67246780</td>\n",
       "      <td>TinymanPool1.1 CO2-ALGO</td>\n",
       "      <td>6</td>\n",
       "      <td>NaN</td>\n",
       "    </tr>\n",
       "    <tr>\n",
       "      <th>9</th>\n",
       "      <td>0.000000e+00</td>\n",
       "      <td>TMPOOL11</td>\n",
       "      <td>67253217</td>\n",
       "      <td>TinymanPool1.1 TEMP-ALGO</td>\n",
       "      <td>6</td>\n",
       "      <td>NaN</td>\n",
       "    </tr>\n",
       "    <tr>\n",
       "      <th>10</th>\n",
       "      <td>7.500000e+01</td>\n",
       "      <td>TEMP</td>\n",
       "      <td>67305600</td>\n",
       "      <td>Peters Tempcoin</td>\n",
       "      <td>1</td>\n",
       "      <td>25.000000</td>\n",
       "    </tr>\n",
       "    <tr>\n",
       "      <th>11</th>\n",
       "      <td>1.000000e+03</td>\n",
       "      <td>WSC</td>\n",
       "      <td>70617284</td>\n",
       "      <td>Peters WSC coin</td>\n",
       "      <td>2</td>\n",
       "      <td>NaN</td>\n",
       "    </tr>\n",
       "    <tr>\n",
       "      <th>12</th>\n",
       "      <td>9.900000e+02</td>\n",
       "      <td>pWSC</td>\n",
       "      <td>70626778</td>\n",
       "      <td>Peters WSC coin</td>\n",
       "      <td>2</td>\n",
       "      <td>10.000000</td>\n",
       "    </tr>\n",
       "    <tr>\n",
       "      <th>13</th>\n",
       "      <td>7.500000e+01</td>\n",
       "      <td>TEMP</td>\n",
       "      <td>70627982</td>\n",
       "      <td>Peters Tempcoin</td>\n",
       "      <td>1</td>\n",
       "      <td>25.000000</td>\n",
       "    </tr>\n",
       "    <tr>\n",
       "      <th>14</th>\n",
       "      <td>9.440000e+02</td>\n",
       "      <td>WSC</td>\n",
       "      <td>71140107</td>\n",
       "      <td>Peters WSC coin</td>\n",
       "      <td>2</td>\n",
       "      <td>0.100000</td>\n",
       "    </tr>\n",
       "    <tr>\n",
       "      <th>15</th>\n",
       "      <td>1.100000e+01</td>\n",
       "      <td>pWSC</td>\n",
       "      <td>71140125</td>\n",
       "      <td>Peters WSC coin</td>\n",
       "      <td>2</td>\n",
       "      <td>NaN</td>\n",
       "    </tr>\n",
       "    <tr>\n",
       "      <th>16</th>\n",
       "      <td>2.000000e+02</td>\n",
       "      <td>wlWSC</td>\n",
       "      <td>71140593</td>\n",
       "      <td>WL WSC coin</td>\n",
       "      <td>2</td>\n",
       "      <td>NaN</td>\n",
       "    </tr>\n",
       "    <tr>\n",
       "      <th>17</th>\n",
       "      <td>NaN</td>\n",
       "      <td>VtC</td>\n",
       "      <td>70161280</td>\n",
       "      <td>VoteCoin</td>\n",
       "      <td>2</td>\n",
       "      <td>2.000000</td>\n",
       "    </tr>\n",
       "    <tr>\n",
       "      <th>18</th>\n",
       "      <td>NaN</td>\n",
       "      <td>VtC</td>\n",
       "      <td>70166124</td>\n",
       "      <td>VoteCoin</td>\n",
       "      <td>2</td>\n",
       "      <td>3.000000</td>\n",
       "    </tr>\n",
       "  </tbody>\n",
       "</table>\n",
       "</div>"
      ],
      "text/plain": [
       "    amountMyAlgo      unit  asset-id                      name  decimals  \\\n",
       "0   2.477700e+01      ALGO         0                  Algorand         6   \n",
       "1   1.900000e+02      USDC  10458941                      USDC         6   \n",
       "2   5.030000e-01       CO2  62583103                   COtoken         3   \n",
       "3   1.323348e+09       FOO  66272884                   FOOcoin         2   \n",
       "4   9.992000e+01       WSC  66504861                  WSC coin         2   \n",
       "5   8.972000e+01       WSC  66505040                  WSC coin         2   \n",
       "6   9.900000e+02       WSC  66709453           Peters WSC coin         2   \n",
       "7   7.500000e+01      TEMP  66711321           Peters Tempcoin         1   \n",
       "8   6.971000e-02  TMPOOL11  67246780   TinymanPool1.1 CO2-ALGO         6   \n",
       "9   0.000000e+00  TMPOOL11  67253217  TinymanPool1.1 TEMP-ALGO         6   \n",
       "10  7.500000e+01      TEMP  67305600           Peters Tempcoin         1   \n",
       "11  1.000000e+03       WSC  70617284           Peters WSC coin         2   \n",
       "12  9.900000e+02      pWSC  70626778           Peters WSC coin         2   \n",
       "13  7.500000e+01      TEMP  70627982           Peters Tempcoin         1   \n",
       "14  9.440000e+02       WSC  71140107           Peters WSC coin         2   \n",
       "15  1.100000e+01      pWSC  71140125           Peters WSC coin         2   \n",
       "16  2.000000e+02     wlWSC  71140593               WL WSC coin         2   \n",
       "17           NaN       VtC  70161280                  VoteCoin         2   \n",
       "18           NaN       VtC  70166124                  VoteCoin         2   \n",
       "\n",
       "     amountBob  \n",
       "0    66.226083  \n",
       "1   100.000000  \n",
       "2          NaN  \n",
       "3          NaN  \n",
       "4          NaN  \n",
       "5     0.770000  \n",
       "6    10.000000  \n",
       "7    25.000000  \n",
       "8          NaN  \n",
       "9          NaN  \n",
       "10   25.000000  \n",
       "11         NaN  \n",
       "12   10.000000  \n",
       "13   25.000000  \n",
       "14    0.100000  \n",
       "15         NaN  \n",
       "16         NaN  \n",
       "17    2.000000  \n",
       "18    3.000000  "
      ]
     },
     "execution_count": 7,
     "metadata": {},
     "output_type": "execute_result"
    }
   ],
   "source": [
    "# Get the holdings of MyAlgo and Bob separately\n",
    "myalgo_holding=asset_holdings_df(algod_client, MyAlgo['public'])\n",
    "bob_holding=asset_holdings_df(algod_client, Bob['public'])\n",
    "# Merge in one data.frame using pandas merge\n",
    "pd.merge(myalgo_holding, bob_holding,  how=\"outer\", on=[\"asset-id\", \"unit\", \"name\", \"decimals\"], suffixes=['MyAlgo','Bob'])"
   ]
  },
  {
   "cell_type": "code",
   "execution_count": null,
   "metadata": {},
   "outputs": [],
   "source": [
    "# Store the correct ID for the WSC coin\n",
    "WSC_idx=71140107                         # <---------- Update!!"
   ]
  },
  {
   "cell_type": "markdown",
   "metadata": {},
   "source": [
    "#### Step 1a: Write down the conditions as a PyTeal program\n",
    "Small complication: there is no "
   ]
  },
  {
   "cell_type": "code",
   "execution_count": null,
   "metadata": {},
   "outputs": [],
   "source": [
    "vending_condition = And (\n",
    "    Global.group_size() == Int(2),                     # Vending is an atomic swap, hence 2 transactions\n",
    "    Gtxn[0].type_enum() == TxnType.Payment,            # First TX is a payment TX ...\n",
    "    Gtxn[0].xfer_asset() == Int(0),                    # ... in ALGOs\n",
    "    Gtxn[1].type_enum() == TxnType.AssetTransfer,      # Second TX is an ASA transfer ...\n",
    "    Gtxn[1].xfer_asset() == Int(WSC_idx),               # ... in the WSC coin\n",
    "    Gtxn[0].amount() == Gtxn[1].asset_amount(),        # Exchange rate in SMALL units\n",
    "    Gtxn[0].rekey_to() == Global.zero_address(),\n",
    "    Gtxn[0].close_remainder_to() == Global.zero_address(),\n",
    "    Gtxn[1].rekey_to() == Global.zero_address(),\n",
    "    Gtxn[1].close_remainder_to() == Global.zero_address(),\n",
    ")\n",
    "\n",
    "optin_condition = And(\n",
    "        Global.group_size() == Int(1),                # Opt-in is single transaction\n",
    "        Txn.type_enum() ==TxnType.AssetTransfer,      # Opt-in is ASA transfer\n",
    "        Txn.asset_amount() == Int(0),                 # Payout impossible, opt-in is OK\n",
    "        Txn.rekey_to() == Global.zero_address(),\n",
    "        Txn.close_remainder_to() == Global.zero_address(),\n",
    "    )\n",
    "\n",
    "\n",
    "# prepare reandom condition\n",
    "import random\n",
    "a = Int( random.randrange(2**32-1) )\n",
    "random_cond = ( a == a )\n",
    "\n",
    "fee_cond = Txn.fee() <= Int(1000)\n",
    "    \n",
    "vending_pyteal = And(\n",
    "    random_cond, \n",
    "    fee_cond, \n",
    "    If(\n",
    "        Global.group_size() == Int(1),        # condition\n",
    "        optin_condition,                      # then-expression\n",
    "        vending_condition                     # else-expression\n",
    "        )\n",
    "    )"
   ]
  },
  {
   "cell_type": "markdown",
   "metadata": {},
   "source": [
    "#### Step 1b: Pyteal -> Teal"
   ]
  },
  {
   "cell_type": "code",
   "execution_count": null,
   "metadata": {},
   "outputs": [],
   "source": [
    "vending_teal = compileTeal(vending_pyteal, Mode.Signature, version=3)\n",
    "print(vending_teal)"
   ]
  },
  {
   "cell_type": "code",
   "execution_count": null,
   "metadata": {},
   "outputs": [],
   "source": [
    "#### Step 1c: Teal -> Bytecode for AVM"
   ]
  },
  {
   "cell_type": "code",
   "execution_count": null,
   "metadata": {},
   "outputs": [],
   "source": [
    "Vending = algod_client.compile(vending_teal)\n",
    "Vending"
   ]
  },
  {
   "cell_type": "markdown",
   "metadata": {},
   "source": [
    "#### Step 2: Veding must opt-In\n",
    "* Veding needs to be funded first (for TX fee and min holding)\n",
    "* Veding then makes a 0 coin transaction to itself"
   ]
  },
  {
   "cell_type": "markdown",
   "metadata": {},
   "source": [
    "##### Step 2a: Funding"
   ]
  },
  {
   "cell_type": "code",
   "execution_count": null,
   "metadata": {},
   "outputs": [],
   "source": [
    "# Step 2a.1: prepare transaction\n",
    "sp = algod_client.suggested_params()\n",
    "\n",
    "# How much? Min holdings + min holdings for 1 ASA + TX fee for a few several swaps\n",
    "amt = int(0.1*1e6) + int(0.1*1e6) + int(20* 0.001*1e6)\n",
    "txn = transaction.PaymentTxn(sender=MyAlgo['public'], sp=sp, \n",
    "                             receiver=Vending['hash'], amt=amt)\n",
    "\n",
    "# Step 2a.(2+3+4): sign and send and wait ...\n",
    "stxn = txn.sign(MyAlgo['private'])\n",
    "txid = algod_client.send_transaction(stxn)\n",
    "txinfo = wait_for_confirmation(algod_client, txid)"
   ]
  },
  {
   "cell_type": "markdown",
   "metadata": {},
   "source": [
    "##### Step 2b: Opt-In"
   ]
  },
  {
   "cell_type": "code",
   "execution_count": null,
   "metadata": {},
   "outputs": [],
   "source": [
    "# Steo 2b.1: Prepare\n",
    "sp = algod_client.suggested_params()\n",
    "txn = AssetTransferTxn(Vending['hash'], sp, Vending['hash'], 0, WSC_idx)\n",
    "\n",
    "# Steo 2b.2: Sign\n",
    "encodedProg = Vending['result'].encode()\n",
    "program = base64.decodebytes(encodedProg)\n",
    "lsig = LogicSig(program)\n",
    "stxn = LogicSigTransaction(txn, lsig)\n",
    "\n",
    "# Step 2b.3 Send\n",
    "txid = algod_client.send_transaction(stxn)\n",
    "\n",
    "# Step 2b.4 Wait for ...\n",
    "txinfo = wait_for_confirmation(algod_client, txid)"
   ]
  },
  {
   "cell_type": "markdown",
   "metadata": {},
   "source": [
    "#### Step 3: MyAlgo puts 15 (full) WSC into the Vending machine\n",
    "* This is a simple AssetTransferTxn"
   ]
  },
  {
   "cell_type": "code",
   "execution_count": null,
   "metadata": {},
   "outputs": [],
   "source": [
    "### Step 3.1: prepare and create TX\n",
    "\n",
    "# Deal with SMALL units\n",
    "WSC_decimals = algod_client.asset_info(WSC_idx)['params']['decimals']\n",
    "amt = int( 15 * 10**WSC_decimals )             # <--------- 15 WSC coins in SMALL units\n",
    "\n",
    "sp = algod_client.suggested_params()\n",
    "txn = AssetTransferTxn(\n",
    "    sender=MyAlgo['public'],\n",
    "    sp=sp,\n",
    "    receiver=Vending['hash'],               \n",
    "    amt=amt,\n",
    "    index=WSC_idx)                        # <-----  We are sending WSC\n",
    "\n",
    "# Step 3.2 and 3.3: sign and send\n",
    "stxn = txn.sign(MyAlgo['private'])\n",
    "txid = algod_client.send_transaction(stxn)\n",
    "\n",
    "# Step 3.4: wait for confirmation\n",
    "txinfo = wait_for_confirmation(algod_client, txid)"
   ]
  },
  {
   "cell_type": "markdown",
   "metadata": {},
   "source": [
    "## The vending machine is now ready"
   ]
  },
  {
   "cell_type": "markdown",
   "metadata": {},
   "source": [
    "#### Step 4: Opt-In for Bob\n",
    "* If Bob is a first-time buyer, he has to opt in first\n",
    "* In a real-world example, we would check the holdings of Bob and ask him to opt in only if he does not hold the token"
   ]
  },
  {
   "cell_type": "code",
   "execution_count": null,
   "metadata": {},
   "outputs": [],
   "source": [
    "# Step 4.1: Prepare transaction\n",
    "sp = algod_client.suggested_params()\n",
    "txn = AssetTransferTxn(\n",
    "    sender=Bob['public'],                 # <------- From Bob ...\n",
    "    sp=sp,\n",
    "    receiver=Bob['public'],               # <------- ... to Bob\n",
    "    amt=int(0),\n",
    "    index=WSC_idx)                        # <----- Correct asset_idx\n",
    "\n",
    "# Step 4.2 and 4.3: sign and send\n",
    "stxn = txn.sign(Bob['private'])           # <----- Signed by Bob\n",
    "txid = algod_client.send_transaction(stxn)\n",
    "\n",
    "# Step 4.4: wait for confirmation\n",
    "txinfo = wait_for_confirmation(algod_client, txid)"
   ]
  },
  {
   "cell_type": "markdown",
   "metadata": {},
   "source": [
    "#### Step 5: Bob prepares the entire Atomic Swap\n",
    "* Bob sends 5 micro-ALGOS\n",
    "* He asks for 5 mini-WSC"
   ]
  },
  {
   "cell_type": "code",
   "execution_count": null,
   "metadata": {},
   "outputs": [],
   "source": [
    "# Step 5.1a: Prepare ALGO payment TXN from Bob to Veding\n",
    "sp = algod_client.suggested_params()\n",
    "amt_1 = int(5)                     # microalgos!!! \n",
    "txn_1 = PaymentTxn(Bob['public'], sp, Vending['hash'],amt_1)\n",
    "\n",
    "# Step 5.1b: Prepare WSC transfer from Vending to Bob\n",
    "amt_2 = int(5)                      # mini-WSC coin\n",
    "txn_2 = AssetTransferTxn(Vending['hash'], sp, Bob['public'], amt_2, WSC_idx)"
   ]
  },
  {
   "cell_type": "code",
   "execution_count": null,
   "metadata": {},
   "outputs": [],
   "source": [
    "# Step 5.1c: create TX group\n",
    "gid = transaction.calculate_group_id([txn_1, txn_2])\n",
    "txn_1.group = gid     # add group_id to each transactions\n",
    "txn_2.group = gid\n",
    "print( base64.b32encode(gid).decode() )      # This is the gid"
   ]
  },
  {
   "cell_type": "code",
   "execution_count": null,
   "metadata": {},
   "outputs": [],
   "source": [
    "# Step 5.2a: Bob signs txn_1\n",
    "stxn_1 = txn_1.sign(Bob['private'])\n",
    "\n",
    "# Step 5.2b: Bob asks Smart signature to authorize txn_2\n",
    "encodedProg = Vending['result'].encode()              \n",
    "program = base64.decodebytes(encodedProg)\n",
    "lsig = LogicSig(program)\n",
    "stxn_2 = LogicSigTransaction(txn_2, lsig)"
   ]
  },
  {
   "cell_type": "code",
   "execution_count": null,
   "metadata": {},
   "outputs": [],
   "source": [
    "# Step 5.3: assemble transaction group and send\n",
    "signed_group =  [stxn_1, stxn_2]\n",
    "txid = algod_client.send_transactions(signed_group)"
   ]
  },
  {
   "cell_type": "code",
   "execution_count": null,
   "metadata": {},
   "outputs": [],
   "source": [
    "# Step 5d: wait for confirmation\n",
    "txinfo = wait_for_confirmation(algod_client, txid)"
   ]
  },
  {
   "cell_type": "markdown",
   "metadata": {},
   "source": [
    "**Quick check** what is the `txid` here?\n",
    "* Click on Group ID in Algoexplorer"
   ]
  },
  {
   "cell_type": "code",
   "execution_count": null,
   "metadata": {},
   "outputs": [],
   "source": [
    "print('https://testnet.algoexplorer.io/tx/'+txid)"
   ]
  },
  {
   "cell_type": "markdown",
   "metadata": {},
   "source": [
    "#### Get the status after the swap"
   ]
  },
  {
   "cell_type": "code",
   "execution_count": null,
   "metadata": {},
   "outputs": [],
   "source": [
    "myAlgo_holding=asset_holdings_df(algod_client, MyAlgo['public'])\n",
    "bob_holding=asset_holdings_df(algod_client, Bob['public'])\n",
    "pd.merge(myalgo_holding, bob_holding,  how=\"outer\", on=[\"asset-id\", \"unit\", \"name\", \"decimals\"], suffixes=['MyAlgo','Bob'])"
   ]
  }
 ],
 "metadata": {
  "kernelspec": {
   "display_name": "Python 3",
   "language": "python",
   "name": "python3"
  },
  "language_info": {
   "codemirror_mode": {
    "name": "ipython",
    "version": 3
   },
   "file_extension": ".py",
   "mimetype": "text/x-python",
   "name": "python",
   "nbconvert_exporter": "python",
   "pygments_lexer": "ipython3",
   "version": "3.8.8"
  }
 },
 "nbformat": 4,
 "nbformat_minor": 4
}
