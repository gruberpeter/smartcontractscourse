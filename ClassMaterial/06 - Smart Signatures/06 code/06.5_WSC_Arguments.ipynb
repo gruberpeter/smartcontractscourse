{
 "cells": [
  {
   "cell_type": "markdown",
   "metadata": {},
   "source": [
    "# Arguments in Smart Contracts\n",
    "#### 06.5 Writing Smart Contracts\n",
    "##### Peter Gruber (peter.gruber@usi.ch)\n",
    "2022-01-12\n",
    "\n",
    "* Interact with Smart Contracts using arguments"
   ]
  },
  {
   "cell_type": "markdown",
   "metadata": {
    "tags": []
   },
   "source": [
    "## Setup\n",
    "See notebook 04.1, the lines below will always automatically load functions in `algo_util.py`, the five accounts and the Purestake credentials"
   ]
  },
  {
   "cell_type": "code",
   "execution_count": 1,
   "metadata": {},
   "outputs": [],
   "source": [
    "# Loading shared code and credentials\n",
    "import sys, os\n",
    "\n",
    "codepath = '..'+os.path.sep+'..'+os.path.sep+'sharedCode'\n",
    "sys.path.append(codepath)\n",
    "from algo_util import *\n",
    "cred = load_credentials()\n",
    "\n",
    "# Shortcuts to directly access the 3 main accounts\n",
    "MyAlgo  = cred['MyAlgo']\n",
    "Alice   = cred['Alice']\n",
    "Bob     = cred['Bob']\n",
    "Charlie = cred['Charlie']\n",
    "Dina    = cred['Dina']"
   ]
  },
  {
   "cell_type": "code",
   "execution_count": 2,
   "metadata": {},
   "outputs": [],
   "source": [
    "from algosdk import account, mnemonic\n",
    "from algosdk.v2client import algod\n",
    "from algosdk.future import transaction\n",
    "from algosdk.future.transaction import PaymentTxn\n",
    "from algosdk.future.transaction import AssetConfigTxn, AssetTransferTxn, AssetFreezeTxn\n",
    "from algosdk.future.transaction import LogicSig, LogicSigTransaction\n",
    "\n",
    "import algosdk.error\n",
    "import json\n",
    "import base64\n",
    "import hashlib"
   ]
  },
  {
   "cell_type": "code",
   "execution_count": 3,
   "metadata": {},
   "outputs": [],
   "source": [
    "from pyteal import *"
   ]
  },
  {
   "cell_type": "code",
   "execution_count": 4,
   "metadata": {},
   "outputs": [],
   "source": [
    "# Initialize the algod client (Testnet or Mainnet)\n",
    "algod_client = algod.AlgodClient(algod_token='', algod_address=cred['algod_test'], headers=cred['purestake_token'])"
   ]
  },
  {
   "cell_type": "code",
   "execution_count": 5,
   "metadata": {},
   "outputs": [
    {
     "name": "stdout",
     "output_type": "stream",
     "text": [
      "HITPAAJ4HKANMP6EUYASXDUTCL653T7QMNHJL5NODL6XEGBM4KBLDJ2D2E\n",
      "O2SLRPK4I4SWUOCYGGKHHUCFJJF5ORHFL76YO43FYTB7HUO7AHDDNNR5YA\n",
      "5GIOBOLZSQEHTNNXWRJ6RGNPGCKWYJYUZZKY6YXHJVKFZXRB2YLDFDVH64\n"
     ]
    }
   ],
   "source": [
    "print(Alice['public'])\n",
    "print(Bob['public'])\n",
    "print(Charlie['public'])"
   ]
  },
  {
   "cell_type": "markdown",
   "metadata": {},
   "source": [
    "#### Quick check of asset holdings, otherwise go to ...\n",
    "- https://bank.testnet.algorand.network\n",
    "- https://testnet.algoexplorer.io/dispenser"
   ]
  },
  {
   "cell_type": "code",
   "execution_count": 6,
   "metadata": {},
   "outputs": [
    {
     "data": {
      "text/html": [
       "<div>\n",
       "<style scoped>\n",
       "    .dataframe tbody tr th:only-of-type {\n",
       "        vertical-align: middle;\n",
       "    }\n",
       "\n",
       "    .dataframe tbody tr th {\n",
       "        vertical-align: top;\n",
       "    }\n",
       "\n",
       "    .dataframe thead th {\n",
       "        text-align: right;\n",
       "    }\n",
       "</style>\n",
       "<table border=\"1\" class=\"dataframe\">\n",
       "  <thead>\n",
       "    <tr style=\"text-align: right;\">\n",
       "      <th></th>\n",
       "      <th>amount</th>\n",
       "      <th>unit</th>\n",
       "      <th>asset-id</th>\n",
       "      <th>name</th>\n",
       "      <th>decimals</th>\n",
       "    </tr>\n",
       "  </thead>\n",
       "  <tbody>\n",
       "    <tr>\n",
       "      <th>0</th>\n",
       "      <td>51.81699</td>\n",
       "      <td>ALGO</td>\n",
       "      <td>0</td>\n",
       "      <td>Algorand</td>\n",
       "      <td>6</td>\n",
       "    </tr>\n",
       "    <tr>\n",
       "      <th>1</th>\n",
       "      <td>200.00000</td>\n",
       "      <td>USDC</td>\n",
       "      <td>10458941</td>\n",
       "      <td>USDC</td>\n",
       "      <td>6</td>\n",
       "    </tr>\n",
       "    <tr>\n",
       "      <th>2</th>\n",
       "      <td>0.10000</td>\n",
       "      <td>WSC</td>\n",
       "      <td>66504861</td>\n",
       "      <td>WSC coin</td>\n",
       "      <td>2</td>\n",
       "    </tr>\n",
       "    <tr>\n",
       "      <th>3</th>\n",
       "      <td>0.00000</td>\n",
       "      <td>WSC</td>\n",
       "      <td>66505040</td>\n",
       "      <td>WSC coin</td>\n",
       "      <td>2</td>\n",
       "    </tr>\n",
       "    <tr>\n",
       "      <th>4</th>\n",
       "      <td>100.00000</td>\n",
       "      <td>ALICE</td>\n",
       "      <td>66712019</td>\n",
       "      <td>Alice's Tempcoin</td>\n",
       "      <td>1</td>\n",
       "    </tr>\n",
       "    <tr>\n",
       "      <th>5</th>\n",
       "      <td>100.00000</td>\n",
       "      <td>ALICE</td>\n",
       "      <td>66712340</td>\n",
       "      <td>Alice's Tempcoin</td>\n",
       "      <td>1</td>\n",
       "    </tr>\n",
       "    <tr>\n",
       "      <th>6</th>\n",
       "      <td>1.00000</td>\n",
       "      <td>ALICEART</td>\n",
       "      <td>69394953</td>\n",
       "      <td>Alice's First Portrait 001</td>\n",
       "      <td>0</td>\n",
       "    </tr>\n",
       "    <tr>\n",
       "      <th>7</th>\n",
       "      <td>0.00000</td>\n",
       "      <td>VtC</td>\n",
       "      <td>70161280</td>\n",
       "      <td>VoteCoin</td>\n",
       "      <td>2</td>\n",
       "    </tr>\n",
       "    <tr>\n",
       "      <th>8</th>\n",
       "      <td>0.00000</td>\n",
       "      <td>VtC</td>\n",
       "      <td>70166124</td>\n",
       "      <td>VoteCoin</td>\n",
       "      <td>2</td>\n",
       "    </tr>\n",
       "  </tbody>\n",
       "</table>\n",
       "</div>"
      ],
      "text/plain": [
       "      amount      unit  asset-id                        name  decimals\n",
       "0   51.81699      ALGO         0                    Algorand         6\n",
       "1  200.00000      USDC  10458941                        USDC         6\n",
       "2    0.10000       WSC  66504861                    WSC coin         2\n",
       "3    0.00000       WSC  66505040                    WSC coin         2\n",
       "4  100.00000     ALICE  66712019            Alice's Tempcoin         1\n",
       "5  100.00000     ALICE  66712340            Alice's Tempcoin         1\n",
       "6    1.00000  ALICEART  69394953  Alice's First Portrait 001         0\n",
       "7    0.00000       VtC  70161280                    VoteCoin         2\n",
       "8    0.00000       VtC  70166124                    VoteCoin         2"
      ]
     },
     "execution_count": 6,
     "metadata": {},
     "output_type": "execute_result"
    }
   ],
   "source": [
    "asset_holdings_df(algod_client,Alice['public'])"
   ]
  },
  {
   "cell_type": "markdown",
   "metadata": {},
   "source": [
    "### A few helper functions"
   ]
  },
  {
   "cell_type": "code",
   "execution_count": null,
   "metadata": {},
   "outputs": [],
   "source": [
    "def payment_transaction(creator_mnemonic, amt, rcv, algod_client)->dict:\n",
    "    params = algod_client.suggested_params()\n",
    "    add = mnemonic.to_public_key(creator_mnemonic)\n",
    "    key = mnemonic.to_private_key(creator_mnemonic)\n",
    "    unsigned_txn = transaction.PaymentTxn(add, params, rcv, amt)\n",
    "    signed = unsigned_txn.sign(key)\n",
    "    txid = algod_client.send_transaction(signed)\n",
    "    return txid"
   ]
  },
  {
   "cell_type": "code",
   "execution_count": null,
   "metadata": {},
   "outputs": [],
   "source": [
    "def lsig_payment_txn(escrowProg, escrow_address, amt, rcv, algod_client):\n",
    "    params = algod_client.suggested_params()\n",
    "    unsigned_txn = transaction.PaymentTxn(escrow_address, params, rcv, amt)\n",
    "    encodedProg = escrowProg.encode()\n",
    "    program = base64.decodebytes(encodedProg)\n",
    "    lsig = transaction.LogicSig(program)\n",
    "    stxn = transaction.LogicSigTransaction(unsigned_txn, lsig)\n",
    "    txid = algod_client.send_transaction(stxn)\n",
    "    return txid"
   ]
  },
  {
   "cell_type": "code",
   "execution_count": null,
   "metadata": {},
   "outputs": [],
   "source": [
    "def lsig_payment_txn_arg(escrowProg, escrow_address, amt, rcv, algod_client, arg0):\n",
    "    params = algod_client.suggested_params()\n",
    "    unsigned_txn = transaction.PaymentTxn(escrow_address, params, rcv, amt)\n",
    "    encodedProg = escrowProg.encode()\n",
    "    program = base64.decodebytes(encodedProg)\n",
    "    lsig = transaction.LogicSig(program, args=arg0)\n",
    "    stxn = transaction.LogicSigTransaction(unsigned_txn, lsig)\n",
    "    txid = algod_client.send_transaction(stxn)\n",
    "    return txid"
   ]
  },
  {
   "cell_type": "code",
   "execution_count": null,
   "metadata": {},
   "outputs": [],
   "source": [
    "def lsig_payment_txn_note(escrowProg, escrow_address, amt, rcv, algod_client,my_note):\n",
    "    note = my_note.encode()\n",
    "    params = algod_client.suggested_params()\n",
    "    unsigned_txn = transaction.PaymentTxn(escrow_address, params, rcv, amt,None, note)\n",
    "    encodedProg = escrowProg.encode()\n",
    "    program = base64.decodebytes(encodedProg)\n",
    "    lsig = transaction.LogicSig(program)\n",
    "    stxn = transaction.LogicSigTransaction(unsigned_txn, lsig)\n",
    "    txid = algod_client.send_transaction(stxn)\n",
    "    return txid"
   ]
  },
  {
   "cell_type": "code",
   "execution_count": null,
   "metadata": {},
   "outputs": [],
   "source": [
    "def lsig_payment_txn_ASA(escrowProg, escrow_address, amt, rcv, ASA_index, algod_client):\n",
    "    params = algod_client.suggested_params()\n",
    "    unsigned_txn = transaction.AssetTransferTxn(escrow_address, params, escrow_address, 0, ASA_index)\n",
    "    encodedProg = escrowProg.encode()\n",
    "    program = base64.decodebytes(encodedProg)\n",
    "    lsig = transaction.LogicSig(program)\n",
    "    stxn = transaction.LogicSigTransaction(unsigned_txn, lsig)\n",
    "    txid = algod_client.send_transaction(stxn)\n",
    "    return txid"
   ]
  },
  {
   "cell_type": "markdown",
   "metadata": {},
   "source": [
    "## Numeric arguments\n",
    "* Smart Signatures can work with multiple arguments\n",
    "* Need to encode in Python and decode in PyTeal\n",
    "* See \"Passing parameters using the SDKs\" https://developer.algorand.org/docs/get-details/dapps/smart-contracts/frontend/smartsigs/"
   ]
  },
  {
   "cell_type": "markdown",
   "metadata": {},
   "source": [
    "## A mathematical quiz: find two numbers so that $x+y=10$\n",
    "* Payout a small prize in Algo for the first to solve it\n",
    "* Example solution 3+7 = 10"
   ]
  },
  {
   "cell_type": "code",
   "execution_count": 7,
   "metadata": {},
   "outputs": [],
   "source": [
    "# Step 1: Conditions as a PyTeal\n",
    "# (no security here)\n",
    "quiz_cond = (\n",
    "    Btoi(Arg(0))  + Btoi(Arg(1)) ==  Int(10)\n",
    ")\n",
    "\n",
    "# prepare random condition\n",
    "import random\n",
    "a = Int( random.randrange(2**32-1) )\n",
    "random_cond = ( a == a )\n",
    "\n",
    "fee_cond = Txn.fee() <= Int(1000)\n",
    "\n",
    "safety_cond = And(\n",
    "    Txn.type_enum() == TxnType.Payment,\n",
    "    # Txn.close_remainder_to() == Global.zero_address(),      # Quiz allows close out\n",
    "    Txn.rekey_to() == Global.zero_address(),\n",
    "    )\n",
    "\n",
    "quiz_pyteal = And(\n",
    "    quiz_cond,\n",
    "    random_cond,\n",
    "    fee_cond,\n",
    "    safety_cond\n",
    ")"
   ]
  },
  {
   "cell_type": "code",
   "execution_count": 9,
   "metadata": {},
   "outputs": [
    {
     "name": "stdout",
     "output_type": "stream",
     "text": [
      "#pragma version 3\n",
      "arg 0\n",
      "btoi\n",
      "arg 1\n",
      "btoi\n",
      "+\n",
      "int 10\n",
      "==\n",
      "int 3275009137\n",
      "int 3275009137\n",
      "==\n",
      "&&\n",
      "txn Fee\n",
      "int 1000\n",
      "<=\n",
      "&&\n",
      "txn TypeEnum\n",
      "int pay\n",
      "==\n",
      "txn RekeyTo\n",
      "global ZeroAddress\n",
      "==\n",
      "&&\n",
      "&&\n"
     ]
    }
   ],
   "source": [
    "# Step 2: Compile PyTeal -> Teal\n",
    "quiz_teal = compileTeal(quiz_pyteal, Mode.Signature, version=3)\n",
    "print(quiz_teal)"
   ]
  },
  {
   "cell_type": "code",
   "execution_count": 10,
   "metadata": {},
   "outputs": [],
   "source": [
    "# Step 3: Compile Teal -> Bytecode for AVM\n",
    "Quiz = algod_client.compile(quiz_teal)"
   ]
  },
  {
   "cell_type": "code",
   "execution_count": 11,
   "metadata": {},
   "outputs": [
    {
     "name": "stdout",
     "output_type": "stream",
     "text": [
      "Current round is  19828526.\n",
      "Waiting for round 19828526 to finish.\n",
      "Waiting for round 19828527 to finish.\n",
      "Transaction AOJ6WCETH6LSCURNNXPKKTDMEQJLRJZD4OLS264HRBNGHAGPCUBQ confirmed in round 19828528.\n"
     ]
    }
   ],
   "source": [
    "# Step 4: Alice is funding the quiz\n",
    "# Step 4.1: prepare transaction\n",
    "sp = algod_client.suggested_params()\n",
    "\n",
    "# How much? Prize money of 1 Algo + TX fee\n",
    "amt = int(1*1e6) + int(0.001*1e6)\n",
    "txn = transaction.PaymentTxn(sender=Alice['public'], sp=sp, \n",
    "                             receiver=Quiz['hash'], amt=amt)\n",
    "\n",
    "# Step 4.2 to 4.4: sign, send and wait ...\n",
    "stxn = txn.sign(Alice['private'])\n",
    "txid = algod_client.send_transaction(stxn)\n",
    "txinfo = wait_for_confirmation(algod_client, txid)"
   ]
  },
  {
   "cell_type": "markdown",
   "metadata": {},
   "source": [
    "### Inform the public\n",
    "* The quiz is now ready\n",
    "* We need to communicate to the public ..."
   ]
  },
  {
   "cell_type": "code",
   "execution_count": 13,
   "metadata": {},
   "outputs": [
    {
     "name": "stdout",
     "output_type": "stream",
     "text": [
      "Address of the Quiz:      TEBOHXDABX2SHT7UOKA5T3Y4WWMUXK7BUCGLVU52VH72WQOQMSS22CL2GA\n",
      "Program code for the Quiz: AyAECvHY0pkM6AcBLRcuFwgiEiMjEhAxASQOEDEQJRIxIDIDEhAQ\n"
     ]
    }
   ],
   "source": [
    "print('Address of the Quiz:      '+Quiz['hash'])\n",
    "print('Program code for the Quiz: '+Quiz['result'])"
   ]
  },
  {
   "cell_type": "markdown",
   "metadata": {},
   "source": [
    "#### Step 6: Bob submits a solution\n",
    "* Using arguments for the smart contract (instead of notes)"
   ]
  },
  {
   "cell_type": "code",
   "execution_count": 14,
   "metadata": {},
   "outputs": [
    {
     "name": "stdout",
     "output_type": "stream",
     "text": [
      "Current round is  19828561.\n",
      "Waiting for round 19828561 to finish.\n",
      "Waiting for round 19828562 to finish.\n",
      "Transaction KMZZXPJKJZ2SJIN7NIT4COT4FJXRUQ6KABAWR2KL5H5M2GBCEM5A confirmed in round 19828563.\n"
     ]
    }
   ],
   "source": [
    "# Step 6.1: prepare transaction\n",
    "sp = algod_client.suggested_params()\n",
    "\n",
    "# integer parameter\n",
    "arg0 = (3).to_bytes(8, 'big')\n",
    "arg1 = (7).to_bytes(8, 'big')\n",
    "bob_solution_args = [arg0, arg1]                   # arguments need to be a list, \n",
    "                                                   # even if there is only 1 argument\n",
    "\n",
    "txn = PaymentTxn(sender= Quiz['hash'], \n",
    "                 sp=sp, \n",
    "                 receiver=Bob['public'], \n",
    "                 amt=0,                            # <---- amount is zero\n",
    "                 close_remainder_to=Bob['public']  # <---- This is how Bob gets the money\n",
    "                )\n",
    "\n",
    "# Steo 6.2: Sign\n",
    "encodedProg = Quiz['result'].encode()\n",
    "program = base64.decodebytes(encodedProg)\n",
    "lsig = LogicSig(program, args=bob_solution_args)  # <------- HERE is where we add the arguments\n",
    "stxn = LogicSigTransaction(txn, lsig)\n",
    "\n",
    "# Step 6.3 Send\n",
    "txid = algod_client.send_transaction(stxn)\n",
    "\n",
    "# Step 6.4 Wait for ...\n",
    "txinfo = wait_for_confirmation(algod_client, txid)\n"
   ]
  },
  {
   "cell_type": "markdown",
   "metadata": {},
   "source": [
    "#### Now try the following\n",
    "* Try different arguments that add up to 10\n",
    "* Try incorrect arguments that do not add up to 10"
   ]
  },
  {
   "cell_type": "markdown",
   "metadata": {},
   "source": [
    "#### Exercise 1\n",
    "* Your MyAlgo account should do this:\n",
    "* Create a quiz so that three numbers have to add up to a secret number (choose between 0 and 10)\n",
    "* Fund the quiz\n",
    "* Invite your neighbour to play the quiz"
   ]
  },
  {
   "cell_type": "markdown",
   "metadata": {},
   "source": [
    "#### Exercise 2\n",
    "* Create a quiz with *pythagorean triples*, like, for example, $3^2 + 4^2 = 5^5$\n",
    "* The quiz pays out 10 micro Algos for every correct solution $a,b,c$ such that $a^2+b^2=c^2$\n",
    "\n",
    "Solution `Btoi(Arg(0)) * Btoi(Arg(0))  + Btoi(Arg(1))*Btoi(Arg(1)) ==  Btoi(Arg(2))*Btoi(Arg(2))`"
   ]
  },
  {
   "cell_type": "markdown",
   "metadata": {},
   "source": [
    "## Appendix: the story why there is only integer arithmetic on the blockchain"
   ]
  },
  {
   "cell_type": "code",
   "execution_count": 15,
   "metadata": {},
   "outputs": [
    {
     "data": {
      "text/plain": [
       "False"
      ]
     },
     "execution_count": 15,
     "metadata": {},
     "output_type": "execute_result"
    }
   ],
   "source": [
    "3.3 + 8.8 == 12.1"
   ]
  },
  {
   "cell_type": "code",
   "execution_count": 16,
   "metadata": {},
   "outputs": [
    {
     "data": {
      "text/plain": [
       "12.100000000000001"
      ]
     },
     "execution_count": 16,
     "metadata": {},
     "output_type": "execute_result"
    }
   ],
   "source": [
    "3.3 + 8.8"
   ]
  }
 ],
 "metadata": {
  "kernelspec": {
   "display_name": "Python 3",
   "language": "python",
   "name": "python3"
  },
  "language_info": {
   "codemirror_mode": {
    "name": "ipython",
    "version": 3
   },
   "file_extension": ".py",
   "mimetype": "text/x-python",
   "name": "python",
   "nbconvert_exporter": "python",
   "pygments_lexer": "ipython3",
   "version": "3.8.8"
  }
 },
 "nbformat": 4,
 "nbformat_minor": 4
}
