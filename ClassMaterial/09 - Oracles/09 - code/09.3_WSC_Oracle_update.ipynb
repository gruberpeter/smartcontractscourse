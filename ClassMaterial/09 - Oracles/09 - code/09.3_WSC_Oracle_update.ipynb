{
 "cells": [
  {
   "cell_type": "markdown",
   "id": "86dc8df7",
   "metadata": {
    "tags": []
   },
   "source": [
    "## A stateless oracle (3): keeping the oracle up to date\n",
    "#### 09.3 Winter School on Smart Contracts\n",
    "##### Peter Gruber (peter.gruber@usi.ch)\n",
    "2022-02-15\n",
    "* Part 3: The transactions that keep the oracle up to date\n",
    "* Parts 1-4 are only relevant if you want to **create** an Oracle\n",
    "* Only parts 5-6 are needed to **use** the oracle.\n",
    "\n",
    "**Note** that these transactions will typically run in regular intervals (every 5 min) on a Linux server, using the `cron` service of Linux. You can, however, run the manually to see what happens."
   ]
  },
  {
   "cell_type": "markdown",
   "id": "3eb1e151-d994-4412-99b7-4bcee961ca94",
   "metadata": {
    "tags": []
   },
   "source": [
    "## Setup\n",
    "See notebook 04.1, the lines below will always automatically load functions in `algo_util.py`, the five accounts and the Purestake credentials"
   ]
  },
  {
   "cell_type": "code",
   "execution_count": 4,
   "id": "3a5a2af1-deda-4e50-abbb-687083d7125e",
   "metadata": {},
   "outputs": [],
   "source": [
    "# Loading shared code and credentials\n",
    "import sys, os\n",
    "\n",
    "codepath = '..'+os.path.sep+'..'+os.path.sep+'sharedCode'\n",
    "sys.path.append(codepath)\n",
    "from algo_util import *\n",
    "cred = load_credentials()\n",
    "\n",
    "# Load additional oracle accounts\n",
    "cred_oracle = load_credentials('credentials_oracle')\n",
    "Price = cred_oracle['Price']\n",
    "Reserve = cred_oracle['Reserve']\n",
    "oracle_id = cred_oracle['oracle_id']"
   ]
  },
  {
   "cell_type": "code",
   "execution_count": 36,
   "id": "c5a85d13-5a6e-4a8f-b4cf-9e479a10f640",
   "metadata": {},
   "outputs": [],
   "source": [
    "from algosdk import account, mnemonic\n",
    "from algosdk.v2client import algod\n",
    "from algosdk.future import transaction\n",
    "from algosdk.future.transaction import Multisig\n",
    "from algosdk.future.transaction import PaymentTxn, MultisigTransaction\n",
    "from algosdk.future.transaction import AssetConfigTxn, AssetTransferTxn, AssetFreezeTxn\n",
    "from algosdk.future.transaction import LogicSig\n",
    "\n",
    "import algosdk.error\n",
    "import json\n",
    "import base64\n",
    "import hashlib"
   ]
  },
  {
   "cell_type": "code",
   "execution_count": 37,
   "id": "1de8647d-4567-4b7e-a78d-624f4bacb9d8",
   "metadata": {},
   "outputs": [],
   "source": [
    "from pyteal import *"
   ]
  },
  {
   "cell_type": "code",
   "execution_count": 38,
   "id": "63a37b3d-28d1-440b-8287-a01957180489",
   "metadata": {},
   "outputs": [],
   "source": [
    "# Initialize the algod client (Testnet or Mainnet)\n",
    "algod_client = algod.AlgodClient(algod_token='', algod_address=cred['algod_test'], headers=cred['purestake_token'])"
   ]
  },
  {
   "cell_type": "code",
   "execution_count": 39,
   "id": "d21f1c8b",
   "metadata": {},
   "outputs": [],
   "source": [
    "import json\n",
    "import requests\n",
    "import pandas as pd\n",
    "import numpy as np\n",
    "import time"
   ]
  },
  {
   "cell_type": "code",
   "execution_count": 64,
   "id": "3ca20aba-3445-4243-9258-769a0b05f34c",
   "metadata": {},
   "outputs": [],
   "source": [
    "from pycoingecko import CoinGeckoAPI\n",
    "cg = CoinGeckoAPI()"
   ]
  },
  {
   "cell_type": "markdown",
   "id": "7d8e5a96-da1d-4cc4-ad24-6ae6b12d60fa",
   "metadata": {},
   "source": [
    "#### Get information about the oracle coin"
   ]
  },
  {
   "cell_type": "code",
   "execution_count": 5,
   "id": "c80a49f6-d2b7-40a7-a0fd-2edbdbe4b086",
   "metadata": {},
   "outputs": [
    {
     "name": "stdout",
     "output_type": "stream",
     "text": [
      "https://testnet.algoexplorer.io/asset/77534697\n"
     ]
    }
   ],
   "source": [
    "print('https://testnet.algoexplorer.io/asset/{}'.format(oracle_id))"
   ]
  },
  {
   "cell_type": "markdown",
   "id": "3312fe8c-b110-4bad-b794-fb44259ab271",
   "metadata": {},
   "source": [
    "## Transfer coins as a function of price and holdings\n",
    "* This is the code that needs to be deployed on the remote server"
   ]
  },
  {
   "cell_type": "code",
   "execution_count": 60,
   "id": "205e3b7b-fc08-43e4-b75e-ddb931671275",
   "metadata": {},
   "outputs": [
    {
     "name": "stdout",
     "output_type": "stream",
     "text": [
      "0.741683\n"
     ]
    }
   ],
   "source": [
    "# get current price\n",
    "price_info = cg.get_price(ids='algorand', vs_currencies='usd')\n",
    "usdalgo = price_info['algorand']['usd']\n",
    "print(usdalgo)"
   ]
  },
  {
   "cell_type": "code",
   "execution_count": 61,
   "id": "4ab6ca17-210a-4626-b121-eed7af713203",
   "metadata": {},
   "outputs": [
    {
     "name": "stdout",
     "output_type": "stream",
     "text": [
      "0.741683\n",
      "742146\n",
      "999257854\n"
     ]
    }
   ],
   "source": [
    "# get current holdings\n",
    "holdings_Price = asset_holdings(algod_client, Price['public'])\n",
    "oracle_Price = [holding['amount'] for holding in holdings_Price if holding['unit']=='USDALGO'][0]\n",
    "oracle_Price = int(1e6*oracle_Price)\n",
    "holdings_Reserve = asset_holdings(algod_client, Reserve['public'])\n",
    "oracle_Reserve = [holding['amount'] for holding in holdings_Reserve if holding['unit']=='USDALGO'][0]\n",
    "oracle_Reserve = int(1e6*oracle_Reserve)\n",
    "\n",
    "print(usdalgo)\n",
    "print(oracle_Price)\n",
    "print(oracle_Reserve)"
   ]
  },
  {
   "cell_type": "code",
   "execution_count": 63,
   "id": "65bed0f9-b495-4128-b808-2d9ef61076fe",
   "metadata": {},
   "outputs": [
    {
     "name": "stdout",
     "output_type": "stream",
     "text": [
      "Current round is  20463830.\n",
      "Waiting for round 20463830 to finish.\n",
      "Waiting for round 20463831 to finish.\n",
      "Transaction 4RZB4EM5LSPPJVGAB2DZIPXYZ5Z2V2HGJGMATILDRSBRFSCBYU3Q confirmed in round 20463832.\n"
     ]
    }
   ],
   "source": [
    "holdings_oracle = int(usdalgo*1e6)         # this is how many coins Price *should* hold\n",
    "\n",
    "# make transfers\n",
    "if holdings_oracle != oracle_Price:\n",
    "    # A transaction is needed\n",
    "    if holdings_oracle > oracle_Price:\n",
    "        # Price does not have enough coins\n",
    "        # Reserve needs to transfer to Price\n",
    "        amt = int(holdings_oracle-oracle_Price)\n",
    "        sender = Reserve\n",
    "        receiver = Price\n",
    "    else:\n",
    "        # Price has too many coins\n",
    "        # Price needs to transfer to Reserve\n",
    "        amt = int(oracle_Price-holdings_oracle)\n",
    "        sender = Price\n",
    "        receiver = Reserve\n",
    "\n",
    "    # === transfer TXN (must be a multisig!!) ===\n",
    "    # Step 1: prepare\n",
    "    sp = algod_client.suggested_params()          \n",
    "    txn = AssetTransferTxn(\n",
    "        sender = sender['public'],                \n",
    "        sp=sp,\n",
    "        receiver=receiver['public'],              \n",
    "        amt=amt,                                  \n",
    "        index=oracle_id                          \n",
    "        )                               \n",
    "\n",
    "    # Step 2+3: Sign + send\n",
    "    stxn = txn.sign(sender['private'])\n",
    "    txid = algod_client.send_transaction(stxn)\n",
    "\n",
    "    # Step 4: Wait for confirmation\n",
    "    txinfo = wait_for_confirmation(algod_client, txid)"
   ]
  }
 ],
 "metadata": {
  "kernelspec": {
   "display_name": "Python 3",
   "language": "python",
   "name": "python3"
  },
  "language_info": {
   "codemirror_mode": {
    "name": "ipython",
    "version": 3
   },
   "file_extension": ".py",
   "mimetype": "text/x-python",
   "name": "python",
   "nbconvert_exporter": "python",
   "pygments_lexer": "ipython3",
   "version": "3.8.8"
  }
 },
 "nbformat": 4,
 "nbformat_minor": 5
}
