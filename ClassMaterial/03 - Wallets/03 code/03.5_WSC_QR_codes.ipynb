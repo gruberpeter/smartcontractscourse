{
 "cells": [
  {
   "cell_type": "markdown",
   "metadata": {},
   "source": [
    "## QR codes for accounts\n",
    "#### 03.5 Winter School on Smart Contracts\n",
    "##### Peter Gruber (peter.gruber@usi.ch)\n",
    "2024-01-12 (started 2021-11-28)\n",
    "\n",
    "* Use QR codes to ...\n",
    "    * Add accounts to the phone wallet\n",
    "    * Facilitate payments"
   ]
  },
  {
   "cell_type": "markdown",
   "metadata": {
    "tags": []
   },
   "source": [
    "## Setup\n",
    "Starting with this chapter 3.4, the lines below will always automatically load ...\n",
    "* The accounts MyAlgo, Alice, Bob, Charlie, Dina\n",
    "* The Purestake credentials\n",
    "* The functions in `algo_util.py`"
   ]
  },
  {
   "cell_type": "code",
   "execution_count": 1,
   "metadata": {},
   "outputs": [],
   "source": [
    "# Loading shared code and credentials\n",
    "import sys, os\n",
    "codepath = '..'+os.path.sep+'..'+os.path.sep+'sharedCode'\n",
    "sys.path.append(codepath)\n",
    "from algo_util import *\n",
    "cred = load_credentials()\n",
    "\n",
    "# Shortcuts to directly access the main accounts\n",
    "MyAlgo  = cred['MyAlgo']\n",
    "Alice   = cred['Alice']\n",
    "Bob     = cred['Bob']\n",
    "Charlie = cred['Charlie']\n",
    "Dina    = cred['Dina']"
   ]
  },
  {
   "cell_type": "code",
   "execution_count": 2,
   "metadata": {},
   "outputs": [],
   "source": [
    "from algosdk import account, mnemonic\n",
    "from algosdk.v2client import algod\n",
    "from algosdk.transaction import PaymentTxn\n",
    "import algosdk.error\n",
    "import json"
   ]
  },
  {
   "cell_type": "code",
   "execution_count": 3,
   "metadata": {},
   "outputs": [
    {
     "name": "stdout",
     "output_type": "stream",
     "text": [
      "WSC24MVUSQ32IZYD7FNN54Z44IXWL4X7BOJD6AGFOCHOG4PDFESLZUGLTI\n",
      "ALICEXOA4Q2OD5CKBYND4UX75K3TAODEC3XCVNQ3URMKUMZKUOTOSAQLIU\n",
      "BOB23JBQLW3AJREEG3KD7ULMAGYGVZ2LVF2OMZ2XBJIR64NO5P24XN7WEU\n",
      "CHARLS5INIT5KOLDK3F2QAZXY7N4W7GOE6UTXHEHS3RBNCR2WJXRRTH3GY\n",
      "DINAAZWBJM6DRY73CWK7IOA4S7C6PVXQMQ4DJ3TK3DAGAGFJTX5KEYESDI\n"
     ]
    }
   ],
   "source": [
    "print(MyAlgo['public'])\n",
    "print(Alice['public'])\n",
    "print(Bob['public'])\n",
    "print(Charlie['public'])\n",
    "print(Dina['public'])"
   ]
  },
  {
   "cell_type": "markdown",
   "metadata": {
    "tags": []
   },
   "source": [
    "## QR codes\n",
    "* Install `qrcode` package\n",
    "* Introduction to QR codes\n",
    "    * Create a QR code that points to the course website"
   ]
  },
  {
   "cell_type": "code",
   "execution_count": null,
   "metadata": {},
   "outputs": [],
   "source": [
    "# Installing the qrcode package. Run this once, then comment out\n",
    "!pip install qrcode"
   ]
  },
  {
   "cell_type": "code",
   "execution_count": 4,
   "metadata": {},
   "outputs": [],
   "source": [
    "import qrcode, urllib"
   ]
  },
  {
   "cell_type": "code",
   "execution_count": 5,
   "metadata": {},
   "outputs": [],
   "source": [
    "qr = qrcode.QRCode()                         # create empty QR code\n",
    "qr.add_data('https://www.usi.ch/wsc')        # add data\n",
    "qr.make(fit=True)                            # create code\n",
    "img = qr.make_image(fill_color=\"black\", back_color=\"white\")"
   ]
  },
  {
   "cell_type": "code",
   "execution_count": 6,
   "metadata": {},
   "outputs": [
    {
     "data": {
      "image/png": "[encoded data removed]",
      "text/plain": [
       "<qrcode.image.pil.PilImage at 0x10598c190>"
      ]
     },
     "execution_count": 6,
     "metadata": {},
     "output_type": "execute_result"
    }
   ],
   "source": [
    "# Display QR code\n",
    "img"
   ]
  },
  {
   "cell_type": "markdown",
   "metadata": {},
   "source": [
    "**EXERCISE:** Try the QR code with your phone"
   ]
  },
  {
   "cell_type": "markdown",
   "metadata": {},
   "source": [
    "## Payment QR code\n",
    "* Create a QR code so that everybody can pay 0.5 ALGO to ALICE\n",
    "* Specific URL for the payment\n",
    "* Details here: https://developer.algorand.org/docs/get-details/transactions/payment_prompts/"
   ]
  },
  {
   "cell_type": "markdown",
   "metadata": {},
   "source": [
    "#### Step 1: Prepare payment URL"
   ]
  },
  {
   "cell_type": "code",
   "execution_count": 7,
   "metadata": {},
   "outputs": [
    {
     "name": "stdout",
     "output_type": "stream",
     "text": [
      "algorand://ALICEXOA4Q2OD5CKBYND4UX75K3TAODEC3XCVNQ3URMKUMZKUOTOSAQLIU?amount=500000&note=Thanks%20for%20the%20coffee\n"
     ]
    }
   ],
   "source": [
    "amount = 0.5                                                        # in algos, will be multiplied by 1million below\n",
    "amount_microalgo = str(int(amount*1e6))                             # in millialgos, must be integer\n",
    "note_encoded   =  urllib.parse.quote('Thanks for the coffee')       # encode spaces etc\n",
    "\n",
    "recipient = Alice['public']\n",
    "\n",
    "# Specific URL structure\n",
    "url = 'algorand://' + recipient + '?amount=' + amount_microalgo + '&note=' + note_encoded\n",
    "print(url)"
   ]
  },
  {
   "cell_type": "markdown",
   "metadata": {},
   "source": [
    "#### Step 2: Create payment QR code"
   ]
  },
  {
   "cell_type": "code",
   "execution_count": 8,
   "metadata": {},
   "outputs": [
    {
     "data": {
      "image/png": "[encoded data removed]",
      "text/plain": [
       "<qrcode.image.pil.PilImage at 0x10598f690>"
      ]
     },
     "execution_count": 8,
     "metadata": {},
     "output_type": "execute_result"
    }
   ],
   "source": [
    "qr = qrcode.QRCode(box_size=6)                    # box_size=6 makes the QR code smaller\n",
    "qr.add_data(url)\n",
    "qr.make(fit=True)\n",
    "img = qr.make_image()\n",
    "img"
   ]
  },
  {
   "cell_type": "markdown",
   "metadata": {},
   "source": [
    "#### Three ways to use this QR code\n",
    "- Scan with iPhone / Android Camera app $\\rightarrow$ will open Pera wallet app\n",
    "- Scan with general QR scanner in Pera wallet (top) $\\rightarrow$ have to choose from which account you pay\n",
    "- Start a payment manually and then scan address "
   ]
  },
  {
   "cell_type": "markdown",
   "metadata": {},
   "source": [
    "**EXERCISE** Use your neighbour's QR code to pay 0.5 ALGO to their ALICE accounts."
   ]
  },
  {
   "cell_type": "markdown",
   "metadata": {},
   "source": [
    "## Appendix: QR code to install an account on the phone wallet"
   ]
  },
  {
   "cell_type": "markdown",
   "metadata": {
    "tags": []
   },
   "source": [
    "<div class=\"alert alert-warning\">\n",
    "\n",
    "## ❗️ Security guidelines\n",
    "    \n",
    "* The QR code contains your private key\n",
    "* Anyone who has the QR code can steal your crypto\n",
    "* Anything that you display in a Jupyter notebook will be saved with the code\n",
    "* Extra security\n",
    "    * We don't display QR code on screen, we save it as PNG file\n",
    "    * This demo uses the Bob account\n",
    "</div>"
   ]
  },
  {
   "cell_type": "code",
   "execution_count": 10,
   "metadata": {},
   "outputs": [],
   "source": [
    "passphrase = Bob['mnemonic']\n",
    "url = '{\"mnemonic\": \"'+passphrase+'\"}'\n",
    "qr = qrcode.QRCode(box_size=6)                    # box_size=6 makes the QR code smaller\n",
    "qr.add_data(url)\n",
    "qr.make(fit=True)\n",
    "img = qr.make_image()\n",
    "img.save('account.png')"
   ]
  },
  {
   "cell_type": "markdown",
   "metadata": {},
   "source": [
    "**EXERCISE:** \n",
    "* Open the PNG file with the QR code.\n",
    "* Open the Pera wallet app, scan the QR code and add the `Bob` to your wallet."
   ]
  },
  {
   "cell_type": "markdown",
   "metadata": {},
   "source": [
    "## *Appendix: Playing with QR codes\n",
    "* Documentation: https://pypi.org/project/qrcode/\n",
    "* Error correction levels:\n",
    "    * ERROR_CORRECT_L (can correct 7%)\n",
    "    * ERROR_CORRECT_M (15%)\n",
    "    * ERROR_CORRECT_Q (25%)\n",
    "    * ERROR_CORRECT_H (30%) <-- most robust code\n",
    "* Colors are CSS colors https://www.w3schools.com/cssref/css_colors.asp"
   ]
  },
  {
   "cell_type": "code",
   "execution_count": 11,
   "metadata": {},
   "outputs": [
    {
     "data": {
      "image/png": "[encoded data removed]",
      "text/plain": [
       "<qrcode.image.pil.PilImage at 0x10c363650>"
      ]
     },
     "execution_count": 11,
     "metadata": {},
     "output_type": "execute_result"
    }
   ],
   "source": [
    "qr = qrcode.QRCode(error_correction=qrcode.constants.ERROR_CORRECT_L, \n",
    "                   box_size=10,\n",
    "                   border=4)\n",
    "qr.add_data('https://www.usi.ch/wsc')\n",
    "qr.make(fit=True)\n",
    "img = qr.make_image(fill_color=\"darkblue\", back_color=\"azure\")\n",
    "img"
   ]
  },
  {
   "cell_type": "markdown",
   "metadata": {},
   "source": [
    "**EXERCISE:** Create a QR code with white color on a black background and test it with your mobile phone."
   ]
  },
  {
   "cell_type": "markdown",
   "metadata": {},
   "source": [
    "## *Appendix: store a QR code as PNG file\n",
    "* This is how the QR code for the Assignment 02 has been created"
   ]
  },
  {
   "cell_type": "code",
   "execution_count": 12,
   "metadata": {},
   "outputs": [],
   "source": [
    "recipient = MyAlgo['public']\n",
    "\n",
    "# Specific URL structure\n",
    "url = 'algorand://' + recipient\n",
    "qr = qrcode.QRCode(box_size=5)                    # box_size=6 makes the QR code smaller\n",
    "qr.add_data(url)\n",
    "qr.make(fit=True)\n",
    "img = qr.make_image()\n",
    "img.save('MyAlgo.png')"
   ]
  }
 ],
 "metadata": {
  "kernelspec": {
   "display_name": "Python 3 (ipykernel)",
   "language": "python",
   "name": "python3"
  },
  "language_info": {
   "codemirror_mode": {
    "name": "ipython",
    "version": 3
   },
   "file_extension": ".py",
   "mimetype": "text/x-python",
   "name": "python",
   "nbconvert_exporter": "python",
   "pygments_lexer": "ipython3",
   "version": "3.11.5"
  }
 },
 "nbformat": 4,
 "nbformat_minor": 4
}
