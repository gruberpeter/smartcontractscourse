{
 "cells": [
  {
   "cell_type": "markdown",
   "metadata": {},
   "source": [
    "## Smart Signatures with Transaction Groups\n",
    "#### 06.3.5 Winter School on Smart Contracts\n",
    "##### Peter Gruber (peter.gruber@usi.ch)\n",
    "2022-01-22\n",
    "\n",
    "* Smart Signatures with more than 1 transaction\n",
    "* Combine conditions across transactions"
   ]
  },
  {
   "cell_type": "markdown",
   "metadata": {
    "tags": []
   },
   "source": [
    "## Setup\n",
    "See notebook 04.1, the lines below will always automatically load functions in `algo_util.py`, the 5 accounts and the Purestake credentials"
   ]
  },
  {
   "cell_type": "code",
   "execution_count": 72,
   "metadata": {},
   "outputs": [],
   "source": [
    "# Loading shared code and credentials\n",
    "import sys, os\n",
    "\n",
    "codepath = '..'+os.path.sep+'..'+os.path.sep+'sharedCode'\n",
    "sys.path.append(codepath)\n",
    "from algo_util import *\n",
    "cred = load_credentials()\n",
    "\n",
    "# Shortcuts to directly access the 3 main accounts\n",
    "MyAlgo  = cred['MyAlgo']\n",
    "Alice   = cred['Alice']\n",
    "Bob     = cred['Bob']\n",
    "Charlie = cred['Charlie']\n",
    "Dina    = cred['Dina']"
   ]
  },
  {
   "cell_type": "code",
   "execution_count": 73,
   "metadata": {},
   "outputs": [],
   "source": [
    "from algosdk import account, mnemonic\n",
    "from algosdk.v2client import algod\n",
    "from algosdk.future import transaction\n",
    "from algosdk.future.transaction import PaymentTxn\n",
    "from algosdk.future.transaction import AssetConfigTxn, AssetTransferTxn, AssetFreezeTxn\n",
    "from algosdk.future.transaction import LogicSig, LogicSigTransaction\n",
    "\n",
    "import algosdk.error\n",
    "import json\n",
    "import base64\n",
    "import pandas as pd"
   ]
  },
  {
   "cell_type": "code",
   "execution_count": 74,
   "metadata": {},
   "outputs": [],
   "source": [
    "from pyteal import *"
   ]
  },
  {
   "cell_type": "code",
   "execution_count": 75,
   "metadata": {},
   "outputs": [],
   "source": [
    "# Initialize the algod client (Testnet or Mainnet)\n",
    "algod_client = algod.AlgodClient(algod_token='', algod_address=cred['algod_test'], headers=cred['purestake_token'])"
   ]
  },
  {
   "cell_type": "code",
   "execution_count": 76,
   "metadata": {},
   "outputs": [
    {
     "name": "stdout",
     "output_type": "stream",
     "text": [
      "HITPAAJ4HKANMP6EUYASXDUTCL653T7QMNHJL5NODL6XEGBM4KBLDJ2D2E\n",
      "O2SLRPK4I4SWUOCYGGKHHUCFJJF5ORHFL76YO43FYTB7HUO7AHDDNNR5YA\n",
      "5GIOBOLZSQEHTNNXWRJ6RGNPGCKWYJYUZZKY6YXHJVKFZXRB2YLDFDVH64\n"
     ]
    }
   ],
   "source": [
    "print(Alice['public'])\n",
    "print(Bob['public'])\n",
    "print(Charlie['public'])"
   ]
  },
  {
   "cell_type": "markdown",
   "metadata": {},
   "source": [
    "## The Split Payment\n",
    "* Classical Smart Contract\n",
    "* Example\n",
    "    * Two business partners agree to split all revenues in a fixed percentage\n",
    "    * The smart contract is the business acount, into which customers have to pay\n",
    "    * Both business partners can initiate a payout, but only in the fixed percentage\n",
    "* Other examples\n",
    "    * Fixed tax rate\n",
    "    * Sales commission"
   ]
  },
  {
   "cell_type": "markdown",
   "metadata": {},
   "source": [
    "#### Step 0: Get the status before the transaction\n",
    "* Also fund accounts if need be\n",
    "* https://bank.testnet.algorand.network\n",
    "* https://testnet.algoexplorer.io/dispenser"
   ]
  },
  {
   "cell_type": "code",
   "execution_count": 77,
   "metadata": {},
   "outputs": [
    {
     "data": {
      "text/html": [
       "<div>\n",
       "<style scoped>\n",
       "    .dataframe tbody tr th:only-of-type {\n",
       "        vertical-align: middle;\n",
       "    }\n",
       "\n",
       "    .dataframe tbody tr th {\n",
       "        vertical-align: top;\n",
       "    }\n",
       "\n",
       "    .dataframe thead th {\n",
       "        text-align: right;\n",
       "    }\n",
       "</style>\n",
       "<table border=\"1\" class=\"dataframe\">\n",
       "  <thead>\n",
       "    <tr style=\"text-align: right;\">\n",
       "      <th></th>\n",
       "      <th>amountAlice</th>\n",
       "      <th>unit</th>\n",
       "      <th>asset-id</th>\n",
       "      <th>name</th>\n",
       "      <th>decimals</th>\n",
       "      <th>amountBob</th>\n",
       "    </tr>\n",
       "  </thead>\n",
       "  <tbody>\n",
       "    <tr>\n",
       "      <th>0</th>\n",
       "      <td>45.378991</td>\n",
       "      <td>ALGO</td>\n",
       "      <td>0</td>\n",
       "      <td>Algorand</td>\n",
       "      <td>6</td>\n",
       "      <td>64.286088</td>\n",
       "    </tr>\n",
       "    <tr>\n",
       "      <th>1</th>\n",
       "      <td>200.000000</td>\n",
       "      <td>USDC</td>\n",
       "      <td>10458941</td>\n",
       "      <td>USDC</td>\n",
       "      <td>6</td>\n",
       "      <td>100.000000</td>\n",
       "    </tr>\n",
       "    <tr>\n",
       "      <th>2</th>\n",
       "      <td>0.100000</td>\n",
       "      <td>WSC</td>\n",
       "      <td>66504861</td>\n",
       "      <td>WSC coin</td>\n",
       "      <td>2</td>\n",
       "      <td>NaN</td>\n",
       "    </tr>\n",
       "    <tr>\n",
       "      <th>3</th>\n",
       "      <td>0.000000</td>\n",
       "      <td>WSC</td>\n",
       "      <td>66505040</td>\n",
       "      <td>WSC coin</td>\n",
       "      <td>2</td>\n",
       "      <td>0.770000</td>\n",
       "    </tr>\n",
       "    <tr>\n",
       "      <th>4</th>\n",
       "      <td>100.000000</td>\n",
       "      <td>ALICE</td>\n",
       "      <td>66712019</td>\n",
       "      <td>Alice's Tempcoin</td>\n",
       "      <td>1</td>\n",
       "      <td>NaN</td>\n",
       "    </tr>\n",
       "    <tr>\n",
       "      <th>5</th>\n",
       "      <td>100.000000</td>\n",
       "      <td>ALICE</td>\n",
       "      <td>66712340</td>\n",
       "      <td>Alice's Tempcoin</td>\n",
       "      <td>1</td>\n",
       "      <td>NaN</td>\n",
       "    </tr>\n",
       "    <tr>\n",
       "      <th>6</th>\n",
       "      <td>1.000000</td>\n",
       "      <td>ALICEART</td>\n",
       "      <td>69394953</td>\n",
       "      <td>Alice's First Portrait 001</td>\n",
       "      <td>0</td>\n",
       "      <td>NaN</td>\n",
       "    </tr>\n",
       "    <tr>\n",
       "      <th>7</th>\n",
       "      <td>0.000000</td>\n",
       "      <td>VtC</td>\n",
       "      <td>70161280</td>\n",
       "      <td>VoteCoin</td>\n",
       "      <td>2</td>\n",
       "      <td>2.000000</td>\n",
       "    </tr>\n",
       "    <tr>\n",
       "      <th>8</th>\n",
       "      <td>0.000000</td>\n",
       "      <td>VtC</td>\n",
       "      <td>70166124</td>\n",
       "      <td>VoteCoin</td>\n",
       "      <td>2</td>\n",
       "      <td>3.000000</td>\n",
       "    </tr>\n",
       "    <tr>\n",
       "      <th>9</th>\n",
       "      <td>NaN</td>\n",
       "      <td>WSC</td>\n",
       "      <td>66709453</td>\n",
       "      <td>Peters WSC coin</td>\n",
       "      <td>2</td>\n",
       "      <td>10.000000</td>\n",
       "    </tr>\n",
       "    <tr>\n",
       "      <th>10</th>\n",
       "      <td>NaN</td>\n",
       "      <td>TEMP</td>\n",
       "      <td>66711321</td>\n",
       "      <td>Peters Tempcoin</td>\n",
       "      <td>1</td>\n",
       "      <td>25.000000</td>\n",
       "    </tr>\n",
       "    <tr>\n",
       "      <th>11</th>\n",
       "      <td>NaN</td>\n",
       "      <td>TEMP</td>\n",
       "      <td>67305600</td>\n",
       "      <td>Peters Tempcoin</td>\n",
       "      <td>1</td>\n",
       "      <td>25.000000</td>\n",
       "    </tr>\n",
       "    <tr>\n",
       "      <th>12</th>\n",
       "      <td>NaN</td>\n",
       "      <td>pWSC</td>\n",
       "      <td>70626778</td>\n",
       "      <td>Peters WSC coin</td>\n",
       "      <td>2</td>\n",
       "      <td>10.000000</td>\n",
       "    </tr>\n",
       "    <tr>\n",
       "      <th>13</th>\n",
       "      <td>NaN</td>\n",
       "      <td>TEMP</td>\n",
       "      <td>70627982</td>\n",
       "      <td>Peters Tempcoin</td>\n",
       "      <td>1</td>\n",
       "      <td>25.000000</td>\n",
       "    </tr>\n",
       "    <tr>\n",
       "      <th>14</th>\n",
       "      <td>NaN</td>\n",
       "      <td>WSC</td>\n",
       "      <td>71140107</td>\n",
       "      <td>Peters WSC coin</td>\n",
       "      <td>2</td>\n",
       "      <td>0.050000</td>\n",
       "    </tr>\n",
       "  </tbody>\n",
       "</table>\n",
       "</div>"
      ],
      "text/plain": [
       "    amountAlice      unit  asset-id                        name  decimals  \\\n",
       "0     45.378991      ALGO         0                    Algorand         6   \n",
       "1    200.000000      USDC  10458941                        USDC         6   \n",
       "2      0.100000       WSC  66504861                    WSC coin         2   \n",
       "3      0.000000       WSC  66505040                    WSC coin         2   \n",
       "4    100.000000     ALICE  66712019            Alice's Tempcoin         1   \n",
       "5    100.000000     ALICE  66712340            Alice's Tempcoin         1   \n",
       "6      1.000000  ALICEART  69394953  Alice's First Portrait 001         0   \n",
       "7      0.000000       VtC  70161280                    VoteCoin         2   \n",
       "8      0.000000       VtC  70166124                    VoteCoin         2   \n",
       "9           NaN       WSC  66709453             Peters WSC coin         2   \n",
       "10          NaN      TEMP  66711321             Peters Tempcoin         1   \n",
       "11          NaN      TEMP  67305600             Peters Tempcoin         1   \n",
       "12          NaN      pWSC  70626778             Peters WSC coin         2   \n",
       "13          NaN      TEMP  70627982             Peters Tempcoin         1   \n",
       "14          NaN       WSC  71140107             Peters WSC coin         2   \n",
       "\n",
       "     amountBob  \n",
       "0    64.286088  \n",
       "1   100.000000  \n",
       "2          NaN  \n",
       "3     0.770000  \n",
       "4          NaN  \n",
       "5          NaN  \n",
       "6          NaN  \n",
       "7     2.000000  \n",
       "8     3.000000  \n",
       "9    10.000000  \n",
       "10   25.000000  \n",
       "11   25.000000  \n",
       "12   10.000000  \n",
       "13   25.000000  \n",
       "14    0.050000  "
      ]
     },
     "execution_count": 77,
     "metadata": {},
     "output_type": "execute_result"
    }
   ],
   "source": [
    "# Get the holdings of MyAlgo and Bob separately\n",
    "alice_holding=asset_holdings_df(algod_client, Alice['public'])\n",
    "bob_holding=asset_holdings_df(algod_client, Bob['public'])\n",
    "# Merge in one data.frame using pandas merge\n",
    "pd.merge(alice_holding, bob_holding,  how=\"outer\", on=[\"asset-id\", \"unit\", \"name\", \"decimals\"], suffixes=['Alice','Bob'])"
   ]
  },
  {
   "cell_type": "markdown",
   "metadata": {},
   "source": [
    "#### Step 1a: Write down the conditions as a PyTeal program\n",
    "* Alice and Bob are business partners\n",
    "* Alice gets 3/4 of the proceeds\n",
    "* Bob gets 1/4 of the proceeds"
   ]
  },
  {
   "cell_type": "code",
   "execution_count": 87,
   "metadata": {},
   "outputs": [],
   "source": [
    "split_cond = And( \n",
    "    Gtxn[0].sender() == Gtxn[1].sender(),                        # Both payments come from the same address\n",
    "    Gtxn[0].receiver() == Addr(Alice['public']),                 # Payment 0 to Alice\n",
    "    Gtxn[1].receiver() == Addr(Bob['public']),                   # Payment 1 to Bob\n",
    "    Gtxn[0].amount() == Int(4) * (Gtxn[0].amount() + Gtxn[1].amount()) / Int(5)    # Alice_amount = 3/4 * Total_amount\n",
    "    )\n",
    "\n",
    "fee_cond = And( \n",
    "    Gtxn[0].fee() <= Int(1000),                                    # No fee attack\n",
    "    Gtxn[1].fee() <= Int(1000)                                     # No fee attack\n",
    "    )\n",
    "\n",
    "safety_cond = And( \n",
    "    Global.group_size() == Int(2),                                  # Exactly 2 transactions\n",
    "    Gtxn[0].type_enum() == TxnType.Payment,                         # Both are PaymentTxn\n",
    "    Gtxn[1].type_enum() == TxnType.Payment,\n",
    "    Gtxn[0].rekey_to() == Global.zero_address(),                    # No rekey attach\n",
    "    Gtxn[1].rekey_to() == Global.zero_address(),\n",
    "    Gtxn[0].close_remainder_to() == Global.zero_address(),          # No close_to attack\n",
    "    Gtxn[1].close_remainder_to() == Global.zero_address()\n",
    "    )\n",
    "    \n",
    "split_pyteal = And(\n",
    "    split_cond, \n",
    "    fee_cond, \n",
    "    safety_cond\n",
    "    )"
   ]
  },
  {
   "cell_type": "markdown",
   "metadata": {},
   "source": [
    "#### Step 1b: Pyteal -> Teal"
   ]
  },
  {
   "cell_type": "code",
   "execution_count": 88,
   "metadata": {},
   "outputs": [
    {
     "name": "stdout",
     "output_type": "stream",
     "text": [
      "#pragma version 3\n",
      "gtxn 0 Sender\n",
      "gtxn 1 Sender\n",
      "==\n",
      "gtxn 0 Receiver\n",
      "addr HITPAAJ4HKANMP6EUYASXDUTCL653T7QMNHJL5NODL6XEGBM4KBLDJ2D2E\n",
      "==\n",
      "&&\n",
      "gtxn 1 Receiver\n",
      "addr O2SLRPK4I4SWUOCYGGKHHUCFJJF5ORHFL76YO43FYTB7HUO7AHDDNNR5YA\n",
      "==\n",
      "&&\n",
      "gtxn 0 Amount\n",
      "int 4\n",
      "gtxn 0 Amount\n",
      "gtxn 1 Amount\n",
      "+\n",
      "*\n",
      "int 5\n",
      "/\n",
      "==\n",
      "&&\n",
      "gtxn 0 Fee\n",
      "int 1000\n",
      "<=\n",
      "gtxn 1 Fee\n",
      "int 1000\n",
      "<=\n",
      "&&\n",
      "&&\n",
      "global GroupSize\n",
      "int 2\n",
      "==\n",
      "gtxn 0 TypeEnum\n",
      "int pay\n",
      "==\n",
      "&&\n",
      "gtxn 1 TypeEnum\n",
      "int pay\n",
      "==\n",
      "&&\n",
      "gtxn 0 RekeyTo\n",
      "global ZeroAddress\n",
      "==\n",
      "&&\n",
      "gtxn 1 RekeyTo\n",
      "global ZeroAddress\n",
      "==\n",
      "&&\n",
      "gtxn 0 CloseRemainderTo\n",
      "global ZeroAddress\n",
      "==\n",
      "&&\n",
      "gtxn 1 CloseRemainderTo\n",
      "global ZeroAddress\n",
      "==\n",
      "&&\n",
      "&&\n"
     ]
    }
   ],
   "source": [
    "split_teal = compileTeal(split_pyteal, Mode.Signature, version=3)\n",
    "print(split_teal)"
   ]
  },
  {
   "cell_type": "markdown",
   "metadata": {},
   "source": [
    "#### Step 1c: Teal -> Bytecode for AVM"
   ]
  },
  {
   "cell_type": "code",
   "execution_count": 89,
   "metadata": {},
   "outputs": [
    {
     "data": {
      "text/plain": [
       "{'hash': 'BLCGVWDB3RS3DCFFCEN65MKOQDD4WW3LKF57OKIGGRDMSGRHPCVZ5Q72BI',\n",
       " 'result': 'AyAFBAXoBwIBJgIgOibwATw6gNY/xKYBK46TEv3dz/BjTpX1rhr9chgs4oIgdqS4vVxHJWo4WDGUc9BFSkvXROVf/YdzZcTD89HfAcYzAAAzAQASMwAHKBIQMwEHKRIQMwAIIjMACDMBCAgLIwoSEDMAASQOMwEBJA4QEDIEJRIzABAhBBIQMwEQIQQSEDMAIDIDEhAzASAyAxIQMwAJMgMSEDMBCTIDEhAQ'}"
      ]
     },
     "execution_count": 89,
     "metadata": {},
     "output_type": "execute_result"
    }
   ],
   "source": [
    "Split = algod_client.compile(split_teal)\n",
    "Split"
   ]
  },
  {
   "cell_type": "markdown",
   "metadata": {},
   "source": [
    "### The split payment is now ready\n",
    "* We only need to communicate the hash to customers"
   ]
  },
  {
   "cell_type": "markdown",
   "metadata": {},
   "source": [
    "#### Step 2: A customer makes a payment\n",
    "* Dina buys something from the Alice_Bob_Company\n",
    "* She pays 5 Algos into the company account"
   ]
  },
  {
   "cell_type": "code",
   "execution_count": 90,
   "metadata": {},
   "outputs": [
    {
     "name": "stdout",
     "output_type": "stream",
     "text": [
      "Current round is  19824838.\n",
      "Waiting for round 19824838 to finish.\n",
      "Transaction 3UVPFX5DBW47JXEUJFYTQONQLOAA5KT4KTOKR3TOVCOI3ZHYKZXA confirmed in round 19824839.\n"
     ]
    }
   ],
   "source": [
    "# Step 2.1: prepare transaction\n",
    "sp = algod_client.suggested_params()\n",
    "amt = int(5*1e6)\n",
    "txn = transaction.PaymentTxn(sender=Dina['public'], sp=sp, \n",
    "                             receiver=Split['hash'], amt=amt)\n",
    "\n",
    "# Step 2.(2+3+4): sign and send and wait ...\n",
    "stxn = txn.sign(Dina['private'])\n",
    "txid = algod_client.send_transaction(stxn)\n",
    "txinfo = wait_for_confirmation(algod_client, txid)"
   ]
  },
  {
   "cell_type": "markdown",
   "metadata": {},
   "source": [
    "#### Step 3: Payout request\n",
    "* Alice or Bob or anybody actually can make a payout request\n",
    "* The only thing that matter is that 3/4 go to Alice and 1/4 goes to Bob\n",
    "* Consider the TX fees and min holdings in the contract"
   ]
  },
  {
   "cell_type": "code",
   "execution_count": 93,
   "metadata": {},
   "outputs": [
    {
     "name": "stdout",
     "output_type": "stream",
     "text": [
      "Current round is  19824852.\n",
      "Waiting for round 19824852 to finish.\n",
      "Waiting for round 19824853 to finish.\n",
      "Transaction W7CNBOJ2GHBEY4QXK67VUVRGZH5JMXA7YO3KXP2C7YDHCOPZOWKA confirmed in round 19824854.\n"
     ]
    }
   ],
   "source": [
    "### Step 3.1: prepare and create TX group\n",
    "sp = algod_client.suggested_params()\n",
    "\n",
    "total_amt = 4.8       # total withdrawl\n",
    "amt_1 = int(4/5 * 4.8 * 1E6)  # Alice share in microalgos\n",
    "amt_2 = int(1/5 * 4.8 * 1E6)  # Bob share in microalgos\n",
    "\n",
    "txn_1 = PaymentTxn(sender=Split['hash'],sp=sp,receiver=Alice['public'],amt=amt_1)\n",
    "txn_2 = PaymentTxn(sender=Split['hash'],sp=sp,receiver=Bob['public'],amt=amt_2)\n",
    "\n",
    "gid = transaction.calculate_group_id([txn_1, txn_2])\n",
    "txn_1.group = gid\n",
    "txn_2.group = gid\n",
    "\n",
    "# Step 3.2a ask Smart Signature to sign txn_1\n",
    "encodedProg = Split['result'].encode()              \n",
    "program = base64.decodebytes(encodedProg)\n",
    "lsig = LogicSig(program)\n",
    "stxn_1 = LogicSigTransaction(txn_1, lsig)\n",
    "\n",
    "# Step 3.2b ask Smart Signature to sign txn_2\n",
    "encodedProg = Split['result'].encode()              \n",
    "program = base64.decodebytes(encodedProg)\n",
    "lsig = LogicSig(program)\n",
    "stxn_2 = LogicSigTransaction(txn_2, lsig)\n",
    "\n",
    "# Step 3.3: assemble transaction group and send\n",
    "signed_group =  [stxn_1, stxn_2]\n",
    "txid = algod_client.send_transactions(signed_group)\n",
    "\n",
    "# Step 3.4: wait for confirmation\n",
    "txinfo = wait_for_confirmation(algod_client, txid)"
   ]
  },
  {
   "cell_type": "markdown",
   "metadata": {},
   "source": [
    "## Appendix: how to calcualte the splitting condition\n",
    "\n",
    "The splitting condition is written in a strange order\n",
    "\n",
    "```python\n",
    "    Gtxn[0].amount() == Int(3) * (Gtxn[0].amount()+Gtxn[1].amount()) / Int(4)  \n",
    "\n",
    "```\n",
    "\n",
    "This (mathematically identical) will not work\n",
    "\n",
    "```python\n",
    "    Gtxn[0].amount() == Int(3)/Int(4) * (Gtxn[0].amount()+Gtxn[1].amount()) \n",
    "```"
   ]
  },
  {
   "cell_type": "code",
   "execution_count": 84,
   "metadata": {},
   "outputs": [],
   "source": [
    "a = 750\n",
    "b = 250"
   ]
  },
  {
   "cell_type": "code",
   "execution_count": 85,
   "metadata": {},
   "outputs": [
    {
     "data": {
      "text/plain": [
       "True"
      ]
     },
     "execution_count": 85,
     "metadata": {},
     "output_type": "execute_result"
    }
   ],
   "source": [
    "# Version 1\n",
    "int(a) == int( int(3 * (int(a) + int(b)) ) / 4)"
   ]
  },
  {
   "cell_type": "code",
   "execution_count": 86,
   "metadata": {},
   "outputs": [
    {
     "data": {
      "text/plain": [
       "False"
      ]
     },
     "execution_count": 86,
     "metadata": {},
     "output_type": "execute_result"
    }
   ],
   "source": [
    "# Version 2\n",
    "int(a) == int(3/4) * ( int(a) + int(b))"
   ]
  },
  {
   "cell_type": "markdown",
   "metadata": {},
   "source": [
    "#### CONCLUSION: (Py)TEAL uses integer calucaltions for every single step!"
   ]
  },
  {
   "cell_type": "markdown",
   "metadata": {},
   "source": [
    "## Exercise\n",
    "* Change the Smart Signature (and the withdrawl transaction) so that Alice gets 80% and Bob gets 20%"
   ]
  },
  {
   "cell_type": "markdown",
   "metadata": {},
   "source": [
    "## Exercise\n",
    "* Discuss: How would we deal with fractions like 2/3 and 1/3, that cannot be easily expressed in percentages?"
   ]
  }
 ],
 "metadata": {
  "kernelspec": {
   "display_name": "Python 3",
   "language": "python",
   "name": "python3"
  },
  "language_info": {
   "codemirror_mode": {
    "name": "ipython",
    "version": 3
   },
   "file_extension": ".py",
   "mimetype": "text/x-python",
   "name": "python",
   "nbconvert_exporter": "python",
   "pygments_lexer": "ipython3",
   "version": "3.8.8"
  }
 },
 "nbformat": 4,
 "nbformat_minor": 4
}
