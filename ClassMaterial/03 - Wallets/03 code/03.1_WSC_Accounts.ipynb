{
 "cells": [
  {
   "cell_type": "markdown",
   "metadata": {},
   "source": [
    "## Create an account\n",
    "#### 03.1 Winter School on Smart Contracts\n",
    "##### Peter Gruber (peter.gruber@usi.ch)\n",
    "2023-02-06 (started 2021-11-28)\n",
    "\n",
    "* Install Algorand Python SDK\n",
    "* Create accounts\n",
    "    * Mnemonic $\\leftrightarrow$ private key\n",
    "    * Private key $\\rightarrow$ public key"
   ]
  },
  {
   "cell_type": "markdown",
   "metadata": {},
   "source": [
    "## ❗️Install Algorand SDK\n",
    "* Use menu **Kernel/Restart Kernel** afterwards.\n",
    "* To verify that you installed the latest version, go here: https://py-algorand-sdk.readthedocs.io/en/latest/\n",
    "\n",
    "👉 Do you have trouble running these notebooks on a system with Algorand SDK already installed? Have a look at `03.x_WSC_Upgrading`"
   ]
  },
  {
   "cell_type": "code",
   "execution_count": null,
   "metadata": {
    "scrolled": true,
    "tags": []
   },
   "outputs": [],
   "source": [
    "# Run this only once, then comment out\n",
    "!pip install py-algorand-sdk"
   ]
  },
  {
   "cell_type": "code",
   "execution_count": 2,
   "metadata": {},
   "outputs": [],
   "source": [
    "# What to do if this does not work\n",
    "#!pip install --upgrade pip\n",
    "#!pip install --upgrade pip setuptools wheel\n",
    "\n",
    "# If this does not work either, go back to the installing documentation for Anaconda\n",
    "# And create an environment in Anaconda"
   ]
  },
  {
   "cell_type": "code",
   "execution_count": 3,
   "metadata": {},
   "outputs": [],
   "source": [
    "from algosdk import account, mnemonic"
   ]
  },
  {
   "cell_type": "markdown",
   "metadata": {},
   "source": [
    "### Create a key pair and menemonic locally\n",
    "\n",
    "`account.generate_account()` produces a pair of public and private keys\n",
    "\n",
    "* Create a random private key\n",
    "* Provide according mnemonic\n",
    "* Calcualte public address from private key\n",
    "\n",
    "##### Notes\n",
    "* The keys only exist on your computer. We did not (yet) interact with the blockchain.\n",
    "* Key security will be discussed in `03.3_WSC_Credentials`\n",
    "* We are not going to use any keys created in *this* notebook. "
   ]
  },
  {
   "cell_type": "code",
   "execution_count": 4,
   "metadata": {},
   "outputs": [
    {
     "data": {
      "text/plain": [
       "('z6ghWe8oUFYUXD0FQI9NR/GaLGA6QBIgGiBJKdTTYQaZD70YwimhXxqbmJWvLfeXXnDSFOv8kLGfzithngGp9Q==',\n",
       " 'TEH32GGCFGQV6GU3TCK26LPXS5PHBUQU5P6JBMM7ZYVWDHQBVH27AX5ZUA')"
      ]
     },
     "execution_count": 4,
     "metadata": {},
     "output_type": "execute_result"
    }
   ],
   "source": [
    "account.generate_account()"
   ]
  },
  {
   "cell_type": "markdown",
   "metadata": {},
   "source": [
    "**EXERCISE:** Run the above cell several times"
   ]
  },
  {
   "cell_type": "markdown",
   "metadata": {},
   "source": [
    "#### Step 1: Obtain new private key\n",
    "* Add index `[0]` to obtain only the private key\n",
    "* Why the `[0]`? Because `generate_account()` returns a list!"
   ]
  },
  {
   "cell_type": "code",
   "execution_count": 5,
   "metadata": {},
   "outputs": [
    {
     "name": "stdout",
     "output_type": "stream",
     "text": [
      "09mO9ii/YryliO9kD46CRqN7kduBnkGIiZ7/QDraQJB87QPfgdHKnOh1QuQwsK5vvuBkIGpAVQbBGhYwH/0UWQ==\n"
     ]
    }
   ],
   "source": [
    "private_key=account.generate_account()[0]             \n",
    "print(private_key)"
   ]
  },
  {
   "cell_type": "markdown",
   "metadata": {},
   "source": [
    "#### Step 2: Private key $\\leftrightarrow$ mnemonic"
   ]
  },
  {
   "cell_type": "code",
   "execution_count": 6,
   "metadata": {},
   "outputs": [
    {
     "name": "stdout",
     "output_type": "stream",
     "text": [
      "denial derive kitten verb shell humor early usage uncle deal donor crucial warrior tone attract ozone amused change soon avocado innocent custom link above shoot\n"
     ]
    }
   ],
   "source": [
    "passphrase = mnemonic.from_private_key(private_key)\n",
    "print(passphrase)"
   ]
  },
  {
   "cell_type": "code",
   "execution_count": 7,
   "metadata": {},
   "outputs": [
    {
     "name": "stdout",
     "output_type": "stream",
     "text": [
      "09mO9ii/YryliO9kD46CRqN7kduBnkGIiZ7/QDraQJB87QPfgdHKnOh1QuQwsK5vvuBkIGpAVQbBGhYwH/0UWQ==\n"
     ]
    }
   ],
   "source": [
    "# Quick check: do we get back from the menmonic to the private key?\n",
    "private_key = mnemonic.to_private_key(passphrase)               \n",
    "print(private_key)                                         # Yes!! Same as above!"
   ]
  },
  {
   "cell_type": "markdown",
   "metadata": {},
   "source": [
    "#### Step 3: private key $\\rightarrow$ public addres"
   ]
  },
  {
   "cell_type": "code",
   "execution_count": 8,
   "metadata": {},
   "outputs": [
    {
     "name": "stdout",
     "output_type": "stream",
     "text": [
      "PTWQHX4B2HFJZ2DVILSDBMFON67OAZBANJAFKBWBDILDAH75CRMW6THULU\n"
     ]
    }
   ],
   "source": [
    "public_address = account.address_from_private_key(private_key)\n",
    "print(public_address)"
   ]
  },
  {
   "cell_type": "markdown",
   "metadata": {},
   "source": [
    "#### Step 4\n",
    "There is no step 4! We can not obtain the mnemonic or the private key from the public key"
   ]
  },
  {
   "cell_type": "markdown",
   "metadata": {},
   "source": [
    "### Account dictionaries\n",
    "* Highly useful way to organize account data\n",
    "* This structure be used throughout the course"
   ]
  },
  {
   "cell_type": "code",
   "execution_count": 9,
   "metadata": {},
   "outputs": [
    {
     "data": {
      "text/plain": [
       "{'public': 'PTWQHX4B2HFJZ2DVILSDBMFON67OAZBANJAFKBWBDILDAH75CRMW6THULU',\n",
       " 'private': '09mO9ii/YryliO9kD46CRqN7kduBnkGIiZ7/QDraQJB87QPfgdHKnOh1QuQwsK5vvuBkIGpAVQbBGhYwH/0UWQ==',\n",
       " 'passpharse': 'denial derive kitten verb shell humor early usage uncle deal donor crucial warrior tone attract ozone amused change soon avocado innocent custom link above shoot'}"
      ]
     },
     "execution_count": 9,
     "metadata": {},
     "output_type": "execute_result"
    }
   ],
   "source": [
    "Test = {}      # Empty dictionary\n",
    "Test['public'] = public_address\n",
    "Test['private'] = private_key\n",
    "Test['passpharse'] = passphrase\n",
    "Test "
   ]
  },
  {
   "cell_type": "markdown",
   "metadata": {},
   "source": [
    "### Function for account creation\n",
    "* Useful for automatization"
   ]
  },
  {
   "cell_type": "code",
   "execution_count": 10,
   "metadata": {},
   "outputs": [],
   "source": [
    "def generate_account_dict():\n",
    "    private_key = account.generate_account()[0]    # need [0], because generate_account() returns a list\n",
    "    acc = {}\n",
    "    acc['public'] = account.address_from_private_key(private_key)\n",
    "    acc['private'] = private_key\n",
    "    acc['mnemonic'] = mnemonic.from_private_key(private_key)\n",
    "    return acc"
   ]
  },
  {
   "cell_type": "code",
   "execution_count": 12,
   "metadata": {},
   "outputs": [
    {
     "data": {
      "text/plain": [
       "{'public': 'SKV2MP7OHNBTFBAKYMQMDFCIWTDXDBPEHG5IIB2IIU2HE2IQRF5M5QKFTQ',\n",
       " 'private': 'dnZxFNzN6ET2SAxQOp/9Ni/ktnPGL5s9F2Z6Gp5ikb6Sq6Y/7jtDMoQKwyDBlEi0x3GF5Dm6hAdIRTRyaRCJeg==',\n",
       " 'mnemonic': 'solution shift any tape spice muffin element arrange energy language learn vibrant sign unit crime cool recall friend credit police destroy flavor virus absent crew'}"
      ]
     },
     "execution_count": 12,
     "metadata": {},
     "output_type": "execute_result"
    }
   ],
   "source": [
    "Test2 = generate_account_dict()\n",
    "Test2"
   ]
  },
  {
   "cell_type": "markdown",
   "metadata": {},
   "source": [
    "# Things that can and will go wrong\n",
    "* If you loose private key and mnemonic, the money is gone\n",
    "* Just because it is a QR code, it does not mean it is trustworthy"
   ]
  },
  {
   "cell_type": "markdown",
   "metadata": {},
   "source": [
    "## Appendix: can you choose your Algorand Address?\n",
    "\n",
    "* Not really, the address is the Hash of the private key\n",
    "* **BUT**: we can try many private keys until we find a (partial) match"
   ]
  },
  {
   "cell_type": "markdown",
   "metadata": {},
   "source": [
    "#### Trying to obtain an Address that starts with your initials\n",
    "* Let us try to find an account for *Alice*, that starts with `AL`"
   ]
  },
  {
   "cell_type": "code",
   "execution_count": 13,
   "metadata": {},
   "outputs": [],
   "source": [
    "initials = \"AL\"\n",
    "acc = generate_account_dict()\n",
    "while (not acc['public'].startswith(initials)):\n",
    "    acc = generate_account_dict()"
   ]
  },
  {
   "cell_type": "code",
   "execution_count": 14,
   "metadata": {},
   "outputs": [
    {
     "data": {
      "text/plain": [
       "{'public': 'ALN2BRHWSHCB6NGZJZJA67F5VWKH5PRCF4WAU3MRS6Z6QGLMFRIMLSC5VY',\n",
       " 'private': 'BZn0/j3X7qz11kAaXyxnFdxssLR8+nsyt+2cAPVbAIkC26DE9pHEHzTZTlIPfL2tlH6+Ii8sCm2Rl7PoGWwsUA==',\n",
       " 'mnemonic': 'camera sponsor youth inherit tank hen response dolphin today ramp receive scout super clown toss whip exhaust system item antenna tube black elite above obvious'}"
      ]
     },
     "execution_count": 14,
     "metadata": {},
     "output_type": "execute_result"
    }
   ],
   "source": [
    "acc"
   ]
  },
  {
   "cell_type": "markdown",
   "metadata": {},
   "source": [
    "#### Exercise\n",
    "* Create an account with your initials\n",
    "* Try to add one by one more letters to the initials\n",
    "    * Requiring one more letter increases time by approx a factor of 30. Why?\n",
    "* Discuss the claims about safety on this page: https://algovanity.com"
   ]
  }
 ],
 "metadata": {
  "kernelspec": {
   "display_name": "Python 3 (ipykernel)",
   "language": "python",
   "name": "python3"
  },
  "language_info": {
   "codemirror_mode": {
    "name": "ipython",
    "version": 3
   },
   "file_extension": ".py",
   "mimetype": "text/x-python",
   "name": "python",
   "nbconvert_exporter": "python",
   "pygments_lexer": "ipython3",
   "version": "3.10.13"
  }
 },
 "nbformat": 4,
 "nbformat_minor": 4
}
