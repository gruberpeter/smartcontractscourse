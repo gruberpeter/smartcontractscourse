{
 "cells": [
  {
   "cell_type": "markdown",
   "id": "86dc8df7",
   "metadata": {
    "tags": []
   },
   "source": [
    "## A stateless oracle (1): getting the data\n",
    "#### 09.1 Winter School on Smart Contracts\n",
    "##### Peter Gruber (peter.gruber@usi.ch)\n",
    "2022-02-15\n",
    "\n",
    "* Part 1: get the data form Coingecko\n",
    "* Parts 1-4 are only relevant if you want to **create** an Oracle\n",
    "* Only parts 5-6 are needed to **use** the oracle."
   ]
  },
  {
   "cell_type": "markdown",
   "id": "3eb1e151-d994-4412-99b7-4bcee961ca94",
   "metadata": {
    "tags": []
   },
   "source": [
    "## Setup\n",
    "See notebook 04.1, the lines below will always automatically load functions in `algo_util.py`, the five accounts and the Purestake credentials"
   ]
  },
  {
   "cell_type": "code",
   "execution_count": null,
   "id": "3a5a2af1-deda-4e50-abbb-687083d7125e",
   "metadata": {
    "jupyter": {
     "source_hidden": true
    },
    "tags": []
   },
   "outputs": [],
   "source": [
    "# Loading shared code and credentials\n",
    "import sys, os\n",
    "\n",
    "codepath = '..'+os.path.sep+'..'+os.path.sep+'sharedCode'\n",
    "sys.path.append(codepath)\n",
    "from algo_util import *\n",
    "cred = load_credentials()\n",
    "\n",
    "# Shortcuts to directly access the 3 main accounts\n",
    "MyAlgo  = cred['MyAlgo']\n",
    "Alice   = cred['Alice']\n",
    "Bob     = cred['Bob']\n",
    "Charlie = cred['Charlie']\n",
    "Dina    = cred['Dina']"
   ]
  },
  {
   "cell_type": "code",
   "execution_count": null,
   "id": "c5a85d13-5a6e-4a8f-b4cf-9e479a10f640",
   "metadata": {
    "jupyter": {
     "source_hidden": true
    },
    "tags": []
   },
   "outputs": [],
   "source": [
    "from algosdk import account, mnemonic\n",
    "from algosdk.v2client import algod\n",
    "from algosdk.future import transaction\n",
    "from algosdk.future.transaction import PaymentTxn\n",
    "from algosdk.future.transaction import AssetConfigTxn, AssetTransferTxn, AssetFreezeTxn\n",
    "from algosdk.future.transaction import LogicSig\n",
    "\n",
    "import algosdk.error\n",
    "import json\n",
    "import base64\n",
    "import hashlib"
   ]
  },
  {
   "cell_type": "code",
   "execution_count": null,
   "id": "1de8647d-4567-4b7e-a78d-624f4bacb9d8",
   "metadata": {
    "jupyter": {
     "source_hidden": true
    },
    "tags": []
   },
   "outputs": [],
   "source": [
    "from pyteal import *"
   ]
  },
  {
   "cell_type": "code",
   "execution_count": null,
   "id": "63a37b3d-28d1-440b-8287-a01957180489",
   "metadata": {
    "jupyter": {
     "source_hidden": true
    },
    "tags": []
   },
   "outputs": [],
   "source": [
    "# Initialize the algod client (Testnet or Mainnet)\n",
    "algod_client = algod.AlgodClient(algod_token='', algod_address=cred['algod_test'], headers=cred['purestake_token'])"
   ]
  },
  {
   "cell_type": "code",
   "execution_count": null,
   "id": "d7995374-fdcd-43f1-96b4-3a15c6566fa7",
   "metadata": {
    "jupyter": {
     "source_hidden": true
    },
    "tags": []
   },
   "outputs": [],
   "source": [
    "print(Alice['public'])\n",
    "print(Bob['public'])\n",
    "print(Charlie['public'])"
   ]
  },
  {
   "cell_type": "code",
   "execution_count": null,
   "id": "d21f1c8b",
   "metadata": {
    "jupyter": {
     "source_hidden": true
    },
    "tags": []
   },
   "outputs": [],
   "source": [
    "import json\n",
    "import requests\n",
    "import pandas as pd\n",
    "import numpy as np\n",
    "import time"
   ]
  },
  {
   "cell_type": "markdown",
   "id": "2325d790",
   "metadata": {},
   "source": [
    "## Getting the data: Coingecko API\n",
    "- CoinGecko states they are \"the world’s largest independent cryptocurrency data aggregator\"\n",
    "- https://www.coingecko.com/en/about\n",
    "- Their API can be used without API key"
   ]
  },
  {
   "cell_type": "code",
   "execution_count": null,
   "id": "865c3746",
   "metadata": {},
   "outputs": [],
   "source": [
    "!pip install pycoingecko"
   ]
  },
  {
   "cell_type": "markdown",
   "id": "a2a814ab",
   "metadata": {},
   "source": [
    "### Connect to Coigecko"
   ]
  },
  {
   "cell_type": "code",
   "execution_count": null,
   "id": "59b22eb2",
   "metadata": {},
   "outputs": [],
   "source": [
    "from pycoingecko import CoinGeckoAPI\n",
    "cg = CoinGeckoAPI()"
   ]
  },
  {
   "cell_type": "markdown",
   "id": "194159d1",
   "metadata": {},
   "source": [
    "## Obtain last price"
   ]
  },
  {
   "cell_type": "code",
   "execution_count": null,
   "id": "bb162aa8",
   "metadata": {},
   "outputs": [],
   "source": [
    "price = cg.get_price(ids='algorand', vs_currencies='usd')\n",
    "print(price['algorand']['usd'])"
   ]
  },
  {
   "cell_type": "markdown",
   "id": "fa6931cc",
   "metadata": {},
   "source": [
    "## Appendix: Obtain and plot historical data from Coingecko\n",
    "* Daily data for the last *xxx* days\n",
    "* Date is given as UNIX time\n",
    "* Use pandas to convert"
   ]
  },
  {
   "cell_type": "code",
   "execution_count": null,
   "id": "0b89d331",
   "metadata": {},
   "outputs": [],
   "source": [
    "df = pd.DataFrame(cg.get_coin_market_chart_by_id('algorand',vs_currency = 'usd', days = '100')['prices'])\n",
    "df.columns = ['date', 'ALGO']\n",
    "df.tail(3)\n",
    "# The last row is the current price. If you only want historical data you have to drop the last row\n",
    "# df = df[:-1]"
   ]
  },
  {
   "cell_type": "code",
   "execution_count": null,
   "id": "6d080c92",
   "metadata": {},
   "outputs": [],
   "source": [
    "#conversion of unix time to datetime\n",
    "df['date'] = pd.to_datetime(df['date'],unit='ms').dt.floor('d')\n",
    "df.head()"
   ]
  },
  {
   "cell_type": "code",
   "execution_count": null,
   "id": "9fd893e0",
   "metadata": {},
   "outputs": [],
   "source": [
    "# Make a plot\n",
    "plt = df.plot(x='date',y='ALGO')"
   ]
  }
 ],
 "metadata": {
  "kernelspec": {
   "display_name": "Python 3",
   "language": "python",
   "name": "python3"
  },
  "language_info": {
   "codemirror_mode": {
    "name": "ipython",
    "version": 3
   },
   "file_extension": ".py",
   "mimetype": "text/x-python",
   "name": "python",
   "nbconvert_exporter": "python",
   "pygments_lexer": "ipython3",
   "version": "3.8.8"
  }
 },
 "nbformat": 4,
 "nbformat_minor": 5
}
