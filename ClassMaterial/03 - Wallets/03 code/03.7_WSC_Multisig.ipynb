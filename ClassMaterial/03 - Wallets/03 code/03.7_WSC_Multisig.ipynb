{
 "cells": [
  {
   "cell_type": "markdown",
   "metadata": {},
   "source": [
    "## *Multisig accounts\n",
    "#### 03.7 Writing Smart Contracts\n",
    "##### Peter Gruber (peter.gruber@usi.ch)\n",
    "2024-02-14 (started 2022-02-02)\n",
    "\n",
    "- Create and use k-out-of-n multisignature accounts"
   ]
  },
  {
   "cell_type": "markdown",
   "metadata": {
    "tags": []
   },
   "source": [
    "## Setup\n",
    "Starting with chapter 3.4, the lines below will always automatically load ...\n",
    "* The functions in `algo_util.py`\n",
    "* The accounts MyAlgo, Alice and Bob\n",
    "* The Purestake credentials"
   ]
  },
  {
   "cell_type": "code",
   "execution_count": 1,
   "metadata": {},
   "outputs": [],
   "source": [
    "# Loading shared code and credentials\n",
    "import sys, os\n",
    "codepath = '..'+os.path.sep+'..'+os.path.sep+'sharedCode'\n",
    "sys.path.append(codepath)\n",
    "from algo_util import *\n",
    "cred = load_credentials()\n",
    "\n",
    "# Shortcuts to directly access the main accounts\n",
    "MyAlgo  = cred['MyAlgo']\n",
    "Alice   = cred['Alice']\n",
    "Bob     = cred['Bob']\n",
    "Charlie = cred['Charlie']\n",
    "Dina    = cred['Dina']"
   ]
  },
  {
   "cell_type": "code",
   "execution_count": 2,
   "metadata": {},
   "outputs": [],
   "source": [
    "from algosdk import account, mnemonic\n",
    "from algosdk.v2client import algod\n",
    "from algosdk.transaction import PaymentTxn, MultisigTransaction\n",
    "import algosdk.error\n",
    "import json"
   ]
  },
  {
   "cell_type": "code",
   "execution_count": 3,
   "metadata": {},
   "outputs": [
    {
     "name": "stdout",
     "output_type": "stream",
     "text": [
      "WSC24MVUSQ32IZYD7FNN54Z44IXWL4X7BOJD6AGFOCHOG4PDFESLZUGLTI\n",
      "ALICEXOA4Q2OD5CKBYND4UX75K3TAODEC3XCVNQ3URMKUMZKUOTOSAQLIU\n",
      "BOB23JBQLW3AJREEG3KD7ULMAGYGVZ2LVF2OMZ2XBJIR64NO5P24XN7WEU\n",
      "CHARLS5INIT5KOLDK3F2QAZXY7N4W7GOE6UTXHEHS3RBNCR2WJXRRTH3GY\n",
      "DINAAZWBJM6DRY73CWK7IOA4S7C6PVXQMQ4DJ3TK3DAGAGFJTX5KEYESDI\n"
     ]
    }
   ],
   "source": [
    "print(MyAlgo['public'])\n",
    "print(Alice['public'])\n",
    "print(Bob['public'])\n",
    "print(Charlie['public'])\n",
    "print(Dina['public'])"
   ]
  },
  {
   "cell_type": "markdown",
   "metadata": {},
   "source": [
    "### Connecting to the Algorand testnet"
   ]
  },
  {
   "cell_type": "code",
   "execution_count": 4,
   "metadata": {},
   "outputs": [
    {
     "data": {
      "text/plain": [
       "38992208"
      ]
     },
     "execution_count": 4,
     "metadata": {},
     "output_type": "execute_result"
    }
   ],
   "source": [
    "algod_client = algod.AlgodClient(algod_token='', algod_address=cred['algod_test'], headers=cred['api_token'])\n",
    "algod_client.status()[\"last-round\"]"
   ]
  },
  {
   "cell_type": "markdown",
   "metadata": {},
   "source": [
    "## Multisig account\n",
    "Alice, Bob and Charlie create a multisig account, \n",
    "with the requirement that at least 2 out of 3 have to sign."
   ]
  },
  {
   "cell_type": "markdown",
   "metadata": {},
   "source": [
    "#### Step 1: Create the Multisig account\n",
    "* Using the new command `Multisig`\n",
    "* Create a 2-out-of-3 multisig\n",
    "    * Set `threshold` to 2\n",
    "    * Add 3 accounts to the `account_list`"
   ]
  },
  {
   "cell_type": "code",
   "execution_count": 5,
   "metadata": {},
   "outputs": [
    {
     "name": "stdout",
     "output_type": "stream",
     "text": [
      "Multisig Address:  PVRODHMQD2SQIV4NXEFYCZYTV365WNCQ6HVCRLWQ3QTK3NAJUKUCDWMJKY\n"
     ]
    }
   ],
   "source": [
    "from algosdk.transaction import Multisig\n",
    "\n",
    "version   = 1     # multisig version, currently always 1\n",
    "threshold = 2     # min 2 signatures required\n",
    "account_list = [Alice['public'], Bob['public'], Charlie['public']]\n",
    "\n",
    "msig = Multisig(version, threshold, account_list)\n",
    "msig_address = msig.address()\n",
    "\n",
    "print(\"Multisig Address: \", msig_address)"
   ]
  },
  {
   "cell_type": "markdown",
   "metadata": {},
   "source": [
    "#### Step 2: Fund the multisig account\n",
    "* Can be funded via PaymentTxn\n",
    "* Here we fund from a dispenser"
   ]
  },
  {
   "cell_type": "code",
   "execution_count": 6,
   "metadata": {},
   "outputs": [
    {
     "name": "stdout",
     "output_type": "stream",
     "text": [
      "https://dispenser.testnet.aws.algodev.network/?account=PVRODHMQD2SQIV4NXEFYCZYTV365WNCQ6HVCRLWQ3QTK3NAJUKUCDWMJKY\n"
     ]
    }
   ],
   "source": [
    "print('https://dispenser.testnet.aws.algodev.network/?account='+msig_address)"
   ]
  },
  {
   "cell_type": "markdown",
   "metadata": {
    "tags": []
   },
   "source": [
    "#### Step 3.1: Create a simple payment transaction\n",
    "* Together, they want to send 1.2 ALGOs to Dina"
   ]
  },
  {
   "cell_type": "code",
   "execution_count": 7,
   "metadata": {},
   "outputs": [],
   "source": [
    "sp = algod_client.suggested_params()\n",
    "amt = int(1.2*1E6)\n",
    "\n",
    "txn = PaymentTxn(sender=msig_address,         # <-- From Multisig address\n",
    "                 sp=sp, \n",
    "                 receiver=Dina['public'], \n",
    "                 amt = amt\n",
    "                )"
   ]
  },
  {
   "cell_type": "markdown",
   "metadata": {},
   "source": [
    "#### Step 3.2: Convert simple transaction to a multisig transaction and sign it\n",
    "* Alice and Bob sign the transaction"
   ]
  },
  {
   "cell_type": "code",
   "execution_count": 8,
   "metadata": {},
   "outputs": [],
   "source": [
    "# Create multisig transaction\n",
    "mtx = MultisigTransaction(txn, msig)\n",
    "\n",
    "# Collect at least 2 signatures\n",
    "mtx.sign(Alice['private'])\n",
    "mtx.sign(Bob['private'])"
   ]
  },
  {
   "cell_type": "markdown",
   "metadata": {},
   "source": [
    "#### Step 3.3: Send the transaction"
   ]
  },
  {
   "cell_type": "code",
   "execution_count": 9,
   "metadata": {},
   "outputs": [],
   "source": [
    "txid = algod_client.send_transaction(mtx)"
   ]
  },
  {
   "cell_type": "markdown",
   "metadata": {},
   "source": [
    "#### Step 3.4: Wait for confirmation"
   ]
  },
  {
   "cell_type": "code",
   "execution_count": 10,
   "metadata": {},
   "outputs": [
    {
     "name": "stdout",
     "output_type": "stream",
     "text": [
      "Current round is  38992260.\n",
      "Waiting for round 38992260 to finish.\n",
      "Waiting for round 38992261 to finish.\n",
      "Transaction 5SCZG6XB5FWTH23KXP2ECF5ZSYAOXS32HXXHPIXB2EEQIX3DIG4A confirmed in round 38992262.\n"
     ]
    }
   ],
   "source": [
    "txinfo = wait_for_confirmation(algod_client, txid)"
   ]
  },
  {
   "cell_type": "markdown",
   "metadata": {},
   "source": [
    "#### Check Dina's holdings"
   ]
  },
  {
   "cell_type": "code",
   "execution_count": 12,
   "metadata": {},
   "outputs": [
    {
     "data": {
      "text/plain": [
       "20.324351"
      ]
     },
     "execution_count": 12,
     "metadata": {},
     "output_type": "execute_result"
    }
   ],
   "source": [
    "algod_client.account_info(Dina[\"public\"])[\"amount\"] / 1e6"
   ]
  },
  {
   "cell_type": "markdown",
   "metadata": {},
   "source": [
    "#### Exercise\n",
    "* Repeat steps 3.1-3.4 with Alice and Charlie signing the transaction\n",
    "* Repeat steps 3.1-3.4 with Alice and Dina signing \n",
    "* Repeat steps 3.1-3.4 with only Alice signing"
   ]
  },
  {
   "cell_type": "markdown",
   "metadata": {},
   "source": [
    "#### Exercise\n",
    "* Create a 1-out-of-4 multisig, for which Alice, Bob, Charlie and/or Dina can sign\n",
    "* Transfer 1 ALGO to `MyAlgo`"
   ]
  }
 ],
 "metadata": {
  "kernelspec": {
   "display_name": "Python 3 (ipykernel)",
   "language": "python",
   "name": "python3"
  },
  "language_info": {
   "codemirror_mode": {
    "name": "ipython",
    "version": 3
   },
   "file_extension": ".py",
   "mimetype": "text/x-python",
   "name": "python",
   "nbconvert_exporter": "python",
   "pygments_lexer": "ipython3",
   "version": "3.11.5"
  }
 },
 "nbformat": 4,
 "nbformat_minor": 4
}
