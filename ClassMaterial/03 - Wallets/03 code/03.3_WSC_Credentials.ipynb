{
 "cells": [
  {
   "cell_type": "markdown",
   "metadata": {},
   "source": [
    "## Credentials\n",
    "#### 03.3 Winter School on Smart Contracts\n",
    "##### Peter Gruber (peter.gruber@usi.ch)\n",
    "2022-01-20\n",
    "\n",
    "* Create credentials for the rest of the course\n",
    "* Manage credentials in a Python dict and save to local file\n",
    "* Do not skip, credentials are used throughout the course\n",
    "* It is suggested to run this code only once!"
   ]
  },
  {
   "cell_type": "markdown",
   "metadata": {},
   "source": [
    "### SECURITY GUIDELINES\n",
    "* Treat course credentials like real credentials\n",
    "* Observe **security guidelines** in chapter 14 of the course\n",
    "    * Keep credentials only in one place\n",
    "    * Never mix credentials with code"
   ]
  },
  {
   "cell_type": "markdown",
   "metadata": {},
   "source": [
    "## Set up Python dict with credentials as JSON"
   ]
  },
  {
   "cell_type": "code",
   "execution_count": 29,
   "metadata": {},
   "outputs": [],
   "source": [
    "import os, json, algosdk\n",
    "from algosdk import account, mnemonic"
   ]
  },
  {
   "cell_type": "markdown",
   "metadata": {},
   "source": [
    "### Four accounts for the course\n",
    "* Alice is using Python and the mobile phone\n",
    "* Bob is mostly using Python\n",
    "* Charlie is making mistakes\n",
    "* Dina is the fourth agent, if we need one"
   ]
  },
  {
   "cell_type": "code",
   "execution_count": 30,
   "metadata": {},
   "outputs": [],
   "source": [
    "# from 03.1_WSC\n",
    "def generate_account_dict():\n",
    "    private_key = account.generate_account()[0]    # need [0], because generate_account() returns a list\n",
    "    acc = {}\n",
    "    acc['public'] = account.address_from_private_key(private_key)\n",
    "    acc['private'] = private_key\n",
    "    acc['mnemonic'] = mnemonic.from_private_key(private_key)\n",
    "    return acc"
   ]
  },
  {
   "cell_type": "code",
   "execution_count": 31,
   "metadata": {},
   "outputs": [],
   "source": [
    "Alice = generate_account_dict()\n",
    "Bob   = generate_account_dict()\n",
    "Charlie = generate_account_dict()\n",
    "Dina   = generate_account_dict()"
   ]
  },
  {
   "cell_type": "markdown",
   "metadata": {},
   "source": [
    "#### (Do not) print account data\n",
    "* Temptation: print account data \"just for checking\"\n",
    "* Problem: private key will be stored in Jupyter notebook\n",
    "* **Rule:** only print public keys. Keep private keys in the `credentials` file\n",
    "    * All private keys that we have been printing previously will not be used"
   ]
  },
  {
   "cell_type": "code",
   "execution_count": 32,
   "metadata": {},
   "outputs": [
    {
     "data": {
      "text/plain": [
       "'JQVHR63AQ7OF5SORFRZXDZUWGXIVA45L43LDAGEOCTRKNWOL6O6JQGHZ7Y'"
      ]
     },
     "execution_count": 32,
     "metadata": {},
     "output_type": "execute_result"
    }
   ],
   "source": [
    "Alice['public']        # printing the public key is OK"
   ]
  },
  {
   "cell_type": "markdown",
   "metadata": {},
   "source": [
    "### Additional credentials\n",
    "* Store all credentials in one place, including API credentials\n",
    "* Add the `MyAlgo` account from the phone (with real ALGO money)\n",
    "* **Rule:** Create placeholders, insert real keys directly into the credentials file"
   ]
  },
  {
   "cell_type": "code",
   "execution_count": 33,
   "metadata": {},
   "outputs": [],
   "source": [
    "cred = {'algod_test' : 'https://testnet-algorand.api.purestake.io/ps2',\n",
    "        'algod_main' : 'https://mainnet-algorand.api.purestake.io/ps2',\n",
    "        'index_test' : 'https://testnet-algorand.api.purestake.io/idx2',\n",
    "        'index_main' : 'https://mainnet-algorand.api.purestake.io/idx2',\n",
    "        'purestake_token' : {'X-Api-key': 'your_prurestake_token'},\n",
    "        'MyAlgo' : {'public' : 'your_public_address', 'private' : 'your_private_key', 'passphrase' : 'your_mnemonic'}\n",
    "        }\n",
    "cred[\"Alice\"] = Alice\n",
    "cred[\"Bob\"] = Bob\n",
    "cred[\"Charlie\"] = Charlie\n",
    "cred[\"Dina\"] = Dina\n",
    "\n",
    "# Do not print the cred variable"
   ]
  },
  {
   "cell_type": "markdown",
   "metadata": {},
   "source": [
    "#### Format JSON and store in file"
   ]
  },
  {
   "cell_type": "code",
   "execution_count": 34,
   "metadata": {},
   "outputs": [],
   "source": [
    "cred_json = json.dumps(cred,indent=4)                                    # nice formatting\n",
    "\n",
    "filename = '..'+os.path.sep+'..'+os.path.sep+'credentials_temp'          # op.path is needed to run on Win,Mac and Linux\n",
    "with open(filename, 'w') as outfile:                                     # option 'w' ensures overwriting of existing file\n",
    "    outfile.write(cred_json)"
   ]
  },
  {
   "cell_type": "markdown",
   "metadata": {},
   "source": [
    "### Manual steps\n",
    "* Find the `credentials_tmp` file (two folders up)\n",
    "* Open the file in Jupyter (this is OK, file contents will not be stored in notebook)\n",
    "* Rename it to `credentials`\n",
    "* Manually add `purestake_token` credentials to the JSON\n",
    "* Manually add the credentials to the `MyAlgo` account. This is going to be your main account"
   ]
  },
  {
   "cell_type": "code",
   "execution_count": null,
   "metadata": {},
   "outputs": [],
   "source": [
    "# For the last step, you may need this:\n",
    "passphrase = \"\"\n",
    "print(algosdk.mnemonic.to_private_key(passphrase))\n",
    "print(algosdk.mnemonic.to_private_key(passphrase))"
   ]
  },
  {
   "cell_type": "markdown",
   "metadata": {},
   "source": [
    "### PRO TIPS\n",
    "* Do not share your credentials file\n",
    "* Careful with backups!\n",
    "* Never store credentials in the dropbox / onedrive / google drive\n",
    "* Immediately add it to `gitignore`"
   ]
  },
  {
   "cell_type": "markdown",
   "metadata": {},
   "source": [
    "## Appendix: Code for reading the credentials file\n",
    "A version of this code as a function is part of the `algo_util.py` in `sharedCode`"
   ]
  },
  {
   "cell_type": "code",
   "execution_count": null,
   "metadata": {},
   "outputs": [],
   "source": [
    "# Reading credentials -- if this does not work, you forgot to rename credentials_tmp\n",
    "import os, json\n",
    "filename = '..'+os.path.sep+'..'+os.path.sep+'credentials'\n",
    "with open(filename) as json_file:\n",
    "    cred = json.load(json_file)"
   ]
  },
  {
   "cell_type": "code",
   "execution_count": 37,
   "metadata": {},
   "outputs": [
    {
     "name": "stdout",
     "output_type": "stream",
     "text": [
      "JQVHR63AQ7OF5SORFRZXDZUWGXIVA45L43LDAGEOCTRKNWOL6O6JQGHZ7Y\n",
      "X4M4KSX4YIQTZDAW5RJKIZAPNV7WEPL6UJO2A5K2AC3MF64LLC6NT6EY6A\n"
     ]
    }
   ],
   "source": [
    "# Remember to only print public keys\n",
    "print(cred['Alice']['public'])\n",
    "print(cred['Bob']['public'])"
   ]
  },
  {
   "cell_type": "markdown",
   "metadata": {},
   "source": [
    "## Appendix: A quick tutorial on the path"
   ]
  },
  {
   "cell_type": "code",
   "execution_count": null,
   "metadata": {},
   "outputs": [],
   "source": [
    "# This is the folder in which we are currently working\n",
    "import os, json\n",
    "print(os.getcwd())"
   ]
  },
  {
   "cell_type": "markdown",
   "metadata": {},
   "source": [
    "#### Different pathes on different operating systems\n",
    "* On Macos and Linux, the path will look like this<br>\n",
    "/Users/pgruber/Documents/WSC/ClassMaterial/03 - Wallets/03 code\n",
    "* On Windows, the path will look like this<br>\n",
    "C:\\Users\\vitto\\Documents\\WSC\\ClassMaterial\\03 - Wallets/03 code"
   ]
  },
  {
   "cell_type": "markdown",
   "metadata": {},
   "source": [
    "#### Get the path separator"
   ]
  },
  {
   "cell_type": "code",
   "execution_count": 39,
   "metadata": {},
   "outputs": [
    {
     "data": {
      "text/plain": [
       "'/'"
      ]
     },
     "execution_count": 39,
     "metadata": {},
     "output_type": "execute_result"
    }
   ],
   "source": [
    "os.path.sep"
   ]
  },
  {
   "cell_type": "markdown",
   "metadata": {},
   "source": [
    "#### How to say \"the folder outside my folder\"\n",
    "* Cool trick: `..` in the path means \"one level up\"\n",
    "* To get into the file `credentials` that is inside the ClassMaterial folder, we have to go twice \"up\""
   ]
  },
  {
   "cell_type": "code",
   "execution_count": 40,
   "metadata": {},
   "outputs": [
    {
     "data": {
      "text/plain": [
       "'../../credentials'"
      ]
     },
     "execution_count": 40,
     "metadata": {},
     "output_type": "execute_result"
    }
   ],
   "source": [
    "filename = '..'+os.path.sep+'..'+os.path.sep+'credentials'\n",
    "filename"
   ]
  }
 ],
 "metadata": {
  "kernelspec": {
   "display_name": "Python 3",
   "language": "python",
   "name": "python3"
  },
  "language_info": {
   "codemirror_mode": {
    "name": "ipython",
    "version": 3
   },
   "file_extension": ".py",
   "mimetype": "text/x-python",
   "name": "python",
   "nbconvert_exporter": "python",
   "pygments_lexer": "ipython3",
   "version": "3.7.6"
  }
 },
 "nbformat": 4,
 "nbformat_minor": 5
}
