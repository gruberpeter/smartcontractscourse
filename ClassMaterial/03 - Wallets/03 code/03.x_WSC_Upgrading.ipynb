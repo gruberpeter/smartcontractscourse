{
 "cells": [
  {
   "cell_type": "markdown",
   "id": "3afb591b",
   "metadata": {},
   "source": [
    "# Upgrading and Troublshooting\n",
    "#### 03.x Writing Smart Contracts\n",
    "##### Peter Gruber (peter.gruber@usi.ch)\n",
    "2024-01-12 (started 2022-03-11)\n",
    "\n",
    "* Upgrade PyTeal and the Algorand SDK\n",
    "    * For the Algorand sdk https://github.com/algorand/py-algorand-sdk\n",
    "    * For PyTEAL https://github.com/algorand/pyteal"
   ]
  },
  {
   "cell_type": "markdown",
   "id": "8f044c50",
   "metadata": {},
   "source": [
    "## For later use\n",
    "* This notebook is part of chapter 3 (\"Accounts\") for reference only\n",
    "* Use it only when instructed **or** if you are sure you have an old version of the Python Algorand SDK installed and you want to upgrade it"
   ]
  },
  {
   "cell_type": "markdown",
   "id": "73b7ff00",
   "metadata": {},
   "source": [
    "## Identify your currently installed versions\n",
    "* Last two lines show *currently installed* and *latest availble* version.\n",
    "* **Hint:** It may be useful to run this again after updating PIP\n",
    "\n"
   ]
  },
  {
   "cell_type": "code",
   "execution_count": 5,
   "id": "b3b009c4-6501-4965-9672-965ed6688673",
   "metadata": {},
   "outputs": [
    {
     "name": "stdout",
     "output_type": "stream",
     "text": [
      "\u001b[33mWARNING: pip index is currently an experimental command. It may be removed/changed in a future release without prior warning.\u001b[0m\u001b[33m\n",
      "\u001b[0mpip (24.0)\n",
      "Available versions: 24.0, 23.3.2, 23.3.1, 23.3, 23.2.1, 23.2, 23.1.2, 23.1.1, 23.1, 23.0.1, 23.0, 22.3.1, 22.3, 22.2.2, 22.2.1, 22.2, 22.1.2, 22.1.1, 22.1, 22.0.4, 22.0.3, 22.0.2, 22.0.1, 22.0, 21.3.1, 21.3, 21.2.4, 21.2.3, 21.2.2, 21.2.1, 21.1.3, 21.1.2, 21.1.1, 21.1, 21.0.1, 21.0, 20.3.4, 20.3.3, 20.3.1, 20.3, 20.2.4, 20.2.3, 20.2.2, 20.2.1, 20.2, 20.1.1, 20.1, 20.0.2, 20.0.1, 19.3.1, 19.3, 19.2.3, 19.2.2, 19.2.1, 19.2, 19.1.1, 19.1, 19.0.3, 19.0.2, 19.0.1, 19.0, 18.1, 18.0, 10.0.1, 10.0.0, 9.0.3, 9.0.2, 9.0.1, 9.0.0, 8.1.2, 8.1.1, 8.1.0, 8.0.3, 8.0.2, 8.0.1, 8.0.0, 7.1.2, 7.1.1, 7.1.0, 7.0.3, 7.0.2, 7.0.1, 7.0.0, 6.1.1, 6.1.0, 6.0.8, 6.0.7, 6.0.6, 6.0.5, 6.0.4, 6.0.3, 6.0.2, 6.0.1, 6.0, 1.5.6, 1.5.5, 1.5.4, 1.5.3, 1.5.2, 1.5.1, 1.5, 1.4.1, 1.4, 1.3.1, 1.3, 1.2.1, 1.2, 1.1, 1.0.2, 1.0.1, 1.0, 0.8.3, 0.8.2, 0.8.1, 0.8, 0.7.2, 0.7.1, 0.7, 0.6.3, 0.6.2, 0.6.1, 0.6, 0.5.1, 0.5, 0.4, 0.3.1, 0.3, 0.2.1, 0.2\n",
      "  INSTALLED: 24.0\n",
      "  LATEST:    24.0\n"
     ]
    }
   ],
   "source": [
    "!pip index versions pip"
   ]
  },
  {
   "cell_type": "code",
   "execution_count": 6,
   "id": "5759cba3",
   "metadata": {},
   "outputs": [
    {
     "name": "stdout",
     "output_type": "stream",
     "text": [
      "\u001b[33mWARNING: pip index is currently an experimental command. It may be removed/changed in a future release without prior warning.\u001b[0m\u001b[33m\n",
      "\u001b[0mpy-algorand-sdk (2.5.0)\n",
      "Available versions: 2.5.0, 2.4.0, 2.3.0, 2.2.0, 2.1.2, 2.1.1, 2.1.0, 2.0.0, 1.20.2, 1.20.1, 1.20.0, 1.19.0, 1.18.0, 1.17.0, 1.16.1, 1.16.0, 1.15.0, 1.14.0, 1.13.1, 1.13.0, 1.12.0, 1.11.0, 1.10.0, 1.9.0, 1.8.0, 1.7.0, 1.6.0, 1.5.0, 1.4.1, 1.4.0, 1.3.0, 1.2.1, 1.2.0, 1.1.1, 1.1.0, 1.0.5, 1.0.4, 1.0.3, 1.0.2, 1.0.1, 1.0.0, 0.2.1, 0.2.0, 0.1.2, 0.1.1, 0.1.0, 0.0.0\n",
      "  INSTALLED: 2.5.0\n",
      "  LATEST:    2.5.0\n"
     ]
    }
   ],
   "source": [
    "!pip index versions py-algorand-sdk"
   ]
  },
  {
   "cell_type": "code",
   "execution_count": 7,
   "id": "04b1c71a",
   "metadata": {},
   "outputs": [
    {
     "name": "stdout",
     "output_type": "stream",
     "text": [
      "\u001b[33mWARNING: pip index is currently an experimental command. It may be removed/changed in a future release without prior warning.\u001b[0m\u001b[33m\n",
      "\u001b[0mpyteal (0.26.1)\n",
      "Available versions: 0.26.1, 0.26.0, 0.25.0, 0.24.1, 0.24.0, 0.23.0, 0.22.0, 0.21.0, 0.20.1, 0.19.0, 0.18.1, 0.18.0, 0.17.0, 0.16.0, 0.15.0, 0.14.0, 0.13.0, 0.12.1, 0.11.1, 0.11.0, 0.10.1, 0.10.0, 0.9.1, 0.9.0, 0.8.0, 0.7.0, 0.6.2, 0.6.1, 0.6.0, 0.5.4, 0.5.3, 0.5.1, 0.5\n"
     ]
    }
   ],
   "source": [
    "!pip index versions pyteal"
   ]
  },
  {
   "cell_type": "markdown",
   "id": "1a006948",
   "metadata": {
    "tags": []
   },
   "source": [
    "## Upgrade pip first"
   ]
  },
  {
   "cell_type": "code",
   "execution_count": null,
   "id": "0ec7e0d2-3376-40ba-b61d-832d58ab906b",
   "metadata": {},
   "outputs": [],
   "source": [
    "!pip install --upgrade pip"
   ]
  },
  {
   "cell_type": "markdown",
   "id": "c55d5ca2-3aa7-4a0a-aba1-de3aa98306e9",
   "metadata": {
    "tags": []
   },
   "source": [
    "## Force upgrade\n",
    "* Forces the Python package manager (pip) to upgrade the Algorand packes to the latest versions"
   ]
  },
  {
   "cell_type": "code",
   "execution_count": null,
   "id": "6a6c5cf6",
   "metadata": {},
   "outputs": [],
   "source": [
    "!pip install --upgrade py-algorand-sdk"
   ]
  },
  {
   "cell_type": "code",
   "execution_count": null,
   "id": "9a76da99",
   "metadata": {},
   "outputs": [],
   "source": [
    "!pip install --upgrade pyteal"
   ]
  },
  {
   "cell_type": "markdown",
   "id": "768f1d05",
   "metadata": {},
   "source": [
    "## Uninstall\n",
    "* In really extreme cases, it may be useful to uninstall and re-install"
   ]
  },
  {
   "cell_type": "code",
   "execution_count": null,
   "id": "6658a005",
   "metadata": {},
   "outputs": [],
   "source": [
    "!pip uninstall py-algorand-sdk"
   ]
  },
  {
   "cell_type": "code",
   "execution_count": null,
   "id": "96027efc",
   "metadata": {},
   "outputs": [],
   "source": [
    "!pip uninstall pyteal"
   ]
  },
  {
   "cell_type": "markdown",
   "id": "91c30228-ce3a-40d7-89d9-a04732d1fd55",
   "metadata": {},
   "source": [
    "## ❗️If nothing works – start over\n",
    "\n",
    "* Close the Notebooks and shut down Anaconda\n",
    "* Create a new Environment in Anaconda\n",
    "* Open Jupyer Lab using the newly-created environment\n",
    "    * Reinstall all packages"
   ]
  }
 ],
 "metadata": {
  "kernelspec": {
   "display_name": "Python 3 (ipykernel)",
   "language": "python",
   "name": "python3"
  },
  "language_info": {
   "codemirror_mode": {
    "name": "ipython",
    "version": 3
   },
   "file_extension": ".py",
   "mimetype": "text/x-python",
   "name": "python",
   "nbconvert_exporter": "python",
   "pygments_lexer": "ipython3",
   "version": "3.11.5"
  }
 },
 "nbformat": 4,
 "nbformat_minor": 5
}
