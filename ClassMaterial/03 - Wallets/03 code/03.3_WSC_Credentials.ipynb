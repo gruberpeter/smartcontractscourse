{
 "cells": [
  {
   "cell_type": "markdown",
   "id": "13a8444a",
   "metadata": {},
   "source": [
    "## Credentials\n",
    "#### 03.3 Winter School on Smart Contracts\n",
    "##### Peter Gruber (peter.gruber@usi.ch)\n",
    "2023-02-08 (started 2022-01-20)\n",
    "\n",
    "* Create credentials for the rest of the course\n",
    "* Manage credentials in a Python dict and save to local file\n",
    "* **Do not skip**, credentials are used throughout the course\n",
    "* Run this code  **only once!**"
   ]
  },
  {
   "cell_type": "code",
   "execution_count": 1,
   "id": "c508fec9",
   "metadata": {},
   "outputs": [],
   "source": [
    "import os, json, algosdk\n",
    "from algosdk import account, mnemonic"
   ]
  },
  {
   "cell_type": "markdown",
   "id": "3c886398",
   "metadata": {
    "tags": []
   },
   "source": [
    "<div class=\"alert alert-warning\">\n",
    "\n",
    "# ❗️ Security guidelines\n",
    "    \n",
    "* Course credentials = **real** credentials\n",
    "* Credentials for the test net work equally on the main net \n",
    "* **Security guidelines** in chapter 14:\n",
    "    * Keep credentials only in one place\n",
    "    * Never mix credentials with code $\\leftarrow$ **do not print** private key in Jupyter notebooks\n",
    "    * Never mix school/dev credentials with real money\n",
    "</div>"
   ]
  },
  {
   "cell_type": "markdown",
   "id": "26a9dcc4",
   "metadata": {},
   "source": [
    "## Create four accounts for the course\n",
    "* **Alice** is using Python and the mobile phone\n",
    "* **Bob** is mostly using Python\n",
    "* **Charlie** is making mistakes\n",
    "* **Dina** is the fourth agent, if we need one\n",
    "\n",
    "Addtionally, we will add the account that has been created on your phone in Chapter 2 as `MyAlgo`"
   ]
  },
  {
   "cell_type": "code",
   "execution_count": 2,
   "id": "39719c32",
   "metadata": {},
   "outputs": [],
   "source": [
    "# from 03.1_WSC\n",
    "def generate_account_dict():\n",
    "    private_key = account.generate_account()[0]    # need [0], because generate_account() returns a list\n",
    "    acc = {}\n",
    "    acc['public'] = account.address_from_private_key(private_key)\n",
    "    acc['private'] = private_key\n",
    "    acc['mnemonic'] = mnemonic.from_private_key(private_key)\n",
    "    return acc"
   ]
  },
  {
   "cell_type": "code",
   "execution_count": 3,
   "id": "d5734eec",
   "metadata": {},
   "outputs": [],
   "source": [
    "Alice = generate_account_dict()\n",
    "Bob   = generate_account_dict()\n",
    "Charlie = generate_account_dict()\n",
    "Dina   = generate_account_dict()"
   ]
  },
  {
   "cell_type": "markdown",
   "id": "cdb31918",
   "metadata": {},
   "source": [
    "### ❗️ Do not print account data\n",
    "* Temptation: print account data \"just for checking\"\n",
    "* Problem: private key will be shown and stored in Jupyter notebook\n",
    "* **Rule:** only print public keys. \n",
    "    * If you need to check private keys, open the `credentials` file (see below)\n",
    "    * All private keys that we have been printing previously will not be used"
   ]
  },
  {
   "cell_type": "code",
   "execution_count": 13,
   "id": "0107611b",
   "metadata": {},
   "outputs": [
    {
     "data": {
      "text/plain": [
       "'ALICEXOA4Q2OD5CKBYND4UX75K3TAODEC3XCVNQ3URMKUMZKUOTOSAQLIU'"
      ]
     },
     "execution_count": 13,
     "metadata": {},
     "output_type": "execute_result"
    }
   ],
   "source": [
    "Alice['public']        # printing the public key is OK"
   ]
  },
  {
   "cell_type": "markdown",
   "id": "ccac9bff-76bd-4af5-9bc6-988bd01c1603",
   "metadata": {},
   "source": [
    "## Create Python dict with credentials and save as JSON\n",
    "* **Idea:** Store all credentials in one place, the `credentials` file\n",
    "* **Account credentials**\n",
    "    * Alice, Bob, Charlie and Dina are added automatically\n",
    "    * Create placeholder for `MyAlgo` from your phone (with real ALGO money), add the passphrase manually in next step\n",
    "* **API credentials**\n",
    "    * AlgoNode\n",
    "        * No API key\n",
    "        * Save the URLs, as they may change\n",
    "        * Details: https://algonode.io/api/#highly-available-algorand-endpoints\n",
    "    * Pera explorer \n",
    "        * Save the URLs, as they may change\n",
    "    * Pinata\n",
    "        * Create a placeholder\n",
    "        * Add API keys later in the NFT chapter"
   ]
  },
  {
   "cell_type": "markdown",
   "id": "47d60047",
   "metadata": {},
   "source": [
    "### Organize all credentials\n",
    "* **Rules:** make sure that credentials do not leak with the code\n",
    "    * Never enter credentials directly into the code\n",
    "    * Never print credentials in a Jupyter notebook\n",
    "    * It is OK to create credentials with Python and directly save them. (But do not print!)\n",
    "    * To manually add credentials, create a placeholder with Python and edit directly the `credentials` file.\n"
   ]
  },
  {
   "cell_type": "code",
   "execution_count": 5,
   "id": "73b2eb4e-209f-403c-9870-2d9947afab41",
   "metadata": {},
   "outputs": [],
   "source": [
    "# Do NOT insert your credentials here\n",
    "# Insert your credentials directly into the credentials file\n",
    "cred = {'algod_test' : 'https://testnet-api.algonode.cloud',\n",
    "        'algod_main' : 'https://mainnet-api.algonode.cloud',\n",
    "        'index_test' : 'https://testnet-idx.algonode.cloud',\n",
    "        'index_main' : 'https://mainnet-idx.algonode.cloud',\n",
    "        'explore_main' : 'https://testnet.explorer.perawallet.app/',\n",
    "        'explore_test' : 'https://explorer.perawallet.app/',\n",
    "        'api_token'  : '',\n",
    "        'pinata_jwt' : 'your pinata jason web token here',\n",
    "        'pinata_secret' : 'your pinata API secret here',\n",
    "        'MyAlgo' : {'public' : '', 'private' : '', 'mnemonic' : 'your mnemonic here'}\n",
    "        }\n",
    "cred['Alice'] = Alice\n",
    "cred['Bob'] = Bob\n",
    "cred['Charlie'] = Charlie\n",
    "cred['Dina'] = Dina"
   ]
  },
  {
   "cell_type": "markdown",
   "id": "687a9ef8-ee65-410c-a1ea-83432ae41db8",
   "metadata": {
    "tags": []
   },
   "source": [
    "<div class=\"alert alert-warning\">\n",
    "\n",
    "❗️ Do not print the `cred` variable\n",
    "</div>"
   ]
  },
  {
   "cell_type": "markdown",
   "id": "2aed0d79",
   "metadata": {},
   "source": [
    "#### Format JSON and store in file"
   ]
  },
  {
   "cell_type": "code",
   "execution_count": 6,
   "id": "878b559b",
   "metadata": {},
   "outputs": [],
   "source": [
    "cred_json = json.dumps(cred,indent=4)                                    # nice formatting\n",
    "\n",
    "filename = '..'+os.path.sep+'..'+os.path.sep+'credentials_temp'          # op.path is needed to run on Win,Mac and Linux\n",
    "with open(filename, 'w') as outfile:                                     # option 'w' ensures overwriting of existing file\n",
    "    outfile.write(cred_json)"
   ]
  },
  {
   "cell_type": "markdown",
   "id": "e4a0f6f1",
   "metadata": {},
   "source": [
    "## ‼️ Manual steps – part 1\n",
    "* Find the `credentials_temp` file (it is located two folders up, consider a split screen)\n",
    "* Open the file in Jupyter (this is OK, file contents will not be stored in the notebook)\n",
    "* Manually add the mnemonic of your `MyAlgo` account."
   ]
  },
  {
   "cell_type": "markdown",
   "id": "bbe02ec3-a631-4d09-8412-989d333dfa45",
   "metadata": {},
   "source": [
    "### ‼️ Now run the code below\n",
    "* If you get an error message, you probably made a typo in the mnemonic of MyAlgo"
   ]
  },
  {
   "cell_type": "code",
   "execution_count": 7,
   "id": "5fbbc314-2a0a-4a03-b429-68723fb88b64",
   "metadata": {},
   "outputs": [],
   "source": [
    "# Adding private and public key to the MyAlgo account\n",
    "\n",
    "# read credentials file\n",
    "with open(filename) as json_file:\n",
    "    cred = json.load(json_file)\n",
    "\n",
    "# calculate private and public key\n",
    "cred['MyAlgo']['private'] = algosdk.mnemonic.to_private_key(cred['MyAlgo']['mnemonic'])\n",
    "cred['MyAlgo']['public'] = account.address_from_private_key(cred['MyAlgo']['private'])\n",
    "\n",
    "# write again\n",
    "cred_json = json.dumps(cred,indent=4)                                    # nice formatting\n",
    "with open(filename, 'w') as outfile:                                     # option 'w' ensures overwriting of existing file\n",
    "    outfile.write(cred_json)\n",
    "    "
   ]
  },
  {
   "cell_type": "markdown",
   "id": "ea2ad77b-a03e-43a9-baef-0e67dda20b93",
   "metadata": {},
   "source": [
    "### ‼️ Manual steps – part 2\n",
    "* Rename `credentials_temp` to `credentials`\n",
    "* Verify the public and private keys for `MyAlgo`"
   ]
  },
  {
   "cell_type": "markdown",
   "id": "9ebf7954",
   "metadata": {},
   "source": [
    "### Pro Tips\n",
    "* Do not share your credentials file\n",
    "* Careful with backups!\n",
    "* Never store credentials in the dropbox / onedrive / google drive\n",
    "* Immediately add the filename `credentials` to `gitignore` if you are using Github"
   ]
  },
  {
   "cell_type": "markdown",
   "id": "046032f3",
   "metadata": {},
   "source": [
    "## Appendix: Code for reading the credentials file\n",
    "**Note:** A version of this code as a function is part of the `algo_util.py` in `sharedCode`"
   ]
  },
  {
   "cell_type": "code",
   "execution_count": 8,
   "id": "43d53602",
   "metadata": {},
   "outputs": [],
   "source": [
    "# Reading credentials -- if this does not work, you forgot to rename credentials_tmp\n",
    "import os, json\n",
    "filename = '..'+os.path.sep+'..'+os.path.sep+'credentials'\n",
    "with open(filename) as json_file:\n",
    "    cred = json.load(json_file)"
   ]
  },
  {
   "cell_type": "code",
   "execution_count": 11,
   "id": "8be30b43",
   "metadata": {},
   "outputs": [
    {
     "name": "stdout",
     "output_type": "stream",
     "text": [
      "ALICEXOA4Q2OD5CKBYND4UX75K3TAODEC3XCVNQ3URMKUMZKUOTOSAQLIU\n",
      "https://testnet.explorer.perawallet.app/\n"
     ]
    }
   ],
   "source": [
    "# Remember to only print public keys\n",
    "print(cred['Alice']['public'])\n",
    "print(cred['explore_main'])"
   ]
  },
  {
   "cell_type": "markdown",
   "id": "45fe859f",
   "metadata": {},
   "source": [
    "## ❗️Appendix: A quick tutorial on the path"
   ]
  },
  {
   "cell_type": "code",
   "execution_count": null,
   "id": "63541397",
   "metadata": {},
   "outputs": [],
   "source": [
    "# This is the folder in which we are currently working\n",
    "import os, json\n",
    "print(os.getcwd())"
   ]
  },
  {
   "cell_type": "markdown",
   "id": "59cf2fe9",
   "metadata": {},
   "source": [
    "#### Different pathes on different operating systems\n",
    "* On Macos and Linux, the path will look like this<br>\n",
    "/Users/pgruber/Documents/WSC/ClassMaterial/03 - Wallets/03 code\n",
    "* On Windows, the path will look like this<br>\n",
    "C:\\Users\\vitto\\Documents\\WSC\\ClassMaterial\\03 - Wallets/03 code"
   ]
  },
  {
   "cell_type": "markdown",
   "id": "ced61f8e",
   "metadata": {},
   "source": [
    "#### Get the path separator\n",
    "* Depending on your operating system, this will return either `/` or `\\`"
   ]
  },
  {
   "cell_type": "code",
   "execution_count": 15,
   "id": "f4f30c14",
   "metadata": {},
   "outputs": [
    {
     "data": {
      "text/plain": [
       "'/'"
      ]
     },
     "execution_count": 15,
     "metadata": {},
     "output_type": "execute_result"
    }
   ],
   "source": [
    "os.path.sep"
   ]
  },
  {
   "cell_type": "markdown",
   "id": "4dca7ef2",
   "metadata": {},
   "source": [
    "#### How to say \"the folder outside my folder\"\n",
    "* Cool trick: `..` in the path means \"one level up\"\n",
    "* To get into the file `credentials` that is inside the ClassMaterial folder, we have to go twice \"up\""
   ]
  },
  {
   "cell_type": "code",
   "execution_count": 16,
   "id": "f71408ce",
   "metadata": {},
   "outputs": [
    {
     "data": {
      "text/plain": [
       "'../../credentials'"
      ]
     },
     "execution_count": 16,
     "metadata": {},
     "output_type": "execute_result"
    }
   ],
   "source": [
    "filename = '..'+os.path.sep+'..'+os.path.sep+'credentials'\n",
    "filename"
   ]
  }
 ],
 "metadata": {
  "kernelspec": {
   "display_name": "Python 3 (ipykernel)",
   "language": "python",
   "name": "python3"
  },
  "language_info": {
   "codemirror_mode": {
    "name": "ipython",
    "version": 3
   },
   "file_extension": ".py",
   "mimetype": "text/x-python",
   "name": "python",
   "nbconvert_exporter": "python",
   "pygments_lexer": "ipython3",
   "version": "3.10.13"
  }
 },
 "nbformat": 4,
 "nbformat_minor": 5
}
