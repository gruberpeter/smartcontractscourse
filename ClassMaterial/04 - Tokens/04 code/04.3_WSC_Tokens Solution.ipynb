{
 "cells": [
  {
   "cell_type": "markdown",
   "metadata": {},
   "source": [
    "## Create a Token on the Algorand Blockchain\n",
    "#### 04.3 Winter School on Smart Contracts\n",
    "##### Peter Gruber (peter.gruber@usi.ch)\n",
    "2021-11-28\n",
    "\n",
    "* Create an ASA token\n",
    "* Transfer an ASA token\n",
    "* Information about token holdings"
   ]
  },
  {
   "cell_type": "markdown",
   "metadata": {
    "tags": []
   },
   "source": [
    "### Setup\n",
    "See notebook 04.1, the lines below will always automatically load functions in `algo_util.py`, the five accounts and the credentials"
   ]
  },
  {
   "cell_type": "code",
   "execution_count": 1,
   "metadata": {},
   "outputs": [],
   "source": [
    "# Loading shared code and credentials\n",
    "import sys, os\n",
    "codepath = '..'+os.path.sep+'..'+os.path.sep+'sharedCode'\n",
    "sys.path.append(codepath)\n",
    "from algo_util import *\n",
    "cred = load_credentials()\n",
    "\n",
    "# Shortcuts to directly access the 5 main accounts\n",
    "MyAlgo  = cred['MyAlgo']\n",
    "Alice   = cred['Alice']\n",
    "Bob     = cred['Bob']\n",
    "Charlie = cred['Charlie']\n",
    "Dina    = cred['Dina']"
   ]
  },
  {
   "cell_type": "code",
   "execution_count": 2,
   "metadata": {},
   "outputs": [],
   "source": [
    "from algosdk import account, mnemonic\n",
    "from algosdk.v2client import algod\n",
    "from algosdk.transaction import PaymentTxn\n",
    "from algosdk.transaction import AssetConfigTxn, AssetTransferTxn, AssetFreezeTxn\n",
    "import algosdk.error\n",
    "import json"
   ]
  },
  {
   "cell_type": "code",
   "execution_count": 3,
   "metadata": {},
   "outputs": [
    {
     "data": {
      "text/plain": [
       "39025046"
      ]
     },
     "execution_count": 3,
     "metadata": {},
     "output_type": "execute_result"
    }
   ],
   "source": [
    "# Initialize the algod client (Testnet or Mainnet)\n",
    "algod_client = algod.AlgodClient(algod_token='', algod_address=cred['algod_test'], headers=cred['api_token'])\n",
    "algod_client.status()['last-round']"
   ]
  },
  {
   "cell_type": "markdown",
   "metadata": {},
   "source": [
    "## Create an ASA = Algorand Standard Asset\n",
    "\n",
    "This is our first token. The account MyAlgo will create an asset called `WSC Coin`. "
   ]
  },
  {
   "cell_type": "markdown",
   "metadata": {},
   "source": [
    "### Step 1: Prepare\n",
    "* Remember that tokens are divisible\n",
    "* We choose 2 decimals\n",
    "    * Our token can be divided into units as small as $\\frac{1}{10^2} = \\frac{1}{100} = 0.01$\n",
    "* To create 1000 tokens, we must create $1000 \\cdot 10^2$ *small units*"
   ]
  },
  {
   "cell_type": "code",
   "execution_count": 4,
   "metadata": {},
   "outputs": [
    {
     "name": "stdout",
     "output_type": "stream",
     "text": [
      "100000\n"
     ]
    }
   ],
   "source": [
    "sp = algod_client.suggested_params()\n",
    "token_supply = 1000                              # Token supply (big units)\n",
    "token_decimals =  2                              # Digits after the comma\n",
    "token_total = token_supply * 10**token_decimals  # Specify number of SMALLER unit (\"cents\")\n",
    "print(token_total)\n",
    "\n",
    "token_name  = \"Peters WSC coin\"                  # <----- YOUR NAME HERE\n",
    "token_url   = \"www.usi.ch/wsc\"                   # <----- CHANGE if you want to\n",
    "token_unit  = \"WSC\"                              # <----- Add one initial, Abbreviation is shown in Wallet app  "
   ]
  },
  {
   "cell_type": "markdown",
   "metadata": {},
   "source": [
    "### Step 2: Asset creation transaction\n",
    "New type of transaction, the `AssetConfigTxn`"
   ]
  },
  {
   "cell_type": "markdown",
   "metadata": {},
   "source": [
    "During creation, we need to assign the following roles, which we will use later ...\n",
    "\n",
    "* **Manager:** can change the the follwoing roles and can destroy the asset\n",
    "* **Reserve:** where not yet distributed assets reside (informational)\n",
    "* **Freeze:** can freeze assets (e.g. to wait for KYC)\n",
    "* **Clawback:** can undo transactions\n",
    "\n",
    "To *credibly* define that these roles are not assumed, set them to zero, using `algosdk.constants.ZERO_ADDRESS`\n",
    "\n",
    "See https://developer.algorand.org/docs/features/asa/ "
   ]
  },
  {
   "cell_type": "code",
   "execution_count": 5,
   "metadata": {},
   "outputs": [
    {
     "name": "stdout",
     "output_type": "stream",
     "text": [
      "{'sender': 'WSC24MVUSQ32IZYD7FNN54Z44IXWL4X7BOJD6AGFOCHOG4PDFESLZUGLTI', 'fee': 1000, 'first_valid_round': 39025047, 'last_valid_round': 39026047, 'note': None, 'genesis_id': 'testnet-v1.0', 'genesis_hash': 'SGO1GKSzyE7IEPItTxCByw9x8FmnrCDexi9/cOUJOiI=', 'group': None, 'lease': None, 'type': 'acfg', 'rekey_to': None, 'index': 0, 'total': 100000, 'default_frozen': False, 'unit_name': 'WSC', 'asset_name': 'Peters WSC coin', 'manager': 'ALICEXOA4Q2OD5CKBYND4UX75K3TAODEC3XCVNQ3URMKUMZKUOTOSAQLIU', 'reserve': 'ALICEXOA4Q2OD5CKBYND4UX75K3TAODEC3XCVNQ3URMKUMZKUOTOSAQLIU', 'freeze': 'BOB23JBQLW3AJREEG3KD7ULMAGYGVZ2LVF2OMZ2XBJIR64NO5P24XN7WEU', 'clawback': 'BOB23JBQLW3AJREEG3KD7ULMAGYGVZ2LVF2OMZ2XBJIR64NO5P24XN7WEU', 'url': 'www.usi.ch/wsc', 'metadata_hash': None, 'decimals': 2}\n"
     ]
    }
   ],
   "source": [
    "txn = AssetConfigTxn(\n",
    "    sender=MyAlgo['public'],                   # Creator of the ASA\n",
    "    sp=sp,                      \n",
    "    total=token_total,                         # Total supply in SMALL unit\n",
    "    decimals=token_decimals,                   # Decimals\n",
    "    default_frozen=False,                      # Are tokens frozen by default?\n",
    "    unit_name=token_unit,                      # Abbreviation     \n",
    "    asset_name=token_name,                     # Name\n",
    "    url=token_url,                             # URL\n",
    "    manager=Alice['public'],                   # Special roles (later more)\n",
    "    reserve=Alice['public'],                   # Special roles\n",
    "    freeze=Bob['public'],                      # Special roles\n",
    "    clawback=Bob['public']                     # Special roles\n",
    ")\n",
    "print(txn)"
   ]
  },
  {
   "cell_type": "markdown",
   "metadata": {},
   "source": [
    "### Step 3: Sign and send"
   ]
  },
  {
   "cell_type": "code",
   "execution_count": 6,
   "metadata": {},
   "outputs": [
    {
     "name": "stdout",
     "output_type": "stream",
     "text": [
      "2BYDGHRCKZTGBT63U2WUI2UM6NVFRZUPULEFXO5IJKGLJWZ4HT2A\n"
     ]
    }
   ],
   "source": [
    "stxn = txn.sign(MyAlgo['private'])             # Sign\n",
    "txid = algod_client.send_transaction(stxn)     # Send\n",
    "print(txid)"
   ]
  },
  {
   "cell_type": "markdown",
   "metadata": {},
   "source": [
    "### Step 4: Wait for confirmation"
   ]
  },
  {
   "cell_type": "code",
   "execution_count": 7,
   "metadata": {},
   "outputs": [
    {
     "name": "stdout",
     "output_type": "stream",
     "text": [
      "Current round is  39025049.\n",
      "Waiting for round 39025049 to finish.\n",
      "Transaction 2BYDGHRCKZTGBT63U2WUI2UM6NVFRZUPULEFXO5IJKGLJWZ4HT2A confirmed in round 39025050.\n"
     ]
    }
   ],
   "source": [
    "# Wait for the transaction to be confirmed\n",
    "txinfo = wait_for_confirmation(algod_client,txid)"
   ]
  },
  {
   "cell_type": "markdown",
   "metadata": {},
   "source": [
    "### Step 5a: Asset index and information\n",
    "The asset's index is automatically created when the transaction is processed"
   ]
  },
  {
   "cell_type": "code",
   "execution_count": 8,
   "metadata": {},
   "outputs": [
    {
     "name": "stdout",
     "output_type": "stream",
     "text": [
      "{'asset-index': 642000039, 'confirmed-round': 39025050, 'pool-error': '', 'txn': {'sig': 'NC+pGS90BniJ5tgdqpNiSGk/2NGtnRzp+ExL8smK5o38YU99+Q53h6+F51uivDfMRh/LQkHZ0Gwx6kBJv+ohBg==', 'txn': {'apar': {'an': 'Peters WSC coin', 'au': 'www.usi.ch/wsc', 'c': 'BOB23JBQLW3AJREEG3KD7ULMAGYGVZ2LVF2OMZ2XBJIR64NO5P24XN7WEU', 'dc': 2, 'f': 'BOB23JBQLW3AJREEG3KD7ULMAGYGVZ2LVF2OMZ2XBJIR64NO5P24XN7WEU', 'm': 'ALICEXOA4Q2OD5CKBYND4UX75K3TAODEC3XCVNQ3URMKUMZKUOTOSAQLIU', 'r': 'ALICEXOA4Q2OD5CKBYND4UX75K3TAODEC3XCVNQ3URMKUMZKUOTOSAQLIU', 't': 100000, 'un': 'WSC'}, 'fee': 1000, 'fv': 39025047, 'gen': 'testnet-v1.0', 'gh': 'SGO1GKSzyE7IEPItTxCByw9x8FmnrCDexi9/cOUJOiI=', 'lv': 39026047, 'snd': 'WSC24MVUSQ32IZYD7FNN54Z44IXWL4X7BOJD6AGFOCHOG4PDFESLZUGLTI', 'type': 'acfg'}}}\n"
     ]
    }
   ],
   "source": [
    "print(txinfo)"
   ]
  },
  {
   "cell_type": "code",
   "execution_count": 9,
   "metadata": {},
   "outputs": [
    {
     "name": "stdout",
     "output_type": "stream",
     "text": [
      "642000039\n",
      "https://testnet.explorer.perawallet.app/asset/642000039\n"
     ]
    }
   ],
   "source": [
    "# Get the asset ID and open in Pera Explorer\n",
    "WSC_id = txinfo['asset-index']\n",
    "print(WSC_id)\n",
    "print(cred['explore_test']+'asset/{}'.format(WSC_id))"
   ]
  },
  {
   "cell_type": "markdown",
   "metadata": {},
   "source": [
    "#### Step 5b: Asset holdings in the wallet app\n",
    "**CHECK** your wallet app, where the holdings of WSC will already have shown up."
   ]
  },
  {
   "cell_type": "code",
   "execution_count": 10,
   "metadata": {},
   "outputs": [
    {
     "data": {
      "text/plain": [
       "[{'index': 592359981,\n",
       "  'params': {'clawback': 'BOB23JBQLW3AJREEG3KD7ULMAGYGVZ2LVF2OMZ2XBJIR64NO5P24XN7WEU',\n",
       "   'creator': 'WSC24MVUSQ32IZYD7FNN54Z44IXWL4X7BOJD6AGFOCHOG4PDFESLZUGLTI',\n",
       "   'decimals': 2,\n",
       "   'default-frozen': False,\n",
       "   'freeze': 'BOB23JBQLW3AJREEG3KD7ULMAGYGVZ2LVF2OMZ2XBJIR64NO5P24XN7WEU',\n",
       "   'manager': 'ALICEXOA4Q2OD5CKBYND4UX75K3TAODEC3XCVNQ3URMKUMZKUOTOSAQLIU',\n",
       "   'name': 'Peters WSC coin',\n",
       "   'name-b64': 'UGV0ZXJzIFdTQyBjb2lu',\n",
       "   'reserve': 'ALICEXOA4Q2OD5CKBYND4UX75K3TAODEC3XCVNQ3URMKUMZKUOTOSAQLIU',\n",
       "   'total': 100000,\n",
       "   'unit-name': 'PWSC',\n",
       "   'unit-name-b64': 'UFdTQw==',\n",
       "   'url': 'www.usi.ch/wsc',\n",
       "   'url-b64': 'd3d3LnVzaS5jaC93c2M='}},\n",
       " {'index': 592373389,\n",
       "  'params': {'clawback': 'WSC24MVUSQ32IZYD7FNN54Z44IXWL4X7BOJD6AGFOCHOG4PDFESLZUGLTI',\n",
       "   'creator': 'WSC24MVUSQ32IZYD7FNN54Z44IXWL4X7BOJD6AGFOCHOG4PDFESLZUGLTI',\n",
       "   'decimals': 0,\n",
       "   'default-frozen': False,\n",
       "   'freeze': 'WSC24MVUSQ32IZYD7FNN54Z44IXWL4X7BOJD6AGFOCHOG4PDFESLZUGLTI',\n",
       "   'manager': 'WSC24MVUSQ32IZYD7FNN54Z44IXWL4X7BOJD6AGFOCHOG4PDFESLZUGLTI',\n",
       "   'name': 'Lugano NFT',\n",
       "   'name-b64': 'THVnYW5vIE5GVA==',\n",
       "   'reserve': 'WSC24MVUSQ32IZYD7FNN54Z44IXWL4X7BOJD6AGFOCHOG4PDFESLZUGLTI',\n",
       "   'total': 1,\n",
       "   'unit-name': 'LUG1',\n",
       "   'unit-name-b64': 'TFVHMQ==',\n",
       "   'url': 'https://gateway.pinata.cloud/ipfs/QmXEKbYJHKVbZ9ZAVMJKrX12koZ3bvMSzXuVLyrfULoV89',\n",
       "   'url-b64': 'aHR0cHM6Ly9nYXRld2F5LnBpbmF0YS5jbG91ZC9pcGZzL1FtWEVLYllKSEtWYlo5WkFWTUpLclgxMmtvWjNidk1Telh1Vkx5cmZVTG9WODk='}},\n",
       " {'index': 640596559,\n",
       "  'params': {'clawback': 'BOB23JBQLW3AJREEG3KD7ULMAGYGVZ2LVF2OMZ2XBJIR64NO5P24XN7WEU',\n",
       "   'creator': 'WSC24MVUSQ32IZYD7FNN54Z44IXWL4X7BOJD6AGFOCHOG4PDFESLZUGLTI',\n",
       "   'decimals': 2,\n",
       "   'default-frozen': False,\n",
       "   'freeze': 'BOB23JBQLW3AJREEG3KD7ULMAGYGVZ2LVF2OMZ2XBJIR64NO5P24XN7WEU',\n",
       "   'manager': 'ALICEXOA4Q2OD5CKBYND4UX75K3TAODEC3XCVNQ3URMKUMZKUOTOSAQLIU',\n",
       "   'name': 'Peters WSC coin',\n",
       "   'name-b64': 'UGV0ZXJzIFdTQyBjb2lu',\n",
       "   'reserve': 'ALICEXOA4Q2OD5CKBYND4UX75K3TAODEC3XCVNQ3URMKUMZKUOTOSAQLIU',\n",
       "   'total': 100000,\n",
       "   'unit-name': 'WSC',\n",
       "   'unit-name-b64': 'V1ND',\n",
       "   'url': 'www.usi.ch/wsc',\n",
       "   'url-b64': 'd3d3LnVzaS5jaC93c2M='}},\n",
       " {'index': 641958950,\n",
       "  'params': {'clawback': 'BOB23JBQLW3AJREEG3KD7ULMAGYGVZ2LVF2OMZ2XBJIR64NO5P24XN7WEU',\n",
       "   'creator': 'WSC24MVUSQ32IZYD7FNN54Z44IXWL4X7BOJD6AGFOCHOG4PDFESLZUGLTI',\n",
       "   'decimals': 2,\n",
       "   'default-frozen': False,\n",
       "   'freeze': 'BOB23JBQLW3AJREEG3KD7ULMAGYGVZ2LVF2OMZ2XBJIR64NO5P24XN7WEU',\n",
       "   'manager': 'ALICEXOA4Q2OD5CKBYND4UX75K3TAODEC3XCVNQ3URMKUMZKUOTOSAQLIU',\n",
       "   'name': 'Peters WSC coin',\n",
       "   'name-b64': 'UGV0ZXJzIFdTQyBjb2lu',\n",
       "   'reserve': 'ALICEXOA4Q2OD5CKBYND4UX75K3TAODEC3XCVNQ3URMKUMZKUOTOSAQLIU',\n",
       "   'total': 100000,\n",
       "   'unit-name': 'WSC',\n",
       "   'unit-name-b64': 'V1ND',\n",
       "   'url': 'www.usi.ch/wsc',\n",
       "   'url-b64': 'd3d3LnVzaS5jaC93c2M='}},\n",
       " {'index': 641960001,\n",
       "  'params': {'clawback': 'BOB23JBQLW3AJREEG3KD7ULMAGYGVZ2LVF2OMZ2XBJIR64NO5P24XN7WEU',\n",
       "   'creator': 'WSC24MVUSQ32IZYD7FNN54Z44IXWL4X7BOJD6AGFOCHOG4PDFESLZUGLTI',\n",
       "   'decimals': 2,\n",
       "   'default-frozen': False,\n",
       "   'freeze': 'BOB23JBQLW3AJREEG3KD7ULMAGYGVZ2LVF2OMZ2XBJIR64NO5P24XN7WEU',\n",
       "   'manager': 'ALICEXOA4Q2OD5CKBYND4UX75K3TAODEC3XCVNQ3URMKUMZKUOTOSAQLIU',\n",
       "   'name': 'Peters WSC coin',\n",
       "   'name-b64': 'UGV0ZXJzIFdTQyBjb2lu',\n",
       "   'reserve': 'ALICEXOA4Q2OD5CKBYND4UX75K3TAODEC3XCVNQ3URMKUMZKUOTOSAQLIU',\n",
       "   'total': 100000,\n",
       "   'unit-name': 'WSC',\n",
       "   'unit-name-b64': 'V1ND',\n",
       "   'url': 'www.usi.ch/wsc',\n",
       "   'url-b64': 'd3d3LnVzaS5jaC93c2M='}},\n",
       " {'index': 641963975,\n",
       "  'params': {'clawback': 'ALICEXOA4Q2OD5CKBYND4UX75K3TAODEC3XCVNQ3URMKUMZKUOTOSAQLIU',\n",
       "   'creator': 'WSC24MVUSQ32IZYD7FNN54Z44IXWL4X7BOJD6AGFOCHOG4PDFESLZUGLTI',\n",
       "   'decimals': 1,\n",
       "   'default-frozen': False,\n",
       "   'freeze': 'CHARLS5INIT5KOLDK3F2QAZXY7N4W7GOE6UTXHEHS3RBNCR2WJXRRTH3GY',\n",
       "   'manager': 'ALICEXOA4Q2OD5CKBYND4UX75K3TAODEC3XCVNQ3URMKUMZKUOTOSAQLIU',\n",
       "   'name': 'Peters Tempcoin',\n",
       "   'name-b64': 'UGV0ZXJzIFRlbXBjb2lu',\n",
       "   'reserve': 'BOB23JBQLW3AJREEG3KD7ULMAGYGVZ2LVF2OMZ2XBJIR64NO5P24XN7WEU',\n",
       "   'total': 1000,\n",
       "   'unit-name': 'TEMP',\n",
       "   'unit-name-b64': 'VEVNUA==',\n",
       "   'url': 'en.wikipedia.org/wiki/Temporary',\n",
       "   'url-b64': 'ZW4ud2lraXBlZGlhLm9yZy93aWtpL1RlbXBvcmFyeQ=='}},\n",
       " {'index': 642000039,\n",
       "  'params': {'clawback': 'BOB23JBQLW3AJREEG3KD7ULMAGYGVZ2LVF2OMZ2XBJIR64NO5P24XN7WEU',\n",
       "   'creator': 'WSC24MVUSQ32IZYD7FNN54Z44IXWL4X7BOJD6AGFOCHOG4PDFESLZUGLTI',\n",
       "   'decimals': 2,\n",
       "   'default-frozen': False,\n",
       "   'freeze': 'BOB23JBQLW3AJREEG3KD7ULMAGYGVZ2LVF2OMZ2XBJIR64NO5P24XN7WEU',\n",
       "   'manager': 'ALICEXOA4Q2OD5CKBYND4UX75K3TAODEC3XCVNQ3URMKUMZKUOTOSAQLIU',\n",
       "   'name': 'Peters WSC coin',\n",
       "   'name-b64': 'UGV0ZXJzIFdTQyBjb2lu',\n",
       "   'reserve': 'ALICEXOA4Q2OD5CKBYND4UX75K3TAODEC3XCVNQ3URMKUMZKUOTOSAQLIU',\n",
       "   'total': 100000,\n",
       "   'unit-name': 'WSC',\n",
       "   'unit-name-b64': 'V1ND',\n",
       "   'url': 'www.usi.ch/wsc',\n",
       "   'url-b64': 'd3d3LnVzaS5jaC93c2M='}}]"
      ]
     },
     "execution_count": 10,
     "metadata": {},
     "output_type": "execute_result"
    }
   ],
   "source": [
    "# We can also check the assets that we have created\n",
    "account_info = algod_client.account_info(MyAlgo['public'])\n",
    "json_str = json.dumps(account_info['created-assets'])\n",
    "json.loads(json_str)"
   ]
  },
  {
   "cell_type": "markdown",
   "metadata": {},
   "source": [
    "## Transfer coins\n",
    "In this section we will transfer coins ...\n",
    "* Manually to Alice\n",
    "* Using Python to Bob"
   ]
  },
  {
   "cell_type": "markdown",
   "metadata": {},
   "source": [
    "### Manual transfer to Alice\n",
    "* Alice has to opt-in\n",
    "    * Tap on `Alice` > Tap on green `+` next to \"Assets\" > Find name or asset ID on list > Tap on `+` >  Approve transaction\n",
    "* Now you can send 10 WSC via QR code or copy-paste\n",
    "* To send **your** WSC to your neigbhor, she has to opt into **your** WSC coin!"
   ]
  },
  {
   "cell_type": "markdown",
   "metadata": {},
   "source": [
    "### Exercise: Python transfer to Bob \n",
    "* `MyAlgo` transfers 10 WSC coins to `Bob`\n",
    "* Remember that transfers of tokens (ASA) are performed with `AssetTransferTxn()` and not with `PaymentTxn()`\n",
    "* Also, do not forget the ..."
   ]
  },
  {
   "cell_type": "code",
   "execution_count": 11,
   "metadata": {},
   "outputs": [
    {
     "name": "stdout",
     "output_type": "stream",
     "text": [
      "Current round is  39025054.\n",
      "Waiting for round 39025054 to finish.\n",
      "Waiting for round 39025055 to finish.\n",
      "Transaction 6QKBOY552LDDYVQVFB6LWDDGXRJQTT44MJN6PMHWY6GCVXMZB3OQ confirmed in round 39025056.\n"
     ]
    }
   ],
   "source": [
    "# Your Python code goes here ...\n",
    "\n",
    "# Step 1: prepare AssetTransferTxn\n",
    "sp = algod_client.suggested_params()             # suggested params\n",
    "amt = int(0)                                     # <-- send 0 coins\n",
    "\n",
    "txn = AssetTransferTxn(\n",
    "    sender = Bob['public'],                    # <-- Alice sends ...\n",
    "    sp=sp,\n",
    "    receiver=Bob['public'],                    # <-- ... to herself\n",
    "    amt=amt,\n",
    "    index=WSC_id                               # <-- specify ASA = WSC coin\n",
    "    )                               \n",
    "\n",
    "# Step 2+3: sign and send\n",
    "stxn = txn.sign(Bob['private'])               # Sign\n",
    "txid = algod_client.send_transaction(stxn)      # Send\n",
    "\n",
    "# Step 4: Wait for confirmation\n",
    "txinfo = wait_for_confirmation(algod_client,txid)\n"
   ]
  },
  {
   "cell_type": "code",
   "execution_count": 12,
   "metadata": {},
   "outputs": [
    {
     "name": "stdout",
     "output_type": "stream",
     "text": [
      "Current round is  39025056.\n",
      "Waiting for round 39025056 to finish.\n",
      "Waiting for round 39025057 to finish.\n",
      "Transaction OADRNECL2FZTMUD3ZIO72G56IDHRDJUO3QADI5KSWAILYULNBLIA confirmed in round 39025058.\n"
     ]
    }
   ],
   "source": [
    "# More Python code may go here ...\n",
    "\n",
    "# Step 1: prepare AssetTransferTxn\n",
    "sp = algod_client.suggested_params()             # suggested params\n",
    "amt = int(10 * 1e2)                              # <-- send 10 coins\n",
    "\n",
    "txn = AssetTransferTxn(\n",
    "    sender = MyAlgo['public'],                    # <-- Alice sends ...\n",
    "    sp=sp,\n",
    "    receiver=Bob['public'],                     # <-- ... to herself\n",
    "    amt=amt,\n",
    "    index=WSC_id                                # <-- specify ASA\n",
    "    )                               \n",
    "\n",
    "# Step 2+3: sign and send\n",
    "stxn = txn.sign(MyAlgo['private'])               # Sign\n",
    "txid = algod_client.send_transaction(stxn)      # Send\n",
    "\n",
    "# Step 4: Wait for confirmation\n",
    "txinfo = wait_for_confirmation(algod_client,txid)"
   ]
  },
  {
   "cell_type": "markdown",
   "metadata": {},
   "source": [
    "## Appendix: Get (more/better) information\n",
    "* Better overview of **all** holdings of one account\n",
    "* `asset_holdings_df` that produces a nice list of all the asset holdings of an address\n",
    "* It is part of `algo_util.py` "
   ]
  },
  {
   "cell_type": "code",
   "execution_count": 13,
   "metadata": {
    "collapsed": true,
    "jupyter": {
     "outputs_hidden": true
    },
    "tags": []
   },
   "outputs": [
    {
     "name": "stdout",
     "output_type": "stream",
     "text": [
      "Requirement already satisfied: pandas in /opt/homebrew/lib/python3.11/site-packages (2.0.3)\n",
      "Requirement already satisfied: python-dateutil>=2.8.2 in /opt/homebrew/lib/python3.11/site-packages (from pandas) (2.8.2)\n",
      "Requirement already satisfied: pytz>=2020.1 in /opt/homebrew/lib/python3.11/site-packages (from pandas) (2023.3)\n",
      "Requirement already satisfied: tzdata>=2022.1 in /opt/homebrew/lib/python3.11/site-packages (from pandas) (2023.3)\n",
      "Requirement already satisfied: numpy>=1.21.0 in /opt/homebrew/lib/python3.11/site-packages (from pandas) (1.24.0)\n",
      "Requirement already satisfied: six>=1.5 in /opt/homebrew/lib/python3.11/site-packages (from python-dateutil>=2.8.2->pandas) (1.16.0)\n"
     ]
    }
   ],
   "source": [
    "!pip install pandas"
   ]
  },
  {
   "cell_type": "code",
   "execution_count": 14,
   "metadata": {
    "tags": []
   },
   "outputs": [
    {
     "data": {
      "text/html": [
       "<div>\n",
       "<style scoped>\n",
       "    .dataframe tbody tr th:only-of-type {\n",
       "        vertical-align: middle;\n",
       "    }\n",
       "\n",
       "    .dataframe tbody tr th {\n",
       "        vertical-align: top;\n",
       "    }\n",
       "\n",
       "    .dataframe thead th {\n",
       "        text-align: right;\n",
       "    }\n",
       "</style>\n",
       "<table border=\"1\" class=\"dataframe\">\n",
       "  <thead>\n",
       "    <tr style=\"text-align: right;\">\n",
       "      <th></th>\n",
       "      <th>amount</th>\n",
       "      <th>unit</th>\n",
       "      <th>asset-id</th>\n",
       "      <th>name</th>\n",
       "      <th>decimals</th>\n",
       "    </tr>\n",
       "  </thead>\n",
       "  <tbody>\n",
       "    <tr>\n",
       "      <th>0</th>\n",
       "      <td>22.578488</td>\n",
       "      <td>ALGO</td>\n",
       "      <td>0</td>\n",
       "      <td>Algorand</td>\n",
       "      <td>6</td>\n",
       "    </tr>\n",
       "    <tr>\n",
       "      <th>1</th>\n",
       "      <td>2.097569</td>\n",
       "      <td>USDC</td>\n",
       "      <td>10458941</td>\n",
       "      <td>USDC</td>\n",
       "      <td>6</td>\n",
       "    </tr>\n",
       "    <tr>\n",
       "      <th>2</th>\n",
       "      <td>8.100000</td>\n",
       "      <td>PWSC</td>\n",
       "      <td>592359981</td>\n",
       "      <td>Peters WSC coin</td>\n",
       "      <td>2</td>\n",
       "    </tr>\n",
       "    <tr>\n",
       "      <th>3</th>\n",
       "      <td>25.000000</td>\n",
       "      <td>TEMP</td>\n",
       "      <td>641963975</td>\n",
       "      <td>Peters Tempcoin</td>\n",
       "      <td>1</td>\n",
       "    </tr>\n",
       "    <tr>\n",
       "      <th>4</th>\n",
       "      <td>10.000000</td>\n",
       "      <td>WSC</td>\n",
       "      <td>642000039</td>\n",
       "      <td>Peters WSC coin</td>\n",
       "      <td>2</td>\n",
       "    </tr>\n",
       "  </tbody>\n",
       "</table>\n",
       "</div>"
      ],
      "text/plain": [
       "      amount  unit   asset-id             name  decimals\n",
       "0  22.578488  ALGO          0         Algorand         6\n",
       "1   2.097569  USDC   10458941             USDC         6\n",
       "2   8.100000  PWSC  592359981  Peters WSC coin         2\n",
       "3  25.000000  TEMP  641963975  Peters Tempcoin         1\n",
       "4  10.000000   WSC  642000039  Peters WSC coin         2"
      ]
     },
     "execution_count": 14,
     "metadata": {},
     "output_type": "execute_result"
    }
   ],
   "source": [
    "asset_holdings_df(algod_client,Bob['public'])"
   ]
  },
  {
   "cell_type": "markdown",
   "metadata": {},
   "source": [
    "### Account info\n",
    "* Information about an **account**\n",
    "* Obtain ALGOs with `'amount'`\n",
    "* Obtain all other tokens with `'assets'`"
   ]
  },
  {
   "cell_type": "code",
   "execution_count": 15,
   "metadata": {},
   "outputs": [
    {
     "data": {
      "text/plain": [
       "{'address': 'BOB23JBQLW3AJREEG3KD7ULMAGYGVZ2LVF2OMZ2XBJIR64NO5P24XN7WEU',\n",
       " 'amount': 22578488,\n",
       " 'amount-without-pending-rewards': 22578488,\n",
       " 'apps-local-state': [{'id': 592631026,\n",
       "   'schema': {'num-byte-slice': 0, 'num-uint': 0}},\n",
       "  {'id': 592636761,\n",
       "   'key-value': [{'key': 'Tm90ZQ==',\n",
       "     'value': {'bytes': 'V2VsY29tZSBvbiBib2FyZCE=', 'type': 1, 'uint': 0}}],\n",
       "   'schema': {'num-byte-slice': 1, 'num-uint': 0}},\n",
       "  {'id': 592637438,\n",
       "   'key-value': [{'key': 'TWVtYmVyc2hpcE5v',\n",
       "     'value': {'bytes': '', 'type': 2, 'uint': 3}}],\n",
       "   'schema': {'num-byte-slice': 0, 'num-uint': 1}},\n",
       "  {'id': 592638886,\n",
       "   'key-value': [{'key': 'TWVtYmVyc2hpcE5v',\n",
       "     'value': {'bytes': '', 'type': 2, 'uint': 3}}],\n",
       "   'schema': {'num-byte-slice': 0, 'num-uint': 1}},\n",
       "  {'id': 592753444,\n",
       "   'key-value': [{'key': 'TGFzdEhvbGRpbmc=',\n",
       "     'value': {'bytes': '', 'type': 2, 'uint': 19085945}},\n",
       "    {'key': 'TWVzc2FnZQ==',\n",
       "     'value': {'bytes': 'WW91IGhhdmUgZW5vdWdo', 'type': 1, 'uint': 0}},\n",
       "    {'key': 'VmlzaXRz', 'value': {'bytes': '', 'type': 2, 'uint': 1}},\n",
       "    {'key': 'WW91ckhvbGRpbmc=',\n",
       "     'value': {'bytes': '', 'type': 2, 'uint': 19084945}}],\n",
       "   'schema': {'num-byte-slice': 1, 'num-uint': 3}},\n",
       "  {'id': 592755643,\n",
       "   'key-value': [{'key': 'TGFzdFZpc2l0',\n",
       "     'value': {'bytes': '', 'type': 2, 'uint': 37200793}},\n",
       "    {'key': 'VmlzaXRz', 'value': {'bytes': '', 'type': 2, 'uint': 0}},\n",
       "    {'key': 'WW91ckhvbGRpbmc=',\n",
       "     'value': {'bytes': '', 'type': 2, 'uint': 19083945}}],\n",
       "   'schema': {'num-byte-slice': 1, 'num-uint': 4}},\n",
       "  {'id': 592756591,\n",
       "   'key-value': [{'key': 'TGFzdFZpc2l0',\n",
       "     'value': {'bytes': '', 'type': 2, 'uint': 37200974}},\n",
       "    {'key': 'VmlzaXRz', 'value': {'bytes': '', 'type': 2, 'uint': 0}},\n",
       "    {'key': 'WW91ckhvbGRpbmc=',\n",
       "     'value': {'bytes': '', 'type': 2, 'uint': 19082945}}],\n",
       "   'schema': {'num-byte-slice': 1, 'num-uint': 4}},\n",
       "  {'id': 592756852,\n",
       "   'key-value': [{'key': 'TGFzdFZpc2l0',\n",
       "     'value': {'bytes': '', 'type': 2, 'uint': 37201023}},\n",
       "    {'key': 'VmlzaXRz', 'value': {'bytes': '', 'type': 2, 'uint': 0}},\n",
       "    {'key': 'WW91ckhvbGRpbmc=',\n",
       "     'value': {'bytes': '', 'type': 2, 'uint': 19081945}}],\n",
       "   'schema': {'num-byte-slice': 1, 'num-uint': 4}}],\n",
       " 'apps-total-schema': {'num-byte-slice': 12, 'num-uint': 21},\n",
       " 'assets': [{'amount': 2097569, 'asset-id': 10458941, 'is-frozen': False},\n",
       "  {'amount': 810, 'asset-id': 592359981, 'is-frozen': False},\n",
       "  {'amount': 250, 'asset-id': 641963975, 'is-frozen': True},\n",
       "  {'amount': 1000, 'asset-id': 642000039, 'is-frozen': False}],\n",
       " 'created-apps': [{'id': 592636761,\n",
       "   'params': {'approval-program': 'AyAFAAECBAUmAwROb3RlEVdlbGNvbWUgb24gYm9hcmQhDEhlbGxvIHdvcmxkITEYIhJAADcxGSMSQAAqMRkkEkAAITEZJRJAABgxGSEEEkAACjEZIhJAAAEAI0MxADIJEkMiQyNDIigpZiNDKCpnI0M=',\n",
       "    'clear-state-program': 'AyABASJD',\n",
       "    'creator': 'BOB23JBQLW3AJREEG3KD7ULMAGYGVZ2LVF2OMZ2XBJIR64NO5P24XN7WEU',\n",
       "    'global-state': [{'key': 'Tm90ZQ==',\n",
       "      'value': {'bytes': 'SGVsbG8gd29ybGQh', 'type': 1, 'uint': 0}}],\n",
       "    'global-state-schema': {'num-byte-slice': 1, 'num-uint': 0},\n",
       "    'local-state-schema': {'num-byte-slice': 1, 'num-uint': 0}}},\n",
       "  {'id': 592637438,\n",
       "   'params': {'approval-program': 'BSACAQAmAQdNZW1iZXJzMRgjEkAATTEZIhJAACwxGYECEkAAIjEZgQQSQAAYMRmBBRJAAAoxGSMSQAABACJDMQAyCRJDI0MiQygoZCIIZyOADE1lbWJlcnNoaXBObyhkZiJDgAROb3RlgAxIZWxsbyB3b3JsZCFnKCNnIkM=',\n",
       "    'clear-state-program': 'AyABASJD',\n",
       "    'creator': 'BOB23JBQLW3AJREEG3KD7ULMAGYGVZ2LVF2OMZ2XBJIR64NO5P24XN7WEU',\n",
       "    'global-state': [{'key': 'TWVtYmVycw==',\n",
       "      'value': {'bytes': '', 'type': 2, 'uint': 3}},\n",
       "     {'key': 'Tm90ZQ==',\n",
       "      'value': {'bytes': 'SGVsbG8gd29ybGQh', 'type': 1, 'uint': 0}}],\n",
       "    'global-state-schema': {'num-byte-slice': 1, 'num-uint': 1},\n",
       "    'local-state-schema': {'num-byte-slice': 0, 'num-uint': 1}}},\n",
       "  {'id': 592638886,\n",
       "   'params': {'approval-program': 'BSACAQAmAQdNZW1iZXJzMRgjEkAATTEZIhJAACwxGYECEkAAIjEZgQQSQAAYMRmBBRJAAAoxGSMSQAABACJDMQAyCRJDI0MiQygoZCIIZyOADE1lbWJlcnNoaXBObyhkZiJDgAROb3RlgAxIZWxsbyB3b3JsZCFnKCNnIkM=',\n",
       "    'clear-state-program': 'AyABASJD',\n",
       "    'creator': 'BOB23JBQLW3AJREEG3KD7ULMAGYGVZ2LVF2OMZ2XBJIR64NO5P24XN7WEU',\n",
       "    'global-state': [{'key': 'TWVtYmVycw==',\n",
       "      'value': {'bytes': '', 'type': 2, 'uint': 4}},\n",
       "     {'key': 'Tm90ZQ==',\n",
       "      'value': {'bytes': 'SGVsbG8gd29ybGQh', 'type': 1, 'uint': 0}}],\n",
       "    'global-state-schema': {'num-byte-slice': 1, 'num-uint': 1},\n",
       "    'local-state-schema': {'num-byte-slice': 0, 'num-uint': 1}}},\n",
       "  {'id': 592640812,\n",
       "   'params': {'approval-program': 'CCACAAEmAwdNZW1iZXJzC1lvdXJIb2xkaW5nB1lvdV9hcmUxGCISQAB8MRkjEkAALDEZgQISQAAiMRmBBBJAABgxGYEFEkAACjEZIhJAAAEAI0MxADIJEkMiQyNDIoAMTWVtYmVyc2hpcE5vKGQjCGYoKGQjCGciKTEAYGYxAGCBgJvuAgxAABEiKoAEcmljaGYiKTEAYGYjQyIqgARwb29yZkL/7IAETm90ZYAMSGVsbG8gd29ybGQhZygiZyND',\n",
       "    'clear-state-program': 'CIEBQw==',\n",
       "    'creator': 'BOB23JBQLW3AJREEG3KD7ULMAGYGVZ2LVF2OMZ2XBJIR64NO5P24XN7WEU',\n",
       "    'global-state': [{'key': 'TWVtYmVycw==',\n",
       "      'value': {'bytes': '', 'type': 2, 'uint': 2}},\n",
       "     {'key': 'Tm90ZQ==',\n",
       "      'value': {'bytes': 'SGVsbG8gd29ybGQh', 'type': 1, 'uint': 0}}],\n",
       "    'global-state-schema': {'num-byte-slice': 1, 'num-uint': 1},\n",
       "    'local-state-schema': {'num-byte-slice': 1, 'num-uint': 2}}},\n",
       "  {'id': 592642563,\n",
       "   'params': {'approval-program': 'BSACAAEmBQpZb3VyU3RhdHVzBUZ1bmRzC1lvdXJIb2xkaW5nB1Bvb3JraWQHUmljaGtpZDEYIhJAAHsxGSMSQABRMRmBAhJAAEcxGYEEEkAAOTEZgQUSQAArMRkiEkAAAQApMgpgZyIqMQBgZjEAYDIKYA1AAAYiKCtmI0MiKCcEZkL/9jEAMgkSQzEAMgkSQyNDKTIKYGciKjEAYGYxAGAyCmANQAAGIigrZiNDIignBGZC//aAC0Z1bmRpbmdBZGRyMgpnKTIKYGeAA1VybIAKd3d3LnVzaS5jaGeABE5vdGWADEhlbGxvIHdvcmxkIWcjQw==',\n",
       "    'clear-state-program': 'AyABASJD',\n",
       "    'creator': 'BOB23JBQLW3AJREEG3KD7ULMAGYGVZ2LVF2OMZ2XBJIR64NO5P24XN7WEU',\n",
       "    'global-state': [{'key': 'Tm90ZQ==',\n",
       "      'value': {'bytes': 'SGVsbG8gd29ybGQh', 'type': 1, 'uint': 0}},\n",
       "     {'key': 'RnVuZGluZ0FkZHI=',\n",
       "      'value': {'bytes': 'dZicqvSyoMDa5VWfwkEu8M4hGJ7biEKMbhs6J5qs6Ws=',\n",
       "       'type': 1,\n",
       "       'uint': 0}},\n",
       "     {'key': 'VXJs',\n",
       "      'value': {'bytes': 'd3d3LnVzaS5jaA==', 'type': 1, 'uint': 0}},\n",
       "     {'key': 'RnVuZHM=', 'value': {'bytes': '', 'type': 2, 'uint': 10000000}}],\n",
       "    'global-state-schema': {'num-byte-slice': 3, 'num-uint': 1},\n",
       "    'local-state-schema': {'num-byte-slice': 1, 'num-uint': 1}}}],\n",
       " 'created-assets': [],\n",
       " 'min-balance': 2998500,\n",
       " 'pending-rewards': 0,\n",
       " 'reward-base': 27521,\n",
       " 'rewards': 0,\n",
       " 'round': 39025060,\n",
       " 'status': 'Offline',\n",
       " 'total-apps-opted-in': 8,\n",
       " 'total-assets-opted-in': 4,\n",
       " 'total-created-apps': 5,\n",
       " 'total-created-assets': 0}"
      ]
     },
     "execution_count": 15,
     "metadata": {},
     "output_type": "execute_result"
    }
   ],
   "source": [
    "account_info = algod_client.account_info(Bob['public'])\n",
    "account_info"
   ]
  },
  {
   "cell_type": "code",
   "execution_count": 16,
   "metadata": {},
   "outputs": [
    {
     "name": "stdout",
     "output_type": "stream",
     "text": [
      "22578488\n",
      "22.578488\n"
     ]
    }
   ],
   "source": [
    "print(account_info['amount'])         # micro Algos\n",
    "print(account_info['amount']/1E6)     # Algos"
   ]
  },
  {
   "cell_type": "code",
   "execution_count": 17,
   "metadata": {},
   "outputs": [
    {
     "data": {
      "text/plain": [
       "[{'amount': 2097569, 'asset-id': 10458941, 'is-frozen': False},\n",
       " {'amount': 810, 'asset-id': 592359981, 'is-frozen': False},\n",
       " {'amount': 250, 'asset-id': 641963975, 'is-frozen': True},\n",
       " {'amount': 1000, 'asset-id': 642000039, 'is-frozen': False}]"
      ]
     },
     "execution_count": 17,
     "metadata": {},
     "output_type": "execute_result"
    }
   ],
   "source": [
    "account_info['assets']                # All ASA"
   ]
  },
  {
   "cell_type": "markdown",
   "metadata": {},
   "source": [
    "### Asset Info\n",
    "* Information about a specific **asset**\n",
    "* Specially useful is the `'decimals'`"
   ]
  },
  {
   "cell_type": "code",
   "execution_count": 18,
   "metadata": {},
   "outputs": [
    {
     "data": {
      "text/plain": [
       "{'index': 642000039,\n",
       " 'params': {'clawback': 'BOB23JBQLW3AJREEG3KD7ULMAGYGVZ2LVF2OMZ2XBJIR64NO5P24XN7WEU',\n",
       "  'creator': 'WSC24MVUSQ32IZYD7FNN54Z44IXWL4X7BOJD6AGFOCHOG4PDFESLZUGLTI',\n",
       "  'decimals': 2,\n",
       "  'default-frozen': False,\n",
       "  'freeze': 'BOB23JBQLW3AJREEG3KD7ULMAGYGVZ2LVF2OMZ2XBJIR64NO5P24XN7WEU',\n",
       "  'manager': 'ALICEXOA4Q2OD5CKBYND4UX75K3TAODEC3XCVNQ3URMKUMZKUOTOSAQLIU',\n",
       "  'name': 'Peters WSC coin',\n",
       "  'name-b64': 'UGV0ZXJzIFdTQyBjb2lu',\n",
       "  'reserve': 'ALICEXOA4Q2OD5CKBYND4UX75K3TAODEC3XCVNQ3URMKUMZKUOTOSAQLIU',\n",
       "  'total': 100000,\n",
       "  'unit-name': 'WSC',\n",
       "  'unit-name-b64': 'V1ND',\n",
       "  'url': 'www.usi.ch/wsc',\n",
       "  'url-b64': 'd3d3LnVzaS5jaC93c2M='}}"
      ]
     },
     "execution_count": 18,
     "metadata": {},
     "output_type": "execute_result"
    }
   ],
   "source": [
    "asset_info = algod_client.asset_info(WSC_id)\n",
    "asset_info"
   ]
  },
  {
   "cell_type": "code",
   "execution_count": 19,
   "metadata": {},
   "outputs": [
    {
     "name": "stdout",
     "output_type": "stream",
     "text": [
      "2\n",
      "WSC\n"
     ]
    }
   ],
   "source": [
    "# Useful fields\n",
    "print(asset_info['params']['decimals'])\n",
    "print(asset_info['params']['unit-name'])"
   ]
  },
  {
   "cell_type": "markdown",
   "metadata": {},
   "source": [
    "### Putting it together\n",
    "* Crate a Python list with all relevant holdings of an account"
   ]
  },
  {
   "cell_type": "code",
   "execution_count": 20,
   "metadata": {},
   "outputs": [
    {
     "data": {
      "text/plain": [
       "[{'amount': 22.578488, 'unit': 'ALGO', 'asset-id': 0, 'name': 'Algorand'},\n",
       " {'amount': 2.097569, 'unit': 'USDC', 'asset-id': 10458941, 'name': 'USDC'},\n",
       " {'amount': 8.1,\n",
       "  'unit': 'PWSC',\n",
       "  'asset-id': 592359981,\n",
       "  'name': 'Peters WSC coin'},\n",
       " {'amount': 25.0,\n",
       "  'unit': 'TEMP',\n",
       "  'asset-id': 641963975,\n",
       "  'name': 'Peters Tempcoin'},\n",
       " {'amount': 10.0,\n",
       "  'unit': 'WSC',\n",
       "  'asset-id': 642000039,\n",
       "  'name': 'Peters WSC coin'}]"
      ]
     },
     "execution_count": 20,
     "metadata": {},
     "output_type": "execute_result"
    }
   ],
   "source": [
    "info = []\n",
    "# Algo part\n",
    "info.append( {'amount':  account_info['amount']/1E6, 'unit' :   'ALGO', 'asset-id': 0, 'name': 'Algorand' } )\n",
    "# ASA part\n",
    "assets = account_info['assets']\n",
    "for asset in assets:\n",
    "    asset_id     = asset['asset-id']\n",
    "    asset_info   = algod_client.asset_info(asset_id)                         # Get all info\n",
    "    asset_amount = asset['amount']/10**asset_info['params']['decimals']      # convert to BIG units\n",
    "    info.append( {'amount':  asset_amount,\n",
    "                  'unit' :   asset_info['params'].get('unit-name'),\n",
    "                  'asset-id':asset_id,\n",
    "                  'name':    asset_info['params'].get('name')\n",
    "                  } )\n",
    "\n",
    "info"
   ]
  },
  {
   "cell_type": "markdown",
   "metadata": {},
   "source": [
    "### Packaging as a function and creating a data.frame\n",
    "* `asset_holdings()` returns a list\n",
    "* `asset_holdings_df()` returns a pandas data frame\n",
    "\n",
    "Both functions are part of `algo_util.py`."
   ]
  },
  {
   "cell_type": "code",
   "execution_count": 21,
   "metadata": {},
   "outputs": [],
   "source": [
    "def asset_holdings(algod_client, public):\n",
    "    # client = algosdk client\n",
    "    # public = public address to be analyzed\n",
    "\n",
    "    import pandas as pd\n",
    "    from algosdk.v2client import algod\n",
    "    account_info = algod_client.account_info(public)\n",
    "\n",
    "    info = []\n",
    "    # Algo part\n",
    "    info.append( {'amount':  account_info['amount']/1E6, \n",
    "                  'unit' :   'ALGO', 'asset-id': 0, 'name': 'Algorand'} )\n",
    "\n",
    "    # ASA part\n",
    "    assets = account_info['assets']\n",
    "    for asset in assets:\n",
    "        asset_id     = asset['asset-id']\n",
    "        asset_info   = algod_client.asset_info(asset_id)                         # Get all info\n",
    "        asset_amount = asset['amount']/10**asset_info['params']['decimals']      # convert to BIG units\n",
    "        info.append( {'amount':  asset_amount,\n",
    "                      'unit' :   asset_info['params'].get('unit-name'),\n",
    "                      'asset-id':asset_id,\n",
    "                      'name':    asset_info['params'].get('name')\n",
    "                      } )\n",
    "\n",
    "    return(info)"
   ]
  },
  {
   "cell_type": "code",
   "execution_count": 22,
   "metadata": {},
   "outputs": [
    {
     "data": {
      "text/plain": [
       "[{'amount': 25.122489, 'unit': 'ALGO', 'asset-id': 0, 'name': 'Algorand'},\n",
       " {'amount': 279.440275, 'unit': 'USDC', 'asset-id': 10458941, 'name': 'USDC'},\n",
       " {'amount': 2.5,\n",
       "  'unit': 'PWSC',\n",
       "  'asset-id': 592359981,\n",
       "  'name': 'Peters WSC coin'},\n",
       " {'amount': 0.0,\n",
       "  'unit': 'USDALGO',\n",
       "  'asset-id': 592647685,\n",
       "  'name': 'USD/Algo Oracle coin'},\n",
       " {'amount': 0.0,\n",
       "  'unit': 'WSC',\n",
       "  'asset-id': 641958950,\n",
       "  'name': 'Peters WSC coin'}]"
      ]
     },
     "execution_count": 22,
     "metadata": {},
     "output_type": "execute_result"
    }
   ],
   "source": [
    "asset_holdings(algod_client,Alice['public'])"
   ]
  },
  {
   "cell_type": "code",
   "execution_count": 23,
   "metadata": {},
   "outputs": [],
   "source": [
    "def asset_holdings_df(algod_client, public):\n",
    "    import pandas as pd\n",
    "    from algosdk.v2client import algod\n",
    "    info = asset_holdings(algod_client, public)\n",
    "    df = pd.DataFrame(info)\n",
    "    return(df)"
   ]
  },
  {
   "cell_type": "code",
   "execution_count": 24,
   "metadata": {},
   "outputs": [
    {
     "data": {
      "text/html": [
       "<div>\n",
       "<style scoped>\n",
       "    .dataframe tbody tr th:only-of-type {\n",
       "        vertical-align: middle;\n",
       "    }\n",
       "\n",
       "    .dataframe tbody tr th {\n",
       "        vertical-align: top;\n",
       "    }\n",
       "\n",
       "    .dataframe thead th {\n",
       "        text-align: right;\n",
       "    }\n",
       "</style>\n",
       "<table border=\"1\" class=\"dataframe\">\n",
       "  <thead>\n",
       "    <tr style=\"text-align: right;\">\n",
       "      <th></th>\n",
       "      <th>amount</th>\n",
       "      <th>unit</th>\n",
       "      <th>asset-id</th>\n",
       "      <th>name</th>\n",
       "    </tr>\n",
       "  </thead>\n",
       "  <tbody>\n",
       "    <tr>\n",
       "      <th>0</th>\n",
       "      <td>25.122489</td>\n",
       "      <td>ALGO</td>\n",
       "      <td>0</td>\n",
       "      <td>Algorand</td>\n",
       "    </tr>\n",
       "    <tr>\n",
       "      <th>1</th>\n",
       "      <td>279.440275</td>\n",
       "      <td>USDC</td>\n",
       "      <td>10458941</td>\n",
       "      <td>USDC</td>\n",
       "    </tr>\n",
       "    <tr>\n",
       "      <th>2</th>\n",
       "      <td>2.500000</td>\n",
       "      <td>PWSC</td>\n",
       "      <td>592359981</td>\n",
       "      <td>Peters WSC coin</td>\n",
       "    </tr>\n",
       "    <tr>\n",
       "      <th>3</th>\n",
       "      <td>0.000000</td>\n",
       "      <td>USDALGO</td>\n",
       "      <td>592647685</td>\n",
       "      <td>USD/Algo Oracle coin</td>\n",
       "    </tr>\n",
       "    <tr>\n",
       "      <th>4</th>\n",
       "      <td>0.000000</td>\n",
       "      <td>WSC</td>\n",
       "      <td>641958950</td>\n",
       "      <td>Peters WSC coin</td>\n",
       "    </tr>\n",
       "  </tbody>\n",
       "</table>\n",
       "</div>"
      ],
      "text/plain": [
       "       amount     unit   asset-id                  name\n",
       "0   25.122489     ALGO          0              Algorand\n",
       "1  279.440275     USDC   10458941                  USDC\n",
       "2    2.500000     PWSC  592359981       Peters WSC coin\n",
       "3    0.000000  USDALGO  592647685  USD/Algo Oracle coin\n",
       "4    0.000000      WSC  641958950       Peters WSC coin"
      ]
     },
     "execution_count": 24,
     "metadata": {},
     "output_type": "execute_result"
    }
   ],
   "source": [
    "asset_holdings_df(algod_client,Alice['public'])"
   ]
  },
  {
   "cell_type": "markdown",
   "metadata": {
    "tags": []
   },
   "source": [
    "### *Python note on `.get()`\n",
    "* Some entries in `asset_info['params']` are optional\n",
    "    * So they may not exist\n",
    "* Using the `.get()` method avoids error messages"
   ]
  },
  {
   "cell_type": "code",
   "execution_count": 25,
   "metadata": {},
   "outputs": [],
   "source": [
    "# Example of a minimal ASA\n",
    "asset_info = {'index': 145346757, \n",
    "                'params': {'creator': 'CPUT3Z5CI3XOIZ4ARSGUFQD7V4YGYJW5BFAZMXX5YOV4KJCKI6MBCDY5XM', \n",
    "                           'decimals': 0, 'default-frozen': False, \n",
    "                           'name': 'TEMP', 'name-b64': 'VEVNUA==', 'total': 100}}"
   ]
  },
  {
   "cell_type": "code",
   "execution_count": 26,
   "metadata": {},
   "outputs": [
    {
     "name": "stdout",
     "output_type": "stream",
     "text": [
      "TEMP\n"
     ]
    },
    {
     "ename": "KeyError",
     "evalue": "'unit-name'",
     "output_type": "error",
     "traceback": [
      "\u001b[0;31m---------------------------------------------------------------------------\u001b[0m",
      "\u001b[0;31mKeyError\u001b[0m                                  Traceback (most recent call last)",
      "Cell \u001b[0;32mIn[26], line 3\u001b[0m\n\u001b[1;32m      1\u001b[0m \u001b[38;5;28mprint\u001b[39m(asset_info[\u001b[38;5;124m'\u001b[39m\u001b[38;5;124mparams\u001b[39m\u001b[38;5;124m'\u001b[39m][\u001b[38;5;124m'\u001b[39m\u001b[38;5;124mname\u001b[39m\u001b[38;5;124m'\u001b[39m])\n\u001b[1;32m      2\u001b[0m \u001b[38;5;66;03m# this does not work\u001b[39;00m\n\u001b[0;32m----> 3\u001b[0m \u001b[38;5;28mprint\u001b[39m(\u001b[43masset_info\u001b[49m\u001b[43m[\u001b[49m\u001b[38;5;124;43m'\u001b[39;49m\u001b[38;5;124;43mparams\u001b[39;49m\u001b[38;5;124;43m'\u001b[39;49m\u001b[43m]\u001b[49m\u001b[43m[\u001b[49m\u001b[38;5;124;43m'\u001b[39;49m\u001b[38;5;124;43munit-name\u001b[39;49m\u001b[38;5;124;43m'\u001b[39;49m\u001b[43m]\u001b[49m)\n",
      "\u001b[0;31mKeyError\u001b[0m: 'unit-name'"
     ]
    }
   ],
   "source": [
    "print(asset_info['params']['name'])\n",
    "# this does not work\n",
    "print(asset_info['params']['unit-name'])"
   ]
  },
  {
   "cell_type": "code",
   "execution_count": 27,
   "metadata": {},
   "outputs": [
    {
     "name": "stdout",
     "output_type": "stream",
     "text": [
      "TEMP\n",
      "None\n"
     ]
    }
   ],
   "source": [
    "# this works\n",
    "print(asset_info['params'].get('name'))\n",
    "print(asset_info['params'].get('unit-name'))"
   ]
  }
 ],
 "metadata": {
  "kernelspec": {
   "display_name": "Python 3 (ipykernel)",
   "language": "python",
   "name": "python3"
  },
  "language_info": {
   "codemirror_mode": {
    "name": "ipython",
    "version": 3
   },
   "file_extension": ".py",
   "mimetype": "text/x-python",
   "name": "python",
   "nbconvert_exporter": "python",
   "pygments_lexer": "ipython3",
   "version": "3.11.5"
  }
 },
 "nbformat": 4,
 "nbformat_minor": 4
}
