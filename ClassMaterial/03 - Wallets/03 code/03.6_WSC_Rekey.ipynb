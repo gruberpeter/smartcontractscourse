{
 "cells": [
  {
   "cell_type": "markdown",
   "metadata": {},
   "source": [
    "## *Passing Authority: Rekeying\n",
    "#### 03.6 Writing Smart Contracts\n",
    "##### Peter Gruber (peter.gruber@usi.ch)\n",
    "2024-02-14 (started 2022-02-02)\n",
    "\n",
    "- Rekey an account = change private key "
   ]
  },
  {
   "cell_type": "markdown",
   "metadata": {
    "tags": []
   },
   "source": [
    "## Setup\n",
    "Starting with chapter 3.4, the lines below will always automatically load ...\n",
    "* The functions in `algo_util.py`\n",
    "* The accounts MyAlgo, Alice and Bob\n",
    "* The Purestake credentials"
   ]
  },
  {
   "cell_type": "code",
   "execution_count": 1,
   "metadata": {},
   "outputs": [],
   "source": [
    "# Loading shared code and credentials\n",
    "import sys, os\n",
    "codepath = '..'+os.path.sep+'..'+os.path.sep+'sharedCode'\n",
    "sys.path.append(codepath)\n",
    "from algo_util import *\n",
    "cred = load_credentials()\n",
    "\n",
    "# Shortcuts to directly access the main accounts\n",
    "MyAlgo  = cred['MyAlgo']\n",
    "Alice   = cred['Alice']\n",
    "Bob     = cred['Bob']\n",
    "Charlie = cred['Charlie']\n",
    "Dina    = cred['Dina']"
   ]
  },
  {
   "cell_type": "code",
   "execution_count": 2,
   "metadata": {},
   "outputs": [],
   "source": [
    "from algosdk import account, mnemonic\n",
    "from algosdk.v2client import algod\n",
    "from algosdk.transaction import PaymentTxn, MultisigTransaction\n",
    "import algosdk.error\n",
    "import json"
   ]
  },
  {
   "cell_type": "code",
   "execution_count": 3,
   "metadata": {},
   "outputs": [
    {
     "name": "stdout",
     "output_type": "stream",
     "text": [
      "WSC24MVUSQ32IZYD7FNN54Z44IXWL4X7BOJD6AGFOCHOG4PDFESLZUGLTI\n",
      "ALICEXOA4Q2OD5CKBYND4UX75K3TAODEC3XCVNQ3URMKUMZKUOTOSAQLIU\n",
      "BOB23JBQLW3AJREEG3KD7ULMAGYGVZ2LVF2OMZ2XBJIR64NO5P24XN7WEU\n",
      "CHARLS5INIT5KOLDK3F2QAZXY7N4W7GOE6UTXHEHS3RBNCR2WJXRRTH3GY\n",
      "DINAAZWBJM6DRY73CWK7IOA4S7C6PVXQMQ4DJ3TK3DAGAGFJTX5KEYESDI\n"
     ]
    }
   ],
   "source": [
    "print(MyAlgo['public'])\n",
    "print(Alice['public'])\n",
    "print(Bob['public'])\n",
    "print(Charlie['public'])\n",
    "print(Dina['public'])"
   ]
  },
  {
   "cell_type": "markdown",
   "metadata": {},
   "source": [
    "### Connecting to the Algorand testnet"
   ]
  },
  {
   "cell_type": "code",
   "execution_count": 4,
   "metadata": {},
   "outputs": [
    {
     "data": {
      "text/plain": [
       "38992391"
      ]
     },
     "execution_count": 4,
     "metadata": {},
     "output_type": "execute_result"
    }
   ],
   "source": [
    "algod_client = algod.AlgodClient(algod_token='', algod_address=cred['algod_test'], headers=cred['api_token'])\n",
    "algod_client.status()[\"last-round\"]"
   ]
  },
  {
   "cell_type": "markdown",
   "metadata": {},
   "source": [
    "## Rekeying\n",
    "Case 1\n",
    "* Imagine your private key has been compromised\n",
    "* You have lots of assets and maybe ongoing smart contracts with this address\n",
    "* So you want to \"change the password\"\n",
    "\n",
    "Case 2\n",
    "* Bob is very busy and wants Charlie to sign for him"
   ]
  },
  {
   "cell_type": "markdown",
   "metadata": {},
   "source": [
    "#### Bob rekeys to Charlie\n",
    "Rekeying is done via a simple payment transaction of 0 ALGOs, that has an additional rekey entry"
   ]
  },
  {
   "cell_type": "code",
   "execution_count": 5,
   "metadata": {},
   "outputs": [],
   "source": [
    "# Step 1: prepare special transaction\n",
    "sp = algod_client.suggested_params()\n",
    "amt = 0                                          # <-- Send zero ALGOs\n",
    "\n",
    "txn = PaymentTxn(sender = Bob['public'],         # <-- We rekey the Bob account\n",
    "                 sp = sp, \n",
    "                 receiver = Bob['public'],       # <-- (any recipeint, as it is a zero-amount transaction)\n",
    "                 amt = amt,\n",
    "                 rekey_to = Charlie['public']    # <-- Charlie should be able to sign for Bob\n",
    "                )"
   ]
  },
  {
   "cell_type": "code",
   "execution_count": 6,
   "metadata": {},
   "outputs": [],
   "source": [
    "# Steps 2+3: sign and send\n",
    "stxn = txn.sign(Bob['private'])                 # <-- Bob signs one last time\n",
    "txid = algod_client.send_transaction(stxn)"
   ]
  },
  {
   "cell_type": "code",
   "execution_count": 7,
   "metadata": {},
   "outputs": [
    {
     "name": "stdout",
     "output_type": "stream",
     "text": [
      "Current round is  38992393.\n",
      "Waiting for round 38992393 to finish.\n",
      "Waiting for round 38992394 to finish.\n",
      "Transaction JHIMBOAITDLAFNNB3XQVZYJPDFGGMODQ72KKJPGBB2O5HY6KZY4A confirmed in round 38992395.\n"
     ]
    }
   ],
   "source": [
    "# Step 4: Wait for confirmation\n",
    "txinfo = wait_for_confirmation(algod_client, txid)"
   ]
  },
  {
   "cell_type": "markdown",
   "metadata": {},
   "source": [
    "#### Charlie signs for Bob\n",
    "* Charlie makes a payment of 1.4 ALGO to Alice out of Bob's account"
   ]
  },
  {
   "cell_type": "code",
   "execution_count": 8,
   "metadata": {},
   "outputs": [
    {
     "name": "stdout",
     "output_type": "stream",
     "text": [
      "Current round is  38992395.\n",
      "Waiting for round 38992395 to finish.\n",
      "Waiting for round 38992396 to finish.\n",
      "Transaction T6EFTZLNZBGRXY4AIMUQT2PUESQMNJR4YX2AKYI5ZIGVOEAYZWLQ confirmed in round 38992397.\n"
     ]
    }
   ],
   "source": [
    "# Step 1: prepare transaction\n",
    "sp = algod_client.suggested_params()\n",
    "amt = int(1.4*1E6)                                \n",
    "\n",
    "txn = PaymentTxn(sender = Bob['public'],           # <-- From Bob\n",
    "                 sp = sp, \n",
    "                 receiver = Alice['public'],       # <-- To Alice \n",
    "                 amt = amt\n",
    "                 )\n",
    "\n",
    "# Steps 2+3: sign and send\n",
    "stxn = txn.sign(Charlie['private'])                # <-- Charlie now signs for Bob\n",
    "txid = algod_client.send_transaction(stxn)\n",
    "\n",
    "# Step 4: Wait for confirmation\n",
    "txinfo = wait_for_confirmation(algod_client, txid)"
   ]
  },
  {
   "cell_type": "markdown",
   "metadata": {},
   "source": [
    "#### Bob cannot sign for himself\n",
    "* Bob wants to make a payment of 1.7 ALGO to Dina"
   ]
  },
  {
   "cell_type": "code",
   "execution_count": 9,
   "metadata": {},
   "outputs": [
    {
     "ename": "AlgodHTTPError",
     "evalue": "TransactionPool.Remember: transaction VSPDXCX5IDLQMGJ7HCDVAOINT7WJEJMK6JFHWYOOCH7NJBHJWI5Q: should have been authorized by CHARLS5INIT5KOLDK3F2QAZXY7N4W7GOE6UTXHEHS3RBNCR2WJXRRTH3GY but was actually authorized by BOB23JBQLW3AJREEG3KD7ULMAGYGVZ2LVF2OMZ2XBJIR64NO5P24XN7WEU",
     "output_type": "error",
     "traceback": [
      "\u001b[0;31m---------------------------------------------------------------------------\u001b[0m",
      "\u001b[0;31mHTTPError\u001b[0m                                 Traceback (most recent call last)",
      "File \u001b[0;32m/opt/homebrew/lib/python3.11/site-packages/algosdk/v2client/algod.py:104\u001b[0m, in \u001b[0;36mAlgodClient.algod_request\u001b[0;34m(self, method, requrl, params, data, headers, response_format)\u001b[0m\n\u001b[1;32m    103\u001b[0m \u001b[38;5;28;01mtry\u001b[39;00m:\n\u001b[0;32m--> 104\u001b[0m     resp \u001b[38;5;241m=\u001b[39m \u001b[43murlopen\u001b[49m\u001b[43m(\u001b[49m\u001b[43mreq\u001b[49m\u001b[43m)\u001b[49m\n\u001b[1;32m    105\u001b[0m \u001b[38;5;28;01mexcept\u001b[39;00m urllib\u001b[38;5;241m.\u001b[39merror\u001b[38;5;241m.\u001b[39mHTTPError \u001b[38;5;28;01mas\u001b[39;00m e:\n",
      "File \u001b[0;32m/opt/homebrew/Cellar/python@3.11/3.11.5/Frameworks/Python.framework/Versions/3.11/lib/python3.11/urllib/request.py:216\u001b[0m, in \u001b[0;36murlopen\u001b[0;34m(url, data, timeout, cafile, capath, cadefault, context)\u001b[0m\n\u001b[1;32m    215\u001b[0m     opener \u001b[38;5;241m=\u001b[39m _opener\n\u001b[0;32m--> 216\u001b[0m \u001b[38;5;28;01mreturn\u001b[39;00m \u001b[43mopener\u001b[49m\u001b[38;5;241;43m.\u001b[39;49m\u001b[43mopen\u001b[49m\u001b[43m(\u001b[49m\u001b[43murl\u001b[49m\u001b[43m,\u001b[49m\u001b[43m \u001b[49m\u001b[43mdata\u001b[49m\u001b[43m,\u001b[49m\u001b[43m \u001b[49m\u001b[43mtimeout\u001b[49m\u001b[43m)\u001b[49m\n",
      "File \u001b[0;32m/opt/homebrew/Cellar/python@3.11/3.11.5/Frameworks/Python.framework/Versions/3.11/lib/python3.11/urllib/request.py:525\u001b[0m, in \u001b[0;36mOpenerDirector.open\u001b[0;34m(self, fullurl, data, timeout)\u001b[0m\n\u001b[1;32m    524\u001b[0m     meth \u001b[38;5;241m=\u001b[39m \u001b[38;5;28mgetattr\u001b[39m(processor, meth_name)\n\u001b[0;32m--> 525\u001b[0m     response \u001b[38;5;241m=\u001b[39m \u001b[43mmeth\u001b[49m\u001b[43m(\u001b[49m\u001b[43mreq\u001b[49m\u001b[43m,\u001b[49m\u001b[43m \u001b[49m\u001b[43mresponse\u001b[49m\u001b[43m)\u001b[49m\n\u001b[1;32m    527\u001b[0m \u001b[38;5;28;01mreturn\u001b[39;00m response\n",
      "File \u001b[0;32m/opt/homebrew/Cellar/python@3.11/3.11.5/Frameworks/Python.framework/Versions/3.11/lib/python3.11/urllib/request.py:634\u001b[0m, in \u001b[0;36mHTTPErrorProcessor.http_response\u001b[0;34m(self, request, response)\u001b[0m\n\u001b[1;32m    633\u001b[0m \u001b[38;5;28;01mif\u001b[39;00m \u001b[38;5;129;01mnot\u001b[39;00m (\u001b[38;5;241m200\u001b[39m \u001b[38;5;241m<\u001b[39m\u001b[38;5;241m=\u001b[39m code \u001b[38;5;241m<\u001b[39m \u001b[38;5;241m300\u001b[39m):\n\u001b[0;32m--> 634\u001b[0m     response \u001b[38;5;241m=\u001b[39m \u001b[38;5;28;43mself\u001b[39;49m\u001b[38;5;241;43m.\u001b[39;49m\u001b[43mparent\u001b[49m\u001b[38;5;241;43m.\u001b[39;49m\u001b[43merror\u001b[49m\u001b[43m(\u001b[49m\n\u001b[1;32m    635\u001b[0m \u001b[43m        \u001b[49m\u001b[38;5;124;43m'\u001b[39;49m\u001b[38;5;124;43mhttp\u001b[39;49m\u001b[38;5;124;43m'\u001b[39;49m\u001b[43m,\u001b[49m\u001b[43m \u001b[49m\u001b[43mrequest\u001b[49m\u001b[43m,\u001b[49m\u001b[43m \u001b[49m\u001b[43mresponse\u001b[49m\u001b[43m,\u001b[49m\u001b[43m \u001b[49m\u001b[43mcode\u001b[49m\u001b[43m,\u001b[49m\u001b[43m \u001b[49m\u001b[43mmsg\u001b[49m\u001b[43m,\u001b[49m\u001b[43m \u001b[49m\u001b[43mhdrs\u001b[49m\u001b[43m)\u001b[49m\n\u001b[1;32m    637\u001b[0m \u001b[38;5;28;01mreturn\u001b[39;00m response\n",
      "File \u001b[0;32m/opt/homebrew/Cellar/python@3.11/3.11.5/Frameworks/Python.framework/Versions/3.11/lib/python3.11/urllib/request.py:563\u001b[0m, in \u001b[0;36mOpenerDirector.error\u001b[0;34m(self, proto, *args)\u001b[0m\n\u001b[1;32m    562\u001b[0m args \u001b[38;5;241m=\u001b[39m (\u001b[38;5;28mdict\u001b[39m, \u001b[38;5;124m'\u001b[39m\u001b[38;5;124mdefault\u001b[39m\u001b[38;5;124m'\u001b[39m, \u001b[38;5;124m'\u001b[39m\u001b[38;5;124mhttp_error_default\u001b[39m\u001b[38;5;124m'\u001b[39m) \u001b[38;5;241m+\u001b[39m orig_args\n\u001b[0;32m--> 563\u001b[0m \u001b[38;5;28;01mreturn\u001b[39;00m \u001b[38;5;28;43mself\u001b[39;49m\u001b[38;5;241;43m.\u001b[39;49m\u001b[43m_call_chain\u001b[49m\u001b[43m(\u001b[49m\u001b[38;5;241;43m*\u001b[39;49m\u001b[43margs\u001b[49m\u001b[43m)\u001b[49m\n",
      "File \u001b[0;32m/opt/homebrew/Cellar/python@3.11/3.11.5/Frameworks/Python.framework/Versions/3.11/lib/python3.11/urllib/request.py:496\u001b[0m, in \u001b[0;36mOpenerDirector._call_chain\u001b[0;34m(self, chain, kind, meth_name, *args)\u001b[0m\n\u001b[1;32m    495\u001b[0m func \u001b[38;5;241m=\u001b[39m \u001b[38;5;28mgetattr\u001b[39m(handler, meth_name)\n\u001b[0;32m--> 496\u001b[0m result \u001b[38;5;241m=\u001b[39m \u001b[43mfunc\u001b[49m\u001b[43m(\u001b[49m\u001b[38;5;241;43m*\u001b[39;49m\u001b[43margs\u001b[49m\u001b[43m)\u001b[49m\n\u001b[1;32m    497\u001b[0m \u001b[38;5;28;01mif\u001b[39;00m result \u001b[38;5;129;01mis\u001b[39;00m \u001b[38;5;129;01mnot\u001b[39;00m \u001b[38;5;28;01mNone\u001b[39;00m:\n",
      "File \u001b[0;32m/opt/homebrew/Cellar/python@3.11/3.11.5/Frameworks/Python.framework/Versions/3.11/lib/python3.11/urllib/request.py:643\u001b[0m, in \u001b[0;36mHTTPDefaultErrorHandler.http_error_default\u001b[0;34m(self, req, fp, code, msg, hdrs)\u001b[0m\n\u001b[1;32m    642\u001b[0m \u001b[38;5;28;01mdef\u001b[39;00m \u001b[38;5;21mhttp_error_default\u001b[39m(\u001b[38;5;28mself\u001b[39m, req, fp, code, msg, hdrs):\n\u001b[0;32m--> 643\u001b[0m     \u001b[38;5;28;01mraise\u001b[39;00m HTTPError(req\u001b[38;5;241m.\u001b[39mfull_url, code, msg, hdrs, fp)\n",
      "\u001b[0;31mHTTPError\u001b[0m: HTTP Error 400: Bad Request",
      "\nDuring handling of the above exception, another exception occurred:\n",
      "\u001b[0;31mAlgodHTTPError\u001b[0m                            Traceback (most recent call last)",
      "Cell \u001b[0;32mIn[9], line 14\u001b[0m\n\u001b[1;32m     12\u001b[0m \u001b[38;5;66;03m# Steps 2+3: sign and send\u001b[39;00m\n\u001b[1;32m     13\u001b[0m stxn \u001b[38;5;241m=\u001b[39m txn\u001b[38;5;241m.\u001b[39msign(Bob[\u001b[38;5;124m'\u001b[39m\u001b[38;5;124mprivate\u001b[39m\u001b[38;5;124m'\u001b[39m])                 \u001b[38;5;66;03m# <-- Bob tries to sign\u001b[39;00m\n\u001b[0;32m---> 14\u001b[0m txid \u001b[38;5;241m=\u001b[39m \u001b[43malgod_client\u001b[49m\u001b[38;5;241;43m.\u001b[39;49m\u001b[43msend_transaction\u001b[49m\u001b[43m(\u001b[49m\u001b[43mstxn\u001b[49m\u001b[43m)\u001b[49m\n\u001b[1;32m     16\u001b[0m \u001b[38;5;66;03m# Step 4: Wait for confirmation\u001b[39;00m\n\u001b[1;32m     17\u001b[0m txinfo \u001b[38;5;241m=\u001b[39m wait_for_confirmation(algod_client, txid)\n",
      "File \u001b[0;32m/opt/homebrew/lib/python3.11/site-packages/algosdk/v2client/algod.py:331\u001b[0m, in \u001b[0;36mAlgodClient.send_transaction\u001b[0;34m(self, txn, **kwargs)\u001b[0m\n\u001b[1;32m    318\u001b[0m \u001b[38;5;250m\u001b[39m\u001b[38;5;124;03m\"\"\"\u001b[39;00m\n\u001b[1;32m    319\u001b[0m \u001b[38;5;124;03mBroadcast a signed transaction object to the network.\u001b[39;00m\n\u001b[1;32m    320\u001b[0m \n\u001b[0;32m   (...)\u001b[0m\n\u001b[1;32m    326\u001b[0m \u001b[38;5;124;03m    str: transaction ID\u001b[39;00m\n\u001b[1;32m    327\u001b[0m \u001b[38;5;124;03m\"\"\"\u001b[39;00m\n\u001b[1;32m    328\u001b[0m \u001b[38;5;28;01massert\u001b[39;00m \u001b[38;5;129;01mnot\u001b[39;00m \u001b[38;5;28misinstance\u001b[39m(\n\u001b[1;32m    329\u001b[0m     txn, transaction\u001b[38;5;241m.\u001b[39mTransaction\n\u001b[1;32m    330\u001b[0m ), \u001b[38;5;124m\"\u001b[39m\u001b[38;5;124mAttempt to send UNSUPPORTED type of transaction \u001b[39m\u001b[38;5;132;01m{}\u001b[39;00m\u001b[38;5;124m\"\u001b[39m\u001b[38;5;241m.\u001b[39mformat(txn)\n\u001b[0;32m--> 331\u001b[0m \u001b[38;5;28;01mreturn\u001b[39;00m \u001b[38;5;28;43mself\u001b[39;49m\u001b[38;5;241;43m.\u001b[39;49m\u001b[43msend_raw_transaction\u001b[49m\u001b[43m(\u001b[49m\n\u001b[1;32m    332\u001b[0m \u001b[43m    \u001b[49m\u001b[43mencoding\u001b[49m\u001b[38;5;241;43m.\u001b[39;49m\u001b[43mmsgpack_encode\u001b[49m\u001b[43m(\u001b[49m\u001b[43mtxn\u001b[49m\u001b[43m)\u001b[49m\u001b[43m,\u001b[49m\u001b[43m \u001b[49m\u001b[38;5;241;43m*\u001b[39;49m\u001b[38;5;241;43m*\u001b[39;49m\u001b[43mkwargs\u001b[49m\n\u001b[1;32m    333\u001b[0m \u001b[43m\u001b[49m\u001b[43m)\u001b[49m\n",
      "File \u001b[0;32m/opt/homebrew/lib/python3.11/site-packages/algosdk/v2client/algod.py:358\u001b[0m, in \u001b[0;36mAlgodClient.send_raw_transaction\u001b[0;34m(self, txn, **kwargs)\u001b[0m\n\u001b[1;32m    352\u001b[0m headers \u001b[38;5;241m=\u001b[39m util\u001b[38;5;241m.\u001b[39mbuild_headers_from(\n\u001b[1;32m    353\u001b[0m     kwargs\u001b[38;5;241m.\u001b[39mget(\u001b[38;5;124m\"\u001b[39m\u001b[38;5;124mheaders\u001b[39m\u001b[38;5;124m\"\u001b[39m, \u001b[38;5;28;01mFalse\u001b[39;00m),\n\u001b[1;32m    354\u001b[0m     {\u001b[38;5;124m\"\u001b[39m\u001b[38;5;124mContent-Type\u001b[39m\u001b[38;5;124m\"\u001b[39m: \u001b[38;5;124m\"\u001b[39m\u001b[38;5;124mapplication/x-binary\u001b[39m\u001b[38;5;124m\"\u001b[39m},\n\u001b[1;32m    355\u001b[0m )\n\u001b[1;32m    356\u001b[0m kwargs[\u001b[38;5;124m\"\u001b[39m\u001b[38;5;124mheaders\u001b[39m\u001b[38;5;124m\"\u001b[39m] \u001b[38;5;241m=\u001b[39m headers\n\u001b[0;32m--> 358\u001b[0m resp \u001b[38;5;241m=\u001b[39m \u001b[38;5;28;43mself\u001b[39;49m\u001b[38;5;241;43m.\u001b[39;49m\u001b[43malgod_request\u001b[49m\u001b[43m(\u001b[49m\u001b[38;5;124;43m\"\u001b[39;49m\u001b[38;5;124;43mPOST\u001b[39;49m\u001b[38;5;124;43m\"\u001b[39;49m\u001b[43m,\u001b[49m\u001b[43m \u001b[49m\u001b[43mreq\u001b[49m\u001b[43m,\u001b[49m\u001b[43m \u001b[49m\u001b[43mdata\u001b[49m\u001b[38;5;241;43m=\u001b[39;49m\u001b[43mtxn_bytes\u001b[49m\u001b[43m,\u001b[49m\u001b[43m \u001b[49m\u001b[38;5;241;43m*\u001b[39;49m\u001b[38;5;241;43m*\u001b[39;49m\u001b[43mkwargs\u001b[49m\u001b[43m)\u001b[49m\n\u001b[1;32m    359\u001b[0m \u001b[38;5;28;01mreturn\u001b[39;00m cast(\u001b[38;5;28mstr\u001b[39m, cast(\u001b[38;5;28mdict\u001b[39m, resp)[\u001b[38;5;124m\"\u001b[39m\u001b[38;5;124mtxId\u001b[39m\u001b[38;5;124m\"\u001b[39m])\n",
      "File \u001b[0;32m/opt/homebrew/lib/python3.11/site-packages/algosdk/v2client/algod.py:111\u001b[0m, in \u001b[0;36mAlgodClient.algod_request\u001b[0;34m(self, method, requrl, params, data, headers, response_format)\u001b[0m\n\u001b[1;32m    109\u001b[0m         e \u001b[38;5;241m=\u001b[39m json\u001b[38;5;241m.\u001b[39mloads(es)[\u001b[38;5;124m\"\u001b[39m\u001b[38;5;124mmessage\u001b[39m\u001b[38;5;124m\"\u001b[39m]\n\u001b[1;32m    110\u001b[0m     \u001b[38;5;28;01mfinally\u001b[39;00m:\n\u001b[0;32m--> 111\u001b[0m         \u001b[38;5;28;01mraise\u001b[39;00m error\u001b[38;5;241m.\u001b[39mAlgodHTTPError(e, code)\n\u001b[1;32m    112\u001b[0m \u001b[38;5;28;01mif\u001b[39;00m response_format \u001b[38;5;241m==\u001b[39m \u001b[38;5;124m\"\u001b[39m\u001b[38;5;124mjson\u001b[39m\u001b[38;5;124m\"\u001b[39m:\n\u001b[1;32m    113\u001b[0m     \u001b[38;5;28;01mtry\u001b[39;00m:\n",
      "\u001b[0;31mAlgodHTTPError\u001b[0m: TransactionPool.Remember: transaction VSPDXCX5IDLQMGJ7HCDVAOINT7WJEJMK6JFHWYOOCH7NJBHJWI5Q: should have been authorized by CHARLS5INIT5KOLDK3F2QAZXY7N4W7GOE6UTXHEHS3RBNCR2WJXRRTH3GY but was actually authorized by BOB23JBQLW3AJREEG3KD7ULMAGYGVZ2LVF2OMZ2XBJIR64NO5P24XN7WEU"
     ]
    }
   ],
   "source": [
    "# Step 1: prepare special transaction\n",
    "\n",
    "sp = algod_client.suggested_params()\n",
    "amt = int(1.7*1E6)                                \n",
    "\n",
    "txn = PaymentTxn(sender = Bob['public'],         # <-- From Bob\n",
    "                 sp = sp, \n",
    "                 receiver = Dina['public'],       # <-- To Dina \n",
    "                 amt = amt\n",
    "                )\n",
    "\n",
    "# Steps 2+3: sign and send\n",
    "stxn = txn.sign(Bob['private'])                 # <-- Bob tries to sign\n",
    "txid = algod_client.send_transaction(stxn)\n",
    "\n",
    "# Step 4: Wait for confirmation\n",
    "txinfo = wait_for_confirmation(algod_client, txid)"
   ]
  },
  {
   "cell_type": "markdown",
   "metadata": {},
   "source": [
    "#### ❗️Charlie rekeys back to Bob\n",
    "* Charlie rekeys the Bob account back to Bob\n",
    "* **Important step for the rest of the course**"
   ]
  },
  {
   "cell_type": "code",
   "execution_count": 10,
   "metadata": {},
   "outputs": [],
   "source": [
    "# Step 1: prepare special transaction\n",
    "sp = algod_client.suggested_params()\n",
    "amt = 0                                          # <-- Rekeying = send 0 ALGOs\n",
    "\n",
    "txn = PaymentTxn(sender = Bob['public'],         # <- We rekey the Bob account\n",
    "                 sp = sp, \n",
    "                 receiver = Dina['public'],      # <-- (any recipeint, as it is a zero-amount transaction)\n",
    "                 amt = amt,\n",
    "                 rekey_to = Bob['public']        # <-- Bob should (again) be able to sign for himself\n",
    "                )"
   ]
  },
  {
   "cell_type": "code",
   "execution_count": 11,
   "metadata": {},
   "outputs": [],
   "source": [
    "# Steps 2+3: sign and send\n",
    "stxn = txn.sign(Charlie['private'])              # <-- Charlie signs the rekeying (one last time)\n",
    "txid = algod_client.send_transaction(stxn)"
   ]
  },
  {
   "cell_type": "code",
   "execution_count": 12,
   "metadata": {},
   "outputs": [
    {
     "name": "stdout",
     "output_type": "stream",
     "text": [
      "Current round is  38992404.\n",
      "Waiting for round 38992404 to finish.\n",
      "Waiting for round 38992405 to finish.\n",
      "Transaction W3V75ZPYPRC6NUH6OKLOUNUIW72YDUWQN2CVH7X4VBQEQSWXTWLQ confirmed in round 38992406.\n"
     ]
    }
   ],
   "source": [
    "# Step 4: Wait for confirmation\n",
    "txinfo = wait_for_confirmation(algod_client, txid)"
   ]
  },
  {
   "cell_type": "markdown",
   "metadata": {},
   "source": [
    "#### Exercise\n",
    "* To test the rekeying, run the payment transactions above again\n",
    "    * Charlie cannot sign for Bob anymore\n",
    "    * Bob can sign again for himself"
   ]
  },
  {
   "cell_type": "markdown",
   "metadata": {},
   "source": [
    "## ❗️Things that can and will go wrong\n",
    "* Be sure if you trust the new signature holder\n",
    "* You cannot rekey back to yourself\n",
    "* **Rekeying can be easily slipped into a payment transaction**\n",
    "* Wrong address or typo in rekey means you loose all your money\n",
    "    * The protocol does not check whether you or someone has actually access to the rekey address"
   ]
  }
 ],
 "metadata": {
  "kernelspec": {
   "display_name": "Python 3 (ipykernel)",
   "language": "python",
   "name": "python3"
  },
  "language_info": {
   "codemirror_mode": {
    "name": "ipython",
    "version": 3
   },
   "file_extension": ".py",
   "mimetype": "text/x-python",
   "name": "python",
   "nbconvert_exporter": "python",
   "pygments_lexer": "ipython3",
   "version": "3.11.5"
  }
 },
 "nbformat": 4,
 "nbformat_minor": 4
}
