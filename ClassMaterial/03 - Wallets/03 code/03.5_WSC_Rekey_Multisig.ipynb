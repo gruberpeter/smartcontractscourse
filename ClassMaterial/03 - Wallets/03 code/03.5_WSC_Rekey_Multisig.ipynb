{
 "cells": [
  {
   "cell_type": "markdown",
   "metadata": {},
   "source": [
    "## Passing Authority: Multisig accounts and Rekeying\n",
    "#### 03.5 Writing Smart Contracts\n",
    "##### Peter Gruber (peter.gruber@usi.ch)\n",
    "2022-02-02\n",
    "\n",
    "See also: https://developer.algorand.org/tutorials/creating-python-transaction-purestake-api/\n",
    "\n",
    "- Load credentials\n",
    "- Create our own QR code for payments\n",
    "- Interact with the blockchain and execute a payment from Python"
   ]
  },
  {
   "cell_type": "markdown",
   "metadata": {
    "tags": []
   },
   "source": [
    "## Setup\n",
    "Starting with chapter 3.4, the lines below will always automatically load ...\n",
    "* The functions in `algo_util.py`\n",
    "* The accounts MyAlgo, Alice and Bob\n",
    "* The Purestake credentials"
   ]
  },
  {
   "cell_type": "code",
   "execution_count": null,
   "metadata": {},
   "outputs": [],
   "source": [
    "# Loading shared code and credentials\n",
    "import sys, os\n",
    "codepath = '..'+os.path.sep+'..'+os.path.sep+'sharedCode'\n",
    "sys.path.append(codepath)\n",
    "from algo_util import *\n",
    "cred = load_credentials()\n",
    "\n",
    "# Shortcuts to directly access the main accounts\n",
    "MyAlgo  = cred['MyAlgo']\n",
    "Alice   = cred['Alice']\n",
    "Bob     = cred['Bob']\n",
    "Charlie = cred['Charlie']\n",
    "Dina    = cred['Dina']"
   ]
  },
  {
   "cell_type": "code",
   "execution_count": null,
   "metadata": {},
   "outputs": [],
   "source": [
    "from algosdk import account, mnemonic\n",
    "from algosdk.v2client import algod\n",
    "from algosdk.future.transaction import PaymentTxn, MultisigTransaction\n",
    "from algosdk.future.transaction import AssetConfigTxn, AssetTransferTxn, AssetFreezeTxn\n",
    "import algosdk.error\n",
    "import json"
   ]
  },
  {
   "cell_type": "code",
   "execution_count": null,
   "metadata": {},
   "outputs": [],
   "source": [
    "# Initialize the algod client (Testnet or Mainnet)\n",
    "algod_client = algod.AlgodClient(algod_token='', algod_address=cred['algod_test'], headers=cred['purestake_token'])"
   ]
  },
  {
   "cell_type": "code",
   "execution_count": null,
   "metadata": {},
   "outputs": [],
   "source": [
    "print(MyAlgo['public'])\n",
    "print(Alice['public'])\n",
    "print(Bob['public'])\n",
    "print(Charlie['public'])\n",
    "print(Dina['public'])"
   ]
  },
  {
   "cell_type": "markdown",
   "metadata": {},
   "source": [
    "## Multisig account\n",
    "Alice, Bob and Charlie create a multisig account, \n",
    "with the requirement that at least 2 out of 3 have to sign."
   ]
  },
  {
   "cell_type": "markdown",
   "metadata": {},
   "source": [
    "#### Step 1: Create the Multisig account\n",
    "* Using the new command `Multisig`"
   ]
  },
  {
   "cell_type": "code",
   "execution_count": null,
   "metadata": {},
   "outputs": [],
   "source": [
    "from algosdk.future.transaction import Multisig\n",
    "\n",
    "# create a multisig account\n",
    "version   = 1     # multisig version, currently always 1\n",
    "threshold = 2     # min 2 signatures required\n",
    "\n",
    "account_list = [Alice['public'], Bob['public'], Charlie['public']]\n",
    "\n",
    "msig = Multisig(version, threshold, account_list)\n",
    "msig_address = msig.address()\n",
    "\n",
    "print(\"Multisig Address: \", msig_address)\n",
    "print('https://testnet.algoexplorer.io/address/'+msig_address)"
   ]
  },
  {
   "cell_type": "markdown",
   "metadata": {},
   "source": [
    "#### Step 2: Fund the multisig account\n",
    "* Can be funded via PaymentTxn\n",
    "* Here we fund from (yet another) dispenser for free ALGOs"
   ]
  },
  {
   "cell_type": "code",
   "execution_count": null,
   "metadata": {},
   "outputs": [],
   "source": [
    "print('https://dispenser.testnet.aws.algodev.network/?account='+msig_address)"
   ]
  },
  {
   "cell_type": "markdown",
   "metadata": {
    "tags": []
   },
   "source": [
    "#### Step 3: Make a Multisig payment transaction\n",
    "* Together, they want to send 1.2 ALGOs to Dina\n",
    "* Alice and Bob sign the transaction"
   ]
  },
  {
   "cell_type": "code",
   "execution_count": null,
   "metadata": {},
   "outputs": [],
   "source": [
    "sp = algod_client.suggested_params()\n",
    "amt = int(1.2*1E6)\n",
    "\n",
    "txn = PaymentTxn(sender=msig_address,         # <-- From Multisig address\n",
    "                 sp=sp, \n",
    "                 receiver=Dina['public'], \n",
    "                 amt = amt\n",
    "                )"
   ]
  },
  {
   "cell_type": "markdown",
   "metadata": {},
   "source": [
    "#### Step 4: Create a multisig object and sign it"
   ]
  },
  {
   "cell_type": "code",
   "execution_count": null,
   "metadata": {},
   "outputs": [],
   "source": [
    "# Create multisig object\n",
    "mtx = MultisigTransaction(txn, msig)\n",
    "\n",
    "# Collect at least 2 signatures\n",
    "mtx.sign(Alice['private'])\n",
    "mtx.sign(Bob['private'])"
   ]
  },
  {
   "cell_type": "markdown",
   "metadata": {},
   "source": [
    "#### Step 5: Send the transaction"
   ]
  },
  {
   "cell_type": "code",
   "execution_count": null,
   "metadata": {},
   "outputs": [],
   "source": [
    "txid = algod_client.send_transaction(mtx)\n",
    "print(\"Send transaction with txID: {}\".format(txid))"
   ]
  },
  {
   "cell_type": "markdown",
   "metadata": {},
   "source": [
    "#### Step 6: Wait for confirmation"
   ]
  },
  {
   "cell_type": "code",
   "execution_count": null,
   "metadata": {},
   "outputs": [],
   "source": [
    "txinfo = wait_for_confirmation(algod_client, txid)"
   ]
  },
  {
   "cell_type": "markdown",
   "metadata": {},
   "source": [
    "#### Check Dina's holdings"
   ]
  },
  {
   "cell_type": "code",
   "execution_count": null,
   "metadata": {},
   "outputs": [],
   "source": [
    "print('https://testnet.algoexplorer.io/address/'+Dina['public'])"
   ]
  },
  {
   "cell_type": "markdown",
   "metadata": {},
   "source": [
    "#### Exercise\n",
    "* Repeat steps 3-6 with Alice and Charlie signing the transaction\n",
    "* Repeat steps 3-6 with Alice, Bob and Charlie signing \n",
    "* Repeat steps 3-6 with only Alice signing"
   ]
  },
  {
   "cell_type": "markdown",
   "metadata": {},
   "source": [
    "## Rekeying\n",
    "Case 1\n",
    "* Imagine your private key has been compromised\n",
    "* You have lots of assets and maybe ongoing smart contracts with this address\n",
    "* So you want to \"change the password\"\n",
    "\n",
    "Case 2\n",
    "* Bob is very busy and wants Charlie to sign for him"
   ]
  },
  {
   "cell_type": "markdown",
   "metadata": {},
   "source": [
    "#### Bob rekeys to Charlie\n",
    "Rekeying is done via a simple payment transaction of 0 ALGOs, that has an additional rekey entry"
   ]
  },
  {
   "cell_type": "code",
   "execution_count": null,
   "metadata": {},
   "outputs": [],
   "source": [
    "# Step 1: prepare special transaction\n",
    "sp = algod_client.suggested_params()\n",
    "amt = 0                                          # <-- Bob does not want to send any ALGOs\n",
    "\n",
    "txn = PaymentTxn(sender = Bob['public'],         # <-- The address which is rekeyed\n",
    "                 sp = sp, \n",
    "                 receiver = Bob['public'],       # <-- The address which is rekeyed \n",
    "                 amt = amt,\n",
    "                 rekey_to = Charlie['public']    # <-- Charlie should be able to sign for Bob\n",
    "                )"
   ]
  },
  {
   "cell_type": "code",
   "execution_count": null,
   "metadata": {},
   "outputs": [],
   "source": [
    "# Steps 2+3: sign and send\n",
    "stxn = txn.sign(Bob['private'])                 # <-- Bob signs one last time\n",
    "txid = algod_client.send_transaction(stxn)"
   ]
  },
  {
   "cell_type": "code",
   "execution_count": null,
   "metadata": {},
   "outputs": [],
   "source": [
    "# Step 4: Wait for confirmation\n",
    "txinfo = wait_for_confirmation(algod_client, txid)"
   ]
  },
  {
   "cell_type": "markdown",
   "metadata": {},
   "source": [
    "#### Charlie signs for Bob\n",
    "* Charlie makes a payment of 1.4 ALGO to Alice out of Bob's account"
   ]
  },
  {
   "cell_type": "code",
   "execution_count": null,
   "metadata": {},
   "outputs": [],
   "source": [
    "# Step 1: prepare transaction\n",
    "sp = algod_client.suggested_params()\n",
    "amt = int(1.4*1E6)                                \n",
    "\n",
    "txn = PaymentTxn(sender = Bob['public'],           # <-- From Bob\n",
    "                 sp = sp, \n",
    "                 receiver = Alice['public'],       # <-- To Alice \n",
    "                 amt = amt\n",
    "                 )\n",
    "\n",
    "# Steps 2+3: sign and send\n",
    "stxn = txn.sign(Charlie['private'])                # <-- Charlie now signs for Bob\n",
    "txid = algod_client.send_transaction(stxn)\n",
    "\n",
    "# Step 4: Wait for confirmation\n",
    "txinfo = wait_for_confirmation(algod_client, txid)"
   ]
  },
  {
   "cell_type": "markdown",
   "metadata": {},
   "source": [
    "#### Bob cannot sign for himself\n",
    "* Bob wants to make a payment of 1.7 ALGO to Dina"
   ]
  },
  {
   "cell_type": "code",
   "execution_count": null,
   "metadata": {},
   "outputs": [],
   "source": [
    "# Step 1: prepare special transaction\n",
    "\n",
    "sp = algod_client.suggested_params()\n",
    "amt = int(1.7*1E6)                                \n",
    "\n",
    "txn = PaymentTxn(sender = Bob['public'],         # <-- From Bob\n",
    "                 sp = sp, \n",
    "                 receiver = Bob['public'],       # <-- To Dina \n",
    "                 amt = amt\n",
    "                )\n",
    "\n",
    "# Steps 2+3: sign and send\n",
    "stxn = txn.sign(Bob['private'])                 # <-- Bob tries to sign\n",
    "txid = algod_client.send_transaction(stxn)\n",
    "\n",
    "# Step 4: Wait for confirmation\n",
    "txinfo = wait_for_confirmation(algod_client, txid)"
   ]
  },
  {
   "cell_type": "markdown",
   "metadata": {},
   "source": [
    "#### Charlie rekeys back to Bob\n",
    "* Charlie rekeys the Bob account back to Bob\n",
    "* Important not to mess up the rest of the course material"
   ]
  },
  {
   "cell_type": "code",
   "execution_count": null,
   "metadata": {},
   "outputs": [],
   "source": [
    "# Step 1: prepare special transaction\n",
    "sp = algod_client.suggested_params()\n",
    "amt = 0                                          # <-- Rekeying = send 0 ALGOs\n",
    "\n",
    "txn = PaymentTxn(sender = Bob['public'],         # <-- The address which is rekeyed\n",
    "                 sp = sp, \n",
    "                 receiver = Bob['public'],       # <-- The address which is rekeyed \n",
    "                 amt = amt,\n",
    "                 rekey_to = Bob['public']        # <-- Bob should (again) be able to sign for himself\n",
    "                )"
   ]
  },
  {
   "cell_type": "code",
   "execution_count": null,
   "metadata": {},
   "outputs": [],
   "source": [
    "# Steps 2+3: sign and send\n",
    "stxn = txn.sign(Charlie['private'])              # <-- Charlie signs the rekeying\n",
    "txid = algod_client.send_transaction(stxn)"
   ]
  },
  {
   "cell_type": "code",
   "execution_count": null,
   "metadata": {},
   "outputs": [],
   "source": [
    "# Step 4: Wait for confirmation\n",
    "txinfo = wait_for_confirmation(algod_client, txid)"
   ]
  },
  {
   "cell_type": "markdown",
   "metadata": {},
   "source": [
    "#### Test the rekeying\n",
    "* To test the rekeying, run the payment transactions above again\n",
    "    * Charlie cannot sign for Bob anymore\n",
    "    * Bob can sign again for himself"
   ]
  },
  {
   "cell_type": "markdown",
   "metadata": {},
   "source": [
    "## Things that can and will go wrong\n",
    "* Be sure if you trust the new signature holder\n",
    "* Wrong address or typo in rekey means you loose all your money\n",
    "    * The protocol does not check whether you or someone has actually access to the rekey address"
   ]
  }
 ],
 "metadata": {
  "kernelspec": {
   "display_name": "Python 3",
   "language": "python",
   "name": "python3"
  },
  "language_info": {
   "codemirror_mode": {
    "name": "ipython",
    "version": 3
   },
   "file_extension": ".py",
   "mimetype": "text/x-python",
   "name": "python",
   "nbconvert_exporter": "python",
   "pygments_lexer": "ipython3",
   "version": "3.8.8"
  }
 },
 "nbformat": 4,
 "nbformat_minor": 4
}
