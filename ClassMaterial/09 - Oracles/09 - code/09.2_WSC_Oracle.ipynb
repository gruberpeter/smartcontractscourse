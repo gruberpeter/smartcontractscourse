{
 "cells": [
  {
   "cell_type": "markdown",
   "metadata": {
    "tags": []
   },
   "source": [
    "## A stateless oracle (2): the oracle coin and oracle accounts\n",
    "#### 09.2 Winter School on Smart Contracts\n",
    "##### Peter Gruber (peter.gruber@usi.ch)\n",
    "2022-02-15\n",
    "* Part 2: Create the Oracle Coin\n",
    "* Parts 1-4 are only relevant if you want to **create** an Oracle\n",
    "* Only parts 5-6 are needed to **use** the oracle."
   ]
  },
  {
   "cell_type": "markdown",
   "metadata": {
    "tags": []
   },
   "source": [
    "## Setup\n",
    "See notebook 04.1, the lines below will always automatically load functions in `algo_util.py`, the five accounts and the Purestake credentials"
   ]
  },
  {
   "cell_type": "code",
   "execution_count": 1,
   "metadata": {
    "tags": []
   },
   "outputs": [],
   "source": [
    "# Loading shared code and credentials\n",
    "import sys, os\n",
    "\n",
    "codepath = '..'+os.path.sep+'..'+os.path.sep+'sharedCode'\n",
    "sys.path.append(codepath)\n",
    "from algo_util import *\n",
    "cred = load_credentials()\n",
    "\n",
    "# Shortcuts to directly access the 3 main accounts\n",
    "MyAlgo  = cred['MyAlgo']\n",
    "Alice   = cred['Alice']\n",
    "Bob     = cred['Bob']\n",
    "Charlie = cred['Charlie']\n",
    "Dina    = cred['Dina']"
   ]
  },
  {
   "cell_type": "code",
   "execution_count": 2,
   "metadata": {
    "tags": []
   },
   "outputs": [],
   "source": [
    "from algosdk import account, mnemonic\n",
    "from algosdk.v2client import algod\n",
    "from algosdk.future import transaction\n",
    "from algosdk.future.transaction import PaymentTxn\n",
    "from algosdk.future.transaction import AssetConfigTxn, AssetTransferTxn, AssetFreezeTxn\n",
    "from algosdk.future.transaction import LogicSig\n",
    "\n",
    "import algosdk.error\n",
    "import json\n",
    "import base64\n",
    "import hashlib"
   ]
  },
  {
   "cell_type": "code",
   "execution_count": 3,
   "metadata": {
    "tags": []
   },
   "outputs": [],
   "source": [
    "from pyteal import *"
   ]
  },
  {
   "cell_type": "code",
   "execution_count": 4,
   "metadata": {
    "tags": []
   },
   "outputs": [],
   "source": [
    "# Initialize the algod client (Testnet or Mainnet)\n",
    "algod_client = algod.AlgodClient(algod_token='', algod_address=cred['algod_test'], headers=cred['purestake_token'])"
   ]
  },
  {
   "cell_type": "code",
   "execution_count": 5,
   "metadata": {
    "collapsed": true,
    "jupyter": {
     "outputs_hidden": true
    },
    "tags": []
   },
   "outputs": [
    {
     "name": "stdout",
     "output_type": "stream",
     "text": [
      "VK6CCXY4IFHIJAVMRVS543LJQEQKOJO6YQ4DZNV3D2XJI4ETYBN5354EQU\n",
      "CPUT3Z5CI3XOIZ4ARSGUFQD7V4YGYJW5BFAZMXX5YOV4KJCKI6MBCDY5XM\n",
      "BY5K2AYO7R3G66ICY6SJ2JFVLRMIX677EAEEKDBTJZGP6Q4JVNZRDXDBKA\n"
     ]
    }
   ],
   "source": [
    "print(Alice['public'])\n",
    "print(Bob['public'])\n",
    "print(Charlie['public'])"
   ]
  },
  {
   "cell_type": "code",
   "execution_count": 6,
   "metadata": {
    "tags": []
   },
   "outputs": [],
   "source": [
    "import json\n",
    "import requests\n",
    "import pandas as pd\n",
    "import numpy as np\n",
    "import time"
   ]
  },
  {
   "cell_type": "markdown",
   "metadata": {},
   "source": [
    "## Create Oracle Coin and Oracle Accounts\n",
    "\n",
    "Alice wants to provide an oracle for the USD/ALGO exchange rate on the Algorand chain. The price will be encoded in the holdings of two accounts. First, she creates the oracle coin. This coin will not be used to *pay* for the oracle, in fact it will never go into circulation. The holdings of the coin will be used as information on the price.\n",
    "\n",
    "* Total of 1'000 Oracle coins exist, with 6 decimals\n",
    "* Oracle coin is held by only 2 accounts: `Price` and `Reserve`\n",
    "* Number of coins in `Price` is equal to the USD/ALGO exchange rate\n",
    "    * Example: ALGO price is 0.82 Dollars\n",
    "    * `Price` holds 0.82 Oracle Coins (=82'000 micro-Oracles)\n",
    "    * As the `Price` holds all \"free\" coins, **the free float is equal to the exchange rate**\n",
    "    * Spare Coins held by `Reserve`, in our example 999.18 Coins"
   ]
  },
  {
   "cell_type": "markdown",
   "metadata": {},
   "source": [
    "### Step 1: Create of Oracle coin"
   ]
  },
  {
   "cell_type": "code",
   "execution_count": null,
   "metadata": {},
   "outputs": [],
   "source": [
    "# Step 1: prepare AssetConfigTxn\n",
    "sp = algod_client.suggested_params()\n",
    "token_supply = 1000                              # Token supply (big units)\n",
    "token_decimals =  6                              # Digits after the comma\n",
    "token_total = token_supply * 10**token_decimals  # Specify number of SMALLER unit (\"cents\")\n",
    "\n",
    "token_name  = \"USD/Algo Oracle coin\"\n",
    "token_url   = \"https://www.coingecko.com/en/coins/algorand\"\n",
    "token_unit  = \"USDALGO\"\n",
    "\n",
    "txn = AssetConfigTxn(\n",
    "    sender=Alice['public'],                    # Creator of the ASA\n",
    "    sp=sp,                      \n",
    "    total=token_total,                         # Total supply in SMALL unit\n",
    "    decimals=token_decimals,                   # Decimals\n",
    "    default_frozen=False,                      # Are tokens frozen by default?\n",
    "    unit_name=token_unit,                      # Abbreviation     \n",
    "    asset_name=token_name,                     # Name\n",
    "    url=token_url,                             # URL\n",
    "    manager=Alice['public'],                   # Special roles (later more)\n",
    "    reserve=Alice['public'],                   # Special roles\n",
    "    freeze=Alice['public'],                    # Special roles\n",
    "    clawback=Alice['public']                   # Special roles\n",
    ")\n",
    "\n",
    "### Step 2+3+4: Sign, send, wait\n",
    "stxn = txn.sign(Alice['private'])\n",
    "txid = algod_client.send_transaction(stxn)\n",
    "txinfo = wait_for_confirmation(algod_client,txid)"
   ]
  },
  {
   "cell_type": "code",
   "execution_count": null,
   "metadata": {},
   "outputs": [],
   "source": [
    "# Step 5:  Get the asset ID\n",
    "oracle_id = txinfo['asset-index']\n",
    "print(oracle_id)"
   ]
  },
  {
   "cell_type": "code",
   "execution_count": null,
   "metadata": {},
   "outputs": [],
   "source": [
    "# Create a link\n",
    "print('https://testnet.algoexplorer.io/asset/{}'.format(oracle_id))"
   ]
  },
  {
   "cell_type": "markdown",
   "metadata": {},
   "source": [
    "### Step 2: Create two accounts `Price` and `Reserve`\n",
    "\n",
    "#### Transactions with \"Price\" and \"Reserve\"\n",
    "* We are going to execute two types of transactions with the over/under accounts\n",
    "    1. Technical operations of the oracle\n",
    "        * Opt-in\n",
    "        * Update the holdings\n",
    "    2. Transactions where the oracle is used\n",
    "\n",
    "#### The idea of a signed smart signature\n",
    "* For (1), it is clear that we prefer a Smart Signature, so that anybody can use the Oracle.\n",
    "* For (2), having to implement all cases of opt-in and updating is a hassle in a Smart Signature.\n",
    "* For this reason, we create a signed smart signature\n",
    "    * First we create two simple accounts `Price` and `Reserve`\n",
    "    * `Price` and `Reserve` can sign special operations such as opt-in – case (1)\n",
    "    * In the next notebook, we crate a signed Smart Signature for the oracle transactions – case (2)"
   ]
  },
  {
   "cell_type": "markdown",
   "metadata": {},
   "source": [
    "### 2.1 Create accounts\n",
    "* Create two new accounts from scratch\n",
    "* Save credentials to hard drive for deployment to the Linux server later"
   ]
  },
  {
   "cell_type": "code",
   "execution_count": 24,
   "metadata": {},
   "outputs": [],
   "source": [
    "Price = generate_account_dict()\n",
    "Reserve = generate_account_dict()"
   ]
  },
  {
   "cell_type": "code",
   "execution_count": null,
   "metadata": {},
   "outputs": [],
   "source": [
    "print(Price['public'])\n",
    "print(Reserve['public'])"
   ]
  },
  {
   "cell_type": "code",
   "execution_count": 33,
   "metadata": {},
   "outputs": [],
   "source": [
    "# Credentials for Linux server; save to hard drive\n",
    "cred_oracle = {\"Price\": Price,\n",
    "               \"Reserve\": Reserve, \n",
    "               \"purestake_token\": cred['purestake_token'], \n",
    "               \"algod_test\": cred['algod_test'], \n",
    "               \"algod_main\": cred['algod_main'],\n",
    "               \"oracle_id\": oracle_id}\n",
    "\n",
    "cred_json = json.dumps(cred_oracle,indent=4)\n",
    "\n",
    "filename = 'credentials_oracle'           # saved in SAME folder as this notebook\n",
    "with open(filename, 'w') as outfile:      # option 'w' ensures overwriting of existing file\n",
    "    outfile.write(cred_json)"
   ]
  },
  {
   "cell_type": "markdown",
   "metadata": {},
   "source": [
    "### 2.2 Funding and Opt-in transactions"
   ]
  },
  {
   "cell_type": "markdown",
   "metadata": {},
   "source": [
    "#### Funding\n",
    "* New accounts must be funded so that they can pay for TX cost and have minimum holdings\n",
    "* Add some more funding for future TX cost"
   ]
  },
  {
   "cell_type": "code",
   "execution_count": 41,
   "metadata": {},
   "outputs": [
    {
     "name": "stdout",
     "output_type": "stream",
     "text": [
      "Current round is  20362479.\n",
      "Waiting for round 20362479 to finish.\n",
      "Waiting for round 20362480 to finish.\n",
      "Transaction CJMPGBHQOEAGFBRTGBNDTGABV3WBG7BNC4GTEDAPG2T4QQEYFMSA confirmed in round 20362481.\n",
      "Current round is  20362481.\n",
      "Waiting for round 20362481 to finish.\n",
      "Waiting for round 20362482 to finish.\n",
      "Transaction AEKWS3JAKSURV2NFSX6EHQ64MLVHSMS2FXHT5AO3VTZSG2I4G2WQ confirmed in round 20362483.\n"
     ]
    }
   ],
   "source": [
    "for receiver in [Price, Reserve]:\n",
    "    # Step 1: prepare\n",
    "    sp = algod_client.suggested_params()\n",
    "    amt = int(1e6)\n",
    "    txn = PaymentTxn(sender = Alice['public'],sp=sp,\n",
    "                     receiver=receiver['public'],amt=amt)                               \n",
    "    # Step 2+3+4: sign, send, wait for ...\n",
    "    stxn = txn.sign(Alice['private'])\n",
    "    txid = algod_client.send_transaction(stxn)\n",
    "    txinfo = wait_for_confirmation(algod_client,txid)"
   ]
  },
  {
   "cell_type": "markdown",
   "metadata": {},
   "source": [
    "#### Opt into Oracle Coin\n",
    "* Standard opt-in transaction (transfer zero coins to yourself)\n",
    "* Organised as a for-loop for efficiency and elegance"
   ]
  },
  {
   "cell_type": "code",
   "execution_count": 43,
   "metadata": {},
   "outputs": [
    {
     "name": "stdout",
     "output_type": "stream",
     "text": [
      "Current round is  20362509.\n",
      "Waiting for round 20362509 to finish.\n",
      "Waiting for round 20362510 to finish.\n",
      "Transaction NBZHJNVM2JT6STZCW5UWNHODAT4IOK5HBZQ3TDRF2IWG7NOLHE6Q confirmed in round 20362511.\n",
      "Current round is  20362511.\n",
      "Waiting for round 20362511 to finish.\n",
      "Waiting for round 20362512 to finish.\n",
      "Transaction ALV5NTKCK4THMEU7ZXWZZPHM56P3ACZELXSPZP3SQVFXK6SCXNYQ confirmed in round 20362513.\n"
     ]
    }
   ],
   "source": [
    "for account in [Price, Reserve]:\n",
    "    # Step 1: prepare\n",
    "    sp = algod_client.suggested_params()          # Suggested params\n",
    "    amt = int(0)                                  # <-- Send 0 coins for opt in\n",
    "\n",
    "    txn = AssetTransferTxn(\n",
    "        sender=account['public'],                 # <-- from account ...\n",
    "        sp=sp,\n",
    "        receiver=account['public'],               # <-- ... to self\n",
    "        amt=amt,                                  # <-- Zero coins\n",
    "        index=oracle_id                           # <-- Specify which ASA\n",
    "    )                               \n",
    "\n",
    "    # Step 2+3+4: sign, send, wait for ...\n",
    "    stxn = txn.sign(account['private'])\n",
    "    txid = algod_client.send_transaction(stxn)\n",
    "    txinfo = wait_for_confirmation(algod_client,txid)"
   ]
  },
  {
   "cell_type": "markdown",
   "metadata": {},
   "source": [
    "### 2.3 Transfer\n",
    "* Alice transfers all coins to the Reserve account\n",
    "* This corresponds to a, oracle price of zero\n",
    "* The correct balances will be established in the 09.3 notebook"
   ]
  },
  {
   "cell_type": "code",
   "execution_count": null,
   "metadata": {},
   "outputs": [],
   "source": [
    "# Step 1: prepare\n",
    "sp = algod_client.suggested_params()          # Suggested params\n",
    "\n",
    "txn = AssetTransferTxn(\n",
    "    sender=Alice['public'], \n",
    "    sp=sp,\n",
    "    receiver=Reserve['public'], \n",
    "    amt=int(token_total),                     # 1000 coins in small units\n",
    "    index=oracle_id \n",
    ")                               \n",
    "\n",
    "# Step 2+3+4: sign, send, wait for ...\n",
    "stxn = txn.sign(Alice['private'])\n",
    "txid = algod_client.send_transaction(stxn)\n",
    "txinfo = wait_for_confirmation(algod_client,txid)"
   ]
  },
  {
   "cell_type": "markdown",
   "metadata": {},
   "source": [
    "### 2.3 Alice designates `Reserve` as the Reserve for the oracle coin\n",
    "* This small step makes it possible to read the current oracle price as \"circulating supply\" on algoexplorer\n",
    "    * Why? Because the only account other from Reserve that holds oracle coins is the Price account"
   ]
  },
  {
   "cell_type": "code",
   "execution_count": 9,
   "metadata": {},
   "outputs": [
    {
     "name": "stdout",
     "output_type": "stream",
     "text": [
      "Current round is  20421491.\n",
      "Waiting for round 20421491 to finish.\n",
      "Waiting for round 20421492 to finish.\n",
      "Transaction 2FCJ7A5YPLPFBNCCZHUN27EX2EIRS2DAERC6H3OBWQ2WGUSLRGFA confirmed in round 20421493.\n"
     ]
    }
   ],
   "source": [
    "# Step 1: prepare AssetConfigTxn\n",
    "sp = algod_client.suggested_params()\n",
    "\n",
    "txn = AssetConfigTxn(\n",
    "    sender=Alice['public'],                   # Creator of the ASA\n",
    "    sp=sp, \n",
    "    index=oracle_id,     \n",
    "    manager=Alice['public'],                   \n",
    "    reserve=Reserve['public'],                # <--- new reserve\n",
    "    freeze=Alice['public'],                    \n",
    "    clawback=Alice['public']                   \n",
    ")\n",
    "\n",
    "### Step 2+3+4: Sign, send, wait\n",
    "stxn = txn.sign(Alice['private'])\n",
    "txid = algod_client.send_transaction(stxn)\n",
    "txinfo = wait_for_confirmation(algod_client,txid)"
   ]
  },
  {
   "cell_type": "markdown",
   "metadata": {},
   "source": [
    "## Updated information about the oracle coin\n",
    "* Circulating supply corresponds to current price\n",
    "* At the moment, this is zero"
   ]
  },
  {
   "cell_type": "code",
   "execution_count": 76,
   "metadata": {},
   "outputs": [
    {
     "name": "stdout",
     "output_type": "stream",
     "text": [
      "https://testnet.algoexplorer.io/asset/77534697\n"
     ]
    }
   ],
   "source": [
    "print('https://testnet.algoexplorer.io/asset/{}'.format(oracle_id))"
   ]
  }
 ],
 "metadata": {
  "kernelspec": {
   "display_name": "Python 3",
   "language": "python",
   "name": "python3"
  },
  "language_info": {
   "codemirror_mode": {
    "name": "ipython",
    "version": 3
   },
   "file_extension": ".py",
   "mimetype": "text/x-python",
   "name": "python",
   "nbconvert_exporter": "python",
   "pygments_lexer": "ipython3",
   "version": "3.7.6"
  }
 },
 "nbformat": 4,
 "nbformat_minor": 5
}
