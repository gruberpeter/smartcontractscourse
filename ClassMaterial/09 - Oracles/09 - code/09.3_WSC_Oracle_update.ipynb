{
 "cells": [
  {
   "cell_type": "markdown",
   "metadata": {
    "tags": []
   },
   "source": [
    "## A stateless oracle (3): keeping the oracle up to date\n",
    "#### 09.3 Winter School on Smart Contracts\n",
    "##### Peter Gruber (peter.gruber@usi.ch)\n",
    "2022-02-15\n",
    "* Part 3: The transactions that keep the oracle up to date\n",
    "* Parts 1-4 are only relevant if you want to **create** an Oracle\n",
    "* Only parts 5-6 are needed to **use** the oracle.\n",
    "\n",
    "**Note** that these transactions will typically run in regular intervals (every 5 min) on a Linux server, using the `cron` service of Linux. You can, however, run the manually to see what happens."
   ]
  },
  {
   "cell_type": "markdown",
   "metadata": {
    "tags": []
   },
   "source": [
    "## Setup\n",
    "See notebook 04.1, the lines below will always automatically load functions in `algo_util.py`, the five accounts and the Purestake credentials"
   ]
  },
  {
   "cell_type": "code",
   "execution_count": 4,
   "metadata": {},
   "outputs": [],
   "source": [
    "# Loading shared code and credentials\n",
    "import sys, os\n",
    "\n",
    "codepath = '..'+os.path.sep+'..'+os.path.sep+'sharedCode'\n",
    "sys.path.append(codepath)\n",
    "from algo_util import *\n",
    "cred = load_credentials()\n",
    "\n",
    "# Load additional oracle accounts\n",
    "cred_oracle = load_credentials('credentials_oracle')\n",
    "Price = cred_oracle['Price']\n",
    "Reserve = cred_oracle['Reserve']\n",
    "oracle_id = cred_oracle['oracle_id']"
   ]
  },
  {
   "cell_type": "code",
   "execution_count": 36,
   "metadata": {},
   "outputs": [],
   "source": [
    "from algosdk import account, mnemonic\n",
    "from algosdk.v2client import algod\n",
    "from algosdk.future import transaction\n",
    "from algosdk.future.transaction import Multisig\n",
    "from algosdk.future.transaction import PaymentTxn, MultisigTransaction\n",
    "from algosdk.future.transaction import AssetConfigTxn, AssetTransferTxn, AssetFreezeTxn\n",
    "from algosdk.future.transaction import LogicSig\n",
    "\n",
    "import algosdk.error\n",
    "import json\n",
    "import base64\n",
    "import hashlib"
   ]
  },
  {
   "cell_type": "code",
   "execution_count": 37,
   "metadata": {},
   "outputs": [],
   "source": [
    "from pyteal import *"
   ]
  },
  {
   "cell_type": "code",
   "execution_count": 38,
   "metadata": {},
   "outputs": [],
   "source": [
    "# Initialize the algod client (Testnet or Mainnet)\n",
    "algod_client = algod.AlgodClient(algod_token='', algod_address=cred['algod_test'], headers=cred['purestake_token'])"
   ]
  },
  {
   "cell_type": "code",
   "execution_count": 39,
   "metadata": {},
   "outputs": [],
   "source": [
    "import json\n",
    "import requests\n",
    "import pandas as pd\n",
    "import numpy as np\n",
    "import time"
   ]
  },
  {
   "cell_type": "code",
   "execution_count": 64,
   "metadata": {},
   "outputs": [],
   "source": [
    "from pycoingecko import CoinGeckoAPI\n",
    "cg = CoinGeckoAPI()"
   ]
  },
  {
   "cell_type": "markdown",
   "metadata": {},
   "source": [
    "#### Get information about the oracle coin"
   ]
  },
  {
   "cell_type": "code",
   "execution_count": 5,
   "metadata": {},
   "outputs": [
    {
     "name": "stdout",
     "output_type": "stream",
     "text": [
      "https://testnet.algoexplorer.io/asset/77534697\n"
     ]
    }
   ],
   "source": [
    "print('https://testnet.algoexplorer.io/asset/{}'.format(oracle_id))"
   ]
  },
  {
   "cell_type": "markdown",
   "metadata": {},
   "source": [
    "## Transfer coins as a function of price and holdings\n",
    "* This is the code that needs to be deployed on the remote server"
   ]
  },
  {
   "cell_type": "code",
   "execution_count": 60,
   "metadata": {},
   "outputs": [
    {
     "name": "stdout",
     "output_type": "stream",
     "text": [
      "0.741683\n"
     ]
    }
   ],
   "source": [
    "# get current price\n",
    "price_info = cg.get_price(ids='algorand', vs_currencies='usd')\n",
    "usdalgo = price_info['algorand']['usd']\n",
    "print(usdalgo)"
   ]
  },
  {
   "cell_type": "code",
   "execution_count": 61,
   "metadata": {},
   "outputs": [
    {
     "name": "stdout",
     "output_type": "stream",
     "text": [
      "0.741683\n",
      "742146\n",
      "999257854\n"
     ]
    }
   ],
   "source": [
    "# get current holdings\n",
    "holdings_Price = asset_holdings(algod_client, Price['public'])\n",
    "oracle_Price = [holding['amount'] for holding in holdings_Price if holding['unit']=='USDALGO'][0]\n",
    "oracle_Price = int(1e6*oracle_Price)\n",
    "holdings_Reserve = asset_holdings(algod_client, Reserve['public'])\n",
    "oracle_Reserve = [holding['amount'] for holding in holdings_Reserve if holding['unit']=='USDALGO'][0]\n",
    "oracle_Reserve = int(1e6*oracle_Reserve)\n",
    "\n",
    "print(usdalgo)\n",
    "print(oracle_Price)\n",
    "print(oracle_Reserve)"
   ]
  },
  {
   "cell_type": "code",
   "execution_count": 63,
   "metadata": {},
   "outputs": [
    {
     "name": "stdout",
     "output_type": "stream",
     "text": [
      "Current round is  20463830.\n",
      "Waiting for round 20463830 to finish.\n",
      "Waiting for round 20463831 to finish.\n",
      "Transaction 4RZB4EM5LSPPJVGAB2DZIPXYZ5Z2V2HGJGMATILDRSBRFSCBYU3Q confirmed in round 20463832.\n"
     ]
    }
   ],
   "source": [
    "holdings_oracle = int(usdalgo*1e6)         # this is how many coins Price *should* hold\n",
    "\n",
    "# make transfers\n",
    "if holdings_oracle != oracle_Price:\n",
    "    # A transaction is needed\n",
    "    if holdings_oracle > oracle_Price:\n",
    "        # Price does not have enough coins\n",
    "        # Reserve needs to transfer to Price\n",
    "        amt = int(holdings_oracle-oracle_Price)\n",
    "        sender = Reserve\n",
    "        receiver = Price\n",
    "    else:\n",
    "        # Price has too many coins\n",
    "        # Price needs to transfer to Reserve\n",
    "        amt = int(oracle_Price-holdings_oracle)\n",
    "        sender = Price\n",
    "        receiver = Reserve\n",
    "\n",
    "    # === transfer TXN (must be a multisig!!) ===\n",
    "    # Step 1: prepare\n",
    "    sp = algod_client.suggested_params()          \n",
    "    txn = AssetTransferTxn(\n",
    "        sender = sender['public'],                \n",
    "        sp=sp,\n",
    "        receiver=receiver['public'],              \n",
    "        amt=amt,                                  \n",
    "        index=oracle_id                          \n",
    "        )                               \n",
    "\n",
    "    # Step 2+3: Sign + send\n",
    "    stxn = txn.sign(sender['private'])\n",
    "    txid = algod_client.send_transaction(stxn)\n",
    "\n",
    "    # Step 4: Wait for confirmation\n",
    "    txinfo = wait_for_confirmation(algod_client, txid)"
   ]
  }
 ],
 "metadata": {
  "kernelspec": {
   "display_name": "Python 3",
   "language": "python",
   "name": "python3"
  },
  "language_info": {
   "codemirror_mode": {
    "name": "ipython",
    "version": 3
   },
   "file_extension": ".py",
   "mimetype": "text/x-python",
   "name": "python",
   "nbconvert_exporter": "python",
   "pygments_lexer": "ipython3",
   "version": "3.7.6"
  }
 },
 "nbformat": 4,
 "nbformat_minor": 5
}
