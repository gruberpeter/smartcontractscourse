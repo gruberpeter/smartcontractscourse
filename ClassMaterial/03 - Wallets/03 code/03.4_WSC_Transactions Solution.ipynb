{
 "cells": [
  {
   "cell_type": "markdown",
   "metadata": {},
   "source": [
    "## Transactions\n",
    "#### 03.4 Writing Smart Contracts\n",
    "##### Peter Gruber (peter.gruber@usi.ch)\n",
    "2024-02-14 (started 2021-12-19)\n",
    "\n",
    "- Load credentials\n",
    "- Connect to the blockchain\n",
    "- Execute a first payment transaction using Python\n",
    "- Add a note to the payment"
   ]
  },
  {
   "cell_type": "markdown",
   "metadata": {
    "tags": []
   },
   "source": [
    "## Setup\n",
    "Starting with this chapter 3.4, the lines below will always automatically load ...\n",
    "* The accounts MyAlgo, Alice, Bob, Charlie, Dina\n",
    "* The API credentials\n",
    "* The functions in `algo_util.py`\n",
    "    * These functions can be found in the folder `sharedCode` which is two levels up"
   ]
  },
  {
   "cell_type": "code",
   "execution_count": null,
   "metadata": {},
   "outputs": [],
   "source": [
    "# Loading shared code and credentials\n",
    "import sys, os\n",
    "codepath = '..'+os.path.sep+'..'+os.path.sep+'sharedCode'\n",
    "sys.path.append(codepath)\n",
    "from algo_util import *\n",
    "cred = load_credentials()\n",
    "\n",
    "# Shortcuts to directly access the main accounts\n",
    "MyAlgo  = cred['MyAlgo']\n",
    "Alice   = cred['Alice']\n",
    "Bob     = cred['Bob']\n",
    "Charlie = cred['Charlie']\n",
    "Dina    = cred['Dina']"
   ]
  },
  {
   "cell_type": "code",
   "execution_count": null,
   "metadata": {},
   "outputs": [],
   "source": [
    "from algosdk import account, mnemonic\n",
    "from algosdk.v2client import algod\n",
    "from algosdk.transaction import PaymentTxn\n",
    "import algosdk.error\n",
    "import json"
   ]
  },
  {
   "cell_type": "code",
   "execution_count": null,
   "metadata": {},
   "outputs": [],
   "source": [
    "print(MyAlgo['public'])\n",
    "print(Alice['public'])\n",
    "print(Bob['public'])\n",
    "print(Charlie['public'])\n",
    "print(Dina['public'])"
   ]
  },
  {
   "cell_type": "markdown",
   "metadata": {},
   "source": [
    "## Connecting to the Algorand Blockchain via API\n",
    "+ We choose to connect via Algonode API\n",
    "- API **address** stored ...\n",
    "    - For the testnet in `cred['algod_test']`\n",
    "    - For the mainnet in `cred['algod_main']`\n",
    "- API **crendentials** stored in `cred['api_token']` (currently not needed)"
   ]
  },
  {
   "cell_type": "code",
   "execution_count": null,
   "metadata": {},
   "outputs": [],
   "source": [
    "# Today we work with the testnet\n",
    "algod_token   = ''                        # Only needed if we have our own server\n",
    "algod_address = cred['algod_test']        # TESTNET, alternatively cred['algod_main'] \n",
    "api_token = cred['api_token']             # Currently empty, this may change\n",
    "\n",
    "# Initialize the algod client\n",
    "algod_client = algod.AlgodClient(algod_token=algod_token, algod_address=algod_address, headers=api_token)"
   ]
  },
  {
   "cell_type": "markdown",
   "metadata": {},
   "source": [
    "#### Test the connection\n",
    "- Our first Python access of the blockchain\n",
    "- What's the last block?\n",
    "    - Note that block count on testnet is larger (Why?)\n",
    "    - Check here (select *testnet* on top left): https://app.dappflow.org/explorer/home"
   ]
  },
  {
   "cell_type": "code",
   "execution_count": null,
   "metadata": {},
   "outputs": [],
   "source": [
    "algod_client.status()[\"last-round\"]"
   ]
  },
  {
   "cell_type": "markdown",
   "metadata": {},
   "source": [
    "### ❗️ Mainnet or testnet?\n",
    "* Both networks are identical from a technical point of view\n",
    "* Private and public keys are eqally valid on both nets\n",
    "    * Every main net account has a \"twin\" on the testnet\n",
    "    * Treat testnet credentials with same care as mainnet credentials\n",
    "* Tokens on main net have economic value\n",
    "* On the testnet, ALGOs and USDC can be obtained for free\n",
    "* Use testnet to learn without having to pay transaction fees\n",
    "\n",
    "**Connect to mainnet or testnet**\n",
    "* To select mainnet or testnet, change just one line when creating the `algod_client()`:\n",
    "\n",
    "```\n",
    "algod_address = cred['algod_test']    # TESTNET, for mainnet use cred['algod_main'] \n",
    "```"
   ]
  },
  {
   "cell_type": "markdown",
   "metadata": {
    "tags": []
   },
   "source": [
    "### Check the accounts on the blockchain\n",
    "#### (a) on the Mainnet\n",
    "- Check the link below to find the Algos that you have received at the beginning of class"
   ]
  },
  {
   "cell_type": "code",
   "execution_count": null,
   "metadata": {
    "tags": []
   },
   "outputs": [],
   "source": [
    "# Create a link to directly access your MyAlgo account\n",
    "print(cred['explore_main']+'address/'+MyAlgo['public'])"
   ]
  },
  {
   "cell_type": "markdown",
   "metadata": {
    "tags": []
   },
   "source": [
    "#### (b) on the Testnet\n",
    "* Check the link below to verify that `MyAlgo` account on the testnet has still 0 Algos *on the testnet*"
   ]
  },
  {
   "cell_type": "code",
   "execution_count": null,
   "metadata": {
    "tags": []
   },
   "outputs": [],
   "source": [
    "print(cred['explore_test']+'address/'+MyAlgo['public'])"
   ]
  },
  {
   "cell_type": "markdown",
   "metadata": {},
   "source": [
    "### Fund with testnet Algos\n",
    "\n",
    "Try any of these:\n",
    "- https://bank.testnet.algorand.network/\n",
    "- https://dispenser.testnet.aws.algodev.network\n",
    "- Fund `MyAlgo`, `Alice` and `Bob`. How many test ALGOs did you get?"
   ]
  },
  {
   "cell_type": "markdown",
   "metadata": {},
   "source": [
    "### Obtain holdings\n",
    "* The `algod_client.account_info()` function obtains all sorts of information about an account\n",
    "    * For more details, see chapter 11 (empirics)"
   ]
  },
  {
   "cell_type": "code",
   "execution_count": null,
   "metadata": {},
   "outputs": [],
   "source": [
    "# Get holdings of testnet Algos\n",
    "address = Alice[\"public\"]\n",
    "algod_client.account_info(address)[\"amount\"]"
   ]
  },
  {
   "cell_type": "code",
   "execution_count": null,
   "metadata": {},
   "outputs": [],
   "source": [
    "# Holdings are in micro Algo ... convert\n",
    "algo_precision = 1e6\n",
    "algo_amount    = algod_client.account_info(address)[\"amount\"]/algo_precision\n",
    "print(f\"Address {address} has {algo_amount} test algos\")"
   ]
  },
  {
   "cell_type": "markdown",
   "metadata": {},
   "source": [
    "## A first payment transaction"
   ]
  },
  {
   "cell_type": "markdown",
   "metadata": {},
   "source": [
    "#### The suggested parameters for a transaction (on the test network)\n",
    "* Get standard parameters from API\n",
    "* Simplifies creation of a transaction\n",
    "* Part of ever y**Step 1 – prepare transaction**\n",
    "    * `first` and `last` are suggested params for first and last round valid. Compare to current round\n",
    "    * Suggested fee is standard fee\n",
    "    * `gh` stands for genesis hash (=first entry on the blockchain)"
   ]
  },
  {
   "cell_type": "code",
   "execution_count": null,
   "metadata": {},
   "outputs": [],
   "source": [
    "sp = algod_client.suggested_params()\n",
    "print(json.dumps(vars(sp), indent=4))"
   ]
  },
  {
   "cell_type": "markdown",
   "metadata": {},
   "source": [
    "#### Step 1: prepare and create transaction using `PaymentTxn`"
   ]
  },
  {
   "cell_type": "code",
   "execution_count": null,
   "metadata": {},
   "outputs": [],
   "source": [
    "# Parameters\n",
    "sp        = algod_client.suggested_params()       # suggested params\n",
    "amount    = 0.1                                   # in ALGO\n",
    "algo_prec = 1e6\n",
    "amt_microalgo = int(amount * algo_prec)     # in Micro-ALGO \n",
    "\n",
    "# Create (unsigned) TX\n",
    "txn = PaymentTxn(sender = Alice['public'],     # <--- From\n",
    "                 sp = sp,                      # <---- ALWAYS include the sp\n",
    "                 receiver = Bob['public'],     # <---- To\n",
    "                 amt = amt_microalgo           # <---- in Micro-ALGO\n",
    "                )"
   ]
  },
  {
   "cell_type": "code",
   "execution_count": null,
   "metadata": {},
   "outputs": [],
   "source": [
    "# Interesting: this is how a transaction looks like\n",
    "print(json.dumps(vars(txn), indent=4))"
   ]
  },
  {
   "cell_type": "code",
   "execution_count": null,
   "metadata": {},
   "outputs": [],
   "source": [
    "# Interesting: we already have a txid\n",
    "print(txn.get_txid())"
   ]
  },
  {
   "cell_type": "code",
   "execution_count": null,
   "metadata": {},
   "outputs": [],
   "source": [
    "# Is it already on the blockchain? \n",
    "# No ... we have not yet sent sent it --> 404 error\n",
    "print(cred['explore_test']+'tx/'+txn.get_txid())"
   ]
  },
  {
   "cell_type": "markdown",
   "metadata": {},
   "source": [
    "#### Step 2: sign"
   ]
  },
  {
   "cell_type": "code",
   "execution_count": null,
   "metadata": {},
   "outputs": [],
   "source": [
    "stxn = txn.sign(Alice['private'])                 # <---- Alice signs with private key"
   ]
  },
  {
   "cell_type": "code",
   "execution_count": null,
   "metadata": {},
   "outputs": [],
   "source": [
    "# Interesting: this is how a transaction looks like\n",
    "# The new stxn object consists of\n",
    "print(stxn.transaction)                           # same as above\n",
    "print('')\n",
    "print(stxn.signature)                             # signature signs the transaction"
   ]
  },
  {
   "cell_type": "code",
   "execution_count": null,
   "metadata": {},
   "outputs": [],
   "source": [
    "# Interesting: The transaction ID is the same as before\n",
    "# ... and still nothing on the blockchain\n",
    "print(stxn.get_txid())\n",
    "print(cred['explore_test']+'tx/'+stxn.get_txid())"
   ]
  },
  {
   "cell_type": "markdown",
   "metadata": {},
   "source": [
    "#### Step 3: send"
   ]
  },
  {
   "cell_type": "code",
   "execution_count": null,
   "metadata": {},
   "outputs": [],
   "source": [
    "txid = algod_client.send_transaction(stxn)"
   ]
  },
  {
   "cell_type": "code",
   "execution_count": null,
   "metadata": {},
   "outputs": [],
   "source": [
    "# Transaction just asent to the blockchain\n",
    "# Does not yet contain a `confirmed-round` object\n",
    "txinfo = algod_client.pending_transaction_info(txid)\n",
    "print(txinfo)"
   ]
  },
  {
   "cell_type": "markdown",
   "metadata": {},
   "source": [
    "#### Step 4: Wait for confirmation"
   ]
  },
  {
   "cell_type": "code",
   "execution_count": null,
   "metadata": {},
   "outputs": [],
   "source": [
    "txinfo = wait_for_confirmation(algod_client, txid)"
   ]
  },
  {
   "cell_type": "code",
   "execution_count": null,
   "metadata": {},
   "outputs": [],
   "source": [
    "# Note that txinfo has now a 'confirmed-round'\n",
    "print(txinfo)"
   ]
  },
  {
   "cell_type": "code",
   "execution_count": null,
   "metadata": {},
   "outputs": [],
   "source": [
    "# Now we can check the tx also on Pera Explorer\n",
    "print(cred['explore_test']+'tx/'+txid)"
   ]
  },
  {
   "cell_type": "markdown",
   "metadata": {},
   "source": [
    "## Add a note to a transaction\n",
    "* Create a transaction a bit more efficiently\n",
    "* Add a transaction note"
   ]
  },
  {
   "cell_type": "code",
   "execution_count": null,
   "metadata": {},
   "outputs": [],
   "source": [
    "# Step 1a: Prepare\n",
    "sp     = algod_client.suggested_params()       # suggested params\n",
    "amount = 0.1\n",
    "algo_precision = 1e6\n",
    "amt_microalgo = int(amount * algo_precision)\n",
    "\n",
    "# Step 1b: The note (need to encode as bytes)\n",
    "note_txt  = \"Paying back for last dinner\"\n",
    "note_byte = note_txt.encode()"
   ]
  },
  {
   "cell_type": "code",
   "execution_count": null,
   "metadata": {},
   "outputs": [],
   "source": [
    "# Step 1c: create (unsigned) TX\n",
    "txn = PaymentTxn(sender=Alice['public'],\n",
    "                 sp = sp,\n",
    "                 receiver = Bob['public'],\n",
    "                 amt=amt_microalgo, \n",
    "                 note=note_byte\n",
    "                 )\n",
    "print(txn)"
   ]
  },
  {
   "cell_type": "code",
   "execution_count": null,
   "metadata": {},
   "outputs": [],
   "source": [
    "# Step 2+3: sign and send TX\n",
    "stxn = txn.sign(Alice['private'])\n",
    "txid = algod_client.send_transaction(stxn)\n",
    "print(txid)"
   ]
  },
  {
   "cell_type": "code",
   "execution_count": null,
   "metadata": {},
   "outputs": [],
   "source": [
    "# Step 4: Wait for confirmation\n",
    "txinfo = wait_for_confirmation(algod_client, txid)"
   ]
  },
  {
   "cell_type": "code",
   "execution_count": null,
   "metadata": {},
   "outputs": [],
   "source": [
    "print(txinfo)"
   ]
  },
  {
   "cell_type": "code",
   "execution_count": null,
   "metadata": {},
   "outputs": [],
   "source": [
    "# Check on Pera Explorer\n",
    "# The note is readable in plain text\n",
    "print(cred['explore_test']+'tx/'+txid)"
   ]
  },
  {
   "cell_type": "markdown",
   "metadata": {},
   "source": [
    "### Step 5 (check): Extract message in txinfo and convert back to plain text"
   ]
  },
  {
   "cell_type": "code",
   "execution_count": null,
   "metadata": {},
   "outputs": [],
   "source": [
    "import base64\n",
    "note_base64 = txinfo['txn']['txn']['note']\n",
    "print(note_base64)\n",
    "note_byte   = base64.b64decode(note_base64)\n",
    "print(note_byte)\n",
    "note_txt   = note_byte.decode()\n",
    "print(note_txt)"
   ]
  },
  {
   "cell_type": "markdown",
   "metadata": {},
   "source": [
    "## Exercises"
   ]
  },
  {
   "cell_type": "markdown",
   "metadata": {},
   "source": [
    "**Exercise 1:** Send 0.82 ALGO from Dina to Alice with a thank you note"
   ]
  },
  {
   "cell_type": "code",
   "execution_count": null,
   "metadata": {},
   "outputs": [],
   "source": [
    "# Your Python code goes here\n",
    "\n",
    "# Step 1: Prepare\n",
    "sp        = algod_client.suggested_params()       # suggested params\n",
    "amount    = 0.82\n",
    "algo_prec = 1e6\n",
    "amt_microalgo = int(amount * algo_prec)\n",
    "note_txt  = \"Thank you\"\n",
    "note_byte = note_txt.encode()\n",
    "\n",
    "txn = PaymentTxn(sender=Dina['public'],\n",
    "                 sp=sp, \n",
    "                 receiver = Alice['public'],\n",
    "                 amt=amt_microalgo, \n",
    "                 note=note_byte\n",
    "                 )\n",
    "\n",
    "# Step 2+3: sign and send TX\n",
    "stxn = txn.sign(Dina['private'])\n",
    "txid = algod_client.send_transaction(stxn)\n",
    "\n",
    "# Step 4: Wait for confirmation\n",
    "txinfo = wait_for_confirmation(algod_client, txid)"
   ]
  },
  {
   "cell_type": "markdown",
   "metadata": {},
   "source": [
    "**Exercise 2:** Obtain the (new) ALGO holdings of Alice using Python"
   ]
  },
  {
   "cell_type": "code",
   "execution_count": null,
   "metadata": {},
   "outputs": [],
   "source": [
    "# Your Python code goes here\n",
    "address = Alice[\"public\"]\n",
    "algod_client.account_info(address)[\"amount\"] / 1e6"
   ]
  },
  {
   "cell_type": "markdown",
   "metadata": {},
   "source": [
    "## Things that do not and will not work\n",
    "* Following are a few things that deliberately don't work.\n",
    "* Goal: learn how error messages look like and how to deal with them."
   ]
  },
  {
   "cell_type": "code",
   "execution_count": null,
   "metadata": {},
   "outputs": [],
   "source": [
    "# Need to import this to be able to read error messages\n",
    "import sys, algosdk.error"
   ]
  },
  {
   "cell_type": "markdown",
   "metadata": {},
   "source": [
    "### Overspending\n",
    "* Alice sends more than she owns\n",
    "* The error message is very long. Scroll down to the end."
   ]
  },
  {
   "cell_type": "code",
   "execution_count": null,
   "metadata": {},
   "outputs": [],
   "source": [
    "# Step 1: prepare\n",
    "sp       = algod_client.suggested_params()\n",
    "algo_precision = 1e6\n",
    "sender   = Alice['public']\n",
    "receiver = Bob['public']\n",
    "amount   = 100                       # <----------------- way too much!\n",
    "amount_microalgo = int(amount * algo_precision)\n",
    "\n",
    "# Step 2: create unsigned TX\n",
    "unsigned_txn = PaymentTxn(sender, sp, receiver, amount_microalgo)\n",
    "\n",
    "# Step 3a: Sign\n",
    "signed_txn = unsigned_txn.sign(Alice['private'])"
   ]
  },
  {
   "cell_type": "code",
   "execution_count": null,
   "metadata": {},
   "outputs": [],
   "source": [
    "# Step 3b: Send\n",
    "txid = algod_client.send_transaction(signed_txn)"
   ]
  },
  {
   "cell_type": "markdown",
   "metadata": {},
   "source": [
    "#### Can we *catch the error* and get a better structured error message?\n",
    "* **Note:** error occurs when sending the transaction"
   ]
  },
  {
   "cell_type": "code",
   "execution_count": null,
   "metadata": {},
   "outputs": [],
   "source": [
    "# Step 1: prepare\n",
    "sp       = algod_client.suggested_params()\n",
    "algo_precision = 1e6\n",
    "sender   = Alice['public']\n",
    "receiver = Bob['public']\n",
    "amount   = 100                       # <----------------- way too much!\n",
    "amount_microalgo = int(amount * algo_precision)\n",
    "\n",
    "# Step 2: create unsigned TX\n",
    "unsigned_txn = PaymentTxn(sender, sp, receiver, amount_microalgo)\n",
    "\n",
    "# Step 3a: Sign\n",
    "signed_txn = unsigned_txn.sign(Alice['private'])"
   ]
  },
  {
   "cell_type": "code",
   "execution_count": null,
   "metadata": {},
   "outputs": [],
   "source": [
    "# Step 3b: Send\n",
    "try:\n",
    "    txid = algod_client.send_transaction(signed_txn)\n",
    "except algosdk.error.AlgodHTTPError as err:\n",
    "    print(err)                                   # print entire error message\n",
    "    if (\"overspend\" in str(err)):                # check for specific type of error\n",
    "        print(\"Overspend error\")         \n",
    "    txid = None"
   ]
  },
  {
   "cell_type": "markdown",
   "metadata": {},
   "source": [
    "#### What happens if we wait for the failed transaction to complete?"
   ]
  },
  {
   "cell_type": "code",
   "execution_count": null,
   "metadata": {},
   "outputs": [],
   "source": [
    "# Step 4: Wait for confirmation\n",
    "try:\n",
    "    txinfo = wait_for_confirmation(algod_client, txid)\n",
    "    print(txinfo)\n",
    "except TypeError as err:                                       # obtain error message\n",
    "    # print entire error message (rather cryptic!)\n",
    "    print(err)\n",
    "    # Give better error message\n",
    "    print(\"txid is empty\")"
   ]
  },
  {
   "cell_type": "markdown",
   "metadata": {},
   "source": [
    "### Wrong signature\n",
    "Bob tries to sign a transaction from Alice to Bob"
   ]
  },
  {
   "cell_type": "code",
   "execution_count": null,
   "metadata": {},
   "outputs": [],
   "source": [
    "# Step 1: prepare\n",
    "sp        = algod_client.suggested_params()\n",
    "algo_prec = 1e6\n",
    "sender    = Alice['public']\n",
    "receiver  = Bob['public']\n",
    "amount    = 0.1\n",
    "amount_microalgo = int(amount * algo_prec)\n",
    "\n",
    "# Step 2: create unsigned TX\n",
    "unsigned_txn = PaymentTxn(sender, sp, receiver, amount_microalgo)\n",
    "\n",
    "# Step 3a: Sign\n",
    "signed_txn = unsigned_txn.sign(Bob['private'])                # <----------------- wrong person signs!"
   ]
  },
  {
   "cell_type": "code",
   "execution_count": null,
   "metadata": {},
   "outputs": [],
   "source": [
    "# Step 3b: Send\n",
    "try:\n",
    "    txid = algod_client.send_transaction(signed_txn)\n",
    "except algosdk.error.AlgodHTTPError as err:\n",
    "    # print entire error message\n",
    "    print(err)\n",
    "    if (\"should have been authorized\" in str(err)):                # check for specific type of error\n",
    "        print(\"Wrong signature error\")         \n",
    "    txid = None"
   ]
  },
  {
   "cell_type": "markdown",
   "metadata": {},
   "source": [
    "### *Sending the *indentical* transaction twice\n",
    "* It is not possible to send the *identical* transaction twice\n",
    "    * Reason: the transaction ID is calculated from the transaction data\n",
    "* \"Identical\" means ...\n",
    "    * same Sender\n",
    "    * same Recipient\n",
    "    * same Ammount\n",
    "    * same (suggested) parameters (including first/last round) $\\leftarrow$ change after 2-3 seconds"
   ]
  },
  {
   "cell_type": "code",
   "execution_count": null,
   "metadata": {},
   "outputs": [],
   "source": [
    "# Step 1: prepare\n",
    "sp       = algod_client.suggested_params()\n",
    "algo_precision = 1e6\n",
    "sender   = Alice['public']\n",
    "receiver = Bob['public']\n",
    "amount   = 0.1\n",
    "amount_microalgo = int(amount * algo_precision)"
   ]
  },
  {
   "cell_type": "code",
   "execution_count": null,
   "metadata": {},
   "outputs": [],
   "source": [
    "# Step 2: create unsigned TX\n",
    "unsigned_txn = PaymentTxn(sender, sp, receiver, amount_microalgo)\n",
    "\n",
    "# Step 3a: Sign\n",
    "signed_txn = unsigned_txn.sign(Alice['private'])\n",
    "\n",
    "# Step 3b: Send\n",
    "try:\n",
    "    txid = algod_client.send_transaction(signed_txn)\n",
    "    print(\"Submitted with txID: {}\".format(txid))\n",
    "except algosdk.error.AlgodHTTPError as err:\n",
    "    # print entire error message\n",
    "    print(err)\n",
    "    if (\"transaction already in ledger\" in str(err)):                # check for specific type of error\n",
    "        print(\"Identical transaction {} has been submitted twice.\".format(signed_txn.get_txid()))         \n",
    "    txid = None    # check for specific type of error"
   ]
  },
  {
   "cell_type": "markdown",
   "metadata": {},
   "source": [
    "**REPEAT** only step 2-3 $\\rightarrow$ error message<br>\n",
    "**REPEAT** only step 1-3 $\\rightarrow$ no error <br>"
   ]
  },
  {
   "cell_type": "markdown",
   "metadata": {},
   "source": [
    "#### See how the sp change\n",
    "* Re-run this after 2-3 seconds"
   ]
  },
  {
   "cell_type": "code",
   "execution_count": null,
   "metadata": {
    "tags": []
   },
   "outputs": [],
   "source": [
    "sp = algod_client.suggested_params()\n",
    "print(json.dumps(vars(sp), indent=4))"
   ]
  },
  {
   "cell_type": "markdown",
   "metadata": {
    "tags": []
   },
   "source": [
    "## Appendix: Useful functions\n",
    "* The following functions are included in `algo_util.py`"
   ]
  },
  {
   "cell_type": "code",
   "execution_count": null,
   "metadata": {},
   "outputs": [],
   "source": [
    "def wait_for_confirmation(client, txid):\n",
    "    # client = algosdk client\n",
    "    # txid = transaction ID, for example from send_payment()\n",
    "    # An ufficial Algorand function\n",
    "\n",
    "    txinfo = client.pending_transaction_info(txid)       # obtain transaction information\n",
    "    current_round = algod_client.status()[\"last-round\"]        # obtain last round number\n",
    "    print(\"Current round is  {}.\".format(current_round))\n",
    "    \n",
    "    # Wait for confirmation\n",
    "    while ( txinfo.get('confirmed-round') is None ):            # condition for waiting = 'confirmed-round' is empty\n",
    "        print(\"Waiting for round {} to finish.\".format(current_round))\n",
    "        algod_client.status_after_block(current_round)             # this wait for the round to finish\n",
    "        txinfo = algod_client.pending_transaction_info(txid)    # update transaction information\n",
    "        current_round += 1\n",
    "\n",
    "    print(\"Transaction {} confirmed in round {}.\".format(txid, txinfo.get('confirmed-round')))\n",
    "    return txinfo"
   ]
  },
  {
   "cell_type": "markdown",
   "metadata": {},
   "source": [
    "### *Python dict as transaction note\n",
    "* For attaching a Python dict as message to a note\n",
    "* Example `note_dict = {'from' : 'Bob', 'to' : 'Alice', 'message' : 'Many thanks'}"
   ]
  },
  {
   "cell_type": "code",
   "execution_count": null,
   "metadata": {},
   "outputs": [],
   "source": [
    "def note_encode(note_dict):\n",
    "    # note dict ... a Python dictionary\n",
    "    note_json = json.dumps(note_dict)\n",
    "    note_byte = note_json.encode()     \n",
    "    return(note_byte)"
   ]
  },
  {
   "cell_type": "code",
   "execution_count": null,
   "metadata": {},
   "outputs": [],
   "source": [
    "def note_decode(note_64):\n",
    "    # note64 =  note in base64 endocing\n",
    "    # returns a Python dict\n",
    "    import base64\n",
    "    message_base64 = txinfo['txn']['txn']['note']\n",
    "    message_byte   = base64.b64decode(message_base64)\n",
    "    message_json   = message_byte.decode()\n",
    "    message_dict   = json.loads( message_json )\n",
    "    return(message_dict)"
   ]
  }
 ],
 "metadata": {
  "kernelspec": {
   "display_name": "Python 3 (ipykernel)",
   "language": "python",
   "name": "python3"
  },
  "language_info": {
   "codemirror_mode": {
    "name": "ipython",
    "version": 3
   },
   "file_extension": ".py",
   "mimetype": "text/x-python",
   "name": "python",
   "nbconvert_exporter": "python",
   "pygments_lexer": "ipython3",
   "version": "3.10.13"
  }
 },
 "nbformat": 4,
 "nbformat_minor": 4
}
