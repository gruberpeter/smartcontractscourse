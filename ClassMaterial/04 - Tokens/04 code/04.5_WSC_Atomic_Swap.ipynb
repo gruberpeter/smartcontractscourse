{
 "cells": [
  {
   "cell_type": "markdown",
   "metadata": {},
   "source": [
    "## Atomic Swaps\n",
    "#### 04.5 Winter School on Smart Contracts\n",
    "##### Peter Gruber (peter.gruber@usi.ch)\n",
    "2021-11-28\n",
    "\n",
    "* Transaction groups\n",
    "* Atomic swap\n",
    "* **Requires** 04.3_WSC_Token including exercises"
   ]
  },
  {
   "cell_type": "markdown",
   "metadata": {
    "tags": []
   },
   "source": [
    "### Setup\n",
    "See notebook 04.1, the lines below will always automatically load functions in `algo_util.py`, the five accounts and the credentials"
   ]
  },
  {
   "cell_type": "code",
   "execution_count": 6,
   "metadata": {},
   "outputs": [],
   "source": [
    "# Loading shared code and credentials\n",
    "import sys, os\n",
    "codepath = '..'+os.path.sep+'..'+os.path.sep+'sharedCode'\n",
    "sys.path.append(codepath)\n",
    "from algo_util import *\n",
    "cred = load_credentials()\n",
    "\n",
    "# Shortcuts to directly access the 3 main accounts\n",
    "MyAlgo = cred['MyAlgo']\n",
    "Alice  = cred['Alice']\n",
    "Bob    = cred['Bob']\n",
    "Charlie = cred['Charlie']"
   ]
  },
  {
   "cell_type": "code",
   "execution_count": 7,
   "metadata": {},
   "outputs": [],
   "source": [
    "from algosdk import account, mnemonic\n",
    "from algosdk.v2client import algod\n",
    "from algosdk import transaction\n",
    "from algosdk.transaction import PaymentTxn\n",
    "from algosdk.transaction import AssetConfigTxn, AssetTransferTxn, AssetFreezeTxn\n",
    "import algosdk.error\n",
    "\n",
    "import json\n",
    "import pandas as pd\n",
    "import base64"
   ]
  },
  {
   "cell_type": "code",
   "execution_count": 8,
   "metadata": {},
   "outputs": [
    {
     "data": {
      "text/plain": [
       "39025382"
      ]
     },
     "execution_count": 8,
     "metadata": {},
     "output_type": "execute_result"
    }
   ],
   "source": [
    "# Initialize the algod client (Testnet or Mainnet)\n",
    "algod_client = algod.AlgodClient(algod_token='', algod_address=cred['algod_test'], headers=cred['api_token'])\n",
    "algod_client.status()['last-round']"
   ]
  },
  {
   "cell_type": "markdown",
   "metadata": {},
   "source": [
    "## ❗️Atomic Swap\n",
    "\n",
    "Trade (\"swap\") one asset for another one: very important economic activity\n",
    "\n",
    "* TradFi: need trusted intermediary\n",
    "* Algorand blockchain: implemented as an Atomic Transfer\n",
    "    * Idea: either *all* transactions succeed or *all* fail\n",
    "    * Transactions can contain ALOGs or ASA\n",
    "    * Possible: transactions with more than 2 parties"
   ]
  },
  {
   "cell_type": "markdown",
   "metadata": {},
   "source": [
    "### A concrete Atomic Swap\n",
    "\"Alice buys 2.5 WSC from Bob for 3.75 Algos\"\n",
    "* **Transaction 1**: Alice sends Bob 3.75 Algos\n",
    "* **Transaction 2**: Bob sends Alice 2.5 WSC"
   ]
  },
  {
   "cell_type": "markdown",
   "metadata": {},
   "source": [
    "#### Step 0: Get the status before the swap\n",
    "* For information only\n",
    "* Compare holdings of Alice and Bob using `asset_holdings_df2`"
   ]
  },
  {
   "cell_type": "code",
   "execution_count": 9,
   "metadata": {},
   "outputs": [
    {
     "data": {
      "text/html": [
       "<div>\n",
       "<style scoped>\n",
       "    .dataframe tbody tr th:only-of-type {\n",
       "        vertical-align: middle;\n",
       "    }\n",
       "\n",
       "    .dataframe tbody tr th {\n",
       "        vertical-align: top;\n",
       "    }\n",
       "\n",
       "    .dataframe thead th {\n",
       "        text-align: right;\n",
       "    }\n",
       "</style>\n",
       "<table border=\"1\" class=\"dataframe\">\n",
       "  <thead>\n",
       "    <tr style=\"text-align: right;\">\n",
       "      <th></th>\n",
       "      <th>amountAlice</th>\n",
       "      <th>unit</th>\n",
       "      <th>asset-id</th>\n",
       "      <th>name</th>\n",
       "      <th>decimals</th>\n",
       "      <th>amountBob</th>\n",
       "    </tr>\n",
       "  </thead>\n",
       "  <tbody>\n",
       "    <tr>\n",
       "      <th>0</th>\n",
       "      <td>25.121489</td>\n",
       "      <td>ALGO</td>\n",
       "      <td>0</td>\n",
       "      <td>Algorand</td>\n",
       "      <td>6</td>\n",
       "      <td>22.578488</td>\n",
       "    </tr>\n",
       "    <tr>\n",
       "      <th>1</th>\n",
       "      <td>279.440275</td>\n",
       "      <td>USDC</td>\n",
       "      <td>10458941</td>\n",
       "      <td>USDC</td>\n",
       "      <td>6</td>\n",
       "      <td>2.097569</td>\n",
       "    </tr>\n",
       "    <tr>\n",
       "      <th>2</th>\n",
       "      <td>2.500000</td>\n",
       "      <td>PWSC</td>\n",
       "      <td>592359981</td>\n",
       "      <td>Peters WSC coin</td>\n",
       "      <td>2</td>\n",
       "      <td>8.100000</td>\n",
       "    </tr>\n",
       "    <tr>\n",
       "      <th>3</th>\n",
       "      <td>0.000000</td>\n",
       "      <td>USDALGO</td>\n",
       "      <td>592647685</td>\n",
       "      <td>USD/Algo Oracle coin</td>\n",
       "      <td>6</td>\n",
       "      <td>NaN</td>\n",
       "    </tr>\n",
       "    <tr>\n",
       "      <th>4</th>\n",
       "      <td>0.000000</td>\n",
       "      <td>WSC</td>\n",
       "      <td>641958950</td>\n",
       "      <td>Peters WSC coin</td>\n",
       "      <td>2</td>\n",
       "      <td>NaN</td>\n",
       "    </tr>\n",
       "    <tr>\n",
       "      <th>5</th>\n",
       "      <td>10.000000</td>\n",
       "      <td>WSC</td>\n",
       "      <td>642000039</td>\n",
       "      <td>Peters WSC coin</td>\n",
       "      <td>2</td>\n",
       "      <td>10.000000</td>\n",
       "    </tr>\n",
       "    <tr>\n",
       "      <th>6</th>\n",
       "      <td>NaN</td>\n",
       "      <td>TEMP</td>\n",
       "      <td>641963975</td>\n",
       "      <td>Peters Tempcoin</td>\n",
       "      <td>1</td>\n",
       "      <td>25.000000</td>\n",
       "    </tr>\n",
       "  </tbody>\n",
       "</table>\n",
       "</div>"
      ],
      "text/plain": [
       "   amountAlice     unit   asset-id                  name  decimals  amountBob\n",
       "0    25.121489     ALGO          0              Algorand         6  22.578488\n",
       "1   279.440275     USDC   10458941                  USDC         6   2.097569\n",
       "2     2.500000     PWSC  592359981       Peters WSC coin         2   8.100000\n",
       "3     0.000000  USDALGO  592647685  USD/Algo Oracle coin         6        NaN\n",
       "4     0.000000      WSC  641958950       Peters WSC coin         2        NaN\n",
       "5    10.000000      WSC  642000039       Peters WSC coin         2  10.000000\n",
       "6          NaN     TEMP  641963975       Peters Tempcoin         1  25.000000"
      ]
     },
     "execution_count": 9,
     "metadata": {},
     "output_type": "execute_result"
    }
   ],
   "source": [
    "asset_holdings_df2(algod_client, Alice['public'], Bob['public'], suffix=['Alice','Bob'])"
   ]
  },
  {
   "cell_type": "code",
   "execution_count": 10,
   "metadata": {},
   "outputs": [],
   "source": [
    "# Store the correct ID for the WSC coin from 04.3_WSC_Token\n",
    "WSC_id=642000039                              # <---------- Update!!"
   ]
  },
  {
   "cell_type": "markdown",
   "metadata": {},
   "source": [
    "#### Step 1a: Prepare transaction 1\n",
    "ALGO payment. Alice sends Bob 3.75 ALGOs"
   ]
  },
  {
   "cell_type": "code",
   "execution_count": 11,
   "metadata": {},
   "outputs": [],
   "source": [
    "sp = algod_client.suggested_params()\n",
    "amt_1 = int( 3.75*1E6 )                     # microalgos!\n",
    "\n",
    "txn_1 = PaymentTxn(Alice[\"public\"], sp, Bob[\"public\"],amt_1)"
   ]
  },
  {
   "cell_type": "markdown",
   "metadata": {},
   "source": [
    "#### Step 1b: Prepare transaction 2\n",
    "ASA transfer. Bob transfers 2.5 WSC coungs to Alice.<br>\n",
    "Alice has to opt into the WSC coin (In our case, she did so in notebook 04.1!)"
   ]
  },
  {
   "cell_type": "code",
   "execution_count": 12,
   "metadata": {},
   "outputs": [],
   "source": [
    "amt_2 = int(2.5 * 1E2)                      # WSC coin is 1/100 divisible !!\n",
    "\n",
    "txn_2 = AssetTransferTxn(Bob[\"public\"], sp, Alice[\"public\"], amt_2, WSC_id)"
   ]
  },
  {
   "cell_type": "markdown",
   "metadata": {},
   "source": [
    "#### Step 1c: create a TX group\n",
    "* Watch the `group_id` ... it is going to be very important"
   ]
  },
  {
   "cell_type": "code",
   "execution_count": 13,
   "metadata": {},
   "outputs": [
    {
     "name": "stdout",
     "output_type": "stream",
     "text": [
      "3345GW6V5VBZRDQYU2A5ZL3MUHP23WJI7ICGLDQZI65KAFV72IFA====\n"
     ]
    }
   ],
   "source": [
    "# group_id calculated from list of transactions\n",
    "gid = transaction.calculate_group_id([txn_1, txn_2])\n",
    "\n",
    "# add group_id to each transactions\n",
    "txn_1.group = gid\n",
    "txn_2.group = gid\n",
    "\n",
    "# This is the gid (for info only)\n",
    "print( base64.b32encode(gid).decode() )"
   ]
  },
  {
   "cell_type": "markdown",
   "metadata": {},
   "source": [
    "#### Step 2: Sign\n",
    "* Everyone has to sign his/her transaction\n",
    "* Signing happens *after* adding group ID\n",
    "    * You sign the TX\n",
    "    * You also sign the fact that it is part of a group"
   ]
  },
  {
   "cell_type": "code",
   "execution_count": 14,
   "metadata": {},
   "outputs": [],
   "source": [
    "# sign transactions\n",
    "stxn_1 = txn_1.sign(Alice[\"private\"])    \n",
    "stxn_2 = txn_2.sign(Bob[\"private\"])"
   ]
  },
  {
   "cell_type": "markdown",
   "metadata": {},
   "source": [
    "#### Step 3: Assemble and send"
   ]
  },
  {
   "cell_type": "code",
   "execution_count": 15,
   "metadata": {},
   "outputs": [],
   "source": [
    "# assemble transaction group\n",
    "signed_group =  [stxn_1, stxn_2]\n",
    "txid = algod_client.send_transactions(signed_group)"
   ]
  },
  {
   "cell_type": "markdown",
   "metadata": {},
   "source": [
    "#### Step 4: Wait for confirmation"
   ]
  },
  {
   "cell_type": "code",
   "execution_count": 16,
   "metadata": {},
   "outputs": [
    {
     "name": "stdout",
     "output_type": "stream",
     "text": [
      "Current round is  39025397.\n",
      "Waiting for round 39025397 to finish.\n",
      "Transaction 7XOXNO3FLM6DMHP32NLEDZJSKVSU6XKVNSPVWZSUWFLGS4SUA22A confirmed in round 39025398.\n"
     ]
    }
   ],
   "source": [
    "# wait for confirmation\n",
    "txinfo = wait_for_confirmation(algod_client, txid) "
   ]
  },
  {
   "cell_type": "markdown",
   "metadata": {},
   "source": [
    "#### Step 5: Check holdings after swap"
   ]
  },
  {
   "cell_type": "code",
   "execution_count": 17,
   "metadata": {},
   "outputs": [
    {
     "data": {
      "text/html": [
       "<div>\n",
       "<style scoped>\n",
       "    .dataframe tbody tr th:only-of-type {\n",
       "        vertical-align: middle;\n",
       "    }\n",
       "\n",
       "    .dataframe tbody tr th {\n",
       "        vertical-align: top;\n",
       "    }\n",
       "\n",
       "    .dataframe thead th {\n",
       "        text-align: right;\n",
       "    }\n",
       "</style>\n",
       "<table border=\"1\" class=\"dataframe\">\n",
       "  <thead>\n",
       "    <tr style=\"text-align: right;\">\n",
       "      <th></th>\n",
       "      <th>amountAlice</th>\n",
       "      <th>unit</th>\n",
       "      <th>asset-id</th>\n",
       "      <th>name</th>\n",
       "      <th>decimals</th>\n",
       "      <th>amountBob</th>\n",
       "    </tr>\n",
       "  </thead>\n",
       "  <tbody>\n",
       "    <tr>\n",
       "      <th>0</th>\n",
       "      <td>21.370489</td>\n",
       "      <td>ALGO</td>\n",
       "      <td>0</td>\n",
       "      <td>Algorand</td>\n",
       "      <td>6</td>\n",
       "      <td>26.327488</td>\n",
       "    </tr>\n",
       "    <tr>\n",
       "      <th>1</th>\n",
       "      <td>279.440275</td>\n",
       "      <td>USDC</td>\n",
       "      <td>10458941</td>\n",
       "      <td>USDC</td>\n",
       "      <td>6</td>\n",
       "      <td>2.097569</td>\n",
       "    </tr>\n",
       "    <tr>\n",
       "      <th>2</th>\n",
       "      <td>2.500000</td>\n",
       "      <td>PWSC</td>\n",
       "      <td>592359981</td>\n",
       "      <td>Peters WSC coin</td>\n",
       "      <td>2</td>\n",
       "      <td>8.100000</td>\n",
       "    </tr>\n",
       "    <tr>\n",
       "      <th>3</th>\n",
       "      <td>0.000000</td>\n",
       "      <td>USDALGO</td>\n",
       "      <td>592647685</td>\n",
       "      <td>USD/Algo Oracle coin</td>\n",
       "      <td>6</td>\n",
       "      <td>NaN</td>\n",
       "    </tr>\n",
       "    <tr>\n",
       "      <th>4</th>\n",
       "      <td>0.000000</td>\n",
       "      <td>WSC</td>\n",
       "      <td>641958950</td>\n",
       "      <td>Peters WSC coin</td>\n",
       "      <td>2</td>\n",
       "      <td>NaN</td>\n",
       "    </tr>\n",
       "    <tr>\n",
       "      <th>5</th>\n",
       "      <td>12.500000</td>\n",
       "      <td>WSC</td>\n",
       "      <td>642000039</td>\n",
       "      <td>Peters WSC coin</td>\n",
       "      <td>2</td>\n",
       "      <td>7.500000</td>\n",
       "    </tr>\n",
       "    <tr>\n",
       "      <th>6</th>\n",
       "      <td>NaN</td>\n",
       "      <td>TEMP</td>\n",
       "      <td>641963975</td>\n",
       "      <td>Peters Tempcoin</td>\n",
       "      <td>1</td>\n",
       "      <td>25.000000</td>\n",
       "    </tr>\n",
       "  </tbody>\n",
       "</table>\n",
       "</div>"
      ],
      "text/plain": [
       "   amountAlice     unit   asset-id                  name  decimals  amountBob\n",
       "0    21.370489     ALGO          0              Algorand         6  26.327488\n",
       "1   279.440275     USDC   10458941                  USDC         6   2.097569\n",
       "2     2.500000     PWSC  592359981       Peters WSC coin         2   8.100000\n",
       "3     0.000000  USDALGO  592647685  USD/Algo Oracle coin         6        NaN\n",
       "4     0.000000      WSC  641958950       Peters WSC coin         2        NaN\n",
       "5    12.500000      WSC  642000039       Peters WSC coin         2   7.500000\n",
       "6          NaN     TEMP  641963975       Peters Tempcoin         1  25.000000"
      ]
     },
     "execution_count": 17,
     "metadata": {},
     "output_type": "execute_result"
    }
   ],
   "source": [
    "asset_holdings_df2(algod_client, Alice['public'], Bob['public'], suffix=['Alice','Bob'])"
   ]
  },
  {
   "cell_type": "markdown",
   "metadata": {
    "tags": []
   },
   "source": [
    "## Discussion: the relevance of the transaction groups\n",
    "* Implement an \"all or nothing\" logic\n",
    "* If **only one** transaction fails, the **whole transaction group** fails ... \n",
    "    * If one account would be overspending\n",
    "    * If one signature is not valid\n",
    "    * If one account has not opted in\n",
    "    * If one transaction has been modified after calculating the `group_id`"
   ]
  },
  {
   "cell_type": "markdown",
   "metadata": {
    "tags": []
   },
   "source": [
    "## Appendix: how to merge dataframes\n",
    "This section explains how `asset_holdings_df2()`works\n",
    "\n",
    "* The Python library for working with dataframes is called Pandas\n",
    "* Most people abbreviate it to `pd` using `import pandas as pd`\n",
    "* The `pd.merge()` method merges two dataframes ... but how exactly?"
   ]
  },
  {
   "cell_type": "code",
   "execution_count": null,
   "metadata": {},
   "outputs": [],
   "source": [
    "# get the holdings of Alice and Bob separately\n",
    "alice_holding=asset_holdings_df(algod_client, Alice['public'])\n",
    "bob_holding=asset_holdings_df(algod_client, Bob['public'])"
   ]
  },
  {
   "cell_type": "code",
   "execution_count": null,
   "metadata": {},
   "outputs": [],
   "source": [
    "# Merge in one data.frame using pandas merge\n",
    "pd.merge(alice_holding, bob_holding,  \n",
    "         how=\"outer\", \n",
    "         on=[\"asset-id\", \"unit\", \"name\", \"decimals\"], \n",
    "         suffixes=['Alice','Bob'])"
   ]
  },
  {
   "cell_type": "code",
   "execution_count": null,
   "metadata": {},
   "outputs": [],
   "source": [
    "# package as function\n",
    "def asset_holdings_df2(client,adr1,adr2,suffix=['','']):\n",
    "    # client = algosdk client\n",
    "    # adr1, adr2 = public address to be analyzed\n",
    "    import pandas as pd\n",
    "    from algosdk.v2client import algod\n",
    "    info1 = asset_holdings(client, adr1)\n",
    "    df1 = pd.DataFrame(info1)\n",
    "    info2 = asset_holdings(client, adr2)\n",
    "    df2 = pd.DataFrame(info2)\n",
    "    df_merge = pd.merge(df1,df2,how=\"outer\", on=[\"asset-id\", \"unit\", \"name\", \"decimals\"],suffixes=suffix)\n",
    "    return(df_merge)"
   ]
  }
 ],
 "metadata": {
  "kernelspec": {
   "display_name": "Python 3 (ipykernel)",
   "language": "python",
   "name": "python3"
  },
  "language_info": {
   "codemirror_mode": {
    "name": "ipython",
    "version": 3
   },
   "file_extension": ".py",
   "mimetype": "text/x-python",
   "name": "python",
   "nbconvert_exporter": "python",
   "pygments_lexer": "ipython3",
   "version": "3.11.5"
  }
 },
 "nbformat": 4,
 "nbformat_minor": 4
}
