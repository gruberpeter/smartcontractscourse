{
 "cells": [
  {
   "cell_type": "markdown",
   "metadata": {},
   "source": [
    "## Create a Token on the Algorand Blockchain\n",
    "#### 04.3 Winter School on Smart Contracts\n",
    "##### Peter Gruber (peter.gruber@usi.ch)\n",
    "2021-11-28\n",
    "\n",
    "* Create an ASA token\n",
    "* Transfer an ASA token\n",
    "* Information about token holdings"
   ]
  },
  {
   "cell_type": "markdown",
   "metadata": {
    "tags": []
   },
   "source": [
    "### Setup\n",
    "See notebook 04.1, the lines below will always automatically load functions in `algo_util.py`, the five accounts and the Purestake credentials"
   ]
  },
  {
   "cell_type": "code",
   "execution_count": 1,
   "metadata": {},
   "outputs": [],
   "source": [
    "# Loading shared code and credentials\n",
    "import sys, os\n",
    "codepath = '..'+os.path.sep+'..'+os.path.sep+'sharedCode'\n",
    "sys.path.append(codepath)\n",
    "from algo_util import *\n",
    "cred = load_credentials()\n",
    "\n",
    "# Shortcuts to directly access the 5 main accounts\n",
    "MyAlgo  = cred['MyAlgo']\n",
    "Alice   = cred['Alice']\n",
    "Bob     = cred['Bob']\n",
    "Charlie = cred['Charlie']\n",
    "Dina    = cred['Dina']"
   ]
  },
  {
   "cell_type": "code",
   "execution_count": 2,
   "metadata": {},
   "outputs": [],
   "source": [
    "from algosdk import account, mnemonic\n",
    "from algosdk.v2client import algod\n",
    "from algosdk.future.transaction import PaymentTxn\n",
    "from algosdk.future.transaction import AssetConfigTxn, AssetTransferTxn, AssetFreezeTxn\n",
    "import algosdk.error\n",
    "import json"
   ]
  },
  {
   "cell_type": "code",
   "execution_count": 3,
   "metadata": {},
   "outputs": [],
   "source": [
    "# Initialize the algod client (Testnet or Mainnet)\n",
    "algod_client = algod.AlgodClient(algod_token='', algod_address=cred['algod_test'], headers=cred['purestake_token'])"
   ]
  },
  {
   "cell_type": "markdown",
   "metadata": {},
   "source": [
    "## Create an ASA = Algorand Standard Asset\n",
    "\n",
    "This is our first token. The account MyAlgo will create an asset called `WSC Coin`. \n",
    "\n",
    "During creation, we need to assign the following roles, which we will use later ...\n",
    "\n",
    "* **Manager:** can change the thre follwoing roles\n",
    "* **Reserve:** where not yet distributed assets reside\n",
    "* **Freeze:** can freeze assets (e.g. to wait for KYC)\n",
    "* **Clawback:** can undo transactions *if users have opted in*\n",
    "\n",
    "See https://developer.algorand.org/docs/features/asa/ "
   ]
  },
  {
   "cell_type": "markdown",
   "metadata": {},
   "source": [
    "### Step 1: Prepare\n",
    "* Remember that tokens are divisible\n",
    "* We choose 2 decimals\n",
    "    * Our token can be divided into units as small as $\\frac{1}{10^2} = \\frac{1}{100} = 0.01$\n",
    "* To create 1000 tokens, we must create $1000 \\cdot 10^2$ *small units*"
   ]
  },
  {
   "cell_type": "code",
   "execution_count": 4,
   "metadata": {},
   "outputs": [
    {
     "name": "stdout",
     "output_type": "stream",
     "text": [
      "100000\n"
     ]
    }
   ],
   "source": [
    "sp = algod_client.suggested_params()\n",
    "token_supply = 1000                              # Token supply (big units)\n",
    "token_decimals =  2                              # Digits after the comma\n",
    "token_total = token_supply * 10**token_decimals  # Specify number of SMALLER unit (\"cents\")\n",
    "print(token_total)\n",
    "\n",
    "token_name  = \"Peters WSC coin\"                  # <----- YOUR NAME HERE\n",
    "token_url   = \"www.usi.ch/wsc\"                   # <----- CHANGE if you want to\n",
    "token_unit  = \"WSC\"                              # Abbreviation, e.g. shown in Algorand Wallet app  "
   ]
  },
  {
   "cell_type": "markdown",
   "metadata": {},
   "source": [
    "### Step 2: Asset creation transaction\n",
    "New type of transaction, the `AssetConfigTxn`"
   ]
  },
  {
   "cell_type": "code",
   "execution_count": 5,
   "metadata": {},
   "outputs": [
    {
     "name": "stdout",
     "output_type": "stream",
     "text": [
      "{'sender': 'VL5UU2QXNKNEH7VISHZFU2ALXN5MOIDD3KXEYX2ADLCCIYN3MCOKRBATV4', 'fee': 1000, 'first_valid_round': 26068669, 'last_valid_round': 26069669, 'note': None, 'genesis_id': 'testnet-v1.0', 'genesis_hash': 'SGO1GKSzyE7IEPItTxCByw9x8FmnrCDexi9/cOUJOiI=', 'group': None, 'lease': None, 'type': 'acfg', 'rekey_to': None, 'index': 0, 'total': 100000, 'default_frozen': False, 'unit_name': 'WSC', 'asset_name': 'Peters WSC coin', 'manager': 'VK6CCXY4IFHIJAVMRVS543LJQEQKOJO6YQ4DZNV3D2XJI4ETYBN5354EQU', 'reserve': 'VK6CCXY4IFHIJAVMRVS543LJQEQKOJO6YQ4DZNV3D2XJI4ETYBN5354EQU', 'freeze': 'CPUT3Z5CI3XOIZ4ARSGUFQD7V4YGYJW5BFAZMXX5YOV4KJCKI6MBCDY5XM', 'clawback': 'CPUT3Z5CI3XOIZ4ARSGUFQD7V4YGYJW5BFAZMXX5YOV4KJCKI6MBCDY5XM', 'url': 'www.usi.ch/wsc', 'metadata_hash': None, 'decimals': 2}\n"
     ]
    }
   ],
   "source": [
    "txn = AssetConfigTxn(\n",
    "    sender=MyAlgo['public'],                   # Creator of the ASA\n",
    "    sp=sp,                      \n",
    "    total=token_total,                         # Total supply in SMALL unit\n",
    "    decimals=token_decimals,                   # Decimals\n",
    "    default_frozen=False,                      # Are tokens frozen by default?\n",
    "    unit_name=token_unit,                      # Abbreviation     \n",
    "    asset_name=token_name,                     # Name\n",
    "    url=token_url,                             # URL\n",
    "    manager=Alice['public'],                   # Special roles (later more)\n",
    "    reserve=Alice['public'],                   # Special roles\n",
    "    freeze=Bob['public'],                      # Special roles\n",
    "    clawback=Bob['public']                     # Special roles\n",
    ")\n",
    "print(txn)"
   ]
  },
  {
   "cell_type": "markdown",
   "metadata": {},
   "source": [
    "### Step 3: Sign and send"
   ]
  },
  {
   "cell_type": "code",
   "execution_count": 6,
   "metadata": {},
   "outputs": [
    {
     "name": "stdout",
     "output_type": "stream",
     "text": [
      "Y2FQCFF7O7M3W4VX45TPUKDXYNFQXZG5MQJFUGZ35IKWX2UB3CUQ\n"
     ]
    }
   ],
   "source": [
    "stxn = txn.sign(MyAlgo['private'])             # Sign\n",
    "txid = algod_client.send_transaction(stxn)     # Send\n",
    "print(txid)"
   ]
  },
  {
   "cell_type": "markdown",
   "metadata": {},
   "source": [
    "### Step 4: Wait for confirmation"
   ]
  },
  {
   "cell_type": "code",
   "execution_count": 7,
   "metadata": {},
   "outputs": [
    {
     "name": "stdout",
     "output_type": "stream",
     "text": [
      "Current round is  26068671.\n",
      "Waiting for round 26068671 to finish.\n",
      "Transaction Y2FQCFF7O7M3W4VX45TPUKDXYNFQXZG5MQJFUGZ35IKWX2UB3CUQ confirmed in round 26068672.\n"
     ]
    }
   ],
   "source": [
    "# Wait for the transaction to be confirmed\n",
    "txinfo = wait_for_confirmation(algod_client,txid)"
   ]
  },
  {
   "cell_type": "markdown",
   "metadata": {},
   "source": [
    "### Step 5a: Asset index and information\n",
    "The asset's index is automatically created when the transaction is processed"
   ]
  },
  {
   "cell_type": "code",
   "execution_count": 8,
   "metadata": {},
   "outputs": [
    {
     "name": "stdout",
     "output_type": "stream",
     "text": [
      "{'asset-index': 147366699, 'confirmed-round': 26068672, 'pool-error': '', 'txn': {'sig': 'UgD7ZpO6eKnDVtnwIW+LcUscE5g8Q4yT2/WrA2CynrCfakd3LN5PtkFmR9S2D9I951825vwT81Eh/YPR3760BQ==', 'txn': {'apar': {'an': 'Peters WSC coin', 'au': 'www.usi.ch/wsc', 'c': 'CPUT3Z5CI3XOIZ4ARSGUFQD7V4YGYJW5BFAZMXX5YOV4KJCKI6MBCDY5XM', 'dc': 2, 'f': 'CPUT3Z5CI3XOIZ4ARSGUFQD7V4YGYJW5BFAZMXX5YOV4KJCKI6MBCDY5XM', 'm': 'VK6CCXY4IFHIJAVMRVS543LJQEQKOJO6YQ4DZNV3D2XJI4ETYBN5354EQU', 'r': 'VK6CCXY4IFHIJAVMRVS543LJQEQKOJO6YQ4DZNV3D2XJI4ETYBN5354EQU', 't': 100000, 'un': 'WSC'}, 'fee': 1000, 'fv': 26068669, 'gen': 'testnet-v1.0', 'gh': 'SGO1GKSzyE7IEPItTxCByw9x8FmnrCDexi9/cOUJOiI=', 'lv': 26069669, 'snd': 'VL5UU2QXNKNEH7VISHZFU2ALXN5MOIDD3KXEYX2ADLCCIYN3MCOKRBATV4', 'type': 'acfg'}}}\n"
     ]
    }
   ],
   "source": [
    "print(txinfo)"
   ]
  },
  {
   "cell_type": "code",
   "execution_count": 10,
   "metadata": {},
   "outputs": [
    {
     "name": "stdout",
     "output_type": "stream",
     "text": [
      "147366699\n",
      "https://testnet.algoexplorer.io/asset/147366699\n"
     ]
    }
   ],
   "source": [
    "# Get the asset ID and open in Algoexplorer\n",
    "WSC_id = txinfo['asset-index']\n",
    "print(WSC_id)\n",
    "print('https://testnet.algoexplorer.io/asset/{}'.format(WSC_id))"
   ]
  },
  {
   "cell_type": "markdown",
   "metadata": {},
   "source": [
    "#### Step 5b: Asset holdings on the wallet app\n",
    "**CHECK** your wallet app, where the holdings of WSC will already have shown up."
   ]
  },
  {
   "cell_type": "code",
   "execution_count": null,
   "metadata": {},
   "outputs": [],
   "source": [
    "# We can also check the assets that we have created\n",
    "account_info = algod_client.account_info(MyAlgo['public'])\n",
    "json_str = json.dumps(account_info['created-assets'])\n",
    "json.loads(json_str)"
   ]
  },
  {
   "cell_type": "markdown",
   "metadata": {},
   "source": [
    "## Transfer coins\n",
    "In this section we will transfer coins ...\n",
    "* Manually to Alice\n",
    "* Using Python to Bob"
   ]
  },
  {
   "cell_type": "markdown",
   "metadata": {},
   "source": [
    "### Manual transfer to Alice\n",
    "* Alice has to opt-in\n",
    "  * Tap `+ Add new asset`, then `All` (not \"Only verified\")\n",
    "  * Search for name or asset ID\n",
    "* Now you can send 10 WSC via QR code or copy-paste\n",
    "* To send *your* WSC to your neigbhor, she has to opt into your WSC coin!"
   ]
  },
  {
   "cell_type": "markdown",
   "metadata": {},
   "source": [
    "### Exercise: Python transfer to Bob \n",
    "* Remember that transfers of tokens (ASA) are performed with `AssetTransferTxn()` and not with `PaymentTxn()`\n",
    "* Also, do not forget the ..."
   ]
  },
  {
   "cell_type": "code",
   "execution_count": null,
   "metadata": {},
   "outputs": [],
   "source": [
    "# Your Python code goes here ...\n",
    "\n",
    "\n"
   ]
  },
  {
   "cell_type": "code",
   "execution_count": null,
   "metadata": {},
   "outputs": [],
   "source": [
    "# More Python code may go here ...\n",
    "\n",
    "\n"
   ]
  },
  {
   "cell_type": "markdown",
   "metadata": {},
   "source": [
    "#### A quick check of the (new) holdings of Bob"
   ]
  },
  {
   "cell_type": "code",
   "execution_count": null,
   "metadata": {},
   "outputs": [],
   "source": [
    "account_info = algod_client.account_info(Alice['public'])\n",
    "account_info"
   ]
  },
  {
   "cell_type": "markdown",
   "metadata": {},
   "source": [
    "## Appendix: Get (more/better) information\n",
    "To reduce the confusion, especially when transferring ASA from one account to another, we create an overview of an account's holdings"
   ]
  },
  {
   "cell_type": "markdown",
   "metadata": {},
   "source": [
    "### Account info\n",
    "* ALGOs are always treated separately from ASA"
   ]
  },
  {
   "cell_type": "code",
   "execution_count": 46,
   "metadata": {},
   "outputs": [
    {
     "name": "stdout",
     "output_type": "stream",
     "text": [
      "57824106\n",
      "57.824106\n"
     ]
    }
   ],
   "source": [
    "print(account_info['amount'])         # micro Algos\n",
    "print(account_info['amount']/1E6)     # Algos"
   ]
  },
  {
   "cell_type": "code",
   "execution_count": null,
   "metadata": {},
   "outputs": [],
   "source": [
    "account_info['assets']                # All ASA"
   ]
  },
  {
   "cell_type": "markdown",
   "metadata": {},
   "source": [
    "### Asset Info"
   ]
  },
  {
   "cell_type": "code",
   "execution_count": null,
   "metadata": {},
   "outputs": [],
   "source": [
    "asset_info = algod_client.asset_info(WSC_id)\n",
    "asset_info"
   ]
  },
  {
   "cell_type": "code",
   "execution_count": 49,
   "metadata": {},
   "outputs": [
    {
     "name": "stdout",
     "output_type": "stream",
     "text": [
      "2\n",
      "WSC\n"
     ]
    }
   ],
   "source": [
    "# Useful fields\n",
    "print(asset_info['params']['decimals'])\n",
    "print(asset_info['params']['unit-name'])"
   ]
  },
  {
   "cell_type": "markdown",
   "metadata": {},
   "source": [
    "### Putting it together\n",
    "* Crate a Python list with all relevant holdings of an account"
   ]
  },
  {
   "cell_type": "code",
   "execution_count": null,
   "metadata": {},
   "outputs": [],
   "source": [
    "info = []\n",
    "# Algo part\n",
    "info.append( {'amount':  account_info['amount']/1E6, 'unit' :   'ALGO', 'asset-id': 0, 'name': 'Algorand' } )\n",
    "# ASA part\n",
    "assets = account_info['assets']\n",
    "for asset in assets:\n",
    "    asset_id     = asset['asset-id']\n",
    "    asset_info   = algod_client.asset_info(asset_id)                         # Get all info\n",
    "    asset_amount = asset['amount']/10**asset_info['params']['decimals']      # convert to BIG units\n",
    "    asset_unit   = asset_info['params']['unit-name']\n",
    "    info.append( {'amount':  asset_amount,\n",
    "                  'unit' :   asset_unit,\n",
    "                  'asset-id':asset_id,\n",
    "                  'name': asset_info['params']['name']\n",
    "                  } )\n",
    "\n",
    "info"
   ]
  },
  {
   "cell_type": "markdown",
   "metadata": {},
   "source": [
    "### Packaging and adding a data.frame\n",
    "* `asset_holdings()` returns a list\n",
    "* `asset_holdings_df()` returns a pandas data frame\n",
    "\n",
    "The functions are also part of `algo_util.py`."
   ]
  },
  {
   "cell_type": "code",
   "execution_count": 59,
   "metadata": {},
   "outputs": [],
   "source": [
    "def asset_holdings(algod_client, public):\n",
    "    # client = algosdk client\n",
    "    # public = public address to be analyzed\n",
    "\n",
    "    import pandas as pd\n",
    "    from algosdk.v2client import algod\n",
    "    account_info = algod_client.account_info(public)\n",
    "\n",
    "    info = []\n",
    "    # Algo part\n",
    "    info.append( {'amount':  account_info['amount']/1E6, \n",
    "                  'unit' :   'ALGO', \n",
    "                  'asset-id': 0, \n",
    "                  'name': 'Algorand'\n",
    "                  } )\n",
    "\n",
    "    # ASA part\n",
    "    assets = account_info['assets']\n",
    "    for asset in assets:\n",
    "        asset_id     = asset['asset-id']\n",
    "        asset_info   = algod_client.asset_info(asset_id)                         # Get all info\n",
    "        asset_amount = asset['amount']/10**asset_info['params']['decimals']      # convert to BIG units\n",
    "        asset_unit   = asset_info['params']['unit-name']\n",
    "        info.append( {'amount':  asset_amount,\n",
    "                      'unit' :   asset_unit,\n",
    "                      'asset-id':asset_id,\n",
    "                      'name': asset_info['params']['name']\n",
    "                      } )\n",
    "    return(info)"
   ]
  },
  {
   "cell_type": "code",
   "execution_count": null,
   "metadata": {},
   "outputs": [],
   "source": [
    "asset_holdings(algod_client,Alice['public'])"
   ]
  },
  {
   "cell_type": "code",
   "execution_count": 61,
   "metadata": {},
   "outputs": [],
   "source": [
    "def asset_holdings_df(algod_client, public):\n",
    "    import pandas as pd\n",
    "    from algosdk.v2client import algod\n",
    "    info = asset_holdings(algod_client, public)\n",
    "    df = pd.DataFrame(info)\n",
    "    return(df)"
   ]
  },
  {
   "cell_type": "code",
   "execution_count": null,
   "metadata": {},
   "outputs": [],
   "source": [
    "asset_holdings_df(algod_client,Alice['public'])"
   ]
  }
 ],
 "metadata": {
  "kernelspec": {
   "display_name": "Python 3",
   "language": "python",
   "name": "python3"
  },
  "language_info": {
   "codemirror_mode": {
    "name": "ipython",
    "version": 3
   },
   "file_extension": ".py",
   "mimetype": "text/x-python",
   "name": "python",
   "nbconvert_exporter": "python",
   "pygments_lexer": "ipython3",
   "version": "3.7.6"
  }
 },
 "nbformat": 4,
 "nbformat_minor": 4
}
