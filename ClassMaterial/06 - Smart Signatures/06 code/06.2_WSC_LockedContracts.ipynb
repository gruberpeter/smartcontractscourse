{
 "cells": [
  {
   "cell_type": "markdown",
   "metadata": {},
   "source": [
    "# HTLC – A Classical Smart Contract\n",
    "#### 06.2 Writing Smart Contracts\n",
    "##### Peter Gruber (peter.gruber@usi.ch)\n",
    "2022-01-12\n",
    "\n",
    "* Write a Hash Time Locked Contract\n",
    "* Use secret (hashed) passwords\n",
    "* Use time delays\n",
    "* Limits of passwords on the blockchain"
   ]
  },
  {
   "cell_type": "markdown",
   "metadata": {
    "tags": []
   },
   "source": [
    "## Setup\n",
    "See notebook 04.1, the lines below will always automatically load functions in `algo_util.py`, the 5 accounts and the Purestake credentials"
   ]
  },
  {
   "cell_type": "code",
   "execution_count": 6,
   "metadata": {},
   "outputs": [],
   "source": [
    "# Loading shared code and credentials\n",
    "import sys, os\n",
    "\n",
    "codepath = '..'+os.path.sep+'..'+os.path.sep+'sharedCode'\n",
    "sys.path.append(codepath)\n",
    "from algo_util import *\n",
    "cred = load_credentials()\n",
    "\n",
    "# Shortcuts to directly access the 3 main accounts\n",
    "MyAlgo  = cred['MyAlgo']\n",
    "Alice   = cred['Alice']\n",
    "Bob     = cred['Bob']\n",
    "Charlie = cred['Charlie']\n",
    "Dina    = cred['Dina']"
   ]
  },
  {
   "cell_type": "code",
   "execution_count": 7,
   "metadata": {},
   "outputs": [],
   "source": [
    "from algosdk import account, mnemonic\n",
    "from algosdk.v2client import algod\n",
    "from algosdk.future import transaction\n",
    "from algosdk.future.transaction import PaymentTxn\n",
    "from algosdk.future.transaction import AssetConfigTxn, AssetTransferTxn, AssetFreezeTxn\n",
    "from algosdk.future.transaction import LogicSig, LogicSigTransaction\n",
    "\n",
    "import algosdk.error\n",
    "import json\n",
    "import base64\n",
    "import hashlib"
   ]
  },
  {
   "cell_type": "code",
   "execution_count": 8,
   "metadata": {},
   "outputs": [],
   "source": [
    "from pyteal import *"
   ]
  },
  {
   "cell_type": "code",
   "execution_count": 9,
   "metadata": {},
   "outputs": [],
   "source": [
    "# Initialize the algod client (Testnet or Mainnet)\n",
    "algod_client = algod.AlgodClient(algod_token='', algod_address=cred['algod_test'], headers=cred['purestake_token'])"
   ]
  },
  {
   "cell_type": "code",
   "execution_count": 10,
   "metadata": {},
   "outputs": [
    {
     "name": "stdout",
     "output_type": "stream",
     "text": [
      "HITPAAJ4HKANMP6EUYASXDUTCL653T7QMNHJL5NODL6XEGBM4KBLDJ2D2E\n",
      "O2SLRPK4I4SWUOCYGGKHHUCFJJF5ORHFL76YO43FYTB7HUO7AHDDNNR5YA\n",
      "5GIOBOLZSQEHTNNXWRJ6RGNPGCKWYJYUZZKY6YXHJVKFZXRB2YLDFDVH64\n"
     ]
    }
   ],
   "source": [
    "print(Alice['public'])\n",
    "print(Bob['public'])\n",
    "print(Charlie['public'])"
   ]
  },
  {
   "cell_type": "markdown",
   "metadata": {},
   "source": [
    "#### Quick check of asset holdings, otherwise go to ...\n",
    "- https://bank.testnet.algorand.network\n",
    "- https://testnet.algoexplorer.io/dispenser"
   ]
  },
  {
   "cell_type": "code",
   "execution_count": 11,
   "metadata": {},
   "outputs": [
    {
     "data": {
      "text/html": [
       "<div>\n",
       "<style scoped>\n",
       "    .dataframe tbody tr th:only-of-type {\n",
       "        vertical-align: middle;\n",
       "    }\n",
       "\n",
       "    .dataframe tbody tr th {\n",
       "        vertical-align: top;\n",
       "    }\n",
       "\n",
       "    .dataframe thead th {\n",
       "        text-align: right;\n",
       "    }\n",
       "</style>\n",
       "<table border=\"1\" class=\"dataframe\">\n",
       "  <thead>\n",
       "    <tr style=\"text-align: right;\">\n",
       "      <th></th>\n",
       "      <th>amount</th>\n",
       "      <th>unit</th>\n",
       "      <th>asset-id</th>\n",
       "      <th>name</th>\n",
       "      <th>decimals</th>\n",
       "    </tr>\n",
       "  </thead>\n",
       "  <tbody>\n",
       "    <tr>\n",
       "      <th>0</th>\n",
       "      <td>30.843996</td>\n",
       "      <td>ALGO</td>\n",
       "      <td>0</td>\n",
       "      <td>Algorand</td>\n",
       "      <td>6</td>\n",
       "    </tr>\n",
       "    <tr>\n",
       "      <th>1</th>\n",
       "      <td>200.000000</td>\n",
       "      <td>USDC</td>\n",
       "      <td>10458941</td>\n",
       "      <td>USDC</td>\n",
       "      <td>6</td>\n",
       "    </tr>\n",
       "    <tr>\n",
       "      <th>2</th>\n",
       "      <td>0.100000</td>\n",
       "      <td>WSC</td>\n",
       "      <td>66504861</td>\n",
       "      <td>WSC coin</td>\n",
       "      <td>2</td>\n",
       "    </tr>\n",
       "    <tr>\n",
       "      <th>3</th>\n",
       "      <td>0.000000</td>\n",
       "      <td>WSC</td>\n",
       "      <td>66505040</td>\n",
       "      <td>WSC coin</td>\n",
       "      <td>2</td>\n",
       "    </tr>\n",
       "    <tr>\n",
       "      <th>4</th>\n",
       "      <td>100.000000</td>\n",
       "      <td>ALICE</td>\n",
       "      <td>66712019</td>\n",
       "      <td>Alice's Tempcoin</td>\n",
       "      <td>1</td>\n",
       "    </tr>\n",
       "    <tr>\n",
       "      <th>5</th>\n",
       "      <td>100.000000</td>\n",
       "      <td>ALICE</td>\n",
       "      <td>66712340</td>\n",
       "      <td>Alice's Tempcoin</td>\n",
       "      <td>1</td>\n",
       "    </tr>\n",
       "    <tr>\n",
       "      <th>6</th>\n",
       "      <td>1.000000</td>\n",
       "      <td>ALICEART</td>\n",
       "      <td>69394953</td>\n",
       "      <td>Alice's First Portrait 001</td>\n",
       "      <td>0</td>\n",
       "    </tr>\n",
       "    <tr>\n",
       "      <th>7</th>\n",
       "      <td>0.000000</td>\n",
       "      <td>VtC</td>\n",
       "      <td>70161280</td>\n",
       "      <td>VoteCoin</td>\n",
       "      <td>2</td>\n",
       "    </tr>\n",
       "    <tr>\n",
       "      <th>8</th>\n",
       "      <td>0.000000</td>\n",
       "      <td>VtC</td>\n",
       "      <td>70166124</td>\n",
       "      <td>VoteCoin</td>\n",
       "      <td>2</td>\n",
       "    </tr>\n",
       "  </tbody>\n",
       "</table>\n",
       "</div>"
      ],
      "text/plain": [
       "       amount      unit  asset-id                        name  decimals\n",
       "0   30.843996      ALGO         0                    Algorand         6\n",
       "1  200.000000      USDC  10458941                        USDC         6\n",
       "2    0.100000       WSC  66504861                    WSC coin         2\n",
       "3    0.000000       WSC  66505040                    WSC coin         2\n",
       "4  100.000000     ALICE  66712019            Alice's Tempcoin         1\n",
       "5  100.000000     ALICE  66712340            Alice's Tempcoin         1\n",
       "6    1.000000  ALICEART  69394953  Alice's First Portrait 001         0\n",
       "7    0.000000       VtC  70161280                    VoteCoin         2\n",
       "8    0.000000       VtC  70166124                    VoteCoin         2"
      ]
     },
     "execution_count": 11,
     "metadata": {},
     "output_type": "execute_result"
    }
   ],
   "source": [
    "ascset_holdings_df(algod_client,Alice['public'])"
   ]
  },
  {
   "cell_type": "markdown",
   "metadata": {},
   "source": [
    "#### Check Purestake API"
   ]
  },
  {
   "cell_type": "code",
   "execution_count": 12,
   "metadata": {},
   "outputs": [
    {
     "name": "stdout",
     "output_type": "stream",
     "text": [
      "Last committed block is: 19812241\n"
     ]
    }
   ],
   "source": [
    "last_block = algod_client.status()[\"last-round\"]\n",
    "print(f\"Last committed block is: {last_block}\")"
   ]
  },
  {
   "cell_type": "markdown",
   "metadata": {},
   "source": [
    "## The Cash Machine revisited\n",
    "\n",
    "#### Remember\n",
    "* Alice created a *Cash Machine* contract that requires a password\n",
    "* Bob has to know the password to withdraw money\n",
    "* Alice must give the following to Bob\n",
    "  * The **address** of the smart contract\n",
    "  * The **code of the smart signature** $\\leftarrow$ this is actually a **problem**"
   ]
  },
  {
   "cell_type": "code",
   "execution_count": 91,
   "metadata": {},
   "outputs": [
    {
     "name": "stdout",
     "output_type": "stream",
     "text": [
      "Alice sends these two items to Bob\n",
      "Compiled smart signature: AyYBJXsiVmVyeSBsb25nIGFuZCB2ZXJ5IHNlY3JldCBtZXNzYWdlIn0xBSgS\n",
      "Address of smart signature:  6356RZLJANV4OT7WX2N25NVKR2U22XV3G3ZVK6J44SOZWZAUC75A3GXRSE\n"
     ]
    }
   ],
   "source": [
    "# Looking again at the Cash Machine\n",
    "\n",
    "# Step 1: Conditions as a PyTeal\n",
    "cashmachine_pyteal = ( \n",
    "    Txn.note() == Bytes('{\"Very long and very secret message\"}') \n",
    "    )\n",
    "\n",
    "# Step 2-3: Compile PyTeal -> Teal -> Bytecode for AVM\n",
    "cashmachine_teal = compileTeal(cashmachine_pyteal, Mode.Signature, version=3)\n",
    "\n",
    "# compile Teal -> Bytecode\n",
    "Cashmachine = algod_client.compile(cashmachine_teal)\n",
    "print(\"Alice sends these two items to Bob\")\n",
    "print(\"Compiled smart signature:\", Cashmachine['result'])\n",
    "print(\"Address of smart signature: \", Cashmachine['hash'])"
   ]
  },
  {
   "cell_type": "markdown",
   "metadata": {},
   "source": [
    "#### So what exactly ...\n",
    "\n",
    "is inside this smart signature code?"
   ]
  },
  {
   "cell_type": "code",
   "execution_count": 92,
   "metadata": {},
   "outputs": [
    {
     "data": {
      "text/plain": [
       "b'\\x03&\\x01%{\"Very long and very secret message\"}1\\x05(\\x12'"
      ]
     },
     "execution_count": 92,
     "metadata": {},
     "output_type": "execute_result"
    }
   ],
   "source": [
    "# The code is bascially a base-64 encoding of the TEAL program\n",
    "base64.b64decode(Cashmachine['result'])"
   ]
  },
  {
   "cell_type": "markdown",
   "metadata": {},
   "source": [
    "## The Hash lock contract\n",
    "\n",
    "#### Better\n",
    "* Store the **hash** of the password"
   ]
  },
  {
   "cell_type": "markdown",
   "metadata": {},
   "source": [
    "#### Step 1: Create a hash of the password"
   ]
  },
  {
   "cell_type": "code",
   "execution_count": 13,
   "metadata": {},
   "outputs": [
    {
     "name": "stdout",
     "output_type": "stream",
     "text": [
      "76241abc874467ec6cb2b9cdf60c712bfd213425fb391a5bef81b5efd22138d5\n"
     ]
    }
   ],
   "source": [
    "secret_password = 'WSC secret'\n",
    "hash = hashlib.sha256( secret_password.encode() )\n",
    "print(hash.hexdigest())                                 # The hash is HEX encoded"
   ]
  },
  {
   "cell_type": "markdown",
   "metadata": {},
   "source": [
    "#### Step 2: Use the hashed password in PyTeal condition"
   ]
  },
  {
   "cell_type": "code",
   "execution_count": 16,
   "metadata": {},
   "outputs": [],
   "source": [
    "hashlock_cond = ( \n",
    "    Sha256(Txn.note()) == Bytes(hash.hexdigest()) \n",
    "    )\n",
    "\n",
    "# prepare random condition\n",
    "import random\n",
    "a = Int( random.randrange(2**32-1) )\n",
    "random_cond = ( a == a )\n",
    "\n",
    "fee_cond = ( Txn.fee() <= Int(1000) )\n",
    "\n",
    "safety_cond = And(\n",
    "    Global.group_size() == Int(1),                   # Not part of a TX group\n",
    "    Txn.type_enum() == TxnType.Payment,\n",
    "    Txn.rekey_to() == Global.zero_address(),\n",
    "    Txn.close_remainder_to() == Global.zero_address()\n",
    "    )\n",
    "\n",
    "hashlock_pyteal = And(\n",
    "    hashlock_cond, \n",
    "    random_cond, \n",
    "    fee_cond, \n",
    "    safety_cond\n",
    "    )"
   ]
  },
  {
   "cell_type": "code",
   "execution_count": 15,
   "metadata": {},
   "outputs": [],
   "source": [
    "# Alternatively if you have the hashed value in HEX = base16 representation\n",
    "# Convert to Bytes using the following command\n",
    "# Note: the \"0x\" at the beginning of the hash is optional\n",
    "hashlock_cond = (\n",
    "    Sha256(Txn.note()) == Bytes(\"base16\",\"76241abc874467ec6cb2b9cdf60c712bfd213425fb391a5bef81b5efd22138d5\")\n",
    "     )\n",
    "\n",
    "# prepare random condition\n",
    "import random\n",
    "a = Int( random.randrange(2**32-1) )\n",
    "random_cond = ( a == a )\n",
    "\n",
    "fee_cond = ( Txn.fee() <= Int(1000) )\n",
    "\n",
    "safety_cond = And(\n",
    "    Global.group_size() == Int(1),                   # Not part of a TX group\n",
    "    Txn.type_enum() == TxnType.Payment,\n",
    "    Txn.rekey_to() == Global.zero_address(),\n",
    "    Txn.close_remainder_to() == Global.zero_address()\n",
    "    )\n",
    "\n",
    "hashlock_pyteal = And (hashlock_cond, random_cond, fee_cond, safety_cond)"
   ]
  },
  {
   "cell_type": "markdown",
   "metadata": {},
   "source": [
    "#### Step 3-4: Compile"
   ]
  },
  {
   "cell_type": "code",
   "execution_count": 100,
   "metadata": {},
   "outputs": [
    {
     "name": "stdout",
     "output_type": "stream",
     "text": [
      "#pragma version 3\n",
      "txn Note\n",
      "sha256\n",
      "byte 0x76241abc874467ec6cb2b9cdf60c712bfd213425fb391a5bef81b5efd22138d5\n",
      "==\n",
      "int 2892832491\n",
      "int 2892832491\n",
      "==\n",
      "&&\n",
      "Alice sends these two items to Bob\n",
      "Compiled smart signature: AyAB67204womASB2JBq8h0Rn7Gyyuc32DHEr/SE0Jfs5GlvvgbXv0iE41TEFASgSIiISEA==\n",
      "Address of smart signature:  TH2JUTSC7DPJGMKBRWKXKICX7T5WUMTUVJRS2CGAV3JKROZ5MZQD74AQBI\n"
     ]
    }
   ],
   "source": [
    "# Compile PyTeal -> Teal -> Bytecode for AVM\n",
    "hashlock_teal = compileTeal(hashlock_pyteal, Mode.Signature, version=3)\n",
    "print(hashlock_teal)\n",
    "\n",
    "# Step 3: Compile Teal \n",
    "Hashlock = algod_client.compile(hashlock_teal)\n",
    "print(\"Alice sends these two items to Bob\")\n",
    "print(\"Compiled smart signature:\", Hashlock['result'])\n",
    "print(\"Address of smart signature: \", Hashlock['hash'])"
   ]
  },
  {
   "cell_type": "markdown",
   "metadata": {},
   "source": [
    "#### Step 5: Quick check: can Bob crack the code?"
   ]
  },
  {
   "cell_type": "code",
   "execution_count": 101,
   "metadata": {},
   "outputs": [
    {
     "name": "stdout",
     "output_type": "stream",
     "text": [
      "b'\\x03 \\x01\\xeb\\xbd\\xb4\\xe3\\n&\\x01 v$\\x1a\\xbc\\x87Dg\\xecl\\xb2\\xb9\\xcd\\xf6\\x0cq+\\xfd!4%\\xfb9\\x1a[\\xef\\x81\\xb5\\xef\\xd2!8\\xd51\\x05\\x01(\\x12\"\"\\x12\\x10'\n",
      "032001ebbdb4e30a26012076241abc874467ec6cb2b9cdf60c712bfd213425fb391a5bef81b5efd22138d5310501281222221210\n"
     ]
    }
   ],
   "source": [
    "print(base64.b64decode(Hashlock['result']))\n",
    "# BTW: can you find the hash of the password?\n",
    "print(base64.b64decode(Hashlock['result']).hex())"
   ]
  },
  {
   "cell_type": "markdown",
   "metadata": {},
   "source": [
    "#### Step 6: Alice is funding the Smart Signature"
   ]
  },
  {
   "cell_type": "code",
   "execution_count": 102,
   "metadata": {},
   "outputs": [
    {
     "name": "stdout",
     "output_type": "stream",
     "text": [
      "Current round is  19808154.\n",
      "Waiting for round 19808154 to finish.\n",
      "Waiting for round 19808155 to finish.\n",
      "Transaction QKILDI76OSHFHBLQZPRVUED2THV6JRFDVQDD56PSLJRYIIEQPPEA confirmed in round 19808156.\n",
      "http://testnet.algoexplorer.io/tx/QKILDI76OSHFHBLQZPRVUED2THV6JRFDVQDD56PSLJRYIIEQPPEA\n"
     ]
    }
   ],
   "source": [
    "# Step 1: prepare transaction\n",
    "sp = algod_client.suggested_params()\n",
    "amt = int(5.2*1e6)\n",
    "txn = transaction.PaymentTxn(sender=Alice['public'], sp=sp, receiver=Hashlock['hash'], amt=amt)\n",
    "\n",
    "# Step 2+3: sign and send\n",
    "stxn = txn.sign(Alice['private'])\n",
    "txid = algod_client.send_transaction(stxn)\n",
    "\n",
    "# Step 4: wait for confirmation\n",
    "txinfo = wait_for_confirmation(algod_client, txid)\n",
    "\n",
    "print('http://testnet.algoexplorer.io/tx/'+txid)"
   ]
  },
  {
   "cell_type": "markdown",
   "metadata": {},
   "source": [
    "#### Step 7: Bob asks the smart signature to sign a transaction with the correct password"
   ]
  },
  {
   "cell_type": "code",
   "execution_count": 105,
   "metadata": {},
   "outputs": [
    {
     "name": "stdout",
     "output_type": "stream",
     "text": [
      "Current round is  19808294.\n",
      "Waiting for round 19808294 to finish.\n",
      "Waiting for round 19808295 to finish.\n",
      "Transaction SESVMSGKXZY6JIFJH47743IABRGERJO4EJCTSE7H62ZYG5XJEM5Q confirmed in round 19808296.\n"
     ]
    }
   ],
   "source": [
    "# correct password\n",
    "withdrawal_amt = 100000\n",
    "my_note        = 'WSC secret'\n",
    "\n",
    "# Step 1: prepare TX\n",
    "sp = algod_client.suggested_params()\n",
    "withdrawal_amt = int(1*1e6)              # <---------- OK!!\n",
    "txn = PaymentTxn(sender=Hashlock['hash'], sp=sp, \n",
    "                 receiver=Bob['public'], amt=withdrawal_amt,\n",
    "                note = my_note.encode(),\n",
    "                close_remainder_to = Bob['public'])\n",
    "\n",
    "# Step 2: sign TX <---- This step is different!\n",
    "encodedProg = Hashlock['result'].encode()\n",
    "program = base64.decodebytes(encodedProg)\n",
    "lsig = LogicSig(program)\n",
    "stxn = LogicSigTransaction(txn, lsig)\n",
    "\n",
    "# Step 3: send\n",
    "txid = algod_client.send_transaction(stxn)\n",
    "\n",
    "# Step4: wait for confirmation\n",
    "txinfo = wait_for_confirmation(algod_client, txid)"
   ]
  },
  {
   "cell_type": "markdown",
   "metadata": {},
   "source": [
    "#### Step 8: Check the \"Note\" field on Algoexplorer\n",
    "The password is now out in the open ... we cannot do anything about it"
   ]
  },
  {
   "cell_type": "code",
   "execution_count": 106,
   "metadata": {},
   "outputs": [
    {
     "name": "stdout",
     "output_type": "stream",
     "text": [
      "http://testnet.algoexplorer.io/tx/SESVMSGKXZY6JIFJH47743IABRGERJO4EJCTSE7H62ZYG5XJEM5Q\n"
     ]
    }
   ],
   "source": [
    "print('http://testnet.algoexplorer.io/tx/'+txid)"
   ]
  },
  {
   "cell_type": "markdown",
   "metadata": {},
   "source": [
    "## Things that do not work\n",
    "* Using the wrong password\n",
    "* Sending a hash of the pasword instead of the password (because it will be hashed again)"
   ]
  },
  {
   "cell_type": "markdown",
   "metadata": {},
   "source": [
    "## The Timelock contract\n",
    "\n",
    "* Money can only be accessed after a certain amount of time\n",
    "* *Examples:* vesting periods, deposits"
   ]
  },
  {
   "cell_type": "markdown",
   "metadata": {},
   "source": [
    "##### Step 1: Fomulate PyTeal conditions"
   ]
  },
  {
   "cell_type": "code",
   "execution_count": 17,
   "metadata": {},
   "outputs": [],
   "source": [
    "# prepare time condition\n",
    "start_round = algod_client.status()[\"last-round\"] \n",
    "time_cond = (\n",
    "    Txn.first_valid() > Int(start_round+10)           # Earliest payout after 10 rounds from \"now\"\n",
    ")\n",
    "\n",
    "# prepare random condition\n",
    "import random\n",
    "a = Int( random.randrange(2**32-1) )\n",
    "random_cond = ( a == a )\n",
    "\n",
    "fee_cond = ( Txn.fee() <= Int(1000) )\n",
    "\n",
    "safety_cond = And(\n",
    "    Global.group_size() == Int(1),                   # Not part of a TX group\n",
    "    Txn.type_enum() == TxnType.Payment,\n",
    "    Txn.rekey_to() == Global.zero_address(),\n",
    "    Txn.close_remainder_to() == Global.zero_address()\n",
    "    )\n",
    "    \n",
    "timelock_pyteal = And(\n",
    "    time_cond, \n",
    "    random_cond, \n",
    "    fee_cond, \n",
    "    safety_cond\n",
    "    )"
   ]
  },
  {
   "cell_type": "markdown",
   "metadata": {},
   "source": [
    "##### Step 2-3: Compile"
   ]
  },
  {
   "cell_type": "code",
   "execution_count": 18,
   "metadata": {},
   "outputs": [
    {
     "name": "stdout",
     "output_type": "stream",
     "text": [
      "#pragma version 3\n",
      "txn FirstValid\n",
      "int 19812266\n",
      ">\n",
      "int 895003614\n",
      "int 895003614\n",
      "==\n",
      "&&\n",
      "txn Fee\n",
      "int 1000\n",
      "<=\n",
      "&&\n",
      "global GroupSize\n",
      "int 1\n",
      "==\n",
      "txn TypeEnum\n",
      "int pay\n",
      "==\n",
      "&&\n",
      "txn RekeyTo\n",
      "global ZeroAddress\n",
      "==\n",
      "&&\n",
      "txn CloseRemainderTo\n",
      "global ZeroAddress\n",
      "==\n",
      "&&\n",
      "&&\n",
      "Smart signature addr:  34UPSBBLA4Q6PP7XQIRC7GKXC4T2FXSALQ4VXGC4IUEDVQY3MAES7SS63M\n",
      "Smart signature code:  AyAEqp+5Cd7X4qoD6AcBMQIiDSMjEhAxASQOEDIEJRIxECUSEDEgMgMSEDEJMgMSEBA=\n"
     ]
    }
   ],
   "source": [
    "# Step 2: Compile PyTeal -> Teal\n",
    "timelock_teal = compileTeal(timelock_pyteal, Mode.Signature, version=3)\n",
    "print(timelock_teal)\n",
    "\n",
    "# Step 3: Teal -> Bytecode for AVM\n",
    "Timelock = algod_client.compile(timelock_teal)\n",
    "print(\"Smart signature addr: \", Timelock['hash'])\n",
    "print(\"Smart signature code: \", Timelock['result'])"
   ]
  },
  {
   "cell_type": "markdown",
   "metadata": {},
   "source": [
    "##### Step 4: Alice funds and deploys the Smart Signature"
   ]
  },
  {
   "cell_type": "code",
   "execution_count": 117,
   "metadata": {},
   "outputs": [
    {
     "name": "stdout",
     "output_type": "stream",
     "text": [
      "Current round is  19808459.\n",
      "Waiting for round 19808459 to finish.\n",
      "Waiting for round 19808460 to finish.\n",
      "Transaction KAKY5KFKTW3EEF6NAVJDRRIQIJJKNXL6VCSF7ENFXPBMRVJTM2BQ confirmed in round 19808461.\n"
     ]
    }
   ],
   "source": [
    "# Step 1: prepare transaction\n",
    "sp = algod_client.suggested_params()\n",
    "amt = int(2.5*1e6)\n",
    "txn = transaction.PaymentTxn(sender=Alice['public'], sp=sp, receiver=Timelock['hash'], amt=amt)\n",
    "\n",
    "# Step 2+3: sign and sen\n",
    "stxn = txn.sign(Alice['private'])\n",
    "txid = algod_client.send_transaction(stxn)\n",
    "\n",
    "# Step 4: wait for confirmation\n",
    "txinfo = wait_for_confirmation(algod_client, txid)"
   ]
  },
  {
   "cell_type": "markdown",
   "metadata": {},
   "source": [
    "##### Step 5: Bob asks the smart signature to authorize a transaction\n",
    "* Be quick! \n",
    "* The transaction will fail first\n",
    "* But it will work after 10 rounds (approx 20-40 seconds)"
   ]
  },
  {
   "cell_type": "code",
   "execution_count": 120,
   "metadata": {},
   "outputs": [
    {
     "name": "stdout",
     "output_type": "stream",
     "text": [
      "Current round is  19808472.\n",
      "Waiting for round 19808472 to finish.\n",
      "Waiting for round 19808473 to finish.\n",
      "Waiting for round 19808474 to finish.\n",
      "Transaction FSUBHUUWGAIPN3IUWTHUMOHBJ4IYOL33QYB4QL2SZZKR63MDO6SA confirmed in round 19808474.\n"
     ]
    }
   ],
   "source": [
    "# Step 1: prepare TX\n",
    "sp = algod_client.suggested_params()\n",
    "withdrawal_amt = int(0.1*1e6)\n",
    "\n",
    "txn = PaymentTxn(sender=Timelock['hash'], sp=sp, \n",
    "                 receiver=Bob['public'], amt=withdrawal_amt)\n",
    "\n",
    "# Step 2: sign TX <---- This step is different!\n",
    "encodedProg = Timelock['result'].encode()\n",
    "program = base64.decodebytes(encodedProg)\n",
    "lsig = LogicSig(program)\n",
    "stxn = LogicSigTransaction(txn, lsig)\n",
    "\n",
    "# Step 3: send\n",
    "txid = algod_client.send_transaction(stxn)\n",
    "\n",
    "# Step 4: wait for confirmation\n",
    "txinfo = wait_for_confirmation(algod_client, txid)"
   ]
  },
  {
   "cell_type": "markdown",
   "metadata": {},
   "source": [
    "## The HTLC contract\n",
    "* A classical Smart Contract\n",
    "* Putting Hash Contract and Timelock contract together"
   ]
  },
  {
   "cell_type": "markdown",
   "metadata": {},
   "source": [
    "##### Step 1: All conditions in PyTeal"
   ]
  },
  {
   "cell_type": "code",
   "execution_count": 19,
   "metadata": {},
   "outputs": [],
   "source": [
    "# Prepare hash condition\n",
    "import hashlib\n",
    "secret_password = 'WSC secret'\n",
    "pwdhash = hashlib.sha256( secret_password.encode() )\n",
    "hash_cond =  (\n",
    "    Sha256(Txn.note()) == Bytes(pwdhash.hexdigest())\n",
    ")\n",
    "\n",
    "# prepare time conditoin\n",
    "start_round = algod_client.status()[\"last-round\"] \n",
    "time_cond = (\n",
    "    Txn.first_valid() > Int(start_round+60)                    # Earliest payout after 60 rounds from \"now\"\n",
    ")\n",
    "\n",
    "# prepare reandom condition\n",
    "import random\n",
    "a = Int( random.randrange(2**32-1) )\n",
    "random_cond = ( a == a )\n",
    "\n",
    "fee_cond = Txn.fee() <= Int(1000)\n",
    "\n",
    "safety_cond = And(\n",
    "    Txn.type_enum() == TxnType.Payment,\n",
    "    Txn.close_remainder_to() == Global.zero_address(),\n",
    "    Txn.rekey_to() == Global.zero_address(),\n",
    "    )\n",
    "    \n",
    "htlc_pyteal = And(\n",
    "    Or(hash_cond, time_cond), \n",
    "    random_cond, \n",
    "    fee_cond, \n",
    "    safety_cond\n",
    "    )"
   ]
  },
  {
   "cell_type": "markdown",
   "metadata": {},
   "source": [
    "##### Step 2-3: Compile"
   ]
  },
  {
   "cell_type": "code",
   "execution_count": 20,
   "metadata": {},
   "outputs": [
    {
     "name": "stdout",
     "output_type": "stream",
     "text": [
      "#pragma version 3\n",
      "txn Note\n",
      "sha256\n",
      "byte \"76241abc874467ec6cb2b9cdf60c712bfd213425fb391a5bef81b5efd22138d5\"\n",
      "==\n",
      "txn FirstValid\n",
      "int 19812321\n",
      ">\n",
      "||\n",
      "int 625620676\n",
      "int 625620676\n",
      "==\n",
      "&&\n",
      "txn Fee\n",
      "int 1000\n",
      "<=\n",
      "&&\n",
      "txn TypeEnum\n",
      "int pay\n",
      "==\n",
      "txn CloseRemainderTo\n",
      "global ZeroAddress\n",
      "==\n",
      "&&\n",
      "txn RekeyTo\n",
      "global ZeroAddress\n",
      "==\n",
      "&&\n",
      "&&\n",
      "Smart signature addr:  34UPSBBLA4Q6PP7XQIRC7GKXC4T2FXSALQ4VXGC4IUEDVQY3MAES7SS63M\n",
      "Smart signature code:  AyAEqp+5Cd7X4qoD6AcBMQIiDSMjEhAxASQOEDIEJRIxECUSEDEgMgMSEDEJMgMSEBA=\n"
     ]
    }
   ],
   "source": [
    "# Step 2: Compile PyTeal -> Teal\n",
    "htlc_teal = compileTeal(htlc_pyteal, Mode.Signature, version=3)\n",
    "print(htlc_teal)\n",
    "\n",
    "# Step 3: Teal -> Bytecode for AVM\n",
    "Htlc = algod_client.compile(timelock_teal)\n",
    "print(\"Smart signature addr: \", Htlc['hash'])\n",
    "print(\"Smart signature code: \", Htlc['result'])"
   ]
  },
  {
   "cell_type": "markdown",
   "metadata": {},
   "source": [
    "##### Step 4: Alice funds and deploys the Smart Signature"
   ]
  },
  {
   "cell_type": "code",
   "execution_count": null,
   "metadata": {},
   "outputs": [],
   "source": [
    "# Step 1: prepare transaction\n",
    "sp = algod_client.suggested_params()\n",
    "amt = int(2.5*1e6)\n",
    "txn = transaction.PaymentTxn(sender=Alice['public'], sp=sp, receiver=Htlc['hash'], amt=amt)\n",
    "\n",
    "# Step 2+3: sign and sen\n",
    "stxn = txn.sign(Alice['private'])\n",
    "txid = algod_client.send_transaction(stxn)\n",
    "\n",
    "# Step 4: wait for confirmation\n",
    "txinfo = wait_for_confirmation(algod_client, txid)"
   ]
  },
  {
   "cell_type": "markdown",
   "metadata": {},
   "source": [
    "##### Step 5a: Bob asks the smart signature to authorize a transaction with password"
   ]
  },
  {
   "cell_type": "code",
   "execution_count": null,
   "metadata": {},
   "outputs": [],
   "source": [
    "# Step 1: prepare TX\n",
    "sp = algod_client.suggested_params()\n",
    "withdrawal_amt = int(0.1*1e6)\n",
    "my_note        = 'WSC secret'\n",
    "note           = my_note.encode()\n",
    "\n",
    "txn = PaymentTxn(sender=Htlc['hash'], sp=sp, \n",
    "                 receiver=Bob['public'], amt=withdrawal_amt,\n",
    "                 note=note)\n",
    "\n",
    "# Step 2: sign TX <---- This step is different!\n",
    "encodedProg = Htlc['result'].encode()\n",
    "program = base64.decodebytes(encodedProg)\n",
    "lsig = LogicSig(program)\n",
    "stxn = LogicSigTransaction(txn, lsig)\n",
    "\n",
    "# Step 3: send\n",
    "txid = algod_client.send_transaction(stxn)\n",
    "\n",
    "# Step 4: wait for confirmation\n",
    "txinfo = wait_for_confirmation(algod_client, txid)\n"
   ]
  },
  {
   "cell_type": "markdown",
   "metadata": {},
   "source": [
    "##### –OR– Step 5b: Bob waits for the timelock to expire"
   ]
  },
  {
   "cell_type": "code",
   "execution_count": null,
   "metadata": {},
   "outputs": [],
   "source": [
    "# Step 1: prepare TX\n",
    "sp = algod_client.suggested_params()\n",
    "withdrawal_amt = int(0.1*1e6)\n",
    "txn = PaymentTxn(sender=Htlc['hash'], sp=sp, \n",
    "                 receiver=Bob['public'], amt=withdrawal_amt)\n",
    "\n",
    "# Step 2: sign TX <---- This step is different!\n",
    "encodedProg = Htlc['result'].encode()\n",
    "program = base64.decodebytes(encodedProg)\n",
    "lsig = LogicSig(program)\n",
    "stxn = LogicSigTransaction(txn, lsig)\n",
    "\n",
    "# Step 3: send\n",
    "txid = algod_client.send_transaction(stxn)\n",
    "\n",
    "# Step 4: wait for confirmation\n",
    "txinfo = wait_for_confirmation(algod_client, txid)"
   ]
  },
  {
   "cell_type": "markdown",
   "metadata": {},
   "source": [
    "* Check the transactions of the Smart Signature\n",
    "* Once the password has been used, it is out in the public"
   ]
  },
  {
   "cell_type": "code",
   "execution_count": null,
   "metadata": {},
   "outputs": [],
   "source": [
    "print('https://testnet.algoexplorer.io/address/'+htlc['hash'])"
   ]
  }
 ],
 "metadata": {
  "kernelspec": {
   "display_name": "Python 3",
   "language": "python",
   "name": "python3"
  },
  "language_info": {
   "codemirror_mode": {
    "name": "ipython",
    "version": 3
   },
   "file_extension": ".py",
   "mimetype": "text/x-python",
   "name": "python",
   "nbconvert_exporter": "python",
   "pygments_lexer": "ipython3",
   "version": "3.8.8"
  }
 },
 "nbformat": 4,
 "nbformat_minor": 4
}
