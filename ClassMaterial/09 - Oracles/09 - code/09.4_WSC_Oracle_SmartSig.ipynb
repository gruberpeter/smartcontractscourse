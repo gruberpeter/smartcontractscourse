{
 "cells": [
  {
   "cell_type": "markdown",
   "id": "86dc8df7",
   "metadata": {
    "tags": []
   },
   "source": [
    "## A stateless oracle (4): the Smart Signatures\n",
    "#### 09.4 Winter School on Smart Contracts\n",
    "##### Peter Gruber (peter.gruber@usi.ch)\n",
    "2022-02-15\n",
    "* Part 4: Create the accounts and Smart Signatures that make it possible to use the Oracle\n",
    "* Parts 1-4 are only relevant if you want to **create** an Oracle\n",
    "* Only parts 5-6 are needed to **use** the oracle."
   ]
  },
  {
   "cell_type": "markdown",
   "id": "3eb1e151-d994-4412-99b7-4bcee961ca94",
   "metadata": {
    "tags": []
   },
   "source": [
    "## Setup\n",
    "See notebook 04.1, the lines below will always automatically load functions in `algo_util.py`, the five accounts and the Purestake credentials"
   ]
  },
  {
   "cell_type": "code",
   "execution_count": 2,
   "id": "3a5a2af1-deda-4e50-abbb-687083d7125e",
   "metadata": {
    "tags": []
   },
   "outputs": [],
   "source": [
    "# Loading shared code and credentials\n",
    "import sys, os\n",
    "\n",
    "codepath = '..'+os.path.sep+'..'+os.path.sep+'sharedCode'\n",
    "sys.path.append(codepath)\n",
    "from algo_util import *\n",
    "cred = load_credentials()\n",
    "\n",
    "# additional oracle accounts\n",
    "cred_oracle = load_credentials('credentials_oracle')\n",
    "Price = cred_oracle['Price']\n",
    "Reserve = cred_oracle['Reserve']\n",
    "oracle_id = cred_oracle['oracle_id']"
   ]
  },
  {
   "cell_type": "code",
   "execution_count": 22,
   "id": "c5a85d13-5a6e-4a8f-b4cf-9e479a10f640",
   "metadata": {
    "tags": []
   },
   "outputs": [],
   "source": [
    "from algosdk import account, mnemonic\n",
    "from algosdk.v2client import algod\n",
    "from algosdk.future import transaction\n",
    "from algosdk.future.transaction import AssetConfigTxn, AssetTransferTxn, AssetFreezeTxn\n",
    "from algosdk.future.transaction import LogicSig, LogicSigTransaction, LogicSigAccount\n",
    "from algosdk.future.transaction import PaymentTxn\n",
    "\n",
    "import algosdk.error\n",
    "import json\n",
    "import base64\n",
    "import hashlib"
   ]
  },
  {
   "cell_type": "code",
   "execution_count": 23,
   "id": "1de8647d-4567-4b7e-a78d-624f4bacb9d8",
   "metadata": {
    "tags": []
   },
   "outputs": [],
   "source": [
    "from pyteal import *"
   ]
  },
  {
   "cell_type": "code",
   "execution_count": 24,
   "id": "63a37b3d-28d1-440b-8287-a01957180489",
   "metadata": {
    "tags": []
   },
   "outputs": [],
   "source": [
    "# Initialize the algod client (Testnet or Mainnet)\n",
    "algod_client = algod.AlgodClient(algod_token='', algod_address=cred['algod_test'], headers=cred['purestake_token'])"
   ]
  },
  {
   "cell_type": "code",
   "execution_count": 25,
   "id": "d7995374-fdcd-43f1-96b4-3a15c6566fa7",
   "metadata": {
    "tags": []
   },
   "outputs": [
    {
     "name": "stdout",
     "output_type": "stream",
     "text": [
      "A3ZHXQJQ6UF4WST5YGTZ2X6VSBGO5MQINJYJSEVY3Y7QSRQVGDCSQSRQOE\n",
      "JKHCUTKXNEP4ERPZZW6SCRHZXUDI7NY34C45XVF7NLFHAU3C55P7Q6YPZU\n"
     ]
    }
   ],
   "source": [
    "print(Price['public'])\n",
    "print(Reserve['public'])"
   ]
  },
  {
   "cell_type": "code",
   "execution_count": 5,
   "id": "d21f1c8b",
   "metadata": {
    "tags": []
   },
   "outputs": [],
   "source": [
    "import json\n",
    "import requests\n",
    "import pandas as pd\n",
    "import numpy as np\n",
    "import time"
   ]
  },
  {
   "cell_type": "markdown",
   "id": "a0967dd6-bf00-4cbf-b97b-1337172e1ae3",
   "metadata": {},
   "source": [
    "## Get information about the oracle coin"
   ]
  },
  {
   "cell_type": "code",
   "execution_count": 6,
   "id": "c509d982-c820-4e4a-9beb-0a62ee649c64",
   "metadata": {},
   "outputs": [
    {
     "name": "stdout",
     "output_type": "stream",
     "text": [
      "https://testnet.algoexplorer.io/asset/77534697\n"
     ]
    }
   ],
   "source": [
    "print('https://testnet.algoexplorer.io/asset/{}'.format(oracle_id))"
   ]
  },
  {
   "cell_type": "markdown",
   "id": "e227ce62-584a-4099-8fdd-2275678d8895",
   "metadata": {},
   "source": [
    "## Create Smart Signatures\n",
    "* We create delegated Smart Signatures for `Price` and `Reserve`\n",
    "* The main condition is the `self_cond`, namely that the smart signature will only authorize transactions to itself\n",
    "* The rest are safety conditions"
   ]
  },
  {
   "cell_type": "markdown",
   "id": "f7aece75-f3f0-4c8a-8dab-da00996c4be4",
   "metadata": {},
   "source": [
    "### Delegated Smart Signature for Price\n",
    "* This code generates the Delegated Smart Signature for Price and for Reserve\n",
    "* It is for educational purposes, in the end we will use the version with the for-loop in the appendix"
   ]
  },
  {
   "cell_type": "code",
   "execution_count": 75,
   "id": "24072c8a-c8fd-4d5f-96fb-0a36cdb151cc",
   "metadata": {
    "tags": []
   },
   "outputs": [],
   "source": [
    "# Chage this to Reserve if need be\n",
    "account = Price"
   ]
  },
  {
   "cell_type": "code",
   "execution_count": 76,
   "id": "7da53d22-fe6f-47cc-925b-c1bf1b3e88a7",
   "metadata": {},
   "outputs": [],
   "source": [
    "# Step 1: Prepare PyTeal\n",
    "self_cond = And (\n",
    "    Txn.asset_sender() == Addr(account['public']),     # Send from Price\n",
    "    Txn.asset_receiver() == Addr(account['public']),   # ... to self\n",
    "    Txn.xfer_asset() == Int(oracle_id)               # Oracle Coin ID\n",
    ")\n",
    "\n",
    "fee_cond = Txn.fee() <= Int(1000)\n",
    "\n",
    "safety_cond = And(\n",
    "    Txn.type_enum() == TxnType.AssetTransfer,             # Must be an \"asset transfer\" transaction\n",
    "    Txn.close_remainder_to() == Global.zero_address(),\n",
    "    Txn.rekey_to() == Global.zero_address(),\n",
    "    )\n",
    "    \n",
    "delegatedSig_pyteal = And(\n",
    "    self_cond,\n",
    "    fee_cond, \n",
    "    safety_cond\n",
    "    )"
   ]
  },
  {
   "cell_type": "code",
   "execution_count": 77,
   "id": "e8024895-1afd-4385-adea-d21ca728588e",
   "metadata": {},
   "outputs": [
    {
     "name": "stdout",
     "output_type": "stream",
     "text": [
      "#pragma version 3\n",
      "txn AssetSender\n",
      "addr A3ZHXQJQ6UF4WST5YGTZ2X6VSBGO5MQINJYJSEVY3Y7QSRQVGDCSQSRQOE\n",
      "==\n",
      "txn AssetReceiver\n",
      "addr A3ZHXQJQ6UF4WST5YGTZ2X6VSBGO5MQINJYJSEVY3Y7QSRQVGDCSQSRQOE\n",
      "==\n",
      "&&\n",
      "txn XferAsset\n",
      "int 77534697\n",
      "==\n",
      "&&\n",
      "txn Fee\n",
      "int 1000\n",
      "<=\n",
      "&&\n",
      "txn TypeEnum\n",
      "int axfer\n",
      "==\n",
      "txn CloseRemainderTo\n",
      "global ZeroAddress\n",
      "==\n",
      "&&\n",
      "txn RekeyTo\n",
      "global ZeroAddress\n",
      "==\n",
      "&&\n",
      "&&\n",
      "return\n"
     ]
    }
   ],
   "source": [
    "# Step 2: Pyteal -> Compile Teal\n",
    "delegatedSig_teal = compileTeal(delegatedSig_pyteal, Mode.Signature, version=3)\n",
    "print(delegatedSig_teal)"
   ]
  },
  {
   "cell_type": "code",
   "execution_count": 78,
   "id": "f1208b4a-f7d7-4ee4-b9d9-f9e1b2adc1da",
   "metadata": {},
   "outputs": [],
   "source": [
    "# Step 3: Compile Teal -> Bytecode for AVM\n",
    "delegatedSig_compiled = algod_client.compile(delegatedSig_teal)\n",
    "delegatedSig_encoded_prog = delegatedSig_compiled['result'].encode()\n",
    "delegatedSig_program = base64.decodebytes(delegatedSig_encoded_prog)\n",
    "lsig = LogicSigAccount(delegatedSig_program)"
   ]
  },
  {
   "cell_type": "code",
   "execution_count": 79,
   "id": "53ae138a-2881-49f6-8c63-d6e71ad07859",
   "metadata": {},
   "outputs": [],
   "source": [
    "# Step 4: Price account signs Smart Signature\n",
    "lsig.sign(account['private'])"
   ]
  },
  {
   "cell_type": "markdown",
   "id": "816f3815-49d9-4672-a4c4-3f908454eecf",
   "metadata": {},
   "source": [
    "#### The owner of the oracle communicates the following pieces of information"
   ]
  },
  {
   "cell_type": "code",
   "execution_count": 80,
   "id": "241deebf-1d07-439c-9a09-a61e120bb2b3",
   "metadata": {},
   "outputs": [
    {
     "name": "stdout",
     "output_type": "stream",
     "text": [
      "b'AyAD6av8JOgHBCYBIAbye8Ew9QvLSn3Bp51f1ZBM7rIIanCZErjePwlGFTDFMRMoEjEUKBIQMREiEhAxASMOEDEQJBIxCTIDEhAxIDIDEhAQQw=='\n",
      "zgx57EMpZlHp8YJ7Ntol1uZFzQSkvj+JQHQZn5srB/pjFu3JQEMjq4IqcTw1nA+YAkYoFDpcrEvQI6HeyJn/CQ==\n",
      "b'A3ZHXQJQ6UF4WST5YGTZ2X6VSBGO5MQINJYJSEVY3Y7QSRQVGDCQ===='\n"
     ]
    }
   ],
   "source": [
    "# (1) The program logic (the rules)\n",
    "print(delegatedSig_encoded_prog)\n",
    "\n",
    "# (2) The signature of the program\n",
    "delegatedSig_sig = lsigPrice.lsig.sig\n",
    "print(delegatedSig_sig)\n",
    "\n",
    "# (3) The signing account (=Price['public'])\n",
    "delegatedSig_acc = base64.b32encode(lsigPrice.sigkey)\n",
    "print(delegatedSig_acc)"
   ]
  },
  {
   "cell_type": "markdown",
   "id": "105ec9c3-ae00-44d6-a906-0a4da98ef0bc",
   "metadata": {},
   "source": [
    "## Appendix: A more efficient version of the code\n",
    "* In a real-world setting, we would not copy-paste the code\n",
    "* We would use functions and loops\n",
    "\n",
    "**Note** there is no harm in running this code in addition to the \"simple\" version, as we do not create any blockchain transactions"
   ]
  },
  {
   "cell_type": "code",
   "execution_count": 177,
   "id": "84b95a6f-a1fe-41b4-87ee-7b40ebe69777",
   "metadata": {},
   "outputs": [],
   "source": [
    "# Function that creates the Smart Signatures\n",
    "def create_smart_sig(account):\n",
    "    # Step 1: Prepare PyTeal\n",
    "    self_cond = And (\n",
    "        Txn.sender() == Addr(account['public']),           # Send from Price \n",
    "        Txn.asset_receiver() == Addr(account['public']),   # ... to self\n",
    "        Txn.xfer_asset() == Int(oracle_id)                 # Oracle Coin ID\n",
    "    )\n",
    "\n",
    "    fee_cond = Txn.fee() <= Int(1000)\n",
    "\n",
    "    safety_cond = And(\n",
    "        Txn.type_enum() == TxnType.AssetTransfer,             # Must be an \"asset transfer\" transaction\n",
    "        Txn.close_remainder_to() == Global.zero_address(),\n",
    "        Txn.rekey_to() == Global.zero_address(),\n",
    "        )\n",
    "    \n",
    "    delegatedSig_pyteal = And(\n",
    "        self_cond,\n",
    "        fee_cond, \n",
    "        safety_cond\n",
    "        )\n",
    "\n",
    "    # Step 2: Pyteal -> Compile Teal\n",
    "    delegatedSig_teal = compileTeal(delegatedSig_pyteal, Mode.Signature, version=3)\n",
    "    #print(delegatedSig_teal)\n",
    "\n",
    "    # Step 3: Compile Teal -> Bytecode for AVM\n",
    "    delegatedSig_compiled = algod_client.compile(delegatedSig_teal)\n",
    "    delegatedSig_encoded_prog = delegatedSig_compiled['result'].encode()\n",
    "    delegatedSig_program = base64.decodebytes(delegatedSig_encoded_prog)\n",
    "    lsig = LogicSigAccount(delegatedSig_program)#\n",
    "\n",
    "    # Step 4: Price account signs Smart Signature\n",
    "    lsig.sign(account['private'])\n",
    "\n",
    "    smartSig = {}\n",
    "    smartSig['program'] = delegatedSig_encoded_prog\n",
    "    smartSig['sig']     = lsig.lsig.sig    # delegatedSig_sig = \n",
    "    smartSig['public']  =  base64.b32encode(lsig.sigkey)   # delegatedSig_acc\n",
    "    smartSig['public_addr']  = account['public']\n",
    "    return(smartSig)"
   ]
  },
  {
   "cell_type": "code",
   "execution_count": 191,
   "id": "cf2ed735-42d7-4ee8-968f-7ed0c5020dec",
   "metadata": {
    "tags": []
   },
   "outputs": [
    {
     "name": "stdout",
     "output_type": "stream",
     "text": [
      "Price\n",
      "{'program': b'AyAD6av8JOgHBCYBIAbye8Ew9QvLSn3Bp51f1ZBM7rIIanCZErjePwlGFTDFMQAoEjEUKBIQMREiEhAxASMOEDEQJBIxCTIDEhAxIDIDEhAQQw==', 'sig': 'l87eZLMhhdkpPHos+B/eZJC/f01NoHBy2jW4B3ofYMalN9e/lyszBGdLt7h0XH0tECqTegG1wJasZGGQa2LCCg==', 'public': b'A3ZHXQJQ6UF4WST5YGTZ2X6VSBGO5MQINJYJSEVY3Y7QSRQVGDCQ====', 'public_addr': 'A3ZHXQJQ6UF4WST5YGTZ2X6VSBGO5MQINJYJSEVY3Y7QSRQVGDCSQSRQOE'}\n",
      "Reserve\n",
      "{'program': b'AyAD6av8JOgHBCYBIAbye8Ew9QvLSn3Bp51f1ZBM7rIIanCZErjePwlGFTDFMQAoEjEUKBIQMREiEhAxASMOEDEQJBIxCTIDEhAxIDIDEhAQQw==', 'sig': 'l87eZLMhhdkpPHos+B/eZJC/f01NoHBy2jW4B3ofYMalN9e/lyszBGdLt7h0XH0tECqTegG1wJasZGGQa2LCCg==', 'public': b'A3ZHXQJQ6UF4WST5YGTZ2X6VSBGO5MQINJYJSEVY3Y7QSRQVGDCQ====', 'public_addr': 'A3ZHXQJQ6UF4WST5YGTZ2X6VSBGO5MQINJYJSEVY3Y7QSRQVGDCSQSRQOE'}\n"
     ]
    }
   ],
   "source": [
    "print('Price')\n",
    "price_sig = create_smart_sig(Price)\n",
    "print ( create_smart_sig(Price) )\n",
    "print('Reserve')\n",
    "reserve_sig = create_smart_sig(Price)\n",
    "print ( reserve_sig )"
   ]
  },
  {
   "cell_type": "markdown",
   "id": "cca2cab5-d46c-4f93-9de7-0a5f9daa4b9b",
   "metadata": {},
   "source": [
    "## Appendix: Test the smart signature(s)"
   ]
  },
  {
   "cell_type": "code",
   "execution_count": 198,
   "id": "cd57cb51-6efe-40d2-a3a0-90996db6a40c",
   "metadata": {},
   "outputs": [],
   "source": [
    "# choose price_sig or reserve_sig\n",
    "my_sig = price_sig"
   ]
  },
  {
   "cell_type": "code",
   "execution_count": 196,
   "id": "3b0a3126-078d-4709-a108-3d2a19a93959",
   "metadata": {},
   "outputs": [],
   "source": [
    "# Step 0.1: create a new smart signature object from the program logic  --> see WSC 06.6\n",
    "lsigTest = LogicSigAccount(base64.decodebytes(my_sig['program']))\n",
    "# Step 0.2: add the signature\n",
    "lsigTest.lsig.sig = my_sig['sig']\n",
    "# Step 0.3: add the public key of the siging account (Price)\n",
    "lsigTest.sigkey = base64.b32decode(my_sig['public'])"
   ]
  },
  {
   "cell_type": "code",
   "execution_count": 202,
   "id": "a5b88ab6-77f9-4d69-83ef-feabb2d312d1",
   "metadata": {},
   "outputs": [
    {
     "name": "stdout",
     "output_type": "stream",
     "text": [
      "Current round is  20483067.\n",
      "Waiting for round 20483067 to finish.\n",
      "Waiting for round 20483068 to finish.\n",
      "Transaction UTRHFGM5EIXNQAVAVZEI2KF5TTYNGBWNS5R2FARDPTZ5CSCTKEHA confirmed in round 20483069.\n"
     ]
    }
   ],
   "source": [
    "# Step 1: prepare Txn\n",
    "amt = int(1e5)                                   # for testing, any amount is good\n",
    "sender = lsigTest.address()\n",
    "receiver = lsigTest.address()\n",
    "\n",
    "sp = algod_client.suggested_params()          \n",
    "txn = AssetTransferTxn(sender=sender, sp=sp, receiver=receiver, amt=amt, index=oracle_id)\n",
    "\n",
    "# Step 2: Smart Sig signs txn\n",
    "lstx = transaction.LogicSigTransaction(txn, lsigTest)   # <--------- Signature recreated by Bob \n",
    "\n",
    "# Step 3: Send\n",
    "txid = algod_client.send_transaction(lstx)\n",
    "\n",
    "# Step 4: Wait for confirmation\n",
    "confirmed_txn = wait_for_confirmation(algod_client, txid)"
   ]
  },
  {
   "cell_type": "code",
   "execution_count": null,
   "id": "a47de153-20e0-439b-8e51-af681c4bbcb4",
   "metadata": {},
   "outputs": [],
   "source": []
  }
 ],
 "metadata": {
  "kernelspec": {
   "display_name": "Python 3",
   "language": "python",
   "name": "python3"
  },
  "language_info": {
   "codemirror_mode": {
    "name": "ipython",
    "version": 3
   },
   "file_extension": ".py",
   "mimetype": "text/x-python",
   "name": "python",
   "nbconvert_exporter": "python",
   "pygments_lexer": "ipython3",
   "version": "3.8.8"
  }
 },
 "nbformat": 4,
 "nbformat_minor": 5
}
