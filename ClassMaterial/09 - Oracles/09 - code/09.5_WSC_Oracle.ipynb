{
 "cells": [
  {
   "cell_type": "markdown",
   "metadata": {
    "tags": []
   },
   "source": [
    "## A stateless oracle (5): setting up an exchange that uses the oracle\n",
    "#### 09.5 Winter School on Smart Contracts\n",
    "##### Peter Gruber (peter.gruber@usi.ch)\n",
    "2022-02-15\n",
    "* Part 5: Using the Oracle (I): Setting up an exchange\n",
    "* Parts 1-4 are only relevant if you want to **create** an Oracle\n",
    "* This example shows how Bob can start a business (an exchange) that uses the oracle"
   ]
  },
  {
   "cell_type": "markdown",
   "metadata": {
    "tags": []
   },
   "source": [
    "## Setup\n",
    "See notebook 04.1, the lines below will always automatically load functions in `algo_util.py`, the five accounts and the Purestake credentials"
   ]
  },
  {
   "cell_type": "code",
   "execution_count": 100,
   "metadata": {},
   "outputs": [],
   "source": [
    "# Loading shared code and credentials\n",
    "import sys, os\n",
    "\n",
    "codepath = '..'+os.path.sep+'..'+os.path.sep+'sharedCode'\n",
    "sys.path.append(codepath)\n",
    "from algo_util import *\n",
    "cred = load_credentials()\n",
    "\n",
    "# Shortcuts to directly access the 3 main accounts\n",
    "Alice   = cred['Alice']\n",
    "Bob     = cred['Bob']\n",
    "Charlie = cred['Charlie']\n",
    "Dina    = cred['Dina']"
   ]
  },
  {
   "cell_type": "code",
   "execution_count": 120,
   "metadata": {},
   "outputs": [],
   "source": [
    "from algosdk import account, mnemonic\n",
    "from algosdk.v2client import algod\n",
    "from algosdk.future import transaction\n",
    "from algosdk.future.transaction import Multisig\n",
    "from algosdk.future.transaction import PaymentTxn, MultisigTransaction\n",
    "from algosdk.future.transaction import AssetConfigTxn, AssetTransferTxn, AssetFreezeTxn\n",
    "from algosdk.future.transaction import LogicSig, LogicSigTransaction, LogicSigAccount\n",
    "\n",
    "import algosdk.error\n",
    "import json\n",
    "import base64\n",
    "import hashlib"
   ]
  },
  {
   "cell_type": "code",
   "execution_count": 102,
   "metadata": {},
   "outputs": [],
   "source": [
    "from pyteal import *"
   ]
  },
  {
   "cell_type": "code",
   "execution_count": 103,
   "metadata": {},
   "outputs": [],
   "source": [
    "# Initialize the algod client (Testnet or Mainnet)\n",
    "algod_client = algod.AlgodClient(algod_token='', algod_address=cred['algod_test'], headers=cred['purestake_token'])"
   ]
  },
  {
   "cell_type": "code",
   "execution_count": 104,
   "metadata": {},
   "outputs": [
    {
     "name": "stdout",
     "output_type": "stream",
     "text": [
      "VK6CCXY4IFHIJAVMRVS543LJQEQKOJO6YQ4DZNV3D2XJI4ETYBN5354EQU\n",
      "CPUT3Z5CI3XOIZ4ARSGUFQD7V4YGYJW5BFAZMXX5YOV4KJCKI6MBCDY5XM\n",
      "BY5K2AYO7R3G66ICY6SJ2JFVLRMIX677EAEEKDBTJZGP6Q4JVNZRDXDBKA\n"
     ]
    }
   ],
   "source": [
    "print(Alice['public'])\n",
    "print(Bob['public'])\n",
    "print(Charlie['public'])"
   ]
  },
  {
   "cell_type": "code",
   "execution_count": 105,
   "metadata": {},
   "outputs": [],
   "source": [
    "import json\n",
    "import requests\n",
    "import pandas as pd\n",
    "import numpy as np\n",
    "import time"
   ]
  },
  {
   "cell_type": "code",
   "execution_count": 106,
   "metadata": {},
   "outputs": [],
   "source": [
    "from pycoingecko import CoinGeckoAPI\n",
    "cg = CoinGeckoAPI()"
   ]
  },
  {
   "cell_type": "markdown",
   "metadata": {},
   "source": [
    "## Set up specific addresses\n",
    "\n",
    "Two options\n",
    "1. Use your own oracle --> update the addresses and the oracle_id\n",
    "2. Use the course oracle --> keep the addresses and the oracle_id"
   ]
  },
  {
   "cell_type": "code",
   "execution_count": 1,
   "metadata": {
    "tags": []
   },
   "outputs": [],
   "source": [
    "USDC_id   = 10458941           # USDC on Algorand Testnet\n",
    "\n",
    "# Update the following, if you want to use your own oracle\n",
    "oracle_id = 77534697 \n",
    "\n",
    "# from WSC 09.4\n",
    "price_sig = {'program': b'AyAD6av8JOgHBCYBIAbye8Ew9QvLSn3Bp51f1ZBM7rIIanCZErjePwlGFTDFMQAoEjEUKBIQMREiEhAxASMOEDEQJBIxCTIDEhAxIDIDEhAQQw==', \n",
    "             'sig': 'l87eZLMhhdkpPHos+B/eZJC/f01NoHBy2jW4B3ofYMalN9e/lyszBGdLt7h0XH0tECqTegG1wJasZGGQa2LCCg==', \n",
    "             'public': b'A3ZHXQJQ6UF4WST5YGTZ2X6VSBGO5MQINJYJSEVY3Y7QSRQVGDCQ====', \n",
    "             'public_addr': 'A3ZHXQJQ6UF4WST5YGTZ2X6VSBGO5MQINJYJSEVY3Y7QSRQVGDCSQSRQOE'}\n",
    "\n",
    "reserve_sig = {'program': b'AyAD6av8JOgHBCYBIEqOKk1XaR/CRfnNvSFE+b0Gj7cb4Lnb1L9qynBTYu9fMQAoEjEUKBIQMREiEhAxASMOEDEQJBIxCTIDEhAxIDIDEhAQQw==', \n",
    "               'sig': 'KezTvw0s0Y9JTePlFfCgeKWVdcH6OAuzX4Bg/D1cjW0ikrbAcG3q+kSbpuOKTetK9tZNXJufxHG8DCxXXJ7+CQ==', \n",
    "               'public': b'JKHCUTKXNEP4ERPZZW6SCRHZXUDI7NY34C45XVF7NLFHAU3C55PQ====', \n",
    "               'public_addr': 'JKHCUTKXNEP4ERPZZW6SCRHZXUDI7NY34C45XVF7NLFHAU3C55P7Q6YPZU'}"
   ]
  },
  {
   "cell_type": "markdown",
   "metadata": {},
   "source": [
    "## Get information about the oracle coin"
   ]
  },
  {
   "cell_type": "code",
   "execution_count": 108,
   "metadata": {},
   "outputs": [
    {
     "name": "stdout",
     "output_type": "stream",
     "text": [
      "https://testnet.algoexplorer.io/asset/77534697\n"
     ]
    }
   ],
   "source": [
    "print('https://testnet.algoexplorer.io/asset/{}'.format(oracle_id))"
   ]
  },
  {
   "cell_type": "markdown",
   "metadata": {},
   "source": [
    "## How to use the Oracle\n",
    "* Bob creates an exchange that uses the Oracle\n",
    "* The exchange is an Atomic Swap, where the exchange rate obtains from the oracle\n",
    "* Bob creates a smart signature that uses transaction groups"
   ]
  },
  {
   "cell_type": "markdown",
   "metadata": {},
   "source": [
    "## The structure of Bobs's smart signature\n",
    "* `Txn[0]` a transaction of the *Price* account with itself to obtain the price\n",
    "* `Txn[1]` a transaction of the *Reserve* account to verify the price\n",
    "    * Criterion: the amounts of `Txn[0]` and `Txn[1]` must add up exactly to the total supply of Oracle Coins\n",
    "* `Txn[2]` the ALGO transaction\n",
    "* `Txn[3]` the USDC transaction\n",
    "    * Criterion: the amounts of `Txn[2]` and `Txn[3]` must correctly reflect the exchange rate\n",
    "    * The exchange rate is obtained from `Txn[0]` \n",
    "\n",
    "**Note** transactions 0 and 1 are the oracle part, transactions 2 and 3 are the actual atomic swap\n",
    "\n"
   ]
  },
  {
   "cell_type": "markdown",
   "metadata": {},
   "source": [
    "#### Step 1: Create Smart Signature"
   ]
  },
  {
   "cell_type": "code",
   "execution_count": 354,
   "metadata": {},
   "outputs": [],
   "source": [
    "### Based on Atomic Swap of 06.4_WSC\n",
    "\n",
    "oracle_condition = And (\n",
    "    Gtxn[0].type_enum() == TxnType.AssetTransfer,         # Oracle = ASA transfer ...\n",
    "    Gtxn[1].type_enum() == TxnType.AssetTransfer,\n",
    "    Gtxn[0].xfer_asset() == Int(oracle_id),               # ... of oracle coin\n",
    "    Gtxn[1].xfer_asset() == Int(oracle_id),           \n",
    "    Gtxn[0].sender() == Addr(price_sig['public_addr']),      # Ensure correct order \n",
    "    Gtxn[1].sender() == Addr(reserve_sig['public_addr']),\n",
    "    # Verification condition: must move ALL coins ... total = 1000 coins in small units\n",
    "    Gtxn[0].asset_amount() + Gtxn[1].asset_amount() == Int(int( 1e3 * 1e6 ))   \n",
    "    )    \n",
    "\n",
    "exchange_condition = And (\n",
    "    Gtxn[2].type_enum() == TxnType.Payment,            # Txn2 is in ALGOs\n",
    "    Gtxn[2].xfer_asset() == Int(0),\n",
    "    Gtxn[3].type_enum() == TxnType.AssetTransfer,      # Txn3 is in USDC\n",
    "    Gtxn[3].xfer_asset() == Int(USDC_id),\n",
    "    # Exchange rate in small units (note: Algo, Oracle and USDC *all* have 6 decimals)\n",
    "    # Exchange rate is taken from Gtxn[0].asset_amount()\n",
    "    # ALGO_amount * USD_per_ALGO == USD_amount\n",
    "    Gtxn[2].amount() * Gtxn[0].asset_amount() / Int(int(1e6)) == Gtxn[3].asset_amount(),\n",
    "    Gtxn[2].amount() >= Int(int(1e5)),                 # Min tx size to make it impossible to profit from rounding errors\n",
    "    Gtxn[3].asset_amount() >= Int(int(1e5)),           # Min tx size to make it impossible to profit from rounding errors\n",
    ")\n",
    "\n",
    "safety_condition = And(\n",
    "    # safety conditions ONLY for veding, opt-in must handle its own safety!\n",
    "    Global.group_size() == Int(4),                     # 0 and 1 for oracle, 2 and 3 for atomic swap\n",
    "    Gtxn[2].rekey_to() == Global.zero_address(),\n",
    "    Gtxn[2].close_remainder_to() == Global.zero_address(),\n",
    "    Gtxn[3].rekey_to() == Global.zero_address(),\n",
    "    Gtxn[3].close_remainder_to() == Global.zero_address(), \n",
    ")\n",
    "    \n",
    "optin_condition = And(\n",
    "        Global.group_size() == Int(1),                # Opt-in is single transaction\n",
    "        Txn.type_enum() ==TxnType.AssetTransfer,      # Opt-in is ASA transfer\n",
    "        Txn.asset_amount() == Int(0),                 # Payout impossible, opt-in is OK\n",
    "        Txn.xfer_asset() == Int(USDC_id),             # Only opt into USDc\n",
    "        Txn.rekey_to() == Global.zero_address(),\n",
    "        Txn.close_remainder_to() == Global.zero_address(),\n",
    "    )\n",
    "\n",
    "import random\n",
    "a = Int( random.randrange(2**32-1) )\n",
    "random_cond = ( a == a )\n",
    "\n",
    "fee_cond = Txn.fee() <= Int(1000)\n",
    "\n",
    "payout_cond = Or(\n",
    "    And(Txn.asset_receiver() == Addr(Bob['public']),          # Payout to Bob in USDC \n",
    "        Txn.type_enum() ==TxnType.AssetTransfer,\n",
    "        Txn.xfer_asset() == Int(USDC_id)),\n",
    "    And(Txn.receiver() == Addr(Bob['public']),                # ... or ALGO\n",
    "        Txn.type_enum() == TxnType.Payment)\n",
    ")\n",
    "    \n",
    "exchange_pyteal = And(\n",
    "    random_cond, \n",
    "    fee_cond, \n",
    "    If(\n",
    "        Global.group_size() == Int(1),             # condition\n",
    "        Or(optin_condition,                        # then-expression\n",
    "           payout_cond),\n",
    "        And(exchange_condition,                    # else-expression\n",
    "            oracle_condition,\n",
    "            safety_condition\n",
    "           )\n",
    "        )\n",
    "    )"
   ]
  },
  {
   "cell_type": "code",
   "execution_count": 355,
   "metadata": {},
   "outputs": [],
   "source": [
    "exchange_teal = compileTeal(exchange_pyteal, Mode.Signature, version=3)\n",
    "#print(Exchange_teal)"
   ]
  },
  {
   "cell_type": "code",
   "execution_count": 356,
   "metadata": {},
   "outputs": [
    {
     "data": {
      "text/plain": [
       "{'hash': 'TXUUALJEISZ6YJFW7SNCBWFAQVJLVRSVAP6I4NP5CW4NME63HTEKDHM3AY',\n",
       " 'result': 'AyAK3ajsR+gHAQAEva7+BMCEPaCNBumr/CSAlOvcAyYDIAbye8Ew9QvLSn3Bp51f1ZBM7rIIanCZErjePwlGFTDFIEqOKk1XaR/CRfnNvSFE+b0Gj7cb4Lnb1L9qynBTYu9fIBPpPeeiRu7kZ4CMjULAf68wbCbdCUGWXv3Dq8UkSkeYIiISMQEjDhAyBCQSQACOMwIQJBIzAhElEhAzAxAhBBIQMwMRIQUSEDMCCDMAEgshBgozAxISEDMCCCEHDxAzAxIhBw8QMwAQIQQSMwEQIQQSEDMAESEIEhAzAREhCBIQMwAAKBIQMwEAKRIQMwASMwESCCEJEhAQMgQhBBIzAiAyAxIQMwIJMgMSEDMDIDIDEhAzAwkyAxIQEEIAPDIEJBIxECEEEhAxEiUSEDERIQUSEDEgMgMSEDEJMgMSEDEUKhIxECEEEhAxESEFEhAxByoSMRAkEhARERBD'}"
      ]
     },
     "execution_count": 356,
     "metadata": {},
     "output_type": "execute_result"
    }
   ],
   "source": [
    "Exchange = algod_client.compile(exchange_teal)\n",
    "Exchange"
   ]
  },
  {
   "cell_type": "markdown",
   "metadata": {},
   "source": [
    "#### Step 2: Exchange must opt-in and must be funded"
   ]
  },
  {
   "cell_type": "markdown",
   "metadata": {},
   "source": [
    "##### Step 2a: Funding in ALGO"
   ]
  },
  {
   "cell_type": "code",
   "execution_count": 357,
   "metadata": {},
   "outputs": [
    {
     "name": "stdout",
     "output_type": "stream",
     "text": [
      "Current round is  20490357.\n",
      "Waiting for round 20490357 to finish.\n",
      "Waiting for round 20490358 to finish.\n",
      "Transaction IBWRKLIGPJWAENYEWW6HNGGZFXRHEVUJB3AMN7DYZ5TZ4OZISDHQ confirmed in round 20490359.\n"
     ]
    }
   ],
   "source": [
    "# Prepare, sign, send, wait\n",
    "sp = algod_client.suggested_params()\n",
    "\n",
    "# Minimum is 0.201 ALGO for 2 x min_holdings + TX_fee for opt_in\n",
    "# However, we want to do an exchange and therefore have to fund more\n",
    "amt = int(2 * 1e6)\n",
    "txn = transaction.PaymentTxn(sender=Bob['public'], sp=sp, receiver=Exchange['hash'], amt=amt)\n",
    "stxn = txn.sign(Bob['private'])\n",
    "txid = algod_client.send_transaction(stxn)\n",
    "txinfo = wait_for_confirmation(algod_client, txid)"
   ]
  },
  {
   "cell_type": "markdown",
   "metadata": {},
   "source": [
    "##### Step 2b: Opt-In USDC"
   ]
  },
  {
   "cell_type": "code",
   "execution_count": 358,
   "metadata": {},
   "outputs": [
    {
     "name": "stdout",
     "output_type": "stream",
     "text": [
      "Current round is  20490359.\n",
      "Waiting for round 20490359 to finish.\n",
      "Waiting for round 20490360 to finish.\n",
      "Transaction X7F2JEDAHGKHCY2U5EMTPVZ7EW7CXPHGMVLX5VJSGCAZIKFT724Q confirmed in round 20490361.\n"
     ]
    }
   ],
   "source": [
    "# Prepare, sign, send, wait\n",
    "sp = algod_client.suggested_params()\n",
    "txn = AssetTransferTxn(Exchange['hash'], sp, Exchange['hash'], 0, USDC_id)\n",
    "encodedProg = Exchange['result'].encode()\n",
    "program = base64.decodebytes(encodedProg)\n",
    "lsig = LogicSig(program)\n",
    "stxn = LogicSigTransaction(txn, lsig)\n",
    "txid = algod_client.send_transaction(stxn)\n",
    "txinfo = wait_for_confirmation(algod_client, txid)"
   ]
  },
  {
   "cell_type": "markdown",
   "metadata": {},
   "source": [
    "#### Step 2c: Funding in USDC\n",
    "* Get USDC here: https://dispenser.testnet.aws.algodev.network\n",
    "* Bob can get USDC here: https://usdcfaucet.com (select \"ALGO\" and run five times)"
   ]
  },
  {
   "cell_type": "code",
   "execution_count": 359,
   "metadata": {},
   "outputs": [
    {
     "name": "stdout",
     "output_type": "stream",
     "text": [
      "Current round is  20490361.\n",
      "Waiting for round 20490361 to finish.\n",
      "Waiting for round 20490362 to finish.\n",
      "Transaction ZXJHKT7LMC4EGY6Y4K7KDSUCSOX27SUCRB7DGVT7ZNMYABDWFX6A confirmed in round 20490363.\n"
     ]
    }
   ],
   "source": [
    "# Prepare, sign, send, wait\n",
    "amt = int(2*1e6)\n",
    "sp = algod_client.suggested_params()\n",
    "txn = AssetTransferTxn(\n",
    "    sender=Bob['public'],\n",
    "    sp=sp,\n",
    "    receiver=Exchange['hash'],               \n",
    "    amt=amt,\n",
    "    index=USDC_id)\n",
    "stxn = txn.sign(Bob['private'])\n",
    "txid = algod_client.send_transaction(stxn)\n",
    "txinfo = wait_for_confirmation(algod_client, txid)"
   ]
  },
  {
   "cell_type": "markdown",
   "metadata": {},
   "source": [
    "## Test the Smart Sig"
   ]
  },
  {
   "cell_type": "code",
   "execution_count": 360,
   "metadata": {},
   "outputs": [],
   "source": [
    "# Customer Information\n",
    "Customer = Charlie\n",
    "amt_ALGO = -int(1.5 * 1e6)    # positive --> buyALGOs\n",
    "                             # negative --> sellALGOs"
   ]
  },
  {
   "cell_type": "code",
   "execution_count": 361,
   "metadata": {},
   "outputs": [
    {
     "data": {
      "text/plain": [
       "[{'amount': 7.183,\n",
       "  'unit': 'ALGO',\n",
       "  'asset-id': 0,\n",
       "  'name': 'Algorand',\n",
       "  'decimals': 6},\n",
       " {'amount': 304.845024,\n",
       "  'unit': 'USDC',\n",
       "  'asset-id': 10458941,\n",
       "  'name': 'USDC',\n",
       "  'decimals': 6}]"
      ]
     },
     "execution_count": 361,
     "metadata": {},
     "output_type": "execute_result"
    }
   ],
   "source": [
    "asset_holdings(algod_client, Charlie['public'])"
   ]
  },
  {
   "cell_type": "code",
   "execution_count": 362,
   "metadata": {},
   "outputs": [
    {
     "name": "stdout",
     "output_type": "stream",
     "text": [
      "805969\n",
      "999194031\n"
     ]
    }
   ],
   "source": [
    "# get current holdings\n",
    "holdings_Price = asset_holdings(algod_client, price_sig['public_addr'])\n",
    "price_oracle = [holding['amount'] for holding in holdings_Price if holding['unit']=='USDALGO'][0]\n",
    "price_oracle = int(1e6*price_oracle)\n",
    "holdings_Reserve = asset_holdings(algod_client, reserve_sig['public_addr'])\n",
    "reserve_oracle = [holding['amount'] for holding in holdings_Reserve if holding['unit']=='USDALGO'][0]\n",
    "reserve_oracle = int(1e6*reserve_oracle)\n",
    "\n",
    "print(price_oracle)\n",
    "print(reserve_oracle)"
   ]
  },
  {
   "cell_type": "markdown",
   "metadata": {
    "tags": []
   },
   "source": [
    "#### Transaction 0: Price sends to itself"
   ]
  },
  {
   "cell_type": "code",
   "execution_count": 363,
   "metadata": {},
   "outputs": [],
   "source": [
    "my_sig = price_sig\n",
    "amt = price_oracle       # \"everything\"\n",
    "\n",
    "# Step 0: Recreate Smart Signature --> see WSC 06.6\n",
    "lsigPrice = LogicSigAccount(base64.decodebytes(my_sig['program']))\n",
    "lsigPrice.lsig.sig = my_sig['sig']\n",
    "lsigPrice.sigkey = base64.b32decode(my_sig['public'])\n",
    "\n",
    "# Step 1: prepare Txn\n",
    "sp = algod_client.suggested_params()          \n",
    "txn_0 = AssetTransferTxn(sender = my_sig['public_addr'], sp=sp, receiver=my_sig['public_addr'], amt=amt, index=oracle_id)"
   ]
  },
  {
   "cell_type": "markdown",
   "metadata": {
    "tags": []
   },
   "source": [
    "#### Transaction 1: Reserve sends to itself"
   ]
  },
  {
   "cell_type": "code",
   "execution_count": 364,
   "metadata": {},
   "outputs": [],
   "source": [
    "my_sig = reserve_sig\n",
    "amt = reserve_oracle       # \"everything\"\n",
    "\n",
    "# Step 0: Recreate Smart Signature --> see WSC 06.6\n",
    "lsigReserve = LogicSigAccount(base64.decodebytes(my_sig['program']))\n",
    "lsigReserve.lsig.sig = my_sig['sig']\n",
    "lsigReserve.sigkey = base64.b32decode(my_sig['public'])\n",
    "\n",
    "# Step 1: prepare Txn\n",
    "sp = algod_client.suggested_params()          \n",
    "txn_1 = AssetTransferTxn(sender = my_sig['public_addr'], sp=sp, receiver=my_sig['public_addr'], amt=amt, index=oracle_id)"
   ]
  },
  {
   "cell_type": "markdown",
   "metadata": {
    "tags": []
   },
   "source": [
    "#### Transaction 2: Algo transaction"
   ]
  },
  {
   "cell_type": "code",
   "execution_count": 365,
   "metadata": {},
   "outputs": [],
   "source": [
    "sp = algod_client.suggested_params()          \n",
    "\n",
    "if amt_ALGO > 0:                \n",
    "    # Customer buys ALGO from Exchange\n",
    "    txn_2 = PaymentTxn(sender = Exchange['hash'], sp=sp, receiver=Customer['public'], amt=abs(amt_ALGO))\n",
    "else:\n",
    "    txn_2 = PaymentTxn(sender = Customer['public'], sp=sp, receiver=Exchange['hash'], amt=abs(amt_ALGO))\n"
   ]
  },
  {
   "cell_type": "markdown",
   "metadata": {
    "tags": []
   },
   "source": [
    "#### Transaction 3: USDC transaction"
   ]
  },
  {
   "cell_type": "code",
   "execution_count": 366,
   "metadata": {},
   "outputs": [
    {
     "name": "stdout",
     "output_type": "stream",
     "text": [
      "-1208953\n",
      "condition\n",
      "-1208953\n",
      "-1208953\n"
     ]
    }
   ],
   "source": [
    "sp = algod_client.suggested_params()\n",
    "amt_USDC = int(amt_ALGO * price_oracle / 1e6)\n",
    "print(amt_USDC)\n",
    "print(\"condition\")\n",
    "print(int(amt_ALGO  * price_oracle / 1e6))\n",
    "print(int(amt_USDC))"
   ]
  },
  {
   "cell_type": "code",
   "execution_count": 367,
   "metadata": {},
   "outputs": [],
   "source": [
    "if amt_ALGO > 0:                \n",
    "    # Customer sends USDC to Exchange\n",
    "    txn_3 = AssetTransferTxn(sender = Customer['public'], sp=sp, receiver=Exchange['hash'], amt=abs(amt_USDC), index=USDC_id)\n",
    "else:\n",
    "    txn_3 = AssetTransferTxn(sender = Exchange['hash'], sp=sp, receiver=Customer['public'], amt=abs(amt_USDC), index=USDC_id)"
   ]
  },
  {
   "cell_type": "markdown",
   "metadata": {
    "tags": []
   },
   "source": [
    "#### Create Transaction group\n",
    "See WSC 06.4, step 5.1c"
   ]
  },
  {
   "cell_type": "code",
   "execution_count": 368,
   "metadata": {},
   "outputs": [],
   "source": [
    "gid = transaction.calculate_group_id([txn_0, txn_1, txn_2, txn_3])\n",
    "txn_0.group = gid\n",
    "txn_1.group = gid\n",
    "txn_2.group = gid\n",
    "txn_3.group = gid"
   ]
  },
  {
   "cell_type": "markdown",
   "metadata": {
    "tags": []
   },
   "source": [
    "#### Sign Individual transactions\n",
    "See WSC 06.4, step 5.2"
   ]
  },
  {
   "cell_type": "code",
   "execution_count": 369,
   "metadata": {},
   "outputs": [],
   "source": [
    "# txn_0 and txn_1 are signed by their smart signatures\n",
    "# encodedProg = Vending['result'].encode()              \n",
    "# program = base64.decodebytes(encodedProg)\n",
    "# lsig = LogicSig(program)\n",
    "# stxn_2 = LogicSigTransaction(txn_2, lsig)\n",
    "\n",
    "stxn_0 = transaction.LogicSigTransaction(txn_0, lsigPrice)\n",
    "stxn_1 = transaction.LogicSigTransaction(txn_1, lsigReserve)\n",
    "\n",
    "encodedProg = Exchange['result'].encode()              \n",
    "program = base64.decodebytes(encodedProg)\n",
    "Exchange_lsig = LogicSig(program)\n",
    "#stxn_2 = LogicSigTransaction(txn_2, lsig)\n",
    "\n",
    "if amt_ALGO > 0:                \n",
    "    # Customer buys ALGO from Exchange\n",
    "    stxn_3 = txn_3.sign(Customer['private'])\n",
    "    stxn_2 = transaction.LogicSigTransaction(txn_2, Exchange_lsig)\n",
    "else:\n",
    "    stxn_2 = txn_2.sign(Customer['private'])\n",
    "    stxn_3 = transaction.LogicSigTransaction(txn_3, Exchange_lsig)"
   ]
  },
  {
   "cell_type": "code",
   "execution_count": 370,
   "metadata": {},
   "outputs": [],
   "source": [
    "# Step 5.3: assemble transaction group and send\n",
    "signed_group =  [stxn_0, stxn_1, stxn_2, stxn_3]\n",
    "txid = algod_client.send_transactions(signed_group)"
   ]
  },
  {
   "cell_type": "code",
   "execution_count": 371,
   "metadata": {},
   "outputs": [
    {
     "name": "stdout",
     "output_type": "stream",
     "text": [
      "Current round is  20490365.\n",
      "Waiting for round 20490365 to finish.\n",
      "Transaction LHZ3TU7OVYTDEYYDN5SAPIAX7LIGAIUTUO332UZHDCCBB4UJMADQ confirmed in round 20490366.\n"
     ]
    }
   ],
   "source": [
    "# Step 5d: wait for confirmation\n",
    "txinfo = wait_for_confirmation(algod_client, txid)"
   ]
  }
 ],
 "metadata": {
  "kernelspec": {
   "display_name": "Python 3",
   "language": "python",
   "name": "python3"
  },
  "language_info": {
   "codemirror_mode": {
    "name": "ipython",
    "version": 3
   },
   "file_extension": ".py",
   "mimetype": "text/x-python",
   "name": "python",
   "nbconvert_exporter": "python",
   "pygments_lexer": "ipython3",
   "version": "3.7.6"
  }
 },
 "nbformat": 4,
 "nbformat_minor": 5
}
