{
 "cells": [
  {
   "cell_type": "markdown",
   "metadata": {},
   "source": [
    "## *Special Token Operations\n",
    "#### 04.4 Winter School on Smart Contracts\n",
    "##### Peter Gruber (peter.gruber@usi.ch)\n",
    "2023-02-09 (started 2021-11-28)\n"
   ]
  },
  {
   "cell_type": "markdown",
   "metadata": {
    "tags": []
   },
   "source": [
    "### Setup\n",
    "See notebook 04.1, the lines below will always automatically load functions in `algo_util.py`, the five accounts and the credentials"
   ]
  },
  {
   "cell_type": "code",
   "execution_count": 1,
   "metadata": {},
   "outputs": [],
   "source": [
    "# Loading shared code and credentials\n",
    "import sys, os\n",
    "codepath = '..'+os.path.sep+'..'+os.path.sep+'sharedCode'\n",
    "sys.path.append(codepath)\n",
    "from algo_util import *\n",
    "cred = load_credentials()\n",
    "\n",
    "# Shortcuts to directly access the 5 main accounts\n",
    "MyAlgo  = cred['MyAlgo']\n",
    "Alice   = cred['Alice']\n",
    "Bob     = cred['Bob']\n",
    "Charlie = cred['Charlie']\n",
    "Dina    = cred['Dina']"
   ]
  },
  {
   "cell_type": "code",
   "execution_count": 2,
   "metadata": {},
   "outputs": [],
   "source": [
    "from algosdk import account, mnemonic\n",
    "from algosdk.v2client import algod\n",
    "from algosdk.transaction import PaymentTxn\n",
    "from algosdk.transaction import AssetConfigTxn, AssetTransferTxn, AssetFreezeTxn\n",
    "import algosdk.error\n",
    "import json"
   ]
  },
  {
   "cell_type": "code",
   "execution_count": 3,
   "metadata": {},
   "outputs": [
    {
     "data": {
      "text/plain": [
       "39022603"
      ]
     },
     "execution_count": 3,
     "metadata": {},
     "output_type": "execute_result"
    }
   ],
   "source": [
    "# Initialize the algod client (Testnet or Mainnet)\n",
    "algod_client = algod.AlgodClient(algod_token='', algod_address=cred['algod_test'], headers=cred['api_token'])\n",
    "algod_client.status()['last-round']"
   ]
  },
  {
   "cell_type": "markdown",
   "metadata": {},
   "source": [
    "## Modifications of an ASA\n",
    "Most properties of an ASA can **never** be modified\n",
    "* Name and unit name\n",
    "* Decimals\n",
    "* Total supply\n",
    "\n",
    "Using the special roles, it is however possible to ...\n",
    "* Freeze/unfreeze ASA assets of a specific address\n",
    "* Claim ASA back from a specific address\n",
    "* Destroy an ASA\n",
    "* Change the special roles\n"
   ]
  },
  {
   "cell_type": "markdown",
   "metadata": {},
   "source": [
    "### First cretate Tempcoin\n",
    "To study the whole life of an ASA, we create a new one, called `Tempcoin`, with the symbol `TEMP` (for temporary), with the following roles:\n",
    "\n",
    "* **Manager** = Alice\n",
    "* **Reserve** = Bob\n",
    "* **Freeze** = Charlie\n",
    "* **Clawback** = Dina (this will change later to Alice)"
   ]
  },
  {
   "cell_type": "code",
   "execution_count": 4,
   "metadata": {},
   "outputs": [
    {
     "name": "stdout",
     "output_type": "stream",
     "text": [
      "T245FXXF43KDCHXTOUB2FMLLOVDBPFAJIBPIU5WQIJ6BMY4SN2ZQ\n",
      "Current round is  39022604.\n",
      "Waiting for round 39022604 to finish.\n",
      "Waiting for round 39022605 to finish.\n",
      "Transaction T245FXXF43KDCHXTOUB2FMLLOVDBPFAJIBPIU5WQIJ6BMY4SN2ZQ confirmed in round 39022606.\n"
     ]
    }
   ],
   "source": [
    "# Step 1: Prepare\n",
    "sp = algod_client.suggested_params()\n",
    "token_supply = 100                               # Token supply\n",
    "token_decimals =  1                              # How many digits after the comma?\n",
    "token_total = token_supply * 10**token_decimals  # Specify SMALLER unit (\"cents\")\n",
    "\n",
    "token_name  = \"Peters Tempcoin\"                  # <----- YOUR NAME HERE\n",
    "token_url   = \"en.wikipedia.org/wiki/Temporary\"  # <----- CHANGE if you want to\n",
    "token_unitname = \"TEMP\"\n",
    "\n",
    "# Step 2: Asset creation tansaction\n",
    "txn = AssetConfigTxn(\n",
    "    sender=MyAlgo['public'],                   # Creator of the ASA\n",
    "    sp=sp,                                     # Network parameters\n",
    "    total=token_total,                         # Token supply in SMALL unit\n",
    "    decimals=token_decimals,\n",
    "    default_frozen=False,                      \n",
    "    unit_name=token_unitname,                       \n",
    "    asset_name=token_name,\n",
    "    url=token_url,\n",
    "    manager=Alice['public'],                   # Special roles\n",
    "    reserve=Bob['public'],\n",
    "    freeze=Charlie['public'],\n",
    "    clawback=Dina['public'], \n",
    ")\n",
    "\n",
    "# Step 3+4: Sign and send\n",
    "stxn = txn.sign(MyAlgo['private'])             # Sign\n",
    "txid = algod_client.send_transaction(stxn)     # Send\n",
    "print(txid)\n",
    "\n",
    "# Step 5: Wait for confirmation\n",
    "txinfo = wait_for_confirmation(algod_client,txid)"
   ]
  },
  {
   "cell_type": "code",
   "execution_count": 5,
   "metadata": {},
   "outputs": [
    {
     "name": "stdout",
     "output_type": "stream",
     "text": [
      "641964302\n"
     ]
    }
   ],
   "source": [
    "# Step 6: obtain asset_id\n",
    "TEMP_id = txinfo['asset-index']\n",
    "print(TEMP_id)"
   ]
  },
  {
   "cell_type": "code",
   "execution_count": 6,
   "metadata": {},
   "outputs": [
    {
     "data": {
      "text/html": [
       "<div>\n",
       "<style scoped>\n",
       "    .dataframe tbody tr th:only-of-type {\n",
       "        vertical-align: middle;\n",
       "    }\n",
       "\n",
       "    .dataframe tbody tr th {\n",
       "        vertical-align: top;\n",
       "    }\n",
       "\n",
       "    .dataframe thead th {\n",
       "        text-align: right;\n",
       "    }\n",
       "</style>\n",
       "<table border=\"1\" class=\"dataframe\">\n",
       "  <thead>\n",
       "    <tr style=\"text-align: right;\">\n",
       "      <th></th>\n",
       "      <th>amount</th>\n",
       "      <th>unit</th>\n",
       "      <th>asset-id</th>\n",
       "      <th>name</th>\n",
       "      <th>decimals</th>\n",
       "    </tr>\n",
       "  </thead>\n",
       "  <tbody>\n",
       "    <tr>\n",
       "      <th>0</th>\n",
       "      <td>37.943357</td>\n",
       "      <td>ALGO</td>\n",
       "      <td>0</td>\n",
       "      <td>Algorand</td>\n",
       "      <td>6</td>\n",
       "    </tr>\n",
       "    <tr>\n",
       "      <th>1</th>\n",
       "      <td>967.000000</td>\n",
       "      <td>PWSC</td>\n",
       "      <td>592359981</td>\n",
       "      <td>Peters WSC coin</td>\n",
       "      <td>2</td>\n",
       "    </tr>\n",
       "    <tr>\n",
       "      <th>2</th>\n",
       "      <td>1.000000</td>\n",
       "      <td>LUG1</td>\n",
       "      <td>592373389</td>\n",
       "      <td>Lugano NFT</td>\n",
       "      <td>0</td>\n",
       "    </tr>\n",
       "    <tr>\n",
       "      <th>3</th>\n",
       "      <td>1000.000000</td>\n",
       "      <td>WSC</td>\n",
       "      <td>640596559</td>\n",
       "      <td>Peters WSC coin</td>\n",
       "      <td>2</td>\n",
       "    </tr>\n",
       "    <tr>\n",
       "      <th>4</th>\n",
       "      <td>1000.000000</td>\n",
       "      <td>WSC</td>\n",
       "      <td>641958950</td>\n",
       "      <td>Peters WSC coin</td>\n",
       "      <td>2</td>\n",
       "    </tr>\n",
       "    <tr>\n",
       "      <th>5</th>\n",
       "      <td>1000.000000</td>\n",
       "      <td>WSC</td>\n",
       "      <td>641960001</td>\n",
       "      <td>Peters WSC coin</td>\n",
       "      <td>2</td>\n",
       "    </tr>\n",
       "    <tr>\n",
       "      <th>6</th>\n",
       "      <td>75.000000</td>\n",
       "      <td>TEMP</td>\n",
       "      <td>641963975</td>\n",
       "      <td>Peters Tempcoin</td>\n",
       "      <td>1</td>\n",
       "    </tr>\n",
       "    <tr>\n",
       "      <th>7</th>\n",
       "      <td>100.000000</td>\n",
       "      <td>TEMP</td>\n",
       "      <td>641964302</td>\n",
       "      <td>Peters Tempcoin</td>\n",
       "      <td>1</td>\n",
       "    </tr>\n",
       "  </tbody>\n",
       "</table>\n",
       "</div>"
      ],
      "text/plain": [
       "        amount  unit   asset-id             name  decimals\n",
       "0    37.943357  ALGO          0         Algorand         6\n",
       "1   967.000000  PWSC  592359981  Peters WSC coin         2\n",
       "2     1.000000  LUG1  592373389       Lugano NFT         0\n",
       "3  1000.000000   WSC  640596559  Peters WSC coin         2\n",
       "4  1000.000000   WSC  641958950  Peters WSC coin         2\n",
       "5  1000.000000   WSC  641960001  Peters WSC coin         2\n",
       "6    75.000000  TEMP  641963975  Peters Tempcoin         1\n",
       "7   100.000000  TEMP  641964302  Peters Tempcoin         1"
      ]
     },
     "execution_count": 6,
     "metadata": {},
     "output_type": "execute_result"
    }
   ],
   "source": [
    "asset_holdings_df(algod_client,MyAlgo['public'])"
   ]
  },
  {
   "cell_type": "markdown",
   "metadata": {},
   "source": [
    "## The Reserve address"
   ]
  },
  {
   "cell_type": "markdown",
   "metadata": {},
   "source": [
    "##### Step 1: Check in Pera Explorer\n",
    "* Total supply\n",
    "* Circulating supply"
   ]
  },
  {
   "cell_type": "code",
   "execution_count": 7,
   "metadata": {},
   "outputs": [
    {
     "name": "stdout",
     "output_type": "stream",
     "text": [
      "https://testnet.explorer.perawallet.app/asset/641964302\n"
     ]
    }
   ],
   "source": [
    "print(cred['explore_test']+'asset/{}'.format(TEMP_id))"
   ]
  },
  {
   "cell_type": "markdown",
   "metadata": {},
   "source": [
    "##### Step 2: Transfer 50% to the reserve address\n",
    "* So that they are shown as \"not yet minted\""
   ]
  },
  {
   "cell_type": "markdown",
   "metadata": {},
   "source": [
    "##### Step 2a: Bob opts in\n",
    "* Even though Bob is the reserve, he has to opt in"
   ]
  },
  {
   "cell_type": "code",
   "execution_count": 8,
   "metadata": {},
   "outputs": [
    {
     "name": "stdout",
     "output_type": "stream",
     "text": [
      "2GOESKRH5RXLIFF2FKIPEPVJCOZPJ74EHEF4PQG35EMAXUF5B2MQ\n",
      "Current round is  39022607.\n",
      "Waiting for round 39022607 to finish.\n",
      "Waiting for round 39022608 to finish.\n",
      "Transaction 2GOESKRH5RXLIFF2FKIPEPVJCOZPJ74EHEF4PQG35EMAXUF5B2MQ confirmed in round 39022609.\n"
     ]
    }
   ],
   "source": [
    "# Step 1: prepare and create TX\n",
    "sp = algod_client.suggested_params()\n",
    "amt = int(0)                              # <------ opt-in = 0 transaction\n",
    "\n",
    "txn = AssetTransferTxn(\n",
    "    sender=Bob['public'],                 # <------- From Bo ...\n",
    "    sp=sp,\n",
    "    receiver=Bob['public'],               # <------- ... to Bob\n",
    "    amt=amt,\n",
    "    index=TEMP_id)                        # <----- Correct index TEMP_id\n",
    "\n",
    "# Step 2+3: sign and send\n",
    "stxn = txn.sign(Bob['private'])           # <----- Signed by Bob\n",
    "txid = algod_client.send_transaction(stxn)\n",
    "print(txid)\n",
    "\n",
    "# Step 4: wait for confirmation\n",
    "txinfo = wait_for_confirmation(algod_client, txid)"
   ]
  },
  {
   "cell_type": "markdown",
   "metadata": {},
   "source": [
    "##### Step 2b: Creator (=MyAlgo) transfers to the reserve (= Bob)"
   ]
  },
  {
   "cell_type": "code",
   "execution_count": 9,
   "metadata": {},
   "outputs": [
    {
     "name": "stdout",
     "output_type": "stream",
     "text": [
      "CPBGHXABCXF62KONU7WFRM56B3J72GDXCPHHWKIAS6G4VO6ECMIA\n",
      "Current round is  39022609.\n",
      "Waiting for round 39022609 to finish.\n",
      "Waiting for round 39022610 to finish.\n",
      "Transaction CPBGHXABCXF62KONU7WFRM56B3J72GDXCPHHWKIAS6G4VO6ECMIA confirmed in round 39022611.\n"
     ]
    },
    {
     "data": {
      "text/plain": [
       "{'confirmed-round': 39022611,\n",
       " 'pool-error': '',\n",
       " 'txn': {'sig': 'W0AGq7qhG0xQ2dqFKgYMoc9//nlZEwosY622DO33Qaz85acZU0/jw0ld9aA+IBxe3U7N3NWHxs6W7ML1aN6xCQ==',\n",
       "  'txn': {'aamt': 500,\n",
       "   'arcv': 'BOB23JBQLW3AJREEG3KD7ULMAGYGVZ2LVF2OMZ2XBJIR64NO5P24XN7WEU',\n",
       "   'fee': 1000,\n",
       "   'fv': 39022609,\n",
       "   'gen': 'testnet-v1.0',\n",
       "   'gh': 'SGO1GKSzyE7IEPItTxCByw9x8FmnrCDexi9/cOUJOiI=',\n",
       "   'lv': 39023609,\n",
       "   'snd': 'WSC24MVUSQ32IZYD7FNN54Z44IXWL4X7BOJD6AGFOCHOG4PDFESLZUGLTI',\n",
       "   'type': 'axfer',\n",
       "   'xaid': 641964302}}}"
      ]
     },
     "execution_count": 9,
     "metadata": {},
     "output_type": "execute_result"
    }
   ],
   "source": [
    "# Step 1: prepare and create TX\n",
    "sp = algod_client.suggested_params()\n",
    "amt = int(token_total / 2)                # <------- half of the holdings\n",
    "txn = AssetTransferTxn(\n",
    "    sender=MyAlgo['public'],\n",
    "    sp=sp,\n",
    "    receiver=Bob['public'],               # <------- Bob is the reserve\n",
    "    amt=amt,\n",
    "    index=TEMP_id)                        # <------- Correct index TEMP_id\n",
    "\n",
    "# Step 2+3: sign and send\n",
    "stxn = txn.sign(MyAlgo['private'])         # <----- Signed by the creator of the asset\n",
    "txid = algod_client.send_transaction(stxn)\n",
    "print(txid)\n",
    "\n",
    "# Step 4: wait for confirmation\n",
    "wait_for_confirmation(algod_client, txid)"
   ]
  },
  {
   "cell_type": "code",
   "execution_count": 10,
   "metadata": {},
   "outputs": [
    {
     "data": {
      "text/html": [
       "<div>\n",
       "<style scoped>\n",
       "    .dataframe tbody tr th:only-of-type {\n",
       "        vertical-align: middle;\n",
       "    }\n",
       "\n",
       "    .dataframe tbody tr th {\n",
       "        vertical-align: top;\n",
       "    }\n",
       "\n",
       "    .dataframe thead th {\n",
       "        text-align: right;\n",
       "    }\n",
       "</style>\n",
       "<table border=\"1\" class=\"dataframe\">\n",
       "  <thead>\n",
       "    <tr style=\"text-align: right;\">\n",
       "      <th></th>\n",
       "      <th>amount</th>\n",
       "      <th>unit</th>\n",
       "      <th>asset-id</th>\n",
       "      <th>name</th>\n",
       "      <th>decimals</th>\n",
       "    </tr>\n",
       "  </thead>\n",
       "  <tbody>\n",
       "    <tr>\n",
       "      <th>0</th>\n",
       "      <td>22.580488</td>\n",
       "      <td>ALGO</td>\n",
       "      <td>0</td>\n",
       "      <td>Algorand</td>\n",
       "      <td>6</td>\n",
       "    </tr>\n",
       "    <tr>\n",
       "      <th>1</th>\n",
       "      <td>2.097569</td>\n",
       "      <td>USDC</td>\n",
       "      <td>10458941</td>\n",
       "      <td>USDC</td>\n",
       "      <td>6</td>\n",
       "    </tr>\n",
       "    <tr>\n",
       "      <th>2</th>\n",
       "      <td>8.100000</td>\n",
       "      <td>PWSC</td>\n",
       "      <td>592359981</td>\n",
       "      <td>Peters WSC coin</td>\n",
       "      <td>2</td>\n",
       "    </tr>\n",
       "    <tr>\n",
       "      <th>3</th>\n",
       "      <td>25.000000</td>\n",
       "      <td>TEMP</td>\n",
       "      <td>641963975</td>\n",
       "      <td>Peters Tempcoin</td>\n",
       "      <td>1</td>\n",
       "    </tr>\n",
       "    <tr>\n",
       "      <th>4</th>\n",
       "      <td>50.000000</td>\n",
       "      <td>TEMP</td>\n",
       "      <td>641964302</td>\n",
       "      <td>Peters Tempcoin</td>\n",
       "      <td>1</td>\n",
       "    </tr>\n",
       "  </tbody>\n",
       "</table>\n",
       "</div>"
      ],
      "text/plain": [
       "      amount  unit   asset-id             name  decimals\n",
       "0  22.580488  ALGO          0         Algorand         6\n",
       "1   2.097569  USDC   10458941             USDC         6\n",
       "2   8.100000  PWSC  592359981  Peters WSC coin         2\n",
       "3  25.000000  TEMP  641963975  Peters Tempcoin         1\n",
       "4  50.000000  TEMP  641964302  Peters Tempcoin         1"
      ]
     },
     "execution_count": 10,
     "metadata": {},
     "output_type": "execute_result"
    }
   ],
   "source": [
    "asset_holdings_df(algod_client,Bob['public'])"
   ]
  },
  {
   "cell_type": "markdown",
   "metadata": {},
   "source": [
    "##### Step 3: Check \"Circulating Supply\" in Pera Explorer"
   ]
  },
  {
   "cell_type": "code",
   "execution_count": 11,
   "metadata": {},
   "outputs": [
    {
     "name": "stdout",
     "output_type": "stream",
     "text": [
      "https://testnet.explorer.perawallet.app/asset/641964302\n"
     ]
    }
   ],
   "source": [
    "print(cred['explore_test']+'asset/{}'.format(TEMP_id))"
   ]
  },
  {
   "cell_type": "markdown",
   "metadata": {},
   "source": [
    "## Clawback a transaction\n",
    "* Normally, only the owner of a token could authorize a transfer of his tokens ... except for the clawback address `Dina`.\n",
    "* She claws back 25 tokens from Bob by specifying Bob as `revocation_target`\n",
    "* The clawed back coins are sent to the creator\n",
    "* No opt-in necessary for clawback, because she does not receive any coins"
   ]
  },
  {
   "cell_type": "markdown",
   "metadata": {},
   "source": [
    "##### Step 1: Clawback transaction\n",
    "* using `revocation_target`"
   ]
  },
  {
   "cell_type": "code",
   "execution_count": 12,
   "metadata": {},
   "outputs": [
    {
     "name": "stdout",
     "output_type": "stream",
     "text": [
      "Current round is  39022612.\n",
      "Waiting for round 39022612 to finish.\n",
      "Waiting for round 39022613 to finish.\n",
      "Transaction 6LYR6EXHCNNGWAA7QAVC7LPYHVZHS6D5A2Y7JZFMRLYX7UCZUCEA confirmed in round 39022614.\n"
     ]
    }
   ],
   "source": [
    "sp = algod_client.suggested_params()\n",
    "\n",
    "# Step 1: Create clawback transaction\n",
    "txn = AssetTransferTxn(\n",
    "    sender=Dina['public'],                  # <---- Clawback = Dina is sender of transaction\n",
    "    sp=sp,\n",
    "    receiver=MyAlgo[\"public\"],              # <---- Money goes back to MyAlgo\n",
    "    amt=25*10,                              # <---- Amount in SMALL units\n",
    "    index=TEMP_id,\n",
    "    revocation_target=Bob['public']         # <---- Take the money out of Bob's account\n",
    "    )\n",
    "\n",
    "# Step 2: sign by clawback\n",
    "stxn = txn.sign(Dina['private'])            # <---- Signed by Clawback = Dina\n",
    "\n",
    "# Step 3: send\n",
    "txid = algod_client.send_transaction(stxn)\n",
    "\n",
    "# Step 4: Wait for the transaction to be confirmed\n",
    "txinfo = wait_for_confirmation(algod_client, txid)"
   ]
  },
  {
   "cell_type": "markdown",
   "metadata": {},
   "source": [
    "##### Step 2: Check Bob's holdings\n",
    "* He now has 25 fewer coins"
   ]
  },
  {
   "cell_type": "code",
   "execution_count": 13,
   "metadata": {},
   "outputs": [
    {
     "data": {
      "text/html": [
       "<div>\n",
       "<style scoped>\n",
       "    .dataframe tbody tr th:only-of-type {\n",
       "        vertical-align: middle;\n",
       "    }\n",
       "\n",
       "    .dataframe tbody tr th {\n",
       "        vertical-align: top;\n",
       "    }\n",
       "\n",
       "    .dataframe thead th {\n",
       "        text-align: right;\n",
       "    }\n",
       "</style>\n",
       "<table border=\"1\" class=\"dataframe\">\n",
       "  <thead>\n",
       "    <tr style=\"text-align: right;\">\n",
       "      <th></th>\n",
       "      <th>amount</th>\n",
       "      <th>unit</th>\n",
       "      <th>asset-id</th>\n",
       "      <th>name</th>\n",
       "      <th>decimals</th>\n",
       "    </tr>\n",
       "  </thead>\n",
       "  <tbody>\n",
       "    <tr>\n",
       "      <th>0</th>\n",
       "      <td>22.580488</td>\n",
       "      <td>ALGO</td>\n",
       "      <td>0</td>\n",
       "      <td>Algorand</td>\n",
       "      <td>6</td>\n",
       "    </tr>\n",
       "    <tr>\n",
       "      <th>1</th>\n",
       "      <td>2.097569</td>\n",
       "      <td>USDC</td>\n",
       "      <td>10458941</td>\n",
       "      <td>USDC</td>\n",
       "      <td>6</td>\n",
       "    </tr>\n",
       "    <tr>\n",
       "      <th>2</th>\n",
       "      <td>8.100000</td>\n",
       "      <td>PWSC</td>\n",
       "      <td>592359981</td>\n",
       "      <td>Peters WSC coin</td>\n",
       "      <td>2</td>\n",
       "    </tr>\n",
       "    <tr>\n",
       "      <th>3</th>\n",
       "      <td>25.000000</td>\n",
       "      <td>TEMP</td>\n",
       "      <td>641963975</td>\n",
       "      <td>Peters Tempcoin</td>\n",
       "      <td>1</td>\n",
       "    </tr>\n",
       "    <tr>\n",
       "      <th>4</th>\n",
       "      <td>25.000000</td>\n",
       "      <td>TEMP</td>\n",
       "      <td>641964302</td>\n",
       "      <td>Peters Tempcoin</td>\n",
       "      <td>1</td>\n",
       "    </tr>\n",
       "  </tbody>\n",
       "</table>\n",
       "</div>"
      ],
      "text/plain": [
       "      amount  unit   asset-id             name  decimals\n",
       "0  22.580488  ALGO          0         Algorand         6\n",
       "1   2.097569  USDC   10458941             USDC         6\n",
       "2   8.100000  PWSC  592359981  Peters WSC coin         2\n",
       "3  25.000000  TEMP  641963975  Peters Tempcoin         1\n",
       "4  25.000000  TEMP  641964302  Peters Tempcoin         1"
      ]
     },
     "execution_count": 13,
     "metadata": {},
     "output_type": "execute_result"
    }
   ],
   "source": [
    "# Check Bob's asset holdings\n",
    "asset_holdings_df(algod_client,Bob['public'])"
   ]
  },
  {
   "cell_type": "markdown",
   "metadata": {},
   "source": [
    "##### Step 3: Where did the 25 coins go?\n",
    "* They always go to the creator (not the the clawback)"
   ]
  },
  {
   "cell_type": "code",
   "execution_count": 14,
   "metadata": {},
   "outputs": [
    {
     "data": {
      "text/html": [
       "<div>\n",
       "<style scoped>\n",
       "    .dataframe tbody tr th:only-of-type {\n",
       "        vertical-align: middle;\n",
       "    }\n",
       "\n",
       "    .dataframe tbody tr th {\n",
       "        vertical-align: top;\n",
       "    }\n",
       "\n",
       "    .dataframe thead th {\n",
       "        text-align: right;\n",
       "    }\n",
       "</style>\n",
       "<table border=\"1\" class=\"dataframe\">\n",
       "  <thead>\n",
       "    <tr style=\"text-align: right;\">\n",
       "      <th></th>\n",
       "      <th>amount</th>\n",
       "      <th>unit</th>\n",
       "      <th>asset-id</th>\n",
       "      <th>name</th>\n",
       "      <th>decimals</th>\n",
       "    </tr>\n",
       "  </thead>\n",
       "  <tbody>\n",
       "    <tr>\n",
       "      <th>0</th>\n",
       "      <td>37.942357</td>\n",
       "      <td>ALGO</td>\n",
       "      <td>0</td>\n",
       "      <td>Algorand</td>\n",
       "      <td>6</td>\n",
       "    </tr>\n",
       "    <tr>\n",
       "      <th>1</th>\n",
       "      <td>967.000000</td>\n",
       "      <td>PWSC</td>\n",
       "      <td>592359981</td>\n",
       "      <td>Peters WSC coin</td>\n",
       "      <td>2</td>\n",
       "    </tr>\n",
       "    <tr>\n",
       "      <th>2</th>\n",
       "      <td>1.000000</td>\n",
       "      <td>LUG1</td>\n",
       "      <td>592373389</td>\n",
       "      <td>Lugano NFT</td>\n",
       "      <td>0</td>\n",
       "    </tr>\n",
       "    <tr>\n",
       "      <th>3</th>\n",
       "      <td>1000.000000</td>\n",
       "      <td>WSC</td>\n",
       "      <td>640596559</td>\n",
       "      <td>Peters WSC coin</td>\n",
       "      <td>2</td>\n",
       "    </tr>\n",
       "    <tr>\n",
       "      <th>4</th>\n",
       "      <td>1000.000000</td>\n",
       "      <td>WSC</td>\n",
       "      <td>641958950</td>\n",
       "      <td>Peters WSC coin</td>\n",
       "      <td>2</td>\n",
       "    </tr>\n",
       "    <tr>\n",
       "      <th>5</th>\n",
       "      <td>1000.000000</td>\n",
       "      <td>WSC</td>\n",
       "      <td>641960001</td>\n",
       "      <td>Peters WSC coin</td>\n",
       "      <td>2</td>\n",
       "    </tr>\n",
       "    <tr>\n",
       "      <th>6</th>\n",
       "      <td>75.000000</td>\n",
       "      <td>TEMP</td>\n",
       "      <td>641963975</td>\n",
       "      <td>Peters Tempcoin</td>\n",
       "      <td>1</td>\n",
       "    </tr>\n",
       "    <tr>\n",
       "      <th>7</th>\n",
       "      <td>75.000000</td>\n",
       "      <td>TEMP</td>\n",
       "      <td>641964302</td>\n",
       "      <td>Peters Tempcoin</td>\n",
       "      <td>1</td>\n",
       "    </tr>\n",
       "  </tbody>\n",
       "</table>\n",
       "</div>"
      ],
      "text/plain": [
       "        amount  unit   asset-id             name  decimals\n",
       "0    37.942357  ALGO          0         Algorand         6\n",
       "1   967.000000  PWSC  592359981  Peters WSC coin         2\n",
       "2     1.000000  LUG1  592373389       Lugano NFT         0\n",
       "3  1000.000000   WSC  640596559  Peters WSC coin         2\n",
       "4  1000.000000   WSC  641958950  Peters WSC coin         2\n",
       "5  1000.000000   WSC  641960001  Peters WSC coin         2\n",
       "6    75.000000  TEMP  641963975  Peters Tempcoin         1\n",
       "7    75.000000  TEMP  641964302  Peters Tempcoin         1"
      ]
     },
     "execution_count": 14,
     "metadata": {},
     "output_type": "execute_result"
    }
   ],
   "source": [
    "asset_holdings_df(algod_client,MyAlgo['public'])"
   ]
  },
  {
   "cell_type": "markdown",
   "metadata": {},
   "source": [
    "## Reconfigure the asset\n",
    "* A reconfiguration is changing any of the four special roles\n",
    "* The **Manager** (Alice) can reconfigure the asset. \n",
    "* In a reconfiguration, all four roles must again be specified\n",
    "* No opt-in is necessary for reconfigure, because no coins are receved\n",
    "\n",
    "**Example**\n",
    "* Alice removes the clawback role from Dina and assigns it to herself\n",
    "* Similar to `AssetConfigTxn` as when creating an asset"
   ]
  },
  {
   "cell_type": "code",
   "execution_count": 15,
   "metadata": {},
   "outputs": [
    {
     "name": "stdout",
     "output_type": "stream",
     "text": [
      "UPRJZJAMZT6O4ALXJTAI5P66EMGKNBTUB6F5AJTFJ6FFPIYESBDA\n",
      "Current round is  39022616.\n",
      "Waiting for round 39022616 to finish.\n",
      "Waiting for round 39022617 to finish.\n",
      "Transaction UPRJZJAMZT6O4ALXJTAI5P66EMGKNBTUB6F5AJTFJ6FFPIYESBDA confirmed in round 39022618.\n"
     ]
    }
   ],
   "source": [
    "sp = algod_client.suggested_params()\n",
    "\n",
    "# Step 1: Create Asset reconfiguration tansaction\n",
    "txn = AssetConfigTxn(\n",
    "    sender=Alice['public'],                    # Manager\n",
    "    sp=sp,                                     # Network parameters\n",
    "    index=TEMP_id,                             # <------------ MUST specify the asset ID\n",
    "    manager=Alice['public'],                   # Old role, repeated\n",
    "    reserve=Bob['public'],                     # Old role, repeated\n",
    "    freeze=Charlie['public'],                  # Old role, repeated\n",
    "    clawback=Alice['public'],                  # <-------- New responsibiliy\n",
    ")\n",
    "\n",
    "# Step 2+3: Sign and send\n",
    "stxn = txn.sign(Alice['private'])              # <---- Signed by the manager!\n",
    "txid = algod_client.send_transaction(stxn)     # Send\n",
    "print(txid)\n",
    "\n",
    "# Step 4: Wait for confirmation\n",
    "txinfo = wait_for_confirmation(algod_client,txid)"
   ]
  },
  {
   "cell_type": "code",
   "execution_count": 16,
   "metadata": {},
   "outputs": [
    {
     "name": "stdout",
     "output_type": "stream",
     "text": [
      "https://testnet.explorer.perawallet.app/asset/641964302\n"
     ]
    }
   ],
   "source": [
    "# Open in Pera Explorer: manager and clawback are now the same\n",
    "print(cred['explore_test']+'asset/{}'.format(TEMP_id))"
   ]
  },
  {
   "cell_type": "markdown",
   "metadata": {},
   "source": [
    "**TRY THIS** If Dina tries to clawback the other half of Bob's holdings, it will not work"
   ]
  },
  {
   "cell_type": "markdown",
   "metadata": {},
   "source": [
    "## Freeze assets"
   ]
  },
  {
   "cell_type": "markdown",
   "metadata": {},
   "source": [
    "#### Charlie freezes Bob's assets\n",
    "* The freeze role (= Charlie) freezes the asset holdings of Bob.\n",
    "* New transaction type `AssetFreezeTxn`\n",
    "* No opt-in necessary for freezing"
   ]
  },
  {
   "cell_type": "code",
   "execution_count": 17,
   "metadata": {},
   "outputs": [
    {
     "name": "stdout",
     "output_type": "stream",
     "text": [
      "7TEVBG6NCQWJNLI4Q3AGAGV55T5APYESJJPP7MRSJZNPQNBE4QOQ\n",
      "Current round is  39022618.\n",
      "Waiting for round 39022618 to finish.\n",
      "Waiting for round 39022619 to finish.\n",
      "Transaction 7TEVBG6NCQWJNLI4Q3AGAGV55T5APYESJJPP7MRSJZNPQNBE4QOQ confirmed in round 39022620.\n"
     ]
    }
   ],
   "source": [
    "sp = algod_client.suggested_params()\n",
    "\n",
    "# Step 1: Asset freeze tansaction\n",
    "txn = AssetFreezeTxn(\n",
    "    sender=Charlie['public'],                # <---- Must be initiated by freeze address\n",
    "    sp=sp,\n",
    "    index=TEMP_id,\n",
    "    target=Bob[\"public\"],                    # <---- This is the address that we want to freeze  \n",
    "    new_freeze_state=True   \n",
    "    )\n",
    "\n",
    "# Step 2+3: Sign and send\n",
    "stxn = txn.sign(Charlie['private'])          # <---- Must be signed by the freeze role(=Charlie)\n",
    "txid = algod_client.send_transaction(stxn)\n",
    "print(txid)\n",
    "\n",
    "# Step 4: Wait for confirmation\n",
    "txinfo = wait_for_confirmation(algod_client,txid)"
   ]
  },
  {
   "cell_type": "markdown",
   "metadata": {},
   "source": [
    "#### Bob wants to spend some TEMP token\n",
    "* Bob tries to send some TEMP token to Alice, but he cannot do it\n",
    "* Only his TEMP token are frozen"
   ]
  },
  {
   "cell_type": "code",
   "execution_count": 18,
   "metadata": {},
   "outputs": [
    {
     "name": "stdout",
     "output_type": "stream",
     "text": [
      "TransactionPool.Remember: transaction FKV6IASB7XVA7NUSHQED4UFAEVW2L5QLT4YJXBF44JYSNNLWQFNA: asset 641964302 frozen in BOB23JBQLW3AJREEG3KD7ULMAGYGVZ2LVF2OMZ2XBJIR64NO5P24XN7WEU\n",
      "Asset is frozen\n"
     ]
    }
   ],
   "source": [
    "# Step 1: prepare and create TX\n",
    "sp = algod_client.suggested_params()\n",
    "amt = int(5 * 10)    \n",
    "\n",
    "txn = AssetTransferTxn(\n",
    "    sender=Bob['public'],                 # <------- Bob wants to send ...\n",
    "    sp=sp,\n",
    "    receiver=Alice['public'],             # <------- ... to Alice  \n",
    "    amt=amt,\n",
    "    index=TEMP_id)                        # <----- asset_id for TEMP token\n",
    "\n",
    "# Step 2+3: sign and send\n",
    "stxn = txn.sign(Bob['private'])           # <----- Signed by Bob\n",
    "\n",
    "try:\n",
    "    txid = algod_client.send_transaction(stxn)\n",
    "except algosdk.error.AlgodHTTPError as err:\n",
    "    # print entire error message\n",
    "    print(err)\n",
    "    if (\"frozen\" in str(err)):                # check for specific type of error\n",
    "        print(\"Asset is frozen\")         \n",
    "    txid = None\n",
    "    \n",
    "# Step 4: Wait for confirmation\n",
    "# There is no step 4 here, because we already obtain an error on step 3"
   ]
  },
  {
   "cell_type": "markdown",
   "metadata": {},
   "source": [
    "#### Exercise: unfreezeing Bobs tokens\n",
    "* How can we unfreeze Bobs tokens? \n",
    "* The operation is similar to freezing, except for ..."
   ]
  },
  {
   "cell_type": "code",
   "execution_count": 19,
   "metadata": {},
   "outputs": [
    {
     "name": "stdout",
     "output_type": "stream",
     "text": [
      "A5PFKFDQH5TLHQCQKAD7G7MYARTUG3ENJOETZ7SH52OTHJ3KEETQ\n",
      "Current round is  39022620.\n",
      "Waiting for round 39022620 to finish.\n",
      "Waiting for round 39022621 to finish.\n",
      "Transaction A5PFKFDQH5TLHQCQKAD7G7MYARTUG3ENJOETZ7SH52OTHJ3KEETQ confirmed in round 39022622.\n"
     ]
    }
   ],
   "source": [
    "# Your Python code goes here ...\n",
    "# Step 1: Prepare\n",
    "sp = algod_client.suggested_params()\n",
    "\n",
    "# Step 2: Asset freeze tansaction\n",
    "txn = AssetFreezeTxn(\n",
    "    sender=Charlie['public'],                # <---- Must be initiated by freeze address\n",
    "    sp=sp,\n",
    "    index=TEMP_id,\n",
    "    target=Bob[\"public\"],                    # <---- This is the address that we want to freeze  \n",
    "    new_freeze_state=False   \n",
    "    )\n",
    "\n",
    "# Step 3: Sign and send\n",
    "stxn = txn.sign(Charlie['private'])          # <---- Must be signed by the freeze role(=Charlie)\n",
    "txid = algod_client.send_transaction(stxn)\n",
    "print(txid)\n",
    "\n",
    "# Step 4: Wait for confirmation\n",
    "txinfo = wait_for_confirmation(algod_client,txid)\n",
    "\n",
    "\n",
    "\n"
   ]
  },
  {
   "cell_type": "markdown",
   "metadata": {},
   "source": [
    "## Destroy asset\n",
    "* An asset can only be destroyed, if all coins are back in the creator's account (MyAlgo). \n",
    "* Then the manager (Alice) can destroy the asset."
   ]
  },
  {
   "cell_type": "markdown",
   "metadata": {},
   "source": [
    "#### Return all TEMP coins to MyAlgo and opt out\n",
    "* Use `AssetTransferTxn` to send back coins\n",
    "* Addtionally we have to opt out, using `close_assets_to`\n",
    "    * *Closing* means sending the remaining balance to a specific address"
   ]
  },
  {
   "cell_type": "code",
   "execution_count": 20,
   "metadata": {},
   "outputs": [
    {
     "name": "stdout",
     "output_type": "stream",
     "text": [
      "Current round is  39022622.\n",
      "Waiting for round 39022622 to finish.\n",
      "Waiting for round 39022623 to finish.\n",
      "Transaction JBAB2WLVBFZPNRPUH34KVIWXBAFTQEHLZ2CNOQT7H3BG56V3BEUQ confirmed in round 39022624.\n"
     ]
    }
   ],
   "source": [
    "# Step 1: prepare and create TX\n",
    "sp = algod_client.suggested_params()\n",
    "amt = int(25 * 10)    \n",
    "\n",
    "txn = AssetTransferTxn(\n",
    "    sender=Bob['public'],                \n",
    "    sp=sp,\n",
    "    receiver=MyAlgo['public'],            \n",
    "    amt=amt,\n",
    "    index=TEMP_id,                        \n",
    "    close_assets_to=MyAlgo['public']      # <------- Opt out of the asset \n",
    "    )                       \n",
    "\n",
    "# Step 2+3: sign and send\n",
    "stxn = txn.sign(Bob['private'])           # <----- Signed by Bob\n",
    "txid = algod_client.send_transaction(stxn)\n",
    "    \n",
    "# Step 4: Wait for confirmation\n",
    "txinfo = wait_for_confirmation(algod_client,txid)"
   ]
  },
  {
   "cell_type": "code",
   "execution_count": 21,
   "metadata": {},
   "outputs": [
    {
     "name": "stdout",
     "output_type": "stream",
     "text": [
      "https://testnet.explorer.perawallet.app/asset/641964302\n"
     ]
    }
   ],
   "source": [
    "# Open in Pera Explorer to check holders\n",
    "print(cred['explore_test']+'asset/{}'.format(TEMP_id))"
   ]
  },
  {
   "cell_type": "markdown",
   "metadata": {},
   "source": [
    "### Destroying the asset\n",
    "* Use a special `AssetConfigTxn` transaction that has no special roles"
   ]
  },
  {
   "cell_type": "code",
   "execution_count": 22,
   "metadata": {},
   "outputs": [],
   "source": [
    "# Step 1: prepare\n",
    "sp = algod_client.suggested_params()\n",
    "\n",
    "# Step 2: Create special AssetConfigTxn to destroy\n",
    "txn = AssetConfigTxn(\n",
    "    sender=Alice['public'],              # Manager must be sender\n",
    "    sp=sp,\n",
    "    index=TEMP_id,\n",
    "    total = None,                        # <---- To destroy, set total to \"None\"\n",
    "    strict_empty_address_check=False     # include this option in destroy ops\n",
    "    )\n",
    "\n",
    "#Step 2: Send \n",
    "stxn = txn.sign(Alice['private'])\n",
    "\n",
    "# Step 3: Send the transaction and check for errors\n",
    "try:\n",
    "    txid = algod_client.send_transaction(stxn)\n",
    "except algosdk.error.AlgodHTTPError as err:\n",
    "    print(err)                                              # print entire error message\n",
    "    if (\"cannot destroy asset\" in str(err)):                # check for specific type of error\n",
    "        print(\"Cannot destroy asset {}, not holding all tokens.\".format(TEMP_id))  \n",
    "    if (\"does not exist or has been deleted\" in str(err)): \n",
    "        print(\"Cannot destroy asset. It does not exist (any more).\")    "
   ]
  },
  {
   "cell_type": "code",
   "execution_count": 23,
   "metadata": {},
   "outputs": [
    {
     "name": "stdout",
     "output_type": "stream",
     "text": [
      "Current round is  39022624.\n",
      "Waiting for round 39022624 to finish.\n",
      "Waiting for round 39022625 to finish.\n",
      "Transaction ORVXYZHT6VRY2LJQQLHSWZI7NVA7VPOX5PE4GN636NQD5XBDYMDQ confirmed in round 39022626.\n"
     ]
    },
    {
     "data": {
      "text/plain": [
       "{'confirmed-round': 39022626,\n",
       " 'pool-error': '',\n",
       " 'txn': {'sig': 'XTKsFnlHeFnhXccYUcZYz/E7A9mHAQBohx3Wh+Iasz5gS/tHhU/EM062hH5Zsd8JU2e7XBGukL38o8WdXhZJBw==',\n",
       "  'txn': {'caid': 641964302,\n",
       "   'fee': 1000,\n",
       "   'fv': 39022624,\n",
       "   'gen': 'testnet-v1.0',\n",
       "   'gh': 'SGO1GKSzyE7IEPItTxCByw9x8FmnrCDexi9/cOUJOiI=',\n",
       "   'lv': 39023624,\n",
       "   'snd': 'ALICEXOA4Q2OD5CKBYND4UX75K3TAODEC3XCVNQ3URMKUMZKUOTOSAQLIU',\n",
       "   'type': 'acfg'}}}"
      ]
     },
     "execution_count": 23,
     "metadata": {},
     "output_type": "execute_result"
    }
   ],
   "source": [
    "# Step 4: Wait for the transaction to be confirmed\n",
    "wait_for_confirmation(algod_client, txid)"
   ]
  },
  {
   "cell_type": "code",
   "execution_count": 24,
   "metadata": {},
   "outputs": [],
   "source": [
    "# Now check the \"assets created\" for that account.\n",
    "account_info = algod_client.account_info(MyAlgo['public'])"
   ]
  },
  {
   "cell_type": "code",
   "execution_count": 25,
   "metadata": {},
   "outputs": [
    {
     "data": {
      "text/plain": [
       "[{'index': 592359981,\n",
       "  'params': {'clawback': 'BOB23JBQLW3AJREEG3KD7ULMAGYGVZ2LVF2OMZ2XBJIR64NO5P24XN7WEU',\n",
       "   'creator': 'WSC24MVUSQ32IZYD7FNN54Z44IXWL4X7BOJD6AGFOCHOG4PDFESLZUGLTI',\n",
       "   'decimals': 2,\n",
       "   'default-frozen': False,\n",
       "   'freeze': 'BOB23JBQLW3AJREEG3KD7ULMAGYGVZ2LVF2OMZ2XBJIR64NO5P24XN7WEU',\n",
       "   'manager': 'ALICEXOA4Q2OD5CKBYND4UX75K3TAODEC3XCVNQ3URMKUMZKUOTOSAQLIU',\n",
       "   'name': 'Peters WSC coin',\n",
       "   'name-b64': 'UGV0ZXJzIFdTQyBjb2lu',\n",
       "   'reserve': 'ALICEXOA4Q2OD5CKBYND4UX75K3TAODEC3XCVNQ3URMKUMZKUOTOSAQLIU',\n",
       "   'total': 100000,\n",
       "   'unit-name': 'PWSC',\n",
       "   'unit-name-b64': 'UFdTQw==',\n",
       "   'url': 'www.usi.ch/wsc',\n",
       "   'url-b64': 'd3d3LnVzaS5jaC93c2M='}},\n",
       " {'index': 592373389,\n",
       "  'params': {'clawback': 'WSC24MVUSQ32IZYD7FNN54Z44IXWL4X7BOJD6AGFOCHOG4PDFESLZUGLTI',\n",
       "   'creator': 'WSC24MVUSQ32IZYD7FNN54Z44IXWL4X7BOJD6AGFOCHOG4PDFESLZUGLTI',\n",
       "   'decimals': 0,\n",
       "   'default-frozen': False,\n",
       "   'freeze': 'WSC24MVUSQ32IZYD7FNN54Z44IXWL4X7BOJD6AGFOCHOG4PDFESLZUGLTI',\n",
       "   'manager': 'WSC24MVUSQ32IZYD7FNN54Z44IXWL4X7BOJD6AGFOCHOG4PDFESLZUGLTI',\n",
       "   'name': 'Lugano NFT',\n",
       "   'name-b64': 'THVnYW5vIE5GVA==',\n",
       "   'reserve': 'WSC24MVUSQ32IZYD7FNN54Z44IXWL4X7BOJD6AGFOCHOG4PDFESLZUGLTI',\n",
       "   'total': 1,\n",
       "   'unit-name': 'LUG1',\n",
       "   'unit-name-b64': 'TFVHMQ==',\n",
       "   'url': 'https://gateway.pinata.cloud/ipfs/QmXEKbYJHKVbZ9ZAVMJKrX12koZ3bvMSzXuVLyrfULoV89',\n",
       "   'url-b64': 'aHR0cHM6Ly9nYXRld2F5LnBpbmF0YS5jbG91ZC9pcGZzL1FtWEVLYllKSEtWYlo5WkFWTUpLclgxMmtvWjNidk1Telh1Vkx5cmZVTG9WODk='}},\n",
       " {'index': 640596559,\n",
       "  'params': {'clawback': 'BOB23JBQLW3AJREEG3KD7ULMAGYGVZ2LVF2OMZ2XBJIR64NO5P24XN7WEU',\n",
       "   'creator': 'WSC24MVUSQ32IZYD7FNN54Z44IXWL4X7BOJD6AGFOCHOG4PDFESLZUGLTI',\n",
       "   'decimals': 2,\n",
       "   'default-frozen': False,\n",
       "   'freeze': 'BOB23JBQLW3AJREEG3KD7ULMAGYGVZ2LVF2OMZ2XBJIR64NO5P24XN7WEU',\n",
       "   'manager': 'ALICEXOA4Q2OD5CKBYND4UX75K3TAODEC3XCVNQ3URMKUMZKUOTOSAQLIU',\n",
       "   'name': 'Peters WSC coin',\n",
       "   'name-b64': 'UGV0ZXJzIFdTQyBjb2lu',\n",
       "   'reserve': 'ALICEXOA4Q2OD5CKBYND4UX75K3TAODEC3XCVNQ3URMKUMZKUOTOSAQLIU',\n",
       "   'total': 100000,\n",
       "   'unit-name': 'WSC',\n",
       "   'unit-name-b64': 'V1ND',\n",
       "   'url': 'www.usi.ch/wsc',\n",
       "   'url-b64': 'd3d3LnVzaS5jaC93c2M='}},\n",
       " {'index': 641958950,\n",
       "  'params': {'clawback': 'BOB23JBQLW3AJREEG3KD7ULMAGYGVZ2LVF2OMZ2XBJIR64NO5P24XN7WEU',\n",
       "   'creator': 'WSC24MVUSQ32IZYD7FNN54Z44IXWL4X7BOJD6AGFOCHOG4PDFESLZUGLTI',\n",
       "   'decimals': 2,\n",
       "   'default-frozen': False,\n",
       "   'freeze': 'BOB23JBQLW3AJREEG3KD7ULMAGYGVZ2LVF2OMZ2XBJIR64NO5P24XN7WEU',\n",
       "   'manager': 'ALICEXOA4Q2OD5CKBYND4UX75K3TAODEC3XCVNQ3URMKUMZKUOTOSAQLIU',\n",
       "   'name': 'Peters WSC coin',\n",
       "   'name-b64': 'UGV0ZXJzIFdTQyBjb2lu',\n",
       "   'reserve': 'ALICEXOA4Q2OD5CKBYND4UX75K3TAODEC3XCVNQ3URMKUMZKUOTOSAQLIU',\n",
       "   'total': 100000,\n",
       "   'unit-name': 'WSC',\n",
       "   'unit-name-b64': 'V1ND',\n",
       "   'url': 'www.usi.ch/wsc',\n",
       "   'url-b64': 'd3d3LnVzaS5jaC93c2M='}},\n",
       " {'index': 641960001,\n",
       "  'params': {'clawback': 'BOB23JBQLW3AJREEG3KD7ULMAGYGVZ2LVF2OMZ2XBJIR64NO5P24XN7WEU',\n",
       "   'creator': 'WSC24MVUSQ32IZYD7FNN54Z44IXWL4X7BOJD6AGFOCHOG4PDFESLZUGLTI',\n",
       "   'decimals': 2,\n",
       "   'default-frozen': False,\n",
       "   'freeze': 'BOB23JBQLW3AJREEG3KD7ULMAGYGVZ2LVF2OMZ2XBJIR64NO5P24XN7WEU',\n",
       "   'manager': 'ALICEXOA4Q2OD5CKBYND4UX75K3TAODEC3XCVNQ3URMKUMZKUOTOSAQLIU',\n",
       "   'name': 'Peters WSC coin',\n",
       "   'name-b64': 'UGV0ZXJzIFdTQyBjb2lu',\n",
       "   'reserve': 'ALICEXOA4Q2OD5CKBYND4UX75K3TAODEC3XCVNQ3URMKUMZKUOTOSAQLIU',\n",
       "   'total': 100000,\n",
       "   'unit-name': 'WSC',\n",
       "   'unit-name-b64': 'V1ND',\n",
       "   'url': 'www.usi.ch/wsc',\n",
       "   'url-b64': 'd3d3LnVzaS5jaC93c2M='}},\n",
       " {'index': 641963975,\n",
       "  'params': {'clawback': 'ALICEXOA4Q2OD5CKBYND4UX75K3TAODEC3XCVNQ3URMKUMZKUOTOSAQLIU',\n",
       "   'creator': 'WSC24MVUSQ32IZYD7FNN54Z44IXWL4X7BOJD6AGFOCHOG4PDFESLZUGLTI',\n",
       "   'decimals': 1,\n",
       "   'default-frozen': False,\n",
       "   'freeze': 'CHARLS5INIT5KOLDK3F2QAZXY7N4W7GOE6UTXHEHS3RBNCR2WJXRRTH3GY',\n",
       "   'manager': 'ALICEXOA4Q2OD5CKBYND4UX75K3TAODEC3XCVNQ3URMKUMZKUOTOSAQLIU',\n",
       "   'name': 'Peters Tempcoin',\n",
       "   'name-b64': 'UGV0ZXJzIFRlbXBjb2lu',\n",
       "   'reserve': 'BOB23JBQLW3AJREEG3KD7ULMAGYGVZ2LVF2OMZ2XBJIR64NO5P24XN7WEU',\n",
       "   'total': 1000,\n",
       "   'unit-name': 'TEMP',\n",
       "   'unit-name-b64': 'VEVNUA==',\n",
       "   'url': 'en.wikipedia.org/wiki/Temporary',\n",
       "   'url-b64': 'ZW4ud2lraXBlZGlhLm9yZy93aWtpL1RlbXBvcmFyeQ=='}}]"
      ]
     },
     "execution_count": 25,
     "metadata": {},
     "output_type": "execute_result"
    }
   ],
   "source": [
    "account_info['created-assets']"
   ]
  },
  {
   "cell_type": "markdown",
   "metadata": {},
   "source": [
    "#### EXERCISE\n",
    "* Check the holdings of MyAlgo, Alice and Bob. \n",
    "* Check the asset-id on Pera Explorer.\n",
    "* Is the asset really gone from the blockchain? discuss"
   ]
  },
  {
   "cell_type": "markdown",
   "metadata": {},
   "source": [
    "## Things that don't work"
   ]
  },
  {
   "cell_type": "markdown",
   "metadata": {},
   "source": [
    "* Holding an ASA if you do not hold sufficient ALGOs\n",
    "    * Minimum 0.1 ALGO per account plus 0.1 ALGO per ASA\n",
    "* Destroying an ASA if the creator does not hold all coins"
   ]
  }
 ],
 "metadata": {
  "kernelspec": {
   "display_name": "Python 3 (ipykernel)",
   "language": "python",
   "name": "python3"
  },
  "language_info": {
   "codemirror_mode": {
    "name": "ipython",
    "version": 3
   },
   "file_extension": ".py",
   "mimetype": "text/x-python",
   "name": "python",
   "nbconvert_exporter": "python",
   "pygments_lexer": "ipython3",
   "version": "3.11.5"
  }
 },
 "nbformat": 4,
 "nbformat_minor": 4
}
