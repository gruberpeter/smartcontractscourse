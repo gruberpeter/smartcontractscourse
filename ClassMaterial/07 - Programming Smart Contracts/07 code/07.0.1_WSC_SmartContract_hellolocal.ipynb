{
 "cells": [
  {
   "cell_type": "markdown",
   "id": "b088d034",
   "metadata": {
    "tags": []
   },
   "source": [
    "## Hello World SC\n",
    "#### 07.0 Winter School on Smart Contracts\n",
    "##### Peter Gruber (peter.gruber@usi.ch)\n",
    "2022-01-09\n"
   ]
  },
  {
   "cell_type": "markdown",
   "id": "a5634b6d",
   "metadata": {
    "tags": []
   },
   "source": [
    "## Setup\n",
    "See notebook 04.1, loading `algo_util.py`, the five accounts and the Purestake credentials\n",
    "* Consider hiding this code"
   ]
  },
  {
   "cell_type": "code",
   "execution_count": 1,
   "id": "cf147ca7",
   "metadata": {
    "jupyter": {
     "source_hidden": true
    },
    "tags": []
   },
   "outputs": [],
   "source": [
    "# Loading shared code and credentials\n",
    "import sys, os\n",
    "codepath = '..'+os.path.sep+'..'+os.path.sep+'sharedCode'\n",
    "sys.path.append(codepath)\n",
    "from algo_util import *\n",
    "cred = load_credentials()\n",
    "MyAlgo  = cred['MyAlgo']\n",
    "Alice   = cred['Alice']\n",
    "Bob     = cred['Bob']\n",
    "Charlie = cred['Charlie']\n",
    "Dina    = cred['Dina']"
   ]
  },
  {
   "cell_type": "code",
   "execution_count": 2,
   "id": "7fce4eb7",
   "metadata": {
    "jupyter": {
     "source_hidden": true
    },
    "tags": []
   },
   "outputs": [],
   "source": [
    "from algosdk import account, mnemonic\n",
    "from algosdk.v2client import algod\n",
    "from algosdk.future import transaction\n",
    "from algosdk.future.transaction import PaymentTxn\n",
    "from algosdk.future.transaction import AssetConfigTxn, AssetTransferTxn, AssetFreezeTxn\n",
    "import algosdk.error\n",
    "import json\n",
    "import base64\n",
    "import datetime"
   ]
  },
  {
   "cell_type": "code",
   "execution_count": 3,
   "id": "ce0718a0",
   "metadata": {
    "jupyter": {
     "source_hidden": true
    },
    "tags": []
   },
   "outputs": [],
   "source": [
    "from pyteal import *"
   ]
  },
  {
   "cell_type": "code",
   "execution_count": 4,
   "id": "43c34c49",
   "metadata": {
    "jupyter": {
     "source_hidden": true
    },
    "tags": []
   },
   "outputs": [
    {
     "name": "stdout",
     "output_type": "stream",
     "text": [
      "Last committed block is: 19847679\n"
     ]
    }
   ],
   "source": [
    "# Initialize the algod client (Testnet or Mainnet)\n",
    "algod_client = algod.AlgodClient(algod_token='', algod_address=cred['algod_test'], headers=cred['purestake_token'])\n",
    "last_block = algod_client.status()[\"last-round\"]\n",
    "print(f\"Last committed block is: {last_block}\")"
   ]
  },
  {
   "cell_type": "code",
   "execution_count": 5,
   "id": "629390a0",
   "metadata": {
    "jupyter": {
     "source_hidden": true
    },
    "tags": []
   },
   "outputs": [
    {
     "name": "stdout",
     "output_type": "stream",
     "text": [
      "ADLR27NB3V62INPRGCK63YMRWQCU4J2OE6PTIGZSZSXZNO5KSLAU7TPSFU\n",
      "FEJNBD5DI3TC53AZNGSUAXAR6HAELQF4PLAHSVDUG3EP5WXEKRVULIWOJE\n",
      "AH3NJBIMCZZLXY7NR2NENBWUS4P63JOJFUYM2O3DTW4J5E2ENQL5ISFGKU\n"
     ]
    }
   ],
   "source": [
    "print(Alice['public'])\n",
    "print(Bob['public'])\n",
    "print(Charlie['public'])"
   ]
  },
  {
   "cell_type": "markdown",
   "id": "17ddfe7b-1986-4d98-ad3f-35d392b21941",
   "metadata": {},
   "source": [
    "### Some helper functions"
   ]
  },
  {
   "cell_type": "code",
   "execution_count": 6,
   "id": "01f514c9-372a-46f3-bfda-5f075c965b32",
   "metadata": {
    "tags": []
   },
   "outputs": [],
   "source": [
    "def read_local_state(client, addr, app_id):\n",
    "    # reads a user's local state\n",
    "    # client = algod_client\n",
    "    # addr = public addr of the user that we want to inspect\n",
    "    results = client.account_info(addr)\n",
    "    for local_state in results[\"apps-local-state\"]:\n",
    "        if local_state[\"id\"] == app_id:\n",
    "            if \"key-value\" not in local_state:\n",
    "                return {}\n",
    "            return format_state(local_state[\"key-value\"])\n",
    "    return {}\n",
    "\n",
    "def read_global_state(client, app_id):\n",
    "    # reads an app's global state\n",
    "    return  algod_client.application_info(app_id)[\"params\"][\"global-state\"]\n",
    "\n",
    "def format_state(state):\n",
    "    # formats the state (local/global) nicely \n",
    "    formatted = {}\n",
    "    textvariables = {'Info','Note'}        # <---- update this! (List of Text variables in SC)\n",
    "    for item in state:\n",
    "        key = base64.b64decode(item[\"key\"]).decode(\"utf-8\")\n",
    "        value = item[\"value\"]\n",
    "        if value[\"type\"] == 1:\n",
    "            if key in textvariables:                 # Format text variables\n",
    "                formatted_value = base64.b64decode(value[\"bytes\"]).decode(\"utf-8\")\n",
    "            else:                                    # Format addresses\n",
    "                formatted_value = base64.b32encode(base64.b64decode(value[\"bytes\"]))\n",
    "            formatted[key] = formatted_value\n",
    "        else:\n",
    "            formatted[key] = value[\"uint\"]\n",
    "    return formatted"
   ]
  },
  {
   "cell_type": "markdown",
   "id": "9bfbbde9-c413-4bea-a61e-5f483597ddcc",
   "metadata": {},
   "source": [
    "## A first stateful smart contract\n",
    "The stateful smart contract consists of two parts\n",
    "* The `approval_program` that handles everything except opt out\n",
    "* The `clear_state_program` that handles the opt out"
   ]
  },
  {
   "cell_type": "markdown",
   "id": "c4bfc6dc-c0d3-43ce-bac9-03f62257e611",
   "metadata": {},
   "source": [
    "## Our first project: HelloWorld Local\n",
    "* Idea: just write \"Hello World\" into the global state\n",
    "* AND into the global state of every user\n",
    "* Do not do anything else"
   ]
  },
  {
   "cell_type": "markdown",
   "id": "e6cbb2e9",
   "metadata": {},
   "source": [
    "#### Step 1: Define Approval program\n",
    "This is the program that handles all interactions except opt out:\n",
    "* Creation of the SC `handle_creation`\n",
    "* Opt-in of individual users `handle_register`\n",
    "* Interactions (calls) of individual users `handle_interact`\n"
   ]
  },
  {
   "cell_type": "code",
   "execution_count": 7,
   "id": "f2297019-2c5f-40a0-b6ba-3b3c860f22ed",
   "metadata": {
    "tags": []
   },
   "outputs": [],
   "source": [
    "handle_creation = Seq(\n",
    "    [\n",
    "        # Initialize a GLOBAL variable\n",
    "        App.globalPut(Bytes(\"Note\"),       Bytes(\"Hello world!\")),\n",
    "        # Return \"OK\"\n",
    "        Return(Int(1))        \n",
    "    ]\n",
    ")\n",
    "\n",
    "handle_optin = Seq(\n",
    "    [\n",
    "        # Initialize a LOCAL variable\n",
    "        # Int(0) = current user\n",
    "        App.localPut(Int(0), Bytes(\"Note\"), Bytes(\"Welcome on board!\")),\n",
    "        # Return \"OK\"\n",
    "        Return(Int(1))        \n",
    "    ]\n",
    ")\n",
    "\n",
    "\n",
    "handle_closeout = Return( Int(1) )                # Not doing anything, returning \"OK\"  \n",
    "\n",
    "handle_updateapp = Return( Int(0) )               # Always FALSE ... updating not allowed\n",
    "\n",
    "handle_deleteapp = Return(\n",
    "    Txn.sender() == Global.creator_address()    # only TRUE if delete request is made by creator\n",
    ")\n",
    "\n",
    "# handle interaction\n",
    "handle_noop  = Return ( Int(1) )                   # Not doing anything, returning \"OK\"           \n",
    "\n"
   ]
  },
  {
   "cell_type": "code",
   "execution_count": 8,
   "id": "395df1cc-5fe3-48b5-a3e4-7500b6bcac65",
   "metadata": {
    "tags": []
   },
   "outputs": [],
   "source": [
    "hello_approval_pyteal = Cond(\n",
    "    [Txn.application_id() == Int(0),              handle_creation],\n",
    "    [Txn.on_completion()  == OnComplete.OptIn,    handle_optin],\n",
    "    [Txn.on_completion()  == OnComplete.CloseOut, handle_closeout],\n",
    "    [Txn.on_completion()  == OnComplete.UpdateApplication, handle_updateapp],\n",
    "    [Txn.on_completion()  == OnComplete.DeleteApplication, handle_deleteapp],\n",
    "    [Txn.on_completion()  == OnComplete.NoOp, handle_noop],\n",
    ")"
   ]
  },
  {
   "cell_type": "markdown",
   "id": "078b689c-8e7b-4c84-aa8d-94164111174b",
   "metadata": {},
   "source": [
    "#### Compile PyTEAL -> TEAL\n",
    "* Notice the `Mode.Application` (was `Mode.Signature`)"
   ]
  },
  {
   "cell_type": "code",
   "execution_count": 9,
   "id": "caf3cabc-dce7-4107-8617-53700a92f0ab",
   "metadata": {
    "tags": []
   },
   "outputs": [
    {
     "name": "stdout",
     "output_type": "stream",
     "text": [
      "#pragma version 3\n",
      "txn ApplicationID\n",
      "int 0\n",
      "==\n",
      "bnz l12\n",
      "txn OnCompletion\n",
      "int OptIn\n",
      "==\n",
      "bnz l11\n",
      "txn OnCompletion\n",
      "int CloseOut\n",
      "==\n",
      "bnz l10\n",
      "txn OnCompletion\n",
      "int UpdateApplication\n",
      "==\n",
      "bnz l9\n",
      "txn OnCompletion\n",
      "int DeleteApplication\n",
      "==\n",
      "bnz l8\n",
      "txn OnCompletion\n",
      "int NoOp\n",
      "==\n",
      "bnz l7\n",
      "err\n",
      "l7:\n",
      "int 1\n",
      "return\n",
      "l8:\n",
      "txn Sender\n",
      "global CreatorAddress\n",
      "==\n",
      "return\n",
      "l9:\n",
      "int 0\n",
      "return\n",
      "l10:\n",
      "int 1\n",
      "return\n",
      "l11:\n",
      "int 0\n",
      "byte \"Note\"\n",
      "byte \"Welcome on board!\"\n",
      "app_local_put\n",
      "int 1\n",
      "return\n",
      "l12:\n",
      "byte \"Note\"\n",
      "byte \"Hello world!\"\n",
      "app_global_put\n",
      "int 1\n",
      "return\n"
     ]
    }
   ],
   "source": [
    "hello_approval_teal = compileTeal(hello_approval_pyteal,mode=Mode.Application, version=3)\n",
    "print(hello_approval_teal)"
   ]
  },
  {
   "cell_type": "markdown",
   "id": "23e7a9d1-3d6e-4a20-a98d-e7ece91891a1",
   "metadata": {
    "tags": []
   },
   "source": [
    "#### Step 1b: Define Clear State program\n",
    "* This program handles forced opt-outs"
   ]
  },
  {
   "cell_type": "code",
   "execution_count": 10,
   "id": "1bf34d83-67c0-4e6e-89f5-f5125c926106",
   "metadata": {
    "tags": []
   },
   "outputs": [],
   "source": [
    "hello_clear_pyteal =  Return(Int(1))    # not doing anything"
   ]
  },
  {
   "cell_type": "code",
   "execution_count": 11,
   "id": "62b736ac-2632-4c72-8d2a-974bb969a16d",
   "metadata": {},
   "outputs": [
    {
     "name": "stdout",
     "output_type": "stream",
     "text": [
      "#pragma version 3\n",
      "int 1\n",
      "return\n"
     ]
    }
   ],
   "source": [
    "hello_clear_teal = compileTeal(hello_clear_pyteal,mode=Mode.Application, version=3)\n",
    "print(hello_clear_teal)"
   ]
  },
  {
   "cell_type": "markdown",
   "id": "dd80aef2-e87e-439d-a9d1-55626b2b8bc9",
   "metadata": {},
   "source": [
    "#### Compile TEAL -> Bytecode\n",
    "This is slightly different ... we need one additional step for Byte-encoding"
   ]
  },
  {
   "cell_type": "code",
   "execution_count": 12,
   "id": "d1e7fa24-730b-42d7-bba4-724290496ecf",
   "metadata": {},
   "outputs": [],
   "source": [
    "hello_approval_b64 = algod_client.compile(hello_approval_teal)\n",
    "Hello_Approval =  base64.b64decode(hello_approval_b64['result'])\n",
    "\n",
    "hello_clear_b64 = algod_client.compile(hello_clear_teal)\n",
    "Hello_Clear =  base64.b64decode(hello_clear_b64['result'])"
   ]
  },
  {
   "cell_type": "markdown",
   "id": "e9c3af5a-1c26-4c24-afb2-e5514ccb5be7",
   "metadata": {},
   "source": [
    "## Deploy Smart Contract\n",
    "\n",
    "##### Bob deploys the smart contract\n",
    "* Reserve global storage with `StateSchema`\n",
    "* New command `ApplicationCreateTxn`\n",
    "* See [here](https://py-algorand-sdk.readthedocs.io/en/latest/algosdk/future/transaction.html#algosdk.future.transaction.ApplicationCreateTxn)"
   ]
  },
  {
   "cell_type": "code",
   "execution_count": 13,
   "id": "ec2f9e29-feaa-4297-80cb-560ad2938e26",
   "metadata": {},
   "outputs": [],
   "source": [
    "# Step 1: Prepare the transaction\n",
    "sp = algod_client.suggested_params()\n",
    "\n",
    "# How much space do we need?\n",
    "global_ints = 0    # no numeric variable\n",
    "global_bytes = 1   # for  Note\n",
    "hello_global_schema = transaction.StateSchema(global_ints, global_bytes)\n",
    "\n",
    "local_ints = 0     # No local variables\n",
    "local_bytes = 1    # for Note\n",
    "hello_local_schema = transaction.StateSchema(local_ints, local_bytes)\n",
    "\n",
    "txn = transaction.ApplicationCreateTxn(\n",
    "      sender = Bob['public'],              # <-- sender public\n",
    "      sp = sp,                             # <-- sp\n",
    "      on_complete = 0,                     # <-- when finished do nothing\n",
    "      approval_program = Hello_Approval,   # <-- approval program \n",
    "      clear_program = Hello_Clear,         # <-- clear program \n",
    "      global_schema = hello_global_schema, # <-- reserve global space \n",
    "      local_schema = hello_local_schema    # <-- reserve local space\n",
    "    )"
   ]
  },
  {
   "cell_type": "code",
   "execution_count": 14,
   "id": "62e83a02-5ac0-4a6c-a30e-c97b0f4494ba",
   "metadata": {},
   "outputs": [
    {
     "name": "stdout",
     "output_type": "stream",
     "text": [
      "Current round is  19847765.\n",
      "Waiting for round 19847765 to finish.\n",
      "Waiting for round 19847766 to finish.\n",
      "Transaction M5F4URIG2WGFCPU4VRLWDSRWQZLD6ALRCP45O532KMCVAYP3NBKA confirmed in round 19847767.\n"
     ]
    }
   ],
   "source": [
    "# Step 2: sign transaction\n",
    "stxn = txn.sign(Bob['private'])\n",
    "\n",
    "# Step 3: send\n",
    "txid=algod_client.send_transactions([stxn])\n",
    "\n",
    "# Step 4: wait for ...\n",
    "txinfo = wait_for_confirmation(algod_client, txid)"
   ]
  },
  {
   "cell_type": "code",
   "execution_count": 16,
   "id": "d75fc026-762c-4d6e-8441-bf92d9b220a9",
   "metadata": {},
   "outputs": [
    {
     "name": "stdout",
     "output_type": "stream",
     "text": [
      "Created new app-id: 71734153\n"
     ]
    }
   ],
   "source": [
    "app_id = txinfo[\"application-index\"]\n",
    "print(\"Created new app-id:\", app_id)"
   ]
  },
  {
   "cell_type": "markdown",
   "id": "572f671a-b1b8-45af-a529-5623908b57f8",
   "metadata": {},
   "source": [
    "## The Smart Contract is now deployed\n",
    "* And there is alreasdy something to see"
   ]
  },
  {
   "cell_type": "code",
   "execution_count": 17,
   "id": "67436e8f-1bd6-4a9a-b2a6-f87b3a665772",
   "metadata": {},
   "outputs": [
    {
     "data": {
      "text/plain": [
       "{'Note': 'Hello world!'}"
      ]
     },
     "execution_count": 17,
     "metadata": {},
     "output_type": "execute_result"
    }
   ],
   "source": [
    "format_state(read_global_state(algod_client,app_id))"
   ]
  },
  {
   "cell_type": "code",
   "execution_count": 19,
   "id": "de980adb-3dd9-4b94-a628-b835af7e1d34",
   "metadata": {},
   "outputs": [
    {
     "name": "stdout",
     "output_type": "stream",
     "text": [
      "https://testnet.algoexplorer.io/application/71734153\n"
     ]
    }
   ],
   "source": [
    "# Program code immediately visible on the web\n",
    "print('https://testnet.algoexplorer.io/application/{}'.format(app_id))"
   ]
  },
  {
   "cell_type": "markdown",
   "id": "307c1e0e-5a36-43e8-86d1-7e18fdc0aef2",
   "metadata": {},
   "source": [
    "## Using the Smart Contract (1): Users opt-in\n",
    "* Nothing will happen, but we can test everything\n",
    "* Using `ApplicationOptInTxn`\n",
    "* See [here](https://py-algorand-sdk.readthedocs.io/en/latest/algosdk/future/transaction.html#algosdk.future.transaction.ApplicationOptInTxn)"
   ]
  },
  {
   "cell_type": "code",
   "execution_count": 27,
   "id": "921f46da-6c68-4daf-8e29-c86a1a65abd6",
   "metadata": {},
   "outputs": [
    {
     "name": "stdout",
     "output_type": "stream",
     "text": [
      "Current round is  19847797.\n",
      "Waiting for round 19847797 to finish.\n",
      "Waiting for round 19847798 to finish.\n",
      "Transaction 7MV77G2BAICIUIXACIY2KOYHDAHD2WBTPTWX35UCF3DSLY2ZPJQA confirmed in round 19847799.\n"
     ]
    }
   ],
   "source": [
    "user = Alice\n",
    "\n",
    "# Step 1: prepare transaction\n",
    "sp = algod_client.suggested_params()\n",
    "txn = transaction.ApplicationOptInTxn(user['public'], sp, app_id)\n",
    "\n",
    "# Step 2: sign transaction\n",
    "stxn = txn.sign(user['private'])\n",
    "\n",
    "# Step 3: send\n",
    "txid = algod_client.send_transactions([stxn])\n",
    "\n",
    "# Step 4: await confirmation\n",
    "txinfo = wait_for_confirmation(algod_client, txid)"
   ]
  },
  {
   "cell_type": "markdown",
   "id": "dc4ded6a-311d-47f8-9a32-4a242e8738a3",
   "metadata": {},
   "source": [
    "#### Watch the state of the contract evolve"
   ]
  },
  {
   "cell_type": "code",
   "execution_count": 28,
   "id": "0570f72f-9854-4234-841d-5f4afddcaf28",
   "metadata": {},
   "outputs": [
    {
     "data": {
      "text/plain": [
       "{'Note': 'Hello world!'}"
      ]
     },
     "execution_count": 28,
     "metadata": {},
     "output_type": "execute_result"
    }
   ],
   "source": [
    "format_state(read_global_state(algod_client,app_id))"
   ]
  },
  {
   "cell_type": "code",
   "execution_count": 32,
   "id": "64af4ec9-d66f-4bc4-b409-f36e314aba0d",
   "metadata": {},
   "outputs": [
    {
     "data": {
      "text/plain": [
       "{}"
      ]
     },
     "execution_count": 32,
     "metadata": {},
     "output_type": "execute_result"
    }
   ],
   "source": [
    "read_local_state(algod_client,user['public'],app_id)"
   ]
  },
  {
   "cell_type": "markdown",
   "id": "e960c3d1-0dcb-4913-a02c-cadaf418007f",
   "metadata": {},
   "source": [
    "## Users can call the Smart contract (\"make a visit\")\n",
    "* Strangley, calling a Smart Contact is done with a `ApplicationNoOpTxn`\n",
    "* See [here](https://py-algorand-sdk.readthedocs.io/en/latest/algosdk/future/transaction.html#algosdk.future.transaction.ApplicationNoOpTxn)"
   ]
  },
  {
   "cell_type": "code",
   "execution_count": 33,
   "id": "5965a7bc-2c91-4137-a5f0-0d6d3781d715",
   "metadata": {},
   "outputs": [
    {
     "name": "stdout",
     "output_type": "stream",
     "text": [
      "Current round is  19847809.\n",
      "Waiting for round 19847809 to finish.\n",
      "Waiting for round 19847810 to finish.\n",
      "Transaction EB6SWXP2BWZ7BIMXPHWMGM2HMWEXNC4CMZZJVZE6NMGSMQOHEIVQ confirmed in round 19847811.\n"
     ]
    }
   ],
   "source": [
    "user = Bob\n",
    "\n",
    "# Step 1: prepare\n",
    "sp = algod_client.suggested_params()\n",
    "txn = transaction.ApplicationNoOpTxn(user['public'], sp, app_id)\n",
    "\n",
    "# Step 2: sign\n",
    "stxn = txn.sign(user['private'])\n",
    "\n",
    "# Step 3: send\n",
    "txid = algod_client.send_transactions([stxn])\n",
    "\n",
    "# Step 4: wait for condfirmation\n",
    "txinfo = wait_for_confirmation(algod_client, txid)"
   ]
  },
  {
   "cell_type": "markdown",
   "id": "afacafcf-99ee-4cce-9652-a7752b67bc82",
   "metadata": {},
   "source": [
    "#### The state does not change"
   ]
  },
  {
   "cell_type": "code",
   "execution_count": 34,
   "id": "343f4d6c-0cfe-40ad-919b-efa036f07b74",
   "metadata": {},
   "outputs": [
    {
     "data": {
      "text/plain": [
       "{'Note': 'Hello world!'}"
      ]
     },
     "execution_count": 34,
     "metadata": {},
     "output_type": "execute_result"
    }
   ],
   "source": [
    "format_state(read_global_state(algod_client,app_id))"
   ]
  },
  {
   "cell_type": "code",
   "execution_count": 35,
   "id": "63f9c554-f5cf-4eff-865e-6c99bf372f8d",
   "metadata": {},
   "outputs": [
    {
     "data": {
      "text/plain": [
       "{}"
      ]
     },
     "execution_count": 35,
     "metadata": {},
     "output_type": "execute_result"
    }
   ],
   "source": [
    "read_local_state(algod_client,user['public'],app_id)"
   ]
  },
  {
   "cell_type": "markdown",
   "id": "e14d0bd4-30c0-4a33-ac46-8046f4b4e58f",
   "metadata": {},
   "source": [
    "## Users close out (leave) App\n",
    "* With a `ApplicationCloseOutTxn`\n",
    "* See [here](https://py-algorand-sdk.readthedocs.io/en/latest/algosdk/future/transaction.html#algosdk.future.transaction.ApplicationCloseOutTxn)"
   ]
  },
  {
   "cell_type": "code",
   "execution_count": 36,
   "id": "1f8c2b07-0b94-4359-8e31-3331ae15520b",
   "metadata": {},
   "outputs": [
    {
     "name": "stdout",
     "output_type": "stream",
     "text": [
      "Current round is  19847815.\n",
      "Waiting for round 19847815 to finish.\n",
      "Waiting for round 19847816 to finish.\n",
      "Transaction 67WEQRC4OHIMDEEPNFNIJAT7M3QDHRGPO63JU6OK3U7OPRWL4TVA confirmed in round 19847817.\n"
     ]
    }
   ],
   "source": [
    "user = Alice\n",
    "\n",
    "# Step 1: prepare\n",
    "sp = algod_client.suggested_params()\n",
    "txn = transaction.ApplicationCloseOutTxn(user['public'], sp, app_id)\n",
    "\n",
    "# Step 2: sign\n",
    "stxn = txn.sign(user['private'])\n",
    "\n",
    "# Step 3: send\n",
    "txid = algod_client.send_transactions([stxn])\n",
    "\n",
    "# Step 4: wait for condfirmation\n",
    "txinfo = wait_for_confirmation(algod_client, txid)"
   ]
  },
  {
   "cell_type": "markdown",
   "id": "ce58bf71-41fd-405a-9076-70d3b57dcad6",
   "metadata": {},
   "source": [
    "## Deleting the app\n",
    "* Rather important, because an address can only create **10 apps**\n",
    "* App can be deleted by creator"
   ]
  },
  {
   "cell_type": "code",
   "execution_count": 37,
   "id": "2c946769-84c7-4acf-b614-a9d68fa18c1c",
   "metadata": {},
   "outputs": [
    {
     "name": "stdout",
     "output_type": "stream",
     "text": [
      "Current round is  19847820.\n",
      "Waiting for round 19847820 to finish.\n",
      "Waiting for round 19847821 to finish.\n",
      "Transaction MI54BNKROCL4PKBDEXRNJL4YV6QEPTFCVAX6TVLWIVGJK2KYYAUQ confirmed in round 19847822.\n",
      "Deleted app-id: 71734153\n"
     ]
    }
   ],
   "source": [
    "creator = Bob\n",
    "\n",
    "# Step 1: Prepare transaction\n",
    "sp = algod_client.suggested_params()\n",
    "txn = transaction.ApplicationDeleteTxn(creator['public'], sp, app_id)\n",
    "\n",
    "# Step 2: sign\n",
    "stxn = txn.sign(creator['private'])\n",
    "\n",
    "# Step 3: send\n",
    "txid = algod_client.send_transactions([stxn])\n",
    "\n",
    "# Step4 : wait for confirmation\n",
    "txinfo = wait_for_confirmation(algod_client, txid)\n",
    "\n",
    "# display results\n",
    "print(\"Deleted app-id:\", txinfo[\"txn\"][\"txn\"][\"apid\"])"
   ]
  },
  {
   "cell_type": "code",
   "execution_count": null,
   "id": "ea8d4ddf-3cf9-4987-a013-4371bff78933",
   "metadata": {},
   "outputs": [],
   "source": []
  }
 ],
 "metadata": {
  "kernelspec": {
   "display_name": "Python 3",
   "language": "python",
   "name": "python3"
  },
  "language_info": {
   "codemirror_mode": {
    "name": "ipython",
    "version": 3
   },
   "file_extension": ".py",
   "mimetype": "text/x-python",
   "name": "python",
   "nbconvert_exporter": "python",
   "pygments_lexer": "ipython3",
   "version": "3.8.8"
  }
 },
 "nbformat": 4,
 "nbformat_minor": 5
}
