{
 "cells": [
  {
   "cell_type": "markdown",
   "metadata": {},
   "source": [
    "## Create a liquidity pool on Tinyman and trade algorithmically\n",
    "#### 09.1 Winter School on Smart Contracts\n",
    "##### Peter Gruber (peter.gruber@usi.ch)\n",
    "2022-01-26\n"
   ]
  },
  {
   "cell_type": "markdown",
   "metadata": {
    "tags": []
   },
   "source": [
    "## Setup"
   ]
  },
  {
   "cell_type": "code",
   "execution_count": null,
   "metadata": {},
   "outputs": [],
   "source": [
    "# Loading shared code and credentials\n",
    "import sys, os\n",
    "\n",
    "codepath = '..'+os.path.sep+'..'+os.path.sep+'sharedCode'\n",
    "sys.path.append(codepath)\n",
    "from algo_util import *\n",
    "cred = load_credentials()\n",
    "\n",
    "# Shortcuts to directly access the 3 main accounts\n",
    "MyAlgo  = cred['MyAlgo']\n",
    "Alice   = cred['Alice']\n",
    "Bob     = cred['Bob']\n",
    "Charlie = cred['Charlie']\n",
    "Dina    = cred['Dina']"
   ]
  },
  {
   "cell_type": "code",
   "execution_count": null,
   "metadata": {},
   "outputs": [],
   "source": [
    "from algosdk import account, mnemonic\n",
    "from algosdk.v2client import algod\n",
    "from algosdk.future import transaction\n",
    "from algosdk.future.transaction import PaymentTxn\n",
    "from algosdk.future.transaction import AssetConfigTxn, AssetTransferTxn, AssetFreezeTxn\n",
    "from algosdk.future.transaction import LogicSig, LogicSigTransaction\n",
    "\n",
    "import algosdk.error\n",
    "import json\n",
    "import base64\n",
    "import hashlib"
   ]
  },
  {
   "cell_type": "code",
   "execution_count": null,
   "metadata": {},
   "outputs": [],
   "source": [
    "from pyteal import *"
   ]
  },
  {
   "cell_type": "code",
   "execution_count": null,
   "metadata": {},
   "outputs": [],
   "source": [
    "# Initialize the algod client (Testnet or Mainnet)\n",
    "algod_client = algod.AlgodClient(algod_token='', algod_address=cred['algod_test'], headers=cred['purestake_token'])"
   ]
  },
  {
   "cell_type": "code",
   "execution_count": null,
   "metadata": {},
   "outputs": [],
   "source": [
    "# Initialize the algod client (Testnet or Mainnet)\n",
    "algod_client = algod.AlgodClient(algod_token='', algod_address=cred['algod_test'], headers=cred['purestake_token'])"
   ]
  },
  {
   "cell_type": "markdown",
   "metadata": {},
   "source": [
    "### Create liquidity pool via web page"
   ]
  },
  {
   "cell_type": "markdown",
   "metadata": {},
   "source": [
    "Tinyman is a dApp for liquidity pools. We are now creating step-by step a liquidity pool via their web interface.\n",
    "\n",
    "Requirements:\n",
    "+ Account on the testnet with Algos and one ASA\n",
    "+ Algorand App set to testnet\n",
    "\n",
    "Steps:\n",
    "Tinyman is a dApp for liquidity pools. We are now creating step-by step a liquidity pool via their web interface.\n",
    "\n",
    "Prepare\n",
    "+ Go to https://testnet.tinyman.org/\n",
    "+ Click on \"Connect Wallet\" top right\n",
    "+ Choose \"Algorand Mobile Wallet\"\n",
    "+ Scan QR code with Algorand Wallet app\n",
    "+ Choose the acount that contains the ASA\n",
    "\n",
    "Create pool\n",
    "+ Click on \"pool\"\n",
    "+ \"create pair\" /  see all /and deselect \"hide unverified assets\".\n",
    "+ \"Create pool\" will create *empty pool* (takes a few rounds = 15sec)\n",
    "\n",
    "> \"Once you create the pool, other users will be able to add liquidity to it, but the pool will be unverified. Creating the pool does not give you additional rights over the pool.\"\n",
    "\n",
    "+ Do not forget to confirm the transaction with the mobile phone app\n",
    "\n",
    ">\"To add liquidity, you need to first opt-in your account to the liquidity token of this pool.\"\n",
    "+ Click and confirm opt-in transaction on app\n",
    "\n",
    "+ Now the pool is empty, add liquidity. Select from top. **This defines the initial exchange rate**\n",
    "\n",
    "+ \"Add liquidity\" / \"Confirm supply\"\n",
    "+  Confirm transactions on app\n",
    "+  Now check asset holdings --> new asset \"Tinyman Pool\"\n",
    "\n",
    "Use the pool\n",
    "+ You and others can go to \"SWAP\" and access the pool (remember: deselect \"hide unverified assets\")\n",
    "  + Try to start with very small amounts\n",
    "  + Increase amount, see how price impact changes exchange rate\n",
    "  \n",
    "\n",
    "\n",
    "\n",
    "\n",
    "\n",
    "\n",
    "\n",
    "\n",
    "\n",
    "\n"
   ]
  },
  {
   "cell_type": "markdown",
   "metadata": {},
   "source": [
    "### Python and Tinyman "
   ]
  },
  {
   "cell_type": "code",
   "execution_count": null,
   "metadata": {
    "colab": {
     "base_uri": "https://localhost:8080/"
    },
    "id": "PxPrisdzAUEc",
    "outputId": "ac2c66a8-69d8-4ac5-d6f1-a1f2a8546d35",
    "tags": []
   },
   "outputs": [],
   "source": [
    "# install the github packages\n",
    "!pip install git+https://github.com/tinymanorg/tinyman-py-sdk.git"
   ]
  },
  {
   "cell_type": "code",
   "execution_count": null,
   "metadata": {
    "id": "DILYbWoL_BnW"
   },
   "outputs": [],
   "source": [
    "# import packages\n",
    "from tinyman.v1.pools import Pool\n",
    "from tinyman.assets import Asset\n",
    "from tinyman.utils import wait_for_confirmation\n",
    "from tinyman.v1.client import TinymanClient\n",
    "from tinyman.v1.client import TinymanTestnetClient"
   ]
  },
  {
   "cell_type": "code",
   "execution_count": null,
   "metadata": {
    "id": "DILYbWoL_BnW"
   },
   "outputs": [],
   "source": [
    "import algosdk\n",
    "import base64\n",
    "from algosdk import account, mnemonic\n",
    "import json\n",
    "from algosdk import template\n",
    "from algosdk.v2client import algod\n",
    "from algosdk.future import transaction\n",
    "from algosdk.transaction import PaymentTxn, LogicSig\n",
    "from pyteal import *"
   ]
  },
  {
   "cell_type": "code",
   "execution_count": null,
   "metadata": {
    "id": "s3eBlg3xA8VF"
   },
   "outputs": [],
   "source": [
    "# Connect to the Tinyman Client\n",
    "client = TinymanClient(\n",
    "    algod_client=algod_client,\n",
    "    validator_app_id=62368684,    # this is the testnet app ID (do not change)\n",
    ")"
   ]
  },
  {
   "cell_type": "code",
   "execution_count": null,
   "metadata": {
    "colab": {
     "base_uri": "https://localhost:8080/"
    },
    "id": "J5kIKZQyEQv_",
    "outputId": "1d05c22a-0f93-437f-a097-a91b3f7ea9d0"
   },
   "outputs": [],
   "source": [
    "# Get suggest params\n",
    "sp = algod_client.suggested_params()"
   ]
  },
  {
   "cell_type": "markdown",
   "metadata": {},
   "source": [
    "## Connect to Tinyman"
   ]
  },
  {
   "cell_type": "code",
   "execution_count": null,
   "metadata": {},
   "outputs": [],
   "source": [
    "account = MyAlgo"
   ]
  },
  {
   "cell_type": "code",
   "execution_count": null,
   "metadata": {
    "id": "Ff7cZe_vFK2-"
   },
   "outputs": [],
   "source": [
    "# Check if the account is opted into Tinyman dApp\n",
    "if(not client.is_opted_in(account['public'])):\n",
    "    print('Account not opted into app, opting in now..')\n",
    "    transaction_group = client.prepare_app_optin_transactions(account['public'])\n",
    "    for i, txn in enumerate(transaction_group.transactions):\n",
    "        if txn.sender == account['public']:\n",
    "            transaction_group.signed_transactions[i] = txn.sign(account['private'])\n",
    "    txid = client.algod.send_transactions(transaction_group.signed_transactions)\n",
    "    wait_for_confirmation(txid)\n"
   ]
  },
  {
   "cell_type": "code",
   "execution_count": null,
   "metadata": {
    "id": "rvdvz2OwMt_4"
   },
   "outputs": [],
   "source": [
    "# define function for logic sig of any pool\n",
    "import importlib.resources\n",
    "import tinyman.v1\n",
    "from tinyman.utils import get_program\n",
    "_contracts = json.loads(importlib.resources.read_text(tinyman.v1, 'asc.json'))\n",
    "\n",
    "pool_logicsig_def = _contracts['contracts']['pool_logicsig']['logic']\n",
    "\n",
    "validator_app_def = _contracts['contracts']['validator_app']\n",
    "\n",
    "def get_pool_logicsig(validator_app_id, asset1_id, asset2_id):\n",
    "    assets = [asset1_id, asset2_id]\n",
    "    asset_id_1 = max(assets)\n",
    "    asset_id_2 = min(assets)\n",
    "    program_bytes = get_program(pool_logicsig_def, variables=dict(\n",
    "        validator_app_id=validator_app_id,\n",
    "        asset_id_1=asset_id_1,\n",
    "        asset_id_2=asset_id_2,\n",
    "    ))\n",
    "    return LogicSig(program=program_bytes)"
   ]
  },
  {
   "cell_type": "code",
   "execution_count": null,
   "metadata": {},
   "outputs": [],
   "source": [
    "# Have a look at Algoexplorer to see the App that we have opted into\n",
    "# Click on \"Apps\"\n",
    "print(\"https://testnet.algoexplorer.io/address/\"+account['public'])"
   ]
  },
  {
   "cell_type": "markdown",
   "metadata": {},
   "source": [
    "#### Get your asset holdings"
   ]
  },
  {
   "cell_type": "code",
   "execution_count": null,
   "metadata": {},
   "outputs": [],
   "source": [
    "asset_holdings_df(algod_client,account['public'])"
   ]
  },
  {
   "cell_type": "code",
   "execution_count": null,
   "metadata": {
    "id": "3kfpXUSRO62C"
   },
   "outputs": [],
   "source": [
    "WSC_asset_id = 70627982        # <------------ CHANGE THIS!! use your ID\n",
    "\n",
    "client = TinymanTestnetClient(user_address=account['public'])\n",
    "# By default all subsequent operations are on behalf of user_address\n",
    "\n",
    "# Fetch our two assets of interest\n",
    "WinterSchoolCoin = client.fetch_asset(WSC_asset_id)\n",
    "ALGO = client.fetch_asset(0)\n",
    "\n",
    "# Fetch the pool we will work with\n",
    "pool = client.fetch_pool(WinterSchoolCoin, ALGO)"
   ]
  },
  {
   "cell_type": "code",
   "execution_count": null,
   "metadata": {
    "id": "3kfpXUSRO62C"
   },
   "outputs": [],
   "source": [
    "print(pool.address)    # noting to see YET\n",
    "print(pool.asset1)\n",
    "print(pool.asset2)"
   ]
  },
  {
   "cell_type": "markdown",
   "metadata": {
    "id": "jKejLqopZ2us"
   },
   "source": [
    "#### Manually add liquidity"
   ]
  },
  {
   "cell_type": "markdown",
   "metadata": {
    "id": "jKejLqopZ2us"
   },
   "source": [
    "**If we execute the next cell without putting liquidity inside the pool, we will get an error that states division by 0. This is because we have to provide liquidity to our pool.**\n",
    "\n",
    "8. We click on add liquidity on Tiniyman and we select the exchange rate that we want for our coin. We confirm and sign the transaction.\n",
    "\n",
    "9. Now we are able to check the pool swap prices. "
   ]
  },
  {
   "cell_type": "code",
   "execution_count": null,
   "metadata": {
    "colab": {
     "base_uri": "https://localhost:8080/"
    },
    "id": "PAFkvIJMc4XU",
    "outputId": "c73341d6-8cf1-48ff-c5d9-5b630dabbd66"
   },
   "outputs": [],
   "source": [
    "# Get a quote for a swap of 1 ALGO to WUSI with 1% slippage tolerance\n",
    "# Note: Algo in microAlgo\n",
    "quote = pool.fetch_fixed_input_swap_quote(ALGO(1_000_000), slippage=0.01)\n",
    "print(quote)\n",
    "print(f'WUSI per ALGO: {quote.price}')\n",
    "print(f'WUSI per ALGO (worst case): {quote.price_with_slippage}')\n",
    "# you can check if the swap rate is the same on the exchange"
   ]
  },
  {
   "cell_type": "markdown",
   "metadata": {
    "id": "XL_1ldEoimZl"
   },
   "source": [
    "## Assumptions made for the pool\n",
    "- The exchange will be permissionless, meaning that anyone can use it.\n",
    "- The exchange is fully decentralized and immutable - nobody can update/delete/freeze the Pools or assets.\n",
    "- The exchange is non-custodial. Only the Poolers have access to their shares of the Pools.\n",
    "- The AMM will be a constant product market maker, like Uniswap.\n",
    "- The Pools hold assets in a 50/50 ratio.\n",
    "- The AMM will allow exchange between pairs of Algorand Standard Assets (ASAs) or ASA and Algo.\n",
    "- The ASAs should have high liquidity - a large total supply (not NFTs or collectables).\n",
    "- The minimum swap/mint/burn size is expected to be 1000 microunits.\n",
    "-A percentage based fee is charged on every trade, called the swap fee. This fee increases a Pool’s liquidity and benefits liquidity providers (Poolers)."
   ]
  },
  {
   "cell_type": "markdown",
   "metadata": {
    "id": "ohyBxsOQfeDp"
   },
   "source": [
    "#### Useful resources \n",
    "\n",
    "https://github.com/tinymanorg/tinyman-py-sdk --> Tinyman's github\n",
    "\n",
    "https://docs.tinyman.org/design-doc#bootstrap-process --> documentation to set the liquidity pool. Very useful if you want further details.\n",
    "\n",
    "https://app.tinyman.org/#/pool --> Tinyman app\n",
    "\n"
   ]
  },
  {
   "cell_type": "markdown",
   "metadata": {},
   "source": [
    "#### Or bootstrap pool manually"
   ]
  },
  {
   "cell_type": "code",
   "execution_count": null,
   "metadata": {
    "id": "0dWEg_u7MuCA"
   },
   "outputs": [],
   "source": [
    "# This is a function to bootstrap you pool directly from python. \n",
    "\n",
    "from os import name\n",
    "import algosdk\n",
    "from algosdk.future.transaction import ApplicationOptInTxn, PaymentTxn, AssetCreateTxn, AssetOptInTxn\n",
    "from algosdk.v2client.algod import AlgodClient\n",
    "\n",
    "from tinyman.utils import int_to_bytes, TransactionGroup\n",
    "\n",
    "\n",
    "\n",
    "def prepare_bootstrap_transactions(validator_app_id, asset1_id, asset2_id, asset1_unit_name, asset2_unit_name, sender, suggested_params):\n",
    "    pool_logicsig = get_pool_logicsig(validator_app_id, asset1_id, asset2_id)\n",
    "    pool_address = pool_logicsig.address()\n",
    "\n",
    "    assert(asset1_id > asset2_id)\n",
    "\n",
    "    if asset2_id == 0:\n",
    "        asset2_unit_name = 'ALGO'\n",
    "\n",
    "    txns = [\n",
    "        PaymentTxn(\n",
    "            sender=sender,\n",
    "            sp=suggested_params,\n",
    "            receiver=pool_address,\n",
    "            amt=961000 if asset2_id > 0 else 860000,     # TX fee\n",
    "            note='fee',\n",
    "        ),\n",
    "        ApplicationOptInTxn(\n",
    "            sender=pool_address,\n",
    "            sp=suggested_params,\n",
    "            index=validator_app_id,\n",
    "            app_args=['bootstrap', int_to_bytes(asset1_id), int_to_bytes(asset2_id)],\n",
    "            foreign_assets=[asset1_id] if asset2_id == 0 else [asset1_id, asset2_id],\n",
    "        ),\n",
    "        AssetCreateTxn(\n",
    "            sender=pool_address,\n",
    "            sp=suggested_params,\n",
    "            total=0xFFFFFFFFFFFFFFFF,\n",
    "            decimals=6,\n",
    "            unit_name='TMPOOL11',\n",
    "            asset_name=f'TinymanPool1.1 {asset1_unit_name}-{asset2_unit_name}',\n",
    "            url='https://tinyman.org',\n",
    "            default_frozen=False,\n",
    "        ),\n",
    "        AssetOptInTxn(\n",
    "            sender=pool_address,\n",
    "            sp=suggested_params,\n",
    "            index=asset1_id,\n",
    "        ),\n",
    "    ]\n",
    "    if asset2_id > 0:\n",
    "        txns += [\n",
    "            AssetOptInTxn(\n",
    "                sender=pool_address,\n",
    "                sp=suggested_params,\n",
    "                index=asset2_id,\n",
    "            )\n",
    "        ]\n",
    "    txn_group = TransactionGroup(txns)\n",
    "    txn_group.sign_with_logicisg(pool_logicsig)\n",
    "    return txn_group"
   ]
  },
  {
   "cell_type": "code",
   "execution_count": null,
   "metadata": {},
   "outputs": [],
   "source": [
    "# Step 1: prepare TX\n",
    "sp = algod_client.suggested_params()\n",
    "txgroup = prepare_bootstrap_transactions(62368684, \n",
    "                                         WSC_asset_id, 0, \n",
    "                                         \"TEMP\", \"ALGO\", MyAlgo['public'], sp)"
   ]
  },
  {
   "cell_type": "code",
   "execution_count": null,
   "metadata": {},
   "outputs": [],
   "source": [
    "txgroup.transactions"
   ]
  },
  {
   "cell_type": "code",
   "execution_count": null,
   "metadata": {},
   "outputs": [],
   "source": [
    "# Step 2: sign\n",
    "txgroup.sign_with_private_key(MyAlgo['public'], MyAlgo['private'])\n",
    "\n",
    "# Step 3: send\n",
    "txid = algod_client.send_transactions(txgroup.signed_transactions)\n",
    "\n",
    "# Step 4: wait for confirmation\n",
    "txinfo = wait_for_confirmation(algod_client, txid)"
   ]
  },
  {
   "cell_type": "markdown",
   "metadata": {},
   "source": [
    "### opt into pool"
   ]
  },
  {
   "cell_type": "code",
   "execution_count": null,
   "metadata": {},
   "outputs": [],
   "source": [
    "## not needed\n",
    "def prepare_app_optin_transactions(validator_app_id, sender, suggested_params):\n",
    "    txn = ApplicationOptInTxn(\n",
    "        sender=sender,\n",
    "        sp=suggested_params,\n",
    "        index=validator_app_id,\n",
    "    )\n",
    "    txn_group = TransactionGroup([txn])\n",
    "    return txn_group\n",
    "\n",
    "\n",
    "def prepare_asset_optin_transactions(asset_id, sender, suggested_params):\n",
    "    txn = AssetOptInTxn(\n",
    "        sender=sender,\n",
    "        sp=suggested_params,\n",
    "        index=asset_id,\n",
    "    )\n",
    "    txn_group = TransactionGroup([txn])\n",
    "    return txn_group"
   ]
  },
  {
   "cell_type": "code",
   "execution_count": null,
   "metadata": {},
   "outputs": [],
   "source": [
    "txgroup = pool.prepare_liquidity_asset_optin_transactions()\n",
    "txgroup.sign_with_private_key(MyAlgo['public'], MyAlgo['private'])\n",
    "txgroup_submitted = algod_client.send_transactions(txgroup.signed_transactions)\n",
    "print(txgroup_submitted)"
   ]
  },
  {
   "cell_type": "markdown",
   "metadata": {},
   "source": [
    "### Fund pool"
   ]
  },
  {
   "cell_type": "code",
   "execution_count": null,
   "metadata": {},
   "outputs": [],
   "source": [
    "TEMP = client.fetch_asset(WSC_asset_id)\n",
    "ALGO = client.fetch_asset(0)\n",
    "pool = client.fetch_pool(TEMP, ALGO)\n",
    "pool_id = pool.liquidity_asset.id\n",
    "amounts_in={}\n",
    "amt_1 = 20\n",
    "amt_2 = 1000"
   ]
  },
  {
   "cell_type": "code",
   "execution_count": null,
   "metadata": {
    "tags": []
   },
   "outputs": [],
   "source": [
    "from algosdk.future.transaction import ApplicationNoOpTxn, PaymentTxn, AssetTransferTxn\n",
    "\n",
    "def prepare_mint_transactions(validator_app_id, asset1_id, asset2_id, liquidity_asset_id, asset1_amount, asset2_amount, liquidity_asset_amount, sender, suggested_params):\n",
    "    pool_logicsig = get_pool_logicsig(validator_app_id, asset1_id, asset2_id)\n",
    "    pool_address = pool_logicsig.address()\n",
    "\n",
    "    txns = [\n",
    "        PaymentTxn(\n",
    "            sender=sender,\n",
    "            sp=suggested_params,\n",
    "            receiver=pool_address,\n",
    "            amt=2000,\n",
    "            note='fee',\n",
    "        ),\n",
    "        ApplicationNoOpTxn(\n",
    "            sender=pool_address,\n",
    "            sp=suggested_params,\n",
    "            index=validator_app_id,\n",
    "            app_args=['mint'],\n",
    "            accounts=[sender],\n",
    "            foreign_assets=[asset1_id, liquidity_asset_id] if asset2_id == 0 else [asset1_id, asset2_id, liquidity_asset_id],\n",
    "        ),\n",
    "        AssetTransferTxn(\n",
    "            sender=sender,\n",
    "            sp=suggested_params,\n",
    "            receiver=pool_address,\n",
    "            amt=int(asset1_amount),\n",
    "            index=asset1_id,\n",
    "        ),\n",
    "        AssetTransferTxn(\n",
    "            sender=sender,\n",
    "            sp=suggested_params,\n",
    "            receiver=pool_address,\n",
    "            amt=int(asset2_amount),\n",
    "            index=asset2_id,\n",
    "        ) if asset2_id != 0 else PaymentTxn(\n",
    "            sender=sender,\n",
    "            sp=suggested_params,\n",
    "            receiver=pool_address,\n",
    "            amt=int(asset2_amount),\n",
    "        ),\n",
    "        AssetTransferTxn(\n",
    "            sender=pool_address,\n",
    "            sp=suggested_params,\n",
    "            receiver=sender,\n",
    "            amt=int(liquidity_asset_amount),\n",
    "            index=liquidity_asset_id,\n",
    "        ),\n",
    "    ]\n",
    "    txn_group = TransactionGroup(txns)\n",
    "    txn_group.sign_with_logicisg(pool_logicsig)\n",
    "    return txn_group"
   ]
  },
  {
   "cell_type": "code",
   "execution_count": null,
   "metadata": {
    "tags": []
   },
   "outputs": [],
   "source": [
    "#prepare_mint_transactions(validator_app_id, asset1_id, asset2_id, liquidity_asset_id, asset1_amount, asset2_amount, liquidity_asset_amount, sender, suggested_params)\n",
    "params = algod_client.suggested_params()\n",
    "txgroup = prepare_mint_transactions(62368684, WSC_asset_id, 0, pool_id, amt_1, amt_2, 1, MyAlgo['public'],params)"
   ]
  },
  {
   "cell_type": "code",
   "execution_count": null,
   "metadata": {},
   "outputs": [],
   "source": [
    "txgroup.sign_with_private_key(MyAlgo['public'], MyAlgo['private'])"
   ]
  },
  {
   "cell_type": "code",
   "execution_count": null,
   "metadata": {},
   "outputs": [],
   "source": [
    "txgroup.signed_transactions"
   ]
  },
  {
   "cell_type": "code",
   "execution_count": null,
   "metadata": {},
   "outputs": [],
   "source": [
    "txgroup_submitted = algod_client.send_transactions(txgroup.signed_transactions)"
   ]
  },
  {
   "cell_type": "code",
   "execution_count": null,
   "metadata": {},
   "outputs": [],
   "source": [
    "quote = pool.fetch_mint_quote(TEMP(1),  slippage=0.01)"
   ]
  },
  {
   "cell_type": "code",
   "execution_count": null,
   "metadata": {},
   "outputs": [],
   "source": []
  },
  {
   "cell_type": "markdown",
   "metadata": {},
   "source": [
    "### Appendix: integration with MyAlgo\n",
    "\n",
    "1. Create a new account on MyAlgo https://wallet.myalgo.com/home.\n",
    "  Be sure to save the mnemonic, and switch from mainet to testnet, and fund the account https://bank.testnet.algorand.network/.\n",
    "\n",
    "2. On the top left there is MyAlgo logo, click on it and go on asset manager\n",
    "\n",
    "3. Now click on create asset and create your coin, you can avoid to put the metadata hash and the URL.\n",
    "\n",
    "4. Now you have created a coin, let's create a pool. We use Tinyman to create this, that works similar to Uniswap. [You need to use chrome] https://testnet.tinyman.org/#/swap?asset_in=0. We need to define some new terminology here:\n",
    "- Pools - liquidity pools holding 2 assets\n",
    "- Poolers - users who provide assets to the Pools\n",
    "- Swappers - users who trade/swap assets through Pools\n",
    "- Assets - Algorand Standard Assets (ASAs) and Algo\n",
    "- Liquidity Token - An ASA that represents a share of the value of a Pool"
   ]
  },
  {
   "cell_type": "markdown",
   "metadata": {},
   "source": [
    "### Appendix: Tinyman code\n",
    "\n",
    "The code is here on the blockchain: https://testnet.algoexplorer.io/application/21580889\n",
    "\n",
    "Here on Github: https://github.com/tinymanorg/tinyman-contracts-v1\n",
    "\n"
   ]
  },
  {
   "cell_type": "code",
   "execution_count": null,
   "metadata": {},
   "outputs": [],
   "source": []
  }
 ],
 "metadata": {
  "colab": {
   "collapsed_sections": [],
   "name": "Create and set up a Liquidity Pool",
   "provenance": []
  },
  "kernelspec": {
   "display_name": "Python 3",
   "language": "python",
   "name": "python3"
  },
  "language_info": {
   "codemirror_mode": {
    "name": "ipython",
    "version": 3
   },
   "file_extension": ".py",
   "mimetype": "text/x-python",
   "name": "python",
   "nbconvert_exporter": "python",
   "pygments_lexer": "ipython3",
   "version": "3.8.8"
  }
 },
 "nbformat": 4,
 "nbformat_minor": 4
}
