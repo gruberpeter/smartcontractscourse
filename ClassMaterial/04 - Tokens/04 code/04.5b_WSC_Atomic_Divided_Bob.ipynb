{
 "cells": [
  {
   "cell_type": "markdown",
   "id": "fcb34fe0",
   "metadata": {},
   "source": [
    "## *The Remote Atomic Swap - Bob's code\n",
    "#### 04.5 Winter School on Smart Contracts\n",
    "##### Peter Gruber (peter.gruber@usi.ch)\n",
    "2022-02-04\n",
    "\n",
    "* Sign transactions offline"
   ]
  },
  {
   "cell_type": "markdown",
   "id": "5a39b1b5",
   "metadata": {
    "tags": []
   },
   "source": [
    "### ❗️ Setup (note the differences)\n",
    "\n",
    "See notebook 04.1, the lines below will always automatically load functions in `algo_util.py`, the five accounts and the credentials"
   ]
  },
  {
   "cell_type": "code",
   "execution_count": 1,
   "id": "1f1e8f76",
   "metadata": {},
   "outputs": [],
   "source": [
    "# Loading shared code and credentials\n",
    "import sys, os\n",
    "codepath = '..'+os.path.sep+'..'+os.path.sep+'sharedCode'\n",
    "sys.path.append(codepath)\n",
    "from algo_util import *\n",
    "cred = load_credentials()\n",
    "\n",
    "# >> HERE Only Bob is needed\n",
    "Bob    = cred['Bob']"
   ]
  },
  {
   "cell_type": "code",
   "execution_count": 2,
   "id": "dcea8efc",
   "metadata": {},
   "outputs": [],
   "source": [
    "from algosdk.transaction import PaymentTxn\n",
    "import algosdk.error\n",
    "\n",
    "import json\n",
    "import base64"
   ]
  },
  {
   "cell_type": "markdown",
   "id": "9fc6e5cb",
   "metadata": {},
   "source": [
    "#### ❗️ No need for the algod_client\n",
    "* No direct communication with the blockchain!\n"
   ]
  },
  {
   "cell_type": "markdown",
   "id": "d0b1d139",
   "metadata": {},
   "source": [
    "#### Step 1: Load the unsigned transaction\n",
    "* Need to undictify it using `PaymentTxn.undictify()`"
   ]
  },
  {
   "cell_type": "code",
   "execution_count": 3,
   "id": "c96d5166",
   "metadata": {},
   "outputs": [],
   "source": [
    "import pickle\n",
    "file = open(\"Bob_txn.txt\", 'rb')\n",
    "txn_2_data = pickle.load(file)\n",
    "\n",
    "txn_2 = PaymentTxn.undictify(txn_2_data)"
   ]
  },
  {
   "cell_type": "markdown",
   "id": "c9d5260d",
   "metadata": {},
   "source": [
    "#### Step 2: Sign the transaction"
   ]
  },
  {
   "cell_type": "code",
   "execution_count": 4,
   "id": "2e67685d",
   "metadata": {},
   "outputs": [],
   "source": [
    "stxn_2 = txn_2.sign(Bob['private'])"
   ]
  },
  {
   "cell_type": "markdown",
   "id": "e658c709",
   "metadata": {},
   "source": [
    "#### Step 3: Save the signed transaction in a differnt file\n",
    "* This file will be sent back to Alice"
   ]
  },
  {
   "cell_type": "code",
   "execution_count": 5,
   "id": "fccf44d8",
   "metadata": {},
   "outputs": [],
   "source": [
    "stxn_2_data = stxn_2.dictify()\n",
    "file = open(\"Bob_signed.txt\", 'wb')  \n",
    "pickle.dump(stxn_2_data, file)\n",
    "file.close()"
   ]
  },
  {
   "cell_type": "markdown",
   "id": "fae5eadc",
   "metadata": {},
   "source": [
    "## Appendix\n",
    "* What are we actually sending to Alice?\n",
    "* Is it safe?"
   ]
  },
  {
   "cell_type": "code",
   "execution_count": 8,
   "id": "bd8395d5",
   "metadata": {},
   "outputs": [
    {
     "data": {
      "text/plain": [
       "OrderedDict([('sig',\n",
       "              b'Mn\\xd1h\\xa1\\xa0t{\\x83\\xc72\\xe1\\x7f\\x0b_~NG\\xc1\\x89\\xcb}\\xb8mO\\xc7\\x02\\xb1\\x1a\\x90\\xf9\\xb6A\\x1b\\x13%6lS\\x99FWm\\xa0\\x1e\\xa0t\\xe7D=t\\xb93\\xf4\\x85\\xd5\\x85\\x1b\\x1aFk\\xc6\\x13\\x0c'),\n",
       "             ('txn',\n",
       "              OrderedDict([('amt', 1000000),\n",
       "                           ('fee', 1000),\n",
       "                           ('fv', 39025514),\n",
       "                           ('gen', 'testnet-v1.0'),\n",
       "                           ('gh',\n",
       "                            b'Hc\\xb5\\x18\\xa4\\xb3\\xc8N\\xc8\\x10\\xf2-O\\x10\\x81\\xcb\\x0fq\\xf0Y\\xa7\\xac \\xde\\xc6/\\x7fp\\xe5\\t:\"'),\n",
       "                           ('grp',\n",
       "                            b'\\xd4/\\xe6\\xebS\\x99$\\x84J\\xdcfc\\x19\\x01\\xee\\x90:\\xcc\\x11\\xf5\\xf97\\x9e\\xbf/\\xc8P\\xd4~\\x1d\\xfd\\xba'),\n",
       "                           ('lv', 39026514),\n",
       "                           ('rcv',\n",
       "                            b'\\x02\\xd0\"]\\xc0\\xe44\\xe1\\xf4J\\x0e\\x1a>R\\xff\\xea\\xb708d\\x16\\xee*\\xb6\\x1b\\xa4X\\xaa3*\\xa3\\xa6'),\n",
       "                           ('snd',\n",
       "                            b'\\x0b\\x83\\xad\\xa40]\\xb6\\x04\\xc4\\x846\\xd4?\\xd1l\\x01\\xb0j\\xe7K\\xa9t\\xe6gW\\nQ\\x1fq\\xae\\xeb\\xf5'),\n",
       "                           ('type', 'pay')]))])"
      ]
     },
     "execution_count": 8,
     "metadata": {},
     "output_type": "execute_result"
    }
   ],
   "source": [
    "stxn_2_data"
   ]
  },
  {
   "cell_type": "code",
   "execution_count": 10,
   "id": "b415a5a2",
   "metadata": {},
   "outputs": [
    {
     "data": {
      "text/plain": [
       "b'TW7RaKGgdHuDxzLhfwtffk5HwYnLfbhtT8cCsRqQ+bZBGxMlNmxTmUZXbaAeoHTnRD10uTP0hdWFGxpGa8YTDA=='"
      ]
     },
     "execution_count": 10,
     "metadata": {},
     "output_type": "execute_result"
    }
   ],
   "source": [
    "# Compare the 'sig' field to Bob's private key\n",
    "base64.b64encode(stxn_2_data['sig'])\n",
    "# No ... we do not Bob's private key here!!!!"
   ]
  }
 ],
 "metadata": {
  "kernelspec": {
   "display_name": "Python 3 (ipykernel)",
   "language": "python",
   "name": "python3"
  },
  "language_info": {
   "codemirror_mode": {
    "name": "ipython",
    "version": 3
   },
   "file_extension": ".py",
   "mimetype": "text/x-python",
   "name": "python",
   "nbconvert_exporter": "python",
   "pygments_lexer": "ipython3",
   "version": "3.11.5"
  }
 },
 "nbformat": 4,
 "nbformat_minor": 5
}
