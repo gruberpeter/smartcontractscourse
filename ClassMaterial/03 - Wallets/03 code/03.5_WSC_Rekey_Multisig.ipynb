{
 "cells": [
  {
   "cell_type": "markdown",
   "metadata": {},
   "source": [
    "## Passing Authority: Multisig accounts and Rekeying\n",
    "#### 03.5 Writing Smart Contracts\n",
    "##### Peter Gruber (peter.gruber@usi.ch)\n",
    "2022-02-02\n",
    "\n",
    "- Create and use k-out-of-n multisignature accounts\n",
    "- Rekey an account"
   ]
  },
  {
   "cell_type": "markdown",
   "metadata": {
    "tags": []
   },
   "source": [
    "## Setup\n",
    "Starting with chapter 3.4, the lines below will always automatically load ...\n",
    "* The functions in `algo_util.py`\n",
    "* The accounts MyAlgo, Alice and Bob\n",
    "* The Purestake credentials"
   ]
  },
  {
   "cell_type": "code",
   "execution_count": 5,
   "metadata": {},
   "outputs": [],
   "source": [
    "# Loading shared code and credentials\n",
    "import sys, os\n",
    "codepath = '..'+os.path.sep+'..'+os.path.sep+'sharedCode'\n",
    "sys.path.append(codepath)\n",
    "from algo_util import *\n",
    "cred = load_credentials()\n",
    "\n",
    "# Shortcuts to directly access the main accounts\n",
    "MyAlgo  = cred['MyAlgo']\n",
    "Alice   = cred['Alice']\n",
    "Bob     = cred['Bob']\n",
    "Charlie = cred['Charlie']\n",
    "Dina    = cred['Dina']"
   ]
  },
  {
   "cell_type": "code",
   "execution_count": 6,
   "metadata": {},
   "outputs": [],
   "source": [
    "from algosdk import account, mnemonic\n",
    "from algosdk.v2client import algod\n",
    "from algosdk.future.transaction import PaymentTxn, MultisigTransaction\n",
    "from algosdk.future.transaction import AssetConfigTxn, AssetTransferTxn, AssetFreezeTxn\n",
    "import algosdk.error\n",
    "import json"
   ]
  },
  {
   "cell_type": "code",
   "execution_count": 7,
   "metadata": {},
   "outputs": [],
   "source": [
    "# Initialize the algod client (Testnet or Mainnet)\n",
    "algod_client = algod.AlgodClient(algod_token='', algod_address=cred['algod_test'], headers=cred['purestake_token'])"
   ]
  },
  {
   "cell_type": "code",
   "execution_count": 8,
   "metadata": {},
   "outputs": [
    {
     "name": "stdout",
     "output_type": "stream",
     "text": [
      "VL5UU2QXNKNEH7VISHZFU2ALXN5MOIDD3KXEYX2ADLCCIYN3MCOKRBATV4\n",
      "VK6CCXY4IFHIJAVMRVS543LJQEQKOJO6YQ4DZNV3D2XJI4ETYBN5354EQU\n",
      "CPUT3Z5CI3XOIZ4ARSGUFQD7V4YGYJW5BFAZMXX5YOV4KJCKI6MBCDY5XM\n",
      "BY5K2AYO7R3G66ICY6SJ2JFVLRMIX677EAEEKDBTJZGP6Q4JVNZRDXDBKA\n",
      "YXUPADIBAU7TOTY5MIOJIN6HDXS42SQCTMAPEUHU4GQCAKZQXJXXCQOJU4\n"
     ]
    }
   ],
   "source": [
    "print(MyAlgo['public'])\n",
    "print(Alice['public'])\n",
    "print(Bob['public'])\n",
    "print(Charlie['public'])\n",
    "print(Dina['public'])"
   ]
  },
  {
   "cell_type": "markdown",
   "metadata": {},
   "source": [
    "## Multisig account\n",
    "Alice, Bob and Charlie create a multisig account, \n",
    "with the requirement that at least 2 out of 3 have to sign."
   ]
  },
  {
   "cell_type": "markdown",
   "metadata": {},
   "source": [
    "#### Step 1: Create the Multisig account\n",
    "* Using the new command `Multisig`"
   ]
  },
  {
   "cell_type": "code",
   "execution_count": 9,
   "metadata": {},
   "outputs": [
    {
     "name": "stdout",
     "output_type": "stream",
     "text": [
      "Multisig Address:  R7ZBEZUKN63KMLZPE2O65VJ54MVKQNJG2VXBEUTPTXEQSZXX2FVP77R2BY\n",
      "https://testnet.algoexplorer.io/address/R7ZBEZUKN63KMLZPE2O65VJ54MVKQNJG2VXBEUTPTXEQSZXX2FVP77R2BY\n"
     ]
    }
   ],
   "source": [
    "from algosdk.future.transaction import Multisig\n",
    "\n",
    "# create a multisig account\n",
    "version   = 1     # multisig version, currently always 1\n",
    "threshold = 2     # min 2 signatures required\n",
    "\n",
    "account_list = [Alice['public'], Bob['public'], Charlie['public']]\n",
    "\n",
    "msig = Multisig(version, threshold, account_list)\n",
    "msig_address = msig.address()\n",
    "\n",
    "print(\"Multisig Address: \", msig_address)\n",
    "print('https://testnet.algoexplorer.io/address/'+msig_address)"
   ]
  },
  {
   "cell_type": "markdown",
   "metadata": {},
   "source": [
    "#### Step 2: Fund the multisig account\n",
    "* Can be funded via PaymentTxn\n",
    "* Here we fund from a dispenser"
   ]
  },
  {
   "cell_type": "code",
   "execution_count": 12,
   "metadata": {},
   "outputs": [
    {
     "name": "stdout",
     "output_type": "stream",
     "text": [
      "https://dispenser.testnet.aws.algodev.network/?account=R7ZBEZUKN63KMLZPE2O65VJ54MVKQNJG2VXBEUTPTXEQSZXX2FVP77R2BY\n"
     ]
    }
   ],
   "source": [
    "print('https://dispenser.testnet.aws.algodev.network/?account='+msig_address)"
   ]
  },
  {
   "cell_type": "markdown",
   "metadata": {
    "tags": []
   },
   "source": [
    "#### Step 3.1: Create a simple payment transaction\n",
    "* Together, they want to send 1.2 ALGOs to Dina"
   ]
  },
  {
   "cell_type": "code",
   "execution_count": 14,
   "metadata": {},
   "outputs": [],
   "source": [
    "sp = algod_client.suggested_params()\n",
    "amt = int(1.2*1E6)\n",
    "\n",
    "txn = PaymentTxn(sender=msig_address,         # <-- From Multisig address\n",
    "                 sp=sp, \n",
    "                 receiver=Dina['public'], \n",
    "                 amt = amt\n",
    "                )"
   ]
  },
  {
   "cell_type": "markdown",
   "metadata": {},
   "source": [
    "#### Step 3.2: Convert to a multisig object and sign it\n",
    "* Alice and Bob sign the transaction"
   ]
  },
  {
   "cell_type": "code",
   "execution_count": 15,
   "metadata": {},
   "outputs": [],
   "source": [
    "# Create multisig object\n",
    "mtx = MultisigTransaction(txn, msig)\n",
    "\n",
    "# Collect at least 2 signatures\n",
    "mtx.sign(Alice['private'])\n",
    "mtx.sign(Bob['private'])"
   ]
  },
  {
   "cell_type": "markdown",
   "metadata": {},
   "source": [
    "#### Step 3.3: Send the transaction"
   ]
  },
  {
   "cell_type": "code",
   "execution_count": 16,
   "metadata": {},
   "outputs": [
    {
     "name": "stdout",
     "output_type": "stream",
     "text": [
      "Send transaction with txID: OUGUQW2MD5RIOETJMJRIWKD6JT3HBUAGWCPVDTNWRESRJZXTXUOQ\n"
     ]
    }
   ],
   "source": [
    "txid = algod_client.send_transaction(mtx)\n",
    "print(\"Send transaction with txID: {}\".format(txid))"
   ]
  },
  {
   "cell_type": "markdown",
   "metadata": {},
   "source": [
    "#### Step 3.4: Wait for confirmation"
   ]
  },
  {
   "cell_type": "code",
   "execution_count": 17,
   "metadata": {},
   "outputs": [
    {
     "name": "stdout",
     "output_type": "stream",
     "text": [
      "Current round is  26067264.\n",
      "Waiting for round 26067264 to finish.\n",
      "Waiting for round 26067265 to finish.\n",
      "Transaction OUGUQW2MD5RIOETJMJRIWKD6JT3HBUAGWCPVDTNWRESRJZXTXUOQ confirmed in round 26067266.\n"
     ]
    }
   ],
   "source": [
    "txinfo = wait_for_confirmation(algod_client, txid)"
   ]
  },
  {
   "cell_type": "markdown",
   "metadata": {},
   "source": [
    "#### Check Dina's holdings"
   ]
  },
  {
   "cell_type": "code",
   "execution_count": 18,
   "metadata": {},
   "outputs": [
    {
     "name": "stdout",
     "output_type": "stream",
     "text": [
      "https://testnet.algoexplorer.io/address/YXUPADIBAU7TOTY5MIOJIN6HDXS42SQCTMAPEUHU4GQCAKZQXJXXCQOJU4\n"
     ]
    }
   ],
   "source": [
    "print('https://testnet.algoexplorer.io/address/'+Dina['public'])"
   ]
  },
  {
   "cell_type": "markdown",
   "metadata": {},
   "source": [
    "#### Exercise\n",
    "* Repeat steps 3.1-3.4 with Alice and Charlie signing the transaction\n",
    "* Repeat steps 3.1-3.4 with Alice, Bob and Charlie signing \n",
    "* Repeat steps 3.1-3.4 with only Alice signing"
   ]
  },
  {
   "cell_type": "markdown",
   "metadata": {},
   "source": [
    "## Rekeying\n",
    "Case 1\n",
    "* Imagine your private key has been compromised\n",
    "* You have lots of assets and maybe ongoing smart contracts with this address\n",
    "* So you want to \"change the password\"\n",
    "\n",
    "Case 2\n",
    "* Bob is very busy and wants Charlie to sign for him"
   ]
  },
  {
   "cell_type": "markdown",
   "metadata": {},
   "source": [
    "#### Bob rekeys to Charlie\n",
    "Rekeying is done via a simple payment transaction of 0 ALGOs, that has an additional rekey entry"
   ]
  },
  {
   "cell_type": "code",
   "execution_count": 19,
   "metadata": {},
   "outputs": [],
   "source": [
    "# Step 1: prepare special transaction\n",
    "sp = algod_client.suggested_params()\n",
    "amt = 0                                          # <-- Send zero ALGOs\n",
    "\n",
    "txn = PaymentTxn(sender = Bob['public'],         # <-- Bob wants to rekey\n",
    "                 sp = sp, \n",
    "                 receiver = Bob['public'],       # <-- Bob wants to rekey\n",
    "                 amt = amt,\n",
    "                 rekey_to = Charlie['public']    # <-- Charlie should be able to sign for Bob\n",
    "                )"
   ]
  },
  {
   "cell_type": "code",
   "execution_count": 20,
   "metadata": {},
   "outputs": [],
   "source": [
    "# Steps 2+3: sign and send\n",
    "stxn = txn.sign(Bob['private'])                 # <-- Bob signs one last time\n",
    "txid = algod_client.send_transaction(stxn)"
   ]
  },
  {
   "cell_type": "code",
   "execution_count": 21,
   "metadata": {},
   "outputs": [
    {
     "name": "stdout",
     "output_type": "stream",
     "text": [
      "Current round is  26067297.\n",
      "Waiting for round 26067297 to finish.\n",
      "Waiting for round 26067298 to finish.\n",
      "Transaction SAZA3VDUIVD7KSUZMXOQDA2A37NEBKEMU77SDOX5GS3HMJNZPJKQ confirmed in round 26067299.\n"
     ]
    }
   ],
   "source": [
    "# Step 4: Wait for confirmation\n",
    "txinfo = wait_for_confirmation(algod_client, txid)"
   ]
  },
  {
   "cell_type": "markdown",
   "metadata": {},
   "source": [
    "#### Charlie signs for Bob\n",
    "* Charlie makes a payment of 1.4 ALGO to Alice out of Bob's account"
   ]
  },
  {
   "cell_type": "code",
   "execution_count": 22,
   "metadata": {},
   "outputs": [
    {
     "name": "stdout",
     "output_type": "stream",
     "text": [
      "Current round is  26067300.\n",
      "Waiting for round 26067300 to finish.\n",
      "Waiting for round 26067301 to finish.\n",
      "Transaction IPVNCU7LDML2LA2LRTHWPRUXUBTACOWDTZF5IHJE25ZSJLQTBQ5Q confirmed in round 26067302.\n"
     ]
    }
   ],
   "source": [
    "# Step 1: prepare transaction\n",
    "sp = algod_client.suggested_params()\n",
    "amt = int(1.4*1E6)                                \n",
    "\n",
    "txn = PaymentTxn(sender = Bob['public'],           # <-- From Bob\n",
    "                 sp = sp, \n",
    "                 receiver = Alice['public'],       # <-- To Alice \n",
    "                 amt = amt\n",
    "                 )\n",
    "\n",
    "# Steps 2+3: sign and send\n",
    "stxn = txn.sign(Charlie['private'])                # <-- Charlie now signs for Bob\n",
    "txid = algod_client.send_transaction(stxn)\n",
    "\n",
    "# Step 4: Wait for confirmation\n",
    "txinfo = wait_for_confirmation(algod_client, txid)"
   ]
  },
  {
   "cell_type": "markdown",
   "metadata": {},
   "source": [
    "#### Bob cannot sign for himself\n",
    "* Bob wants to make a payment of 1.7 ALGO to Dina"
   ]
  },
  {
   "cell_type": "code",
   "execution_count": 23,
   "metadata": {},
   "outputs": [
    {
     "ename": "AlgodHTTPError",
     "evalue": "TransactionPool.Remember: transaction DPGMZ3RVCX5EY5X2F3IT2P6LLUXLISX63HMFJ3YBN6SNP3H5OLVQ: should have been authorized by BY5K2AYO7R3G66ICY6SJ2JFVLRMIX677EAEEKDBTJZGP6Q4JVNZRDXDBKA but was actually authorized by CPUT3Z5CI3XOIZ4ARSGUFQD7V4YGYJW5BFAZMXX5YOV4KJCKI6MBCDY5XM",
     "output_type": "error",
     "traceback": [
      "\u001b[0;31m---------------------------------------------------------------------------\u001b[0m",
      "\u001b[0;31mHTTPError\u001b[0m                                 Traceback (most recent call last)",
      "\u001b[0;32m/opt/anaconda3/lib/python3.7/site-packages/algosdk/v2client/algod.py\u001b[0m in \u001b[0;36malgod_request\u001b[0;34m(self, method, requrl, params, data, headers, response_format)\u001b[0m\n\u001b[1;32m     81\u001b[0m         \u001b[0;32mtry\u001b[0m\u001b[0;34m:\u001b[0m\u001b[0;34m\u001b[0m\u001b[0;34m\u001b[0m\u001b[0m\n\u001b[0;32m---> 82\u001b[0;31m             \u001b[0mresp\u001b[0m \u001b[0;34m=\u001b[0m \u001b[0murlopen\u001b[0m\u001b[0;34m(\u001b[0m\u001b[0mreq\u001b[0m\u001b[0;34m)\u001b[0m\u001b[0;34m\u001b[0m\u001b[0;34m\u001b[0m\u001b[0m\n\u001b[0m\u001b[1;32m     83\u001b[0m         \u001b[0;32mexcept\u001b[0m \u001b[0murllib\u001b[0m\u001b[0;34m.\u001b[0m\u001b[0merror\u001b[0m\u001b[0;34m.\u001b[0m\u001b[0mHTTPError\u001b[0m \u001b[0;32mas\u001b[0m \u001b[0me\u001b[0m\u001b[0;34m:\u001b[0m\u001b[0;34m\u001b[0m\u001b[0;34m\u001b[0m\u001b[0m\n",
      "\u001b[0;32m/opt/anaconda3/lib/python3.7/urllib/request.py\u001b[0m in \u001b[0;36murlopen\u001b[0;34m(url, data, timeout, cafile, capath, cadefault, context)\u001b[0m\n\u001b[1;32m    221\u001b[0m         \u001b[0mopener\u001b[0m \u001b[0;34m=\u001b[0m \u001b[0m_opener\u001b[0m\u001b[0;34m\u001b[0m\u001b[0;34m\u001b[0m\u001b[0m\n\u001b[0;32m--> 222\u001b[0;31m     \u001b[0;32mreturn\u001b[0m \u001b[0mopener\u001b[0m\u001b[0;34m.\u001b[0m\u001b[0mopen\u001b[0m\u001b[0;34m(\u001b[0m\u001b[0murl\u001b[0m\u001b[0;34m,\u001b[0m \u001b[0mdata\u001b[0m\u001b[0;34m,\u001b[0m \u001b[0mtimeout\u001b[0m\u001b[0;34m)\u001b[0m\u001b[0;34m\u001b[0m\u001b[0;34m\u001b[0m\u001b[0m\n\u001b[0m\u001b[1;32m    223\u001b[0m \u001b[0;34m\u001b[0m\u001b[0m\n",
      "\u001b[0;32m/opt/anaconda3/lib/python3.7/urllib/request.py\u001b[0m in \u001b[0;36mopen\u001b[0;34m(self, fullurl, data, timeout)\u001b[0m\n\u001b[1;32m    530\u001b[0m             \u001b[0mmeth\u001b[0m \u001b[0;34m=\u001b[0m \u001b[0mgetattr\u001b[0m\u001b[0;34m(\u001b[0m\u001b[0mprocessor\u001b[0m\u001b[0;34m,\u001b[0m \u001b[0mmeth_name\u001b[0m\u001b[0;34m)\u001b[0m\u001b[0;34m\u001b[0m\u001b[0;34m\u001b[0m\u001b[0m\n\u001b[0;32m--> 531\u001b[0;31m             \u001b[0mresponse\u001b[0m \u001b[0;34m=\u001b[0m \u001b[0mmeth\u001b[0m\u001b[0;34m(\u001b[0m\u001b[0mreq\u001b[0m\u001b[0;34m,\u001b[0m \u001b[0mresponse\u001b[0m\u001b[0;34m)\u001b[0m\u001b[0;34m\u001b[0m\u001b[0;34m\u001b[0m\u001b[0m\n\u001b[0m\u001b[1;32m    532\u001b[0m \u001b[0;34m\u001b[0m\u001b[0m\n",
      "\u001b[0;32m/opt/anaconda3/lib/python3.7/urllib/request.py\u001b[0m in \u001b[0;36mhttp_response\u001b[0;34m(self, request, response)\u001b[0m\n\u001b[1;32m    640\u001b[0m             response = self.parent.error(\n\u001b[0;32m--> 641\u001b[0;31m                 'http', request, response, code, msg, hdrs)\n\u001b[0m\u001b[1;32m    642\u001b[0m \u001b[0;34m\u001b[0m\u001b[0m\n",
      "\u001b[0;32m/opt/anaconda3/lib/python3.7/urllib/request.py\u001b[0m in \u001b[0;36merror\u001b[0;34m(self, proto, *args)\u001b[0m\n\u001b[1;32m    568\u001b[0m             \u001b[0margs\u001b[0m \u001b[0;34m=\u001b[0m \u001b[0;34m(\u001b[0m\u001b[0mdict\u001b[0m\u001b[0;34m,\u001b[0m \u001b[0;34m'default'\u001b[0m\u001b[0;34m,\u001b[0m \u001b[0;34m'http_error_default'\u001b[0m\u001b[0;34m)\u001b[0m \u001b[0;34m+\u001b[0m \u001b[0morig_args\u001b[0m\u001b[0;34m\u001b[0m\u001b[0;34m\u001b[0m\u001b[0m\n\u001b[0;32m--> 569\u001b[0;31m             \u001b[0;32mreturn\u001b[0m \u001b[0mself\u001b[0m\u001b[0;34m.\u001b[0m\u001b[0m_call_chain\u001b[0m\u001b[0;34m(\u001b[0m\u001b[0;34m*\u001b[0m\u001b[0margs\u001b[0m\u001b[0;34m)\u001b[0m\u001b[0;34m\u001b[0m\u001b[0;34m\u001b[0m\u001b[0m\n\u001b[0m\u001b[1;32m    570\u001b[0m \u001b[0;34m\u001b[0m\u001b[0m\n",
      "\u001b[0;32m/opt/anaconda3/lib/python3.7/urllib/request.py\u001b[0m in \u001b[0;36m_call_chain\u001b[0;34m(self, chain, kind, meth_name, *args)\u001b[0m\n\u001b[1;32m    502\u001b[0m             \u001b[0mfunc\u001b[0m \u001b[0;34m=\u001b[0m \u001b[0mgetattr\u001b[0m\u001b[0;34m(\u001b[0m\u001b[0mhandler\u001b[0m\u001b[0;34m,\u001b[0m \u001b[0mmeth_name\u001b[0m\u001b[0;34m)\u001b[0m\u001b[0;34m\u001b[0m\u001b[0;34m\u001b[0m\u001b[0m\n\u001b[0;32m--> 503\u001b[0;31m             \u001b[0mresult\u001b[0m \u001b[0;34m=\u001b[0m \u001b[0mfunc\u001b[0m\u001b[0;34m(\u001b[0m\u001b[0;34m*\u001b[0m\u001b[0margs\u001b[0m\u001b[0;34m)\u001b[0m\u001b[0;34m\u001b[0m\u001b[0;34m\u001b[0m\u001b[0m\n\u001b[0m\u001b[1;32m    504\u001b[0m             \u001b[0;32mif\u001b[0m \u001b[0mresult\u001b[0m \u001b[0;32mis\u001b[0m \u001b[0;32mnot\u001b[0m \u001b[0;32mNone\u001b[0m\u001b[0;34m:\u001b[0m\u001b[0;34m\u001b[0m\u001b[0;34m\u001b[0m\u001b[0m\n",
      "\u001b[0;32m/opt/anaconda3/lib/python3.7/urllib/request.py\u001b[0m in \u001b[0;36mhttp_error_default\u001b[0;34m(self, req, fp, code, msg, hdrs)\u001b[0m\n\u001b[1;32m    648\u001b[0m     \u001b[0;32mdef\u001b[0m \u001b[0mhttp_error_default\u001b[0m\u001b[0;34m(\u001b[0m\u001b[0mself\u001b[0m\u001b[0;34m,\u001b[0m \u001b[0mreq\u001b[0m\u001b[0;34m,\u001b[0m \u001b[0mfp\u001b[0m\u001b[0;34m,\u001b[0m \u001b[0mcode\u001b[0m\u001b[0;34m,\u001b[0m \u001b[0mmsg\u001b[0m\u001b[0;34m,\u001b[0m \u001b[0mhdrs\u001b[0m\u001b[0;34m)\u001b[0m\u001b[0;34m:\u001b[0m\u001b[0;34m\u001b[0m\u001b[0;34m\u001b[0m\u001b[0m\n\u001b[0;32m--> 649\u001b[0;31m         \u001b[0;32mraise\u001b[0m \u001b[0mHTTPError\u001b[0m\u001b[0;34m(\u001b[0m\u001b[0mreq\u001b[0m\u001b[0;34m.\u001b[0m\u001b[0mfull_url\u001b[0m\u001b[0;34m,\u001b[0m \u001b[0mcode\u001b[0m\u001b[0;34m,\u001b[0m \u001b[0mmsg\u001b[0m\u001b[0;34m,\u001b[0m \u001b[0mhdrs\u001b[0m\u001b[0;34m,\u001b[0m \u001b[0mfp\u001b[0m\u001b[0;34m)\u001b[0m\u001b[0;34m\u001b[0m\u001b[0;34m\u001b[0m\u001b[0m\n\u001b[0m\u001b[1;32m    650\u001b[0m \u001b[0;34m\u001b[0m\u001b[0m\n",
      "\u001b[0;31mHTTPError\u001b[0m: HTTP Error 400: Bad Request",
      "\nDuring handling of the above exception, another exception occurred:\n",
      "\u001b[0;31mAlgodHTTPError\u001b[0m                            Traceback (most recent call last)",
      "\u001b[0;32m<ipython-input-23-20b8725d63a3>\u001b[0m in \u001b[0;36m<module>\u001b[0;34m\u001b[0m\n\u001b[1;32m     12\u001b[0m \u001b[0;31m# Steps 2+3: sign and send\u001b[0m\u001b[0;34m\u001b[0m\u001b[0;34m\u001b[0m\u001b[0;34m\u001b[0m\u001b[0m\n\u001b[1;32m     13\u001b[0m \u001b[0mstxn\u001b[0m \u001b[0;34m=\u001b[0m \u001b[0mtxn\u001b[0m\u001b[0;34m.\u001b[0m\u001b[0msign\u001b[0m\u001b[0;34m(\u001b[0m\u001b[0mBob\u001b[0m\u001b[0;34m[\u001b[0m\u001b[0;34m'private'\u001b[0m\u001b[0;34m]\u001b[0m\u001b[0;34m)\u001b[0m                 \u001b[0;31m# <-- Bob tries to sign\u001b[0m\u001b[0;34m\u001b[0m\u001b[0;34m\u001b[0m\u001b[0m\n\u001b[0;32m---> 14\u001b[0;31m \u001b[0mtxid\u001b[0m \u001b[0;34m=\u001b[0m \u001b[0malgod_client\u001b[0m\u001b[0;34m.\u001b[0m\u001b[0msend_transaction\u001b[0m\u001b[0;34m(\u001b[0m\u001b[0mstxn\u001b[0m\u001b[0;34m)\u001b[0m\u001b[0;34m\u001b[0m\u001b[0;34m\u001b[0m\u001b[0m\n\u001b[0m\u001b[1;32m     15\u001b[0m \u001b[0;34m\u001b[0m\u001b[0m\n\u001b[1;32m     16\u001b[0m \u001b[0;31m# Step 4: Wait for confirmation\u001b[0m\u001b[0;34m\u001b[0m\u001b[0;34m\u001b[0m\u001b[0;34m\u001b[0m\u001b[0m\n",
      "\u001b[0;32m/opt/anaconda3/lib/python3.7/site-packages/algosdk/v2client/algod.py\u001b[0m in \u001b[0;36msend_transaction\u001b[0;34m(self, txn, **kwargs)\u001b[0m\n\u001b[1;32m    213\u001b[0m         ), \"Attempt to send UNSIGNED transaction {}\".format(txn)\n\u001b[1;32m    214\u001b[0m         return self.send_raw_transaction(\n\u001b[0;32m--> 215\u001b[0;31m             \u001b[0mencoding\u001b[0m\u001b[0;34m.\u001b[0m\u001b[0mmsgpack_encode\u001b[0m\u001b[0;34m(\u001b[0m\u001b[0mtxn\u001b[0m\u001b[0;34m)\u001b[0m\u001b[0;34m,\u001b[0m \u001b[0;34m**\u001b[0m\u001b[0mkwargs\u001b[0m\u001b[0;34m\u001b[0m\u001b[0;34m\u001b[0m\u001b[0m\n\u001b[0m\u001b[1;32m    216\u001b[0m         )\n\u001b[1;32m    217\u001b[0m \u001b[0;34m\u001b[0m\u001b[0m\n",
      "\u001b[0;32m/opt/anaconda3/lib/python3.7/site-packages/algosdk/v2client/algod.py\u001b[0m in \u001b[0;36msend_raw_transaction\u001b[0;34m(self, txn, **kwargs)\u001b[0m\n\u001b[1;32m    235\u001b[0m         \u001b[0mkwargs\u001b[0m\u001b[0;34m[\u001b[0m\u001b[0;34m\"headers\"\u001b[0m\u001b[0;34m]\u001b[0m \u001b[0;34m=\u001b[0m \u001b[0mheaders\u001b[0m\u001b[0;34m\u001b[0m\u001b[0;34m\u001b[0m\u001b[0m\n\u001b[1;32m    236\u001b[0m \u001b[0;34m\u001b[0m\u001b[0m\n\u001b[0;32m--> 237\u001b[0;31m         \u001b[0;32mreturn\u001b[0m \u001b[0mself\u001b[0m\u001b[0;34m.\u001b[0m\u001b[0malgod_request\u001b[0m\u001b[0;34m(\u001b[0m\u001b[0;34m\"POST\"\u001b[0m\u001b[0;34m,\u001b[0m \u001b[0mreq\u001b[0m\u001b[0;34m,\u001b[0m \u001b[0mdata\u001b[0m\u001b[0;34m=\u001b[0m\u001b[0mtxn\u001b[0m\u001b[0;34m,\u001b[0m \u001b[0;34m**\u001b[0m\u001b[0mkwargs\u001b[0m\u001b[0;34m)\u001b[0m\u001b[0;34m[\u001b[0m\u001b[0;34m\"txId\"\u001b[0m\u001b[0;34m]\u001b[0m\u001b[0;34m\u001b[0m\u001b[0;34m\u001b[0m\u001b[0m\n\u001b[0m\u001b[1;32m    238\u001b[0m \u001b[0;34m\u001b[0m\u001b[0m\n\u001b[1;32m    239\u001b[0m     def pending_transactions(\n",
      "\u001b[0;32m/opt/anaconda3/lib/python3.7/site-packages/algosdk/v2client/algod.py\u001b[0m in \u001b[0;36malgod_request\u001b[0;34m(self, method, requrl, params, data, headers, response_format)\u001b[0m\n\u001b[1;32m     87\u001b[0m                 \u001b[0me\u001b[0m \u001b[0;34m=\u001b[0m \u001b[0mjson\u001b[0m\u001b[0;34m.\u001b[0m\u001b[0mloads\u001b[0m\u001b[0;34m(\u001b[0m\u001b[0me\u001b[0m\u001b[0;34m)\u001b[0m\u001b[0;34m[\u001b[0m\u001b[0;34m\"message\"\u001b[0m\u001b[0;34m]\u001b[0m\u001b[0;34m\u001b[0m\u001b[0;34m\u001b[0m\u001b[0m\n\u001b[1;32m     88\u001b[0m             \u001b[0;32mfinally\u001b[0m\u001b[0;34m:\u001b[0m\u001b[0;34m\u001b[0m\u001b[0;34m\u001b[0m\u001b[0m\n\u001b[0;32m---> 89\u001b[0;31m                 \u001b[0;32mraise\u001b[0m \u001b[0merror\u001b[0m\u001b[0;34m.\u001b[0m\u001b[0mAlgodHTTPError\u001b[0m\u001b[0;34m(\u001b[0m\u001b[0me\u001b[0m\u001b[0;34m,\u001b[0m \u001b[0mcode\u001b[0m\u001b[0;34m)\u001b[0m\u001b[0;34m\u001b[0m\u001b[0;34m\u001b[0m\u001b[0m\n\u001b[0m\u001b[1;32m     90\u001b[0m         \u001b[0;32mif\u001b[0m \u001b[0mresponse_format\u001b[0m \u001b[0;34m==\u001b[0m \u001b[0;34m\"json\"\u001b[0m\u001b[0;34m:\u001b[0m\u001b[0;34m\u001b[0m\u001b[0;34m\u001b[0m\u001b[0m\n\u001b[1;32m     91\u001b[0m             \u001b[0;32mtry\u001b[0m\u001b[0;34m:\u001b[0m\u001b[0;34m\u001b[0m\u001b[0;34m\u001b[0m\u001b[0m\n",
      "\u001b[0;31mAlgodHTTPError\u001b[0m: TransactionPool.Remember: transaction DPGMZ3RVCX5EY5X2F3IT2P6LLUXLISX63HMFJ3YBN6SNP3H5OLVQ: should have been authorized by BY5K2AYO7R3G66ICY6SJ2JFVLRMIX677EAEEKDBTJZGP6Q4JVNZRDXDBKA but was actually authorized by CPUT3Z5CI3XOIZ4ARSGUFQD7V4YGYJW5BFAZMXX5YOV4KJCKI6MBCDY5XM"
     ]
    }
   ],
   "source": [
    "# Step 1: prepare special transaction\n",
    "\n",
    "sp = algod_client.suggested_params()\n",
    "amt = int(1.7*1E6)                                \n",
    "\n",
    "txn = PaymentTxn(sender = Bob['public'],         # <-- From Bob\n",
    "                 sp = sp, \n",
    "                 receiver = Bob['public'],       # <-- To Dina \n",
    "                 amt = amt\n",
    "                )\n",
    "\n",
    "# Steps 2+3: sign and send\n",
    "stxn = txn.sign(Bob['private'])                 # <-- Bob tries to sign\n",
    "txid = algod_client.send_transaction(stxn)\n",
    "\n",
    "# Step 4: Wait for confirmation\n",
    "txinfo = wait_for_confirmation(algod_client, txid)"
   ]
  },
  {
   "cell_type": "markdown",
   "metadata": {},
   "source": [
    "#### Charlie rekeys back to Bob\n",
    "* Charlie rekeys the Bob account back to Bob\n",
    "* Important step for the rest of the course"
   ]
  },
  {
   "cell_type": "code",
   "execution_count": 24,
   "metadata": {},
   "outputs": [],
   "source": [
    "# Step 1: prepare special transaction\n",
    "sp = algod_client.suggested_params()\n",
    "amt = 0                                          # <-- Rekeying = send 0 ALGOs\n",
    "\n",
    "txn = PaymentTxn(sender = Bob['public'],         # <-- The address which is rekeyed\n",
    "                 sp = sp, \n",
    "                 receiver = Bob['public'],       # <-- The address which is rekeyed \n",
    "                 amt = amt,\n",
    "                 rekey_to = Bob['public']        # <-- Bob should (again) be able to sign for himself\n",
    "                )"
   ]
  },
  {
   "cell_type": "code",
   "execution_count": 25,
   "metadata": {},
   "outputs": [],
   "source": [
    "# Steps 2+3: sign and send\n",
    "stxn = txn.sign(Charlie['private'])              # <-- Charlie signs the rekeying\n",
    "txid = algod_client.send_transaction(stxn)"
   ]
  },
  {
   "cell_type": "code",
   "execution_count": 26,
   "metadata": {},
   "outputs": [
    {
     "name": "stdout",
     "output_type": "stream",
     "text": [
      "Current round is  26067308.\n",
      "Waiting for round 26067308 to finish.\n",
      "Waiting for round 26067309 to finish.\n",
      "Waiting for round 26067310 to finish.\n",
      "Transaction G3UONIAEXD5PZMX7LK7EZAR64O7OHANZ57QLJKCP6LQXDIMS7IQA confirmed in round 26067311.\n"
     ]
    }
   ],
   "source": [
    "# Step 4: Wait for confirmation\n",
    "txinfo = wait_for_confirmation(algod_client, txid)"
   ]
  },
  {
   "cell_type": "markdown",
   "metadata": {},
   "source": [
    "#### Exercise\n",
    "* To test the rekeying, run the payment transactions above again\n",
    "    * Charlie cannot sign for Bob anymore\n",
    "    * Bob can sign again for himself"
   ]
  },
  {
   "cell_type": "markdown",
   "metadata": {},
   "source": [
    "## Things that can and will go wrong\n",
    "* Be sure if you trust the new signature holder\n",
    "* Rekeying can be easily slipped into a payment transaction\n",
    "* Wrong address or typo in rekey means you loose all your money\n",
    "    * The protocol does not check whether you or someone has actually access to the rekey address"
   ]
  }
 ],
 "metadata": {
  "kernelspec": {
   "display_name": "Python 3",
   "language": "python",
   "name": "python3"
  },
  "language_info": {
   "codemirror_mode": {
    "name": "ipython",
    "version": 3
   },
   "file_extension": ".py",
   "mimetype": "text/x-python",
   "name": "python",
   "nbconvert_exporter": "python",
   "pygments_lexer": "ipython3",
   "version": "3.7.6"
  }
 },
 "nbformat": 4,
 "nbformat_minor": 4
}
