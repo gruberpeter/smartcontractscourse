{
 "cells": [
  {
   "cell_type": "markdown",
   "metadata": {},
   "source": [
    "## Transactions\n",
    "#### 03.4 Writing Smart Contracts\n",
    "##### Peter Gruber (peter.gruber@usi.ch)\n",
    "2024-02-14 (started 2021-12-19)\n",
    "\n",
    "- Load credentials\n",
    "- Connect to the blockchain\n",
    "- Execute a first payment transaction using Python\n",
    "- Add a note to the payment"
   ]
  },
  {
   "cell_type": "markdown",
   "metadata": {
    "tags": []
   },
   "source": [
    "## Setup\n",
    "Starting with this chapter 3.4, the lines below will always automatically load ...\n",
    "* The accounts MyAlgo, Alice, Bob, Charlie, Dina\n",
    "* The API credentials\n",
    "* The functions in `algo_util.py`\n",
    "    * These functions can be found in the folder `sharedCode` which is two levels up"
   ]
  },
  {
   "cell_type": "code",
   "execution_count": 1,
   "metadata": {},
   "outputs": [],
   "source": [
    "# Loading shared code and credentials\n",
    "import sys, os\n",
    "codepath = '..'+os.path.sep+'..'+os.path.sep+'sharedCode'\n",
    "sys.path.append(codepath)\n",
    "from algo_util import *\n",
    "cred = load_credentials()\n",
    "\n",
    "# Shortcuts to directly access the main accounts\n",
    "MyAlgo  = cred['MyAlgo']\n",
    "Alice   = cred['Alice']\n",
    "Bob     = cred['Bob']\n",
    "Charlie = cred['Charlie']\n",
    "Dina    = cred['Dina']"
   ]
  },
  {
   "cell_type": "code",
   "execution_count": 2,
   "metadata": {},
   "outputs": [],
   "source": [
    "from algosdk import account, mnemonic\n",
    "from algosdk.v2client import algod\n",
    "from algosdk.transaction import PaymentTxn\n",
    "import algosdk.error\n",
    "import json"
   ]
  },
  {
   "cell_type": "code",
   "execution_count": 3,
   "metadata": {},
   "outputs": [
    {
     "name": "stdout",
     "output_type": "stream",
     "text": [
      "WSC24MVUSQ32IZYD7FNN54Z44IXWL4X7BOJD6AGFOCHOG4PDFESLZUGLTI\n",
      "ALICEXOA4Q2OD5CKBYND4UX75K3TAODEC3XCVNQ3URMKUMZKUOTOSAQLIU\n",
      "BOB23JBQLW3AJREEG3KD7ULMAGYGVZ2LVF2OMZ2XBJIR64NO5P24XN7WEU\n",
      "CHARLS5INIT5KOLDK3F2QAZXY7N4W7GOE6UTXHEHS3RBNCR2WJXRRTH3GY\n",
      "DINAAZWBJM6DRY73CWK7IOA4S7C6PVXQMQ4DJ3TK3DAGAGFJTX5KEYESDI\n"
     ]
    }
   ],
   "source": [
    "print(MyAlgo['public'])\n",
    "print(Alice['public'])\n",
    "print(Bob['public'])\n",
    "print(Charlie['public'])\n",
    "print(Dina['public'])"
   ]
  },
  {
   "cell_type": "markdown",
   "metadata": {},
   "source": [
    "## Connecting to the Algorand Blockchain via API\n",
    "+ We choose to connect via Algonode API\n",
    "- API **address** stored ...\n",
    "    - For the testnet in `cred['algod_test']`\n",
    "    - For the mainnet in `cred['algod_main']`\n",
    "- API **crendentials** stored in `cred['api_token']` (currently not needed)"
   ]
  },
  {
   "cell_type": "code",
   "execution_count": 4,
   "metadata": {},
   "outputs": [],
   "source": [
    "# Today we work with the testnet\n",
    "algod_token   = ''                        # Only needed if we have our own server\n",
    "algod_address = cred['algod_test']        # TESTNET, alternatively cred['algod_main'] \n",
    "api_token = cred['api_token']             # Currently empty, this may change\n",
    "\n",
    "# Initialize the algod client\n",
    "algod_client = algod.AlgodClient(algod_token=algod_token, algod_address=algod_address, headers=api_token)"
   ]
  },
  {
   "cell_type": "markdown",
   "metadata": {},
   "source": [
    "#### Test the connection\n",
    "- Our first Python access of the blockchain\n",
    "- What's the last block?\n",
    "    - Note that block count on testnet is larger (Why?)\n",
    "    - Check here (select *testnet* on top left): https://app.dappflow.org/explorer/home"
   ]
  },
  {
   "cell_type": "code",
   "execution_count": 5,
   "metadata": {},
   "outputs": [
    {
     "data": {
      "text/plain": [
       "37363418"
      ]
     },
     "execution_count": 5,
     "metadata": {},
     "output_type": "execute_result"
    }
   ],
   "source": [
    "algod_client.status()[\"last-round\"]"
   ]
  },
  {
   "cell_type": "markdown",
   "metadata": {
    "tags": []
   },
   "source": [
    "### Check the accounts on the blockchain\n",
    "#### (a) on the Mainnet\n",
    "- Mainnet https://explorer.perawallet.app\n",
    "- Check the link below to find the Algos that you have received at the beginning of class"
   ]
  },
  {
   "cell_type": "code",
   "execution_count": 6,
   "metadata": {
    "tags": []
   },
   "outputs": [
    {
     "name": "stdout",
     "output_type": "stream",
     "text": [
      "https://explorer.perawallet.app/address/WSC24MVUSQ32IZYD7FNN54Z44IXWL4X7BOJD6AGFOCHOG4PDFESLZUGLTI\n"
     ]
    }
   ],
   "source": [
    "# Create a link to directly access your MyAlgo account\n",
    "print(cred['explore_main']+'address/'+MyAlgo['public'])"
   ]
  },
  {
   "cell_type": "markdown",
   "metadata": {
    "tags": []
   },
   "source": [
    "#### (b) on the Testnet\n",
    "* Accounts, program code etc work just like on the main net\n",
    "* Notice that your `MyAlgo` account on the testnet has still 0 Algos"
   ]
  },
  {
   "cell_type": "code",
   "execution_count": 7,
   "metadata": {
    "tags": []
   },
   "outputs": [
    {
     "name": "stdout",
     "output_type": "stream",
     "text": [
      "https://testnet.explorer.perawallet.app/address/WSC24MVUSQ32IZYD7FNN54Z44IXWL4X7BOJD6AGFOCHOG4PDFESLZUGLTI\n"
     ]
    }
   ],
   "source": [
    "print(cred['explore_test']+'address/'+MyAlgo['public'])"
   ]
  },
  {
   "cell_type": "markdown",
   "metadata": {},
   "source": [
    "### Fund with testnet Algos\n",
    "\n",
    "Try any of these:\n",
    "- https://bank.testnet.algorand.network/\n",
    "- https://dispenser.testnet.aws.algodev.network\n",
    "- Fund `MyAlgo`, `Alice` and `Bob`. How many test ALGOs did you get?"
   ]
  },
  {
   "cell_type": "markdown",
   "metadata": {},
   "source": [
    "### Obtain holdings\n",
    "* The `algod_client.account_info()` function obtains all sorts of information about an account\n",
    "    * For more details, see chapter 11 (empirics)"
   ]
  },
  {
   "cell_type": "code",
   "execution_count": 8,
   "metadata": {},
   "outputs": [
    {
     "data": {
      "text/plain": [
       "10712999"
      ]
     },
     "execution_count": 8,
     "metadata": {},
     "output_type": "execute_result"
    }
   ],
   "source": [
    "# Get holdings of testnet Algos\n",
    "address = Alice[\"public\"]\n",
    "algod_client.account_info(address)[\"amount\"]"
   ]
  },
  {
   "cell_type": "code",
   "execution_count": 9,
   "metadata": {},
   "outputs": [
    {
     "name": "stdout",
     "output_type": "stream",
     "text": [
      "Address ALICEXOA4Q2OD5CKBYND4UX75K3TAODEC3XCVNQ3URMKUMZKUOTOSAQLIU has 10.712999 test algos\n"
     ]
    }
   ],
   "source": [
    "# Holdings are in micro Algo ... convert\n",
    "algo_precision = 1e6\n",
    "algo_amount    = algod_client.account_info(address)[\"amount\"]/algo_precision\n",
    "print(f\"Address {address} has {algo_amount} test algos\")"
   ]
  },
  {
   "cell_type": "markdown",
   "metadata": {},
   "source": [
    "## A first payment transaction"
   ]
  },
  {
   "cell_type": "markdown",
   "metadata": {},
   "source": [
    "#### The suggested parameters for a transaction (on the test network)\n",
    "* Get standard parameters from API\n",
    "* Simplifies creation of a transaction\n",
    "* Part of ever y**Step 1 – prepare transaction**\n",
    "    * `first` and `last` are suggested params for first and last round valid. Compare to current round\n",
    "    * Suggested fee is standard fee\n",
    "    * `gh` stands for genesis hash (=first entry on the blockchain)"
   ]
  },
  {
   "cell_type": "code",
   "execution_count": 10,
   "metadata": {},
   "outputs": [
    {
     "name": "stdout",
     "output_type": "stream",
     "text": [
      "{\n",
      "    \"first\": 37363420,\n",
      "    \"last\": 37364420,\n",
      "    \"gh\": \"SGO1GKSzyE7IEPItTxCByw9x8FmnrCDexi9/cOUJOiI=\",\n",
      "    \"gen\": \"testnet-v1.0\",\n",
      "    \"fee\": 0,\n",
      "    \"flat_fee\": false,\n",
      "    \"consensus_version\": \"https://github.com/algorandfoundation/specs/tree/925a46433742afb0b51bb939354bd907fa88bf95\",\n",
      "    \"min_fee\": 1000\n",
      "}\n"
     ]
    }
   ],
   "source": [
    "sp = algod_client.suggested_params()\n",
    "print(json.dumps(vars(sp), indent=4))"
   ]
  },
  {
   "cell_type": "markdown",
   "metadata": {},
   "source": [
    "#### Step 1: prepare and create unsigned transaction using `PaymentTxn`"
   ]
  },
  {
   "cell_type": "code",
   "execution_count": 11,
   "metadata": {},
   "outputs": [],
   "source": [
    "# Parameters\n",
    "sp        = algod_client.suggested_params()       # suggested params\n",
    "amount    = 0.1                                   # in ALGO\n",
    "algo_prec = 1e6\n",
    "amt_microalgo = int(amount * algo_prec)     # in Micro-ALGO \n",
    "\n",
    "# Create (unsigned) TX\n",
    "txn = PaymentTxn(sender = Alice['public'],     # <--- From\n",
    "                 sp = sp,                      # <---- ALWAYS include the sp\n",
    "                 receiver = Bob['public'],     # <---- To\n",
    "                 amt = amt_microalgo           # <---- in Micro-ALGO\n",
    "                )"
   ]
  },
  {
   "cell_type": "code",
   "execution_count": 12,
   "metadata": {},
   "outputs": [
    {
     "name": "stdout",
     "output_type": "stream",
     "text": [
      "{\n",
      "    \"sender\": \"ALICEXOA4Q2OD5CKBYND4UX75K3TAODEC3XCVNQ3URMKUMZKUOTOSAQLIU\",\n",
      "    \"fee\": 1000,\n",
      "    \"first_valid_round\": 37363421,\n",
      "    \"last_valid_round\": 37364421,\n",
      "    \"note\": null,\n",
      "    \"genesis_id\": \"testnet-v1.0\",\n",
      "    \"genesis_hash\": \"SGO1GKSzyE7IEPItTxCByw9x8FmnrCDexi9/cOUJOiI=\",\n",
      "    \"group\": null,\n",
      "    \"lease\": null,\n",
      "    \"type\": \"pay\",\n",
      "    \"rekey_to\": null,\n",
      "    \"receiver\": \"BOB23JBQLW3AJREEG3KD7ULMAGYGVZ2LVF2OMZ2XBJIR64NO5P24XN7WEU\",\n",
      "    \"amt\": 100000,\n",
      "    \"close_remainder_to\": null\n",
      "}\n"
     ]
    }
   ],
   "source": [
    "# Interesting: this is how a transaction looks like\n",
    "print(json.dumps(vars(txn), indent=4))"
   ]
  },
  {
   "cell_type": "code",
   "execution_count": 13,
   "metadata": {},
   "outputs": [
    {
     "name": "stdout",
     "output_type": "stream",
     "text": [
      "JWYC5JGX2SLNKJOVEE62MNATEZX7VTD4AXVI2YYXGTLMV5TD7N4A\n"
     ]
    }
   ],
   "source": [
    "# Interesting: we already have a txid\n",
    "print(txn.get_txid())"
   ]
  },
  {
   "cell_type": "code",
   "execution_count": 14,
   "metadata": {},
   "outputs": [
    {
     "name": "stdout",
     "output_type": "stream",
     "text": [
      "https://testnet.explorer.perawallet.app/tx/JWYC5JGX2SLNKJOVEE62MNATEZX7VTD4AXVI2YYXGTLMV5TD7N4A\n"
     ]
    }
   ],
   "source": [
    "# Is it already on the blockchain? \n",
    "# No ... we have not yet sent sent it --> 404 error\n",
    "print(cred['explore_test']+'tx/'+txn.get_txid())"
   ]
  },
  {
   "cell_type": "markdown",
   "metadata": {},
   "source": [
    "#### Step 2: sign"
   ]
  },
  {
   "cell_type": "code",
   "execution_count": 15,
   "metadata": {},
   "outputs": [],
   "source": [
    "stxn = txn.sign(Alice['private'])                 # <---- Alice signs with private key"
   ]
  },
  {
   "cell_type": "code",
   "execution_count": 16,
   "metadata": {},
   "outputs": [
    {
     "name": "stdout",
     "output_type": "stream",
     "text": [
      "{'sender': 'ALICEXOA4Q2OD5CKBYND4UX75K3TAODEC3XCVNQ3URMKUMZKUOTOSAQLIU', 'fee': 1000, 'first_valid_round': 37363421, 'last_valid_round': 37364421, 'note': None, 'genesis_id': 'testnet-v1.0', 'genesis_hash': 'SGO1GKSzyE7IEPItTxCByw9x8FmnrCDexi9/cOUJOiI=', 'group': None, 'lease': None, 'type': 'pay', 'rekey_to': None, 'receiver': 'BOB23JBQLW3AJREEG3KD7ULMAGYGVZ2LVF2OMZ2XBJIR64NO5P24XN7WEU', 'amt': 100000, 'close_remainder_to': None}\n",
      "\n",
      "d5NCHq/UD06INZO76umYOH+xbpeA50YeF5c0dxkXHNZ6gUUgr6WCYyJegj/ktsm3PXuOEKSoWtmEIOxUOixnBw==\n"
     ]
    }
   ],
   "source": [
    "# Interesting: this is how a transaction looks like\n",
    "# The new stxn object consists of\n",
    "print(stxn.transaction)                           # same as above\n",
    "print('')\n",
    "print(stxn.signature)                             # signature signs the transaction"
   ]
  },
  {
   "cell_type": "code",
   "execution_count": 17,
   "metadata": {},
   "outputs": [
    {
     "name": "stdout",
     "output_type": "stream",
     "text": [
      "JWYC5JGX2SLNKJOVEE62MNATEZX7VTD4AXVI2YYXGTLMV5TD7N4A\n",
      "https://testnet.explorer.perawallet.app/tx/JWYC5JGX2SLNKJOVEE62MNATEZX7VTD4AXVI2YYXGTLMV5TD7N4A\n"
     ]
    }
   ],
   "source": [
    "# Interesting: The transaction ID is the same as before\n",
    "# ... and still nothing on the blockchain\n",
    "print(stxn.get_txid())\n",
    "print(cred['explore_test']+'tx/'+stxn.get_txid())"
   ]
  },
  {
   "cell_type": "markdown",
   "metadata": {},
   "source": [
    "#### Step 3: send"
   ]
  },
  {
   "cell_type": "code",
   "execution_count": 18,
   "metadata": {},
   "outputs": [],
   "source": [
    "txid = algod_client.send_transaction(stxn)"
   ]
  },
  {
   "cell_type": "code",
   "execution_count": 19,
   "metadata": {},
   "outputs": [
    {
     "name": "stdout",
     "output_type": "stream",
     "text": [
      "{'pool-error': '', 'txn': {'sig': 'd5NCHq/UD06INZO76umYOH+xbpeA50YeF5c0dxkXHNZ6gUUgr6WCYyJegj/ktsm3PXuOEKSoWtmEIOxUOixnBw==', 'txn': {'amt': 100000, 'fee': 1000, 'fv': 37363421, 'gen': 'testnet-v1.0', 'gh': 'SGO1GKSzyE7IEPItTxCByw9x8FmnrCDexi9/cOUJOiI=', 'lv': 37364421, 'rcv': 'BOB23JBQLW3AJREEG3KD7ULMAGYGVZ2LVF2OMZ2XBJIR64NO5P24XN7WEU', 'snd': 'ALICEXOA4Q2OD5CKBYND4UX75K3TAODEC3XCVNQ3URMKUMZKUOTOSAQLIU', 'type': 'pay'}}}\n"
     ]
    }
   ],
   "source": [
    "# Transaction just asent to the blockchain\n",
    "# Does not yet contain a `confirmed-round` object\n",
    "txinfo = algod_client.pending_transaction_info(txid)\n",
    "print(txinfo)"
   ]
  },
  {
   "cell_type": "markdown",
   "metadata": {},
   "source": [
    "#### Step 4: Wait for confirmation"
   ]
  },
  {
   "cell_type": "code",
   "execution_count": 20,
   "metadata": {},
   "outputs": [
    {
     "name": "stdout",
     "output_type": "stream",
     "text": [
      "Current round is  37363425.\n",
      "Waiting for round 37363425 to finish.\n",
      "Transaction JWYC5JGX2SLNKJOVEE62MNATEZX7VTD4AXVI2YYXGTLMV5TD7N4A confirmed in round 37363426.\n"
     ]
    }
   ],
   "source": [
    "txinfo = wait_for_confirmation(algod_client, txid)"
   ]
  },
  {
   "cell_type": "code",
   "execution_count": 21,
   "metadata": {},
   "outputs": [
    {
     "name": "stdout",
     "output_type": "stream",
     "text": [
      "{'confirmed-round': 37363426, 'pool-error': '', 'txn': {'sig': 'd5NCHq/UD06INZO76umYOH+xbpeA50YeF5c0dxkXHNZ6gUUgr6WCYyJegj/ktsm3PXuOEKSoWtmEIOxUOixnBw==', 'txn': {'amt': 100000, 'fee': 1000, 'fv': 37363421, 'gen': 'testnet-v1.0', 'gh': 'SGO1GKSzyE7IEPItTxCByw9x8FmnrCDexi9/cOUJOiI=', 'lv': 37364421, 'rcv': 'BOB23JBQLW3AJREEG3KD7ULMAGYGVZ2LVF2OMZ2XBJIR64NO5P24XN7WEU', 'snd': 'ALICEXOA4Q2OD5CKBYND4UX75K3TAODEC3XCVNQ3URMKUMZKUOTOSAQLIU', 'type': 'pay'}}}\n"
     ]
    }
   ],
   "source": [
    "# Note that txinfo has now a 'confirmed-round'\n",
    "print(txinfo)"
   ]
  },
  {
   "cell_type": "code",
   "execution_count": 22,
   "metadata": {},
   "outputs": [
    {
     "name": "stdout",
     "output_type": "stream",
     "text": [
      "https://testnet.explorer.perawallet.app/tx/JWYC5JGX2SLNKJOVEE62MNATEZX7VTD4AXVI2YYXGTLMV5TD7N4A\n"
     ]
    }
   ],
   "source": [
    "# Now we can check the tx also on algoexplorer\n",
    "print(cred['explore_test']+'tx/'+txid)"
   ]
  },
  {
   "cell_type": "markdown",
   "metadata": {},
   "source": [
    "## Add a note to a transaction\n",
    "* Create a transaction a bit more efficiently\n",
    "* Add a transaction note"
   ]
  },
  {
   "cell_type": "code",
   "execution_count": 23,
   "metadata": {},
   "outputs": [],
   "source": [
    "# Step 1a: Prepare\n",
    "sp     = algod_client.suggested_params()       # suggested params\n",
    "amount = 0.1\n",
    "algo_precision = 1e6\n",
    "amt_microalgo = int(amount * algo_precision)\n",
    "\n",
    "# Step 1b: The note (need to encode as bytes)\n",
    "note_txt  = \"Paying back for last dinner\"\n",
    "note_byte = note_txt.encode()"
   ]
  },
  {
   "cell_type": "code",
   "execution_count": 24,
   "metadata": {},
   "outputs": [
    {
     "name": "stdout",
     "output_type": "stream",
     "text": [
      "{'sender': 'ALICEXOA4Q2OD5CKBYND4UX75K3TAODEC3XCVNQ3URMKUMZKUOTOSAQLIU', 'fee': 1000, 'first_valid_round': 37363426, 'last_valid_round': 37364426, 'note': b'Paying back for last dinner', 'genesis_id': 'testnet-v1.0', 'genesis_hash': 'SGO1GKSzyE7IEPItTxCByw9x8FmnrCDexi9/cOUJOiI=', 'group': None, 'lease': None, 'type': 'pay', 'rekey_to': None, 'receiver': 'BOB23JBQLW3AJREEG3KD7ULMAGYGVZ2LVF2OMZ2XBJIR64NO5P24XN7WEU', 'amt': 100000, 'close_remainder_to': None}\n"
     ]
    }
   ],
   "source": [
    "# Step 1c: create (unsigned) TX\n",
    "txn = PaymentTxn(sender=Alice['public'],\n",
    "                 sp = sp,\n",
    "                 receiver = Bob['public'],\n",
    "                 amt=amt_microalgo, \n",
    "                 note=note_byte\n",
    "                 )\n",
    "print(txn)"
   ]
  },
  {
   "cell_type": "code",
   "execution_count": 25,
   "metadata": {},
   "outputs": [
    {
     "name": "stdout",
     "output_type": "stream",
     "text": [
      "7CNIYQZW4KH7DGW44BJ55OK3D625TCR5BRK2ALHQSUEX6V2PZPYQ\n"
     ]
    }
   ],
   "source": [
    "# Step 2+3: sign and send TX\n",
    "stxn = txn.sign(Alice['private'])\n",
    "txid = algod_client.send_transaction(stxn)\n",
    "print(txid)"
   ]
  },
  {
   "cell_type": "code",
   "execution_count": 26,
   "metadata": {},
   "outputs": [
    {
     "name": "stdout",
     "output_type": "stream",
     "text": [
      "Current round is  37363427.\n",
      "Waiting for round 37363427 to finish.\n",
      "Transaction 7CNIYQZW4KH7DGW44BJ55OK3D625TCR5BRK2ALHQSUEX6V2PZPYQ confirmed in round 37363428.\n"
     ]
    }
   ],
   "source": [
    "# Step 4: Wait for confirmation\n",
    "txinfo = wait_for_confirmation(algod_client, txid)"
   ]
  },
  {
   "cell_type": "code",
   "execution_count": 27,
   "metadata": {},
   "outputs": [
    {
     "name": "stdout",
     "output_type": "stream",
     "text": [
      "{'confirmed-round': 37363428, 'pool-error': '', 'txn': {'sig': 'BZ3kmjz9g7NM7hYgNqwRDTle27pq7vSBVDogKZdkLLBcRgQoK0sZ2pxqhEi/PFYBGu1VTenpy4rSrzexKxwhDg==', 'txn': {'amt': 100000, 'fee': 1000, 'fv': 37363426, 'gen': 'testnet-v1.0', 'gh': 'SGO1GKSzyE7IEPItTxCByw9x8FmnrCDexi9/cOUJOiI=', 'lv': 37364426, 'note': 'UGF5aW5nIGJhY2sgZm9yIGxhc3QgZGlubmVy', 'rcv': 'BOB23JBQLW3AJREEG3KD7ULMAGYGVZ2LVF2OMZ2XBJIR64NO5P24XN7WEU', 'snd': 'ALICEXOA4Q2OD5CKBYND4UX75K3TAODEC3XCVNQ3URMKUMZKUOTOSAQLIU', 'type': 'pay'}}}\n"
     ]
    }
   ],
   "source": [
    "print(txinfo)"
   ]
  },
  {
   "cell_type": "code",
   "execution_count": 28,
   "metadata": {},
   "outputs": [
    {
     "name": "stdout",
     "output_type": "stream",
     "text": [
      "https://testnet.explorer.perawallet.app/tx/7CNIYQZW4KH7DGW44BJ55OK3D625TCR5BRK2ALHQSUEX6V2PZPYQ\n"
     ]
    }
   ],
   "source": [
    "# Check on Algoexplorer\n",
    "# The note is readable in plain text\n",
    "print(cred['explore_test']+'tx/'+txid)"
   ]
  },
  {
   "cell_type": "markdown",
   "metadata": {},
   "source": [
    "### Step 5 (check): Extract message in txinfo and convert back to plain text"
   ]
  },
  {
   "cell_type": "code",
   "execution_count": 29,
   "metadata": {},
   "outputs": [
    {
     "name": "stdout",
     "output_type": "stream",
     "text": [
      "UGF5aW5nIGJhY2sgZm9yIGxhc3QgZGlubmVy\n",
      "b'Paying back for last dinner'\n",
      "Paying back for last dinner\n"
     ]
    }
   ],
   "source": [
    "import base64\n",
    "note_base64 = txinfo['txn']['txn']['note']\n",
    "print(note_base64)\n",
    "note_byte   = base64.b64decode(note_base64)\n",
    "print(note_byte)\n",
    "note_txt   = note_byte.decode()\n",
    "print(note_txt)"
   ]
  },
  {
   "cell_type": "markdown",
   "metadata": {},
   "source": [
    "## Exercises"
   ]
  },
  {
   "cell_type": "markdown",
   "metadata": {},
   "source": [
    "**Exercise 1:** Send 0.82 ALGO from Dina to Alice with a thank you note"
   ]
  },
  {
   "cell_type": "code",
   "execution_count": 30,
   "metadata": {},
   "outputs": [
    {
     "name": "stdout",
     "output_type": "stream",
     "text": [
      "Current round is  37363429.\n",
      "Waiting for round 37363429 to finish.\n",
      "Waiting for round 37363430 to finish.\n",
      "Transaction JW2IBCLCHZSN4WVA7LSHV6GIU2TIPNEJEY2CGOYAX3N4NHBEDSNA confirmed in round 37363431.\n"
     ]
    }
   ],
   "source": [
    "# Your Python code goes here\n",
    "\n",
    "# Step 1: Prepare\n",
    "sp        = algod_client.suggested_params()       # suggested params\n",
    "amount    = 0.82\n",
    "algo_prec = 1e6\n",
    "amt_microalgo = int(amount * algo_prec)\n",
    "note_txt  = \"Thank you\"\n",
    "note_byte = note_txt.encode()\n",
    "\n",
    "txn = PaymentTxn(sender=Dina['public'],\n",
    "                 sp=sp, \n",
    "                 receiver = Alice['public'],\n",
    "                 amt=amt_microalgo, \n",
    "                 note=note_byte\n",
    "                 )\n",
    "\n",
    "# Step 2+3: sign and send TX\n",
    "stxn = txn.sign(Dina['private'])\n",
    "txid = algod_client.send_transaction(stxn)\n",
    "\n",
    "# Step 4: Wait for confirmation\n",
    "txinfo = wait_for_confirmation(algod_client, txid)"
   ]
  },
  {
   "cell_type": "markdown",
   "metadata": {},
   "source": [
    "**Exercise 2:** Obtain the (new) ALGO holdings of Alice using Python"
   ]
  },
  {
   "cell_type": "code",
   "execution_count": 31,
   "metadata": {},
   "outputs": [
    {
     "data": {
      "text/plain": [
       "11.330999"
      ]
     },
     "execution_count": 31,
     "metadata": {},
     "output_type": "execute_result"
    }
   ],
   "source": [
    "# Your Python code goes here\n",
    "address = Alice[\"public\"]\n",
    "algod_client.account_info(address)[\"amount\"] / 1e6"
   ]
  },
  {
   "cell_type": "markdown",
   "metadata": {},
   "source": [
    "## Things that do not and will not work\n",
    "* Following are a few things that deliberately don't work.\n",
    "* Goal: learn how error messages look like and how to deal with them."
   ]
  },
  {
   "cell_type": "code",
   "execution_count": 32,
   "metadata": {},
   "outputs": [],
   "source": [
    "# Need to import this to be able to read error messages\n",
    "import sys, algosdk.error"
   ]
  },
  {
   "cell_type": "markdown",
   "metadata": {},
   "source": [
    "### Overspending\n",
    "* Alice sends more than she owns\n",
    "* The error message is very long. Scroll down to the end."
   ]
  },
  {
   "cell_type": "code",
   "execution_count": 33,
   "metadata": {},
   "outputs": [],
   "source": [
    "# Step 1: prepare\n",
    "sp       = algod_client.suggested_params()\n",
    "algo_precision = 1e6\n",
    "sender   = Alice['public']\n",
    "receiver = Bob['public']\n",
    "amount   = 100                       # <----------------- way too much!\n",
    "amount_microalgo = int(amount * algo_precision)\n",
    "\n",
    "# Step 2: create unsigned TX\n",
    "unsigned_txn = PaymentTxn(sender, sp, receiver, amount_microalgo)\n",
    "\n",
    "# Step 3a: Sign\n",
    "signed_txn = unsigned_txn.sign(Alice['private'])"
   ]
  },
  {
   "cell_type": "code",
   "execution_count": 34,
   "metadata": {},
   "outputs": [
    {
     "ename": "AlgodHTTPError",
     "evalue": "TransactionPool.Remember: transaction SGQFLBDKPPN4GZGZVCEGB3FVAYF7RDZE25RXYF5KA6A43AGGKT5Q: overspend (account ALICEXOA4Q2OD5CKBYND4UX75K3TAODEC3XCVNQ3URMKUMZKUOTOSAQLIU, data {AccountBaseData:{Status:Offline MicroAlgos:{Raw:11329999} RewardsBase:27521 RewardedMicroAlgos:{Raw:0} AuthAddr:AAAAAAAAAAAAAAAAAAAAAAAAAAAAAAAAAAAAAAAAAAAAAAAAAAAAY5HFKQ TotalAppSchema:{_struct:{} NumUint:26 NumByteSlice:9} TotalExtraAppPages:0 TotalAppParams:5 TotalAppLocalStates:5 TotalAssetParams:1 TotalAssets:3 TotalBoxes:0 TotalBoxBytes:0} VotingData:{VoteID:[0 0 0 0 0 0 0 0 0 0 0 0 0 0 0 0 0 0 0 0 0 0 0 0 0 0 0 0 0 0 0 0] SelectionID:[0 0 0 0 0 0 0 0 0 0 0 0 0 0 0 0 0 0 0 0 0 0 0 0 0 0 0 0 0 0 0 0] StateProofID:[0 0 0 0 0 0 0 0 0 0 0 0 0 0 0 0 0 0 0 0 0 0 0 0 0 0 0 0 0 0 0 0 0 0 0 0 0 0 0 0 0 0 0 0 0 0 0 0 0 0 0 0 0 0 0 0 0 0 0 0 0 0 0 0] VoteFirstValid:0 VoteLastValid:0 VoteKeyDilution:0}}, tried to spend {100000000})",
     "output_type": "error",
     "traceback": [
      "\u001b[0;31m---------------------------------------------------------------------------\u001b[0m",
      "\u001b[0;31mHTTPError\u001b[0m                                 Traceback (most recent call last)",
      "File \u001b[0;32m~/anaconda3/envs/WSC/lib/python3.10/site-packages/algosdk/v2client/algod.py:104\u001b[0m, in \u001b[0;36mAlgodClient.algod_request\u001b[0;34m(self, method, requrl, params, data, headers, response_format)\u001b[0m\n\u001b[1;32m    103\u001b[0m \u001b[38;5;28;01mtry\u001b[39;00m:\n\u001b[0;32m--> 104\u001b[0m     resp \u001b[38;5;241m=\u001b[39m \u001b[43murlopen\u001b[49m\u001b[43m(\u001b[49m\u001b[43mreq\u001b[49m\u001b[43m)\u001b[49m\n\u001b[1;32m    105\u001b[0m \u001b[38;5;28;01mexcept\u001b[39;00m urllib\u001b[38;5;241m.\u001b[39merror\u001b[38;5;241m.\u001b[39mHTTPError \u001b[38;5;28;01mas\u001b[39;00m e:\n",
      "File \u001b[0;32m~/anaconda3/envs/WSC/lib/python3.10/urllib/request.py:216\u001b[0m, in \u001b[0;36murlopen\u001b[0;34m(url, data, timeout, cafile, capath, cadefault, context)\u001b[0m\n\u001b[1;32m    215\u001b[0m     opener \u001b[38;5;241m=\u001b[39m _opener\n\u001b[0;32m--> 216\u001b[0m \u001b[38;5;28;01mreturn\u001b[39;00m \u001b[43mopener\u001b[49m\u001b[38;5;241;43m.\u001b[39;49m\u001b[43mopen\u001b[49m\u001b[43m(\u001b[49m\u001b[43murl\u001b[49m\u001b[43m,\u001b[49m\u001b[43m \u001b[49m\u001b[43mdata\u001b[49m\u001b[43m,\u001b[49m\u001b[43m \u001b[49m\u001b[43mtimeout\u001b[49m\u001b[43m)\u001b[49m\n",
      "File \u001b[0;32m~/anaconda3/envs/WSC/lib/python3.10/urllib/request.py:525\u001b[0m, in \u001b[0;36mOpenerDirector.open\u001b[0;34m(self, fullurl, data, timeout)\u001b[0m\n\u001b[1;32m    524\u001b[0m     meth \u001b[38;5;241m=\u001b[39m \u001b[38;5;28mgetattr\u001b[39m(processor, meth_name)\n\u001b[0;32m--> 525\u001b[0m     response \u001b[38;5;241m=\u001b[39m \u001b[43mmeth\u001b[49m\u001b[43m(\u001b[49m\u001b[43mreq\u001b[49m\u001b[43m,\u001b[49m\u001b[43m \u001b[49m\u001b[43mresponse\u001b[49m\u001b[43m)\u001b[49m\n\u001b[1;32m    527\u001b[0m \u001b[38;5;28;01mreturn\u001b[39;00m response\n",
      "File \u001b[0;32m~/anaconda3/envs/WSC/lib/python3.10/urllib/request.py:634\u001b[0m, in \u001b[0;36mHTTPErrorProcessor.http_response\u001b[0;34m(self, request, response)\u001b[0m\n\u001b[1;32m    633\u001b[0m \u001b[38;5;28;01mif\u001b[39;00m \u001b[38;5;129;01mnot\u001b[39;00m (\u001b[38;5;241m200\u001b[39m \u001b[38;5;241m<\u001b[39m\u001b[38;5;241m=\u001b[39m code \u001b[38;5;241m<\u001b[39m \u001b[38;5;241m300\u001b[39m):\n\u001b[0;32m--> 634\u001b[0m     response \u001b[38;5;241m=\u001b[39m \u001b[38;5;28;43mself\u001b[39;49m\u001b[38;5;241;43m.\u001b[39;49m\u001b[43mparent\u001b[49m\u001b[38;5;241;43m.\u001b[39;49m\u001b[43merror\u001b[49m\u001b[43m(\u001b[49m\n\u001b[1;32m    635\u001b[0m \u001b[43m        \u001b[49m\u001b[38;5;124;43m'\u001b[39;49m\u001b[38;5;124;43mhttp\u001b[39;49m\u001b[38;5;124;43m'\u001b[39;49m\u001b[43m,\u001b[49m\u001b[43m \u001b[49m\u001b[43mrequest\u001b[49m\u001b[43m,\u001b[49m\u001b[43m \u001b[49m\u001b[43mresponse\u001b[49m\u001b[43m,\u001b[49m\u001b[43m \u001b[49m\u001b[43mcode\u001b[49m\u001b[43m,\u001b[49m\u001b[43m \u001b[49m\u001b[43mmsg\u001b[49m\u001b[43m,\u001b[49m\u001b[43m \u001b[49m\u001b[43mhdrs\u001b[49m\u001b[43m)\u001b[49m\n\u001b[1;32m    637\u001b[0m \u001b[38;5;28;01mreturn\u001b[39;00m response\n",
      "File \u001b[0;32m~/anaconda3/envs/WSC/lib/python3.10/urllib/request.py:563\u001b[0m, in \u001b[0;36mOpenerDirector.error\u001b[0;34m(self, proto, *args)\u001b[0m\n\u001b[1;32m    562\u001b[0m args \u001b[38;5;241m=\u001b[39m (\u001b[38;5;28mdict\u001b[39m, \u001b[38;5;124m'\u001b[39m\u001b[38;5;124mdefault\u001b[39m\u001b[38;5;124m'\u001b[39m, \u001b[38;5;124m'\u001b[39m\u001b[38;5;124mhttp_error_default\u001b[39m\u001b[38;5;124m'\u001b[39m) \u001b[38;5;241m+\u001b[39m orig_args\n\u001b[0;32m--> 563\u001b[0m \u001b[38;5;28;01mreturn\u001b[39;00m \u001b[38;5;28;43mself\u001b[39;49m\u001b[38;5;241;43m.\u001b[39;49m\u001b[43m_call_chain\u001b[49m\u001b[43m(\u001b[49m\u001b[38;5;241;43m*\u001b[39;49m\u001b[43margs\u001b[49m\u001b[43m)\u001b[49m\n",
      "File \u001b[0;32m~/anaconda3/envs/WSC/lib/python3.10/urllib/request.py:496\u001b[0m, in \u001b[0;36mOpenerDirector._call_chain\u001b[0;34m(self, chain, kind, meth_name, *args)\u001b[0m\n\u001b[1;32m    495\u001b[0m func \u001b[38;5;241m=\u001b[39m \u001b[38;5;28mgetattr\u001b[39m(handler, meth_name)\n\u001b[0;32m--> 496\u001b[0m result \u001b[38;5;241m=\u001b[39m \u001b[43mfunc\u001b[49m\u001b[43m(\u001b[49m\u001b[38;5;241;43m*\u001b[39;49m\u001b[43margs\u001b[49m\u001b[43m)\u001b[49m\n\u001b[1;32m    497\u001b[0m \u001b[38;5;28;01mif\u001b[39;00m result \u001b[38;5;129;01mis\u001b[39;00m \u001b[38;5;129;01mnot\u001b[39;00m \u001b[38;5;28;01mNone\u001b[39;00m:\n",
      "File \u001b[0;32m~/anaconda3/envs/WSC/lib/python3.10/urllib/request.py:643\u001b[0m, in \u001b[0;36mHTTPDefaultErrorHandler.http_error_default\u001b[0;34m(self, req, fp, code, msg, hdrs)\u001b[0m\n\u001b[1;32m    642\u001b[0m \u001b[38;5;28;01mdef\u001b[39;00m \u001b[38;5;21mhttp_error_default\u001b[39m(\u001b[38;5;28mself\u001b[39m, req, fp, code, msg, hdrs):\n\u001b[0;32m--> 643\u001b[0m     \u001b[38;5;28;01mraise\u001b[39;00m HTTPError(req\u001b[38;5;241m.\u001b[39mfull_url, code, msg, hdrs, fp)\n",
      "\u001b[0;31mHTTPError\u001b[0m: HTTP Error 400: Bad Request",
      "\nDuring handling of the above exception, another exception occurred:\n",
      "\u001b[0;31mAlgodHTTPError\u001b[0m                            Traceback (most recent call last)",
      "Cell \u001b[0;32mIn[34], line 2\u001b[0m\n\u001b[1;32m      1\u001b[0m \u001b[38;5;66;03m# Step 3b: Send\u001b[39;00m\n\u001b[0;32m----> 2\u001b[0m txid \u001b[38;5;241m=\u001b[39m \u001b[43malgod_client\u001b[49m\u001b[38;5;241;43m.\u001b[39;49m\u001b[43msend_transaction\u001b[49m\u001b[43m(\u001b[49m\u001b[43msigned_txn\u001b[49m\u001b[43m)\u001b[49m\n",
      "File \u001b[0;32m~/anaconda3/envs/WSC/lib/python3.10/site-packages/algosdk/v2client/algod.py:331\u001b[0m, in \u001b[0;36mAlgodClient.send_transaction\u001b[0;34m(self, txn, **kwargs)\u001b[0m\n\u001b[1;32m    318\u001b[0m \u001b[38;5;250m\u001b[39m\u001b[38;5;124;03m\"\"\"\u001b[39;00m\n\u001b[1;32m    319\u001b[0m \u001b[38;5;124;03mBroadcast a signed transaction object to the network.\u001b[39;00m\n\u001b[1;32m    320\u001b[0m \n\u001b[0;32m   (...)\u001b[0m\n\u001b[1;32m    326\u001b[0m \u001b[38;5;124;03m    str: transaction ID\u001b[39;00m\n\u001b[1;32m    327\u001b[0m \u001b[38;5;124;03m\"\"\"\u001b[39;00m\n\u001b[1;32m    328\u001b[0m \u001b[38;5;28;01massert\u001b[39;00m \u001b[38;5;129;01mnot\u001b[39;00m \u001b[38;5;28misinstance\u001b[39m(\n\u001b[1;32m    329\u001b[0m     txn, transaction\u001b[38;5;241m.\u001b[39mTransaction\n\u001b[1;32m    330\u001b[0m ), \u001b[38;5;124m\"\u001b[39m\u001b[38;5;124mAttempt to send UNSUPPORTED type of transaction \u001b[39m\u001b[38;5;132;01m{}\u001b[39;00m\u001b[38;5;124m\"\u001b[39m\u001b[38;5;241m.\u001b[39mformat(txn)\n\u001b[0;32m--> 331\u001b[0m \u001b[38;5;28;01mreturn\u001b[39;00m \u001b[38;5;28;43mself\u001b[39;49m\u001b[38;5;241;43m.\u001b[39;49m\u001b[43msend_raw_transaction\u001b[49m\u001b[43m(\u001b[49m\n\u001b[1;32m    332\u001b[0m \u001b[43m    \u001b[49m\u001b[43mencoding\u001b[49m\u001b[38;5;241;43m.\u001b[39;49m\u001b[43mmsgpack_encode\u001b[49m\u001b[43m(\u001b[49m\u001b[43mtxn\u001b[49m\u001b[43m)\u001b[49m\u001b[43m,\u001b[49m\u001b[43m \u001b[49m\u001b[38;5;241;43m*\u001b[39;49m\u001b[38;5;241;43m*\u001b[39;49m\u001b[43mkwargs\u001b[49m\n\u001b[1;32m    333\u001b[0m \u001b[43m\u001b[49m\u001b[43m)\u001b[49m\n",
      "File \u001b[0;32m~/anaconda3/envs/WSC/lib/python3.10/site-packages/algosdk/v2client/algod.py:358\u001b[0m, in \u001b[0;36mAlgodClient.send_raw_transaction\u001b[0;34m(self, txn, **kwargs)\u001b[0m\n\u001b[1;32m    352\u001b[0m headers \u001b[38;5;241m=\u001b[39m util\u001b[38;5;241m.\u001b[39mbuild_headers_from(\n\u001b[1;32m    353\u001b[0m     kwargs\u001b[38;5;241m.\u001b[39mget(\u001b[38;5;124m\"\u001b[39m\u001b[38;5;124mheaders\u001b[39m\u001b[38;5;124m\"\u001b[39m, \u001b[38;5;28;01mFalse\u001b[39;00m),\n\u001b[1;32m    354\u001b[0m     {\u001b[38;5;124m\"\u001b[39m\u001b[38;5;124mContent-Type\u001b[39m\u001b[38;5;124m\"\u001b[39m: \u001b[38;5;124m\"\u001b[39m\u001b[38;5;124mapplication/x-binary\u001b[39m\u001b[38;5;124m\"\u001b[39m},\n\u001b[1;32m    355\u001b[0m )\n\u001b[1;32m    356\u001b[0m kwargs[\u001b[38;5;124m\"\u001b[39m\u001b[38;5;124mheaders\u001b[39m\u001b[38;5;124m\"\u001b[39m] \u001b[38;5;241m=\u001b[39m headers\n\u001b[0;32m--> 358\u001b[0m resp \u001b[38;5;241m=\u001b[39m \u001b[38;5;28;43mself\u001b[39;49m\u001b[38;5;241;43m.\u001b[39;49m\u001b[43malgod_request\u001b[49m\u001b[43m(\u001b[49m\u001b[38;5;124;43m\"\u001b[39;49m\u001b[38;5;124;43mPOST\u001b[39;49m\u001b[38;5;124;43m\"\u001b[39;49m\u001b[43m,\u001b[49m\u001b[43m \u001b[49m\u001b[43mreq\u001b[49m\u001b[43m,\u001b[49m\u001b[43m \u001b[49m\u001b[43mdata\u001b[49m\u001b[38;5;241;43m=\u001b[39;49m\u001b[43mtxn_bytes\u001b[49m\u001b[43m,\u001b[49m\u001b[43m \u001b[49m\u001b[38;5;241;43m*\u001b[39;49m\u001b[38;5;241;43m*\u001b[39;49m\u001b[43mkwargs\u001b[49m\u001b[43m)\u001b[49m\n\u001b[1;32m    359\u001b[0m \u001b[38;5;28;01mreturn\u001b[39;00m cast(\u001b[38;5;28mstr\u001b[39m, cast(\u001b[38;5;28mdict\u001b[39m, resp)[\u001b[38;5;124m\"\u001b[39m\u001b[38;5;124mtxId\u001b[39m\u001b[38;5;124m\"\u001b[39m])\n",
      "File \u001b[0;32m~/anaconda3/envs/WSC/lib/python3.10/site-packages/algosdk/v2client/algod.py:111\u001b[0m, in \u001b[0;36mAlgodClient.algod_request\u001b[0;34m(self, method, requrl, params, data, headers, response_format)\u001b[0m\n\u001b[1;32m    109\u001b[0m         e \u001b[38;5;241m=\u001b[39m json\u001b[38;5;241m.\u001b[39mloads(es)[\u001b[38;5;124m\"\u001b[39m\u001b[38;5;124mmessage\u001b[39m\u001b[38;5;124m\"\u001b[39m]\n\u001b[1;32m    110\u001b[0m     \u001b[38;5;28;01mfinally\u001b[39;00m:\n\u001b[0;32m--> 111\u001b[0m         \u001b[38;5;28;01mraise\u001b[39;00m error\u001b[38;5;241m.\u001b[39mAlgodHTTPError(e, code)\n\u001b[1;32m    112\u001b[0m \u001b[38;5;28;01mif\u001b[39;00m response_format \u001b[38;5;241m==\u001b[39m \u001b[38;5;124m\"\u001b[39m\u001b[38;5;124mjson\u001b[39m\u001b[38;5;124m\"\u001b[39m:\n\u001b[1;32m    113\u001b[0m     \u001b[38;5;28;01mtry\u001b[39;00m:\n",
      "\u001b[0;31mAlgodHTTPError\u001b[0m: TransactionPool.Remember: transaction SGQFLBDKPPN4GZGZVCEGB3FVAYF7RDZE25RXYF5KA6A43AGGKT5Q: overspend (account ALICEXOA4Q2OD5CKBYND4UX75K3TAODEC3XCVNQ3URMKUMZKUOTOSAQLIU, data {AccountBaseData:{Status:Offline MicroAlgos:{Raw:11329999} RewardsBase:27521 RewardedMicroAlgos:{Raw:0} AuthAddr:AAAAAAAAAAAAAAAAAAAAAAAAAAAAAAAAAAAAAAAAAAAAAAAAAAAAY5HFKQ TotalAppSchema:{_struct:{} NumUint:26 NumByteSlice:9} TotalExtraAppPages:0 TotalAppParams:5 TotalAppLocalStates:5 TotalAssetParams:1 TotalAssets:3 TotalBoxes:0 TotalBoxBytes:0} VotingData:{VoteID:[0 0 0 0 0 0 0 0 0 0 0 0 0 0 0 0 0 0 0 0 0 0 0 0 0 0 0 0 0 0 0 0] SelectionID:[0 0 0 0 0 0 0 0 0 0 0 0 0 0 0 0 0 0 0 0 0 0 0 0 0 0 0 0 0 0 0 0] StateProofID:[0 0 0 0 0 0 0 0 0 0 0 0 0 0 0 0 0 0 0 0 0 0 0 0 0 0 0 0 0 0 0 0 0 0 0 0 0 0 0 0 0 0 0 0 0 0 0 0 0 0 0 0 0 0 0 0 0 0 0 0 0 0 0 0] VoteFirstValid:0 VoteLastValid:0 VoteKeyDilution:0}}, tried to spend {100000000})"
     ]
    }
   ],
   "source": [
    "# Step 3b: Send\n",
    "txid = algod_client.send_transaction(signed_txn)"
   ]
  },
  {
   "cell_type": "markdown",
   "metadata": {},
   "source": [
    "#### Can we *catch the error* and get a better structured error message?\n",
    "* **Note:** error occurs when sending the transaction"
   ]
  },
  {
   "cell_type": "code",
   "execution_count": 35,
   "metadata": {},
   "outputs": [],
   "source": [
    "# Step 1: prepare\n",
    "sp       = algod_client.suggested_params()\n",
    "algo_precision = 1e6\n",
    "sender   = Alice['public']\n",
    "receiver = Bob['public']\n",
    "amount   = 100                       # <----------------- way too much!\n",
    "amount_microalgo = int(amount * algo_precision)\n",
    "\n",
    "# Step 2: create unsigned TX\n",
    "unsigned_txn = PaymentTxn(sender, sp, receiver, amount_microalgo)\n",
    "\n",
    "# Step 3a: Sign\n",
    "signed_txn = unsigned_txn.sign(Alice['private'])"
   ]
  },
  {
   "cell_type": "code",
   "execution_count": 36,
   "metadata": {},
   "outputs": [
    {
     "name": "stdout",
     "output_type": "stream",
     "text": [
      "TransactionPool.Remember: transaction G5SYWYTQT2HEC2D35KWB53PT7Z55JV36GG26FQGUJKWCHOZVE7NQ: overspend (account ALICEXOA4Q2OD5CKBYND4UX75K3TAODEC3XCVNQ3URMKUMZKUOTOSAQLIU, data {AccountBaseData:{Status:Offline MicroAlgos:{Raw:11329999} RewardsBase:27521 RewardedMicroAlgos:{Raw:0} AuthAddr:AAAAAAAAAAAAAAAAAAAAAAAAAAAAAAAAAAAAAAAAAAAAAAAAAAAAY5HFKQ TotalAppSchema:{_struct:{} NumUint:26 NumByteSlice:9} TotalExtraAppPages:0 TotalAppParams:5 TotalAppLocalStates:5 TotalAssetParams:1 TotalAssets:3 TotalBoxes:0 TotalBoxBytes:0} VotingData:{VoteID:[0 0 0 0 0 0 0 0 0 0 0 0 0 0 0 0 0 0 0 0 0 0 0 0 0 0 0 0 0 0 0 0] SelectionID:[0 0 0 0 0 0 0 0 0 0 0 0 0 0 0 0 0 0 0 0 0 0 0 0 0 0 0 0 0 0 0 0] StateProofID:[0 0 0 0 0 0 0 0 0 0 0 0 0 0 0 0 0 0 0 0 0 0 0 0 0 0 0 0 0 0 0 0 0 0 0 0 0 0 0 0 0 0 0 0 0 0 0 0 0 0 0 0 0 0 0 0 0 0 0 0 0 0 0 0] VoteFirstValid:0 VoteLastValid:0 VoteKeyDilution:0}}, tried to spend {100000000})\n",
      "Overspend error\n"
     ]
    }
   ],
   "source": [
    "# Step 3b: Send\n",
    "try:\n",
    "    txid = algod_client.send_transaction(signed_txn)\n",
    "except algosdk.error.AlgodHTTPError as err:\n",
    "    print(err)                                   # print entire error message\n",
    "    if (\"overspend\" in str(err)):                # check for specific type of error\n",
    "        print(\"Overspend error\")         \n",
    "    txid = None"
   ]
  },
  {
   "cell_type": "markdown",
   "metadata": {},
   "source": [
    "#### What happens if we wait for the failed transaction to complete?"
   ]
  },
  {
   "cell_type": "code",
   "execution_count": 37,
   "metadata": {},
   "outputs": [
    {
     "name": "stdout",
     "output_type": "stream",
     "text": [
      "Empty transaction id.\n",
      "None\n"
     ]
    }
   ],
   "source": [
    "# Step 4: Wait for confirmation\n",
    "try:\n",
    "    txinfo = wait_for_confirmation(algod_client, txid)\n",
    "    print(txinfo)\n",
    "except TypeError as err:                                       # obtain error message\n",
    "    # print entire error message (rather cryptic!)\n",
    "    print(err)\n",
    "    # Give better error message\n",
    "    print(\"txid is empty\")"
   ]
  },
  {
   "cell_type": "markdown",
   "metadata": {},
   "source": [
    "### Wrong signature\n",
    "Bob tries to sign a transaction from Alice to Bob"
   ]
  },
  {
   "cell_type": "code",
   "execution_count": 38,
   "metadata": {},
   "outputs": [],
   "source": [
    "# Step 1: prepare\n",
    "sp        = algod_client.suggested_params()\n",
    "algo_prec = 1e6\n",
    "sender    = Alice['public']\n",
    "receiver  = Bob['public']\n",
    "amount    = 0.1\n",
    "amount_microalgo = int(amount * algo_prec)\n",
    "\n",
    "# Step 2: create unsigned TX\n",
    "unsigned_txn = PaymentTxn(sender, sp, receiver, amount_microalgo)\n",
    "\n",
    "# Step 3a: Sign\n",
    "signed_txn = unsigned_txn.sign(Bob['private'])                # <----------------- wrong person signs!"
   ]
  },
  {
   "cell_type": "code",
   "execution_count": 39,
   "metadata": {},
   "outputs": [
    {
     "name": "stdout",
     "output_type": "stream",
     "text": [
      "TransactionPool.Remember: transaction 3W2AUVO7KP6G7YWZR42ZIQZ6MVM5UZEKERZM7TUMPYA4AM6PIPGQ: should have been authorized by ALICEXOA4Q2OD5CKBYND4UX75K3TAODEC3XCVNQ3URMKUMZKUOTOSAQLIU but was actually authorized by BOB23JBQLW3AJREEG3KD7ULMAGYGVZ2LVF2OMZ2XBJIR64NO5P24XN7WEU\n",
      "Wrong signature error\n"
     ]
    }
   ],
   "source": [
    "# Step 3b: Send\n",
    "try:\n",
    "    txid = algod_client.send_transaction(signed_txn)\n",
    "except algosdk.error.AlgodHTTPError as err:\n",
    "    # print entire error message\n",
    "    print(err)\n",
    "    if (\"should have been authorized\" in str(err)):                # check for specific type of error\n",
    "        print(\"Wrong signature error\")         \n",
    "    txid = None"
   ]
  },
  {
   "cell_type": "markdown",
   "metadata": {},
   "source": [
    "### Sending the *indentical* transaction twice\n",
    "* It is not possible to send the *identical* transaction twice\n",
    "    * Reason: the transaction ID is calculated from the transaction data\n",
    "* \"Identical\" means ...\n",
    "    * same Sender\n",
    "    * same Recipient\n",
    "    * same Ammount\n",
    "    * same (suggested) parameters (including first/last round) $\\leftarrow$ change after 2-3 seconds"
   ]
  },
  {
   "cell_type": "code",
   "execution_count": 40,
   "metadata": {},
   "outputs": [],
   "source": [
    "# Step 1: prepare\n",
    "sp       = algod_client.suggested_params()\n",
    "algo_precision = 1e6\n",
    "sender   = Alice['public']\n",
    "receiver = Bob['public']\n",
    "amount   = 0.1\n",
    "amount_microalgo = int(amount * algo_precision)"
   ]
  },
  {
   "cell_type": "code",
   "execution_count": 41,
   "metadata": {},
   "outputs": [
    {
     "name": "stdout",
     "output_type": "stream",
     "text": [
      "Submitted with txID: 3W2AUVO7KP6G7YWZR42ZIQZ6MVM5UZEKERZM7TUMPYA4AM6PIPGQ\n"
     ]
    }
   ],
   "source": [
    "# Step 2: create unsigned TX\n",
    "unsigned_txn = PaymentTxn(sender, sp, receiver, amount_microalgo)\n",
    "\n",
    "# Step 3a: Sign\n",
    "signed_txn = unsigned_txn.sign(Alice['private'])\n",
    "\n",
    "# Step 3b: Send\n",
    "try:\n",
    "    txid = algod_client.send_transaction(signed_txn)\n",
    "    print(\"Submitted with txID: {}\".format(txid))\n",
    "except algosdk.error.AlgodHTTPError as err:\n",
    "    # print entire error message\n",
    "    print(err)\n",
    "    if (\"transaction already in ledger\" in str(err)):                # check for specific type of error\n",
    "        print(\"Identical transaction {} has been submitted twice.\".format(signed_txn.get_txid()))         \n",
    "    txid = None    # check for specific type of error"
   ]
  },
  {
   "cell_type": "markdown",
   "metadata": {},
   "source": [
    "**REPEAT** only step 2-3 $\\rightarrow$ error message<br>\n",
    "**REPEAT** only step 1-3 $\\rightarrow$ no error <br>"
   ]
  },
  {
   "cell_type": "markdown",
   "metadata": {},
   "source": [
    "#### See how the sp change\n",
    "* Re-run this after 2-3 seconds"
   ]
  },
  {
   "cell_type": "code",
   "execution_count": 42,
   "metadata": {
    "tags": []
   },
   "outputs": [
    {
     "name": "stdout",
     "output_type": "stream",
     "text": [
      "{\n",
      "    \"first\": 37363435,\n",
      "    \"last\": 37364435,\n",
      "    \"gh\": \"SGO1GKSzyE7IEPItTxCByw9x8FmnrCDexi9/cOUJOiI=\",\n",
      "    \"gen\": \"testnet-v1.0\",\n",
      "    \"fee\": 0,\n",
      "    \"flat_fee\": false,\n",
      "    \"consensus_version\": \"https://github.com/algorandfoundation/specs/tree/925a46433742afb0b51bb939354bd907fa88bf95\",\n",
      "    \"min_fee\": 1000\n",
      "}\n"
     ]
    }
   ],
   "source": [
    "sp = algod_client.suggested_params()\n",
    "print(json.dumps(vars(sp), indent=4))"
   ]
  },
  {
   "cell_type": "markdown",
   "metadata": {
    "tags": []
   },
   "source": [
    "## Appendix: Useful functions\n",
    "* The following functions are included in `algo_util.py`"
   ]
  },
  {
   "cell_type": "code",
   "execution_count": 43,
   "metadata": {},
   "outputs": [],
   "source": [
    "def wait_for_confirmation(client, txid):\n",
    "    # client = algosdk client\n",
    "    # txid = transaction ID, for example from send_payment()\n",
    "    # An ufficial Algorand function\n",
    "\n",
    "    txinfo = client.pending_transaction_info(txid)       # obtain transaction information\n",
    "    current_round = algod_client.status()[\"last-round\"]        # obtain last round number\n",
    "    print(\"Current round is  {}.\".format(current_round))\n",
    "    \n",
    "    # Wait for confirmation\n",
    "    while ( txinfo.get('confirmed-round') is None ):            # condition for waiting = 'confirmed-round' is empty\n",
    "        print(\"Waiting for round {} to finish.\".format(current_round))\n",
    "        algod_client.status_after_block(current_round)             # this wait for the round to finish\n",
    "        txinfo = algod_client.pending_transaction_info(txid)    # update transaction information\n",
    "        current_round += 1\n",
    "\n",
    "    print(\"Transaction {} confirmed in round {}.\".format(txid, txinfo.get('confirmed-round')))\n",
    "    return txinfo"
   ]
  },
  {
   "cell_type": "markdown",
   "metadata": {},
   "source": [
    "### *Python dict as transaction note\n",
    "* For attaching a Python dict as message to a note\n",
    "* Example `note_dict = {'from' : 'Bob', 'to' : 'Alice', 'message' : 'Many thanks'}"
   ]
  },
  {
   "cell_type": "code",
   "execution_count": 44,
   "metadata": {},
   "outputs": [],
   "source": [
    "def note_encode(note_dict):\n",
    "    # note dict ... a Python dictionary\n",
    "    note_json = json.dumps(note_dict)\n",
    "    note_byte = note_json.encode()     \n",
    "    return(note_byte)"
   ]
  },
  {
   "cell_type": "code",
   "execution_count": 45,
   "metadata": {},
   "outputs": [],
   "source": [
    "def note_decode(note_64):\n",
    "    # note64 =  note in base64 endocing\n",
    "    # returns a Python dict\n",
    "    import base64\n",
    "    message_base64 = txinfo['txn']['txn']['note']\n",
    "    message_byte   = base64.b64decode(message_base64)\n",
    "    message_json   = message_byte.decode()\n",
    "    message_dict   = json.loads( message_json )\n",
    "    return(message_dict)"
   ]
  }
 ],
 "metadata": {
  "kernelspec": {
   "display_name": "Python 3 (ipykernel)",
   "language": "python",
   "name": "python3"
  },
  "language_info": {
   "codemirror_mode": {
    "name": "ipython",
    "version": 3
   },
   "file_extension": ".py",
   "mimetype": "text/x-python",
   "name": "python",
   "nbconvert_exporter": "python",
   "pygments_lexer": "ipython3",
   "version": "3.10.13"
  }
 },
 "nbformat": 4,
 "nbformat_minor": 4
}
